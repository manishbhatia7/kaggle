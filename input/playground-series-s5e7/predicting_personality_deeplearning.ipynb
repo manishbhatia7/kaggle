{
 "cells": [
  {
   "cell_type": "code",
   "id": "initial_id",
   "metadata": {
    "collapsed": true,
    "ExecuteTime": {
     "end_time": "2025-07-21T07:21:16.657029Z",
     "start_time": "2025-07-21T07:21:16.643111Z"
    }
   },
   "source": [
    "import pandas as pd\n",
    "from sklearn.metrics import accuracy_score, confusion_matrix\n",
    "from tensorflow.python.keras.utils.np_utils import to_categorical\n",
    "import warnings\n",
    "warnings.filterwarnings('ignore')\n",
    "from sklearn.model_selection import GridSearchCV\n",
    "import numpy as np\n"
   ],
   "outputs": [],
   "execution_count": 32
  },
  {
   "metadata": {
    "ExecuteTime": {
     "end_time": "2025-07-21T07:21:16.699624Z",
     "start_time": "2025-07-21T07:21:16.666852Z"
    }
   },
   "cell_type": "code",
   "source": "data=pd.read_csv('/kaggle/input/playground-series-s5e7/personality_datasert.csv')",
   "id": "691aa273747047ad",
   "outputs": [],
   "execution_count": 33
  },
  {
   "metadata": {
    "ExecuteTime": {
     "end_time": "2025-07-21T07:21:16.774621Z",
     "start_time": "2025-07-21T07:21:16.761567Z"
    }
   },
   "cell_type": "code",
   "source": "data.head()",
   "id": "6c5e661caf712446",
   "outputs": [
    {
     "data": {
      "text/plain": [
       "   Time_spent_Alone Stage_fear  Social_event_attendance  Going_outside  \\\n",
       "0               4.0         No                      4.0            6.0   \n",
       "1               9.0        Yes                      0.0            0.0   \n",
       "2               9.0        Yes                      1.0            2.0   \n",
       "3               0.0         No                      6.0            7.0   \n",
       "4               3.0         No                      9.0            4.0   \n",
       "\n",
       "  Drained_after_socializing  Friends_circle_size  Post_frequency Personality  \n",
       "0                        No                 13.0             5.0   Extrovert  \n",
       "1                       Yes                  0.0             3.0   Introvert  \n",
       "2                       Yes                  5.0             2.0   Introvert  \n",
       "3                        No                 14.0             8.0   Extrovert  \n",
       "4                        No                  8.0             5.0   Extrovert  "
      ],
      "text/html": [
       "<div>\n",
       "<style scoped>\n",
       "    .dataframe tbody tr th:only-of-type {\n",
       "        vertical-align: middle;\n",
       "    }\n",
       "\n",
       "    .dataframe tbody tr th {\n",
       "        vertical-align: top;\n",
       "    }\n",
       "\n",
       "    .dataframe thead th {\n",
       "        text-align: right;\n",
       "    }\n",
       "</style>\n",
       "<table border=\"1\" class=\"dataframe\">\n",
       "  <thead>\n",
       "    <tr style=\"text-align: right;\">\n",
       "      <th></th>\n",
       "      <th>Time_spent_Alone</th>\n",
       "      <th>Stage_fear</th>\n",
       "      <th>Social_event_attendance</th>\n",
       "      <th>Going_outside</th>\n",
       "      <th>Drained_after_socializing</th>\n",
       "      <th>Friends_circle_size</th>\n",
       "      <th>Post_frequency</th>\n",
       "      <th>Personality</th>\n",
       "    </tr>\n",
       "  </thead>\n",
       "  <tbody>\n",
       "    <tr>\n",
       "      <th>0</th>\n",
       "      <td>4.0</td>\n",
       "      <td>No</td>\n",
       "      <td>4.0</td>\n",
       "      <td>6.0</td>\n",
       "      <td>No</td>\n",
       "      <td>13.0</td>\n",
       "      <td>5.0</td>\n",
       "      <td>Extrovert</td>\n",
       "    </tr>\n",
       "    <tr>\n",
       "      <th>1</th>\n",
       "      <td>9.0</td>\n",
       "      <td>Yes</td>\n",
       "      <td>0.0</td>\n",
       "      <td>0.0</td>\n",
       "      <td>Yes</td>\n",
       "      <td>0.0</td>\n",
       "      <td>3.0</td>\n",
       "      <td>Introvert</td>\n",
       "    </tr>\n",
       "    <tr>\n",
       "      <th>2</th>\n",
       "      <td>9.0</td>\n",
       "      <td>Yes</td>\n",
       "      <td>1.0</td>\n",
       "      <td>2.0</td>\n",
       "      <td>Yes</td>\n",
       "      <td>5.0</td>\n",
       "      <td>2.0</td>\n",
       "      <td>Introvert</td>\n",
       "    </tr>\n",
       "    <tr>\n",
       "      <th>3</th>\n",
       "      <td>0.0</td>\n",
       "      <td>No</td>\n",
       "      <td>6.0</td>\n",
       "      <td>7.0</td>\n",
       "      <td>No</td>\n",
       "      <td>14.0</td>\n",
       "      <td>8.0</td>\n",
       "      <td>Extrovert</td>\n",
       "    </tr>\n",
       "    <tr>\n",
       "      <th>4</th>\n",
       "      <td>3.0</td>\n",
       "      <td>No</td>\n",
       "      <td>9.0</td>\n",
       "      <td>4.0</td>\n",
       "      <td>No</td>\n",
       "      <td>8.0</td>\n",
       "      <td>5.0</td>\n",
       "      <td>Extrovert</td>\n",
       "    </tr>\n",
       "  </tbody>\n",
       "</table>\n",
       "</div>"
      ]
     },
     "execution_count": 34,
     "metadata": {},
     "output_type": "execute_result"
    }
   ],
   "execution_count": 34
  },
  {
   "metadata": {
    "ExecuteTime": {
     "end_time": "2025-07-21T07:21:16.829103Z",
     "start_time": "2025-07-21T07:21:16.817277Z"
    }
   },
   "cell_type": "code",
   "source": "data.info()",
   "id": "5c685ad62b62b379",
   "outputs": [
    {
     "name": "stdout",
     "output_type": "stream",
     "text": [
      "<class 'pandas.core.frame.DataFrame'>\n",
      "RangeIndex: 2900 entries, 0 to 2899\n",
      "Data columns (total 8 columns):\n",
      " #   Column                     Non-Null Count  Dtype  \n",
      "---  ------                     --------------  -----  \n",
      " 0   Time_spent_Alone           2900 non-null   float64\n",
      " 1   Stage_fear                 2900 non-null   object \n",
      " 2   Social_event_attendance    2900 non-null   float64\n",
      " 3   Going_outside              2900 non-null   float64\n",
      " 4   Drained_after_socializing  2900 non-null   object \n",
      " 5   Friends_circle_size        2900 non-null   float64\n",
      " 6   Post_frequency             2900 non-null   float64\n",
      " 7   Personality                2900 non-null   object \n",
      "dtypes: float64(5), object(3)\n",
      "memory usage: 181.4+ KB\n"
     ]
    }
   ],
   "execution_count": 35
  },
  {
   "metadata": {
    "ExecuteTime": {
     "end_time": "2025-07-21T07:21:16.955824Z",
     "start_time": "2025-07-21T07:21:16.951199Z"
    }
   },
   "cell_type": "code",
   "source": [
    "from keras.models import Sequential\n",
    "from keras.layers import Dense,Dropout\n",
    "from scikeras.wrappers import KerasClassifier\n",
    "import numpy\n",
    "from sklearn.model_selection import train_test_split,GridSearchCV\n"
   ],
   "id": "2fdac6a66f4dc8d5",
   "outputs": [],
   "execution_count": 36
  },
  {
   "metadata": {
    "ExecuteTime": {
     "end_time": "2025-07-21T07:21:17.067921Z",
     "start_time": "2025-07-21T07:21:17.060229Z"
    }
   },
   "cell_type": "code",
   "source": [
    "def create_model(optimizer='rmsprop',kernel_initalizer='uniform'):\n",
    "    model = Sequential()\n",
    "    model.add(Dense(64, activation='relu', input_shape=(7,),kernel_initializer=kernel_initalizer))\n",
    "    model.add(Dropout(0.2))\n",
    "    model.add(Dense(16, activation='relu',kernel_initializer=kernel_initalizer))\n",
    "    model.add(Dropout(0.2))\n",
    "    model.add(Dense(2, activation='sigmoid',kernel_initializer=kernel_initalizer))\n",
    "    model.compile(loss='binary_crossentropy',optimizer=optimizer,metrics=['accuracy'])\n",
    "    return model\n",
    "\n"
   ],
   "id": "ccf19edccc5148ad",
   "outputs": [],
   "execution_count": 37
  },
  {
   "metadata": {
    "ExecuteTime": {
     "end_time": "2025-07-21T07:21:17.138608Z",
     "start_time": "2025-07-21T07:21:17.126780Z"
    }
   },
   "cell_type": "code",
   "source": "data.head()",
   "id": "7e40578765d2378f",
   "outputs": [
    {
     "data": {
      "text/plain": [
       "   Time_spent_Alone Stage_fear  Social_event_attendance  Going_outside  \\\n",
       "0               4.0         No                      4.0            6.0   \n",
       "1               9.0        Yes                      0.0            0.0   \n",
       "2               9.0        Yes                      1.0            2.0   \n",
       "3               0.0         No                      6.0            7.0   \n",
       "4               3.0         No                      9.0            4.0   \n",
       "\n",
       "  Drained_after_socializing  Friends_circle_size  Post_frequency Personality  \n",
       "0                        No                 13.0             5.0   Extrovert  \n",
       "1                       Yes                  0.0             3.0   Introvert  \n",
       "2                       Yes                  5.0             2.0   Introvert  \n",
       "3                        No                 14.0             8.0   Extrovert  \n",
       "4                        No                  8.0             5.0   Extrovert  "
      ],
      "text/html": [
       "<div>\n",
       "<style scoped>\n",
       "    .dataframe tbody tr th:only-of-type {\n",
       "        vertical-align: middle;\n",
       "    }\n",
       "\n",
       "    .dataframe tbody tr th {\n",
       "        vertical-align: top;\n",
       "    }\n",
       "\n",
       "    .dataframe thead th {\n",
       "        text-align: right;\n",
       "    }\n",
       "</style>\n",
       "<table border=\"1\" class=\"dataframe\">\n",
       "  <thead>\n",
       "    <tr style=\"text-align: right;\">\n",
       "      <th></th>\n",
       "      <th>Time_spent_Alone</th>\n",
       "      <th>Stage_fear</th>\n",
       "      <th>Social_event_attendance</th>\n",
       "      <th>Going_outside</th>\n",
       "      <th>Drained_after_socializing</th>\n",
       "      <th>Friends_circle_size</th>\n",
       "      <th>Post_frequency</th>\n",
       "      <th>Personality</th>\n",
       "    </tr>\n",
       "  </thead>\n",
       "  <tbody>\n",
       "    <tr>\n",
       "      <th>0</th>\n",
       "      <td>4.0</td>\n",
       "      <td>No</td>\n",
       "      <td>4.0</td>\n",
       "      <td>6.0</td>\n",
       "      <td>No</td>\n",
       "      <td>13.0</td>\n",
       "      <td>5.0</td>\n",
       "      <td>Extrovert</td>\n",
       "    </tr>\n",
       "    <tr>\n",
       "      <th>1</th>\n",
       "      <td>9.0</td>\n",
       "      <td>Yes</td>\n",
       "      <td>0.0</td>\n",
       "      <td>0.0</td>\n",
       "      <td>Yes</td>\n",
       "      <td>0.0</td>\n",
       "      <td>3.0</td>\n",
       "      <td>Introvert</td>\n",
       "    </tr>\n",
       "    <tr>\n",
       "      <th>2</th>\n",
       "      <td>9.0</td>\n",
       "      <td>Yes</td>\n",
       "      <td>1.0</td>\n",
       "      <td>2.0</td>\n",
       "      <td>Yes</td>\n",
       "      <td>5.0</td>\n",
       "      <td>2.0</td>\n",
       "      <td>Introvert</td>\n",
       "    </tr>\n",
       "    <tr>\n",
       "      <th>3</th>\n",
       "      <td>0.0</td>\n",
       "      <td>No</td>\n",
       "      <td>6.0</td>\n",
       "      <td>7.0</td>\n",
       "      <td>No</td>\n",
       "      <td>14.0</td>\n",
       "      <td>8.0</td>\n",
       "      <td>Extrovert</td>\n",
       "    </tr>\n",
       "    <tr>\n",
       "      <th>4</th>\n",
       "      <td>3.0</td>\n",
       "      <td>No</td>\n",
       "      <td>9.0</td>\n",
       "      <td>4.0</td>\n",
       "      <td>No</td>\n",
       "      <td>8.0</td>\n",
       "      <td>5.0</td>\n",
       "      <td>Extrovert</td>\n",
       "    </tr>\n",
       "  </tbody>\n",
       "</table>\n",
       "</div>"
      ]
     },
     "execution_count": 38,
     "metadata": {},
     "output_type": "execute_result"
    }
   ],
   "execution_count": 38
  },
  {
   "metadata": {
    "ExecuteTime": {
     "end_time": "2025-07-21T07:21:17.571161Z",
     "start_time": "2025-07-21T07:21:17.564458Z"
    }
   },
   "cell_type": "code",
   "source": "data.columns",
   "id": "df834021bf9a5673",
   "outputs": [
    {
     "data": {
      "text/plain": [
       "Index(['Time_spent_Alone', 'Stage_fear', 'Social_event_attendance',\n",
       "       'Going_outside', 'Drained_after_socializing', 'Friends_circle_size',\n",
       "       'Post_frequency', 'Personality'],\n",
       "      dtype='object')"
      ]
     },
     "execution_count": 39,
     "metadata": {},
     "output_type": "execute_result"
    }
   ],
   "execution_count": 39
  },
  {
   "metadata": {
    "ExecuteTime": {
     "end_time": "2025-07-21T07:21:17.669842Z",
     "start_time": "2025-07-21T07:21:17.661993Z"
    }
   },
   "cell_type": "code",
   "source": "categorical_cols=data.select_dtypes(include='object').columns.to_list()",
   "id": "5b72b14675c18e02",
   "outputs": [],
   "execution_count": 40
  },
  {
   "metadata": {
    "ExecuteTime": {
     "end_time": "2025-07-21T07:21:17.768307Z",
     "start_time": "2025-07-21T07:21:17.761372Z"
    }
   },
   "cell_type": "code",
   "source": "print(categorical_cols)",
   "id": "e955837f4730c410",
   "outputs": [
    {
     "name": "stdout",
     "output_type": "stream",
     "text": [
      "['Stage_fear', 'Drained_after_socializing', 'Personality']\n"
     ]
    }
   ],
   "execution_count": 41
  },
  {
   "metadata": {
    "ExecuteTime": {
     "end_time": "2025-07-21T07:21:17.865623Z",
     "start_time": "2025-07-21T07:21:17.845894Z"
    }
   },
   "cell_type": "code",
   "source": [
    "X=data.iloc[:,:-1]\n",
    "y=data.iloc[:,-1]"
   ],
   "id": "685ab57157939a3a",
   "outputs": [],
   "execution_count": 42
  },
  {
   "metadata": {
    "ExecuteTime": {
     "end_time": "2025-07-21T07:21:17.978196Z",
     "start_time": "2025-07-21T07:21:17.957589Z"
    }
   },
   "cell_type": "code",
   "source": "print(X)",
   "id": "c65d2ef99ae2031c",
   "outputs": [
    {
     "name": "stdout",
     "output_type": "stream",
     "text": [
      "      Time_spent_Alone Stage_fear  Social_event_attendance  Going_outside  \\\n",
      "0                  4.0         No                      4.0            6.0   \n",
      "1                  9.0        Yes                      0.0            0.0   \n",
      "2                  9.0        Yes                      1.0            2.0   \n",
      "3                  0.0         No                      6.0            7.0   \n",
      "4                  3.0         No                      9.0            4.0   \n",
      "...                ...        ...                      ...            ...   \n",
      "2895               3.0         No                      7.0            6.0   \n",
      "2896               3.0         No                      8.0            3.0   \n",
      "2897               4.0        Yes                      1.0            1.0   \n",
      "2898              11.0        Yes                      1.0            3.0   \n",
      "2899               3.0         No                      6.0            6.0   \n",
      "\n",
      "     Drained_after_socializing  Friends_circle_size  Post_frequency  \n",
      "0                           No                 13.0             5.0  \n",
      "1                          Yes                  0.0             3.0  \n",
      "2                          Yes                  5.0             2.0  \n",
      "3                           No                 14.0             8.0  \n",
      "4                           No                  8.0             5.0  \n",
      "...                        ...                  ...             ...  \n",
      "2895                        No                  6.0             6.0  \n",
      "2896                        No                 14.0             9.0  \n",
      "2897                       Yes                  4.0             0.0  \n",
      "2898                       Yes                  2.0             0.0  \n",
      "2899                        No                  6.0             9.0  \n",
      "\n",
      "[2900 rows x 7 columns]\n"
     ]
    }
   ],
   "execution_count": 43
  },
  {
   "metadata": {
    "ExecuteTime": {
     "end_time": "2025-07-21T07:21:18.071777Z",
     "start_time": "2025-07-21T07:21:18.057363Z"
    }
   },
   "cell_type": "code",
   "source": "print(y)",
   "id": "cd1acdab325e9caa",
   "outputs": [
    {
     "name": "stdout",
     "output_type": "stream",
     "text": [
      "0       Extrovert\n",
      "1       Introvert\n",
      "2       Introvert\n",
      "3       Extrovert\n",
      "4       Extrovert\n",
      "          ...    \n",
      "2895    Extrovert\n",
      "2896    Extrovert\n",
      "2897    Introvert\n",
      "2898    Introvert\n",
      "2899    Extrovert\n",
      "Name: Personality, Length: 2900, dtype: object\n"
     ]
    }
   ],
   "execution_count": 44
  },
  {
   "metadata": {
    "ExecuteTime": {
     "end_time": "2025-07-21T07:21:18.157204Z",
     "start_time": "2025-07-21T07:21:18.145276Z"
    }
   },
   "cell_type": "code",
   "source": "X_train,X_test,y_train,y_test = train_test_split(X,y,test_size=0.2,random_state=42,shuffle=False)",
   "id": "992f4ba585288cb2",
   "outputs": [],
   "execution_count": 45
  },
  {
   "metadata": {
    "ExecuteTime": {
     "end_time": "2025-07-21T07:21:18.219921Z",
     "start_time": "2025-07-21T07:21:18.211397Z"
    }
   },
   "cell_type": "code",
   "source": [
    "print(X_train.shape)\n",
    "print(X_test.shape)\n",
    "print(y_train.shape)\n",
    "print(y_test.shape)"
   ],
   "id": "7a06a3a6526a99f0",
   "outputs": [
    {
     "name": "stdout",
     "output_type": "stream",
     "text": [
      "(2320, 7)\n",
      "(580, 7)\n",
      "(2320,)\n",
      "(580,)\n"
     ]
    }
   ],
   "execution_count": 46
  },
  {
   "metadata": {
    "ExecuteTime": {
     "end_time": "2025-07-21T07:21:18.314461Z",
     "start_time": "2025-07-21T07:21:18.304262Z"
    }
   },
   "cell_type": "code",
   "source": [
    "from sklearn.preprocessing import LabelEncoder\n",
    "le=LabelEncoder()\n",
    "y_train=le.fit_transform(y_train)\n",
    "y_test=le.transform(y_test)"
   ],
   "id": "cf5f9330a3484dd0",
   "outputs": [],
   "execution_count": 47
  },
  {
   "metadata": {
    "ExecuteTime": {
     "end_time": "2025-07-21T07:21:18.381714Z",
     "start_time": "2025-07-21T07:21:18.372581Z"
    }
   },
   "cell_type": "code",
   "source": [
    "num_classes=2\n",
    "y_train=to_categorical(y_train,num_classes=num_classes)\n",
    "y_test=to_categorical(y_test,num_classes=num_classes)"
   ],
   "id": "f269f893e5129256",
   "outputs": [],
   "execution_count": 48
  },
  {
   "metadata": {
    "ExecuteTime": {
     "end_time": "2025-07-21T07:21:18.445909Z",
     "start_time": "2025-07-21T07:21:18.437198Z"
    }
   },
   "cell_type": "code",
   "source": "y_train",
   "id": "9d45cbeb8442b9d3",
   "outputs": [
    {
     "data": {
      "text/plain": [
       "array([[1., 0.],\n",
       "       [0., 1.],\n",
       "       [0., 1.],\n",
       "       ...,\n",
       "       [1., 0.],\n",
       "       [1., 0.],\n",
       "       [0., 1.]], dtype=float32)"
      ]
     },
     "execution_count": 49,
     "metadata": {},
     "output_type": "execute_result"
    }
   ],
   "execution_count": 49
  },
  {
   "metadata": {
    "ExecuteTime": {
     "end_time": "2025-07-21T07:21:18.645022Z",
     "start_time": "2025-07-21T07:21:18.624830Z"
    }
   },
   "cell_type": "code",
   "source": "X_train.head()",
   "id": "ef4b8f7a756a20d7",
   "outputs": [
    {
     "data": {
      "text/plain": [
       "   Time_spent_Alone Stage_fear  Social_event_attendance  Going_outside  \\\n",
       "0               4.0         No                      4.0            6.0   \n",
       "1               9.0        Yes                      0.0            0.0   \n",
       "2               9.0        Yes                      1.0            2.0   \n",
       "3               0.0         No                      6.0            7.0   \n",
       "4               3.0         No                      9.0            4.0   \n",
       "\n",
       "  Drained_after_socializing  Friends_circle_size  Post_frequency  \n",
       "0                        No                 13.0             5.0  \n",
       "1                       Yes                  0.0             3.0  \n",
       "2                       Yes                  5.0             2.0  \n",
       "3                        No                 14.0             8.0  \n",
       "4                        No                  8.0             5.0  "
      ],
      "text/html": [
       "<div>\n",
       "<style scoped>\n",
       "    .dataframe tbody tr th:only-of-type {\n",
       "        vertical-align: middle;\n",
       "    }\n",
       "\n",
       "    .dataframe tbody tr th {\n",
       "        vertical-align: top;\n",
       "    }\n",
       "\n",
       "    .dataframe thead th {\n",
       "        text-align: right;\n",
       "    }\n",
       "</style>\n",
       "<table border=\"1\" class=\"dataframe\">\n",
       "  <thead>\n",
       "    <tr style=\"text-align: right;\">\n",
       "      <th></th>\n",
       "      <th>Time_spent_Alone</th>\n",
       "      <th>Stage_fear</th>\n",
       "      <th>Social_event_attendance</th>\n",
       "      <th>Going_outside</th>\n",
       "      <th>Drained_after_socializing</th>\n",
       "      <th>Friends_circle_size</th>\n",
       "      <th>Post_frequency</th>\n",
       "    </tr>\n",
       "  </thead>\n",
       "  <tbody>\n",
       "    <tr>\n",
       "      <th>0</th>\n",
       "      <td>4.0</td>\n",
       "      <td>No</td>\n",
       "      <td>4.0</td>\n",
       "      <td>6.0</td>\n",
       "      <td>No</td>\n",
       "      <td>13.0</td>\n",
       "      <td>5.0</td>\n",
       "    </tr>\n",
       "    <tr>\n",
       "      <th>1</th>\n",
       "      <td>9.0</td>\n",
       "      <td>Yes</td>\n",
       "      <td>0.0</td>\n",
       "      <td>0.0</td>\n",
       "      <td>Yes</td>\n",
       "      <td>0.0</td>\n",
       "      <td>3.0</td>\n",
       "    </tr>\n",
       "    <tr>\n",
       "      <th>2</th>\n",
       "      <td>9.0</td>\n",
       "      <td>Yes</td>\n",
       "      <td>1.0</td>\n",
       "      <td>2.0</td>\n",
       "      <td>Yes</td>\n",
       "      <td>5.0</td>\n",
       "      <td>2.0</td>\n",
       "    </tr>\n",
       "    <tr>\n",
       "      <th>3</th>\n",
       "      <td>0.0</td>\n",
       "      <td>No</td>\n",
       "      <td>6.0</td>\n",
       "      <td>7.0</td>\n",
       "      <td>No</td>\n",
       "      <td>14.0</td>\n",
       "      <td>8.0</td>\n",
       "    </tr>\n",
       "    <tr>\n",
       "      <th>4</th>\n",
       "      <td>3.0</td>\n",
       "      <td>No</td>\n",
       "      <td>9.0</td>\n",
       "      <td>4.0</td>\n",
       "      <td>No</td>\n",
       "      <td>8.0</td>\n",
       "      <td>5.0</td>\n",
       "    </tr>\n",
       "  </tbody>\n",
       "</table>\n",
       "</div>"
      ]
     },
     "execution_count": 50,
     "metadata": {},
     "output_type": "execute_result"
    }
   ],
   "execution_count": 50
  },
  {
   "metadata": {
    "ExecuteTime": {
     "end_time": "2025-07-21T07:21:18.963058Z",
     "start_time": "2025-07-21T07:21:18.954419Z"
    }
   },
   "cell_type": "code",
   "source": [
    "cat_cols=['Stage_fear','Drained_after_socializing']\n",
    "num_cols=['Time_spent_Alone','Social_event_attendance','Going_outside','Friends_circle_size','Post_frequency']\n"
   ],
   "id": "5070bfad4fc06282",
   "outputs": [],
   "execution_count": 51
  },
  {
   "metadata": {
    "ExecuteTime": {
     "end_time": "2025-07-21T07:21:19.122234Z",
     "start_time": "2025-07-21T07:21:19.106988Z"
    }
   },
   "cell_type": "code",
   "source": [
    "from sklearn.compose import ColumnTransformer\n",
    "from sklearn.preprocessing import StandardScaler\n",
    "from sklearn.pipeline import make_pipeline\n",
    "from sklearn.preprocessing import OrdinalEncoder"
   ],
   "id": "c9f0511bc31ff352",
   "outputs": [],
   "execution_count": 52
  },
  {
   "metadata": {
    "ExecuteTime": {
     "end_time": "2025-07-21T07:21:19.300843Z",
     "start_time": "2025-07-21T07:21:19.278520Z"
    }
   },
   "cell_type": "code",
   "source": [
    "cat_pipeline=make_pipeline(OrdinalEncoder(handle_unknown='use_encoded_value',unknown_value=np.nan))\n",
    "num_pipeline=make_pipeline(StandardScaler())"
   ],
   "id": "2e94e74a23e147d8",
   "outputs": [],
   "execution_count": 53
  },
  {
   "metadata": {
    "ExecuteTime": {
     "end_time": "2025-07-21T07:21:19.441262Z",
     "start_time": "2025-07-21T07:21:19.434243Z"
    }
   },
   "cell_type": "code",
   "source": "ct=ColumnTransformer([(\"cat\",cat_pipeline,cat_cols),(\"num\",num_pipeline,num_cols)],verbose_feature_names_out=False).set_output(transform='pandas')",
   "id": "7e0dfbff33b92e14",
   "outputs": [],
   "execution_count": 54
  },
  {
   "metadata": {
    "ExecuteTime": {
     "end_time": "2025-07-21T07:21:19.555240Z",
     "start_time": "2025-07-21T07:21:19.514047Z"
    }
   },
   "cell_type": "code",
   "source": [
    "X_train=pd.DataFrame(ct.fit_transform(X_train),columns=ct.get_feature_names_out())\n",
    "X_test=pd.DataFrame(ct.transform(X_test),columns=ct.get_feature_names_out())"
   ],
   "id": "9661ff535f4bbd17",
   "outputs": [],
   "execution_count": 55
  },
  {
   "metadata": {
    "ExecuteTime": {
     "end_time": "2025-07-21T07:21:19.633975Z",
     "start_time": "2025-07-21T07:21:19.611706Z"
    }
   },
   "cell_type": "code",
   "source": "X_train.head()",
   "id": "356684c2f031d03f",
   "outputs": [
    {
     "data": {
      "text/plain": [
       "   Stage_fear  Drained_after_socializing  Time_spent_Alone  \\\n",
       "0         0.0                        0.0         -0.163027   \n",
       "1         1.0                        1.0          1.293601   \n",
       "2         1.0                        1.0          1.293601   \n",
       "3         0.0                        0.0         -1.328328   \n",
       "4         0.0                        0.0         -0.454352   \n",
       "\n",
       "   Social_event_attendance  Going_outside  Friends_circle_size  Post_frequency  \n",
       "0                 0.042440       1.319578             1.616392        0.510592  \n",
       "1                -1.355529      -1.335217            -1.456407       -0.180949  \n",
       "2                -1.006037      -0.450285            -0.274561       -0.526720  \n",
       "3                 0.741424       1.762044             1.852761        1.547903  \n",
       "4                 1.789900       0.434646             0.434546        0.510592  "
      ],
      "text/html": [
       "<div>\n",
       "<style scoped>\n",
       "    .dataframe tbody tr th:only-of-type {\n",
       "        vertical-align: middle;\n",
       "    }\n",
       "\n",
       "    .dataframe tbody tr th {\n",
       "        vertical-align: top;\n",
       "    }\n",
       "\n",
       "    .dataframe thead th {\n",
       "        text-align: right;\n",
       "    }\n",
       "</style>\n",
       "<table border=\"1\" class=\"dataframe\">\n",
       "  <thead>\n",
       "    <tr style=\"text-align: right;\">\n",
       "      <th></th>\n",
       "      <th>Stage_fear</th>\n",
       "      <th>Drained_after_socializing</th>\n",
       "      <th>Time_spent_Alone</th>\n",
       "      <th>Social_event_attendance</th>\n",
       "      <th>Going_outside</th>\n",
       "      <th>Friends_circle_size</th>\n",
       "      <th>Post_frequency</th>\n",
       "    </tr>\n",
       "  </thead>\n",
       "  <tbody>\n",
       "    <tr>\n",
       "      <th>0</th>\n",
       "      <td>0.0</td>\n",
       "      <td>0.0</td>\n",
       "      <td>-0.163027</td>\n",
       "      <td>0.042440</td>\n",
       "      <td>1.319578</td>\n",
       "      <td>1.616392</td>\n",
       "      <td>0.510592</td>\n",
       "    </tr>\n",
       "    <tr>\n",
       "      <th>1</th>\n",
       "      <td>1.0</td>\n",
       "      <td>1.0</td>\n",
       "      <td>1.293601</td>\n",
       "      <td>-1.355529</td>\n",
       "      <td>-1.335217</td>\n",
       "      <td>-1.456407</td>\n",
       "      <td>-0.180949</td>\n",
       "    </tr>\n",
       "    <tr>\n",
       "      <th>2</th>\n",
       "      <td>1.0</td>\n",
       "      <td>1.0</td>\n",
       "      <td>1.293601</td>\n",
       "      <td>-1.006037</td>\n",
       "      <td>-0.450285</td>\n",
       "      <td>-0.274561</td>\n",
       "      <td>-0.526720</td>\n",
       "    </tr>\n",
       "    <tr>\n",
       "      <th>3</th>\n",
       "      <td>0.0</td>\n",
       "      <td>0.0</td>\n",
       "      <td>-1.328328</td>\n",
       "      <td>0.741424</td>\n",
       "      <td>1.762044</td>\n",
       "      <td>1.852761</td>\n",
       "      <td>1.547903</td>\n",
       "    </tr>\n",
       "    <tr>\n",
       "      <th>4</th>\n",
       "      <td>0.0</td>\n",
       "      <td>0.0</td>\n",
       "      <td>-0.454352</td>\n",
       "      <td>1.789900</td>\n",
       "      <td>0.434646</td>\n",
       "      <td>0.434546</td>\n",
       "      <td>0.510592</td>\n",
       "    </tr>\n",
       "  </tbody>\n",
       "</table>\n",
       "</div>"
      ]
     },
     "execution_count": 56,
     "metadata": {},
     "output_type": "execute_result"
    }
   ],
   "execution_count": 56
  },
  {
   "metadata": {
    "ExecuteTime": {
     "end_time": "2025-07-21T07:21:19.789903Z",
     "start_time": "2025-07-21T07:21:19.785312Z"
    }
   },
   "cell_type": "code",
   "source": "",
   "id": "d37825fced652e6c",
   "outputs": [],
   "execution_count": null
  },
  {
   "metadata": {
    "ExecuteTime": {
     "end_time": "2025-07-21T07:21:19.907677Z",
     "start_time": "2025-07-21T07:21:19.890801Z"
    }
   },
   "cell_type": "code",
   "source": "X_test.head()",
   "id": "61019d5acf0b9316",
   "outputs": [
    {
     "data": {
      "text/plain": [
       "      Stage_fear  Drained_after_socializing  Time_spent_Alone  \\\n",
       "2320         0.0                        0.0         -0.015670   \n",
       "2321         0.0                        0.0         -0.454352   \n",
       "2322         1.0                        1.0          1.293601   \n",
       "2323         0.0                        0.0         -0.454352   \n",
       "2324         1.0                        1.0          0.419624   \n",
       "\n",
       "      Social_event_attendance  Going_outside  Friends_circle_size  \\\n",
       "2320                 0.741424      -0.007819             1.380023   \n",
       "2321                 0.391932       1.319578             2.089130   \n",
       "2322                -0.656545      -0.450285            -1.220038   \n",
       "2323                 1.440408       1.319578             0.198177   \n",
       "2324                -0.656545      -0.450285            -0.510931   \n",
       "\n",
       "      Post_frequency  \n",
       "2320        0.510592  \n",
       "2321        0.510592  \n",
       "2322       -0.526720  \n",
       "2323        1.893673  \n",
       "2324       -1.218261  "
      ],
      "text/html": [
       "<div>\n",
       "<style scoped>\n",
       "    .dataframe tbody tr th:only-of-type {\n",
       "        vertical-align: middle;\n",
       "    }\n",
       "\n",
       "    .dataframe tbody tr th {\n",
       "        vertical-align: top;\n",
       "    }\n",
       "\n",
       "    .dataframe thead th {\n",
       "        text-align: right;\n",
       "    }\n",
       "</style>\n",
       "<table border=\"1\" class=\"dataframe\">\n",
       "  <thead>\n",
       "    <tr style=\"text-align: right;\">\n",
       "      <th></th>\n",
       "      <th>Stage_fear</th>\n",
       "      <th>Drained_after_socializing</th>\n",
       "      <th>Time_spent_Alone</th>\n",
       "      <th>Social_event_attendance</th>\n",
       "      <th>Going_outside</th>\n",
       "      <th>Friends_circle_size</th>\n",
       "      <th>Post_frequency</th>\n",
       "    </tr>\n",
       "  </thead>\n",
       "  <tbody>\n",
       "    <tr>\n",
       "      <th>2320</th>\n",
       "      <td>0.0</td>\n",
       "      <td>0.0</td>\n",
       "      <td>-0.015670</td>\n",
       "      <td>0.741424</td>\n",
       "      <td>-0.007819</td>\n",
       "      <td>1.380023</td>\n",
       "      <td>0.510592</td>\n",
       "    </tr>\n",
       "    <tr>\n",
       "      <th>2321</th>\n",
       "      <td>0.0</td>\n",
       "      <td>0.0</td>\n",
       "      <td>-0.454352</td>\n",
       "      <td>0.391932</td>\n",
       "      <td>1.319578</td>\n",
       "      <td>2.089130</td>\n",
       "      <td>0.510592</td>\n",
       "    </tr>\n",
       "    <tr>\n",
       "      <th>2322</th>\n",
       "      <td>1.0</td>\n",
       "      <td>1.0</td>\n",
       "      <td>1.293601</td>\n",
       "      <td>-0.656545</td>\n",
       "      <td>-0.450285</td>\n",
       "      <td>-1.220038</td>\n",
       "      <td>-0.526720</td>\n",
       "    </tr>\n",
       "    <tr>\n",
       "      <th>2323</th>\n",
       "      <td>0.0</td>\n",
       "      <td>0.0</td>\n",
       "      <td>-0.454352</td>\n",
       "      <td>1.440408</td>\n",
       "      <td>1.319578</td>\n",
       "      <td>0.198177</td>\n",
       "      <td>1.893673</td>\n",
       "    </tr>\n",
       "    <tr>\n",
       "      <th>2324</th>\n",
       "      <td>1.0</td>\n",
       "      <td>1.0</td>\n",
       "      <td>0.419624</td>\n",
       "      <td>-0.656545</td>\n",
       "      <td>-0.450285</td>\n",
       "      <td>-0.510931</td>\n",
       "      <td>-1.218261</td>\n",
       "    </tr>\n",
       "  </tbody>\n",
       "</table>\n",
       "</div>"
      ]
     },
     "execution_count": 57,
     "metadata": {},
     "output_type": "execute_result"
    }
   ],
   "execution_count": 57
  },
  {
   "metadata": {
    "ExecuteTime": {
     "end_time": "2025-07-21T07:21:20.060248Z",
     "start_time": "2025-07-21T07:21:20.054593Z"
    }
   },
   "cell_type": "code",
   "source": "#Best: 0.939224 using {'batch_size': 10, 'epochs': 50, 'optimizer': 'rmsprop'}",
   "id": "cdef214207fd5bad",
   "outputs": [],
   "execution_count": 58
  },
  {
   "metadata": {
    "ExecuteTime": {
     "end_time": "2025-07-21T07:21:46.889321Z",
     "start_time": "2025-07-21T07:21:20.166434Z"
    }
   },
   "cell_type": "code",
   "source": [
    "model=create_model()\n",
    "model.compile(loss='binary_crossentropy',optimizer='rmsprop',metrics=['accuracy'])\n",
    "history=model.fit(X_train,y_train,batch_size=10,epochs=50,verbose=1,validation_data=(X_test,y_test))\n",
    "_, train_acc = model.evaluate(X_train,y_train,verbose=0)\n",
    "_, test_acc = model.evaluate(X_test,y_test,verbose=0)\n",
    "print('Train:%.3f, Test:%.3f' % (train_acc, test_acc))"
   ],
   "id": "89d77465839d3c69",
   "outputs": [
    {
     "name": "stdout",
     "output_type": "stream",
     "text": [
      "Epoch 1/50\n",
      "\u001B[1m232/232\u001B[0m \u001B[32m━━━━━━━━━━━━━━━━━━━━\u001B[0m\u001B[37m\u001B[0m \u001B[1m2s\u001B[0m 4ms/step - accuracy: 0.8618 - loss: 0.5398 - val_accuracy: 0.9155 - val_loss: 0.3508\n",
      "Epoch 2/50\n",
      "\u001B[1m232/232\u001B[0m \u001B[32m━━━━━━━━━━━━━━━━━━━━\u001B[0m\u001B[37m\u001B[0m \u001B[1m1s\u001B[0m 3ms/step - accuracy: 0.9363 - loss: 0.2761 - val_accuracy: 0.9155 - val_loss: 0.3514\n",
      "Epoch 3/50\n",
      "\u001B[1m232/232\u001B[0m \u001B[32m━━━━━━━━━━━━━━━━━━━━\u001B[0m\u001B[37m\u001B[0m \u001B[1m1s\u001B[0m 2ms/step - accuracy: 0.9413 - loss: 0.2589 - val_accuracy: 0.9155 - val_loss: 0.3429\n",
      "Epoch 4/50\n",
      "\u001B[1m232/232\u001B[0m \u001B[32m━━━━━━━━━━━━━━━━━━━━\u001B[0m\u001B[37m\u001B[0m \u001B[1m1s\u001B[0m 2ms/step - accuracy: 0.9421 - loss: 0.2493 - val_accuracy: 0.9155 - val_loss: 0.3401\n",
      "Epoch 5/50\n",
      "\u001B[1m232/232\u001B[0m \u001B[32m━━━━━━━━━━━━━━━━━━━━\u001B[0m\u001B[37m\u001B[0m \u001B[1m1s\u001B[0m 3ms/step - accuracy: 0.9398 - loss: 0.2508 - val_accuracy: 0.9155 - val_loss: 0.3438\n",
      "Epoch 6/50\n",
      "\u001B[1m232/232\u001B[0m \u001B[32m━━━━━━━━━━━━━━━━━━━━\u001B[0m\u001B[37m\u001B[0m \u001B[1m1s\u001B[0m 3ms/step - accuracy: 0.9387 - loss: 0.2731 - val_accuracy: 0.9155 - val_loss: 0.3293\n",
      "Epoch 7/50\n",
      "\u001B[1m232/232\u001B[0m \u001B[32m━━━━━━━━━━━━━━━━━━━━\u001B[0m\u001B[37m\u001B[0m \u001B[1m1s\u001B[0m 3ms/step - accuracy: 0.9387 - loss: 0.2587 - val_accuracy: 0.9155 - val_loss: 0.3299\n",
      "Epoch 8/50\n",
      "\u001B[1m232/232\u001B[0m \u001B[32m━━━━━━━━━━━━━━━━━━━━\u001B[0m\u001B[37m\u001B[0m \u001B[1m1s\u001B[0m 2ms/step - accuracy: 0.9308 - loss: 0.2740 - val_accuracy: 0.9155 - val_loss: 0.3420\n",
      "Epoch 9/50\n",
      "\u001B[1m232/232\u001B[0m \u001B[32m━━━━━━━━━━━━━━━━━━━━\u001B[0m\u001B[37m\u001B[0m \u001B[1m1s\u001B[0m 2ms/step - accuracy: 0.9388 - loss: 0.2524 - val_accuracy: 0.9155 - val_loss: 0.3236\n",
      "Epoch 10/50\n",
      "\u001B[1m232/232\u001B[0m \u001B[32m━━━━━━━━━━━━━━━━━━━━\u001B[0m\u001B[37m\u001B[0m \u001B[1m1s\u001B[0m 2ms/step - accuracy: 0.9390 - loss: 0.2403 - val_accuracy: 0.9155 - val_loss: 0.3235\n",
      "Epoch 11/50\n",
      "\u001B[1m232/232\u001B[0m \u001B[32m━━━━━━━━━━━━━━━━━━━━\u001B[0m\u001B[37m\u001B[0m \u001B[1m1s\u001B[0m 2ms/step - accuracy: 0.9375 - loss: 0.2480 - val_accuracy: 0.9155 - val_loss: 0.3216\n",
      "Epoch 12/50\n",
      "\u001B[1m232/232\u001B[0m \u001B[32m━━━━━━━━━━━━━━━━━━━━\u001B[0m\u001B[37m\u001B[0m \u001B[1m1s\u001B[0m 2ms/step - accuracy: 0.9458 - loss: 0.2388 - val_accuracy: 0.9155 - val_loss: 0.3155\n",
      "Epoch 13/50\n",
      "\u001B[1m232/232\u001B[0m \u001B[32m━━━━━━━━━━━━━━━━━━━━\u001B[0m\u001B[37m\u001B[0m \u001B[1m1s\u001B[0m 2ms/step - accuracy: 0.9348 - loss: 0.2604 - val_accuracy: 0.9155 - val_loss: 0.3193\n",
      "Epoch 14/50\n",
      "\u001B[1m232/232\u001B[0m \u001B[32m━━━━━━━━━━━━━━━━━━━━\u001B[0m\u001B[37m\u001B[0m \u001B[1m1s\u001B[0m 2ms/step - accuracy: 0.9441 - loss: 0.2333 - val_accuracy: 0.9155 - val_loss: 0.3148\n",
      "Epoch 15/50\n",
      "\u001B[1m232/232\u001B[0m \u001B[32m━━━━━━━━━━━━━━━━━━━━\u001B[0m\u001B[37m\u001B[0m \u001B[1m1s\u001B[0m 2ms/step - accuracy: 0.9393 - loss: 0.2417 - val_accuracy: 0.9155 - val_loss: 0.3174\n",
      "Epoch 16/50\n",
      "\u001B[1m232/232\u001B[0m \u001B[32m━━━━━━━━━━━━━━━━━━━━\u001B[0m\u001B[37m\u001B[0m \u001B[1m1s\u001B[0m 2ms/step - accuracy: 0.9447 - loss: 0.2275 - val_accuracy: 0.9155 - val_loss: 0.3114\n",
      "Epoch 17/50\n",
      "\u001B[1m232/232\u001B[0m \u001B[32m━━━━━━━━━━━━━━━━━━━━\u001B[0m\u001B[37m\u001B[0m \u001B[1m1s\u001B[0m 2ms/step - accuracy: 0.9349 - loss: 0.2597 - val_accuracy: 0.9155 - val_loss: 0.3249\n",
      "Epoch 18/50\n",
      "\u001B[1m232/232\u001B[0m \u001B[32m━━━━━━━━━━━━━━━━━━━━\u001B[0m\u001B[37m\u001B[0m \u001B[1m0s\u001B[0m 2ms/step - accuracy: 0.9354 - loss: 0.2557 - val_accuracy: 0.9155 - val_loss: 0.3149\n",
      "Epoch 19/50\n",
      "\u001B[1m232/232\u001B[0m \u001B[32m━━━━━━━━━━━━━━━━━━━━\u001B[0m\u001B[37m\u001B[0m \u001B[1m0s\u001B[0m 2ms/step - accuracy: 0.9407 - loss: 0.2341 - val_accuracy: 0.9155 - val_loss: 0.3037\n",
      "Epoch 20/50\n",
      "\u001B[1m232/232\u001B[0m \u001B[32m━━━━━━━━━━━━━━━━━━━━\u001B[0m\u001B[37m\u001B[0m \u001B[1m0s\u001B[0m 2ms/step - accuracy: 0.9353 - loss: 0.2507 - val_accuracy: 0.9155 - val_loss: 0.3145\n",
      "Epoch 21/50\n",
      "\u001B[1m232/232\u001B[0m \u001B[32m━━━━━━━━━━━━━━━━━━━━\u001B[0m\u001B[37m\u001B[0m \u001B[1m0s\u001B[0m 2ms/step - accuracy: 0.9367 - loss: 0.2521 - val_accuracy: 0.9155 - val_loss: 0.3057\n",
      "Epoch 22/50\n",
      "\u001B[1m232/232\u001B[0m \u001B[32m━━━━━━━━━━━━━━━━━━━━\u001B[0m\u001B[37m\u001B[0m \u001B[1m0s\u001B[0m 2ms/step - accuracy: 0.9414 - loss: 0.2345 - val_accuracy: 0.9155 - val_loss: 0.3043\n",
      "Epoch 23/50\n",
      "\u001B[1m232/232\u001B[0m \u001B[32m━━━━━━━━━━━━━━━━━━━━\u001B[0m\u001B[37m\u001B[0m \u001B[1m0s\u001B[0m 2ms/step - accuracy: 0.9426 - loss: 0.2303 - val_accuracy: 0.9155 - val_loss: 0.3132\n",
      "Epoch 24/50\n",
      "\u001B[1m232/232\u001B[0m \u001B[32m━━━━━━━━━━━━━━━━━━━━\u001B[0m\u001B[37m\u001B[0m \u001B[1m0s\u001B[0m 2ms/step - accuracy: 0.9413 - loss: 0.2441 - val_accuracy: 0.9155 - val_loss: 0.2965\n",
      "Epoch 25/50\n",
      "\u001B[1m232/232\u001B[0m \u001B[32m━━━━━━━━━━━━━━━━━━━━\u001B[0m\u001B[37m\u001B[0m \u001B[1m0s\u001B[0m 2ms/step - accuracy: 0.9336 - loss: 0.2512 - val_accuracy: 0.9155 - val_loss: 0.2989\n",
      "Epoch 26/50\n",
      "\u001B[1m232/232\u001B[0m \u001B[32m━━━━━━━━━━━━━━━━━━━━\u001B[0m\u001B[37m\u001B[0m \u001B[1m0s\u001B[0m 2ms/step - accuracy: 0.9274 - loss: 0.2755 - val_accuracy: 0.9155 - val_loss: 0.3113\n",
      "Epoch 27/50\n",
      "\u001B[1m232/232\u001B[0m \u001B[32m━━━━━━━━━━━━━━━━━━━━\u001B[0m\u001B[37m\u001B[0m \u001B[1m0s\u001B[0m 2ms/step - accuracy: 0.9347 - loss: 0.2606 - val_accuracy: 0.9155 - val_loss: 0.2998\n",
      "Epoch 28/50\n",
      "\u001B[1m232/232\u001B[0m \u001B[32m━━━━━━━━━━━━━━━━━━━━\u001B[0m\u001B[37m\u001B[0m \u001B[1m0s\u001B[0m 2ms/step - accuracy: 0.9404 - loss: 0.2391 - val_accuracy: 0.9155 - val_loss: 0.2992\n",
      "Epoch 29/50\n",
      "\u001B[1m232/232\u001B[0m \u001B[32m━━━━━━━━━━━━━━━━━━━━\u001B[0m\u001B[37m\u001B[0m \u001B[1m0s\u001B[0m 2ms/step - accuracy: 0.9430 - loss: 0.2249 - val_accuracy: 0.9155 - val_loss: 0.2999\n",
      "Epoch 30/50\n",
      "\u001B[1m232/232\u001B[0m \u001B[32m━━━━━━━━━━━━━━━━━━━━\u001B[0m\u001B[37m\u001B[0m \u001B[1m1s\u001B[0m 2ms/step - accuracy: 0.9421 - loss: 0.2236 - val_accuracy: 0.9155 - val_loss: 0.2857\n",
      "Epoch 31/50\n",
      "\u001B[1m232/232\u001B[0m \u001B[32m━━━━━━━━━━━━━━━━━━━━\u001B[0m\u001B[37m\u001B[0m \u001B[1m0s\u001B[0m 2ms/step - accuracy: 0.9326 - loss: 0.2630 - val_accuracy: 0.9155 - val_loss: 0.3093\n",
      "Epoch 32/50\n",
      "\u001B[1m232/232\u001B[0m \u001B[32m━━━━━━━━━━━━━━━━━━━━\u001B[0m\u001B[37m\u001B[0m \u001B[1m0s\u001B[0m 2ms/step - accuracy: 0.9388 - loss: 0.2402 - val_accuracy: 0.9155 - val_loss: 0.3024\n",
      "Epoch 33/50\n",
      "\u001B[1m232/232\u001B[0m \u001B[32m━━━━━━━━━━━━━━━━━━━━\u001B[0m\u001B[37m\u001B[0m \u001B[1m0s\u001B[0m 2ms/step - accuracy: 0.9381 - loss: 0.2393 - val_accuracy: 0.9155 - val_loss: 0.2927\n",
      "Epoch 34/50\n",
      "\u001B[1m232/232\u001B[0m \u001B[32m━━━━━━━━━━━━━━━━━━━━\u001B[0m\u001B[37m\u001B[0m \u001B[1m0s\u001B[0m 2ms/step - accuracy: 0.9370 - loss: 0.2470 - val_accuracy: 0.9155 - val_loss: 0.3031\n",
      "Epoch 35/50\n",
      "\u001B[1m232/232\u001B[0m \u001B[32m━━━━━━━━━━━━━━━━━━━━\u001B[0m\u001B[37m\u001B[0m \u001B[1m0s\u001B[0m 2ms/step - accuracy: 0.9415 - loss: 0.2293 - val_accuracy: 0.9155 - val_loss: 0.2934\n",
      "Epoch 36/50\n",
      "\u001B[1m232/232\u001B[0m \u001B[32m━━━━━━━━━━━━━━━━━━━━\u001B[0m\u001B[37m\u001B[0m \u001B[1m0s\u001B[0m 2ms/step - accuracy: 0.9365 - loss: 0.2499 - val_accuracy: 0.9155 - val_loss: 0.2880\n",
      "Epoch 37/50\n",
      "\u001B[1m232/232\u001B[0m \u001B[32m━━━━━━━━━━━━━━━━━━━━\u001B[0m\u001B[37m\u001B[0m \u001B[1m0s\u001B[0m 2ms/step - accuracy: 0.9431 - loss: 0.2262 - val_accuracy: 0.9155 - val_loss: 0.2790\n",
      "Epoch 38/50\n",
      "\u001B[1m232/232\u001B[0m \u001B[32m━━━━━━━━━━━━━━━━━━━━\u001B[0m\u001B[37m\u001B[0m \u001B[1m1s\u001B[0m 2ms/step - accuracy: 0.9376 - loss: 0.2450 - val_accuracy: 0.9155 - val_loss: 0.2919\n",
      "Epoch 39/50\n",
      "\u001B[1m232/232\u001B[0m \u001B[32m━━━━━━━━━━━━━━━━━━━━\u001B[0m\u001B[37m\u001B[0m \u001B[1m0s\u001B[0m 2ms/step - accuracy: 0.9413 - loss: 0.2265 - val_accuracy: 0.9155 - val_loss: 0.2871\n",
      "Epoch 40/50\n",
      "\u001B[1m232/232\u001B[0m \u001B[32m━━━━━━━━━━━━━━━━━━━━\u001B[0m\u001B[37m\u001B[0m \u001B[1m0s\u001B[0m 2ms/step - accuracy: 0.9414 - loss: 0.2286 - val_accuracy: 0.9155 - val_loss: 0.2902\n",
      "Epoch 41/50\n",
      "\u001B[1m232/232\u001B[0m \u001B[32m━━━━━━━━━━━━━━━━━━━━\u001B[0m\u001B[37m\u001B[0m \u001B[1m0s\u001B[0m 2ms/step - accuracy: 0.9408 - loss: 0.2351 - val_accuracy: 0.9155 - val_loss: 0.2743\n",
      "Epoch 42/50\n",
      "\u001B[1m232/232\u001B[0m \u001B[32m━━━━━━━━━━━━━━━━━━━━\u001B[0m\u001B[37m\u001B[0m \u001B[1m1s\u001B[0m 2ms/step - accuracy: 0.9300 - loss: 0.2556 - val_accuracy: 0.9155 - val_loss: 0.2805\n",
      "Epoch 43/50\n",
      "\u001B[1m232/232\u001B[0m \u001B[32m━━━━━━━━━━━━━━━━━━━━\u001B[0m\u001B[37m\u001B[0m \u001B[1m1s\u001B[0m 2ms/step - accuracy: 0.9344 - loss: 0.2513 - val_accuracy: 0.9155 - val_loss: 0.2818\n",
      "Epoch 44/50\n",
      "\u001B[1m232/232\u001B[0m \u001B[32m━━━━━━━━━━━━━━━━━━━━\u001B[0m\u001B[37m\u001B[0m \u001B[1m1s\u001B[0m 2ms/step - accuracy: 0.9397 - loss: 0.2277 - val_accuracy: 0.9155 - val_loss: 0.2804\n",
      "Epoch 45/50\n",
      "\u001B[1m232/232\u001B[0m \u001B[32m━━━━━━━━━━━━━━━━━━━━\u001B[0m\u001B[37m\u001B[0m \u001B[1m0s\u001B[0m 2ms/step - accuracy: 0.9372 - loss: 0.2380 - val_accuracy: 0.9155 - val_loss: 0.2773\n",
      "Epoch 46/50\n",
      "\u001B[1m232/232\u001B[0m \u001B[32m━━━━━━━━━━━━━━━━━━━━\u001B[0m\u001B[37m\u001B[0m \u001B[1m0s\u001B[0m 2ms/step - accuracy: 0.9381 - loss: 0.2373 - val_accuracy: 0.9155 - val_loss: 0.2755\n",
      "Epoch 47/50\n",
      "\u001B[1m232/232\u001B[0m \u001B[32m━━━━━━━━━━━━━━━━━━━━\u001B[0m\u001B[37m\u001B[0m \u001B[1m1s\u001B[0m 2ms/step - accuracy: 0.9396 - loss: 0.2333 - val_accuracy: 0.9155 - val_loss: 0.2688\n",
      "Epoch 48/50\n",
      "\u001B[1m232/232\u001B[0m \u001B[32m━━━━━━━━━━━━━━━━━━━━\u001B[0m\u001B[37m\u001B[0m \u001B[1m1s\u001B[0m 3ms/step - accuracy: 0.9383 - loss: 0.2400 - val_accuracy: 0.9155 - val_loss: 0.2914\n",
      "Epoch 49/50\n",
      "\u001B[1m232/232\u001B[0m \u001B[32m━━━━━━━━━━━━━━━━━━━━\u001B[0m\u001B[37m\u001B[0m \u001B[1m1s\u001B[0m 2ms/step - accuracy: 0.9325 - loss: 0.2574 - val_accuracy: 0.9155 - val_loss: 0.2820\n",
      "Epoch 50/50\n",
      "\u001B[1m232/232\u001B[0m \u001B[32m━━━━━━━━━━━━━━━━━━━━\u001B[0m\u001B[37m\u001B[0m \u001B[1m0s\u001B[0m 2ms/step - accuracy: 0.9369 - loss: 0.2428 - val_accuracy: 0.9155 - val_loss: 0.3070\n",
      "Train:0.939, Test:0.916\n"
     ]
    }
   ],
   "execution_count": 59
  },
  {
   "metadata": {
    "ExecuteTime": {
     "end_time": "2025-07-21T07:21:49.874072Z",
     "start_time": "2025-07-21T07:21:49.572051Z"
    }
   },
   "cell_type": "code",
   "source": [
    "import matplotlib.pyplot as plt\n",
    "plt.subplot(211)\n",
    "plt.title('Cross-Entropy Loss', pad=-40)\n",
    "plt.plot(history.history['loss'], label='train')\n",
    "plt.plot(history.history['val_loss'], label='test')\n",
    "plt.legend()\n",
    "plt.subplot(212)\n",
    "plt.title('Accuracy', pad=-40)\n",
    "plt.plot(history.history['accuracy'], label='train')\n",
    "plt.plot(history.history['val_accuracy'], label='test')\n",
    "plt.legend()\n",
    "plt.show()"
   ],
   "id": "ca184280313747a5",
   "outputs": [
    {
     "data": {
      "text/plain": [
       "<Figure size 640x480 with 2 Axes>"
      ],
      "image/png": "[encoded data removed]"
     },
     "metadata": {},
     "output_type": "display_data"
    }
   ],
   "execution_count": 60
  }
 ],
 "metadata": {
  "kernelspec": {
   "display_name": "Python 3",
   "language": "python",
   "name": "python3"
  },
  "language_info": {
   "codemirror_mode": {
    "name": "ipython",
    "version": 2
   },
   "file_extension": ".py",
   "mimetype": "text/x-python",
   "name": "python",
   "nbconvert_exporter": "python",
   "pygments_lexer": "ipython2",
   "version": "2.7.6"
  }
 },
 "nbformat": 4,
 "nbformat_minor": 5
}
