{
 "cells": [
  {
   "metadata": {},
   "cell_type": "markdown",
   "source": [
    "### In this model we will apply all our deep learning concepts to predict whether a person is introvert or extrovert.<br>\n",
    "### Lets start with the notebook.\n"
   ],
   "id": "89916265a4d511c8"
  },
  {
   "metadata": {},
   "cell_type": "markdown",
   "source": "# Importing Libraries",
   "id": "de8b3619f3489284"
  },
  {
   "cell_type": "code",
   "id": "initial_id",
   "metadata": {
    "collapsed": true,
    "ExecuteTime": {
     "end_time": "2025-07-24T16:35:36.801144Z",
     "start_time": "2025-07-24T16:35:36.776412Z"
    }
   },
   "source": [
    "import re\n",
    "\n",
    "import pandas as pd\n",
    "import numpy as np\n",
    "import matplotlib.pyplot as plt\n",
    "from scikeras.wrappers import KerasClassifier\n",
    "import warnings\n",
    "warnings.filterwarnings('ignore')\n",
    "import keras\n",
    "from keras import optimizers,regularizers\n",
    "from keras.regularizers import l1_l2\n",
    "from keras.models import Sequential\n",
    "from keras.layers import Dense,Dropout\n",
    "from scikeras.wrappers import KerasClassifier\n",
    "import numpy as np\n",
    "from sklearn.model_selection import RandomizedSearchCV\n",
    "from sklearn.preprocessing import StandardScaler, LabelEncoder, OrdinalEncoder\n",
    "from sklearn.model_selection import train_test_split\n",
    "from sklearn.compose import ColumnTransformer\n",
    "from sklearn.pipeline import make_pipeline\n",
    "from sklearn.impute import SimpleImputer\n",
    "from tensorflow import random\n",
    "\n"
   ],
   "outputs": [],
   "execution_count": 151
  },
  {
   "metadata": {},
   "cell_type": "markdown",
   "source": "# Reading Files",
   "id": "51655f43d6f6d046"
  },
  {
   "metadata": {
    "ExecuteTime": {
     "end_time": "2025-07-24T16:35:36.866957Z",
     "start_time": "2025-07-24T16:35:36.837242Z"
    }
   },
   "cell_type": "code",
   "source": [
    "train=pd.read_csv('/kaggle/input/playground-series-s5e7/train.csv',index_col=\"id\")\n",
    "test=pd.read_csv('/kaggle/input/playground-series-s5e7/test.csv',index_col=\"id\")\n",
    "submission=pd.read_csv('/kaggle/input/playground-series-s5e7/sample_submission.csv')"
   ],
   "id": "21b1b3ccd8f6f4e",
   "outputs": [],
   "execution_count": 152
  },
  {
   "metadata": {
    "ExecuteTime": {
     "end_time": "2025-07-24T16:35:36.911967Z",
     "start_time": "2025-07-24T16:35:36.901618Z"
    }
   },
   "cell_type": "code",
   "source": [
    "#Checking the Sample submission\n",
    "submission.head()"
   ],
   "id": "ac093355904870cb",
   "outputs": [
    {
     "data": {
      "text/plain": [
       "      id Personality\n",
       "0  18524   Extrovert\n",
       "1  18525   Extrovert\n",
       "2  18526   Extrovert\n",
       "3  18527   Extrovert\n",
       "4  18528   Extrovert"
      ],
      "text/html": [
       "<div>\n",
       "<style scoped>\n",
       "    .dataframe tbody tr th:only-of-type {\n",
       "        vertical-align: middle;\n",
       "    }\n",
       "\n",
       "    .dataframe tbody tr th {\n",
       "        vertical-align: top;\n",
       "    }\n",
       "\n",
       "    .dataframe thead th {\n",
       "        text-align: right;\n",
       "    }\n",
       "</style>\n",
       "<table border=\"1\" class=\"dataframe\">\n",
       "  <thead>\n",
       "    <tr style=\"text-align: right;\">\n",
       "      <th></th>\n",
       "      <th>id</th>\n",
       "      <th>Personality</th>\n",
       "    </tr>\n",
       "  </thead>\n",
       "  <tbody>\n",
       "    <tr>\n",
       "      <th>0</th>\n",
       "      <td>18524</td>\n",
       "      <td>Extrovert</td>\n",
       "    </tr>\n",
       "    <tr>\n",
       "      <th>1</th>\n",
       "      <td>18525</td>\n",
       "      <td>Extrovert</td>\n",
       "    </tr>\n",
       "    <tr>\n",
       "      <th>2</th>\n",
       "      <td>18526</td>\n",
       "      <td>Extrovert</td>\n",
       "    </tr>\n",
       "    <tr>\n",
       "      <th>3</th>\n",
       "      <td>18527</td>\n",
       "      <td>Extrovert</td>\n",
       "    </tr>\n",
       "    <tr>\n",
       "      <th>4</th>\n",
       "      <td>18528</td>\n",
       "      <td>Extrovert</td>\n",
       "    </tr>\n",
       "  </tbody>\n",
       "</table>\n",
       "</div>"
      ]
     },
     "execution_count": 153,
     "metadata": {},
     "output_type": "execute_result"
    }
   ],
   "execution_count": 153
  },
  {
   "metadata": {
    "ExecuteTime": {
     "end_time": "2025-07-24T16:35:36.994642Z",
     "start_time": "2025-07-24T16:35:36.989251Z"
    }
   },
   "cell_type": "code",
   "source": "print(submission.shape)",
   "id": "3aa425b61af0046a",
   "outputs": [
    {
     "name": "stdout",
     "output_type": "stream",
     "text": [
      "(6175, 2)\n"
     ]
    }
   ],
   "execution_count": 154
  },
  {
   "metadata": {},
   "cell_type": "markdown",
   "source": "# Meet and Greet Data",
   "id": "9654189e267ebba0"
  },
  {
   "metadata": {
    "ExecuteTime": {
     "end_time": "2025-07-24T16:35:37.084974Z",
     "start_time": "2025-07-24T16:35:37.071642Z"
    }
   },
   "cell_type": "code",
   "source": [
    "#Checking Train and Test contents\n",
    "#Train\n",
    "train.head(3)"
   ],
   "id": "6bda0c9612a45d00",
   "outputs": [
    {
     "data": {
      "text/plain": [
       "    Time_spent_Alone Stage_fear  Social_event_attendance  Going_outside  \\\n",
       "id                                                                        \n",
       "0                0.0         No                      6.0            4.0   \n",
       "1                1.0         No                      7.0            3.0   \n",
       "2                6.0        Yes                      1.0            0.0   \n",
       "\n",
       "   Drained_after_socializing  Friends_circle_size  Post_frequency Personality  \n",
       "id                                                                             \n",
       "0                         No                 15.0             5.0   Extrovert  \n",
       "1                         No                 10.0             8.0   Extrovert  \n",
       "2                        NaN                  3.0             0.0   Introvert  "
      ],
      "text/html": [
       "<div>\n",
       "<style scoped>\n",
       "    .dataframe tbody tr th:only-of-type {\n",
       "        vertical-align: middle;\n",
       "    }\n",
       "\n",
       "    .dataframe tbody tr th {\n",
       "        vertical-align: top;\n",
       "    }\n",
       "\n",
       "    .dataframe thead th {\n",
       "        text-align: right;\n",
       "    }\n",
       "</style>\n",
       "<table border=\"1\" class=\"dataframe\">\n",
       "  <thead>\n",
       "    <tr style=\"text-align: right;\">\n",
       "      <th></th>\n",
       "      <th>Time_spent_Alone</th>\n",
       "      <th>Stage_fear</th>\n",
       "      <th>Social_event_attendance</th>\n",
       "      <th>Going_outside</th>\n",
       "      <th>Drained_after_socializing</th>\n",
       "      <th>Friends_circle_size</th>\n",
       "      <th>Post_frequency</th>\n",
       "      <th>Personality</th>\n",
       "    </tr>\n",
       "    <tr>\n",
       "      <th>id</th>\n",
       "      <th></th>\n",
       "      <th></th>\n",
       "      <th></th>\n",
       "      <th></th>\n",
       "      <th></th>\n",
       "      <th></th>\n",
       "      <th></th>\n",
       "      <th></th>\n",
       "    </tr>\n",
       "  </thead>\n",
       "  <tbody>\n",
       "    <tr>\n",
       "      <th>0</th>\n",
       "      <td>0.0</td>\n",
       "      <td>No</td>\n",
       "      <td>6.0</td>\n",
       "      <td>4.0</td>\n",
       "      <td>No</td>\n",
       "      <td>15.0</td>\n",
       "      <td>5.0</td>\n",
       "      <td>Extrovert</td>\n",
       "    </tr>\n",
       "    <tr>\n",
       "      <th>1</th>\n",
       "      <td>1.0</td>\n",
       "      <td>No</td>\n",
       "      <td>7.0</td>\n",
       "      <td>3.0</td>\n",
       "      <td>No</td>\n",
       "      <td>10.0</td>\n",
       "      <td>8.0</td>\n",
       "      <td>Extrovert</td>\n",
       "    </tr>\n",
       "    <tr>\n",
       "      <th>2</th>\n",
       "      <td>6.0</td>\n",
       "      <td>Yes</td>\n",
       "      <td>1.0</td>\n",
       "      <td>0.0</td>\n",
       "      <td>NaN</td>\n",
       "      <td>3.0</td>\n",
       "      <td>0.0</td>\n",
       "      <td>Introvert</td>\n",
       "    </tr>\n",
       "  </tbody>\n",
       "</table>\n",
       "</div>"
      ]
     },
     "execution_count": 155,
     "metadata": {},
     "output_type": "execute_result"
    }
   ],
   "execution_count": 155
  },
  {
   "metadata": {
    "ExecuteTime": {
     "end_time": "2025-07-24T16:35:37.203350Z",
     "start_time": "2025-07-24T16:35:37.189518Z"
    }
   },
   "cell_type": "code",
   "source": [
    "#Test\n",
    "test.tail(3)"
   ],
   "id": "82da028d77c11f66",
   "outputs": [
    {
     "data": {
      "text/plain": [
       "       Time_spent_Alone Stage_fear  Social_event_attendance  Going_outside  \\\n",
       "id                                                                           \n",
       "24696               2.0         No                      4.0            3.0   \n",
       "24697               3.0         No                      4.0            4.0   \n",
       "24698               NaN        Yes                      1.0            1.0   \n",
       "\n",
       "      Drained_after_socializing  Friends_circle_size  Post_frequency  \n",
       "id                                                                    \n",
       "24696                        No                  9.0             7.0  \n",
       "24697                        No                 11.0             9.0  \n",
       "24698                       Yes                  1.0             0.0  "
      ],
      "text/html": [
       "<div>\n",
       "<style scoped>\n",
       "    .dataframe tbody tr th:only-of-type {\n",
       "        vertical-align: middle;\n",
       "    }\n",
       "\n",
       "    .dataframe tbody tr th {\n",
       "        vertical-align: top;\n",
       "    }\n",
       "\n",
       "    .dataframe thead th {\n",
       "        text-align: right;\n",
       "    }\n",
       "</style>\n",
       "<table border=\"1\" class=\"dataframe\">\n",
       "  <thead>\n",
       "    <tr style=\"text-align: right;\">\n",
       "      <th></th>\n",
       "      <th>Time_spent_Alone</th>\n",
       "      <th>Stage_fear</th>\n",
       "      <th>Social_event_attendance</th>\n",
       "      <th>Going_outside</th>\n",
       "      <th>Drained_after_socializing</th>\n",
       "      <th>Friends_circle_size</th>\n",
       "      <th>Post_frequency</th>\n",
       "    </tr>\n",
       "    <tr>\n",
       "      <th>id</th>\n",
       "      <th></th>\n",
       "      <th></th>\n",
       "      <th></th>\n",
       "      <th></th>\n",
       "      <th></th>\n",
       "      <th></th>\n",
       "      <th></th>\n",
       "    </tr>\n",
       "  </thead>\n",
       "  <tbody>\n",
       "    <tr>\n",
       "      <th>24696</th>\n",
       "      <td>2.0</td>\n",
       "      <td>No</td>\n",
       "      <td>4.0</td>\n",
       "      <td>3.0</td>\n",
       "      <td>No</td>\n",
       "      <td>9.0</td>\n",
       "      <td>7.0</td>\n",
       "    </tr>\n",
       "    <tr>\n",
       "      <th>24697</th>\n",
       "      <td>3.0</td>\n",
       "      <td>No</td>\n",
       "      <td>4.0</td>\n",
       "      <td>4.0</td>\n",
       "      <td>No</td>\n",
       "      <td>11.0</td>\n",
       "      <td>9.0</td>\n",
       "    </tr>\n",
       "    <tr>\n",
       "      <th>24698</th>\n",
       "      <td>NaN</td>\n",
       "      <td>Yes</td>\n",
       "      <td>1.0</td>\n",
       "      <td>1.0</td>\n",
       "      <td>Yes</td>\n",
       "      <td>1.0</td>\n",
       "      <td>0.0</td>\n",
       "    </tr>\n",
       "  </tbody>\n",
       "</table>\n",
       "</div>"
      ]
     },
     "execution_count": 156,
     "metadata": {},
     "output_type": "execute_result"
    }
   ],
   "execution_count": 156
  },
  {
   "metadata": {
    "ExecuteTime": {
     "end_time": "2025-07-24T16:35:37.501058Z",
     "start_time": "2025-07-24T16:35:37.495178Z"
    }
   },
   "cell_type": "code",
   "source": [
    "#Checking Shapes\n",
    "print(train.shape)\n",
    "print(test.shape)"
   ],
   "id": "f01c5ae08aed9627",
   "outputs": [
    {
     "name": "stdout",
     "output_type": "stream",
     "text": [
      "(18524, 8)\n",
      "(6175, 7)\n"
     ]
    }
   ],
   "execution_count": 157
  },
  {
   "metadata": {
    "ExecuteTime": {
     "end_time": "2025-07-24T16:35:37.685086Z",
     "start_time": "2025-07-24T16:35:37.627512Z"
    }
   },
   "cell_type": "code",
   "source": [
    "#Checking distribution of target data\n",
    "plt.pie(train['Personality'].value_counts(),labels=train['Personality'].value_counts().keys(),autopct='%1.1f%%',textprops={'fontsize':20,'fontweight':'bold'})\n",
    "plt.show()"
   ],
   "id": "f1aa6c3e99804010",
   "outputs": [
    {
     "data": {
      "text/plain": [
       "<Figure size 640x480 with 1 Axes>"
      ],
      "image/png": "[encoded data removed]"
     },
     "metadata": {},
     "output_type": "display_data"
    }
   ],
   "execution_count": 158
  },
  {
   "metadata": {
    "ExecuteTime": {
     "end_time": "2025-07-24T16:35:37.852773Z",
     "start_time": "2025-07-24T16:35:37.832376Z"
    }
   },
   "cell_type": "code",
   "source": [
    "#Checking Missing Values\n",
    "missing_train=(train.isnull().sum()[train.isnull().sum()>0]).to_frame().rename(columns={0:'No of Missing Values'})\n",
    "missing_train['% of Missing Values']=round((100*train.isnull().sum()[train.isnull().sum()>0]/len(train)),2)\n",
    "missing_train.sort_values(by=['% of Missing Values'],ascending=False,inplace=True)\n",
    "missing_train"
   ],
   "id": "ac7b8dad3c9ce48b",
   "outputs": [
    {
     "data": {
      "text/plain": [
       "                           No of Missing Values  % of Missing Values\n",
       "Stage_fear                                 1893                10.22\n",
       "Going_outside                              1466                 7.91\n",
       "Post_frequency                             1264                 6.82\n",
       "Time_spent_Alone                           1190                 6.42\n",
       "Social_event_attendance                    1180                 6.37\n",
       "Drained_after_socializing                  1149                 6.20\n",
       "Friends_circle_size                        1054                 5.69"
      ],
      "text/html": [
       "<div>\n",
       "<style scoped>\n",
       "    .dataframe tbody tr th:only-of-type {\n",
       "        vertical-align: middle;\n",
       "    }\n",
       "\n",
       "    .dataframe tbody tr th {\n",
       "        vertical-align: top;\n",
       "    }\n",
       "\n",
       "    .dataframe thead th {\n",
       "        text-align: right;\n",
       "    }\n",
       "</style>\n",
       "<table border=\"1\" class=\"dataframe\">\n",
       "  <thead>\n",
       "    <tr style=\"text-align: right;\">\n",
       "      <th></th>\n",
       "      <th>No of Missing Values</th>\n",
       "      <th>% of Missing Values</th>\n",
       "    </tr>\n",
       "  </thead>\n",
       "  <tbody>\n",
       "    <tr>\n",
       "      <th>Stage_fear</th>\n",
       "      <td>1893</td>\n",
       "      <td>10.22</td>\n",
       "    </tr>\n",
       "    <tr>\n",
       "      <th>Going_outside</th>\n",
       "      <td>1466</td>\n",
       "      <td>7.91</td>\n",
       "    </tr>\n",
       "    <tr>\n",
       "      <th>Post_frequency</th>\n",
       "      <td>1264</td>\n",
       "      <td>6.82</td>\n",
       "    </tr>\n",
       "    <tr>\n",
       "      <th>Time_spent_Alone</th>\n",
       "      <td>1190</td>\n",
       "      <td>6.42</td>\n",
       "    </tr>\n",
       "    <tr>\n",
       "      <th>Social_event_attendance</th>\n",
       "      <td>1180</td>\n",
       "      <td>6.37</td>\n",
       "    </tr>\n",
       "    <tr>\n",
       "      <th>Drained_after_socializing</th>\n",
       "      <td>1149</td>\n",
       "      <td>6.20</td>\n",
       "    </tr>\n",
       "    <tr>\n",
       "      <th>Friends_circle_size</th>\n",
       "      <td>1054</td>\n",
       "      <td>5.69</td>\n",
       "    </tr>\n",
       "  </tbody>\n",
       "</table>\n",
       "</div>"
      ]
     },
     "execution_count": 159,
     "metadata": {},
     "output_type": "execute_result"
    }
   ],
   "execution_count": 159
  },
  {
   "metadata": {
    "ExecuteTime": {
     "end_time": "2025-07-24T16:35:37.960061Z",
     "start_time": "2025-07-24T16:35:37.938054Z"
    }
   },
   "cell_type": "code",
   "source": [
    "missing_test=(test.isnull().sum()[test.isnull().sum()>0]).to_frame().rename(columns={0:'No of Missing Values'})\n",
    "missing_test['% of Missing Values']=round((100*test.isnull().sum()[test.isnull().sum()>0]/len(test)),2)\n",
    "missing_test.sort_values(by=['% of Missing Values'],ascending=False,inplace=True)\n",
    "missing_test"
   ],
   "id": "16b82f648cf54c72",
   "outputs": [
    {
     "data": {
      "text/plain": [
       "                           No of Missing Values  % of Missing Values\n",
       "Stage_fear                                  598                 9.68\n",
       "Going_outside                               466                 7.55\n",
       "Drained_after_socializing                   432                 7.00\n",
       "Time_spent_Alone                            425                 6.88\n",
       "Post_frequency                              408                 6.61\n",
       "Social_event_attendance                     397                 6.43\n",
       "Friends_circle_size                         350                 5.67"
      ],
      "text/html": [
       "<div>\n",
       "<style scoped>\n",
       "    .dataframe tbody tr th:only-of-type {\n",
       "        vertical-align: middle;\n",
       "    }\n",
       "\n",
       "    .dataframe tbody tr th {\n",
       "        vertical-align: top;\n",
       "    }\n",
       "\n",
       "    .dataframe thead th {\n",
       "        text-align: right;\n",
       "    }\n",
       "</style>\n",
       "<table border=\"1\" class=\"dataframe\">\n",
       "  <thead>\n",
       "    <tr style=\"text-align: right;\">\n",
       "      <th></th>\n",
       "      <th>No of Missing Values</th>\n",
       "      <th>% of Missing Values</th>\n",
       "    </tr>\n",
       "  </thead>\n",
       "  <tbody>\n",
       "    <tr>\n",
       "      <th>Stage_fear</th>\n",
       "      <td>598</td>\n",
       "      <td>9.68</td>\n",
       "    </tr>\n",
       "    <tr>\n",
       "      <th>Going_outside</th>\n",
       "      <td>466</td>\n",
       "      <td>7.55</td>\n",
       "    </tr>\n",
       "    <tr>\n",
       "      <th>Drained_after_socializing</th>\n",
       "      <td>432</td>\n",
       "      <td>7.00</td>\n",
       "    </tr>\n",
       "    <tr>\n",
       "      <th>Time_spent_Alone</th>\n",
       "      <td>425</td>\n",
       "      <td>6.88</td>\n",
       "    </tr>\n",
       "    <tr>\n",
       "      <th>Post_frequency</th>\n",
       "      <td>408</td>\n",
       "      <td>6.61</td>\n",
       "    </tr>\n",
       "    <tr>\n",
       "      <th>Social_event_attendance</th>\n",
       "      <td>397</td>\n",
       "      <td>6.43</td>\n",
       "    </tr>\n",
       "    <tr>\n",
       "      <th>Friends_circle_size</th>\n",
       "      <td>350</td>\n",
       "      <td>5.67</td>\n",
       "    </tr>\n",
       "  </tbody>\n",
       "</table>\n",
       "</div>"
      ]
     },
     "execution_count": 160,
     "metadata": {},
     "output_type": "execute_result"
    }
   ],
   "execution_count": 160
  },
  {
   "metadata": {
    "ExecuteTime": {
     "end_time": "2025-07-24T16:35:38.113877Z",
     "start_time": "2025-07-24T16:35:38.099579Z"
    }
   },
   "cell_type": "code",
   "source": [
    "print(train.info())\n",
    "print(\"\\n\")\n",
    "print(\"*\"*40)\n",
    "print(\"\\n\")\n",
    "print(test.info())"
   ],
   "id": "b86ccb1f5c3b6226",
   "outputs": [
    {
     "name": "stdout",
     "output_type": "stream",
     "text": [
      "<class 'pandas.core.frame.DataFrame'>\n",
      "Index: 18524 entries, 0 to 18523\n",
      "Data columns (total 8 columns):\n",
      " #   Column                     Non-Null Count  Dtype  \n",
      "---  ------                     --------------  -----  \n",
      " 0   Time_spent_Alone           17334 non-null  float64\n",
      " 1   Stage_fear                 16631 non-null  object \n",
      " 2   Social_event_attendance    17344 non-null  float64\n",
      " 3   Going_outside              17058 non-null  float64\n",
      " 4   Drained_after_socializing  17375 non-null  object \n",
      " 5   Friends_circle_size        17470 non-null  float64\n",
      " 6   Post_frequency             17260 non-null  float64\n",
      " 7   Personality                18524 non-null  object \n",
      "dtypes: float64(5), object(3)\n",
      "memory usage: 1.3+ MB\n",
      "None\n",
      "\n",
      "\n",
      "****************************************\n",
      "\n",
      "\n",
      "<class 'pandas.core.frame.DataFrame'>\n",
      "Index: 6175 entries, 18524 to 24698\n",
      "Data columns (total 7 columns):\n",
      " #   Column                     Non-Null Count  Dtype  \n",
      "---  ------                     --------------  -----  \n",
      " 0   Time_spent_Alone           5750 non-null   float64\n",
      " 1   Stage_fear                 5577 non-null   object \n",
      " 2   Social_event_attendance    5778 non-null   float64\n",
      " 3   Going_outside              5709 non-null   float64\n",
      " 4   Drained_after_socializing  5743 non-null   object \n",
      " 5   Friends_circle_size        5825 non-null   float64\n",
      " 6   Post_frequency             5767 non-null   float64\n",
      "dtypes: float64(5), object(2)\n",
      "memory usage: 385.9+ KB\n",
      "None\n"
     ]
    }
   ],
   "execution_count": 161
  },
  {
   "metadata": {
    "ExecuteTime": {
     "end_time": "2025-07-24T16:35:38.311927Z",
     "start_time": "2025-07-24T16:35:38.287374Z"
    }
   },
   "cell_type": "code",
   "source": "train.describe()",
   "id": "9e545e8864905621",
   "outputs": [
    {
     "data": {
      "text/plain": [
       "       Time_spent_Alone  Social_event_attendance  Going_outside  \\\n",
       "count      17334.000000             17344.000000   17058.000000   \n",
       "mean           3.137764                 5.265106       4.044319   \n",
       "std            3.003786                 2.753359       2.062580   \n",
       "min            0.000000                 0.000000       0.000000   \n",
       "25%            1.000000                 3.000000       3.000000   \n",
       "50%            2.000000                 5.000000       4.000000   \n",
       "75%            4.000000                 8.000000       6.000000   \n",
       "max           11.000000                10.000000       7.000000   \n",
       "\n",
       "       Friends_circle_size  Post_frequency  \n",
       "count         17470.000000    17260.000000  \n",
       "mean              7.996737        4.982097  \n",
       "std               4.223484        2.879139  \n",
       "min               0.000000        0.000000  \n",
       "25%               5.000000        3.000000  \n",
       "50%               8.000000        5.000000  \n",
       "75%              12.000000        7.000000  \n",
       "max              15.000000       10.000000  "
      ],
      "text/html": [
       "<div>\n",
       "<style scoped>\n",
       "    .dataframe tbody tr th:only-of-type {\n",
       "        vertical-align: middle;\n",
       "    }\n",
       "\n",
       "    .dataframe tbody tr th {\n",
       "        vertical-align: top;\n",
       "    }\n",
       "\n",
       "    .dataframe thead th {\n",
       "        text-align: right;\n",
       "    }\n",
       "</style>\n",
       "<table border=\"1\" class=\"dataframe\">\n",
       "  <thead>\n",
       "    <tr style=\"text-align: right;\">\n",
       "      <th></th>\n",
       "      <th>Time_spent_Alone</th>\n",
       "      <th>Social_event_attendance</th>\n",
       "      <th>Going_outside</th>\n",
       "      <th>Friends_circle_size</th>\n",
       "      <th>Post_frequency</th>\n",
       "    </tr>\n",
       "  </thead>\n",
       "  <tbody>\n",
       "    <tr>\n",
       "      <th>count</th>\n",
       "      <td>17334.000000</td>\n",
       "      <td>17344.000000</td>\n",
       "      <td>17058.000000</td>\n",
       "      <td>17470.000000</td>\n",
       "      <td>17260.000000</td>\n",
       "    </tr>\n",
       "    <tr>\n",
       "      <th>mean</th>\n",
       "      <td>3.137764</td>\n",
       "      <td>5.265106</td>\n",
       "      <td>4.044319</td>\n",
       "      <td>7.996737</td>\n",
       "      <td>4.982097</td>\n",
       "    </tr>\n",
       "    <tr>\n",
       "      <th>std</th>\n",
       "      <td>3.003786</td>\n",
       "      <td>2.753359</td>\n",
       "      <td>2.062580</td>\n",
       "      <td>4.223484</td>\n",
       "      <td>2.879139</td>\n",
       "    </tr>\n",
       "    <tr>\n",
       "      <th>min</th>\n",
       "      <td>0.000000</td>\n",
       "      <td>0.000000</td>\n",
       "      <td>0.000000</td>\n",
       "      <td>0.000000</td>\n",
       "      <td>0.000000</td>\n",
       "    </tr>\n",
       "    <tr>\n",
       "      <th>25%</th>\n",
       "      <td>1.000000</td>\n",
       "      <td>3.000000</td>\n",
       "      <td>3.000000</td>\n",
       "      <td>5.000000</td>\n",
       "      <td>3.000000</td>\n",
       "    </tr>\n",
       "    <tr>\n",
       "      <th>50%</th>\n",
       "      <td>2.000000</td>\n",
       "      <td>5.000000</td>\n",
       "      <td>4.000000</td>\n",
       "      <td>8.000000</td>\n",
       "      <td>5.000000</td>\n",
       "    </tr>\n",
       "    <tr>\n",
       "      <th>75%</th>\n",
       "      <td>4.000000</td>\n",
       "      <td>8.000000</td>\n",
       "      <td>6.000000</td>\n",
       "      <td>12.000000</td>\n",
       "      <td>7.000000</td>\n",
       "    </tr>\n",
       "    <tr>\n",
       "      <th>max</th>\n",
       "      <td>11.000000</td>\n",
       "      <td>10.000000</td>\n",
       "      <td>7.000000</td>\n",
       "      <td>15.000000</td>\n",
       "      <td>10.000000</td>\n",
       "    </tr>\n",
       "  </tbody>\n",
       "</table>\n",
       "</div>"
      ]
     },
     "execution_count": 162,
     "metadata": {},
     "output_type": "execute_result"
    }
   ],
   "execution_count": 162
  },
  {
   "metadata": {
    "ExecuteTime": {
     "end_time": "2025-07-24T16:35:38.493206Z",
     "start_time": "2025-07-24T16:35:38.486509Z"
    }
   },
   "cell_type": "code",
   "source": "train.columns",
   "id": "cb53bce507575c51",
   "outputs": [
    {
     "data": {
      "text/plain": [
       "Index(['Time_spent_Alone', 'Stage_fear', 'Social_event_attendance',\n",
       "       'Going_outside', 'Drained_after_socializing', 'Friends_circle_size',\n",
       "       'Post_frequency', 'Personality'],\n",
       "      dtype='object')"
      ]
     },
     "execution_count": 163,
     "metadata": {},
     "output_type": "execute_result"
    }
   ],
   "execution_count": 163
  },
  {
   "metadata": {},
   "cell_type": "markdown",
   "source": "# Data Preprocessing",
   "id": "69e21949e331186f"
  },
  {
   "metadata": {},
   "cell_type": "markdown",
   "source": "<p> I am not comfortable combining the datasets for data preprocessing so I will be do preprocessing and cleaning for train and test simultaneously.</p>",
   "id": "bb5065f3d041d789"
  },
  {
   "metadata": {
    "ExecuteTime": {
     "end_time": "2025-07-24T16:35:38.588522Z",
     "start_time": "2025-07-24T16:35:38.581298Z"
    }
   },
   "cell_type": "code",
   "source": [
    "cat_cols=train.select_dtypes(include=['object']).columns.tolist()\n",
    "cat_cols.pop()\n",
    "num_cols=train.select_dtypes(include=['number']).columns.tolist()\n",
    "print(cat_cols)\n",
    "print(num_cols)"
   ],
   "id": "3876b4a70ccb4767",
   "outputs": [
    {
     "name": "stdout",
     "output_type": "stream",
     "text": [
      "['Stage_fear', 'Drained_after_socializing']\n",
      "['Time_spent_Alone', 'Social_event_attendance', 'Going_outside', 'Friends_circle_size', 'Post_frequency']\n"
     ]
    }
   ],
   "execution_count": 164
  },
  {
   "metadata": {
    "ExecuteTime": {
     "end_time": "2025-07-24T16:35:38.684410Z",
     "start_time": "2025-07-24T16:35:38.678863Z"
    }
   },
   "cell_type": "code",
   "source": [
    "X=train.iloc[:,:-1]\n",
    "y=train.iloc[:,-1]\n",
    "\n"
   ],
   "id": "7f22b08795dfe649",
   "outputs": [],
   "execution_count": 165
  },
  {
   "metadata": {
    "ExecuteTime": {
     "end_time": "2025-07-24T16:35:38.787261Z",
     "start_time": "2025-07-24T16:35:38.776969Z"
    }
   },
   "cell_type": "code",
   "source": "print(X.head(5))",
   "id": "3a40c06bd2421182",
   "outputs": [
    {
     "name": "stdout",
     "output_type": "stream",
     "text": [
      "    Time_spent_Alone Stage_fear  Social_event_attendance  Going_outside  \\\n",
      "id                                                                        \n",
      "0                0.0         No                      6.0            4.0   \n",
      "1                1.0         No                      7.0            3.0   \n",
      "2                6.0        Yes                      1.0            0.0   \n",
      "3                3.0         No                      7.0            3.0   \n",
      "4                1.0         No                      4.0            4.0   \n",
      "\n",
      "   Drained_after_socializing  Friends_circle_size  Post_frequency  \n",
      "id                                                                 \n",
      "0                         No                 15.0             5.0  \n",
      "1                         No                 10.0             8.0  \n",
      "2                        NaN                  3.0             0.0  \n",
      "3                         No                 11.0             5.0  \n",
      "4                         No                 13.0             NaN  \n"
     ]
    }
   ],
   "execution_count": 166
  },
  {
   "metadata": {
    "ExecuteTime": {
     "end_time": "2025-07-24T16:35:38.842972Z",
     "start_time": "2025-07-24T16:35:38.836143Z"
    }
   },
   "cell_type": "code",
   "source": "print(y.head(5))",
   "id": "e9b7bf4f483b53ca",
   "outputs": [
    {
     "name": "stdout",
     "output_type": "stream",
     "text": [
      "id\n",
      "0    Extrovert\n",
      "1    Extrovert\n",
      "2    Introvert\n",
      "3    Extrovert\n",
      "4    Extrovert\n",
      "Name: Personality, dtype: object\n"
     ]
    }
   ],
   "execution_count": 167
  },
  {
   "metadata": {
    "ExecuteTime": {
     "end_time": "2025-07-24T16:35:38.902332Z",
     "start_time": "2025-07-24T16:35:38.892993Z"
    }
   },
   "cell_type": "code",
   "source": [
    "#Splitting the train and test set\n",
    "X_train,X_test,y_train,y_test=train_test_split(X,y,test_size=0.2,random_state=1,shuffle=True)\n",
    "print(X_train.shape,y_train.shape)\n",
    "print(X_test.shape,y_test.shape)"
   ],
   "id": "9ef20e570632f857",
   "outputs": [
    {
     "name": "stdout",
     "output_type": "stream",
     "text": [
      "(14819, 7) (14819,)\n",
      "(3705, 7) (3705,)\n"
     ]
    }
   ],
   "execution_count": 168
  },
  {
   "metadata": {},
   "cell_type": "markdown",
   "source": "### Label Encoding the Categorical Variable",
   "id": "1be00fa211a82941"
  },
  {
   "metadata": {
    "ExecuteTime": {
     "end_time": "2025-07-24T16:35:39.008256Z",
     "start_time": "2025-07-24T16:35:38.998744Z"
    }
   },
   "cell_type": "code",
   "source": [
    "le=LabelEncoder()\n",
    "y_train=le.fit_transform(y_train)\n",
    "y_test=le.transform(y_test)\n"
   ],
   "id": "89bbe3595a225395",
   "outputs": [],
   "execution_count": 169
  },
  {
   "metadata": {
    "ExecuteTime": {
     "end_time": "2025-07-24T16:35:39.057104Z",
     "start_time": "2025-07-24T16:35:39.048759Z"
    }
   },
   "cell_type": "code",
   "source": [
    "le_name_mapping=dict(zip(le.classes_,le.transform(le.classes_)))\n",
    "le_name_mapping"
   ],
   "id": "ca5ccf61bc3dfc65",
   "outputs": [
    {
     "data": {
      "text/plain": [
       "{'Extrovert': 0, 'Introvert': 1}"
      ]
     },
     "execution_count": 170,
     "metadata": {},
     "output_type": "execute_result"
    }
   ],
   "execution_count": 170
  },
  {
   "metadata": {
    "ExecuteTime": {
     "end_time": "2025-07-24T16:35:39.106412Z",
     "start_time": "2025-07-24T16:35:39.100466Z"
    }
   },
   "cell_type": "code",
   "source": "print(y_train[:30])",
   "id": "e785771ad3e2ae87",
   "outputs": [
    {
     "name": "stdout",
     "output_type": "stream",
     "text": [
      "[0 0 0 0 0 1 0 0 1 0 1 0 0 1 0 0 0 0 0 0 1 1 0 0 0 1 1 0 0 0]\n"
     ]
    }
   ],
   "execution_count": 171
  },
  {
   "metadata": {
    "ExecuteTime": {
     "end_time": "2025-07-24T16:35:39.156703Z",
     "start_time": "2025-07-24T16:35:39.150736Z"
    }
   },
   "cell_type": "code",
   "source": "print(y_test[:30])",
   "id": "a0013242c6ea2b2",
   "outputs": [
    {
     "name": "stdout",
     "output_type": "stream",
     "text": [
      "[0 0 0 0 0 0 0 0 0 0 0 1 0 1 1 0 1 0 1 0 0 0 0 0 0 1 0 0 0 1]\n"
     ]
    }
   ],
   "execution_count": 172
  },
  {
   "metadata": {},
   "cell_type": "markdown",
   "source": "### Creating Pipeline",
   "id": "d826bb6bb152ecf4"
  },
  {
   "metadata": {
    "ExecuteTime": {
     "end_time": "2025-07-24T16:35:39.199932Z",
     "start_time": "2025-07-24T16:35:39.194643Z"
    }
   },
   "cell_type": "code",
   "source": [
    "num_pipeline = make_pipeline(SimpleImputer(strategy=\"median\"),StandardScaler())\n",
    "cat_pipeline=make_pipeline(SimpleImputer(strategy=\"most_frequent\"),OrdinalEncoder(handle_unknown='use_encoded_value',unknown_value=np.nan))\n"
   ],
   "id": "2a5507e16df8cd61",
   "outputs": [],
   "execution_count": 173
  },
  {
   "metadata": {},
   "cell_type": "markdown",
   "source": "### Making the Column Transformer",
   "id": "aec97745e978b66c"
  },
  {
   "metadata": {
    "ExecuteTime": {
     "end_time": "2025-07-24T16:35:39.241598Z",
     "start_time": "2025-07-24T16:35:39.235936Z"
    }
   },
   "cell_type": "code",
   "source": "ct=ColumnTransformer([(\"num\",num_pipeline,num_cols),(\"cat\",cat_pipeline,cat_cols)],verbose_feature_names_out=False,remainder='passthrough').set_output(transform='pandas')",
   "id": "32679cad17ea12bb",
   "outputs": [],
   "execution_count": 174
  },
  {
   "metadata": {
    "ExecuteTime": {
     "end_time": "2025-07-24T16:35:39.283236Z",
     "start_time": "2025-07-24T16:35:39.247862Z"
    }
   },
   "cell_type": "code",
   "source": [
    "X_train=pd.DataFrame(ct.fit_transform(X_train),columns=ct.get_feature_names_out())\n",
    "X_test=pd.DataFrame(ct.transform(X_test),columns=ct.get_feature_names_out())"
   ],
   "id": "d471695f1307e659",
   "outputs": [],
   "execution_count": 175
  },
  {
   "metadata": {
    "ExecuteTime": {
     "end_time": "2025-07-24T16:35:39.357275Z",
     "start_time": "2025-07-24T16:35:39.351939Z"
    }
   },
   "cell_type": "code",
   "source": [
    "#Checking the Transformed dataframe shape\n",
    "print(X_train.shape,y_train.shape)\n",
    "print(X_test.shape,y_test.shape)"
   ],
   "id": "581812fe54972a0",
   "outputs": [
    {
     "name": "stdout",
     "output_type": "stream",
     "text": [
      "(14819, 7) (14819,)\n",
      "(3705, 7) (3705,)\n"
     ]
    }
   ],
   "execution_count": 176
  },
  {
   "metadata": {
    "ExecuteTime": {
     "end_time": "2025-07-24T16:35:39.373553Z",
     "start_time": "2025-07-24T16:35:39.367221Z"
    }
   },
   "cell_type": "code",
   "source": [
    "X_train['Stage_fear']=X_train['Stage_fear'].astype(int)\n",
    "X_test['Stage_fear']=X_test['Stage_fear'].astype(int)\n",
    "X_train['Drained_after_socializing']=X_train['Drained_after_socializing'].astype(int)\n",
    "X_test['Drained_after_socializing']=X_test['Drained_after_socializing'].astype(int)"
   ],
   "id": "8f280f84277c4ba7",
   "outputs": [],
   "execution_count": 177
  },
  {
   "metadata": {
    "ExecuteTime": {
     "end_time": "2025-07-24T16:35:39.445922Z",
     "start_time": "2025-07-24T16:35:39.437021Z"
    }
   },
   "cell_type": "code",
   "source": [
    "#Checking the contents of Transformed Dataset\n",
    "X_train.head()"
   ],
   "id": "149fd868bdd38b34",
   "outputs": [
    {
     "data": {
      "text/plain": [
       "       Time_spent_Alone  Social_event_attendance  Going_outside  \\\n",
       "id                                                                \n",
       "18489         -0.020671                -0.470224      -0.020538   \n",
       "8928          -0.020671                -0.095264      -0.020538   \n",
       "12380         -1.049754                -0.095264       1.496192   \n",
       "3982          -0.706726                 0.279695      -0.020538   \n",
       "17604         -1.049754                -0.095264      -0.526115   \n",
       "\n",
       "       Friends_circle_size  Post_frequency  Stage_fear  \\\n",
       "id                                                       \n",
       "18489            -0.239615        0.724290           0   \n",
       "8928              1.222343       -0.353058           0   \n",
       "12380             0.004045       -0.712174           0   \n",
       "3982              0.978684        0.006058           0   \n",
       "17604             0.247705        0.006058           0   \n",
       "\n",
       "       Drained_after_socializing  \n",
       "id                                \n",
       "18489                          0  \n",
       "8928                           0  \n",
       "12380                          0  \n",
       "3982                           0  \n",
       "17604                          0  "
      ],
      "text/html": [
       "<div>\n",
       "<style scoped>\n",
       "    .dataframe tbody tr th:only-of-type {\n",
       "        vertical-align: middle;\n",
       "    }\n",
       "\n",
       "    .dataframe tbody tr th {\n",
       "        vertical-align: top;\n",
       "    }\n",
       "\n",
       "    .dataframe thead th {\n",
       "        text-align: right;\n",
       "    }\n",
       "</style>\n",
       "<table border=\"1\" class=\"dataframe\">\n",
       "  <thead>\n",
       "    <tr style=\"text-align: right;\">\n",
       "      <th></th>\n",
       "      <th>Time_spent_Alone</th>\n",
       "      <th>Social_event_attendance</th>\n",
       "      <th>Going_outside</th>\n",
       "      <th>Friends_circle_size</th>\n",
       "      <th>Post_frequency</th>\n",
       "      <th>Stage_fear</th>\n",
       "      <th>Drained_after_socializing</th>\n",
       "    </tr>\n",
       "    <tr>\n",
       "      <th>id</th>\n",
       "      <th></th>\n",
       "      <th></th>\n",
       "      <th></th>\n",
       "      <th></th>\n",
       "      <th></th>\n",
       "      <th></th>\n",
       "      <th></th>\n",
       "    </tr>\n",
       "  </thead>\n",
       "  <tbody>\n",
       "    <tr>\n",
       "      <th>18489</th>\n",
       "      <td>-0.020671</td>\n",
       "      <td>-0.470224</td>\n",
       "      <td>-0.020538</td>\n",
       "      <td>-0.239615</td>\n",
       "      <td>0.724290</td>\n",
       "      <td>0</td>\n",
       "      <td>0</td>\n",
       "    </tr>\n",
       "    <tr>\n",
       "      <th>8928</th>\n",
       "      <td>-0.020671</td>\n",
       "      <td>-0.095264</td>\n",
       "      <td>-0.020538</td>\n",
       "      <td>1.222343</td>\n",
       "      <td>-0.353058</td>\n",
       "      <td>0</td>\n",
       "      <td>0</td>\n",
       "    </tr>\n",
       "    <tr>\n",
       "      <th>12380</th>\n",
       "      <td>-1.049754</td>\n",
       "      <td>-0.095264</td>\n",
       "      <td>1.496192</td>\n",
       "      <td>0.004045</td>\n",
       "      <td>-0.712174</td>\n",
       "      <td>0</td>\n",
       "      <td>0</td>\n",
       "    </tr>\n",
       "    <tr>\n",
       "      <th>3982</th>\n",
       "      <td>-0.706726</td>\n",
       "      <td>0.279695</td>\n",
       "      <td>-0.020538</td>\n",
       "      <td>0.978684</td>\n",
       "      <td>0.006058</td>\n",
       "      <td>0</td>\n",
       "      <td>0</td>\n",
       "    </tr>\n",
       "    <tr>\n",
       "      <th>17604</th>\n",
       "      <td>-1.049754</td>\n",
       "      <td>-0.095264</td>\n",
       "      <td>-0.526115</td>\n",
       "      <td>0.247705</td>\n",
       "      <td>0.006058</td>\n",
       "      <td>0</td>\n",
       "      <td>0</td>\n",
       "    </tr>\n",
       "  </tbody>\n",
       "</table>\n",
       "</div>"
      ]
     },
     "execution_count": 178,
     "metadata": {},
     "output_type": "execute_result"
    }
   ],
   "execution_count": 178
  },
  {
   "metadata": {
    "ExecuteTime": {
     "end_time": "2025-07-24T16:35:39.536241Z",
     "start_time": "2025-07-24T16:35:39.522308Z"
    }
   },
   "cell_type": "code",
   "source": [
    "print(X_train.info())\n",
    "print(\"\\n\")\n",
    "print(\"*\"*40)\n",
    "print(\"\\n\")\n",
    "print(X_test.info())"
   ],
   "id": "f4f73f704f51bcb0",
   "outputs": [
    {
     "name": "stdout",
     "output_type": "stream",
     "text": [
      "<class 'pandas.core.frame.DataFrame'>\n",
      "Index: 14819 entries, 18489 to 235\n",
      "Data columns (total 7 columns):\n",
      " #   Column                     Non-Null Count  Dtype  \n",
      "---  ------                     --------------  -----  \n",
      " 0   Time_spent_Alone           14819 non-null  float64\n",
      " 1   Social_event_attendance    14819 non-null  float64\n",
      " 2   Going_outside              14819 non-null  float64\n",
      " 3   Friends_circle_size        14819 non-null  float64\n",
      " 4   Post_frequency             14819 non-null  float64\n",
      " 5   Stage_fear                 14819 non-null  int32  \n",
      " 6   Drained_after_socializing  14819 non-null  int32  \n",
      "dtypes: float64(5), int32(2)\n",
      "memory usage: 810.4 KB\n",
      "None\n",
      "\n",
      "\n",
      "****************************************\n",
      "\n",
      "\n",
      "<class 'pandas.core.frame.DataFrame'>\n",
      "Index: 3705 entries, 13660 to 5890\n",
      "Data columns (total 7 columns):\n",
      " #   Column                     Non-Null Count  Dtype  \n",
      "---  ------                     --------------  -----  \n",
      " 0   Time_spent_Alone           3705 non-null   float64\n",
      " 1   Social_event_attendance    3705 non-null   float64\n",
      " 2   Going_outside              3705 non-null   float64\n",
      " 3   Friends_circle_size        3705 non-null   float64\n",
      " 4   Post_frequency             3705 non-null   float64\n",
      " 5   Stage_fear                 3705 non-null   int32  \n",
      " 6   Drained_after_socializing  3705 non-null   int32  \n",
      "dtypes: float64(5), int32(2)\n",
      "memory usage: 202.6 KB\n",
      "None\n"
     ]
    }
   ],
   "execution_count": 179
  },
  {
   "metadata": {
    "ExecuteTime": {
     "end_time": "2025-07-24T16:35:39.620368Z",
     "start_time": "2025-07-24T16:35:39.612647Z"
    }
   },
   "cell_type": "code",
   "source": [
    "#Checking the NUll Values\n",
    "X_train.isnull().sum()"
   ],
   "id": "84f22643197729d2",
   "outputs": [
    {
     "data": {
      "text/plain": [
       "Time_spent_Alone             0\n",
       "Social_event_attendance      0\n",
       "Going_outside                0\n",
       "Friends_circle_size          0\n",
       "Post_frequency               0\n",
       "Stage_fear                   0\n",
       "Drained_after_socializing    0\n",
       "dtype: int64"
      ]
     },
     "execution_count": 180,
     "metadata": {},
     "output_type": "execute_result"
    }
   ],
   "execution_count": 180
  },
  {
   "metadata": {
    "ExecuteTime": {
     "end_time": "2025-07-24T16:35:39.728275Z",
     "start_time": "2025-07-24T16:35:39.719096Z"
    }
   },
   "cell_type": "code",
   "source": "X_test.isnull().sum()",
   "id": "3def537e1277e30f",
   "outputs": [
    {
     "data": {
      "text/plain": [
       "Time_spent_Alone             0\n",
       "Social_event_attendance      0\n",
       "Going_outside                0\n",
       "Friends_circle_size          0\n",
       "Post_frequency               0\n",
       "Stage_fear                   0\n",
       "Drained_after_socializing    0\n",
       "dtype: int64"
      ]
     },
     "execution_count": 181,
     "metadata": {},
     "output_type": "execute_result"
    }
   ],
   "execution_count": 181
  },
  {
   "metadata": {},
   "cell_type": "markdown",
   "source": "# Preparing Data for Modelling",
   "id": "fd09a3c25a81bca9"
  },
  {
   "metadata": {},
   "cell_type": "markdown",
   "source": "### Setting the Initial Neural Network",
   "id": "a2c72a5bb902fcc2"
  },
  {
   "metadata": {
    "ExecuteTime": {
     "end_time": "2025-07-24T16:35:39.845672Z",
     "start_time": "2025-07-24T16:35:39.841629Z"
    }
   },
   "cell_type": "code",
   "source": [
    "seed=12\n",
    "np.random.seed(seed)\n",
    "random.set_seed(seed)"
   ],
   "id": "9193b7c00283166b",
   "outputs": [],
   "execution_count": 182
  },
  {
   "metadata": {},
   "cell_type": "markdown",
   "source": "### Setting the Parameters Grid",
   "id": "abf477f179ef8af9"
  },
  {
   "metadata": {
    "ExecuteTime": {
     "end_time": "2025-07-24T16:35:39.972417Z",
     "start_time": "2025-07-24T16:35:39.965468Z"
    }
   },
   "cell_type": "code",
   "source": [
    "params = {\n",
    "'model__activation':['relu', 'sigmoid', 'tanh'],\n",
    "'model__optimizer': ['adam', 'sgd', 'rmsprop'],\n",
    "'batch_size':[10,20,30,40,50,100],\n",
    "'model__dropout': [0.1,0.2,0.3,0.4,0.5],\n",
    "'epochs':[100,200,300,400,500],\n",
    "'model__neurons_1':[128,256,512],\n",
    "'model__neurons_2':[64,16],\n",
    "'model__neurons_3':[8,4]\n",
    "}"
   ],
   "id": "ec71c177c204add1",
   "outputs": [],
   "execution_count": 183
  },
  {
   "metadata": {
    "ExecuteTime": {
     "end_time": "2025-07-24T16:35:40.131098Z",
     "start_time": "2025-07-24T16:35:40.121374Z"
    }
   },
   "cell_type": "code",
   "source": [
    "def create_model(neurons_1,neurons_2,neurons_3,activation,optimizer,dropout):\n",
    "    model = Sequential()\n",
    "    model.add(Dense(input_dim=X_train.shape[1], units=neurons_1, activation=activation))\n",
    "    model.add(Dropout(dropout))\n",
    "    model.add(Dense(units=neurons_2, activation=activation))\n",
    "    model.add(Dropout(dropout))\n",
    "    model.add(Dense(units=neurons_3, activation=activation))\n",
    "    model.add(Dense(units=1,activation='sigmoid'))\n",
    "    model.compile(loss='binary_crossentropy', optimizer=optimizer, metrics=['accuracy'])\n",
    "    return model\n"
   ],
   "id": "2d5189048a2937bc",
   "outputs": [],
   "execution_count": 184
  },
  {
   "metadata": {
    "ExecuteTime": {
     "end_time": "2025-07-24T16:35:40.210482Z",
     "start_time": "2025-07-24T16:35:40.205425Z"
    }
   },
   "cell_type": "code",
   "source": "model=KerasClassifier(model=create_model)",
   "id": "132d6ca6a3ed8a00",
   "outputs": [],
   "execution_count": 185
  },
  {
   "metadata": {
    "ExecuteTime": {
     "end_time": "2025-07-24T16:35:40.311984Z",
     "start_time": "2025-07-24T16:35:40.305905Z"
    }
   },
   "cell_type": "code",
   "source": "random_search=RandomizedSearchCV(estimator=model,param_distributions=params,cv=10,verbose=1,n_iter=5)",
   "id": "c24fd7e51171d5a3",
   "outputs": [],
   "execution_count": 186
  },
  {
   "metadata": {
    "jupyter": {
     "is_executing": true
    },
    "ExecuteTime": {
     "start_time": "2025-07-24T16:35:40.416062Z"
    }
   },
   "cell_type": "code",
   "source": [
    "random_search_result=random_search.fit(X_train,y_train)\n",
    "\n",
    "print(\"Best Paramaters\",random_search.best_params_)\n",
    "print(\"Best Score\",random_search.best_score_)"
   ],
   "id": "7598f01d0414b920",
   "outputs": [
    {
     "name": "stdout",
     "output_type": "stream",
     "text": [
      "Fitting 10 folds for each of 5 candidates, totalling 50 fits\n",
      "Epoch 1/200\n",
      "\u001B[1m134/134\u001B[0m \u001B[32m━━━━━━━━━━━━━━━━━━━━\u001B[0m\u001B[37m\u001B[0m \u001B[1m1s\u001B[0m 3ms/step - accuracy: 0.7851 - loss: 0.5567\n",
      "Epoch 2/200\n",
      "\u001B[1m134/134\u001B[0m \u001B[32m━━━━━━━━━━━━━━━━━━━━\u001B[0m\u001B[37m\u001B[0m \u001B[1m0s\u001B[0m 2ms/step - accuracy: 0.8925 - loss: 0.3444\n",
      "Epoch 3/200\n",
      "\u001B[1m134/134\u001B[0m \u001B[32m━━━━━━━━━━━━━━━━━━━━\u001B[0m\u001B[37m\u001B[0m \u001B[1m0s\u001B[0m 2ms/step - accuracy: 0.9283 - loss: 0.2549\n",
      "Epoch 4/200\n",
      "\u001B[1m134/134\u001B[0m \u001B[32m━━━━━━━━━━━━━━━━━━━━\u001B[0m\u001B[37m\u001B[0m \u001B[1m0s\u001B[0m 2ms/step - accuracy: 0.9434 - loss: 0.2149\n",
      "Epoch 5/200\n",
      "\u001B[1m134/134\u001B[0m \u001B[32m━━━━━━━━━━━━━━━━━━━━\u001B[0m\u001B[37m\u001B[0m \u001B[1m0s\u001B[0m 2ms/step - accuracy: 0.9483 - loss: 0.2002\n",
      "Epoch 6/200\n",
      "\u001B[1m134/134\u001B[0m \u001B[32m━━━━━━━━━━━━━━━━━━━━\u001B[0m\u001B[37m\u001B[0m \u001B[1m0s\u001B[0m 2ms/step - accuracy: 0.9500 - loss: 0.1962\n",
      "Epoch 7/200\n",
      "\u001B[1m134/134\u001B[0m \u001B[32m━━━━━━━━━━━━━━━━━━━━\u001B[0m\u001B[37m\u001B[0m \u001B[1m0s\u001B[0m 2ms/step - accuracy: 0.9535 - loss: 0.1847\n",
      "Epoch 8/200\n",
      "\u001B[1m134/134\u001B[0m \u001B[32m━━━━━━━━━━━━━━━━━━━━\u001B[0m\u001B[37m\u001B[0m \u001B[1m0s\u001B[0m 2ms/step - accuracy: 0.9535 - loss: 0.1855\n",
      "Epoch 9/200\n",
      "\u001B[1m134/134\u001B[0m \u001B[32m━━━━━━━━━━━━━━━━━━━━\u001B[0m\u001B[37m\u001B[0m \u001B[1m0s\u001B[0m 2ms/step - accuracy: 0.9566 - loss: 0.1783\n",
      "Epoch 10/200\n",
      "\u001B[1m134/134\u001B[0m \u001B[32m━━━━━━━━━━━━━━━━━━━━\u001B[0m\u001B[37m\u001B[0m \u001B[1m0s\u001B[0m 2ms/step - accuracy: 0.9523 - loss: 0.1878\n",
      "Epoch 11/200\n",
      "\u001B[1m134/134\u001B[0m \u001B[32m━━━━━━━━━━━━━━━━━━━━\u001B[0m\u001B[37m\u001B[0m \u001B[1m0s\u001B[0m 2ms/step - accuracy: 0.9544 - loss: 0.1801\n",
      "Epoch 12/200\n",
      "\u001B[1m134/134\u001B[0m \u001B[32m━━━━━━━━━━━━━━━━━━━━\u001B[0m\u001B[37m\u001B[0m \u001B[1m0s\u001B[0m 2ms/step - accuracy: 0.9530 - loss: 0.1769\n",
      "Epoch 13/200\n",
      "\u001B[1m134/134\u001B[0m \u001B[32m━━━━━━━━━━━━━━━━━━━━\u001B[0m\u001B[37m\u001B[0m \u001B[1m0s\u001B[0m 2ms/step - accuracy: 0.9514 - loss: 0.1792\n",
      "Epoch 14/200\n",
      "\u001B[1m134/134\u001B[0m \u001B[32m━━━━━━━━━━━━━━━━━━━━\u001B[0m\u001B[37m\u001B[0m \u001B[1m0s\u001B[0m 2ms/step - accuracy: 0.9536 - loss: 0.1719\n",
      "Epoch 15/200\n",
      "\u001B[1m134/134\u001B[0m \u001B[32m━━━━━━━━━━━━━━━━━━━━\u001B[0m\u001B[37m\u001B[0m \u001B[1m0s\u001B[0m 2ms/step - accuracy: 0.9518 - loss: 0.1788\n",
      "Epoch 16/200\n",
      "\u001B[1m134/134\u001B[0m \u001B[32m━━━━━━━━━━━━━━━━━━━━\u001B[0m\u001B[37m\u001B[0m \u001B[1m0s\u001B[0m 2ms/step - accuracy: 0.9547 - loss: 0.1741\n",
      "Epoch 17/200\n",
      "\u001B[1m134/134\u001B[0m \u001B[32m━━━━━━━━━━━━━━━━━━━━\u001B[0m\u001B[37m\u001B[0m \u001B[1m0s\u001B[0m 2ms/step - accuracy: 0.9528 - loss: 0.1784\n",
      "Epoch 18/200\n",
      "\u001B[1m134/134\u001B[0m \u001B[32m━━━━━━━━━━━━━━━━━━━━\u001B[0m\u001B[37m\u001B[0m \u001B[1m0s\u001B[0m 2ms/step - accuracy: 0.9569 - loss: 0.1636\n",
      "Epoch 19/200\n",
      "\u001B[1m134/134\u001B[0m \u001B[32m━━━━━━━━━━━━━━━━━━━━\u001B[0m\u001B[37m\u001B[0m \u001B[1m0s\u001B[0m 2ms/step - accuracy: 0.9531 - loss: 0.1719\n",
      "Epoch 20/200\n",
      "\u001B[1m134/134\u001B[0m \u001B[32m━━━━━━━━━━━━━━━━━━━━\u001B[0m\u001B[37m\u001B[0m \u001B[1m0s\u001B[0m 2ms/step - accuracy: 0.9559 - loss: 0.1650\n",
      "Epoch 21/200\n",
      "\u001B[1m134/134\u001B[0m \u001B[32m━━━━━━━━━━━━━━━━━━━━\u001B[0m\u001B[37m\u001B[0m \u001B[1m0s\u001B[0m 2ms/step - accuracy: 0.9568 - loss: 0.1691\n",
      "Epoch 22/200\n",
      "\u001B[1m134/134\u001B[0m \u001B[32m━━━━━━━━━━━━━━━━━━━━\u001B[0m\u001B[37m\u001B[0m \u001B[1m0s\u001B[0m 2ms/step - accuracy: 0.9541 - loss: 0.1688\n",
      "Epoch 23/200\n",
      "\u001B[1m134/134\u001B[0m \u001B[32m━━━━━━━━━━━━━━━━━━━━\u001B[0m\u001B[37m\u001B[0m \u001B[1m0s\u001B[0m 2ms/step - accuracy: 0.9560 - loss: 0.1641\n",
      "Epoch 24/200\n",
      "\u001B[1m134/134\u001B[0m \u001B[32m━━━━━━━━━━━━━━━━━━━━\u001B[0m\u001B[37m\u001B[0m \u001B[1m0s\u001B[0m 2ms/step - accuracy: 0.9619 - loss: 0.1620\n",
      "Epoch 25/200\n",
      "\u001B[1m134/134\u001B[0m \u001B[32m━━━━━━━━━━━━━━━━━━━━\u001B[0m\u001B[37m\u001B[0m \u001B[1m0s\u001B[0m 2ms/step - accuracy: 0.9626 - loss: 0.1628\n",
      "Epoch 26/200\n",
      "\u001B[1m134/134\u001B[0m \u001B[32m━━━━━━━━━━━━━━━━━━━━\u001B[0m\u001B[37m\u001B[0m \u001B[1m0s\u001B[0m 2ms/step - accuracy: 0.9608 - loss: 0.1621\n",
      "Epoch 27/200\n",
      "\u001B[1m134/134\u001B[0m \u001B[32m━━━━━━━━━━━━━━━━━━━━\u001B[0m\u001B[37m\u001B[0m \u001B[1m0s\u001B[0m 2ms/step - accuracy: 0.9617 - loss: 0.1599\n",
      "Epoch 28/200\n",
      "\u001B[1m134/134\u001B[0m \u001B[32m━━━━━━━━━━━━━━━━━━━━\u001B[0m\u001B[37m\u001B[0m \u001B[1m0s\u001B[0m 2ms/step - accuracy: 0.9604 - loss: 0.1603\n",
      "Epoch 29/200\n",
      "\u001B[1m134/134\u001B[0m \u001B[32m━━━━━━━━━━━━━━━━━━━━\u001B[0m\u001B[37m\u001B[0m \u001B[1m0s\u001B[0m 2ms/step - accuracy: 0.9619 - loss: 0.1606\n",
      "Epoch 30/200\n",
      "\u001B[1m134/134\u001B[0m \u001B[32m━━━━━━━━━━━━━━━━━━━━\u001B[0m\u001B[37m\u001B[0m \u001B[1m0s\u001B[0m 2ms/step - accuracy: 0.9629 - loss: 0.1573\n",
      "Epoch 31/200\n",
      "\u001B[1m134/134\u001B[0m \u001B[32m━━━━━━━━━━━━━━━━━━━━\u001B[0m\u001B[37m\u001B[0m \u001B[1m0s\u001B[0m 2ms/step - accuracy: 0.9627 - loss: 0.1585\n",
      "Epoch 32/200\n",
      "\u001B[1m134/134\u001B[0m \u001B[32m━━━━━━━━━━━━━━━━━━━━\u001B[0m\u001B[37m\u001B[0m \u001B[1m0s\u001B[0m 2ms/step - accuracy: 0.9642 - loss: 0.1534\n",
      "Epoch 33/200\n",
      "\u001B[1m134/134\u001B[0m \u001B[32m━━━━━━━━━━━━━━━━━━━━\u001B[0m\u001B[37m\u001B[0m \u001B[1m0s\u001B[0m 2ms/step - accuracy: 0.9630 - loss: 0.1589\n",
      "Epoch 34/200\n",
      "\u001B[1m134/134\u001B[0m \u001B[32m━━━━━━━━━━━━━━━━━━━━\u001B[0m\u001B[37m\u001B[0m \u001B[1m0s\u001B[0m 2ms/step - accuracy: 0.9630 - loss: 0.1572\n",
      "Epoch 35/200\n",
      "\u001B[1m134/134\u001B[0m \u001B[32m━━━━━━━━━━━━━━━━━━━━\u001B[0m\u001B[37m\u001B[0m \u001B[1m0s\u001B[0m 2ms/step - accuracy: 0.9658 - loss: 0.1524\n",
      "Epoch 36/200\n",
      "\u001B[1m134/134\u001B[0m \u001B[32m━━━━━━━━━━━━━━━━━━━━\u001B[0m\u001B[37m\u001B[0m \u001B[1m0s\u001B[0m 2ms/step - accuracy: 0.9638 - loss: 0.1600\n",
      "Epoch 37/200\n",
      "\u001B[1m134/134\u001B[0m \u001B[32m━━━━━━━━━━━━━━━━━━━━\u001B[0m\u001B[37m\u001B[0m \u001B[1m0s\u001B[0m 2ms/step - accuracy: 0.9632 - loss: 0.1604\n",
      "Epoch 38/200\n",
      "\u001B[1m134/134\u001B[0m \u001B[32m━━━━━━━━━━━━━━━━━━━━\u001B[0m\u001B[37m\u001B[0m \u001B[1m0s\u001B[0m 2ms/step - accuracy: 0.9650 - loss: 0.1549\n",
      "Epoch 39/200\n",
      "\u001B[1m134/134\u001B[0m \u001B[32m━━━━━━━━━━━━━━━━━━━━\u001B[0m\u001B[37m\u001B[0m \u001B[1m0s\u001B[0m 2ms/step - accuracy: 0.9668 - loss: 0.1520\n",
      "Epoch 40/200\n",
      "\u001B[1m134/134\u001B[0m \u001B[32m━━━━━━━━━━━━━━━━━━━━\u001B[0m\u001B[37m\u001B[0m \u001B[1m0s\u001B[0m 2ms/step - accuracy: 0.9660 - loss: 0.1526\n",
      "Epoch 41/200\n",
      "\u001B[1m134/134\u001B[0m \u001B[32m━━━━━━━━━━━━━━━━━━━━\u001B[0m\u001B[37m\u001B[0m \u001B[1m0s\u001B[0m 2ms/step - accuracy: 0.9672 - loss: 0.1498\n",
      "Epoch 42/200\n",
      "\u001B[1m134/134\u001B[0m \u001B[32m━━━━━━━━━━━━━━━━━━━━\u001B[0m\u001B[37m\u001B[0m \u001B[1m0s\u001B[0m 2ms/step - accuracy: 0.9649 - loss: 0.1535\n",
      "Epoch 43/200\n",
      "\u001B[1m134/134\u001B[0m \u001B[32m━━━━━━━━━━━━━━━━━━━━\u001B[0m\u001B[37m\u001B[0m \u001B[1m0s\u001B[0m 2ms/step - accuracy: 0.9658 - loss: 0.1517\n",
      "Epoch 44/200\n",
      "\u001B[1m134/134\u001B[0m \u001B[32m━━━━━━━━━━━━━━━━━━━━\u001B[0m\u001B[37m\u001B[0m \u001B[1m0s\u001B[0m 2ms/step - accuracy: 0.9644 - loss: 0.1554\n",
      "Epoch 45/200\n",
      "\u001B[1m134/134\u001B[0m \u001B[32m━━━━━━━━━━━━━━━━━━━━\u001B[0m\u001B[37m\u001B[0m \u001B[1m0s\u001B[0m 2ms/step - accuracy: 0.9673 - loss: 0.1458\n",
      "Epoch 46/200\n",
      "\u001B[1m134/134\u001B[0m \u001B[32m━━━━━━━━━━━━━━━━━━━━\u001B[0m\u001B[37m\u001B[0m \u001B[1m0s\u001B[0m 2ms/step - accuracy: 0.9663 - loss: 0.1545\n",
      "Epoch 47/200\n",
      "\u001B[1m134/134\u001B[0m \u001B[32m━━━━━━━━━━━━━━━━━━━━\u001B[0m\u001B[37m\u001B[0m \u001B[1m0s\u001B[0m 2ms/step - accuracy: 0.9664 - loss: 0.1483\n",
      "Epoch 48/200\n",
      "\u001B[1m134/134\u001B[0m \u001B[32m━━━━━━━━━━━━━━━━━━━━\u001B[0m\u001B[37m\u001B[0m \u001B[1m0s\u001B[0m 2ms/step - accuracy: 0.9673 - loss: 0.1503\n",
      "Epoch 49/200\n",
      "\u001B[1m134/134\u001B[0m \u001B[32m━━━━━━━━━━━━━━━━━━━━\u001B[0m\u001B[37m\u001B[0m \u001B[1m0s\u001B[0m 2ms/step - accuracy: 0.9676 - loss: 0.1471\n",
      "Epoch 50/200\n",
      "\u001B[1m134/134\u001B[0m \u001B[32m━━━━━━━━━━━━━━━━━━━━\u001B[0m\u001B[37m\u001B[0m \u001B[1m0s\u001B[0m 2ms/step - accuracy: 0.9653 - loss: 0.1534\n",
      "Epoch 51/200\n",
      "\u001B[1m134/134\u001B[0m \u001B[32m━━━━━━━━━━━━━━━━━━━━\u001B[0m\u001B[37m\u001B[0m \u001B[1m0s\u001B[0m 2ms/step - accuracy: 0.9658 - loss: 0.1512\n",
      "Epoch 52/200\n",
      "\u001B[1m134/134\u001B[0m \u001B[32m━━━━━━━━━━━━━━━━━━━━\u001B[0m\u001B[37m\u001B[0m \u001B[1m0s\u001B[0m 2ms/step - accuracy: 0.9675 - loss: 0.1501\n",
      "Epoch 53/200\n",
      "\u001B[1m134/134\u001B[0m \u001B[32m━━━━━━━━━━━━━━━━━━━━\u001B[0m\u001B[37m\u001B[0m \u001B[1m0s\u001B[0m 2ms/step - accuracy: 0.9661 - loss: 0.1543\n",
      "Epoch 54/200\n",
      "\u001B[1m134/134\u001B[0m \u001B[32m━━━━━━━━━━━━━━━━━━━━\u001B[0m\u001B[37m\u001B[0m \u001B[1m0s\u001B[0m 2ms/step - accuracy: 0.9670 - loss: 0.1481\n",
      "Epoch 55/200\n",
      "\u001B[1m134/134\u001B[0m \u001B[32m━━━━━━━━━━━━━━━━━━━━\u001B[0m\u001B[37m\u001B[0m \u001B[1m0s\u001B[0m 2ms/step - accuracy: 0.9682 - loss: 0.1464\n",
      "Epoch 56/200\n",
      "\u001B[1m134/134\u001B[0m \u001B[32m━━━━━━━━━━━━━━━━━━━━\u001B[0m\u001B[37m\u001B[0m \u001B[1m0s\u001B[0m 2ms/step - accuracy: 0.9670 - loss: 0.1495\n",
      "Epoch 57/200\n",
      "\u001B[1m134/134\u001B[0m \u001B[32m━━━━━━━━━━━━━━━━━━━━\u001B[0m\u001B[37m\u001B[0m \u001B[1m0s\u001B[0m 2ms/step - accuracy: 0.9672 - loss: 0.1474\n",
      "Epoch 58/200\n",
      "\u001B[1m134/134\u001B[0m \u001B[32m━━━━━━━━━━━━━━━━━━━━\u001B[0m\u001B[37m\u001B[0m \u001B[1m0s\u001B[0m 2ms/step - accuracy: 0.9668 - loss: 0.1474\n",
      "Epoch 59/200\n",
      "\u001B[1m134/134\u001B[0m \u001B[32m━━━━━━━━━━━━━━━━━━━━\u001B[0m\u001B[37m\u001B[0m \u001B[1m0s\u001B[0m 2ms/step - accuracy: 0.9674 - loss: 0.1488\n",
      "Epoch 60/200\n",
      "\u001B[1m134/134\u001B[0m \u001B[32m━━━━━━━━━━━━━━━━━━━━\u001B[0m\u001B[37m\u001B[0m \u001B[1m0s\u001B[0m 2ms/step - accuracy: 0.9671 - loss: 0.1477\n",
      "Epoch 61/200\n",
      "\u001B[1m134/134\u001B[0m \u001B[32m━━━━━━━━━━━━━━━━━━━━\u001B[0m\u001B[37m\u001B[0m \u001B[1m0s\u001B[0m 2ms/step - accuracy: 0.9684 - loss: 0.1492\n",
      "Epoch 62/200\n",
      "\u001B[1m134/134\u001B[0m \u001B[32m━━━━━━━━━━━━━━━━━━━━\u001B[0m\u001B[37m\u001B[0m \u001B[1m0s\u001B[0m 2ms/step - accuracy: 0.9671 - loss: 0.1457\n",
      "Epoch 63/200\n",
      "\u001B[1m134/134\u001B[0m \u001B[32m━━━━━━━━━━━━━━━━━━━━\u001B[0m\u001B[37m\u001B[0m \u001B[1m0s\u001B[0m 2ms/step - accuracy: 0.9674 - loss: 0.1466\n",
      "Epoch 64/200\n",
      "\u001B[1m134/134\u001B[0m \u001B[32m━━━━━━━━━━━━━━━━━━━━\u001B[0m\u001B[37m\u001B[0m \u001B[1m0s\u001B[0m 2ms/step - accuracy: 0.9675 - loss: 0.1442\n",
      "Epoch 65/200\n",
      "\u001B[1m134/134\u001B[0m \u001B[32m━━━━━━━━━━━━━━━━━━━━\u001B[0m\u001B[37m\u001B[0m \u001B[1m0s\u001B[0m 2ms/step - accuracy: 0.9662 - loss: 0.1454\n",
      "Epoch 66/200\n",
      "\u001B[1m134/134\u001B[0m \u001B[32m━━━━━━━━━━━━━━━━━━━━\u001B[0m\u001B[37m\u001B[0m \u001B[1m0s\u001B[0m 2ms/step - accuracy: 0.9658 - loss: 0.1490\n",
      "Epoch 67/200\n",
      "\u001B[1m134/134\u001B[0m \u001B[32m━━━━━━━━━━━━━━━━━━━━\u001B[0m\u001B[37m\u001B[0m \u001B[1m0s\u001B[0m 2ms/step - accuracy: 0.9671 - loss: 0.1473\n",
      "Epoch 68/200\n",
      "\u001B[1m134/134\u001B[0m \u001B[32m━━━━━━━━━━━━━━━━━━━━\u001B[0m\u001B[37m\u001B[0m \u001B[1m0s\u001B[0m 2ms/step - accuracy: 0.9682 - loss: 0.1442\n",
      "Epoch 69/200\n",
      "\u001B[1m134/134\u001B[0m \u001B[32m━━━━━━━━━━━━━━━━━━━━\u001B[0m\u001B[37m\u001B[0m \u001B[1m0s\u001B[0m 2ms/step - accuracy: 0.9679 - loss: 0.1449\n",
      "Epoch 70/200\n",
      "\u001B[1m134/134\u001B[0m \u001B[32m━━━━━━━━━━━━━━━━━━━━\u001B[0m\u001B[37m\u001B[0m \u001B[1m0s\u001B[0m 2ms/step - accuracy: 0.9664 - loss: 0.1467\n",
      "Epoch 71/200\n",
      "\u001B[1m134/134\u001B[0m \u001B[32m━━━━━━━━━━━━━━━━━━━━\u001B[0m\u001B[37m\u001B[0m \u001B[1m0s\u001B[0m 2ms/step - accuracy: 0.9684 - loss: 0.1422\n",
      "Epoch 72/200\n",
      "\u001B[1m134/134\u001B[0m \u001B[32m━━━━━━━━━━━━━━━━━━━━\u001B[0m\u001B[37m\u001B[0m \u001B[1m0s\u001B[0m 2ms/step - accuracy: 0.9670 - loss: 0.1460\n",
      "Epoch 73/200\n",
      "\u001B[1m134/134\u001B[0m \u001B[32m━━━━━━━━━━━━━━━━━━━━\u001B[0m\u001B[37m\u001B[0m \u001B[1m0s\u001B[0m 2ms/step - accuracy: 0.9678 - loss: 0.1405\n",
      "Epoch 74/200\n",
      "\u001B[1m134/134\u001B[0m \u001B[32m━━━━━━━━━━━━━━━━━━━━\u001B[0m\u001B[37m\u001B[0m \u001B[1m0s\u001B[0m 2ms/step - accuracy: 0.9676 - loss: 0.1431\n",
      "Epoch 75/200\n",
      "\u001B[1m134/134\u001B[0m \u001B[32m━━━━━━━━━━━━━━━━━━━━\u001B[0m\u001B[37m\u001B[0m \u001B[1m0s\u001B[0m 2ms/step - accuracy: 0.9673 - loss: 0.1470\n",
      "Epoch 76/200\n",
      "\u001B[1m134/134\u001B[0m \u001B[32m━━━━━━━━━━━━━━━━━━━━\u001B[0m\u001B[37m\u001B[0m \u001B[1m0s\u001B[0m 2ms/step - accuracy: 0.9680 - loss: 0.1420\n",
      "Epoch 77/200\n",
      "\u001B[1m134/134\u001B[0m \u001B[32m━━━━━━━━━━━━━━━━━━━━\u001B[0m\u001B[37m\u001B[0m \u001B[1m0s\u001B[0m 2ms/step - accuracy: 0.9667 - loss: 0.1422\n",
      "Epoch 78/200\n",
      "\u001B[1m134/134\u001B[0m \u001B[32m━━━━━━━━━━━━━━━━━━━━\u001B[0m\u001B[37m\u001B[0m \u001B[1m0s\u001B[0m 2ms/step - accuracy: 0.9685 - loss: 0.1404\n",
      "Epoch 79/200\n",
      "\u001B[1m134/134\u001B[0m \u001B[32m━━━━━━━━━━━━━━━━━━━━\u001B[0m\u001B[37m\u001B[0m \u001B[1m0s\u001B[0m 2ms/step - accuracy: 0.9679 - loss: 0.1427\n",
      "Epoch 80/200\n",
      "\u001B[1m134/134\u001B[0m \u001B[32m━━━━━━━━━━━━━━━━━━━━\u001B[0m\u001B[37m\u001B[0m \u001B[1m0s\u001B[0m 2ms/step - accuracy: 0.9670 - loss: 0.1419\n",
      "Epoch 81/200\n",
      "\u001B[1m134/134\u001B[0m \u001B[32m━━━━━━━━━━━━━━━━━━━━\u001B[0m\u001B[37m\u001B[0m \u001B[1m0s\u001B[0m 2ms/step - accuracy: 0.9691 - loss: 0.1384\n",
      "Epoch 82/200\n",
      "\u001B[1m134/134\u001B[0m \u001B[32m━━━━━━━━━━━━━━━━━━━━\u001B[0m\u001B[37m\u001B[0m \u001B[1m0s\u001B[0m 2ms/step - accuracy: 0.9678 - loss: 0.1452\n",
      "Epoch 83/200\n",
      "\u001B[1m134/134\u001B[0m \u001B[32m━━━━━━━━━━━━━━━━━━━━\u001B[0m\u001B[37m\u001B[0m \u001B[1m0s\u001B[0m 2ms/step - accuracy: 0.9680 - loss: 0.1405\n",
      "Epoch 84/200\n",
      "\u001B[1m134/134\u001B[0m \u001B[32m━━━━━━━━━━━━━━━━━━━━\u001B[0m\u001B[37m\u001B[0m \u001B[1m0s\u001B[0m 2ms/step - accuracy: 0.9672 - loss: 0.1418\n",
      "Epoch 85/200\n",
      "\u001B[1m134/134\u001B[0m \u001B[32m━━━━━━━━━━━━━━━━━━━━\u001B[0m\u001B[37m\u001B[0m \u001B[1m0s\u001B[0m 2ms/step - accuracy: 0.9681 - loss: 0.1442\n",
      "Epoch 86/200\n",
      "\u001B[1m134/134\u001B[0m \u001B[32m━━━━━━━━━━━━━━━━━━━━\u001B[0m\u001B[37m\u001B[0m \u001B[1m0s\u001B[0m 2ms/step - accuracy: 0.9670 - loss: 0.1374\n",
      "Epoch 87/200\n",
      "\u001B[1m134/134\u001B[0m \u001B[32m━━━━━━━━━━━━━━━━━━━━\u001B[0m\u001B[37m\u001B[0m \u001B[1m0s\u001B[0m 2ms/step - accuracy: 0.9685 - loss: 0.1408\n",
      "Epoch 88/200\n",
      "\u001B[1m134/134\u001B[0m \u001B[32m━━━━━━━━━━━━━━━━━━━━\u001B[0m\u001B[37m\u001B[0m \u001B[1m0s\u001B[0m 2ms/step - accuracy: 0.9682 - loss: 0.1400\n",
      "Epoch 89/200\n",
      "\u001B[1m134/134\u001B[0m \u001B[32m━━━━━━━━━━━━━━━━━━━━\u001B[0m\u001B[37m\u001B[0m \u001B[1m0s\u001B[0m 2ms/step - accuracy: 0.9689 - loss: 0.1411\n",
      "Epoch 90/200\n",
      "\u001B[1m134/134\u001B[0m \u001B[32m━━━━━━━━━━━━━━━━━━━━\u001B[0m\u001B[37m\u001B[0m \u001B[1m0s\u001B[0m 2ms/step - accuracy: 0.9677 - loss: 0.1396\n",
      "Epoch 91/200\n",
      "\u001B[1m134/134\u001B[0m \u001B[32m━━━━━━━━━━━━━━━━━━━━\u001B[0m\u001B[37m\u001B[0m \u001B[1m0s\u001B[0m 2ms/step - accuracy: 0.9682 - loss: 0.1385\n",
      "Epoch 92/200\n",
      "\u001B[1m134/134\u001B[0m \u001B[32m━━━━━━━━━━━━━━━━━━━━\u001B[0m\u001B[37m\u001B[0m \u001B[1m0s\u001B[0m 2ms/step - accuracy: 0.9690 - loss: 0.1378\n",
      "Epoch 93/200\n",
      "\u001B[1m134/134\u001B[0m \u001B[32m━━━━━━━━━━━━━━━━━━━━\u001B[0m\u001B[37m\u001B[0m \u001B[1m0s\u001B[0m 2ms/step - accuracy: 0.9682 - loss: 0.1409\n",
      "Epoch 94/200\n",
      "\u001B[1m134/134\u001B[0m \u001B[32m━━━━━━━━━━━━━━━━━━━━\u001B[0m\u001B[37m\u001B[0m \u001B[1m0s\u001B[0m 2ms/step - accuracy: 0.9687 - loss: 0.1396\n",
      "Epoch 95/200\n",
      "\u001B[1m134/134\u001B[0m \u001B[32m━━━━━━━━━━━━━━━━━━━━\u001B[0m\u001B[37m\u001B[0m \u001B[1m0s\u001B[0m 2ms/step - accuracy: 0.9686 - loss: 0.1414\n",
      "Epoch 96/200\n",
      "\u001B[1m134/134\u001B[0m \u001B[32m━━━━━━━━━━━━━━━━━━━━\u001B[0m\u001B[37m\u001B[0m \u001B[1m0s\u001B[0m 2ms/step - accuracy: 0.9667 - loss: 0.1414\n",
      "Epoch 97/200\n",
      "\u001B[1m134/134\u001B[0m \u001B[32m━━━━━━━━━━━━━━━━━━━━\u001B[0m\u001B[37m\u001B[0m \u001B[1m0s\u001B[0m 2ms/step - accuracy: 0.9663 - loss: 0.1403\n",
      "Epoch 98/200\n",
      "\u001B[1m134/134\u001B[0m \u001B[32m━━━━━━━━━━━━━━━━━━━━\u001B[0m\u001B[37m\u001B[0m \u001B[1m0s\u001B[0m 2ms/step - accuracy: 0.9684 - loss: 0.1420\n",
      "Epoch 99/200\n",
      "\u001B[1m134/134\u001B[0m \u001B[32m━━━━━━━━━━━━━━━━━━━━\u001B[0m\u001B[37m\u001B[0m \u001B[1m0s\u001B[0m 2ms/step - accuracy: 0.9680 - loss: 0.1411\n",
      "Epoch 100/200\n",
      "\u001B[1m134/134\u001B[0m \u001B[32m━━━━━━━━━━━━━━━━━━━━\u001B[0m\u001B[37m\u001B[0m \u001B[1m0s\u001B[0m 2ms/step - accuracy: 0.9681 - loss: 0.1407\n",
      "Epoch 101/200\n",
      "\u001B[1m134/134\u001B[0m \u001B[32m━━━━━━━━━━━━━━━━━━━━\u001B[0m\u001B[37m\u001B[0m \u001B[1m0s\u001B[0m 2ms/step - accuracy: 0.9673 - loss: 0.1400\n",
      "Epoch 102/200\n",
      "\u001B[1m134/134\u001B[0m \u001B[32m━━━━━━━━━━━━━━━━━━━━\u001B[0m\u001B[37m\u001B[0m \u001B[1m0s\u001B[0m 2ms/step - accuracy: 0.9678 - loss: 0.1426\n",
      "Epoch 103/200\n",
      "\u001B[1m134/134\u001B[0m \u001B[32m━━━━━━━━━━━━━━━━━━━━\u001B[0m\u001B[37m\u001B[0m \u001B[1m0s\u001B[0m 2ms/step - accuracy: 0.9678 - loss: 0.1411\n",
      "Epoch 104/200\n",
      "\u001B[1m134/134\u001B[0m \u001B[32m━━━━━━━━━━━━━━━━━━━━\u001B[0m\u001B[37m\u001B[0m \u001B[1m0s\u001B[0m 2ms/step - accuracy: 0.9690 - loss: 0.1391\n",
      "Epoch 105/200\n",
      "\u001B[1m134/134\u001B[0m \u001B[32m━━━━━━━━━━━━━━━━━━━━\u001B[0m\u001B[37m\u001B[0m \u001B[1m0s\u001B[0m 2ms/step - accuracy: 0.9679 - loss: 0.1403\n",
      "Epoch 106/200\n",
      "\u001B[1m134/134\u001B[0m \u001B[32m━━━━━━━━━━━━━━━━━━━━\u001B[0m\u001B[37m\u001B[0m \u001B[1m0s\u001B[0m 2ms/step - accuracy: 0.9698 - loss: 0.1353\n",
      "Epoch 107/200\n",
      "\u001B[1m134/134\u001B[0m \u001B[32m━━━━━━━━━━━━━━━━━━━━\u001B[0m\u001B[37m\u001B[0m \u001B[1m0s\u001B[0m 2ms/step - accuracy: 0.9665 - loss: 0.1365\n",
      "Epoch 108/200\n",
      "\u001B[1m134/134\u001B[0m \u001B[32m━━━━━━━━━━━━━━━━━━━━\u001B[0m\u001B[37m\u001B[0m \u001B[1m0s\u001B[0m 2ms/step - accuracy: 0.9681 - loss: 0.1375\n",
      "Epoch 109/200\n",
      "\u001B[1m134/134\u001B[0m \u001B[32m━━━━━━━━━━━━━━━━━━━━\u001B[0m\u001B[37m\u001B[0m \u001B[1m0s\u001B[0m 2ms/step - accuracy: 0.9687 - loss: 0.1383\n",
      "Epoch 110/200\n",
      "\u001B[1m134/134\u001B[0m \u001B[32m━━━━━━━━━━━━━━━━━━━━\u001B[0m\u001B[37m\u001B[0m \u001B[1m0s\u001B[0m 2ms/step - accuracy: 0.9681 - loss: 0.1389\n",
      "Epoch 111/200\n",
      "\u001B[1m134/134\u001B[0m \u001B[32m━━━━━━━━━━━━━━━━━━━━\u001B[0m\u001B[37m\u001B[0m \u001B[1m0s\u001B[0m 2ms/step - accuracy: 0.9695 - loss: 0.1407\n",
      "Epoch 112/200\n",
      "\u001B[1m134/134\u001B[0m \u001B[32m━━━━━━━━━━━━━━━━━━━━\u001B[0m\u001B[37m\u001B[0m \u001B[1m0s\u001B[0m 2ms/step - accuracy: 0.9686 - loss: 0.1376\n",
      "Epoch 113/200\n",
      "\u001B[1m134/134\u001B[0m \u001B[32m━━━━━━━━━━━━━━━━━━━━\u001B[0m\u001B[37m\u001B[0m \u001B[1m0s\u001B[0m 2ms/step - accuracy: 0.9691 - loss: 0.1375\n",
      "Epoch 114/200\n",
      "\u001B[1m134/134\u001B[0m \u001B[32m━━━━━━━━━━━━━━━━━━━━\u001B[0m\u001B[37m\u001B[0m \u001B[1m0s\u001B[0m 2ms/step - accuracy: 0.9681 - loss: 0.1384\n",
      "Epoch 115/200\n",
      "\u001B[1m134/134\u001B[0m \u001B[32m━━━━━━━━━━━━━━━━━━━━\u001B[0m\u001B[37m\u001B[0m \u001B[1m0s\u001B[0m 2ms/step - accuracy: 0.9674 - loss: 0.1385\n",
      "Epoch 116/200\n",
      "\u001B[1m134/134\u001B[0m \u001B[32m━━━━━━━━━━━━━━━━━━━━\u001B[0m\u001B[37m\u001B[0m \u001B[1m0s\u001B[0m 2ms/step - accuracy: 0.9670 - loss: 0.1404\n",
      "Epoch 117/200\n",
      "\u001B[1m134/134\u001B[0m \u001B[32m━━━━━━━━━━━━━━━━━━━━\u001B[0m\u001B[37m\u001B[0m \u001B[1m0s\u001B[0m 2ms/step - accuracy: 0.9685 - loss: 0.1399\n",
      "Epoch 118/200\n",
      "\u001B[1m134/134\u001B[0m \u001B[32m━━━━━━━━━━━━━━━━━━━━\u001B[0m\u001B[37m\u001B[0m \u001B[1m0s\u001B[0m 2ms/step - accuracy: 0.9672 - loss: 0.1402\n",
      "Epoch 119/200\n",
      "\u001B[1m134/134\u001B[0m \u001B[32m━━━━━━━━━━━━━━━━━━━━\u001B[0m\u001B[37m\u001B[0m \u001B[1m0s\u001B[0m 2ms/step - accuracy: 0.9677 - loss: 0.1370\n",
      "Epoch 120/200\n",
      "\u001B[1m134/134\u001B[0m \u001B[32m━━━━━━━━━━━━━━━━━━━━\u001B[0m\u001B[37m\u001B[0m \u001B[1m0s\u001B[0m 2ms/step - accuracy: 0.9681 - loss: 0.1380\n",
      "Epoch 121/200\n",
      "\u001B[1m134/134\u001B[0m \u001B[32m━━━━━━━━━━━━━━━━━━━━\u001B[0m\u001B[37m\u001B[0m \u001B[1m0s\u001B[0m 2ms/step - accuracy: 0.9674 - loss: 0.1406\n",
      "Epoch 122/200\n",
      "\u001B[1m134/134\u001B[0m \u001B[32m━━━━━━━━━━━━━━━━━━━━\u001B[0m\u001B[37m\u001B[0m \u001B[1m0s\u001B[0m 2ms/step - accuracy: 0.9689 - loss: 0.1380\n",
      "Epoch 123/200\n",
      "\u001B[1m134/134\u001B[0m \u001B[32m━━━━━━━━━━━━━━━━━━━━\u001B[0m\u001B[37m\u001B[0m \u001B[1m0s\u001B[0m 2ms/step - accuracy: 0.9685 - loss: 0.1389\n",
      "Epoch 124/200\n",
      "\u001B[1m134/134\u001B[0m \u001B[32m━━━━━━━━━━━━━━━━━━━━\u001B[0m\u001B[37m\u001B[0m \u001B[1m0s\u001B[0m 2ms/step - accuracy: 0.9677 - loss: 0.1387\n",
      "Epoch 125/200\n",
      "\u001B[1m134/134\u001B[0m \u001B[32m━━━━━━━━━━━━━━━━━━━━\u001B[0m\u001B[37m\u001B[0m \u001B[1m0s\u001B[0m 2ms/step - accuracy: 0.9677 - loss: 0.1387\n",
      "Epoch 126/200\n",
      "\u001B[1m134/134\u001B[0m \u001B[32m━━━━━━━━━━━━━━━━━━━━\u001B[0m\u001B[37m\u001B[0m \u001B[1m0s\u001B[0m 2ms/step - accuracy: 0.9675 - loss: 0.1400\n",
      "Epoch 127/200\n",
      "\u001B[1m134/134\u001B[0m \u001B[32m━━━━━━━━━━━━━━━━━━━━\u001B[0m\u001B[37m\u001B[0m \u001B[1m0s\u001B[0m 2ms/step - accuracy: 0.9674 - loss: 0.1383\n",
      "Epoch 128/200\n",
      "\u001B[1m134/134\u001B[0m \u001B[32m━━━━━━━━━━━━━━━━━━━━\u001B[0m\u001B[37m\u001B[0m \u001B[1m0s\u001B[0m 2ms/step - accuracy: 0.9679 - loss: 0.1378\n",
      "Epoch 129/200\n",
      "\u001B[1m134/134\u001B[0m \u001B[32m━━━━━━━━━━━━━━━━━━━━\u001B[0m\u001B[37m\u001B[0m \u001B[1m0s\u001B[0m 2ms/step - accuracy: 0.9690 - loss: 0.1354\n",
      "Epoch 130/200\n",
      "\u001B[1m134/134\u001B[0m \u001B[32m━━━━━━━━━━━━━━━━━━━━\u001B[0m\u001B[37m\u001B[0m \u001B[1m0s\u001B[0m 2ms/step - accuracy: 0.9686 - loss: 0.1355\n",
      "Epoch 131/200\n",
      "\u001B[1m134/134\u001B[0m \u001B[32m━━━━━━━━━━━━━━━━━━━━\u001B[0m\u001B[37m\u001B[0m \u001B[1m0s\u001B[0m 2ms/step - accuracy: 0.9685 - loss: 0.1345\n",
      "Epoch 132/200\n",
      "\u001B[1m134/134\u001B[0m \u001B[32m━━━━━━━━━━━━━━━━━━━━\u001B[0m\u001B[37m\u001B[0m \u001B[1m0s\u001B[0m 2ms/step - accuracy: 0.9688 - loss: 0.1369\n",
      "Epoch 133/200\n",
      "\u001B[1m134/134\u001B[0m \u001B[32m━━━━━━━━━━━━━━━━━━━━\u001B[0m\u001B[37m\u001B[0m \u001B[1m0s\u001B[0m 2ms/step - accuracy: 0.9676 - loss: 0.1388\n",
      "Epoch 134/200\n",
      "\u001B[1m134/134\u001B[0m \u001B[32m━━━━━━━━━━━━━━━━━━━━\u001B[0m\u001B[37m\u001B[0m \u001B[1m0s\u001B[0m 2ms/step - accuracy: 0.9680 - loss: 0.1358\n",
      "Epoch 135/200\n",
      "\u001B[1m134/134\u001B[0m \u001B[32m━━━━━━━━━━━━━━━━━━━━\u001B[0m\u001B[37m\u001B[0m \u001B[1m0s\u001B[0m 2ms/step - accuracy: 0.9683 - loss: 0.1353\n",
      "Epoch 136/200\n",
      "\u001B[1m134/134\u001B[0m \u001B[32m━━━━━━━━━━━━━━━━━━━━\u001B[0m\u001B[37m\u001B[0m \u001B[1m0s\u001B[0m 2ms/step - accuracy: 0.9690 - loss: 0.1362\n",
      "Epoch 137/200\n",
      "\u001B[1m134/134\u001B[0m \u001B[32m━━━━━━━━━━━━━━━━━━━━\u001B[0m\u001B[37m\u001B[0m \u001B[1m0s\u001B[0m 2ms/step - accuracy: 0.9680 - loss: 0.1374\n",
      "Epoch 138/200\n",
      "\u001B[1m134/134\u001B[0m \u001B[32m━━━━━━━━━━━━━━━━━━━━\u001B[0m\u001B[37m\u001B[0m \u001B[1m0s\u001B[0m 2ms/step - accuracy: 0.9697 - loss: 0.1339\n",
      "Epoch 139/200\n",
      "\u001B[1m134/134\u001B[0m \u001B[32m━━━━━━━━━━━━━━━━━━━━\u001B[0m\u001B[37m\u001B[0m \u001B[1m0s\u001B[0m 2ms/step - accuracy: 0.9671 - loss: 0.1376\n",
      "Epoch 140/200\n",
      "\u001B[1m134/134\u001B[0m \u001B[32m━━━━━━━━━━━━━━━━━━━━\u001B[0m\u001B[37m\u001B[0m \u001B[1m0s\u001B[0m 2ms/step - accuracy: 0.9683 - loss: 0.1371\n",
      "Epoch 141/200\n",
      "\u001B[1m134/134\u001B[0m \u001B[32m━━━━━━━━━━━━━━━━━━━━\u001B[0m\u001B[37m\u001B[0m \u001B[1m0s\u001B[0m 2ms/step - accuracy: 0.9692 - loss: 0.1364\n",
      "Epoch 142/200\n",
      "\u001B[1m134/134\u001B[0m \u001B[32m━━━━━━━━━━━━━━━━━━━━\u001B[0m\u001B[37m\u001B[0m \u001B[1m0s\u001B[0m 2ms/step - accuracy: 0.9684 - loss: 0.1347\n",
      "Epoch 143/200\n",
      "\u001B[1m134/134\u001B[0m \u001B[32m━━━━━━━━━━━━━━━━━━━━\u001B[0m\u001B[37m\u001B[0m \u001B[1m0s\u001B[0m 2ms/step - accuracy: 0.9675 - loss: 0.1378\n",
      "Epoch 144/200\n",
      "\u001B[1m134/134\u001B[0m \u001B[32m━━━━━━━━━━━━━━━━━━━━\u001B[0m\u001B[37m\u001B[0m \u001B[1m0s\u001B[0m 2ms/step - accuracy: 0.9681 - loss: 0.1331\n",
      "Epoch 145/200\n",
      "\u001B[1m134/134\u001B[0m \u001B[32m━━━━━━━━━━━━━━━━━━━━\u001B[0m\u001B[37m\u001B[0m \u001B[1m0s\u001B[0m 2ms/step - accuracy: 0.9670 - loss: 0.1377\n",
      "Epoch 146/200\n",
      "\u001B[1m134/134\u001B[0m \u001B[32m━━━━━━━━━━━━━━━━━━━━\u001B[0m\u001B[37m\u001B[0m \u001B[1m0s\u001B[0m 2ms/step - accuracy: 0.9683 - loss: 0.1343\n",
      "Epoch 147/200\n",
      "\u001B[1m134/134\u001B[0m \u001B[32m━━━━━━━━━━━━━━━━━━━━\u001B[0m\u001B[37m\u001B[0m \u001B[1m0s\u001B[0m 2ms/step - accuracy: 0.9687 - loss: 0.1360\n",
      "Epoch 148/200\n",
      "\u001B[1m134/134\u001B[0m \u001B[32m━━━━━━━━━━━━━━━━━━━━\u001B[0m\u001B[37m\u001B[0m \u001B[1m0s\u001B[0m 2ms/step - accuracy: 0.9688 - loss: 0.1358\n",
      "Epoch 149/200\n",
      "\u001B[1m134/134\u001B[0m \u001B[32m━━━━━━━━━━━━━━━━━━━━\u001B[0m\u001B[37m\u001B[0m \u001B[1m0s\u001B[0m 2ms/step - accuracy: 0.9683 - loss: 0.1336\n",
      "Epoch 150/200\n",
      "\u001B[1m134/134\u001B[0m \u001B[32m━━━━━━━━━━━━━━━━━━━━\u001B[0m\u001B[37m\u001B[0m \u001B[1m0s\u001B[0m 2ms/step - accuracy: 0.9692 - loss: 0.1342\n",
      "Epoch 151/200\n",
      "\u001B[1m134/134\u001B[0m \u001B[32m━━━━━━━━━━━━━━━━━━━━\u001B[0m\u001B[37m\u001B[0m \u001B[1m0s\u001B[0m 2ms/step - accuracy: 0.9690 - loss: 0.1334\n",
      "Epoch 152/200\n",
      "\u001B[1m134/134\u001B[0m \u001B[32m━━━━━━━━━━━━━━━━━━━━\u001B[0m\u001B[37m\u001B[0m \u001B[1m0s\u001B[0m 2ms/step - accuracy: 0.9686 - loss: 0.1333\n",
      "Epoch 153/200\n",
      "\u001B[1m134/134\u001B[0m \u001B[32m━━━━━━━━━━━━━━━━━━━━\u001B[0m\u001B[37m\u001B[0m \u001B[1m0s\u001B[0m 2ms/step - accuracy: 0.9686 - loss: 0.1336\n",
      "Epoch 154/200\n",
      "\u001B[1m134/134\u001B[0m \u001B[32m━━━━━━━━━━━━━━━━━━━━\u001B[0m\u001B[37m\u001B[0m \u001B[1m0s\u001B[0m 2ms/step - accuracy: 0.9690 - loss: 0.1355\n",
      "Epoch 155/200\n",
      "\u001B[1m134/134\u001B[0m \u001B[32m━━━━━━━━━━━━━━━━━━━━\u001B[0m\u001B[37m\u001B[0m \u001B[1m0s\u001B[0m 2ms/step - accuracy: 0.9690 - loss: 0.1359\n",
      "Epoch 156/200\n",
      "\u001B[1m134/134\u001B[0m \u001B[32m━━━━━━━━━━━━━━━━━━━━\u001B[0m\u001B[37m\u001B[0m \u001B[1m0s\u001B[0m 2ms/step - accuracy: 0.9687 - loss: 0.1353\n",
      "Epoch 157/200\n",
      "\u001B[1m134/134\u001B[0m \u001B[32m━━━━━━━━━━━━━━━━━━━━\u001B[0m\u001B[37m\u001B[0m \u001B[1m0s\u001B[0m 3ms/step - accuracy: 0.9675 - loss: 0.1354\n",
      "Epoch 158/200\n",
      "\u001B[1m134/134\u001B[0m \u001B[32m━━━━━━━━━━━━━━━━━━━━\u001B[0m\u001B[37m\u001B[0m \u001B[1m0s\u001B[0m 2ms/step - accuracy: 0.9687 - loss: 0.1360\n",
      "Epoch 159/200\n",
      "\u001B[1m134/134\u001B[0m \u001B[32m━━━━━━━━━━━━━━━━━━━━\u001B[0m\u001B[37m\u001B[0m \u001B[1m0s\u001B[0m 2ms/step - accuracy: 0.9679 - loss: 0.1345\n",
      "Epoch 160/200\n",
      "\u001B[1m134/134\u001B[0m \u001B[32m━━━━━━━━━━━━━━━━━━━━\u001B[0m\u001B[37m\u001B[0m \u001B[1m0s\u001B[0m 2ms/step - accuracy: 0.9691 - loss: 0.1325\n",
      "Epoch 161/200\n",
      "\u001B[1m134/134\u001B[0m \u001B[32m━━━━━━━━━━━━━━━━━━━━\u001B[0m\u001B[37m\u001B[0m \u001B[1m0s\u001B[0m 2ms/step - accuracy: 0.9680 - loss: 0.1354\n",
      "Epoch 162/200\n",
      "\u001B[1m134/134\u001B[0m \u001B[32m━━━━━━━━━━━━━━━━━━━━\u001B[0m\u001B[37m\u001B[0m \u001B[1m0s\u001B[0m 2ms/step - accuracy: 0.9683 - loss: 0.1356\n",
      "Epoch 163/200\n",
      "\u001B[1m134/134\u001B[0m \u001B[32m━━━━━━━━━━━━━━━━━━━━\u001B[0m\u001B[37m\u001B[0m \u001B[1m0s\u001B[0m 2ms/step - accuracy: 0.9677 - loss: 0.1365\n",
      "Epoch 164/200\n",
      "\u001B[1m134/134\u001B[0m \u001B[32m━━━━━━━━━━━━━━━━━━━━\u001B[0m\u001B[37m\u001B[0m \u001B[1m0s\u001B[0m 2ms/step - accuracy: 0.9684 - loss: 0.1351\n",
      "Epoch 165/200\n",
      "\u001B[1m134/134\u001B[0m \u001B[32m━━━━━━━━━━━━━━━━━━━━\u001B[0m\u001B[37m\u001B[0m \u001B[1m0s\u001B[0m 2ms/step - accuracy: 0.9672 - loss: 0.1364\n",
      "Epoch 166/200\n",
      "\u001B[1m134/134\u001B[0m \u001B[32m━━━━━━━━━━━━━━━━━━━━\u001B[0m\u001B[37m\u001B[0m \u001B[1m0s\u001B[0m 2ms/step - accuracy: 0.9680 - loss: 0.1323\n",
      "Epoch 167/200\n",
      "\u001B[1m134/134\u001B[0m \u001B[32m━━━━━━━━━━━━━━━━━━━━\u001B[0m\u001B[37m\u001B[0m \u001B[1m0s\u001B[0m 2ms/step - accuracy: 0.9686 - loss: 0.1337\n",
      "Epoch 168/200\n",
      "\u001B[1m134/134\u001B[0m \u001B[32m━━━━━━━━━━━━━━━━━━━━\u001B[0m\u001B[37m\u001B[0m \u001B[1m0s\u001B[0m 2ms/step - accuracy: 0.9685 - loss: 0.1321\n",
      "Epoch 169/200\n",
      "\u001B[1m134/134\u001B[0m \u001B[32m━━━━━━━━━━━━━━━━━━━━\u001B[0m\u001B[37m\u001B[0m \u001B[1m0s\u001B[0m 2ms/step - accuracy: 0.9677 - loss: 0.1348\n",
      "Epoch 170/200\n",
      "\u001B[1m134/134\u001B[0m \u001B[32m━━━━━━━━━━━━━━━━━━━━\u001B[0m\u001B[37m\u001B[0m \u001B[1m0s\u001B[0m 2ms/step - accuracy: 0.9685 - loss: 0.1323\n",
      "Epoch 171/200\n",
      "\u001B[1m134/134\u001B[0m \u001B[32m━━━━━━━━━━━━━━━━━━━━\u001B[0m\u001B[37m\u001B[0m \u001B[1m0s\u001B[0m 2ms/step - accuracy: 0.9685 - loss: 0.1318\n",
      "Epoch 172/200\n",
      "\u001B[1m134/134\u001B[0m \u001B[32m━━━━━━━━━━━━━━━━━━━━\u001B[0m\u001B[37m\u001B[0m \u001B[1m0s\u001B[0m 2ms/step - accuracy: 0.9677 - loss: 0.1349\n",
      "Epoch 173/200\n",
      "\u001B[1m134/134\u001B[0m \u001B[32m━━━━━━━━━━━━━━━━━━━━\u001B[0m\u001B[37m\u001B[0m \u001B[1m0s\u001B[0m 2ms/step - accuracy: 0.9685 - loss: 0.1330\n",
      "Epoch 174/200\n",
      "\u001B[1m134/134\u001B[0m \u001B[32m━━━━━━━━━━━━━━━━━━━━\u001B[0m\u001B[37m\u001B[0m \u001B[1m0s\u001B[0m 2ms/step - accuracy: 0.9691 - loss: 0.1324\n",
      "Epoch 175/200\n",
      "\u001B[1m134/134\u001B[0m \u001B[32m━━━━━━━━━━━━━━━━━━━━\u001B[0m\u001B[37m\u001B[0m \u001B[1m0s\u001B[0m 2ms/step - accuracy: 0.9683 - loss: 0.1362\n",
      "Epoch 176/200\n",
      "\u001B[1m134/134\u001B[0m \u001B[32m━━━━━━━━━━━━━━━━━━━━\u001B[0m\u001B[37m\u001B[0m \u001B[1m0s\u001B[0m 2ms/step - accuracy: 0.9674 - loss: 0.1340\n",
      "Epoch 177/200\n",
      "\u001B[1m134/134\u001B[0m \u001B[32m━━━━━━━━━━━━━━━━━━━━\u001B[0m\u001B[37m\u001B[0m \u001B[1m0s\u001B[0m 2ms/step - accuracy: 0.9675 - loss: 0.1333\n",
      "Epoch 178/200\n",
      "\u001B[1m134/134\u001B[0m \u001B[32m━━━━━━━━━━━━━━━━━━━━\u001B[0m\u001B[37m\u001B[0m \u001B[1m0s\u001B[0m 2ms/step - accuracy: 0.9686 - loss: 0.1330\n",
      "Epoch 179/200\n",
      "\u001B[1m134/134\u001B[0m \u001B[32m━━━━━━━━━━━━━━━━━━━━\u001B[0m\u001B[37m\u001B[0m \u001B[1m0s\u001B[0m 2ms/step - accuracy: 0.9687 - loss: 0.1342\n",
      "Epoch 180/200\n",
      "\u001B[1m134/134\u001B[0m \u001B[32m━━━━━━━━━━━━━━━━━━━━\u001B[0m\u001B[37m\u001B[0m \u001B[1m0s\u001B[0m 2ms/step - accuracy: 0.9686 - loss: 0.1338\n",
      "Epoch 181/200\n",
      "\u001B[1m134/134\u001B[0m \u001B[32m━━━━━━━━━━━━━━━━━━━━\u001B[0m\u001B[37m\u001B[0m \u001B[1m0s\u001B[0m 2ms/step - accuracy: 0.9684 - loss: 0.1313\n",
      "Epoch 182/200\n",
      "\u001B[1m134/134\u001B[0m \u001B[32m━━━━━━━━━━━━━━━━━━━━\u001B[0m\u001B[37m\u001B[0m \u001B[1m0s\u001B[0m 2ms/step - accuracy: 0.9680 - loss: 0.1364\n",
      "Epoch 183/200\n",
      "\u001B[1m134/134\u001B[0m \u001B[32m━━━━━━━━━━━━━━━━━━━━\u001B[0m\u001B[37m\u001B[0m \u001B[1m0s\u001B[0m 2ms/step - accuracy: 0.9671 - loss: 0.1375\n",
      "Epoch 184/200\n",
      "\u001B[1m134/134\u001B[0m \u001B[32m━━━━━━━━━━━━━━━━━━━━\u001B[0m\u001B[37m\u001B[0m \u001B[1m0s\u001B[0m 2ms/step - accuracy: 0.9677 - loss: 0.1344\n",
      "Epoch 185/200\n",
      "\u001B[1m134/134\u001B[0m \u001B[32m━━━━━━━━━━━━━━━━━━━━\u001B[0m\u001B[37m\u001B[0m \u001B[1m0s\u001B[0m 2ms/step - accuracy: 0.9694 - loss: 0.1334\n",
      "Epoch 186/200\n",
      "\u001B[1m134/134\u001B[0m \u001B[32m━━━━━━━━━━━━━━━━━━━━\u001B[0m\u001B[37m\u001B[0m \u001B[1m0s\u001B[0m 2ms/step - accuracy: 0.9681 - loss: 0.1346\n",
      "Epoch 187/200\n",
      "\u001B[1m134/134\u001B[0m \u001B[32m━━━━━━━━━━━━━━━━━━━━\u001B[0m\u001B[37m\u001B[0m \u001B[1m0s\u001B[0m 2ms/step - accuracy: 0.9688 - loss: 0.1326\n",
      "Epoch 188/200\n",
      "\u001B[1m134/134\u001B[0m \u001B[32m━━━━━━━━━━━━━━━━━━━━\u001B[0m\u001B[37m\u001B[0m \u001B[1m0s\u001B[0m 2ms/step - accuracy: 0.9692 - loss: 0.1326\n",
      "Epoch 189/200\n",
      "\u001B[1m134/134\u001B[0m \u001B[32m━━━━━━━━━━━━━━━━━━━━\u001B[0m\u001B[37m\u001B[0m \u001B[1m0s\u001B[0m 2ms/step - accuracy: 0.9684 - loss: 0.1351\n",
      "Epoch 190/200\n",
      "\u001B[1m134/134\u001B[0m \u001B[32m━━━━━━━━━━━━━━━━━━━━\u001B[0m\u001B[37m\u001B[0m \u001B[1m0s\u001B[0m 2ms/step - accuracy: 0.9686 - loss: 0.1334\n",
      "Epoch 191/200\n",
      "\u001B[1m134/134\u001B[0m \u001B[32m━━━━━━━━━━━━━━━━━━━━\u001B[0m\u001B[37m\u001B[0m \u001B[1m0s\u001B[0m 2ms/step - accuracy: 0.9681 - loss: 0.1331\n",
      "Epoch 192/200\n",
      "\u001B[1m134/134\u001B[0m \u001B[32m━━━━━━━━━━━━━━━━━━━━\u001B[0m\u001B[37m\u001B[0m \u001B[1m0s\u001B[0m 2ms/step - accuracy: 0.9686 - loss: 0.1323\n",
      "Epoch 193/200\n",
      "\u001B[1m134/134\u001B[0m \u001B[32m━━━━━━━━━━━━━━━━━━━━\u001B[0m\u001B[37m\u001B[0m \u001B[1m0s\u001B[0m 2ms/step - accuracy: 0.9680 - loss: 0.1324\n",
      "Epoch 194/200\n",
      "\u001B[1m134/134\u001B[0m \u001B[32m━━━━━━━━━━━━━━━━━━━━\u001B[0m\u001B[37m\u001B[0m \u001B[1m0s\u001B[0m 2ms/step - accuracy: 0.9681 - loss: 0.1317\n",
      "Epoch 195/200\n",
      "\u001B[1m134/134\u001B[0m \u001B[32m━━━━━━━━━━━━━━━━━━━━\u001B[0m\u001B[37m\u001B[0m \u001B[1m0s\u001B[0m 2ms/step - accuracy: 0.9677 - loss: 0.1334\n",
      "Epoch 196/200\n",
      "\u001B[1m134/134\u001B[0m \u001B[32m━━━━━━━━━━━━━━━━━━━━\u001B[0m\u001B[37m\u001B[0m \u001B[1m0s\u001B[0m 2ms/step - accuracy: 0.9686 - loss: 0.1321\n",
      "Epoch 197/200\n",
      "\u001B[1m134/134\u001B[0m \u001B[32m━━━━━━━━━━━━━━━━━━━━\u001B[0m\u001B[37m\u001B[0m \u001B[1m0s\u001B[0m 2ms/step - accuracy: 0.9678 - loss: 0.1332\n",
      "Epoch 198/200\n",
      "\u001B[1m134/134\u001B[0m \u001B[32m━━━━━━━━━━━━━━━━━━━━\u001B[0m\u001B[37m\u001B[0m \u001B[1m0s\u001B[0m 2ms/step - accuracy: 0.9689 - loss: 0.1330\n",
      "Epoch 199/200\n",
      "\u001B[1m134/134\u001B[0m \u001B[32m━━━━━━━━━━━━━━━━━━━━\u001B[0m\u001B[37m\u001B[0m \u001B[1m0s\u001B[0m 2ms/step - accuracy: 0.9673 - loss: 0.1338\n",
      "Epoch 200/200\n",
      "\u001B[1m134/134\u001B[0m \u001B[32m━━━━━━━━━━━━━━━━━━━━\u001B[0m\u001B[37m\u001B[0m \u001B[1m0s\u001B[0m 3ms/step - accuracy: 0.9689 - loss: 0.1341\n",
      "\u001B[1m15/15\u001B[0m \u001B[32m━━━━━━━━━━━━━━━━━━━━\u001B[0m\u001B[37m\u001B[0m \u001B[1m0s\u001B[0m 4ms/step \n",
      "Epoch 1/200\n",
      "\u001B[1m134/134\u001B[0m \u001B[32m━━━━━━━━━━━━━━━━━━━━\u001B[0m\u001B[37m\u001B[0m \u001B[1m1s\u001B[0m 2ms/step - accuracy: 0.6713 - loss: 0.6615\n",
      "Epoch 2/200\n",
      "\u001B[1m134/134\u001B[0m \u001B[32m━━━━━━━━━━━━━━━━━━━━\u001B[0m\u001B[37m\u001B[0m \u001B[1m0s\u001B[0m 2ms/step - accuracy: 0.8354 - loss: 0.4591\n",
      "Epoch 3/200\n",
      "\u001B[1m134/134\u001B[0m \u001B[32m━━━━━━━━━━━━━━━━━━━━\u001B[0m\u001B[37m\u001B[0m \u001B[1m0s\u001B[0m 2ms/step - accuracy: 0.9315 - loss: 0.2991\n",
      "Epoch 4/200\n",
      "\u001B[1m134/134\u001B[0m \u001B[32m━━━━━━━━━━━━━━━━━━━━\u001B[0m\u001B[37m\u001B[0m \u001B[1m0s\u001B[0m 2ms/step - accuracy: 0.9479 - loss: 0.2265\n",
      "Epoch 5/200\n",
      "\u001B[1m134/134\u001B[0m \u001B[32m━━━━━━━━━━━━━━━━━━━━\u001B[0m\u001B[37m\u001B[0m \u001B[1m0s\u001B[0m 2ms/step - accuracy: 0.9534 - loss: 0.2106\n",
      "Epoch 6/200\n",
      "\u001B[1m134/134\u001B[0m \u001B[32m━━━━━━━━━━━━━━━━━━━━\u001B[0m\u001B[37m\u001B[0m \u001B[1m0s\u001B[0m 2ms/step - accuracy: 0.9565 - loss: 0.2026\n",
      "Epoch 7/200\n",
      "\u001B[1m134/134\u001B[0m \u001B[32m━━━━━━━━━━━━━━━━━━━━\u001B[0m\u001B[37m\u001B[0m \u001B[1m0s\u001B[0m 2ms/step - accuracy: 0.9584 - loss: 0.1894\n",
      "Epoch 8/200\n",
      "\u001B[1m134/134\u001B[0m \u001B[32m━━━━━━━━━━━━━━━━━━━━\u001B[0m\u001B[37m\u001B[0m \u001B[1m0s\u001B[0m 2ms/step - accuracy: 0.9582 - loss: 0.1939\n",
      "Epoch 9/200\n",
      "\u001B[1m134/134\u001B[0m \u001B[32m━━━━━━━━━━━━━━━━━━━━\u001B[0m\u001B[37m\u001B[0m \u001B[1m0s\u001B[0m 2ms/step - accuracy: 0.9585 - loss: 0.1900\n",
      "Epoch 10/200\n",
      "\u001B[1m134/134\u001B[0m \u001B[32m━━━━━━━━━━━━━━━━━━━━\u001B[0m\u001B[37m\u001B[0m \u001B[1m0s\u001B[0m 2ms/step - accuracy: 0.9601 - loss: 0.1839\n",
      "Epoch 11/200\n",
      "\u001B[1m134/134\u001B[0m \u001B[32m━━━━━━━━━━━━━━━━━━━━\u001B[0m\u001B[37m\u001B[0m \u001B[1m0s\u001B[0m 2ms/step - accuracy: 0.9593 - loss: 0.1835\n",
      "Epoch 12/200\n",
      "\u001B[1m134/134\u001B[0m \u001B[32m━━━━━━━━━━━━━━━━━━━━\u001B[0m\u001B[37m\u001B[0m \u001B[1m0s\u001B[0m 2ms/step - accuracy: 0.9569 - loss: 0.1866\n",
      "Epoch 13/200\n",
      "\u001B[1m134/134\u001B[0m \u001B[32m━━━━━━━━━━━━━━━━━━━━\u001B[0m\u001B[37m\u001B[0m \u001B[1m0s\u001B[0m 2ms/step - accuracy: 0.9616 - loss: 0.1760\n",
      "Epoch 14/200\n",
      "\u001B[1m134/134\u001B[0m \u001B[32m━━━━━━━━━━━━━━━━━━━━\u001B[0m\u001B[37m\u001B[0m \u001B[1m0s\u001B[0m 2ms/step - accuracy: 0.9585 - loss: 0.1749\n",
      "Epoch 15/200\n",
      "\u001B[1m134/134\u001B[0m \u001B[32m━━━━━━━━━━━━━━━━━━━━\u001B[0m\u001B[37m\u001B[0m \u001B[1m0s\u001B[0m 2ms/step - accuracy: 0.9599 - loss: 0.1770\n",
      "Epoch 16/200\n",
      "\u001B[1m134/134\u001B[0m \u001B[32m━━━━━━━━━━━━━━━━━━━━\u001B[0m\u001B[37m\u001B[0m \u001B[1m0s\u001B[0m 2ms/step - accuracy: 0.9627 - loss: 0.1736\n",
      "Epoch 17/200\n",
      "\u001B[1m134/134\u001B[0m \u001B[32m━━━━━━━━━━━━━━━━━━━━\u001B[0m\u001B[37m\u001B[0m \u001B[1m0s\u001B[0m 2ms/step - accuracy: 0.9598 - loss: 0.1776\n",
      "Epoch 18/200\n",
      "\u001B[1m134/134\u001B[0m \u001B[32m━━━━━━━━━━━━━━━━━━━━\u001B[0m\u001B[37m\u001B[0m \u001B[1m0s\u001B[0m 2ms/step - accuracy: 0.9606 - loss: 0.1706\n",
      "Epoch 19/200\n",
      "\u001B[1m134/134\u001B[0m \u001B[32m━━━━━━━━━━━━━━━━━━━━\u001B[0m\u001B[37m\u001B[0m \u001B[1m0s\u001B[0m 2ms/step - accuracy: 0.9610 - loss: 0.1703\n",
      "Epoch 20/200\n",
      "\u001B[1m134/134\u001B[0m \u001B[32m━━━━━━━━━━━━━━━━━━━━\u001B[0m\u001B[37m\u001B[0m \u001B[1m0s\u001B[0m 2ms/step - accuracy: 0.9593 - loss: 0.1719\n",
      "Epoch 21/200\n",
      "\u001B[1m134/134\u001B[0m \u001B[32m━━━━━━━━━━━━━━━━━━━━\u001B[0m\u001B[37m\u001B[0m \u001B[1m0s\u001B[0m 2ms/step - accuracy: 0.9623 - loss: 0.1688\n",
      "Epoch 22/200\n",
      "\u001B[1m134/134\u001B[0m \u001B[32m━━━━━━━━━━━━━━━━━━━━\u001B[0m\u001B[37m\u001B[0m \u001B[1m0s\u001B[0m 2ms/step - accuracy: 0.9628 - loss: 0.1631\n",
      "Epoch 23/200\n",
      "\u001B[1m134/134\u001B[0m \u001B[32m━━━━━━━━━━━━━━━━━━━━\u001B[0m\u001B[37m\u001B[0m \u001B[1m0s\u001B[0m 2ms/step - accuracy: 0.9628 - loss: 0.1660\n",
      "Epoch 24/200\n",
      "\u001B[1m134/134\u001B[0m \u001B[32m━━━━━━━━━━━━━━━━━━━━\u001B[0m\u001B[37m\u001B[0m \u001B[1m0s\u001B[0m 2ms/step - accuracy: 0.9610 - loss: 0.1689\n",
      "Epoch 25/200\n",
      "\u001B[1m134/134\u001B[0m \u001B[32m━━━━━━━━━━━━━━━━━━━━\u001B[0m\u001B[37m\u001B[0m \u001B[1m0s\u001B[0m 2ms/step - accuracy: 0.9609 - loss: 0.1678\n",
      "Epoch 26/200\n",
      "\u001B[1m134/134\u001B[0m \u001B[32m━━━━━━━━━━━━━━━━━━━━\u001B[0m\u001B[37m\u001B[0m \u001B[1m0s\u001B[0m 2ms/step - accuracy: 0.9609 - loss: 0.1669\n",
      "Epoch 27/200\n",
      "\u001B[1m134/134\u001B[0m \u001B[32m━━━━━━━━━━━━━━━━━━━━\u001B[0m\u001B[37m\u001B[0m \u001B[1m0s\u001B[0m 2ms/step - accuracy: 0.9629 - loss: 0.1666\n",
      "Epoch 28/200\n",
      "\u001B[1m134/134\u001B[0m \u001B[32m━━━━━━━━━━━━━━━━━━━━\u001B[0m\u001B[37m\u001B[0m \u001B[1m0s\u001B[0m 2ms/step - accuracy: 0.9623 - loss: 0.1649\n",
      "Epoch 29/200\n",
      "\u001B[1m134/134\u001B[0m \u001B[32m━━━━━━━━━━━━━━━━━━━━\u001B[0m\u001B[37m\u001B[0m \u001B[1m0s\u001B[0m 2ms/step - accuracy: 0.9604 - loss: 0.1642\n",
      "Epoch 30/200\n",
      "\u001B[1m134/134\u001B[0m \u001B[32m━━━━━━━━━━━━━━━━━━━━\u001B[0m\u001B[37m\u001B[0m \u001B[1m0s\u001B[0m 2ms/step - accuracy: 0.9618 - loss: 0.1664\n",
      "Epoch 31/200\n",
      "\u001B[1m134/134\u001B[0m \u001B[32m━━━━━━━━━━━━━━━━━━━━\u001B[0m\u001B[37m\u001B[0m \u001B[1m0s\u001B[0m 2ms/step - accuracy: 0.9624 - loss: 0.1611\n",
      "Epoch 32/200\n",
      "\u001B[1m134/134\u001B[0m \u001B[32m━━━━━━━━━━━━━━━━━━━━\u001B[0m\u001B[37m\u001B[0m \u001B[1m0s\u001B[0m 2ms/step - accuracy: 0.9608 - loss: 0.1638\n",
      "Epoch 33/200\n",
      "\u001B[1m134/134\u001B[0m \u001B[32m━━━━━━━━━━━━━━━━━━━━\u001B[0m\u001B[37m\u001B[0m \u001B[1m0s\u001B[0m 2ms/step - accuracy: 0.9621 - loss: 0.1605\n",
      "Epoch 34/200\n",
      "\u001B[1m134/134\u001B[0m \u001B[32m━━━━━━━━━━━━━━━━━━━━\u001B[0m\u001B[37m\u001B[0m \u001B[1m0s\u001B[0m 2ms/step - accuracy: 0.9619 - loss: 0.1605\n",
      "Epoch 35/200\n",
      "\u001B[1m134/134\u001B[0m \u001B[32m━━━━━━━━━━━━━━━━━━━━\u001B[0m\u001B[37m\u001B[0m \u001B[1m0s\u001B[0m 2ms/step - accuracy: 0.9618 - loss: 0.1627\n",
      "Epoch 36/200\n",
      "\u001B[1m134/134\u001B[0m \u001B[32m━━━━━━━━━━━━━━━━━━━━\u001B[0m\u001B[37m\u001B[0m \u001B[1m0s\u001B[0m 2ms/step - accuracy: 0.9626 - loss: 0.1574\n",
      "Epoch 37/200\n",
      "\u001B[1m134/134\u001B[0m \u001B[32m━━━━━━━━━━━━━━━━━━━━\u001B[0m\u001B[37m\u001B[0m \u001B[1m0s\u001B[0m 2ms/step - accuracy: 0.9648 - loss: 0.1553\n",
      "Epoch 38/200\n",
      "\u001B[1m134/134\u001B[0m \u001B[32m━━━━━━━━━━━━━━━━━━━━\u001B[0m\u001B[37m\u001B[0m \u001B[1m0s\u001B[0m 2ms/step - accuracy: 0.9643 - loss: 0.1547\n",
      "Epoch 39/200\n",
      "\u001B[1m134/134\u001B[0m \u001B[32m━━━━━━━━━━━━━━━━━━━━\u001B[0m\u001B[37m\u001B[0m \u001B[1m0s\u001B[0m 2ms/step - accuracy: 0.9649 - loss: 0.1559\n",
      "Epoch 40/200\n",
      "\u001B[1m134/134\u001B[0m \u001B[32m━━━━━━━━━━━━━━━━━━━━\u001B[0m\u001B[37m\u001B[0m \u001B[1m0s\u001B[0m 2ms/step - accuracy: 0.9638 - loss: 0.1557\n",
      "Epoch 41/200\n",
      "\u001B[1m134/134\u001B[0m \u001B[32m━━━━━━━━━━━━━━━━━━━━\u001B[0m\u001B[37m\u001B[0m \u001B[1m0s\u001B[0m 2ms/step - accuracy: 0.9649 - loss: 0.1554\n",
      "Epoch 42/200\n",
      "\u001B[1m134/134\u001B[0m \u001B[32m━━━━━━━━━━━━━━━━━━━━\u001B[0m\u001B[37m\u001B[0m \u001B[1m0s\u001B[0m 2ms/step - accuracy: 0.9652 - loss: 0.1501\n",
      "Epoch 43/200\n",
      "\u001B[1m134/134\u001B[0m \u001B[32m━━━━━━━━━━━━━━━━━━━━\u001B[0m\u001B[37m\u001B[0m \u001B[1m0s\u001B[0m 2ms/step - accuracy: 0.9663 - loss: 0.1555\n",
      "Epoch 44/200\n",
      "\u001B[1m134/134\u001B[0m \u001B[32m━━━━━━━━━━━━━━━━━━━━\u001B[0m\u001B[37m\u001B[0m \u001B[1m0s\u001B[0m 2ms/step - accuracy: 0.9643 - loss: 0.1555\n",
      "Epoch 45/200\n",
      "\u001B[1m 37/134\u001B[0m \u001B[32m━━━━━\u001B[0m\u001B[37m━━━━━━━━━━━━━━━\u001B[0m \u001B[1m0s\u001B[0m 2ms/step - accuracy: 0.9676 - loss: 0.1500 "
     ]
    }
   ],
   "execution_count": null
  }
 ],
 "metadata": {
  "kernelspec": {
   "display_name": "Python 3",
   "language": "python",
   "name": "python3"
  },
  "language_info": {
   "codemirror_mode": {
    "name": "ipython",
    "version": 2
   },
   "file_extension": ".py",
   "mimetype": "text/x-python",
   "name": "python",
   "nbconvert_exporter": "python",
   "pygments_lexer": "ipython2",
   "version": "2.7.6"
  }
 },
 "nbformat": 4,
 "nbformat_minor": 5
}
