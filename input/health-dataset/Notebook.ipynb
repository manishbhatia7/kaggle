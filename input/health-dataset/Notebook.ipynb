{
 "cells": [
  {
   "cell_type": "code",
   "id": "initial_id",
   "metadata": {
    "collapsed": true,
    "ExecuteTime": {
     "end_time": "2025-07-16T15:27:37.839814Z",
     "start_time": "2025-07-16T15:27:37.826743Z"
    }
   },
   "source": [
    "import pandas as pd\n",
    "import seaborn as sns\n",
    "import matplotlib.pyplot as plt\n",
    "from scipy.stats import skew\n",
    "import datetime as dt\n",
    "import numpy as np\n",
    "from sklearn.preprocessing import LabelEncoder"
   ],
   "outputs": [],
   "execution_count": 612
  },
  {
   "metadata": {
    "ExecuteTime": {
     "end_time": "2025-07-16T15:27:38.086905Z",
     "start_time": "2025-07-16T15:27:37.905469Z"
    }
   },
   "cell_type": "code",
   "source": "data=pd.read_csv('/kaggle/input/health-dataset/healthcare_dataset.csv')",
   "id": "4add4049df1a5f88",
   "outputs": [],
   "execution_count": 613
  },
  {
   "metadata": {
    "ExecuteTime": {
     "end_time": "2025-07-16T15:27:38.132937Z",
     "start_time": "2025-07-16T15:27:38.116514Z"
    }
   },
   "cell_type": "code",
   "source": "data.head(1)",
   "id": "7c90c16ad21315a8",
   "outputs": [
    {
     "data": {
      "text/plain": [
       "            Name  Age Gender Blood Type Medical Condition Date of Admission  \\\n",
       "0  Bobby JacksOn   30   Male         B-            Cancer        2024-01-31   \n",
       "\n",
       "          Doctor         Hospital Insurance Provider  Billing Amount  \\\n",
       "0  Matthew Smith  Sons and Miller         Blue Cross    18856.281306   \n",
       "\n",
       "   Room Number Admission Type Discharge Date   Medication Test Results  \n",
       "0          328         Urgent     2024-02-02  Paracetamol       Normal  "
      ],
      "text/html": [
       "<div>\n",
       "<style scoped>\n",
       "    .dataframe tbody tr th:only-of-type {\n",
       "        vertical-align: middle;\n",
       "    }\n",
       "\n",
       "    .dataframe tbody tr th {\n",
       "        vertical-align: top;\n",
       "    }\n",
       "\n",
       "    .dataframe thead th {\n",
       "        text-align: right;\n",
       "    }\n",
       "</style>\n",
       "<table border=\"1\" class=\"dataframe\">\n",
       "  <thead>\n",
       "    <tr style=\"text-align: right;\">\n",
       "      <th></th>\n",
       "      <th>Name</th>\n",
       "      <th>Age</th>\n",
       "      <th>Gender</th>\n",
       "      <th>Blood Type</th>\n",
       "      <th>Medical Condition</th>\n",
       "      <th>Date of Admission</th>\n",
       "      <th>Doctor</th>\n",
       "      <th>Hospital</th>\n",
       "      <th>Insurance Provider</th>\n",
       "      <th>Billing Amount</th>\n",
       "      <th>Room Number</th>\n",
       "      <th>Admission Type</th>\n",
       "      <th>Discharge Date</th>\n",
       "      <th>Medication</th>\n",
       "      <th>Test Results</th>\n",
       "    </tr>\n",
       "  </thead>\n",
       "  <tbody>\n",
       "    <tr>\n",
       "      <th>0</th>\n",
       "      <td>Bobby JacksOn</td>\n",
       "      <td>30</td>\n",
       "      <td>Male</td>\n",
       "      <td>B-</td>\n",
       "      <td>Cancer</td>\n",
       "      <td>2024-01-31</td>\n",
       "      <td>Matthew Smith</td>\n",
       "      <td>Sons and Miller</td>\n",
       "      <td>Blue Cross</td>\n",
       "      <td>18856.281306</td>\n",
       "      <td>328</td>\n",
       "      <td>Urgent</td>\n",
       "      <td>2024-02-02</td>\n",
       "      <td>Paracetamol</td>\n",
       "      <td>Normal</td>\n",
       "    </tr>\n",
       "  </tbody>\n",
       "</table>\n",
       "</div>"
      ]
     },
     "execution_count": 614,
     "metadata": {},
     "output_type": "execute_result"
    }
   ],
   "execution_count": 614
  },
  {
   "metadata": {
    "ExecuteTime": {
     "end_time": "2025-07-16T15:27:38.254726Z",
     "start_time": "2025-07-16T15:27:38.221596Z"
    }
   },
   "cell_type": "code",
   "source": "data.info()",
   "id": "668bf1a09c97b795",
   "outputs": [
    {
     "name": "stdout",
     "output_type": "stream",
     "text": [
      "<class 'pandas.core.frame.DataFrame'>\n",
      "RangeIndex: 55500 entries, 0 to 55499\n",
      "Data columns (total 15 columns):\n",
      " #   Column              Non-Null Count  Dtype  \n",
      "---  ------              --------------  -----  \n",
      " 0   Name                55500 non-null  object \n",
      " 1   Age                 55500 non-null  int64  \n",
      " 2   Gender              55500 non-null  object \n",
      " 3   Blood Type          55500 non-null  object \n",
      " 4   Medical Condition   55500 non-null  object \n",
      " 5   Date of Admission   55500 non-null  object \n",
      " 6   Doctor              55500 non-null  object \n",
      " 7   Hospital            55500 non-null  object \n",
      " 8   Insurance Provider  55500 non-null  object \n",
      " 9   Billing Amount      55500 non-null  float64\n",
      " 10  Room Number         55500 non-null  int64  \n",
      " 11  Admission Type      55500 non-null  object \n",
      " 12  Discharge Date      55500 non-null  object \n",
      " 13  Medication          55500 non-null  object \n",
      " 14  Test Results        55500 non-null  object \n",
      "dtypes: float64(1), int64(2), object(12)\n",
      "memory usage: 6.4+ MB\n"
     ]
    }
   ],
   "execution_count": 615
  },
  {
   "metadata": {
    "ExecuteTime": {
     "end_time": "2025-07-16T15:27:38.405715Z",
     "start_time": "2025-07-16T15:27:38.398648Z"
    }
   },
   "cell_type": "code",
   "source": "",
   "id": "b9eab43210dac046",
   "outputs": [],
   "execution_count": null
  },
  {
   "metadata": {
    "ExecuteTime": {
     "end_time": "2025-07-16T15:27:39.053439Z",
     "start_time": "2025-07-16T15:27:38.514282Z"
    }
   },
   "cell_type": "code",
   "source": [
    "sns.histplot(x='Age',data=data,kde=True)\n",
    "plt.show()"
   ],
   "id": "f36c461a874db638",
   "outputs": [
    {
     "data": {
      "text/plain": [
       "<Figure size 640x480 with 1 Axes>"
      ],
      "image/png": "[encoded data removed]"
     },
     "metadata": {},
     "output_type": "display_data"
    }
   ],
   "execution_count": 616
  },
  {
   "metadata": {
    "ExecuteTime": {
     "end_time": "2025-07-16T15:27:39.119518Z",
     "start_time": "2025-07-16T15:27:39.115037Z"
    }
   },
   "cell_type": "code",
   "source": "",
   "id": "c0e4c6f022f40e1f",
   "outputs": [],
   "execution_count": null
  },
  {
   "metadata": {
    "ExecuteTime": {
     "end_time": "2025-07-16T15:27:39.174819Z",
     "start_time": "2025-07-16T15:27:39.164595Z"
    }
   },
   "cell_type": "code",
   "source": "data['Age'].skew()",
   "id": "7bae12ccf604467c",
   "outputs": [
    {
     "data": {
      "text/plain": [
       "-0.005735270674183171"
      ]
     },
     "execution_count": 617,
     "metadata": {},
     "output_type": "execute_result"
    }
   ],
   "execution_count": 617
  },
  {
   "metadata": {
    "ExecuteTime": {
     "end_time": "2025-07-16T15:27:39.708778Z",
     "start_time": "2025-07-16T15:27:39.242962Z"
    }
   },
   "cell_type": "code",
   "source": [
    "sns.histplot(x='Billing Amount',data=data,kde=True)\n",
    "plt.show()"
   ],
   "id": "20f4c2f81415f55a",
   "outputs": [
    {
     "data": {
      "text/plain": [
       "<Figure size 640x480 with 1 Axes>"
      ],
      "image/png": "[encoded data removed]"
     },
     "metadata": {},
     "output_type": "display_data"
    }
   ],
   "execution_count": 618
  },
  {
   "metadata": {
    "ExecuteTime": {
     "end_time": "2025-07-16T15:27:39.847899Z",
     "start_time": "2025-07-16T15:27:39.740979Z"
    }
   },
   "cell_type": "code",
   "source": [
    "#Feature Engineering\n",
    "#Converting date to Day,Month and Year\n",
    "data['Date of Admission'] = pd.to_datetime(data['Date of Admission'],errors='coerce')\n",
    "data['Discharge Date'] = pd.to_datetime(data['Discharge Date'],errors='coerce')\n"
   ],
   "id": "c189e2a494ca7630",
   "outputs": [],
   "execution_count": 619
  },
  {
   "metadata": {
    "ExecuteTime": {
     "end_time": "2025-07-16T15:27:39.942712Z",
     "start_time": "2025-07-16T15:27:39.896289Z"
    }
   },
   "cell_type": "code",
   "source": "data.info()",
   "id": "3d3bdad7ce907ff",
   "outputs": [
    {
     "name": "stdout",
     "output_type": "stream",
     "text": [
      "<class 'pandas.core.frame.DataFrame'>\n",
      "RangeIndex: 55500 entries, 0 to 55499\n",
      "Data columns (total 15 columns):\n",
      " #   Column              Non-Null Count  Dtype         \n",
      "---  ------              --------------  -----         \n",
      " 0   Name                55500 non-null  object        \n",
      " 1   Age                 55500 non-null  int64         \n",
      " 2   Gender              55500 non-null  object        \n",
      " 3   Blood Type          55500 non-null  object        \n",
      " 4   Medical Condition   55500 non-null  object        \n",
      " 5   Date of Admission   55500 non-null  datetime64[ns]\n",
      " 6   Doctor              55500 non-null  object        \n",
      " 7   Hospital            55500 non-null  object        \n",
      " 8   Insurance Provider  55500 non-null  object        \n",
      " 9   Billing Amount      55500 non-null  float64       \n",
      " 10  Room Number         55500 non-null  int64         \n",
      " 11  Admission Type      55500 non-null  object        \n",
      " 12  Discharge Date      55500 non-null  datetime64[ns]\n",
      " 13  Medication          55500 non-null  object        \n",
      " 14  Test Results        55500 non-null  object        \n",
      "dtypes: datetime64[ns](2), float64(1), int64(2), object(10)\n",
      "memory usage: 6.4+ MB\n"
     ]
    }
   ],
   "execution_count": 620
  },
  {
   "metadata": {
    "ExecuteTime": {
     "end_time": "2025-07-16T15:27:39.999955Z",
     "start_time": "2025-07-16T15:27:39.985711Z"
    }
   },
   "cell_type": "code",
   "source": "data['No of days in Hospital']=data['Discharge Date']-data['Date of Admission']",
   "id": "b4c7772d60ee0bc4",
   "outputs": [],
   "execution_count": 621
  },
  {
   "metadata": {
    "ExecuteTime": {
     "end_time": "2025-07-16T15:27:40.111526Z",
     "start_time": "2025-07-16T15:27:40.094593Z"
    }
   },
   "cell_type": "code",
   "source": "data.head(1)",
   "id": "4f93fd9d40f3518c",
   "outputs": [
    {
     "data": {
      "text/plain": [
       "            Name  Age Gender Blood Type Medical Condition Date of Admission  \\\n",
       "0  Bobby JacksOn   30   Male         B-            Cancer        2024-01-31   \n",
       "\n",
       "          Doctor         Hospital Insurance Provider  Billing Amount  \\\n",
       "0  Matthew Smith  Sons and Miller         Blue Cross    18856.281306   \n",
       "\n",
       "   Room Number Admission Type Discharge Date   Medication Test Results  \\\n",
       "0          328         Urgent     2024-02-02  Paracetamol       Normal   \n",
       "\n",
       "  No of days in Hospital  \n",
       "0                 2 days  "
      ],
      "text/html": [
       "<div>\n",
       "<style scoped>\n",
       "    .dataframe tbody tr th:only-of-type {\n",
       "        vertical-align: middle;\n",
       "    }\n",
       "\n",
       "    .dataframe tbody tr th {\n",
       "        vertical-align: top;\n",
       "    }\n",
       "\n",
       "    .dataframe thead th {\n",
       "        text-align: right;\n",
       "    }\n",
       "</style>\n",
       "<table border=\"1\" class=\"dataframe\">\n",
       "  <thead>\n",
       "    <tr style=\"text-align: right;\">\n",
       "      <th></th>\n",
       "      <th>Name</th>\n",
       "      <th>Age</th>\n",
       "      <th>Gender</th>\n",
       "      <th>Blood Type</th>\n",
       "      <th>Medical Condition</th>\n",
       "      <th>Date of Admission</th>\n",
       "      <th>Doctor</th>\n",
       "      <th>Hospital</th>\n",
       "      <th>Insurance Provider</th>\n",
       "      <th>Billing Amount</th>\n",
       "      <th>Room Number</th>\n",
       "      <th>Admission Type</th>\n",
       "      <th>Discharge Date</th>\n",
       "      <th>Medication</th>\n",
       "      <th>Test Results</th>\n",
       "      <th>No of days in Hospital</th>\n",
       "    </tr>\n",
       "  </thead>\n",
       "  <tbody>\n",
       "    <tr>\n",
       "      <th>0</th>\n",
       "      <td>Bobby JacksOn</td>\n",
       "      <td>30</td>\n",
       "      <td>Male</td>\n",
       "      <td>B-</td>\n",
       "      <td>Cancer</td>\n",
       "      <td>2024-01-31</td>\n",
       "      <td>Matthew Smith</td>\n",
       "      <td>Sons and Miller</td>\n",
       "      <td>Blue Cross</td>\n",
       "      <td>18856.281306</td>\n",
       "      <td>328</td>\n",
       "      <td>Urgent</td>\n",
       "      <td>2024-02-02</td>\n",
       "      <td>Paracetamol</td>\n",
       "      <td>Normal</td>\n",
       "      <td>2 days</td>\n",
       "    </tr>\n",
       "  </tbody>\n",
       "</table>\n",
       "</div>"
      ]
     },
     "execution_count": 622,
     "metadata": {},
     "output_type": "execute_result"
    }
   ],
   "execution_count": 622
  },
  {
   "metadata": {
    "ExecuteTime": {
     "end_time": "2025-07-16T15:27:41.354452Z",
     "start_time": "2025-07-16T15:27:40.231733Z"
    }
   },
   "cell_type": "code",
   "source": "data['No of days in Hospital']=data['No of days in Hospital'].astype('str')\n",
   "id": "878c215d4d909f67",
   "outputs": [],
   "execution_count": 623
  },
  {
   "metadata": {
    "ExecuteTime": {
     "end_time": "2025-07-16T15:27:41.452709Z",
     "start_time": "2025-07-16T15:27:41.424115Z"
    }
   },
   "cell_type": "code",
   "source": [
    "data['No of days in Hospital']=data['No of days in Hospital'].apply(lambda x :x.split(' ',)[0])\n",
    "\n"
   ],
   "id": "175648141240a5b1",
   "outputs": [],
   "execution_count": 624
  },
  {
   "metadata": {
    "ExecuteTime": {
     "end_time": "2025-07-16T15:27:41.596824Z",
     "start_time": "2025-07-16T15:27:41.580485Z"
    }
   },
   "cell_type": "code",
   "source": "data.head(1)",
   "id": "cde029c76bb225c1",
   "outputs": [
    {
     "data": {
      "text/plain": [
       "            Name  Age Gender Blood Type Medical Condition Date of Admission  \\\n",
       "0  Bobby JacksOn   30   Male         B-            Cancer        2024-01-31   \n",
       "\n",
       "          Doctor         Hospital Insurance Provider  Billing Amount  \\\n",
       "0  Matthew Smith  Sons and Miller         Blue Cross    18856.281306   \n",
       "\n",
       "   Room Number Admission Type Discharge Date   Medication Test Results  \\\n",
       "0          328         Urgent     2024-02-02  Paracetamol       Normal   \n",
       "\n",
       "  No of days in Hospital  \n",
       "0                      2  "
      ],
      "text/html": [
       "<div>\n",
       "<style scoped>\n",
       "    .dataframe tbody tr th:only-of-type {\n",
       "        vertical-align: middle;\n",
       "    }\n",
       "\n",
       "    .dataframe tbody tr th {\n",
       "        vertical-align: top;\n",
       "    }\n",
       "\n",
       "    .dataframe thead th {\n",
       "        text-align: right;\n",
       "    }\n",
       "</style>\n",
       "<table border=\"1\" class=\"dataframe\">\n",
       "  <thead>\n",
       "    <tr style=\"text-align: right;\">\n",
       "      <th></th>\n",
       "      <th>Name</th>\n",
       "      <th>Age</th>\n",
       "      <th>Gender</th>\n",
       "      <th>Blood Type</th>\n",
       "      <th>Medical Condition</th>\n",
       "      <th>Date of Admission</th>\n",
       "      <th>Doctor</th>\n",
       "      <th>Hospital</th>\n",
       "      <th>Insurance Provider</th>\n",
       "      <th>Billing Amount</th>\n",
       "      <th>Room Number</th>\n",
       "      <th>Admission Type</th>\n",
       "      <th>Discharge Date</th>\n",
       "      <th>Medication</th>\n",
       "      <th>Test Results</th>\n",
       "      <th>No of days in Hospital</th>\n",
       "    </tr>\n",
       "  </thead>\n",
       "  <tbody>\n",
       "    <tr>\n",
       "      <th>0</th>\n",
       "      <td>Bobby JacksOn</td>\n",
       "      <td>30</td>\n",
       "      <td>Male</td>\n",
       "      <td>B-</td>\n",
       "      <td>Cancer</td>\n",
       "      <td>2024-01-31</td>\n",
       "      <td>Matthew Smith</td>\n",
       "      <td>Sons and Miller</td>\n",
       "      <td>Blue Cross</td>\n",
       "      <td>18856.281306</td>\n",
       "      <td>328</td>\n",
       "      <td>Urgent</td>\n",
       "      <td>2024-02-02</td>\n",
       "      <td>Paracetamol</td>\n",
       "      <td>Normal</td>\n",
       "      <td>2</td>\n",
       "    </tr>\n",
       "  </tbody>\n",
       "</table>\n",
       "</div>"
      ]
     },
     "execution_count": 625,
     "metadata": {},
     "output_type": "execute_result"
    }
   ],
   "execution_count": 625
  },
  {
   "metadata": {
    "ExecuteTime": {
     "end_time": "2025-07-16T15:27:42.245151Z",
     "start_time": "2025-07-16T15:27:42.221323Z"
    }
   },
   "cell_type": "code",
   "source": "data['No of days in Hospital']=data['No of days in Hospital'].astype(int)",
   "id": "f020f0a60e5dec89",
   "outputs": [],
   "execution_count": 626
  },
  {
   "metadata": {
    "ExecuteTime": {
     "end_time": "2025-07-16T15:27:42.499497Z",
     "start_time": "2025-07-16T15:27:42.466159Z"
    }
   },
   "cell_type": "code",
   "source": "data.info()",
   "id": "91a240ddc51d89cc",
   "outputs": [
    {
     "name": "stdout",
     "output_type": "stream",
     "text": [
      "<class 'pandas.core.frame.DataFrame'>\n",
      "RangeIndex: 55500 entries, 0 to 55499\n",
      "Data columns (total 16 columns):\n",
      " #   Column                  Non-Null Count  Dtype         \n",
      "---  ------                  --------------  -----         \n",
      " 0   Name                    55500 non-null  object        \n",
      " 1   Age                     55500 non-null  int64         \n",
      " 2   Gender                  55500 non-null  object        \n",
      " 3   Blood Type              55500 non-null  object        \n",
      " 4   Medical Condition       55500 non-null  object        \n",
      " 5   Date of Admission       55500 non-null  datetime64[ns]\n",
      " 6   Doctor                  55500 non-null  object        \n",
      " 7   Hospital                55500 non-null  object        \n",
      " 8   Insurance Provider      55500 non-null  object        \n",
      " 9   Billing Amount          55500 non-null  float64       \n",
      " 10  Room Number             55500 non-null  int64         \n",
      " 11  Admission Type          55500 non-null  object        \n",
      " 12  Discharge Date          55500 non-null  datetime64[ns]\n",
      " 13  Medication              55500 non-null  object        \n",
      " 14  Test Results            55500 non-null  object        \n",
      " 15  No of days in Hospital  55500 non-null  int32         \n",
      "dtypes: datetime64[ns](2), float64(1), int32(1), int64(2), object(10)\n",
      "memory usage: 6.6+ MB\n"
     ]
    }
   ],
   "execution_count": 627
  },
  {
   "metadata": {
    "ExecuteTime": {
     "end_time": "2025-07-16T15:27:42.937057Z",
     "start_time": "2025-07-16T15:27:42.889663Z"
    }
   },
   "cell_type": "code",
   "source": "data['Hospital'].value_counts()",
   "id": "8af23543d22af9fd",
   "outputs": [
    {
     "data": {
      "text/plain": [
       "Hospital\n",
       "LLC Smith                      44\n",
       "Ltd Smith                      39\n",
       "Johnson PLC                    38\n",
       "Smith Ltd                      37\n",
       "Smith PLC                      36\n",
       "                               ..\n",
       "and Montoya Flores, Boyer       1\n",
       "Carter and Dunn King,           1\n",
       "Hall, Brown Black and           1\n",
       "Peterson Scott and Thomas,      1\n",
       "Moreno Murphy, Griffith and     1\n",
       "Name: count, Length: 39876, dtype: int64"
      ]
     },
     "execution_count": 628,
     "metadata": {},
     "output_type": "execute_result"
    }
   ],
   "execution_count": 628
  },
  {
   "metadata": {
    "ExecuteTime": {
     "end_time": "2025-07-16T15:27:43.435928Z",
     "start_time": "2025-07-16T15:27:43.393148Z"
    }
   },
   "cell_type": "code",
   "source": "data.isna().sum()",
   "id": "e5b3df7230eba46a",
   "outputs": [
    {
     "data": {
      "text/plain": [
       "Name                      0\n",
       "Age                       0\n",
       "Gender                    0\n",
       "Blood Type                0\n",
       "Medical Condition         0\n",
       "Date of Admission         0\n",
       "Doctor                    0\n",
       "Hospital                  0\n",
       "Insurance Provider        0\n",
       "Billing Amount            0\n",
       "Room Number               0\n",
       "Admission Type            0\n",
       "Discharge Date            0\n",
       "Medication                0\n",
       "Test Results              0\n",
       "No of days in Hospital    0\n",
       "dtype: int64"
      ]
     },
     "execution_count": 629,
     "metadata": {},
     "output_type": "execute_result"
    }
   ],
   "execution_count": 629
  },
  {
   "metadata": {
    "ExecuteTime": {
     "end_time": "2025-07-16T15:27:43.894356Z",
     "start_time": "2025-07-16T15:27:43.882880Z"
    }
   },
   "cell_type": "code",
   "source": [
    "cols_to_drop=['Name','Date of Admission','Discharge Date','Room Number','Doctor','Hospital']\n",
    "data.drop(columns=cols_to_drop,axis=1,inplace=True)"
   ],
   "id": "700fe8d48b4c5b61",
   "outputs": [],
   "execution_count": 630
  },
  {
   "metadata": {
    "ExecuteTime": {
     "end_time": "2025-07-16T15:27:44.329540Z",
     "start_time": "2025-07-16T15:27:44.316517Z"
    }
   },
   "cell_type": "code",
   "source": "data.head()",
   "id": "92402c436bcf93bb",
   "outputs": [
    {
     "data": {
      "text/plain": [
       "   Age  Gender Blood Type Medical Condition Insurance Provider  \\\n",
       "0   30    Male         B-            Cancer         Blue Cross   \n",
       "1   62    Male         A+           Obesity           Medicare   \n",
       "2   76  Female         A-           Obesity              Aetna   \n",
       "3   28  Female         O+          Diabetes           Medicare   \n",
       "4   43  Female        AB+            Cancer              Aetna   \n",
       "\n",
       "   Billing Amount Admission Type   Medication  Test Results  \\\n",
       "0    18856.281306         Urgent  Paracetamol        Normal   \n",
       "1    33643.327287      Emergency    Ibuprofen  Inconclusive   \n",
       "2    27955.096079      Emergency      Aspirin        Normal   \n",
       "3    37909.782410       Elective    Ibuprofen      Abnormal   \n",
       "4    14238.317814         Urgent   Penicillin      Abnormal   \n",
       "\n",
       "   No of days in Hospital  \n",
       "0                       2  \n",
       "1                       6  \n",
       "2                      15  \n",
       "3                      30  \n",
       "4                      20  "
      ],
      "text/html": [
       "<div>\n",
       "<style scoped>\n",
       "    .dataframe tbody tr th:only-of-type {\n",
       "        vertical-align: middle;\n",
       "    }\n",
       "\n",
       "    .dataframe tbody tr th {\n",
       "        vertical-align: top;\n",
       "    }\n",
       "\n",
       "    .dataframe thead th {\n",
       "        text-align: right;\n",
       "    }\n",
       "</style>\n",
       "<table border=\"1\" class=\"dataframe\">\n",
       "  <thead>\n",
       "    <tr style=\"text-align: right;\">\n",
       "      <th></th>\n",
       "      <th>Age</th>\n",
       "      <th>Gender</th>\n",
       "      <th>Blood Type</th>\n",
       "      <th>Medical Condition</th>\n",
       "      <th>Insurance Provider</th>\n",
       "      <th>Billing Amount</th>\n",
       "      <th>Admission Type</th>\n",
       "      <th>Medication</th>\n",
       "      <th>Test Results</th>\n",
       "      <th>No of days in Hospital</th>\n",
       "    </tr>\n",
       "  </thead>\n",
       "  <tbody>\n",
       "    <tr>\n",
       "      <th>0</th>\n",
       "      <td>30</td>\n",
       "      <td>Male</td>\n",
       "      <td>B-</td>\n",
       "      <td>Cancer</td>\n",
       "      <td>Blue Cross</td>\n",
       "      <td>18856.281306</td>\n",
       "      <td>Urgent</td>\n",
       "      <td>Paracetamol</td>\n",
       "      <td>Normal</td>\n",
       "      <td>2</td>\n",
       "    </tr>\n",
       "    <tr>\n",
       "      <th>1</th>\n",
       "      <td>62</td>\n",
       "      <td>Male</td>\n",
       "      <td>A+</td>\n",
       "      <td>Obesity</td>\n",
       "      <td>Medicare</td>\n",
       "      <td>33643.327287</td>\n",
       "      <td>Emergency</td>\n",
       "      <td>Ibuprofen</td>\n",
       "      <td>Inconclusive</td>\n",
       "      <td>6</td>\n",
       "    </tr>\n",
       "    <tr>\n",
       "      <th>2</th>\n",
       "      <td>76</td>\n",
       "      <td>Female</td>\n",
       "      <td>A-</td>\n",
       "      <td>Obesity</td>\n",
       "      <td>Aetna</td>\n",
       "      <td>27955.096079</td>\n",
       "      <td>Emergency</td>\n",
       "      <td>Aspirin</td>\n",
       "      <td>Normal</td>\n",
       "      <td>15</td>\n",
       "    </tr>\n",
       "    <tr>\n",
       "      <th>3</th>\n",
       "      <td>28</td>\n",
       "      <td>Female</td>\n",
       "      <td>O+</td>\n",
       "      <td>Diabetes</td>\n",
       "      <td>Medicare</td>\n",
       "      <td>37909.782410</td>\n",
       "      <td>Elective</td>\n",
       "      <td>Ibuprofen</td>\n",
       "      <td>Abnormal</td>\n",
       "      <td>30</td>\n",
       "    </tr>\n",
       "    <tr>\n",
       "      <th>4</th>\n",
       "      <td>43</td>\n",
       "      <td>Female</td>\n",
       "      <td>AB+</td>\n",
       "      <td>Cancer</td>\n",
       "      <td>Aetna</td>\n",
       "      <td>14238.317814</td>\n",
       "      <td>Urgent</td>\n",
       "      <td>Penicillin</td>\n",
       "      <td>Abnormal</td>\n",
       "      <td>20</td>\n",
       "    </tr>\n",
       "  </tbody>\n",
       "</table>\n",
       "</div>"
      ]
     },
     "execution_count": 631,
     "metadata": {},
     "output_type": "execute_result"
    }
   ],
   "execution_count": 631
  },
  {
   "metadata": {
    "ExecuteTime": {
     "end_time": "2025-07-16T15:27:45.135942Z",
     "start_time": "2025-07-16T15:27:45.127207Z"
    }
   },
   "cell_type": "code",
   "source": "data['Medication'].value_counts()",
   "id": "882d4780f5cc8d4b",
   "outputs": [
    {
     "data": {
      "text/plain": [
       "Medication\n",
       "Lipitor        11140\n",
       "Ibuprofen      11127\n",
       "Aspirin        11094\n",
       "Paracetamol    11071\n",
       "Penicillin     11068\n",
       "Name: count, dtype: int64"
      ]
     },
     "execution_count": 632,
     "metadata": {},
     "output_type": "execute_result"
    }
   ],
   "execution_count": 632
  },
  {
   "metadata": {
    "ExecuteTime": {
     "end_time": "2025-07-16T15:27:45.267263Z",
     "start_time": "2025-07-16T15:27:45.251875Z"
    }
   },
   "cell_type": "code",
   "source": "data[data['Billing Amount'] < 0]",
   "id": "85102157462f59e4",
   "outputs": [
    {
     "data": {
      "text/plain": [
       "       Age  Gender Blood Type Medical Condition Insurance Provider  \\\n",
       "132     32  Female        AB-            Cancer              Aetna   \n",
       "799     49  Female        AB-            Asthma              Aetna   \n",
       "1018    60    Male         A+      Hypertension              Aetna   \n",
       "1421    74  Female         O+            Asthma         Blue Cross   \n",
       "2103    72  Female         B-          Diabetes         Blue Cross   \n",
       "...    ...     ...        ...               ...                ...   \n",
       "52894   23    Male        AB-          Diabetes         Blue Cross   \n",
       "53204   55    Male         A+      Hypertension              Aetna   \n",
       "53232   68  Female         B+      Hypertension              Aetna   \n",
       "54136   64    Male         O+            Cancer   UnitedHealthcare   \n",
       "55276   58  Female         O-      Hypertension           Medicare   \n",
       "\n",
       "       Billing Amount Admission Type   Medication  Test Results  \\\n",
       "132       -502.507813         Urgent   Penicillin        Normal   \n",
       "799      -1018.245371       Elective   Penicillin  Inconclusive   \n",
       "1018      -306.364925       Elective    Ibuprofen        Normal   \n",
       "1421      -109.097122      Emergency    Ibuprofen      Abnormal   \n",
       "2103      -576.727907         Urgent      Aspirin      Abnormal   \n",
       "...               ...            ...          ...           ...   \n",
       "52894     -353.865186       Elective      Lipitor  Inconclusive   \n",
       "53204     -306.364925       Elective    Ibuprofen        Normal   \n",
       "53232     -591.917419       Elective      Lipitor      Abnormal   \n",
       "54136     -199.663795         Urgent    Ibuprofen      Abnormal   \n",
       "55276     -308.584269      Emergency  Paracetamol  Inconclusive   \n",
       "\n",
       "       No of days in Hospital  \n",
       "132                        18  \n",
       "799                        21  \n",
       "1018                       21  \n",
       "1421                       20  \n",
       "2103                       27  \n",
       "...                       ...  \n",
       "52894                      12  \n",
       "53204                      21  \n",
       "53232                       2  \n",
       "54136                      12  \n",
       "55276                       7  \n",
       "\n",
       "[108 rows x 10 columns]"
      ],
      "text/html": [
       "<div>\n",
       "<style scoped>\n",
       "    .dataframe tbody tr th:only-of-type {\n",
       "        vertical-align: middle;\n",
       "    }\n",
       "\n",
       "    .dataframe tbody tr th {\n",
       "        vertical-align: top;\n",
       "    }\n",
       "\n",
       "    .dataframe thead th {\n",
       "        text-align: right;\n",
       "    }\n",
       "</style>\n",
       "<table border=\"1\" class=\"dataframe\">\n",
       "  <thead>\n",
       "    <tr style=\"text-align: right;\">\n",
       "      <th></th>\n",
       "      <th>Age</th>\n",
       "      <th>Gender</th>\n",
       "      <th>Blood Type</th>\n",
       "      <th>Medical Condition</th>\n",
       "      <th>Insurance Provider</th>\n",
       "      <th>Billing Amount</th>\n",
       "      <th>Admission Type</th>\n",
       "      <th>Medication</th>\n",
       "      <th>Test Results</th>\n",
       "      <th>No of days in Hospital</th>\n",
       "    </tr>\n",
       "  </thead>\n",
       "  <tbody>\n",
       "    <tr>\n",
       "      <th>132</th>\n",
       "      <td>32</td>\n",
       "      <td>Female</td>\n",
       "      <td>AB-</td>\n",
       "      <td>Cancer</td>\n",
       "      <td>Aetna</td>\n",
       "      <td>-502.507813</td>\n",
       "      <td>Urgent</td>\n",
       "      <td>Penicillin</td>\n",
       "      <td>Normal</td>\n",
       "      <td>18</td>\n",
       "    </tr>\n",
       "    <tr>\n",
       "      <th>799</th>\n",
       "      <td>49</td>\n",
       "      <td>Female</td>\n",
       "      <td>AB-</td>\n",
       "      <td>Asthma</td>\n",
       "      <td>Aetna</td>\n",
       "      <td>-1018.245371</td>\n",
       "      <td>Elective</td>\n",
       "      <td>Penicillin</td>\n",
       "      <td>Inconclusive</td>\n",
       "      <td>21</td>\n",
       "    </tr>\n",
       "    <tr>\n",
       "      <th>1018</th>\n",
       "      <td>60</td>\n",
       "      <td>Male</td>\n",
       "      <td>A+</td>\n",
       "      <td>Hypertension</td>\n",
       "      <td>Aetna</td>\n",
       "      <td>-306.364925</td>\n",
       "      <td>Elective</td>\n",
       "      <td>Ibuprofen</td>\n",
       "      <td>Normal</td>\n",
       "      <td>21</td>\n",
       "    </tr>\n",
       "    <tr>\n",
       "      <th>1421</th>\n",
       "      <td>74</td>\n",
       "      <td>Female</td>\n",
       "      <td>O+</td>\n",
       "      <td>Asthma</td>\n",
       "      <td>Blue Cross</td>\n",
       "      <td>-109.097122</td>\n",
       "      <td>Emergency</td>\n",
       "      <td>Ibuprofen</td>\n",
       "      <td>Abnormal</td>\n",
       "      <td>20</td>\n",
       "    </tr>\n",
       "    <tr>\n",
       "      <th>2103</th>\n",
       "      <td>72</td>\n",
       "      <td>Female</td>\n",
       "      <td>B-</td>\n",
       "      <td>Diabetes</td>\n",
       "      <td>Blue Cross</td>\n",
       "      <td>-576.727907</td>\n",
       "      <td>Urgent</td>\n",
       "      <td>Aspirin</td>\n",
       "      <td>Abnormal</td>\n",
       "      <td>27</td>\n",
       "    </tr>\n",
       "    <tr>\n",
       "      <th>...</th>\n",
       "      <td>...</td>\n",
       "      <td>...</td>\n",
       "      <td>...</td>\n",
       "      <td>...</td>\n",
       "      <td>...</td>\n",
       "      <td>...</td>\n",
       "      <td>...</td>\n",
       "      <td>...</td>\n",
       "      <td>...</td>\n",
       "      <td>...</td>\n",
       "    </tr>\n",
       "    <tr>\n",
       "      <th>52894</th>\n",
       "      <td>23</td>\n",
       "      <td>Male</td>\n",
       "      <td>AB-</td>\n",
       "      <td>Diabetes</td>\n",
       "      <td>Blue Cross</td>\n",
       "      <td>-353.865186</td>\n",
       "      <td>Elective</td>\n",
       "      <td>Lipitor</td>\n",
       "      <td>Inconclusive</td>\n",
       "      <td>12</td>\n",
       "    </tr>\n",
       "    <tr>\n",
       "      <th>53204</th>\n",
       "      <td>55</td>\n",
       "      <td>Male</td>\n",
       "      <td>A+</td>\n",
       "      <td>Hypertension</td>\n",
       "      <td>Aetna</td>\n",
       "      <td>-306.364925</td>\n",
       "      <td>Elective</td>\n",
       "      <td>Ibuprofen</td>\n",
       "      <td>Normal</td>\n",
       "      <td>21</td>\n",
       "    </tr>\n",
       "    <tr>\n",
       "      <th>53232</th>\n",
       "      <td>68</td>\n",
       "      <td>Female</td>\n",
       "      <td>B+</td>\n",
       "      <td>Hypertension</td>\n",
       "      <td>Aetna</td>\n",
       "      <td>-591.917419</td>\n",
       "      <td>Elective</td>\n",
       "      <td>Lipitor</td>\n",
       "      <td>Abnormal</td>\n",
       "      <td>2</td>\n",
       "    </tr>\n",
       "    <tr>\n",
       "      <th>54136</th>\n",
       "      <td>64</td>\n",
       "      <td>Male</td>\n",
       "      <td>O+</td>\n",
       "      <td>Cancer</td>\n",
       "      <td>UnitedHealthcare</td>\n",
       "      <td>-199.663795</td>\n",
       "      <td>Urgent</td>\n",
       "      <td>Ibuprofen</td>\n",
       "      <td>Abnormal</td>\n",
       "      <td>12</td>\n",
       "    </tr>\n",
       "    <tr>\n",
       "      <th>55276</th>\n",
       "      <td>58</td>\n",
       "      <td>Female</td>\n",
       "      <td>O-</td>\n",
       "      <td>Hypertension</td>\n",
       "      <td>Medicare</td>\n",
       "      <td>-308.584269</td>\n",
       "      <td>Emergency</td>\n",
       "      <td>Paracetamol</td>\n",
       "      <td>Inconclusive</td>\n",
       "      <td>7</td>\n",
       "    </tr>\n",
       "  </tbody>\n",
       "</table>\n",
       "<p>108 rows × 10 columns</p>\n",
       "</div>"
      ]
     },
     "execution_count": 633,
     "metadata": {},
     "output_type": "execute_result"
    }
   ],
   "execution_count": 633
  },
  {
   "metadata": {
    "ExecuteTime": {
     "end_time": "2025-07-16T15:27:45.444757Z",
     "start_time": "2025-07-16T15:27:45.430608Z"
    }
   },
   "cell_type": "code",
   "source": "data=data[data['Billing Amount'] >= 0]",
   "id": "3e6214f73b323275",
   "outputs": [],
   "execution_count": 634
  },
  {
   "metadata": {
    "ExecuteTime": {
     "end_time": "2025-07-16T15:27:45.643331Z",
     "start_time": "2025-07-16T15:27:45.630167Z"
    }
   },
   "cell_type": "code",
   "source": "data[data['Billing Amount'] < 0]",
   "id": "bdbc6f6bde83b584",
   "outputs": [
    {
     "data": {
      "text/plain": [
       "Empty DataFrame\n",
       "Columns: [Age, Gender, Blood Type, Medical Condition, Insurance Provider, Billing Amount, Admission Type, Medication, Test Results, No of days in Hospital]\n",
       "Index: []"
      ],
      "text/html": [
       "<div>\n",
       "<style scoped>\n",
       "    .dataframe tbody tr th:only-of-type {\n",
       "        vertical-align: middle;\n",
       "    }\n",
       "\n",
       "    .dataframe tbody tr th {\n",
       "        vertical-align: top;\n",
       "    }\n",
       "\n",
       "    .dataframe thead th {\n",
       "        text-align: right;\n",
       "    }\n",
       "</style>\n",
       "<table border=\"1\" class=\"dataframe\">\n",
       "  <thead>\n",
       "    <tr style=\"text-align: right;\">\n",
       "      <th></th>\n",
       "      <th>Age</th>\n",
       "      <th>Gender</th>\n",
       "      <th>Blood Type</th>\n",
       "      <th>Medical Condition</th>\n",
       "      <th>Insurance Provider</th>\n",
       "      <th>Billing Amount</th>\n",
       "      <th>Admission Type</th>\n",
       "      <th>Medication</th>\n",
       "      <th>Test Results</th>\n",
       "      <th>No of days in Hospital</th>\n",
       "    </tr>\n",
       "  </thead>\n",
       "  <tbody>\n",
       "  </tbody>\n",
       "</table>\n",
       "</div>"
      ]
     },
     "execution_count": 635,
     "metadata": {},
     "output_type": "execute_result"
    }
   ],
   "execution_count": 635
  },
  {
   "metadata": {
    "ExecuteTime": {
     "end_time": "2025-07-16T15:27:45.844868Z",
     "start_time": "2025-07-16T15:27:45.829270Z"
    }
   },
   "cell_type": "code",
   "source": "data.head()",
   "id": "af877a63fc891ab4",
   "outputs": [
    {
     "data": {
      "text/plain": [
       "   Age  Gender Blood Type Medical Condition Insurance Provider  \\\n",
       "0   30    Male         B-            Cancer         Blue Cross   \n",
       "1   62    Male         A+           Obesity           Medicare   \n",
       "2   76  Female         A-           Obesity              Aetna   \n",
       "3   28  Female         O+          Diabetes           Medicare   \n",
       "4   43  Female        AB+            Cancer              Aetna   \n",
       "\n",
       "   Billing Amount Admission Type   Medication  Test Results  \\\n",
       "0    18856.281306         Urgent  Paracetamol        Normal   \n",
       "1    33643.327287      Emergency    Ibuprofen  Inconclusive   \n",
       "2    27955.096079      Emergency      Aspirin        Normal   \n",
       "3    37909.782410       Elective    Ibuprofen      Abnormal   \n",
       "4    14238.317814         Urgent   Penicillin      Abnormal   \n",
       "\n",
       "   No of days in Hospital  \n",
       "0                       2  \n",
       "1                       6  \n",
       "2                      15  \n",
       "3                      30  \n",
       "4                      20  "
      ],
      "text/html": [
       "<div>\n",
       "<style scoped>\n",
       "    .dataframe tbody tr th:only-of-type {\n",
       "        vertical-align: middle;\n",
       "    }\n",
       "\n",
       "    .dataframe tbody tr th {\n",
       "        vertical-align: top;\n",
       "    }\n",
       "\n",
       "    .dataframe thead th {\n",
       "        text-align: right;\n",
       "    }\n",
       "</style>\n",
       "<table border=\"1\" class=\"dataframe\">\n",
       "  <thead>\n",
       "    <tr style=\"text-align: right;\">\n",
       "      <th></th>\n",
       "      <th>Age</th>\n",
       "      <th>Gender</th>\n",
       "      <th>Blood Type</th>\n",
       "      <th>Medical Condition</th>\n",
       "      <th>Insurance Provider</th>\n",
       "      <th>Billing Amount</th>\n",
       "      <th>Admission Type</th>\n",
       "      <th>Medication</th>\n",
       "      <th>Test Results</th>\n",
       "      <th>No of days in Hospital</th>\n",
       "    </tr>\n",
       "  </thead>\n",
       "  <tbody>\n",
       "    <tr>\n",
       "      <th>0</th>\n",
       "      <td>30</td>\n",
       "      <td>Male</td>\n",
       "      <td>B-</td>\n",
       "      <td>Cancer</td>\n",
       "      <td>Blue Cross</td>\n",
       "      <td>18856.281306</td>\n",
       "      <td>Urgent</td>\n",
       "      <td>Paracetamol</td>\n",
       "      <td>Normal</td>\n",
       "      <td>2</td>\n",
       "    </tr>\n",
       "    <tr>\n",
       "      <th>1</th>\n",
       "      <td>62</td>\n",
       "      <td>Male</td>\n",
       "      <td>A+</td>\n",
       "      <td>Obesity</td>\n",
       "      <td>Medicare</td>\n",
       "      <td>33643.327287</td>\n",
       "      <td>Emergency</td>\n",
       "      <td>Ibuprofen</td>\n",
       "      <td>Inconclusive</td>\n",
       "      <td>6</td>\n",
       "    </tr>\n",
       "    <tr>\n",
       "      <th>2</th>\n",
       "      <td>76</td>\n",
       "      <td>Female</td>\n",
       "      <td>A-</td>\n",
       "      <td>Obesity</td>\n",
       "      <td>Aetna</td>\n",
       "      <td>27955.096079</td>\n",
       "      <td>Emergency</td>\n",
       "      <td>Aspirin</td>\n",
       "      <td>Normal</td>\n",
       "      <td>15</td>\n",
       "    </tr>\n",
       "    <tr>\n",
       "      <th>3</th>\n",
       "      <td>28</td>\n",
       "      <td>Female</td>\n",
       "      <td>O+</td>\n",
       "      <td>Diabetes</td>\n",
       "      <td>Medicare</td>\n",
       "      <td>37909.782410</td>\n",
       "      <td>Elective</td>\n",
       "      <td>Ibuprofen</td>\n",
       "      <td>Abnormal</td>\n",
       "      <td>30</td>\n",
       "    </tr>\n",
       "    <tr>\n",
       "      <th>4</th>\n",
       "      <td>43</td>\n",
       "      <td>Female</td>\n",
       "      <td>AB+</td>\n",
       "      <td>Cancer</td>\n",
       "      <td>Aetna</td>\n",
       "      <td>14238.317814</td>\n",
       "      <td>Urgent</td>\n",
       "      <td>Penicillin</td>\n",
       "      <td>Abnormal</td>\n",
       "      <td>20</td>\n",
       "    </tr>\n",
       "  </tbody>\n",
       "</table>\n",
       "</div>"
      ]
     },
     "execution_count": 636,
     "metadata": {},
     "output_type": "execute_result"
    }
   ],
   "execution_count": 636
  },
  {
   "metadata": {
    "ExecuteTime": {
     "end_time": "2025-07-16T15:27:46.098615Z",
     "start_time": "2025-07-16T15:27:46.086211Z"
    }
   },
   "cell_type": "code",
   "source": [
    "new_cols=['Age','Gender','Blood Type','Medical Condition','Insurance Provider','Admission Type','Medication','Test Results','No of days in Hospital','Billing Amount']\n",
    "data=data[new_cols]"
   ],
   "id": "2f5733a4fea02871",
   "outputs": [],
   "execution_count": 637
  },
  {
   "metadata": {
    "ExecuteTime": {
     "end_time": "2025-07-16T15:27:46.353978Z",
     "start_time": "2025-07-16T15:27:46.336035Z"
    }
   },
   "cell_type": "code",
   "source": "data.head()",
   "id": "b0abf25ee1f7fb16",
   "outputs": [
    {
     "data": {
      "text/plain": [
       "   Age  Gender Blood Type Medical Condition Insurance Provider Admission Type  \\\n",
       "0   30    Male         B-            Cancer         Blue Cross         Urgent   \n",
       "1   62    Male         A+           Obesity           Medicare      Emergency   \n",
       "2   76  Female         A-           Obesity              Aetna      Emergency   \n",
       "3   28  Female         O+          Diabetes           Medicare       Elective   \n",
       "4   43  Female        AB+            Cancer              Aetna         Urgent   \n",
       "\n",
       "    Medication  Test Results  No of days in Hospital  Billing Amount  \n",
       "0  Paracetamol        Normal                       2    18856.281306  \n",
       "1    Ibuprofen  Inconclusive                       6    33643.327287  \n",
       "2      Aspirin        Normal                      15    27955.096079  \n",
       "3    Ibuprofen      Abnormal                      30    37909.782410  \n",
       "4   Penicillin      Abnormal                      20    14238.317814  "
      ],
      "text/html": [
       "<div>\n",
       "<style scoped>\n",
       "    .dataframe tbody tr th:only-of-type {\n",
       "        vertical-align: middle;\n",
       "    }\n",
       "\n",
       "    .dataframe tbody tr th {\n",
       "        vertical-align: top;\n",
       "    }\n",
       "\n",
       "    .dataframe thead th {\n",
       "        text-align: right;\n",
       "    }\n",
       "</style>\n",
       "<table border=\"1\" class=\"dataframe\">\n",
       "  <thead>\n",
       "    <tr style=\"text-align: right;\">\n",
       "      <th></th>\n",
       "      <th>Age</th>\n",
       "      <th>Gender</th>\n",
       "      <th>Blood Type</th>\n",
       "      <th>Medical Condition</th>\n",
       "      <th>Insurance Provider</th>\n",
       "      <th>Admission Type</th>\n",
       "      <th>Medication</th>\n",
       "      <th>Test Results</th>\n",
       "      <th>No of days in Hospital</th>\n",
       "      <th>Billing Amount</th>\n",
       "    </tr>\n",
       "  </thead>\n",
       "  <tbody>\n",
       "    <tr>\n",
       "      <th>0</th>\n",
       "      <td>30</td>\n",
       "      <td>Male</td>\n",
       "      <td>B-</td>\n",
       "      <td>Cancer</td>\n",
       "      <td>Blue Cross</td>\n",
       "      <td>Urgent</td>\n",
       "      <td>Paracetamol</td>\n",
       "      <td>Normal</td>\n",
       "      <td>2</td>\n",
       "      <td>18856.281306</td>\n",
       "    </tr>\n",
       "    <tr>\n",
       "      <th>1</th>\n",
       "      <td>62</td>\n",
       "      <td>Male</td>\n",
       "      <td>A+</td>\n",
       "      <td>Obesity</td>\n",
       "      <td>Medicare</td>\n",
       "      <td>Emergency</td>\n",
       "      <td>Ibuprofen</td>\n",
       "      <td>Inconclusive</td>\n",
       "      <td>6</td>\n",
       "      <td>33643.327287</td>\n",
       "    </tr>\n",
       "    <tr>\n",
       "      <th>2</th>\n",
       "      <td>76</td>\n",
       "      <td>Female</td>\n",
       "      <td>A-</td>\n",
       "      <td>Obesity</td>\n",
       "      <td>Aetna</td>\n",
       "      <td>Emergency</td>\n",
       "      <td>Aspirin</td>\n",
       "      <td>Normal</td>\n",
       "      <td>15</td>\n",
       "      <td>27955.096079</td>\n",
       "    </tr>\n",
       "    <tr>\n",
       "      <th>3</th>\n",
       "      <td>28</td>\n",
       "      <td>Female</td>\n",
       "      <td>O+</td>\n",
       "      <td>Diabetes</td>\n",
       "      <td>Medicare</td>\n",
       "      <td>Elective</td>\n",
       "      <td>Ibuprofen</td>\n",
       "      <td>Abnormal</td>\n",
       "      <td>30</td>\n",
       "      <td>37909.782410</td>\n",
       "    </tr>\n",
       "    <tr>\n",
       "      <th>4</th>\n",
       "      <td>43</td>\n",
       "      <td>Female</td>\n",
       "      <td>AB+</td>\n",
       "      <td>Cancer</td>\n",
       "      <td>Aetna</td>\n",
       "      <td>Urgent</td>\n",
       "      <td>Penicillin</td>\n",
       "      <td>Abnormal</td>\n",
       "      <td>20</td>\n",
       "      <td>14238.317814</td>\n",
       "    </tr>\n",
       "  </tbody>\n",
       "</table>\n",
       "</div>"
      ]
     },
     "execution_count": 638,
     "metadata": {},
     "output_type": "execute_result"
    }
   ],
   "execution_count": 638
  },
  {
   "metadata": {
    "ExecuteTime": {
     "end_time": "2025-07-16T15:27:46.574918Z",
     "start_time": "2025-07-16T15:27:46.554058Z"
    }
   },
   "cell_type": "code",
   "source": [
    "numerical_col_X='Age'\n",
    "numerical_col_Y='Billing Amount'\n",
    "categorical_col=data.select_dtypes(include=['object']).columns\n",
    "print(categorical_col)"
   ],
   "id": "fd46e7289aa067c8",
   "outputs": [
    {
     "name": "stdout",
     "output_type": "stream",
     "text": [
      "Index(['Gender', 'Blood Type', 'Medical Condition', 'Insurance Provider',\n",
      "       'Admission Type', 'Medication', 'Test Results'],\n",
      "      dtype='object')\n"
     ]
    }
   ],
   "execution_count": 639
  },
  {
   "metadata": {
    "ExecuteTime": {
     "end_time": "2025-07-16T15:27:46.813028Z",
     "start_time": "2025-07-16T15:27:46.800287Z"
    }
   },
   "cell_type": "code",
   "source": [
    "X=data.drop(columns='Billing Amount',axis=1)\n",
    "y=data['Billing Amount']"
   ],
   "id": "d864dab938546b36",
   "outputs": [],
   "execution_count": 640
  },
  {
   "metadata": {
    "ExecuteTime": {
     "end_time": "2025-07-16T15:27:46.942539Z",
     "start_time": "2025-07-16T15:27:46.938096Z"
    }
   },
   "cell_type": "code",
   "source": "from sklearn.model_selection import train_test_split",
   "id": "882a770c9689c463",
   "outputs": [],
   "execution_count": 641
  },
  {
   "metadata": {
    "ExecuteTime": {
     "end_time": "2025-07-16T15:27:47.049515Z",
     "start_time": "2025-07-16T15:27:47.022937Z"
    }
   },
   "cell_type": "code",
   "source": "X_train,X_test,y_train,y_test=train_test_split(X,y,test_size=0.2,random_state=42)",
   "id": "70065ddd2f598c89",
   "outputs": [],
   "execution_count": 642
  },
  {
   "metadata": {
    "ExecuteTime": {
     "end_time": "2025-07-16T15:27:47.091929Z",
     "start_time": "2025-07-16T15:27:47.081564Z"
    }
   },
   "cell_type": "code",
   "source": "print(X_train.shape,X_test.shape,y_train.shape,y_test.shape)",
   "id": "7201058f74913733",
   "outputs": [
    {
     "name": "stdout",
     "output_type": "stream",
     "text": [
      "(44313, 9) (11079, 9) (44313,) (11079,)\n"
     ]
    }
   ],
   "execution_count": 643
  },
  {
   "metadata": {
    "ExecuteTime": {
     "end_time": "2025-07-16T15:27:47.299411Z",
     "start_time": "2025-07-16T15:27:47.191884Z"
    }
   },
   "cell_type": "code",
   "source": [
    "enc=LabelEncoder()\n",
    "X_train[categorical_col]=X_train[categorical_col].apply(enc.fit_transform)\n",
    "X_test[categorical_col]=X_test[categorical_col].apply(enc.fit_transform)"
   ],
   "id": "5d3b9e4b85384421",
   "outputs": [],
   "execution_count": 644
  },
  {
   "metadata": {
    "ExecuteTime": {
     "end_time": "2025-07-16T15:27:47.346401Z",
     "start_time": "2025-07-16T15:27:47.339644Z"
    }
   },
   "cell_type": "code",
   "source": [
    "y_train=np.log1p(y_train)\n",
    "y_test=np.log1p(y_test)"
   ],
   "id": "2644cfd7a153ee31",
   "outputs": [],
   "execution_count": 645
  },
  {
   "metadata": {
    "ExecuteTime": {
     "end_time": "2025-07-16T15:27:47.409932Z",
     "start_time": "2025-07-16T15:27:47.403093Z"
    }
   },
   "cell_type": "code",
   "source": "from tensorflow import keras\n",
   "id": "797d6ce79dad9c41",
   "outputs": [],
   "execution_count": 646
  },
  {
   "metadata": {
    "ExecuteTime": {
     "end_time": "2025-07-16T15:27:47.535581Z",
     "start_time": "2025-07-16T15:27:47.467429Z"
    }
   },
   "cell_type": "code",
   "source": [
    "model = keras.Sequential()\n",
    "model.add(keras.Input(shape=(9,))),\n",
    "model.add(keras.layers.Dense(64,activation=\"relu\")),\n",
    "model.add(keras.layers.Dropout(0.2)),\n",
    "model.add(keras.layers.Dense(32, activation=\"relu\")),\n",
    "model.add(keras.layers.Dropout(0.2)),\n",
    "model.add(keras.layers.Dense(1))\n",
    "\n",
    "\n"
   ],
   "id": "540d237875942d76",
   "outputs": [],
   "execution_count": 647
  },
  {
   "metadata": {
    "ExecuteTime": {
     "end_time": "2025-07-16T15:27:47.583958Z",
     "start_time": "2025-07-16T15:27:47.566789Z"
    }
   },
   "cell_type": "code",
   "source": "model.summary()",
   "id": "3ca0c43782966f5f",
   "outputs": [
    {
     "data": {
      "text/plain": [
       "\u001B[1mModel: \"sequential_12\"\u001B[0m\n"
      ],
      "text/html": [
       "<pre style=\"white-space:pre;overflow-x:auto;line-height:normal;font-family:Menlo,'DejaVu Sans Mono',consolas,'Courier New',monospace\"><span style=\"font-weight: bold\">Model: \"sequential_12\"</span>\n",
       "</pre>\n"
      ]
     },
     "metadata": {},
     "output_type": "display_data"
    },
    {
     "data": {
      "text/plain": [
       "┏━━━━━━━━━━━━━━━━━━━━━━━━━━━━━━━━━┳━━━━━━━━━━━━━━━━━━━━━━━━┳━━━━━━━━━━━━━━━┓\n",
       "┃\u001B[1m \u001B[0m\u001B[1mLayer (type)                   \u001B[0m\u001B[1m \u001B[0m┃\u001B[1m \u001B[0m\u001B[1mOutput Shape          \u001B[0m\u001B[1m \u001B[0m┃\u001B[1m \u001B[0m\u001B[1m      Param #\u001B[0m\u001B[1m \u001B[0m┃\n",
       "┡━━━━━━━━━━━━━━━━━━━━━━━━━━━━━━━━━╇━━━━━━━━━━━━━━━━━━━━━━━━╇━━━━━━━━━━━━━━━┩\n",
       "│ dense_42 (\u001B[38;5;33mDense\u001B[0m)                │ (\u001B[38;5;45mNone\u001B[0m, \u001B[38;5;34m64\u001B[0m)             │           \u001B[38;5;34m640\u001B[0m │\n",
       "├─────────────────────────────────┼────────────────────────┼───────────────┤\n",
       "│ dropout_28 (\u001B[38;5;33mDropout\u001B[0m)            │ (\u001B[38;5;45mNone\u001B[0m, \u001B[38;5;34m64\u001B[0m)             │             \u001B[38;5;34m0\u001B[0m │\n",
       "├─────────────────────────────────┼────────────────────────┼───────────────┤\n",
       "│ dense_43 (\u001B[38;5;33mDense\u001B[0m)                │ (\u001B[38;5;45mNone\u001B[0m, \u001B[38;5;34m32\u001B[0m)             │         \u001B[38;5;34m2,080\u001B[0m │\n",
       "├─────────────────────────────────┼────────────────────────┼───────────────┤\n",
       "│ dropout_29 (\u001B[38;5;33mDropout\u001B[0m)            │ (\u001B[38;5;45mNone\u001B[0m, \u001B[38;5;34m32\u001B[0m)             │             \u001B[38;5;34m0\u001B[0m │\n",
       "├─────────────────────────────────┼────────────────────────┼───────────────┤\n",
       "│ dense_44 (\u001B[38;5;33mDense\u001B[0m)                │ (\u001B[38;5;45mNone\u001B[0m, \u001B[38;5;34m1\u001B[0m)              │            \u001B[38;5;34m33\u001B[0m │\n",
       "└─────────────────────────────────┴────────────────────────┴───────────────┘\n"
      ],
      "text/html": [
       "<pre style=\"white-space:pre;overflow-x:auto;line-height:normal;font-family:Menlo,'DejaVu Sans Mono',consolas,'Courier New',monospace\">┏━━━━━━━━━━━━━━━━━━━━━━━━━━━━━━━━━┳━━━━━━━━━━━━━━━━━━━━━━━━┳━━━━━━━━━━━━━━━┓\n",
       "┃<span style=\"font-weight: bold\"> Layer (type)                    </span>┃<span style=\"font-weight: bold\"> Output Shape           </span>┃<span style=\"font-weight: bold\">       Param # </span>┃\n",
       "┡━━━━━━━━━━━━━━━━━━━━━━━━━━━━━━━━━╇━━━━━━━━━━━━━━━━━━━━━━━━╇━━━━━━━━━━━━━━━┩\n",
       "│ dense_42 (<span style=\"color: #0087ff; text-decoration-color: #0087ff\">Dense</span>)                │ (<span style=\"color: #00d7ff; text-decoration-color: #00d7ff\">None</span>, <span style=\"color: #00af00; text-decoration-color: #00af00\">64</span>)             │           <span style=\"color: #00af00; text-decoration-color: #00af00\">640</span> │\n",
       "├─────────────────────────────────┼────────────────────────┼───────────────┤\n",
       "│ dropout_28 (<span style=\"color: #0087ff; text-decoration-color: #0087ff\">Dropout</span>)            │ (<span style=\"color: #00d7ff; text-decoration-color: #00d7ff\">None</span>, <span style=\"color: #00af00; text-decoration-color: #00af00\">64</span>)             │             <span style=\"color: #00af00; text-decoration-color: #00af00\">0</span> │\n",
       "├─────────────────────────────────┼────────────────────────┼───────────────┤\n",
       "│ dense_43 (<span style=\"color: #0087ff; text-decoration-color: #0087ff\">Dense</span>)                │ (<span style=\"color: #00d7ff; text-decoration-color: #00d7ff\">None</span>, <span style=\"color: #00af00; text-decoration-color: #00af00\">32</span>)             │         <span style=\"color: #00af00; text-decoration-color: #00af00\">2,080</span> │\n",
       "├─────────────────────────────────┼────────────────────────┼───────────────┤\n",
       "│ dropout_29 (<span style=\"color: #0087ff; text-decoration-color: #0087ff\">Dropout</span>)            │ (<span style=\"color: #00d7ff; text-decoration-color: #00d7ff\">None</span>, <span style=\"color: #00af00; text-decoration-color: #00af00\">32</span>)             │             <span style=\"color: #00af00; text-decoration-color: #00af00\">0</span> │\n",
       "├─────────────────────────────────┼────────────────────────┼───────────────┤\n",
       "│ dense_44 (<span style=\"color: #0087ff; text-decoration-color: #0087ff\">Dense</span>)                │ (<span style=\"color: #00d7ff; text-decoration-color: #00d7ff\">None</span>, <span style=\"color: #00af00; text-decoration-color: #00af00\">1</span>)              │            <span style=\"color: #00af00; text-decoration-color: #00af00\">33</span> │\n",
       "└─────────────────────────────────┴────────────────────────┴───────────────┘\n",
       "</pre>\n"
      ]
     },
     "metadata": {},
     "output_type": "display_data"
    },
    {
     "data": {
      "text/plain": [
       "\u001B[1m Total params: \u001B[0m\u001B[38;5;34m2,753\u001B[0m (10.75 KB)\n"
      ],
      "text/html": [
       "<pre style=\"white-space:pre;overflow-x:auto;line-height:normal;font-family:Menlo,'DejaVu Sans Mono',consolas,'Courier New',monospace\"><span style=\"font-weight: bold\"> Total params: </span><span style=\"color: #00af00; text-decoration-color: #00af00\">2,753</span> (10.75 KB)\n",
       "</pre>\n"
      ]
     },
     "metadata": {},
     "output_type": "display_data"
    },
    {
     "data": {
      "text/plain": [
       "\u001B[1m Trainable params: \u001B[0m\u001B[38;5;34m2,753\u001B[0m (10.75 KB)\n"
      ],
      "text/html": [
       "<pre style=\"white-space:pre;overflow-x:auto;line-height:normal;font-family:Menlo,'DejaVu Sans Mono',consolas,'Courier New',monospace\"><span style=\"font-weight: bold\"> Trainable params: </span><span style=\"color: #00af00; text-decoration-color: #00af00\">2,753</span> (10.75 KB)\n",
       "</pre>\n"
      ]
     },
     "metadata": {},
     "output_type": "display_data"
    },
    {
     "data": {
      "text/plain": [
       "\u001B[1m Non-trainable params: \u001B[0m\u001B[38;5;34m0\u001B[0m (0.00 B)\n"
      ],
      "text/html": [
       "<pre style=\"white-space:pre;overflow-x:auto;line-height:normal;font-family:Menlo,'DejaVu Sans Mono',consolas,'Courier New',monospace\"><span style=\"font-weight: bold\"> Non-trainable params: </span><span style=\"color: #00af00; text-decoration-color: #00af00\">0</span> (0.00 B)\n",
       "</pre>\n"
      ]
     },
     "metadata": {},
     "output_type": "display_data"
    }
   ],
   "execution_count": 648
  },
  {
   "metadata": {
    "ExecuteTime": {
     "end_time": "2025-07-16T15:27:47.654549Z",
     "start_time": "2025-07-16T15:27:47.646020Z"
    }
   },
   "cell_type": "code",
   "source": "model.compile(optimizer='rmsprop',loss='mean_squared_error')",
   "id": "4edf5a78390080c3",
   "outputs": [],
   "execution_count": 649
  },
  {
   "metadata": {
    "ExecuteTime": {
     "end_time": "2025-07-16T15:28:05.719418Z",
     "start_time": "2025-07-16T15:27:47.702893Z"
    }
   },
   "cell_type": "code",
   "source": "history=model.fit(X_train,y_train,validation_data=(X_test,y_test),epochs=50,batch_size=512)",
   "id": "778a91a5d8eacb79",
   "outputs": [
    {
     "name": "stdout",
     "output_type": "stream",
     "text": [
      "Epoch 1/50\n",
      "\u001B[1m87/87\u001B[0m \u001B[32m━━━━━━━━━━━━━━━━━━━━\u001B[0m\u001B[37m\u001B[0m \u001B[1m1s\u001B[0m 6ms/step - loss: 53.6210 - val_loss: 10.3601\n",
      "Epoch 2/50\n",
      "\u001B[1m87/87\u001B[0m \u001B[32m━━━━━━━━━━━━━━━━━━━━\u001B[0m\u001B[37m\u001B[0m \u001B[1m0s\u001B[0m 3ms/step - loss: 10.3504 - val_loss: 7.9708\n",
      "Epoch 3/50\n",
      "\u001B[1m87/87\u001B[0m \u001B[32m━━━━━━━━━━━━━━━━━━━━\u001B[0m\u001B[37m\u001B[0m \u001B[1m0s\u001B[0m 4ms/step - loss: 7.7024 - val_loss: 5.5117\n",
      "Epoch 4/50\n",
      "\u001B[1m87/87\u001B[0m \u001B[32m━━━━━━━━━━━━━━━━━━━━\u001B[0m\u001B[37m\u001B[0m \u001B[1m0s\u001B[0m 5ms/step - loss: 6.4690 - val_loss: 3.1587\n",
      "Epoch 5/50\n",
      "\u001B[1m87/87\u001B[0m \u001B[32m━━━━━━━━━━━━━━━━━━━━\u001B[0m\u001B[37m\u001B[0m \u001B[1m0s\u001B[0m 3ms/step - loss: 5.8733 - val_loss: 3.4021\n",
      "Epoch 6/50\n",
      "\u001B[1m87/87\u001B[0m \u001B[32m━━━━━━━━━━━━━━━━━━━━\u001B[0m\u001B[37m\u001B[0m \u001B[1m0s\u001B[0m 3ms/step - loss: 5.2872 - val_loss: 2.5240\n",
      "Epoch 7/50\n",
      "\u001B[1m87/87\u001B[0m \u001B[32m━━━━━━━━━━━━━━━━━━━━\u001B[0m\u001B[37m\u001B[0m \u001B[1m0s\u001B[0m 3ms/step - loss: 4.8581 - val_loss: 3.1753\n",
      "Epoch 8/50\n",
      "\u001B[1m87/87\u001B[0m \u001B[32m━━━━━━━━━━━━━━━━━━━━\u001B[0m\u001B[37m\u001B[0m \u001B[1m0s\u001B[0m 4ms/step - loss: 4.4842 - val_loss: 1.9344\n",
      "Epoch 9/50\n",
      "\u001B[1m87/87\u001B[0m \u001B[32m━━━━━━━━━━━━━━━━━━━━\u001B[0m\u001B[37m\u001B[0m \u001B[1m0s\u001B[0m 3ms/step - loss: 4.1912 - val_loss: 2.2049\n",
      "Epoch 10/50\n",
      "\u001B[1m87/87\u001B[0m \u001B[32m━━━━━━━━━━━━━━━━━━━━\u001B[0m\u001B[37m\u001B[0m \u001B[1m0s\u001B[0m 3ms/step - loss: 3.8279 - val_loss: 1.6058\n",
      "Epoch 11/50\n",
      "\u001B[1m87/87\u001B[0m \u001B[32m━━━━━━━━━━━━━━━━━━━━\u001B[0m\u001B[37m\u001B[0m \u001B[1m0s\u001B[0m 3ms/step - loss: 3.6349 - val_loss: 1.5250\n",
      "Epoch 12/50\n",
      "\u001B[1m87/87\u001B[0m \u001B[32m━━━━━━━━━━━━━━━━━━━━\u001B[0m\u001B[37m\u001B[0m \u001B[1m0s\u001B[0m 4ms/step - loss: 3.3758 - val_loss: 1.9683\n",
      "Epoch 13/50\n",
      "\u001B[1m87/87\u001B[0m \u001B[32m━━━━━━━━━━━━━━━━━━━━\u001B[0m\u001B[37m\u001B[0m \u001B[1m0s\u001B[0m 3ms/step - loss: 3.1999 - val_loss: 1.2341\n",
      "Epoch 14/50\n",
      "\u001B[1m87/87\u001B[0m \u001B[32m━━━━━━━━━━━━━━━━━━━━\u001B[0m\u001B[37m\u001B[0m \u001B[1m0s\u001B[0m 3ms/step - loss: 3.0763 - val_loss: 1.0945\n",
      "Epoch 15/50\n",
      "\u001B[1m87/87\u001B[0m \u001B[32m━━━━━━━━━━━━━━━━━━━━\u001B[0m\u001B[37m\u001B[0m \u001B[1m0s\u001B[0m 4ms/step - loss: 2.8594 - val_loss: 0.9898\n",
      "Epoch 16/50\n",
      "\u001B[1m87/87\u001B[0m \u001B[32m━━━━━━━━━━━━━━━━━━━━\u001B[0m\u001B[37m\u001B[0m \u001B[1m0s\u001B[0m 4ms/step - loss: 2.7515 - val_loss: 1.0734\n",
      "Epoch 17/50\n",
      "\u001B[1m87/87\u001B[0m \u001B[32m━━━━━━━━━━━━━━━━━━━━\u001B[0m\u001B[37m\u001B[0m \u001B[1m0s\u001B[0m 4ms/step - loss: 2.5859 - val_loss: 1.3252\n",
      "Epoch 18/50\n",
      "\u001B[1m87/87\u001B[0m \u001B[32m━━━━━━━━━━━━━━━━━━━━\u001B[0m\u001B[37m\u001B[0m \u001B[1m0s\u001B[0m 3ms/step - loss: 2.5531 - val_loss: 0.8458\n",
      "Epoch 19/50\n",
      "\u001B[1m87/87\u001B[0m \u001B[32m━━━━━━━━━━━━━━━━━━━━\u001B[0m\u001B[37m\u001B[0m \u001B[1m0s\u001B[0m 3ms/step - loss: 2.4585 - val_loss: 0.9733\n",
      "Epoch 20/50\n",
      "\u001B[1m87/87\u001B[0m \u001B[32m━━━━━━━━━━━━━━━━━━━━\u001B[0m\u001B[37m\u001B[0m \u001B[1m0s\u001B[0m 3ms/step - loss: 2.3461 - val_loss: 1.1123\n",
      "Epoch 21/50\n",
      "\u001B[1m87/87\u001B[0m \u001B[32m━━━━━━━━━━━━━━━━━━━━\u001B[0m\u001B[37m\u001B[0m \u001B[1m0s\u001B[0m 3ms/step - loss: 2.3171 - val_loss: 0.9413\n",
      "Epoch 22/50\n",
      "\u001B[1m87/87\u001B[0m \u001B[32m━━━━━━━━━━━━━━━━━━━━\u001B[0m\u001B[37m\u001B[0m \u001B[1m0s\u001B[0m 3ms/step - loss: 2.2485 - val_loss: 0.9368\n",
      "Epoch 23/50\n",
      "\u001B[1m87/87\u001B[0m \u001B[32m━━━━━━━━━━━━━━━━━━━━\u001B[0m\u001B[37m\u001B[0m \u001B[1m0s\u001B[0m 3ms/step - loss: 2.1749 - val_loss: 0.7807\n",
      "Epoch 24/50\n",
      "\u001B[1m87/87\u001B[0m \u001B[32m━━━━━━━━━━━━━━━━━━━━\u001B[0m\u001B[37m\u001B[0m \u001B[1m0s\u001B[0m 4ms/step - loss: 2.0768 - val_loss: 0.7547\n",
      "Epoch 25/50\n",
      "\u001B[1m87/87\u001B[0m \u001B[32m━━━━━━━━━━━━━━━━━━━━\u001B[0m\u001B[37m\u001B[0m \u001B[1m0s\u001B[0m 3ms/step - loss: 2.0516 - val_loss: 0.8402\n",
      "Epoch 26/50\n",
      "\u001B[1m87/87\u001B[0m \u001B[32m━━━━━━━━━━━━━━━━━━━━\u001B[0m\u001B[37m\u001B[0m \u001B[1m0s\u001B[0m 3ms/step - loss: 2.0275 - val_loss: 0.7656\n",
      "Epoch 27/50\n",
      "\u001B[1m87/87\u001B[0m \u001B[32m━━━━━━━━━━━━━━━━━━━━\u001B[0m\u001B[37m\u001B[0m \u001B[1m0s\u001B[0m 4ms/step - loss: 1.9735 - val_loss: 0.7560\n",
      "Epoch 28/50\n",
      "\u001B[1m87/87\u001B[0m \u001B[32m━━━━━━━━━━━━━━━━━━━━\u001B[0m\u001B[37m\u001B[0m \u001B[1m0s\u001B[0m 3ms/step - loss: 1.9599 - val_loss: 0.7301\n",
      "Epoch 29/50\n",
      "\u001B[1m87/87\u001B[0m \u001B[32m━━━━━━━━━━━━━━━━━━━━\u001B[0m\u001B[37m\u001B[0m \u001B[1m0s\u001B[0m 3ms/step - loss: 1.9100 - val_loss: 0.7254\n",
      "Epoch 30/50\n",
      "\u001B[1m87/87\u001B[0m \u001B[32m━━━━━━━━━━━━━━━━━━━━\u001B[0m\u001B[37m\u001B[0m \u001B[1m0s\u001B[0m 4ms/step - loss: 1.8552 - val_loss: 0.7204\n",
      "Epoch 31/50\n",
      "\u001B[1m87/87\u001B[0m \u001B[32m━━━━━━━━━━━━━━━━━━━━\u001B[0m\u001B[37m\u001B[0m \u001B[1m0s\u001B[0m 3ms/step - loss: 1.8145 - val_loss: 0.8508\n",
      "Epoch 32/50\n",
      "\u001B[1m87/87\u001B[0m \u001B[32m━━━━━━━━━━━━━━━━━━━━\u001B[0m\u001B[37m\u001B[0m \u001B[1m0s\u001B[0m 3ms/step - loss: 1.7585 - val_loss: 0.7346\n",
      "Epoch 33/50\n",
      "\u001B[1m87/87\u001B[0m \u001B[32m━━━━━━━━━━━━━━━━━━━━\u001B[0m\u001B[37m\u001B[0m \u001B[1m0s\u001B[0m 4ms/step - loss: 1.7507 - val_loss: 1.0243\n",
      "Epoch 34/50\n",
      "\u001B[1m87/87\u001B[0m \u001B[32m━━━━━━━━━━━━━━━━━━━━\u001B[0m\u001B[37m\u001B[0m \u001B[1m0s\u001B[0m 3ms/step - loss: 1.7384 - val_loss: 0.7338\n",
      "Epoch 35/50\n",
      "\u001B[1m87/87\u001B[0m \u001B[32m━━━━━━━━━━━━━━━━━━━━\u001B[0m\u001B[37m\u001B[0m \u001B[1m0s\u001B[0m 3ms/step - loss: 1.6847 - val_loss: 0.7333\n",
      "Epoch 36/50\n",
      "\u001B[1m87/87\u001B[0m \u001B[32m━━━━━━━━━━━━━━━━━━━━\u001B[0m\u001B[37m\u001B[0m \u001B[1m0s\u001B[0m 4ms/step - loss: 1.6663 - val_loss: 0.7721\n",
      "Epoch 37/50\n",
      "\u001B[1m87/87\u001B[0m \u001B[32m━━━━━━━━━━━━━━━━━━━━\u001B[0m\u001B[37m\u001B[0m \u001B[1m0s\u001B[0m 5ms/step - loss: 1.6496 - val_loss: 0.7109\n",
      "Epoch 38/50\n",
      "\u001B[1m87/87\u001B[0m \u001B[32m━━━━━━━━━━━━━━━━━━━━\u001B[0m\u001B[37m\u001B[0m \u001B[1m0s\u001B[0m 3ms/step - loss: 1.5944 - val_loss: 0.7113\n",
      "Epoch 39/50\n",
      "\u001B[1m87/87\u001B[0m \u001B[32m━━━━━━━━━━━━━━━━━━━━\u001B[0m\u001B[37m\u001B[0m \u001B[1m0s\u001B[0m 4ms/step - loss: 1.6064 - val_loss: 0.7331\n",
      "Epoch 40/50\n",
      "\u001B[1m87/87\u001B[0m \u001B[32m━━━━━━━━━━━━━━━━━━━━\u001B[0m\u001B[37m\u001B[0m \u001B[1m0s\u001B[0m 3ms/step - loss: 1.5755 - val_loss: 0.7148\n",
      "Epoch 41/50\n",
      "\u001B[1m87/87\u001B[0m \u001B[32m━━━━━━━━━━━━━━━━━━━━\u001B[0m\u001B[37m\u001B[0m \u001B[1m0s\u001B[0m 3ms/step - loss: 1.5413 - val_loss: 0.7245\n",
      "Epoch 42/50\n",
      "\u001B[1m87/87\u001B[0m \u001B[32m━━━━━━━━━━━━━━━━━━━━\u001B[0m\u001B[37m\u001B[0m \u001B[1m0s\u001B[0m 3ms/step - loss: 1.5078 - val_loss: 0.7223\n",
      "Epoch 43/50\n",
      "\u001B[1m87/87\u001B[0m \u001B[32m━━━━━━━━━━━━━━━━━━━━\u001B[0m\u001B[37m\u001B[0m \u001B[1m0s\u001B[0m 4ms/step - loss: 1.5284 - val_loss: 0.7571\n",
      "Epoch 44/50\n",
      "\u001B[1m87/87\u001B[0m \u001B[32m━━━━━━━━━━━━━━━━━━━━\u001B[0m\u001B[37m\u001B[0m \u001B[1m0s\u001B[0m 3ms/step - loss: 1.4442 - val_loss: 0.7237\n",
      "Epoch 45/50\n",
      "\u001B[1m87/87\u001B[0m \u001B[32m━━━━━━━━━━━━━━━━━━━━\u001B[0m\u001B[37m\u001B[0m \u001B[1m0s\u001B[0m 3ms/step - loss: 1.4355 - val_loss: 0.7255\n",
      "Epoch 46/50\n",
      "\u001B[1m87/87\u001B[0m \u001B[32m━━━━━━━━━━━━━━━━━━━━\u001B[0m\u001B[37m\u001B[0m \u001B[1m0s\u001B[0m 3ms/step - loss: 1.3920 - val_loss: 0.7307\n",
      "Epoch 47/50\n",
      "\u001B[1m87/87\u001B[0m \u001B[32m━━━━━━━━━━━━━━━━━━━━\u001B[0m\u001B[37m\u001B[0m \u001B[1m0s\u001B[0m 4ms/step - loss: 1.3832 - val_loss: 0.7214\n",
      "Epoch 48/50\n",
      "\u001B[1m87/87\u001B[0m \u001B[32m━━━━━━━━━━━━━━━━━━━━\u001B[0m\u001B[37m\u001B[0m \u001B[1m0s\u001B[0m 4ms/step - loss: 1.3645 - val_loss: 0.7112\n",
      "Epoch 49/50\n",
      "\u001B[1m87/87\u001B[0m \u001B[32m━━━━━━━━━━━━━━━━━━━━\u001B[0m\u001B[37m\u001B[0m \u001B[1m0s\u001B[0m 4ms/step - loss: 1.3453 - val_loss: 0.7132\n",
      "Epoch 50/50\n",
      "\u001B[1m87/87\u001B[0m \u001B[32m━━━━━━━━━━━━━━━━━━━━\u001B[0m\u001B[37m\u001B[0m \u001B[1m0s\u001B[0m 4ms/step - loss: 1.3248 - val_loss: 0.7210\n"
     ]
    }
   ],
   "execution_count": 650
  },
  {
   "metadata": {
    "ExecuteTime": {
     "end_time": "2025-07-16T15:32:25.540602Z",
     "start_time": "2025-07-16T15:32:25.277472Z"
    }
   },
   "cell_type": "code",
   "source": [
    "import matplotlib.pyplot as plt\n",
    "history_dict = history.history\n",
    "loss_values = history_dict[\"loss\"]\n",
    "val_loss_values = history_dict[\"val_loss\"]\n",
    "epochs = range(1, len(loss_values) + 1)\n",
    "plt.plot(epochs, loss_values, \"bo\", label=\"Training loss\")\n",
    "plt.plot(epochs, val_loss_values, \"b\", label=\"Validation loss\")\n",
    "plt.title(\"Training and validation loss\")\n",
    "plt.xlabel(\"Epochs\")\n",
    "plt.ylabel(\"Loss\")\n",
    "plt.legend()\n",
    "plt.show()\n"
   ],
   "id": "9a9139df62e425de",
   "outputs": [
    {
     "data": {
      "text/plain": [
       "<Figure size 640x480 with 1 Axes>"
      ],
      "image/png": "[encoded data removed]"
     },
     "metadata": {},
     "output_type": "display_data"
    }
   ],
   "execution_count": 653
  },
  {
   "metadata": {
    "ExecuteTime": {
     "end_time": "2025-07-16T15:35:39.399796Z",
     "start_time": "2025-07-16T15:35:38.803887Z"
    }
   },
   "cell_type": "code",
   "source": "y_pred=model.predict(X_test)",
   "id": "787d28fb751f2ea6",
   "outputs": [
    {
     "name": "stdout",
     "output_type": "stream",
     "text": [
      "\u001B[1m347/347\u001B[0m \u001B[32m━━━━━━━━━━━━━━━━━━━━\u001B[0m\u001B[37m\u001B[0m \u001B[1m0s\u001B[0m 1ms/step\n"
     ]
    }
   ],
   "execution_count": 656
  },
  {
   "metadata": {
    "ExecuteTime": {
     "end_time": "2025-07-16T15:36:16.891914Z",
     "start_time": "2025-07-16T15:36:16.881653Z"
    }
   },
   "cell_type": "code",
   "source": "y_pred[0]",
   "id": "eedbfba5c82bedc2",
   "outputs": [
    {
     "data": {
      "text/plain": [
       "array([9.788611], dtype=float32)"
      ]
     },
     "execution_count": 657,
     "metadata": {},
     "output_type": "execute_result"
    }
   ],
   "execution_count": 657
  }
 ],
 "metadata": {
  "kernelspec": {
   "display_name": "Python 3",
   "language": "python",
   "name": "python3"
  },
  "language_info": {
   "codemirror_mode": {
    "name": "ipython",
    "version": 2
   },
   "file_extension": ".py",
   "mimetype": "text/x-python",
   "name": "python",
   "nbconvert_exporter": "python",
   "pygments_lexer": "ipython2",
   "version": "2.7.6"
  }
 },
 "nbformat": 4,
 "nbformat_minor": 5
}
