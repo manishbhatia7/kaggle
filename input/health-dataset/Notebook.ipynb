{
 "cells": [
  {
   "cell_type": "code",
   "id": "initial_id",
   "metadata": {
    "collapsed": true,
    "ExecuteTime": {
     "end_time": "2025-07-16T07:10:03.320611Z",
     "start_time": "2025-07-16T07:10:03.314875Z"
    }
   },
   "source": [
    "import pandas as pd\n",
    "import seaborn as sns\n",
    "import matplotlib.pyplot as plt\n",
    "from scipy.stats import skew\n",
    "import datetime as dt"
   ],
   "outputs": [],
   "execution_count": 312
  },
  {
   "metadata": {
    "ExecuteTime": {
     "end_time": "2025-07-16T07:10:03.727201Z",
     "start_time": "2025-07-16T07:10:03.584205Z"
    }
   },
   "cell_type": "code",
   "source": "data=pd.read_csv('/kaggle/input/health-dataset/healthcare_dataset.csv')",
   "id": "4add4049df1a5f88",
   "outputs": [],
   "execution_count": 313
  },
  {
   "metadata": {
    "ExecuteTime": {
     "end_time": "2025-07-16T07:10:03.756271Z",
     "start_time": "2025-07-16T07:10:03.741841Z"
    }
   },
   "cell_type": "code",
   "source": "data.head(1)",
   "id": "7c90c16ad21315a8",
   "outputs": [
    {
     "data": {
      "text/plain": [
       "            Name  Age Gender Blood Type Medical Condition Date of Admission  \\\n",
       "0  Bobby JacksOn   30   Male         B-            Cancer        2024-01-31   \n",
       "\n",
       "          Doctor         Hospital Insurance Provider  Billing Amount  \\\n",
       "0  Matthew Smith  Sons and Miller         Blue Cross    18856.281306   \n",
       "\n",
       "   Room Number Admission Type Discharge Date   Medication Test Results  \n",
       "0          328         Urgent     2024-02-02  Paracetamol       Normal  "
      ],
      "text/html": [
       "<div>\n",
       "<style scoped>\n",
       "    .dataframe tbody tr th:only-of-type {\n",
       "        vertical-align: middle;\n",
       "    }\n",
       "\n",
       "    .dataframe tbody tr th {\n",
       "        vertical-align: top;\n",
       "    }\n",
       "\n",
       "    .dataframe thead th {\n",
       "        text-align: right;\n",
       "    }\n",
       "</style>\n",
       "<table border=\"1\" class=\"dataframe\">\n",
       "  <thead>\n",
       "    <tr style=\"text-align: right;\">\n",
       "      <th></th>\n",
       "      <th>Name</th>\n",
       "      <th>Age</th>\n",
       "      <th>Gender</th>\n",
       "      <th>Blood Type</th>\n",
       "      <th>Medical Condition</th>\n",
       "      <th>Date of Admission</th>\n",
       "      <th>Doctor</th>\n",
       "      <th>Hospital</th>\n",
       "      <th>Insurance Provider</th>\n",
       "      <th>Billing Amount</th>\n",
       "      <th>Room Number</th>\n",
       "      <th>Admission Type</th>\n",
       "      <th>Discharge Date</th>\n",
       "      <th>Medication</th>\n",
       "      <th>Test Results</th>\n",
       "    </tr>\n",
       "  </thead>\n",
       "  <tbody>\n",
       "    <tr>\n",
       "      <th>0</th>\n",
       "      <td>Bobby JacksOn</td>\n",
       "      <td>30</td>\n",
       "      <td>Male</td>\n",
       "      <td>B-</td>\n",
       "      <td>Cancer</td>\n",
       "      <td>2024-01-31</td>\n",
       "      <td>Matthew Smith</td>\n",
       "      <td>Sons and Miller</td>\n",
       "      <td>Blue Cross</td>\n",
       "      <td>18856.281306</td>\n",
       "      <td>328</td>\n",
       "      <td>Urgent</td>\n",
       "      <td>2024-02-02</td>\n",
       "      <td>Paracetamol</td>\n",
       "      <td>Normal</td>\n",
       "    </tr>\n",
       "  </tbody>\n",
       "</table>\n",
       "</div>"
      ]
     },
     "execution_count": 314,
     "metadata": {},
     "output_type": "execute_result"
    }
   ],
   "execution_count": 314
  },
  {
   "metadata": {
    "ExecuteTime": {
     "end_time": "2025-07-16T07:10:03.837307Z",
     "start_time": "2025-07-16T07:10:03.806735Z"
    }
   },
   "cell_type": "code",
   "source": "data.info()",
   "id": "668bf1a09c97b795",
   "outputs": [
    {
     "name": "stdout",
     "output_type": "stream",
     "text": [
      "<class 'pandas.core.frame.DataFrame'>\n",
      "RangeIndex: 55500 entries, 0 to 55499\n",
      "Data columns (total 15 columns):\n",
      " #   Column              Non-Null Count  Dtype  \n",
      "---  ------              --------------  -----  \n",
      " 0   Name                55500 non-null  object \n",
      " 1   Age                 55500 non-null  int64  \n",
      " 2   Gender              55500 non-null  object \n",
      " 3   Blood Type          55500 non-null  object \n",
      " 4   Medical Condition   55500 non-null  object \n",
      " 5   Date of Admission   55500 non-null  object \n",
      " 6   Doctor              55500 non-null  object \n",
      " 7   Hospital            55500 non-null  object \n",
      " 8   Insurance Provider  55500 non-null  object \n",
      " 9   Billing Amount      55500 non-null  float64\n",
      " 10  Room Number         55500 non-null  int64  \n",
      " 11  Admission Type      55500 non-null  object \n",
      " 12  Discharge Date      55500 non-null  object \n",
      " 13  Medication          55500 non-null  object \n",
      " 14  Test Results        55500 non-null  object \n",
      "dtypes: float64(1), int64(2), object(12)\n",
      "memory usage: 6.4+ MB\n"
     ]
    }
   ],
   "execution_count": 315
  },
  {
   "metadata": {
    "ExecuteTime": {
     "end_time": "2025-07-16T07:10:03.886918Z",
     "start_time": "2025-07-16T07:10:03.882448Z"
    }
   },
   "cell_type": "code",
   "source": "",
   "id": "b9eab43210dac046",
   "outputs": [],
   "execution_count": null
  },
  {
   "metadata": {
    "ExecuteTime": {
     "end_time": "2025-07-16T07:10:04.389886Z",
     "start_time": "2025-07-16T07:10:03.949472Z"
    }
   },
   "cell_type": "code",
   "source": [
    "sns.histplot(x='Age',data=data,kde=True)\n",
    "plt.show()"
   ],
   "id": "f36c461a874db638",
   "outputs": [
    {
     "data": {
      "text/plain": [
       "<Figure size 640x480 with 1 Axes>"
      ],
      "image/png": "[encoded data removed]"
     },
     "metadata": {},
     "output_type": "display_data"
    }
   ],
   "execution_count": 316
  },
  {
   "metadata": {
    "ExecuteTime": {
     "end_time": "2025-07-16T07:10:04.411488Z",
     "start_time": "2025-07-16T07:10:04.407648Z"
    }
   },
   "cell_type": "code",
   "source": "",
   "id": "c0e4c6f022f40e1f",
   "outputs": [],
   "execution_count": null
  },
  {
   "metadata": {
    "ExecuteTime": {
     "end_time": "2025-07-16T07:10:04.442775Z",
     "start_time": "2025-07-16T07:10:04.433239Z"
    }
   },
   "cell_type": "code",
   "source": "data['Age'].skew()",
   "id": "7bae12ccf604467c",
   "outputs": [
    {
     "data": {
      "text/plain": [
       "-0.005735270674183171"
      ]
     },
     "execution_count": 317,
     "metadata": {},
     "output_type": "execute_result"
    }
   ],
   "execution_count": 317
  },
  {
   "metadata": {
    "ExecuteTime": {
     "end_time": "2025-07-16T07:10:04.907152Z",
     "start_time": "2025-07-16T07:10:04.513867Z"
    }
   },
   "cell_type": "code",
   "source": [
    "sns.histplot(x='Billing Amount',data=data,kde=True)\n",
    "plt.show()"
   ],
   "id": "20f4c2f81415f55a",
   "outputs": [
    {
     "data": {
      "text/plain": [
       "<Figure size 640x480 with 1 Axes>"
      ],
      "image/png": "[encoded data removed]"
     },
     "metadata": {},
     "output_type": "display_data"
    }
   ],
   "execution_count": 318
  },
  {
   "metadata": {
    "ExecuteTime": {
     "end_time": "2025-07-16T07:10:05.079492Z",
     "start_time": "2025-07-16T07:10:05.066088Z"
    }
   },
   "cell_type": "code",
   "source": [
    "cat_cols=data.select_dtypes(include=['object']).columns.tolist()\n",
    "print(cat_cols)"
   ],
   "id": "bfb37266229c0528",
   "outputs": [
    {
     "name": "stdout",
     "output_type": "stream",
     "text": [
      "['Name', 'Gender', 'Blood Type', 'Medical Condition', 'Date of Admission', 'Doctor', 'Hospital', 'Insurance Provider', 'Admission Type', 'Discharge Date', 'Medication', 'Test Results']\n"
     ]
    }
   ],
   "execution_count": 319
  },
  {
   "metadata": {
    "ExecuteTime": {
     "end_time": "2025-07-16T07:10:05.101702Z",
     "start_time": "2025-07-16T07:10:05.095125Z"
    }
   },
   "cell_type": "code",
   "source": [
    "cat_cols.remove('Date of Admission')\n",
    "cat_cols.remove('Discharge Date')\n",
    "cat_cols.remove('Name')\n",
    "cat_cols.remove('Doctor')\n",
    "\n",
    "print(cat_cols)"
   ],
   "id": "23779ba051962e0b",
   "outputs": [
    {
     "name": "stdout",
     "output_type": "stream",
     "text": [
      "['Gender', 'Blood Type', 'Medical Condition', 'Hospital', 'Insurance Provider', 'Admission Type', 'Medication', 'Test Results']\n"
     ]
    }
   ],
   "execution_count": 320
  },
  {
   "metadata": {
    "ExecuteTime": {
     "end_time": "2025-07-16T07:10:05.190002Z",
     "start_time": "2025-07-16T07:10:05.135280Z"
    }
   },
   "cell_type": "code",
   "source": [
    "#Feature Engineering\n",
    "#Converting date to Day,Month and Year\n",
    "data['Date of Admission'] = pd.to_datetime(data['Date of Admission'],errors='coerce')\n",
    "data['Discharge Date'] = pd.to_datetime(data['Discharge Date'],errors='coerce')\n"
   ],
   "id": "c189e2a494ca7630",
   "outputs": [],
   "execution_count": 321
  },
  {
   "metadata": {
    "ExecuteTime": {
     "end_time": "2025-07-16T07:10:05.252637Z",
     "start_time": "2025-07-16T07:10:05.215008Z"
    }
   },
   "cell_type": "code",
   "source": "data.info()",
   "id": "3d3bdad7ce907ff",
   "outputs": [
    {
     "name": "stdout",
     "output_type": "stream",
     "text": [
      "<class 'pandas.core.frame.DataFrame'>\n",
      "RangeIndex: 55500 entries, 0 to 55499\n",
      "Data columns (total 15 columns):\n",
      " #   Column              Non-Null Count  Dtype         \n",
      "---  ------              --------------  -----         \n",
      " 0   Name                55500 non-null  object        \n",
      " 1   Age                 55500 non-null  int64         \n",
      " 2   Gender              55500 non-null  object        \n",
      " 3   Blood Type          55500 non-null  object        \n",
      " 4   Medical Condition   55500 non-null  object        \n",
      " 5   Date of Admission   55500 non-null  datetime64[ns]\n",
      " 6   Doctor              55500 non-null  object        \n",
      " 7   Hospital            55500 non-null  object        \n",
      " 8   Insurance Provider  55500 non-null  object        \n",
      " 9   Billing Amount      55500 non-null  float64       \n",
      " 10  Room Number         55500 non-null  int64         \n",
      " 11  Admission Type      55500 non-null  object        \n",
      " 12  Discharge Date      55500 non-null  datetime64[ns]\n",
      " 13  Medication          55500 non-null  object        \n",
      " 14  Test Results        55500 non-null  object        \n",
      "dtypes: datetime64[ns](2), float64(1), int64(2), object(10)\n",
      "memory usage: 6.4+ MB\n"
     ]
    }
   ],
   "execution_count": 322
  },
  {
   "metadata": {
    "ExecuteTime": {
     "end_time": "2025-07-16T07:10:05.278088Z",
     "start_time": "2025-07-16T07:10:05.271618Z"
    }
   },
   "cell_type": "code",
   "source": "data['No of days in Hospital']=data['Discharge Date']-data['Date of Admission']",
   "id": "b4c7772d60ee0bc4",
   "outputs": [],
   "execution_count": 323
  },
  {
   "metadata": {
    "ExecuteTime": {
     "end_time": "2025-07-16T07:10:05.364448Z",
     "start_time": "2025-07-16T07:10:05.349354Z"
    }
   },
   "cell_type": "code",
   "source": "data.head(1)",
   "id": "4f93fd9d40f3518c",
   "outputs": [
    {
     "data": {
      "text/plain": [
       "            Name  Age Gender Blood Type Medical Condition Date of Admission  \\\n",
       "0  Bobby JacksOn   30   Male         B-            Cancer        2024-01-31   \n",
       "\n",
       "          Doctor         Hospital Insurance Provider  Billing Amount  \\\n",
       "0  Matthew Smith  Sons and Miller         Blue Cross    18856.281306   \n",
       "\n",
       "   Room Number Admission Type Discharge Date   Medication Test Results  \\\n",
       "0          328         Urgent     2024-02-02  Paracetamol       Normal   \n",
       "\n",
       "  No of days in Hospital  \n",
       "0                 2 days  "
      ],
      "text/html": [
       "<div>\n",
       "<style scoped>\n",
       "    .dataframe tbody tr th:only-of-type {\n",
       "        vertical-align: middle;\n",
       "    }\n",
       "\n",
       "    .dataframe tbody tr th {\n",
       "        vertical-align: top;\n",
       "    }\n",
       "\n",
       "    .dataframe thead th {\n",
       "        text-align: right;\n",
       "    }\n",
       "</style>\n",
       "<table border=\"1\" class=\"dataframe\">\n",
       "  <thead>\n",
       "    <tr style=\"text-align: right;\">\n",
       "      <th></th>\n",
       "      <th>Name</th>\n",
       "      <th>Age</th>\n",
       "      <th>Gender</th>\n",
       "      <th>Blood Type</th>\n",
       "      <th>Medical Condition</th>\n",
       "      <th>Date of Admission</th>\n",
       "      <th>Doctor</th>\n",
       "      <th>Hospital</th>\n",
       "      <th>Insurance Provider</th>\n",
       "      <th>Billing Amount</th>\n",
       "      <th>Room Number</th>\n",
       "      <th>Admission Type</th>\n",
       "      <th>Discharge Date</th>\n",
       "      <th>Medication</th>\n",
       "      <th>Test Results</th>\n",
       "      <th>No of days in Hospital</th>\n",
       "    </tr>\n",
       "  </thead>\n",
       "  <tbody>\n",
       "    <tr>\n",
       "      <th>0</th>\n",
       "      <td>Bobby JacksOn</td>\n",
       "      <td>30</td>\n",
       "      <td>Male</td>\n",
       "      <td>B-</td>\n",
       "      <td>Cancer</td>\n",
       "      <td>2024-01-31</td>\n",
       "      <td>Matthew Smith</td>\n",
       "      <td>Sons and Miller</td>\n",
       "      <td>Blue Cross</td>\n",
       "      <td>18856.281306</td>\n",
       "      <td>328</td>\n",
       "      <td>Urgent</td>\n",
       "      <td>2024-02-02</td>\n",
       "      <td>Paracetamol</td>\n",
       "      <td>Normal</td>\n",
       "      <td>2 days</td>\n",
       "    </tr>\n",
       "  </tbody>\n",
       "</table>\n",
       "</div>"
      ]
     },
     "execution_count": 324,
     "metadata": {},
     "output_type": "execute_result"
    }
   ],
   "execution_count": 324
  },
  {
   "metadata": {
    "ExecuteTime": {
     "end_time": "2025-07-16T07:10:06.403035Z",
     "start_time": "2025-07-16T07:10:05.442858Z"
    }
   },
   "cell_type": "code",
   "source": "data['No of days in Hospital']=data['No of days in Hospital'].astype('str')\n",
   "id": "878c215d4d909f67",
   "outputs": [],
   "execution_count": 325
  },
  {
   "metadata": {
    "ExecuteTime": {
     "end_time": "2025-07-16T07:10:06.636636Z",
     "start_time": "2025-07-16T07:10:06.601296Z"
    }
   },
   "cell_type": "code",
   "source": [
    "data['No of days in Hospital']=data['No of days in Hospital'].apply(lambda x :x.split(' ',)[0])\n",
    "\n"
   ],
   "id": "175648141240a5b1",
   "outputs": [],
   "execution_count": 326
  },
  {
   "metadata": {
    "ExecuteTime": {
     "end_time": "2025-07-16T07:10:07.169896Z",
     "start_time": "2025-07-16T07:10:07.145335Z"
    }
   },
   "cell_type": "code",
   "source": "data.head(1)",
   "id": "cde029c76bb225c1",
   "outputs": [
    {
     "data": {
      "text/plain": [
       "            Name  Age Gender Blood Type Medical Condition Date of Admission  \\\n",
       "0  Bobby JacksOn   30   Male         B-            Cancer        2024-01-31   \n",
       "\n",
       "          Doctor         Hospital Insurance Provider  Billing Amount  \\\n",
       "0  Matthew Smith  Sons and Miller         Blue Cross    18856.281306   \n",
       "\n",
       "   Room Number Admission Type Discharge Date   Medication Test Results  \\\n",
       "0          328         Urgent     2024-02-02  Paracetamol       Normal   \n",
       "\n",
       "  No of days in Hospital  \n",
       "0                      2  "
      ],
      "text/html": [
       "<div>\n",
       "<style scoped>\n",
       "    .dataframe tbody tr th:only-of-type {\n",
       "        vertical-align: middle;\n",
       "    }\n",
       "\n",
       "    .dataframe tbody tr th {\n",
       "        vertical-align: top;\n",
       "    }\n",
       "\n",
       "    .dataframe thead th {\n",
       "        text-align: right;\n",
       "    }\n",
       "</style>\n",
       "<table border=\"1\" class=\"dataframe\">\n",
       "  <thead>\n",
       "    <tr style=\"text-align: right;\">\n",
       "      <th></th>\n",
       "      <th>Name</th>\n",
       "      <th>Age</th>\n",
       "      <th>Gender</th>\n",
       "      <th>Blood Type</th>\n",
       "      <th>Medical Condition</th>\n",
       "      <th>Date of Admission</th>\n",
       "      <th>Doctor</th>\n",
       "      <th>Hospital</th>\n",
       "      <th>Insurance Provider</th>\n",
       "      <th>Billing Amount</th>\n",
       "      <th>Room Number</th>\n",
       "      <th>Admission Type</th>\n",
       "      <th>Discharge Date</th>\n",
       "      <th>Medication</th>\n",
       "      <th>Test Results</th>\n",
       "      <th>No of days in Hospital</th>\n",
       "    </tr>\n",
       "  </thead>\n",
       "  <tbody>\n",
       "    <tr>\n",
       "      <th>0</th>\n",
       "      <td>Bobby JacksOn</td>\n",
       "      <td>30</td>\n",
       "      <td>Male</td>\n",
       "      <td>B-</td>\n",
       "      <td>Cancer</td>\n",
       "      <td>2024-01-31</td>\n",
       "      <td>Matthew Smith</td>\n",
       "      <td>Sons and Miller</td>\n",
       "      <td>Blue Cross</td>\n",
       "      <td>18856.281306</td>\n",
       "      <td>328</td>\n",
       "      <td>Urgent</td>\n",
       "      <td>2024-02-02</td>\n",
       "      <td>Paracetamol</td>\n",
       "      <td>Normal</td>\n",
       "      <td>2</td>\n",
       "    </tr>\n",
       "  </tbody>\n",
       "</table>\n",
       "</div>"
      ]
     },
     "execution_count": 327,
     "metadata": {},
     "output_type": "execute_result"
    }
   ],
   "execution_count": 327
  },
  {
   "metadata": {
    "ExecuteTime": {
     "end_time": "2025-07-16T07:10:07.481499Z",
     "start_time": "2025-07-16T07:10:07.472260Z"
    }
   },
   "cell_type": "code",
   "source": "data['No of days in Hospital']=data['No of days in Hospital'].astype(int)",
   "id": "f020f0a60e5dec89",
   "outputs": [],
   "execution_count": 328
  },
  {
   "metadata": {
    "ExecuteTime": {
     "end_time": "2025-07-16T07:10:07.555341Z",
     "start_time": "2025-07-16T07:10:07.528942Z"
    }
   },
   "cell_type": "code",
   "source": "data.info()",
   "id": "91a240ddc51d89cc",
   "outputs": [
    {
     "name": "stdout",
     "output_type": "stream",
     "text": [
      "<class 'pandas.core.frame.DataFrame'>\n",
      "RangeIndex: 55500 entries, 0 to 55499\n",
      "Data columns (total 16 columns):\n",
      " #   Column                  Non-Null Count  Dtype         \n",
      "---  ------                  --------------  -----         \n",
      " 0   Name                    55500 non-null  object        \n",
      " 1   Age                     55500 non-null  int64         \n",
      " 2   Gender                  55500 non-null  object        \n",
      " 3   Blood Type              55500 non-null  object        \n",
      " 4   Medical Condition       55500 non-null  object        \n",
      " 5   Date of Admission       55500 non-null  datetime64[ns]\n",
      " 6   Doctor                  55500 non-null  object        \n",
      " 7   Hospital                55500 non-null  object        \n",
      " 8   Insurance Provider      55500 non-null  object        \n",
      " 9   Billing Amount          55500 non-null  float64       \n",
      " 10  Room Number             55500 non-null  int64         \n",
      " 11  Admission Type          55500 non-null  object        \n",
      " 12  Discharge Date          55500 non-null  datetime64[ns]\n",
      " 13  Medication              55500 non-null  object        \n",
      " 14  Test Results            55500 non-null  object        \n",
      " 15  No of days in Hospital  55500 non-null  int32         \n",
      "dtypes: datetime64[ns](2), float64(1), int32(1), int64(2), object(10)\n",
      "memory usage: 6.6+ MB\n"
     ]
    }
   ],
   "execution_count": 329
  },
  {
   "metadata": {
    "ExecuteTime": {
     "end_time": "2025-07-16T07:10:38.981155Z",
     "start_time": "2025-07-16T07:10:38.958143Z"
    }
   },
   "cell_type": "code",
   "source": "data['Hospital'].value_counts()",
   "id": "8af23543d22af9fd",
   "outputs": [
    {
     "data": {
      "text/plain": [
       "Hospital\n",
       "LLC Smith                      44\n",
       "Ltd Smith                      39\n",
       "Johnson PLC                    38\n",
       "Smith Ltd                      37\n",
       "Smith PLC                      36\n",
       "                               ..\n",
       "and Montoya Flores, Boyer       1\n",
       "Carter and Dunn King,           1\n",
       "Hall, Brown Black and           1\n",
       "Peterson Scott and Thomas,      1\n",
       "Moreno Murphy, Griffith and     1\n",
       "Name: count, Length: 39876, dtype: int64"
      ]
     },
     "execution_count": 330,
     "metadata": {},
     "output_type": "execute_result"
    }
   ],
   "execution_count": 330
  },
  {
   "metadata": {
    "ExecuteTime": {
     "end_time": "2025-07-16T07:23:09.891010Z",
     "start_time": "2025-07-16T07:23:09.788143Z"
    }
   },
   "cell_type": "code",
   "source": [
    "#Trying to experiment with Hospital Names giving Indian Hospital Names instead of synthetic data.It will be fun.\n",
    "data['Hospital']=data['Hospital'].str.replace('LLC Smith','Moolchand')\n",
    "data['Hospital']=data['Hospital'].str.replace('Ltd Smith','Apollo')\n",
    "data['Hospital']=data['Hospital'].str.replace('Johnson PLC','Manipal')\n",
    "data['Hospital']=data['Hospital'].str.replace('Smith Ltd','AIIMS')\n",
    "data['Hospital']=data['Hospital'].str.replace('Smith PLC','Medanta')\n",
    "data['Hospital']=data['Hospital'].str.replace('Smith Group','Safdarjung')\n",
    "data['Hospital']=data['Hospital'].str.replace('Johnson Inc','Chanan Devi')\n",
    "data['Hospital']=data['Hospital'].str.replace('Smith Inc','Tata Memorial')\n",
    "data['Hospital']=data['Hospital'].str.replace('Smith LLC','Artemis')\n",
    "data['Hospital']=data['Hospital'].str.replace('Group Smith','Wellingdon')\n"
   ],
   "id": "f9bd963705fd7e2c",
   "outputs": [],
   "execution_count": 331
  },
  {
   "metadata": {
    "ExecuteTime": {
     "end_time": "2025-07-16T07:23:57.976733Z",
     "start_time": "2025-07-16T07:23:57.949245Z"
    }
   },
   "cell_type": "code",
   "source": "data['Hospital'].value_counts()",
   "id": "aea3b953035ea413",
   "outputs": [
    {
     "data": {
      "text/plain": [
       "Hospital\n",
       "Moolchand                      44\n",
       "Apollo                         39\n",
       "Manipal                        38\n",
       "AIIMS                          37\n",
       "Medanta                        36\n",
       "                               ..\n",
       "and Montoya Flores, Boyer       1\n",
       "Carter and Dunn King,           1\n",
       "Hall, Brown Black and           1\n",
       "Peterson Scott and Thomas,      1\n",
       "Moreno Murphy, Griffith and     1\n",
       "Name: count, Length: 39876, dtype: int64"
      ]
     },
     "execution_count": 333,
     "metadata": {},
     "output_type": "execute_result"
    }
   ],
   "execution_count": 333
  }
 ],
 "metadata": {
  "kernelspec": {
   "display_name": "Python 3",
   "language": "python",
   "name": "python3"
  },
  "language_info": {
   "codemirror_mode": {
    "name": "ipython",
    "version": 2
   },
   "file_extension": ".py",
   "mimetype": "text/x-python",
   "name": "python",
   "nbconvert_exporter": "python",
   "pygments_lexer": "ipython2",
   "version": "2.7.6"
  }
 },
 "nbformat": 4,
 "nbformat_minor": 5
}
