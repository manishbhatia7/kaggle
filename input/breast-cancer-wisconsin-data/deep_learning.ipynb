{
 "cells": [
  {
   "cell_type": "code",
   "id": "initial_id",
   "metadata": {
    "collapsed": true,
    "ExecuteTime": {
     "end_time": "2025-07-10T14:46:55.565080Z",
     "start_time": "2025-07-10T14:46:55.546925Z"
    }
   },
   "source": "import pandas as pd",
   "outputs": [],
   "execution_count": 159
  },
  {
   "metadata": {
    "ExecuteTime": {
     "end_time": "2025-07-10T14:46:55.604810Z",
     "start_time": "2025-07-10T14:46:55.590818Z"
    }
   },
   "cell_type": "code",
   "source": "data=pd.read_csv('/kaggle/input/breast-cancer-wisconsin-data/data.csv')",
   "id": "3361cb11e5459801",
   "outputs": [],
   "execution_count": 160
  },
  {
   "metadata": {
    "ExecuteTime": {
     "end_time": "2025-07-10T14:46:55.667334Z",
     "start_time": "2025-07-10T14:46:55.651948Z"
    }
   },
   "cell_type": "code",
   "source": "data.head(1)",
   "id": "2fc36666a5cfbc59",
   "outputs": [
    {
     "data": {
      "text/plain": [
       "       id diagnosis  radius_mean  texture_mean  perimeter_mean  area_mean  \\\n",
       "0  842302         M        17.99         10.38           122.8     1001.0   \n",
       "\n",
       "   smoothness_mean  compactness_mean  concavity_mean  concave points_mean  \\\n",
       "0           0.1184            0.2776          0.3001               0.1471   \n",
       "\n",
       "   ...  texture_worst  perimeter_worst  area_worst  smoothness_worst  \\\n",
       "0  ...          17.33            184.6      2019.0            0.1622   \n",
       "\n",
       "   compactness_worst  concavity_worst  concave points_worst  symmetry_worst  \\\n",
       "0             0.6656           0.7119                0.2654          0.4601   \n",
       "\n",
       "   fractal_dimension_worst  Unnamed: 32  \n",
       "0                   0.1189          NaN  \n",
       "\n",
       "[1 rows x 33 columns]"
      ],
      "text/html": [
       "<div>\n",
       "<style scoped>\n",
       "    .dataframe tbody tr th:only-of-type {\n",
       "        vertical-align: middle;\n",
       "    }\n",
       "\n",
       "    .dataframe tbody tr th {\n",
       "        vertical-align: top;\n",
       "    }\n",
       "\n",
       "    .dataframe thead th {\n",
       "        text-align: right;\n",
       "    }\n",
       "</style>\n",
       "<table border=\"1\" class=\"dataframe\">\n",
       "  <thead>\n",
       "    <tr style=\"text-align: right;\">\n",
       "      <th></th>\n",
       "      <th>id</th>\n",
       "      <th>diagnosis</th>\n",
       "      <th>radius_mean</th>\n",
       "      <th>texture_mean</th>\n",
       "      <th>perimeter_mean</th>\n",
       "      <th>area_mean</th>\n",
       "      <th>smoothness_mean</th>\n",
       "      <th>compactness_mean</th>\n",
       "      <th>concavity_mean</th>\n",
       "      <th>concave points_mean</th>\n",
       "      <th>...</th>\n",
       "      <th>texture_worst</th>\n",
       "      <th>perimeter_worst</th>\n",
       "      <th>area_worst</th>\n",
       "      <th>smoothness_worst</th>\n",
       "      <th>compactness_worst</th>\n",
       "      <th>concavity_worst</th>\n",
       "      <th>concave points_worst</th>\n",
       "      <th>symmetry_worst</th>\n",
       "      <th>fractal_dimension_worst</th>\n",
       "      <th>Unnamed: 32</th>\n",
       "    </tr>\n",
       "  </thead>\n",
       "  <tbody>\n",
       "    <tr>\n",
       "      <th>0</th>\n",
       "      <td>842302</td>\n",
       "      <td>M</td>\n",
       "      <td>17.99</td>\n",
       "      <td>10.38</td>\n",
       "      <td>122.8</td>\n",
       "      <td>1001.0</td>\n",
       "      <td>0.1184</td>\n",
       "      <td>0.2776</td>\n",
       "      <td>0.3001</td>\n",
       "      <td>0.1471</td>\n",
       "      <td>...</td>\n",
       "      <td>17.33</td>\n",
       "      <td>184.6</td>\n",
       "      <td>2019.0</td>\n",
       "      <td>0.1622</td>\n",
       "      <td>0.6656</td>\n",
       "      <td>0.7119</td>\n",
       "      <td>0.2654</td>\n",
       "      <td>0.4601</td>\n",
       "      <td>0.1189</td>\n",
       "      <td>NaN</td>\n",
       "    </tr>\n",
       "  </tbody>\n",
       "</table>\n",
       "<p>1 rows × 33 columns</p>\n",
       "</div>"
      ]
     },
     "execution_count": 161,
     "metadata": {},
     "output_type": "execute_result"
    }
   ],
   "execution_count": 161
  },
  {
   "metadata": {
    "ExecuteTime": {
     "end_time": "2025-07-10T14:46:55.739998Z",
     "start_time": "2025-07-10T14:46:55.733610Z"
    }
   },
   "cell_type": "code",
   "source": "data.drop(columns=['Unnamed: 32','id'],inplace=True)",
   "id": "d6bd4af08987418f",
   "outputs": [],
   "execution_count": 162
  },
  {
   "metadata": {
    "ExecuteTime": {
     "end_time": "2025-07-10T14:46:55.811463Z",
     "start_time": "2025-07-10T14:46:55.804992Z"
    }
   },
   "cell_type": "code",
   "source": [
    "from sklearn.preprocessing import LabelEncoder\n",
    "le=LabelEncoder()\n"
   ],
   "id": "4bb365dc306159fd",
   "outputs": [],
   "execution_count": 163
  },
  {
   "metadata": {
    "ExecuteTime": {
     "end_time": "2025-07-10T14:46:55.936317Z",
     "start_time": "2025-07-10T14:46:55.911002Z"
    }
   },
   "cell_type": "code",
   "source": "data.head()",
   "id": "99a175e870532fbd",
   "outputs": [
    {
     "data": {
      "text/plain": [
       "  diagnosis  radius_mean  texture_mean  perimeter_mean  area_mean  \\\n",
       "0         M        17.99         10.38          122.80     1001.0   \n",
       "1         M        20.57         17.77          132.90     1326.0   \n",
       "2         M        19.69         21.25          130.00     1203.0   \n",
       "3         M        11.42         20.38           77.58      386.1   \n",
       "4         M        20.29         14.34          135.10     1297.0   \n",
       "\n",
       "   smoothness_mean  compactness_mean  concavity_mean  concave points_mean  \\\n",
       "0          0.11840           0.27760          0.3001              0.14710   \n",
       "1          0.08474           0.07864          0.0869              0.07017   \n",
       "2          0.10960           0.15990          0.1974              0.12790   \n",
       "3          0.14250           0.28390          0.2414              0.10520   \n",
       "4          0.10030           0.13280          0.1980              0.10430   \n",
       "\n",
       "   symmetry_mean  ...  radius_worst  texture_worst  perimeter_worst  \\\n",
       "0         0.2419  ...         25.38          17.33           184.60   \n",
       "1         0.1812  ...         24.99          23.41           158.80   \n",
       "2         0.2069  ...         23.57          25.53           152.50   \n",
       "3         0.2597  ...         14.91          26.50            98.87   \n",
       "4         0.1809  ...         22.54          16.67           152.20   \n",
       "\n",
       "   area_worst  smoothness_worst  compactness_worst  concavity_worst  \\\n",
       "0      2019.0            0.1622             0.6656           0.7119   \n",
       "1      1956.0            0.1238             0.1866           0.2416   \n",
       "2      1709.0            0.1444             0.4245           0.4504   \n",
       "3       567.7            0.2098             0.8663           0.6869   \n",
       "4      1575.0            0.1374             0.2050           0.4000   \n",
       "\n",
       "   concave points_worst  symmetry_worst  fractal_dimension_worst  \n",
       "0                0.2654          0.4601                  0.11890  \n",
       "1                0.1860          0.2750                  0.08902  \n",
       "2                0.2430          0.3613                  0.08758  \n",
       "3                0.2575          0.6638                  0.17300  \n",
       "4                0.1625          0.2364                  0.07678  \n",
       "\n",
       "[5 rows x 31 columns]"
      ],
      "text/html": [
       "<div>\n",
       "<style scoped>\n",
       "    .dataframe tbody tr th:only-of-type {\n",
       "        vertical-align: middle;\n",
       "    }\n",
       "\n",
       "    .dataframe tbody tr th {\n",
       "        vertical-align: top;\n",
       "    }\n",
       "\n",
       "    .dataframe thead th {\n",
       "        text-align: right;\n",
       "    }\n",
       "</style>\n",
       "<table border=\"1\" class=\"dataframe\">\n",
       "  <thead>\n",
       "    <tr style=\"text-align: right;\">\n",
       "      <th></th>\n",
       "      <th>diagnosis</th>\n",
       "      <th>radius_mean</th>\n",
       "      <th>texture_mean</th>\n",
       "      <th>perimeter_mean</th>\n",
       "      <th>area_mean</th>\n",
       "      <th>smoothness_mean</th>\n",
       "      <th>compactness_mean</th>\n",
       "      <th>concavity_mean</th>\n",
       "      <th>concave points_mean</th>\n",
       "      <th>symmetry_mean</th>\n",
       "      <th>...</th>\n",
       "      <th>radius_worst</th>\n",
       "      <th>texture_worst</th>\n",
       "      <th>perimeter_worst</th>\n",
       "      <th>area_worst</th>\n",
       "      <th>smoothness_worst</th>\n",
       "      <th>compactness_worst</th>\n",
       "      <th>concavity_worst</th>\n",
       "      <th>concave points_worst</th>\n",
       "      <th>symmetry_worst</th>\n",
       "      <th>fractal_dimension_worst</th>\n",
       "    </tr>\n",
       "  </thead>\n",
       "  <tbody>\n",
       "    <tr>\n",
       "      <th>0</th>\n",
       "      <td>M</td>\n",
       "      <td>17.99</td>\n",
       "      <td>10.38</td>\n",
       "      <td>122.80</td>\n",
       "      <td>1001.0</td>\n",
       "      <td>0.11840</td>\n",
       "      <td>0.27760</td>\n",
       "      <td>0.3001</td>\n",
       "      <td>0.14710</td>\n",
       "      <td>0.2419</td>\n",
       "      <td>...</td>\n",
       "      <td>25.38</td>\n",
       "      <td>17.33</td>\n",
       "      <td>184.60</td>\n",
       "      <td>2019.0</td>\n",
       "      <td>0.1622</td>\n",
       "      <td>0.6656</td>\n",
       "      <td>0.7119</td>\n",
       "      <td>0.2654</td>\n",
       "      <td>0.4601</td>\n",
       "      <td>0.11890</td>\n",
       "    </tr>\n",
       "    <tr>\n",
       "      <th>1</th>\n",
       "      <td>M</td>\n",
       "      <td>20.57</td>\n",
       "      <td>17.77</td>\n",
       "      <td>132.90</td>\n",
       "      <td>1326.0</td>\n",
       "      <td>0.08474</td>\n",
       "      <td>0.07864</td>\n",
       "      <td>0.0869</td>\n",
       "      <td>0.07017</td>\n",
       "      <td>0.1812</td>\n",
       "      <td>...</td>\n",
       "      <td>24.99</td>\n",
       "      <td>23.41</td>\n",
       "      <td>158.80</td>\n",
       "      <td>1956.0</td>\n",
       "      <td>0.1238</td>\n",
       "      <td>0.1866</td>\n",
       "      <td>0.2416</td>\n",
       "      <td>0.1860</td>\n",
       "      <td>0.2750</td>\n",
       "      <td>0.08902</td>\n",
       "    </tr>\n",
       "    <tr>\n",
       "      <th>2</th>\n",
       "      <td>M</td>\n",
       "      <td>19.69</td>\n",
       "      <td>21.25</td>\n",
       "      <td>130.00</td>\n",
       "      <td>1203.0</td>\n",
       "      <td>0.10960</td>\n",
       "      <td>0.15990</td>\n",
       "      <td>0.1974</td>\n",
       "      <td>0.12790</td>\n",
       "      <td>0.2069</td>\n",
       "      <td>...</td>\n",
       "      <td>23.57</td>\n",
       "      <td>25.53</td>\n",
       "      <td>152.50</td>\n",
       "      <td>1709.0</td>\n",
       "      <td>0.1444</td>\n",
       "      <td>0.4245</td>\n",
       "      <td>0.4504</td>\n",
       "      <td>0.2430</td>\n",
       "      <td>0.3613</td>\n",
       "      <td>0.08758</td>\n",
       "    </tr>\n",
       "    <tr>\n",
       "      <th>3</th>\n",
       "      <td>M</td>\n",
       "      <td>11.42</td>\n",
       "      <td>20.38</td>\n",
       "      <td>77.58</td>\n",
       "      <td>386.1</td>\n",
       "      <td>0.14250</td>\n",
       "      <td>0.28390</td>\n",
       "      <td>0.2414</td>\n",
       "      <td>0.10520</td>\n",
       "      <td>0.2597</td>\n",
       "      <td>...</td>\n",
       "      <td>14.91</td>\n",
       "      <td>26.50</td>\n",
       "      <td>98.87</td>\n",
       "      <td>567.7</td>\n",
       "      <td>0.2098</td>\n",
       "      <td>0.8663</td>\n",
       "      <td>0.6869</td>\n",
       "      <td>0.2575</td>\n",
       "      <td>0.6638</td>\n",
       "      <td>0.17300</td>\n",
       "    </tr>\n",
       "    <tr>\n",
       "      <th>4</th>\n",
       "      <td>M</td>\n",
       "      <td>20.29</td>\n",
       "      <td>14.34</td>\n",
       "      <td>135.10</td>\n",
       "      <td>1297.0</td>\n",
       "      <td>0.10030</td>\n",
       "      <td>0.13280</td>\n",
       "      <td>0.1980</td>\n",
       "      <td>0.10430</td>\n",
       "      <td>0.1809</td>\n",
       "      <td>...</td>\n",
       "      <td>22.54</td>\n",
       "      <td>16.67</td>\n",
       "      <td>152.20</td>\n",
       "      <td>1575.0</td>\n",
       "      <td>0.1374</td>\n",
       "      <td>0.2050</td>\n",
       "      <td>0.4000</td>\n",
       "      <td>0.1625</td>\n",
       "      <td>0.2364</td>\n",
       "      <td>0.07678</td>\n",
       "    </tr>\n",
       "  </tbody>\n",
       "</table>\n",
       "<p>5 rows × 31 columns</p>\n",
       "</div>"
      ]
     },
     "execution_count": 164,
     "metadata": {},
     "output_type": "execute_result"
    }
   ],
   "execution_count": 164
  },
  {
   "metadata": {
    "ExecuteTime": {
     "end_time": "2025-07-10T14:46:56.055754Z",
     "start_time": "2025-07-10T14:46:56.048843Z"
    }
   },
   "cell_type": "code",
   "source": [
    "X=data.drop(columns=['diagnosis']).values\n",
    "y=data['diagnosis'].values"
   ],
   "id": "9752f63d04286b55",
   "outputs": [],
   "execution_count": 165
  },
  {
   "metadata": {
    "ExecuteTime": {
     "end_time": "2025-07-10T14:46:56.267221Z",
     "start_time": "2025-07-10T14:46:56.260689Z"
    }
   },
   "cell_type": "code",
   "source": "from sklearn.model_selection import train_test_split",
   "id": "8de301aed5ba3d4c",
   "outputs": [],
   "execution_count": 166
  },
  {
   "metadata": {
    "ExecuteTime": {
     "end_time": "2025-07-10T14:46:56.700391Z",
     "start_time": "2025-07-10T14:46:56.693619Z"
    }
   },
   "cell_type": "code",
   "source": "X_train,X_test,y_train,y_test=train_test_split(X,y,test_size=0.2,random_state=42)",
   "id": "c4957718689aca6",
   "outputs": [],
   "execution_count": 167
  },
  {
   "metadata": {
    "ExecuteTime": {
     "end_time": "2025-07-10T14:46:57.140022Z",
     "start_time": "2025-07-10T14:46:57.132654Z"
    }
   },
   "cell_type": "code",
   "source": [
    "y_train=le.fit_transform(y_train)\n",
    "y_test=le.fit_transform(y_test)"
   ],
   "id": "6fd18d0cc07b2f3f",
   "outputs": [],
   "execution_count": 168
  },
  {
   "metadata": {
    "ExecuteTime": {
     "end_time": "2025-07-10T14:46:57.268178Z",
     "start_time": "2025-07-10T14:46:57.235566Z"
    }
   },
   "cell_type": "code",
   "source": [
    "import keras\n",
    "from tensorflow.keras import layers"
   ],
   "id": "de5d79c3699b169",
   "outputs": [],
   "execution_count": 169
  },
  {
   "metadata": {
    "ExecuteTime": {
     "end_time": "2025-07-10T14:46:57.362554Z",
     "start_time": "2025-07-10T14:46:57.345790Z"
    }
   },
   "cell_type": "code",
   "source": "model=keras.Sequential([layers.Dense(16,activation='relu'),layers.Dense(16,activation='relu'),layers.Dense(1,activation='sigmoid')])",
   "id": "c0c76d4b241b25f",
   "outputs": [],
   "execution_count": 170
  },
  {
   "metadata": {
    "ExecuteTime": {
     "end_time": "2025-07-10T14:46:57.437870Z",
     "start_time": "2025-07-10T14:46:57.425235Z"
    }
   },
   "cell_type": "code",
   "source": "model.compile(optimizer='rmsprop',loss='binary_crossentropy',metrics=['accuracy'])",
   "id": "9ee7a2d5fae7b784",
   "outputs": [],
   "execution_count": 171
  },
  {
   "metadata": {
    "ExecuteTime": {
     "end_time": "2025-07-10T14:46:57.496905Z",
     "start_time": "2025-07-10T14:46:57.484804Z"
    }
   },
   "cell_type": "code",
   "source": [
    "print(X_train.shape)\n",
    "print(X_test.shape)\n",
    "print(y_train.shape)\n",
    "print(y_test.shape)"
   ],
   "id": "3f4b8596121ae397",
   "outputs": [
    {
     "name": "stdout",
     "output_type": "stream",
     "text": [
      "(455, 30)\n",
      "(114, 30)\n",
      "(455,)\n",
      "(114,)\n"
     ]
    }
   ],
   "execution_count": 172
  },
  {
   "metadata": {
    "ExecuteTime": {
     "end_time": "2025-07-10T14:46:57.556418Z",
     "start_time": "2025-07-10T14:46:57.550532Z"
    }
   },
   "cell_type": "code",
   "source": [
    "x_val=X_train[:100]\n",
    "partial_x_train=X_train[100:]\n",
    "y_val=y_train[:100]\n",
    "partial_y_train=y_train[100:]"
   ],
   "id": "6b4bd4701f130870",
   "outputs": [],
   "execution_count": 173
  },
  {
   "metadata": {
    "ExecuteTime": {
     "end_time": "2025-07-10T14:47:00.490819Z",
     "start_time": "2025-07-10T14:46:57.646540Z"
    }
   },
   "cell_type": "code",
   "source": "history=model.fit(partial_x_train,partial_y_train,epochs=20,batch_size=512,validation_data=(x_val,y_val))",
   "id": "47f51a82bf73ae30",
   "outputs": [
    {
     "name": "stdout",
     "output_type": "stream",
     "text": [
      "Epoch 1/20\n",
      "\u001B[1m1/1\u001B[0m \u001B[32m━━━━━━━━━━━━━━━━━━━━\u001B[0m\u001B[37m\u001B[0m \u001B[1m1s\u001B[0m 1s/step - accuracy: 0.3859 - loss: 38.2612 - val_accuracy: 0.3200 - val_loss: 35.4102\n",
      "Epoch 2/20\n",
      "\u001B[1m1/1\u001B[0m \u001B[32m━━━━━━━━━━━━━━━━━━━━\u001B[0m\u001B[37m\u001B[0m \u001B[1m0s\u001B[0m 81ms/step - accuracy: 0.3859 - loss: 32.7415 - val_accuracy: 0.3200 - val_loss: 31.1633\n",
      "Epoch 3/20\n",
      "\u001B[1m1/1\u001B[0m \u001B[32m━━━━━━━━━━━━━━━━━━━━\u001B[0m\u001B[37m\u001B[0m \u001B[1m0s\u001B[0m 79ms/step - accuracy: 0.3859 - loss: 28.8102 - val_accuracy: 0.3200 - val_loss: 27.6292\n",
      "Epoch 4/20\n",
      "\u001B[1m1/1\u001B[0m \u001B[32m━━━━━━━━━━━━━━━━━━━━\u001B[0m\u001B[37m\u001B[0m \u001B[1m0s\u001B[0m 81ms/step - accuracy: 0.3859 - loss: 25.5332 - val_accuracy: 0.3200 - val_loss: 24.5003\n",
      "Epoch 5/20\n",
      "\u001B[1m1/1\u001B[0m \u001B[32m━━━━━━━━━━━━━━━━━━━━\u001B[0m\u001B[37m\u001B[0m \u001B[1m0s\u001B[0m 91ms/step - accuracy: 0.3859 - loss: 22.6307 - val_accuracy: 0.3200 - val_loss: 21.6379\n",
      "Epoch 6/20\n",
      "\u001B[1m1/1\u001B[0m \u001B[32m━━━━━━━━━━━━━━━━━━━━\u001B[0m\u001B[37m\u001B[0m \u001B[1m0s\u001B[0m 94ms/step - accuracy: 0.3859 - loss: 19.9748 - val_accuracy: 0.3200 - val_loss: 18.9657\n",
      "Epoch 7/20\n",
      "\u001B[1m1/1\u001B[0m \u001B[32m━━━━━━━━━━━━━━━━━━━━\u001B[0m\u001B[37m\u001B[0m \u001B[1m0s\u001B[0m 86ms/step - accuracy: 0.3859 - loss: 17.4950 - val_accuracy: 0.3200 - val_loss: 16.4358\n",
      "Epoch 8/20\n",
      "\u001B[1m1/1\u001B[0m \u001B[32m━━━━━━━━━━━━━━━━━━━━\u001B[0m\u001B[37m\u001B[0m \u001B[1m0s\u001B[0m 84ms/step - accuracy: 0.3859 - loss: 15.1467 - val_accuracy: 0.3200 - val_loss: 14.0160\n",
      "Epoch 9/20\n",
      "\u001B[1m1/1\u001B[0m \u001B[32m━━━━━━━━━━━━━━━━━━━━\u001B[0m\u001B[37m\u001B[0m \u001B[1m0s\u001B[0m 76ms/step - accuracy: 0.3859 - loss: 12.9001 - val_accuracy: 0.3200 - val_loss: 11.6839\n",
      "Epoch 10/20\n",
      "\u001B[1m1/1\u001B[0m \u001B[32m━━━━━━━━━━━━━━━━━━━━\u001B[0m\u001B[37m\u001B[0m \u001B[1m0s\u001B[0m 78ms/step - accuracy: 0.3859 - loss: 10.7348 - val_accuracy: 0.3200 - val_loss: 9.4235\n",
      "Epoch 11/20\n",
      "\u001B[1m1/1\u001B[0m \u001B[32m━━━━━━━━━━━━━━━━━━━━\u001B[0m\u001B[37m\u001B[0m \u001B[1m0s\u001B[0m 79ms/step - accuracy: 0.3859 - loss: 8.6362 - val_accuracy: 0.3200 - val_loss: 7.2234\n",
      "Epoch 12/20\n",
      "\u001B[1m1/1\u001B[0m \u001B[32m━━━━━━━━━━━━━━━━━━━━\u001B[0m\u001B[37m\u001B[0m \u001B[1m0s\u001B[0m 78ms/step - accuracy: 0.3859 - loss: 6.5932 - val_accuracy: 0.3200 - val_loss: 5.0822\n",
      "Epoch 13/20\n",
      "\u001B[1m1/1\u001B[0m \u001B[32m━━━━━━━━━━━━━━━━━━━━\u001B[0m\u001B[37m\u001B[0m \u001B[1m0s\u001B[0m 96ms/step - accuracy: 0.3859 - loss: 4.6047 - val_accuracy: 0.3300 - val_loss: 3.0422\n",
      "Epoch 14/20\n",
      "\u001B[1m1/1\u001B[0m \u001B[32m━━━━━━━━━━━━━━━━━━━━\u001B[0m\u001B[37m\u001B[0m \u001B[1m0s\u001B[0m 79ms/step - accuracy: 0.4000 - loss: 2.7238 - val_accuracy: 0.5300 - val_loss: 1.3833\n",
      "Epoch 15/20\n",
      "\u001B[1m1/1\u001B[0m \u001B[32m━━━━━━━━━━━━━━━━━━━━\u001B[0m\u001B[37m\u001B[0m \u001B[1m0s\u001B[0m 83ms/step - accuracy: 0.5775 - loss: 1.2861 - val_accuracy: 0.7100 - val_loss: 0.5704\n",
      "Epoch 16/20\n",
      "\u001B[1m1/1\u001B[0m \u001B[32m━━━━━━━━━━━━━━━━━━━━\u001B[0m\u001B[37m\u001B[0m \u001B[1m0s\u001B[0m 81ms/step - accuracy: 0.7746 - loss: 0.7020 - val_accuracy: 0.8200 - val_loss: 0.3601\n",
      "Epoch 17/20\n",
      "\u001B[1m1/1\u001B[0m \u001B[32m━━━━━━━━━━━━━━━━━━━━\u001B[0m\u001B[37m\u001B[0m \u001B[1m0s\u001B[0m 96ms/step - accuracy: 0.8225 - loss: 0.5998 - val_accuracy: 0.8900 - val_loss: 0.3084\n",
      "Epoch 18/20\n",
      "\u001B[1m1/1\u001B[0m \u001B[32m━━━━━━━━━━━━━━━━━━━━\u001B[0m\u001B[37m\u001B[0m \u001B[1m0s\u001B[0m 110ms/step - accuracy: 0.8394 - loss: 0.5863 - val_accuracy: 0.9100 - val_loss: 0.2918\n",
      "Epoch 19/20\n",
      "\u001B[1m1/1\u001B[0m \u001B[32m━━━━━━━━━━━━━━━━━━━━\u001B[0m\u001B[37m\u001B[0m \u001B[1m0s\u001B[0m 116ms/step - accuracy: 0.8423 - loss: 0.5832 - val_accuracy: 0.9100 - val_loss: 0.2854\n",
      "Epoch 20/20\n",
      "\u001B[1m1/1\u001B[0m \u001B[32m━━━━━━━━━━━━━━━━━━━━\u001B[0m\u001B[37m\u001B[0m \u001B[1m0s\u001B[0m 81ms/step - accuracy: 0.8507 - loss: 0.5816 - val_accuracy: 0.9100 - val_loss: 0.2826\n"
     ]
    }
   ],
   "execution_count": 174
  },
  {
   "metadata": {
    "ExecuteTime": {
     "end_time": "2025-07-10T14:47:00.515693Z",
     "start_time": "2025-07-10T14:47:00.511182Z"
    }
   },
   "cell_type": "code",
   "source": "history_dict=history.history",
   "id": "9167ee335285825b",
   "outputs": [],
   "execution_count": 175
  },
  {
   "metadata": {
    "ExecuteTime": {
     "end_time": "2025-07-10T14:47:00.933550Z",
     "start_time": "2025-07-10T14:47:00.545462Z"
    }
   },
   "cell_type": "code",
   "source": [
    "import matplotlib.pyplot as plt\n",
    "history_dict = history.history\n",
    "loss_values = history_dict[\"loss\"]\n",
    "val_loss_values = history_dict[\"val_loss\"]\n",
    "epochs = range(1, len(loss_values) + 1)\n",
    "plt.plot(epochs, loss_values, \"bo\", label=\"Training loss\")\n",
    "plt.plot(epochs, val_loss_values, \"b\", label=\"Validation loss\")\n",
    "plt.title(\"Training and validation loss\")\n",
    "plt.xlabel(\"Epochs\")\n",
    "plt.ylabel(\"Loss\")\n",
    "plt.legend()\n",
    "plt.show()"
   ],
   "id": "9a3f850470041517",
   "outputs": [
    {
     "data": {
      "text/plain": [
       "<Figure size 640x480 with 1 Axes>"
      ],
      "image/png": "[encoded data removed]"
     },
     "metadata": {},
     "output_type": "display_data"
    }
   ],
   "execution_count": 176
  },
  {
   "metadata": {
    "ExecuteTime": {
     "end_time": "2025-07-10T14:47:01.112902Z",
     "start_time": "2025-07-10T14:47:00.963763Z"
    }
   },
   "cell_type": "code",
   "source": [
    "plt.clf()\n",
    "acc = history_dict[\"accuracy\"]\n",
    "val_acc = history_dict[\"val_accuracy\"]\n",
    "plt.plot(epochs, acc, \"bo\", label=\"Training acc\")\n",
    "plt.plot(epochs, val_acc, \"b\", label=\"Validation acc\")\n",
    "plt.title(\"Training and validation accuracy\")\n",
    "plt.xlabel(\"Epochs\")\n",
    "plt.ylabel(\"Accuracy\")\n",
    "plt.legend()\n",
    "plt.show()"
   ],
   "id": "801044e5a0fc8d37",
   "outputs": [
    {
     "data": {
      "text/plain": [
       "<Figure size 640x480 with 1 Axes>"
      ],
      "image/png": "[encoded data removed]"
     },
     "metadata": {},
     "output_type": "display_data"
    }
   ],
   "execution_count": 177
  },
  {
   "metadata": {
    "ExecuteTime": {
     "end_time": "2025-07-10T14:47:02.579960Z",
     "start_time": "2025-07-10T14:47:01.143265Z"
    }
   },
   "cell_type": "code",
   "source": [
    "model1=keras.Sequential([layers.Dense(32,activation='relu'),layers.Dense(32,activation='relu'),layers.Dense(16),layers.Dense(1)])\n",
    "model1.compile(optimizer='rmsprop',loss='binary_crossentropy',metrics=['accuracy'])\n",
    "model1.fit(X_train,y_train,epochs=10,batch_size=512)\n",
    "results=model.evaluate(X_test,y_test)\n",
    "results"
   ],
   "id": "c8f3b096089881a",
   "outputs": [
    {
     "name": "stdout",
     "output_type": "stream",
     "text": [
      "Epoch 1/10\n",
      "\u001B[1m1/1\u001B[0m \u001B[32m━━━━━━━━━━━━━━━━━━━━\u001B[0m\u001B[37m\u001B[0m \u001B[1m1s\u001B[0m 886ms/step - accuracy: 0.3714 - loss: 10.0209\n",
      "Epoch 2/10\n",
      "\u001B[1m1/1\u001B[0m \u001B[32m━━━━━━━━━━━━━━━━━━━━\u001B[0m\u001B[37m\u001B[0m \u001B[1m0s\u001B[0m 32ms/step - accuracy: 0.3714 - loss: 10.0209\n",
      "Epoch 3/10\n",
      "\u001B[1m1/1\u001B[0m \u001B[32m━━━━━━━━━━━━━━━━━━━━\u001B[0m\u001B[37m\u001B[0m \u001B[1m0s\u001B[0m 44ms/step - accuracy: 0.3714 - loss: 10.0209\n",
      "Epoch 4/10\n",
      "\u001B[1m1/1\u001B[0m \u001B[32m━━━━━━━━━━━━━━━━━━━━\u001B[0m\u001B[37m\u001B[0m \u001B[1m0s\u001B[0m 42ms/step - accuracy: 0.3714 - loss: 10.0209\n",
      "Epoch 5/10\n",
      "\u001B[1m1/1\u001B[0m \u001B[32m━━━━━━━━━━━━━━━━━━━━\u001B[0m\u001B[37m\u001B[0m \u001B[1m0s\u001B[0m 46ms/step - accuracy: 0.3714 - loss: 10.0209\n",
      "Epoch 6/10\n",
      "\u001B[1m1/1\u001B[0m \u001B[32m━━━━━━━━━━━━━━━━━━━━\u001B[0m\u001B[37m\u001B[0m \u001B[1m0s\u001B[0m 59ms/step - accuracy: 0.3714 - loss: 10.0209\n",
      "Epoch 7/10\n",
      "\u001B[1m1/1\u001B[0m \u001B[32m━━━━━━━━━━━━━━━━━━━━\u001B[0m\u001B[37m\u001B[0m \u001B[1m0s\u001B[0m 39ms/step - accuracy: 0.3714 - loss: 10.0209\n",
      "Epoch 8/10\n",
      "\u001B[1m1/1\u001B[0m \u001B[32m━━━━━━━━━━━━━━━━━━━━\u001B[0m\u001B[37m\u001B[0m \u001B[1m0s\u001B[0m 29ms/step - accuracy: 0.3714 - loss: 10.0209\n",
      "Epoch 9/10\n",
      "\u001B[1m1/1\u001B[0m \u001B[32m━━━━━━━━━━━━━━━━━━━━\u001B[0m\u001B[37m\u001B[0m \u001B[1m0s\u001B[0m 43ms/step - accuracy: 0.3714 - loss: 10.0209\n",
      "Epoch 10/10\n",
      "\u001B[1m1/1\u001B[0m \u001B[32m━━━━━━━━━━━━━━━━━━━━\u001B[0m\u001B[37m\u001B[0m \u001B[1m0s\u001B[0m 32ms/step - accuracy: 0.3714 - loss: 10.0209\n",
      "\u001B[1m4/4\u001B[0m \u001B[32m━━━━━━━━━━━━━━━━━━━━\u001B[0m\u001B[37m\u001B[0m \u001B[1m0s\u001B[0m 11ms/step - accuracy: 0.8999 - loss: 0.3313\n"
     ]
    },
    {
     "data": {
      "text/plain": [
       "[0.3008577525615692, 0.9035087823867798]"
      ]
     },
     "execution_count": 178,
     "metadata": {},
     "output_type": "execute_result"
    }
   ],
   "execution_count": 178
  },
  {
   "metadata": {
    "ExecuteTime": {
     "end_time": "2025-07-10T14:47:02.791628Z",
     "start_time": "2025-07-10T14:47:02.637381Z"
    }
   },
   "cell_type": "code",
   "source": "model.predict(X_test)",
   "id": "54fc59dd8297dbe5",
   "outputs": [
    {
     "name": "stdout",
     "output_type": "stream",
     "text": [
      "\u001B[1m4/4\u001B[0m \u001B[32m━━━━━━━━━━━━━━━━━━━━\u001B[0m\u001B[37m\u001B[0m \u001B[1m0s\u001B[0m 19ms/step\n"
     ]
    },
    {
     "data": {
      "text/plain": [
       "array([[0.9732374 ],\n",
       "       [1.        ],\n",
       "       [0.99999917],\n",
       "       [0.0071351 ],\n",
       "       [0.02217387],\n",
       "       [0.99999994],\n",
       "       [1.        ],\n",
       "       [0.9573977 ],\n",
       "       [0.04526108],\n",
       "       [0.10902819],\n",
       "       [0.04746888],\n",
       "       [0.99995744],\n",
       "       [0.01025028],\n",
       "       [0.05260212],\n",
       "       [0.11725014],\n",
       "       [0.00651729],\n",
       "       [0.00556128],\n",
       "       [0.024057  ],\n",
       "       [0.21565475],\n",
       "       [0.9999989 ],\n",
       "       [0.9874048 ],\n",
       "       [0.2546845 ],\n",
       "       [1.        ],\n",
       "       [0.11978668],\n",
       "       [0.02075508],\n",
       "       [0.00265996],\n",
       "       [0.02161036],\n",
       "       [0.01959386],\n",
       "       [0.03892658],\n",
       "       [1.        ],\n",
       "       [0.03052953],\n",
       "       [0.07339332],\n",
       "       [0.30841184],\n",
       "       [0.9468701 ],\n",
       "       [0.07905173],\n",
       "       [0.18151776],\n",
       "       [0.999953  ],\n",
       "       [0.21215512],\n",
       "       [1.        ],\n",
       "       [0.17011096],\n",
       "       [0.07152643],\n",
       "       [0.99989957],\n",
       "       [0.03867576],\n",
       "       [0.39276204],\n",
       "       [0.00452912],\n",
       "       [0.5133678 ],\n",
       "       [0.18030865],\n",
       "       [0.08493701],\n",
       "       [0.65153974],\n",
       "       [0.02332281],\n",
       "       [1.        ],\n",
       "       [1.        ],\n",
       "       [0.09524929],\n",
       "       [0.0030997 ],\n",
       "       [0.04366437],\n",
       "       [0.6004944 ],\n",
       "       [0.08593778],\n",
       "       [1.        ],\n",
       "       [0.84041476],\n",
       "       [0.05948292],\n",
       "       [0.19189103],\n",
       "       [0.9999997 ],\n",
       "       [0.99999946],\n",
       "       [0.01106057],\n",
       "       [0.04524542],\n",
       "       [0.35291177],\n",
       "       [1.        ],\n",
       "       [0.99640256],\n",
       "       [0.02412354],\n",
       "       [0.19077258],\n",
       "       [0.96021736],\n",
       "       [1.        ],\n",
       "       [0.00863553],\n",
       "       [0.04612738],\n",
       "       [0.4101922 ],\n",
       "       [0.14012398],\n",
       "       [0.06330669],\n",
       "       [0.97911686],\n",
       "       [0.17132176],\n",
       "       [0.1321092 ],\n",
       "       [0.99997205],\n",
       "       [0.27174696],\n",
       "       [0.37330395],\n",
       "       [1.        ],\n",
       "       [0.99713516],\n",
       "       [0.8514148 ],\n",
       "       [0.99824595],\n",
       "       [0.9999989 ],\n",
       "       [0.00614405],\n",
       "       [0.06283421],\n",
       "       [0.43512264],\n",
       "       [0.76360184],\n",
       "       [0.41832688],\n",
       "       [0.02174239],\n",
       "       [0.01819372],\n",
       "       [0.18570158],\n",
       "       [0.99999404],\n",
       "       [1.        ],\n",
       "       [0.03791989],\n",
       "       [0.9997877 ],\n",
       "       [1.        ],\n",
       "       [0.08494012],\n",
       "       [1.        ],\n",
       "       [0.9997062 ],\n",
       "       [0.83401513],\n",
       "       [0.49004346],\n",
       "       [0.06228166],\n",
       "       [1.        ],\n",
       "       [0.09192881],\n",
       "       [0.48587167],\n",
       "       [0.9999969 ],\n",
       "       [0.10812509],\n",
       "       [0.19141117],\n",
       "       [1.        ]], dtype=float32)"
      ]
     },
     "execution_count": 179,
     "metadata": {},
     "output_type": "execute_result"
    }
   ],
   "execution_count": 179
  }
 ],
 "metadata": {
  "kernelspec": {
   "display_name": "Python 3",
   "language": "python",
   "name": "python3"
  },
  "language_info": {
   "codemirror_mode": {
    "name": "ipython",
    "version": 2
   },
   "file_extension": ".py",
   "mimetype": "text/x-python",
   "name": "python",
   "nbconvert_exporter": "python",
   "pygments_lexer": "ipython2",
   "version": "2.7.6"
  }
 },
 "nbformat": 4,
 "nbformat_minor": 5
}
