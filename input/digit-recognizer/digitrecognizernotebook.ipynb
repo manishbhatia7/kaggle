{
 "cells": [
  {
   "cell_type": "code",
   "id": "initial_id",
   "metadata": {
    "collapsed": true,
    "ExecuteTime": {
     "end_time": "2025-07-29T06:07:00.472684Z",
     "start_time": "2025-07-29T06:07:00.467143Z"
    }
   },
   "source": [
    "import pandas as pd\n",
    "import numpy as np\n",
    "import matplotlib.pyplot as plt\n",
    "import seaborn as sns\n",
    "import keras\n",
    "from keras import Sequential\n",
    "from keras.layers import Dense, Dropout, Activation, Flatten,Conv2D,MaxPooling2D\n",
    "from keras.utils import to_categorical\n",
    "from sklearn.model_selection import train_test_split\n"
   ],
   "outputs": [],
   "execution_count": 64
  },
  {
   "metadata": {
    "ExecuteTime": {
     "end_time": "2025-07-29T05:57:29.994843Z",
     "start_time": "2025-07-29T05:57:27.418131Z"
    }
   },
   "cell_type": "code",
   "source": [
    "train=pd.read_csv('/kaggle/input/digit-recognizer/train.csv')\n",
    "test=pd.read_csv('/kaggle/input/digit-recognizer/test.csv')"
   ],
   "id": "5dd0749ac4d418bf",
   "outputs": [],
   "execution_count": 47
  },
  {
   "metadata": {
    "ExecuteTime": {
     "end_time": "2025-07-29T05:57:30.103531Z",
     "start_time": "2025-07-29T05:57:30.025833Z"
    }
   },
   "cell_type": "code",
   "source": [
    "Y_train=train['label']\n",
    "X_train=train.drop(columns='label',axis=1)"
   ],
   "id": "4d5a2b5bedda9d3e",
   "outputs": [],
   "execution_count": 48
  },
  {
   "metadata": {
    "ExecuteTime": {
     "end_time": "2025-07-29T05:57:30.136502Z",
     "start_time": "2025-07-29T05:57:30.131617Z"
    }
   },
   "cell_type": "code",
   "source": "del train\n",
   "id": "af5813aea08c2e0c",
   "outputs": [],
   "execution_count": 49
  },
  {
   "metadata": {
    "ExecuteTime": {
     "end_time": "2025-07-29T05:57:30.170159Z",
     "start_time": "2025-07-29T05:57:30.165772Z"
    }
   },
   "cell_type": "code",
   "source": [
    "#sns.countplot(Y_train)\n",
    "#plt.show()"
   ],
   "id": "ed105737aef0ac31",
   "outputs": [],
   "execution_count": 50
  },
  {
   "metadata": {
    "ExecuteTime": {
     "end_time": "2025-07-29T05:57:30.257453Z",
     "start_time": "2025-07-29T05:57:30.250577Z"
    }
   },
   "cell_type": "code",
   "source": "Y_train.value_counts()",
   "id": "753ea27665b1b06a",
   "outputs": [
    {
     "data": {
      "text/plain": [
       "label\n",
       "1    4684\n",
       "7    4401\n",
       "3    4351\n",
       "9    4188\n",
       "2    4177\n",
       "6    4137\n",
       "0    4132\n",
       "4    4072\n",
       "8    4063\n",
       "5    3795\n",
       "Name: count, dtype: int64"
      ]
     },
     "execution_count": 51,
     "metadata": {},
     "output_type": "execute_result"
    }
   ],
   "execution_count": 51
  },
  {
   "metadata": {
    "ExecuteTime": {
     "end_time": "2025-07-29T05:57:30.396544Z",
     "start_time": "2025-07-29T05:57:30.374794Z"
    }
   },
   "cell_type": "code",
   "source": "X_train.isnull().any().describe()",
   "id": "e1a1691641b741e7",
   "outputs": [
    {
     "data": {
      "text/plain": [
       "count       784\n",
       "unique        1\n",
       "top       False\n",
       "freq        784\n",
       "dtype: object"
      ]
     },
     "execution_count": 52,
     "metadata": {},
     "output_type": "execute_result"
    }
   ],
   "execution_count": 52
  },
  {
   "metadata": {
    "ExecuteTime": {
     "end_time": "2025-07-29T05:57:30.671787Z",
     "start_time": "2025-07-29T05:57:30.532764Z"
    }
   },
   "cell_type": "code",
   "source": [
    "#Normalization\n",
    "X_train=X_train/255.0\n",
    "test=test/255.0"
   ],
   "id": "58778ea8c6a088e0",
   "outputs": [],
   "execution_count": 53
  },
  {
   "metadata": {
    "ExecuteTime": {
     "end_time": "2025-07-29T05:57:31.094083Z",
     "start_time": "2025-07-29T05:57:31.079017Z"
    }
   },
   "cell_type": "code",
   "source": [
    "#Reshape\n",
    "print(X_train.head())"
   ],
   "id": "c1be0e7266a871ee",
   "outputs": [
    {
     "name": "stdout",
     "output_type": "stream",
     "text": [
      "   pixel0  pixel1  pixel2  pixel3  pixel4  pixel5  pixel6  pixel7  pixel8  \\\n",
      "0     0.0     0.0     0.0     0.0     0.0     0.0     0.0     0.0     0.0   \n",
      "1     0.0     0.0     0.0     0.0     0.0     0.0     0.0     0.0     0.0   \n",
      "2     0.0     0.0     0.0     0.0     0.0     0.0     0.0     0.0     0.0   \n",
      "3     0.0     0.0     0.0     0.0     0.0     0.0     0.0     0.0     0.0   \n",
      "4     0.0     0.0     0.0     0.0     0.0     0.0     0.0     0.0     0.0   \n",
      "\n",
      "   pixel9  ...  pixel774  pixel775  pixel776  pixel777  pixel778  pixel779  \\\n",
      "0     0.0  ...       0.0       0.0       0.0       0.0       0.0       0.0   \n",
      "1     0.0  ...       0.0       0.0       0.0       0.0       0.0       0.0   \n",
      "2     0.0  ...       0.0       0.0       0.0       0.0       0.0       0.0   \n",
      "3     0.0  ...       0.0       0.0       0.0       0.0       0.0       0.0   \n",
      "4     0.0  ...       0.0       0.0       0.0       0.0       0.0       0.0   \n",
      "\n",
      "   pixel780  pixel781  pixel782  pixel783  \n",
      "0       0.0       0.0       0.0       0.0  \n",
      "1       0.0       0.0       0.0       0.0  \n",
      "2       0.0       0.0       0.0       0.0  \n",
      "3       0.0       0.0       0.0       0.0  \n",
      "4       0.0       0.0       0.0       0.0  \n",
      "\n",
      "[5 rows x 784 columns]\n"
     ]
    }
   ],
   "execution_count": 54
  },
  {
   "metadata": {
    "ExecuteTime": {
     "end_time": "2025-07-29T05:57:31.383109Z",
     "start_time": "2025-07-29T05:57:31.377310Z"
    }
   },
   "cell_type": "code",
   "source": [
    "X_train=X_train.values.reshape(-1,28,28,1)\n",
    "test=test.values.reshape(-1,28,28,1)"
   ],
   "id": "9eeb5ea4169d4b04",
   "outputs": [],
   "execution_count": 55
  },
  {
   "metadata": {
    "ExecuteTime": {
     "end_time": "2025-07-29T05:57:31.691487Z",
     "start_time": "2025-07-29T05:57:31.681919Z"
    }
   },
   "cell_type": "code",
   "source": "print(Y_train.value_counts())",
   "id": "f477f1ae151fcc56",
   "outputs": [
    {
     "name": "stdout",
     "output_type": "stream",
     "text": [
      "label\n",
      "1    4684\n",
      "7    4401\n",
      "3    4351\n",
      "9    4188\n",
      "2    4177\n",
      "6    4137\n",
      "0    4132\n",
      "4    4072\n",
      "8    4063\n",
      "5    3795\n",
      "Name: count, dtype: int64\n"
     ]
    }
   ],
   "execution_count": 56
  },
  {
   "metadata": {
    "ExecuteTime": {
     "end_time": "2025-07-29T05:57:31.770944Z",
     "start_time": "2025-07-29T05:57:31.745063Z"
    }
   },
   "cell_type": "code",
   "source": [
    "#Label Encoding\n",
    "Y_train=to_categorical(Y_train,num_classes=10)"
   ],
   "id": "4f7b1be2fc14ce26",
   "outputs": [],
   "execution_count": 57
  },
  {
   "metadata": {
    "ExecuteTime": {
     "end_time": "2025-07-29T05:57:31.823126Z",
     "start_time": "2025-07-29T05:57:31.815426Z"
    }
   },
   "cell_type": "code",
   "source": "print(Y_train)",
   "id": "52605a935cca35bd",
   "outputs": [
    {
     "name": "stdout",
     "output_type": "stream",
     "text": [
      "[[0. 1. 0. ... 0. 0. 0.]\n",
      " [1. 0. 0. ... 0. 0. 0.]\n",
      " [0. 1. 0. ... 0. 0. 0.]\n",
      " ...\n",
      " [0. 0. 0. ... 1. 0. 0.]\n",
      " [0. 0. 0. ... 0. 0. 0.]\n",
      " [0. 0. 0. ... 0. 0. 1.]]\n"
     ]
    }
   ],
   "execution_count": 58
  },
  {
   "metadata": {
    "ExecuteTime": {
     "end_time": "2025-07-29T05:57:31.924135Z",
     "start_time": "2025-07-29T05:57:31.919601Z"
    }
   },
   "cell_type": "code",
   "source": [
    "random_seed=2\n",
    "np.random.seed(random_seed)"
   ],
   "id": "944a4024375112f",
   "outputs": [],
   "execution_count": 59
  },
  {
   "metadata": {
    "ExecuteTime": {
     "end_time": "2025-07-29T05:57:32.449224Z",
     "start_time": "2025-07-29T05:57:31.969325Z"
    }
   },
   "cell_type": "code",
   "source": "X_train,X_val,Y_train,Y_val=train_test_split(X_train,Y_train,test_size=0.1,random_state=random_seed)",
   "id": "fde26029198d98d3",
   "outputs": [],
   "execution_count": 60
  },
  {
   "metadata": {
    "ExecuteTime": {
     "end_time": "2025-07-29T05:57:32.524615Z",
     "start_time": "2025-07-29T05:57:32.508004Z"
    }
   },
   "cell_type": "code",
   "source": "print(X_train.shape,Y_train.shape)",
   "id": "1d5ddf3deeb2dcf",
   "outputs": [
    {
     "name": "stdout",
     "output_type": "stream",
     "text": [
      "(37800, 28, 28, 1) (37800, 10)\n"
     ]
    }
   ],
   "execution_count": 61
  },
  {
   "metadata": {
    "ExecuteTime": {
     "end_time": "2025-07-29T06:03:26.427611Z",
     "start_time": "2025-07-29T06:03:26.217665Z"
    }
   },
   "cell_type": "code",
   "source": [
    "plt.imshow(X_train[0][:,:,0])\n",
    "plt.show()"
   ],
   "id": "99923904d8415b9",
   "outputs": [
    {
     "data": {
      "text/plain": [
       "<Figure size 640x480 with 1 Axes>"
      ],
      "image/png": "[encoded data removed]"
     },
     "metadata": {},
     "output_type": "display_data"
    }
   ],
   "execution_count": 62
  },
  {
   "metadata": {},
   "cell_type": "code",
   "outputs": [],
   "execution_count": null,
   "source": [
    "def create_model():\n",
    "    model = Sequential()\n",
    "    model.add(Conv2D(32, kernel_size=(3, 3), activation='relu', input_shape=(28,28,1)))\n"
   ],
   "id": "468ab08dec4b098b"
  }
 ],
 "metadata": {
  "kernelspec": {
   "display_name": "Python 3",
   "language": "python",
   "name": "python3"
  },
  "language_info": {
   "codemirror_mode": {
    "name": "ipython",
    "version": 2
   },
   "file_extension": ".py",
   "mimetype": "text/x-python",
   "name": "python",
   "nbconvert_exporter": "python",
   "pygments_lexer": "ipython2",
   "version": "2.7.6"
  }
 },
 "nbformat": 4,
 "nbformat_minor": 5
}
