{
 "cells": [
  {
   "cell_type": "code",
   "id": "initial_id",
   "metadata": {
    "collapsed": true,
    "ExecuteTime": {
     "end_time": "2025-07-29T09:52:12.804907Z",
     "start_time": "2025-07-29T09:52:12.799311Z"
    }
   },
   "source": [
    "import pandas as pd\n",
    "import numpy as np\n",
    "import matplotlib.pyplot as plt\n",
    "import seaborn as sns\n",
    "import keras\n",
    "from keras import Sequential\n",
    "from keras.layers import Dense, Dropout, Activation, Flatten,Conv2D,MaxPooling2D\n",
    "from keras.src.callbacks import ReduceLROnPlateau\n",
    "from keras.src.legacy.preprocessing.image import ImageDataGenerator\n",
    "from keras.src.optimizers import RMSprop\n",
    "from keras.utils import to_categorical\n",
    "from sklearn.model_selection import train_test_split\n",
    "import itertools\n",
    "from sklearn.metrics import confusion_matrix"
   ],
   "outputs": [],
   "execution_count": 138
  },
  {
   "metadata": {
    "ExecuteTime": {
     "end_time": "2025-07-29T09:22:20.814561Z",
     "start_time": "2025-07-29T09:22:18.254231Z"
    }
   },
   "cell_type": "code",
   "source": [
    "train=pd.read_csv('/kaggle/input/digit-recognizer/train.csv')\n",
    "test=pd.read_csv('/kaggle/input/digit-recognizer/test.csv')"
   ],
   "id": "5dd0749ac4d418bf",
   "outputs": [],
   "execution_count": 107
  },
  {
   "metadata": {
    "ExecuteTime": {
     "end_time": "2025-07-29T09:22:20.942677Z",
     "start_time": "2025-07-29T09:22:20.850076Z"
    }
   },
   "cell_type": "code",
   "source": [
    "Y_train=train['label']\n",
    "X_train=train.drop(columns='label',axis=1)"
   ],
   "id": "4d5a2b5bedda9d3e",
   "outputs": [],
   "execution_count": 108
  },
  {
   "metadata": {
    "ExecuteTime": {
     "end_time": "2025-07-29T09:22:20.985819Z",
     "start_time": "2025-07-29T09:22:20.982533Z"
    }
   },
   "cell_type": "code",
   "source": "del train\n",
   "id": "af5813aea08c2e0c",
   "outputs": [],
   "execution_count": 109
  },
  {
   "metadata": {
    "ExecuteTime": {
     "end_time": "2025-07-29T09:22:21.082642Z",
     "start_time": "2025-07-29T09:22:21.079973Z"
    }
   },
   "cell_type": "code",
   "source": [
    "#sns.countplot(Y_train)\n",
    "#plt.show()"
   ],
   "id": "ed105737aef0ac31",
   "outputs": [],
   "execution_count": 110
  },
  {
   "metadata": {
    "ExecuteTime": {
     "end_time": "2025-07-29T09:22:21.182665Z",
     "start_time": "2025-07-29T09:22:21.174089Z"
    }
   },
   "cell_type": "code",
   "source": "Y_train.value_counts()",
   "id": "753ea27665b1b06a",
   "outputs": [
    {
     "data": {
      "text/plain": [
       "label\n",
       "1    4684\n",
       "7    4401\n",
       "3    4351\n",
       "9    4188\n",
       "2    4177\n",
       "6    4137\n",
       "0    4132\n",
       "4    4072\n",
       "8    4063\n",
       "5    3795\n",
       "Name: count, dtype: int64"
      ]
     },
     "execution_count": 111,
     "metadata": {},
     "output_type": "execute_result"
    }
   ],
   "execution_count": 111
  },
  {
   "metadata": {
    "ExecuteTime": {
     "end_time": "2025-07-29T09:22:21.354852Z",
     "start_time": "2025-07-29T09:22:21.332547Z"
    }
   },
   "cell_type": "code",
   "source": "X_train.isnull().any().describe()",
   "id": "e1a1691641b741e7",
   "outputs": [
    {
     "data": {
      "text/plain": [
       "count       784\n",
       "unique        1\n",
       "top       False\n",
       "freq        784\n",
       "dtype: object"
      ]
     },
     "execution_count": 112,
     "metadata": {},
     "output_type": "execute_result"
    }
   ],
   "execution_count": 112
  },
  {
   "metadata": {
    "ExecuteTime": {
     "end_time": "2025-07-29T09:22:21.632610Z",
     "start_time": "2025-07-29T09:22:21.481593Z"
    }
   },
   "cell_type": "code",
   "source": [
    "#Normalization\n",
    "X_train=X_train/255.0\n",
    "test=test/255.0"
   ],
   "id": "58778ea8c6a088e0",
   "outputs": [],
   "execution_count": 113
  },
  {
   "metadata": {
    "ExecuteTime": {
     "end_time": "2025-07-29T09:22:21.800006Z",
     "start_time": "2025-07-29T09:22:21.779307Z"
    }
   },
   "cell_type": "code",
   "source": [
    "#Reshape\n",
    "print(X_train.head())"
   ],
   "id": "c1be0e7266a871ee",
   "outputs": [
    {
     "name": "stdout",
     "output_type": "stream",
     "text": [
      "   pixel0  pixel1  pixel2  pixel3  pixel4  pixel5  pixel6  pixel7  pixel8  \\\n",
      "0     0.0     0.0     0.0     0.0     0.0     0.0     0.0     0.0     0.0   \n",
      "1     0.0     0.0     0.0     0.0     0.0     0.0     0.0     0.0     0.0   \n",
      "2     0.0     0.0     0.0     0.0     0.0     0.0     0.0     0.0     0.0   \n",
      "3     0.0     0.0     0.0     0.0     0.0     0.0     0.0     0.0     0.0   \n",
      "4     0.0     0.0     0.0     0.0     0.0     0.0     0.0     0.0     0.0   \n",
      "\n",
      "   pixel9  ...  pixel774  pixel775  pixel776  pixel777  pixel778  pixel779  \\\n",
      "0     0.0  ...       0.0       0.0       0.0       0.0       0.0       0.0   \n",
      "1     0.0  ...       0.0       0.0       0.0       0.0       0.0       0.0   \n",
      "2     0.0  ...       0.0       0.0       0.0       0.0       0.0       0.0   \n",
      "3     0.0  ...       0.0       0.0       0.0       0.0       0.0       0.0   \n",
      "4     0.0  ...       0.0       0.0       0.0       0.0       0.0       0.0   \n",
      "\n",
      "   pixel780  pixel781  pixel782  pixel783  \n",
      "0       0.0       0.0       0.0       0.0  \n",
      "1       0.0       0.0       0.0       0.0  \n",
      "2       0.0       0.0       0.0       0.0  \n",
      "3       0.0       0.0       0.0       0.0  \n",
      "4       0.0       0.0       0.0       0.0  \n",
      "\n",
      "[5 rows x 784 columns]\n"
     ]
    }
   ],
   "execution_count": 114
  },
  {
   "metadata": {
    "ExecuteTime": {
     "end_time": "2025-07-29T09:22:21.906652Z",
     "start_time": "2025-07-29T09:22:21.901483Z"
    }
   },
   "cell_type": "code",
   "source": [
    "X_train=X_train.values.reshape(-1,28,28,1)\n",
    "test=test.values.reshape(-1,28,28,1)"
   ],
   "id": "9eeb5ea4169d4b04",
   "outputs": [],
   "execution_count": 115
  },
  {
   "metadata": {
    "ExecuteTime": {
     "end_time": "2025-07-29T09:22:22.144466Z",
     "start_time": "2025-07-29T09:22:22.137678Z"
    }
   },
   "cell_type": "code",
   "source": "print(Y_train.value_counts())",
   "id": "f477f1ae151fcc56",
   "outputs": [
    {
     "name": "stdout",
     "output_type": "stream",
     "text": [
      "label\n",
      "1    4684\n",
      "7    4401\n",
      "3    4351\n",
      "9    4188\n",
      "2    4177\n",
      "6    4137\n",
      "0    4132\n",
      "4    4072\n",
      "8    4063\n",
      "5    3795\n",
      "Name: count, dtype: int64\n"
     ]
    }
   ],
   "execution_count": 116
  },
  {
   "metadata": {
    "ExecuteTime": {
     "end_time": "2025-07-29T09:22:22.293601Z",
     "start_time": "2025-07-29T09:22:22.233501Z"
    }
   },
   "cell_type": "code",
   "source": [
    "#Label Encoding\n",
    "Y_train=to_categorical(Y_train,num_classes=10)"
   ],
   "id": "4f7b1be2fc14ce26",
   "outputs": [],
   "execution_count": 117
  },
  {
   "metadata": {
    "ExecuteTime": {
     "end_time": "2025-07-29T09:22:22.318217Z",
     "start_time": "2025-07-29T09:22:22.312689Z"
    }
   },
   "cell_type": "code",
   "source": "print(Y_train)",
   "id": "52605a935cca35bd",
   "outputs": [
    {
     "name": "stdout",
     "output_type": "stream",
     "text": [
      "[[0. 1. 0. ... 0. 0. 0.]\n",
      " [1. 0. 0. ... 0. 0. 0.]\n",
      " [0. 1. 0. ... 0. 0. 0.]\n",
      " ...\n",
      " [0. 0. 0. ... 1. 0. 0.]\n",
      " [0. 0. 0. ... 0. 0. 0.]\n",
      " [0. 0. 0. ... 0. 0. 1.]]\n"
     ]
    }
   ],
   "execution_count": 118
  },
  {
   "metadata": {
    "ExecuteTime": {
     "end_time": "2025-07-29T09:22:22.353415Z",
     "start_time": "2025-07-29T09:22:22.349348Z"
    }
   },
   "cell_type": "code",
   "source": [
    "random_seed=2\n",
    "np.random.seed(random_seed)"
   ],
   "id": "944a4024375112f",
   "outputs": [],
   "execution_count": 119
  },
  {
   "metadata": {
    "ExecuteTime": {
     "end_time": "2025-07-29T09:22:22.894617Z",
     "start_time": "2025-07-29T09:22:22.379571Z"
    }
   },
   "cell_type": "code",
   "source": "X_train,X_val,Y_train,Y_val=train_test_split(X_train,Y_train,test_size=0.1,random_state=random_seed)",
   "id": "fde26029198d98d3",
   "outputs": [],
   "execution_count": 120
  },
  {
   "metadata": {
    "ExecuteTime": {
     "end_time": "2025-07-29T09:22:22.930272Z",
     "start_time": "2025-07-29T09:22:22.924434Z"
    }
   },
   "cell_type": "code",
   "source": "print(X_train.shape,Y_train.shape)",
   "id": "1d5ddf3deeb2dcf",
   "outputs": [
    {
     "name": "stdout",
     "output_type": "stream",
     "text": [
      "(37800, 28, 28, 1) (37800, 10)\n"
     ]
    }
   ],
   "execution_count": 121
  },
  {
   "metadata": {
    "ExecuteTime": {
     "end_time": "2025-07-29T09:22:23.141714Z",
     "start_time": "2025-07-29T09:22:22.971160Z"
    }
   },
   "cell_type": "code",
   "source": [
    "plt.imshow(X_train[0][:,:,0])\n",
    "plt.show()"
   ],
   "id": "99923904d8415b9",
   "outputs": [
    {
     "data": {
      "text/plain": [
       "<Figure size 640x480 with 1 Axes>"
      ],
      "image/png": "[encoded data removed]"
     },
     "metadata": {},
     "output_type": "display_data"
    }
   ],
   "execution_count": 122
  },
  {
   "metadata": {
    "ExecuteTime": {
     "end_time": "2025-07-29T09:22:23.183579Z",
     "start_time": "2025-07-29T09:22:23.176724Z"
    }
   },
   "cell_type": "code",
   "source": [
    "def create_model():\n",
    "    model = Sequential()\n",
    "    model.add(Conv2D(32, kernel_size=(5, 5), activation='relu', input_shape=(28,28,1)))\n",
    "    model.add(Conv2D(32, kernel_size=(5, 5), activation='relu'))\n",
    "    model.add(MaxPooling2D(pool_size=(2, 2)))\n",
    "    model.add(Dropout(0.25))\n",
    "    model.add(Conv2D(64, kernel_size=(3, 3), activation='relu'))\n",
    "    model.add(Conv2D(64, kernel_size=(3, 3), activation='relu'))\n",
    "    model.add(MaxPooling2D(pool_size=(2, 2)))\n",
    "    model.add(Dropout(0.25))\n",
    "    model.add(Flatten())\n",
    "    model.add(Dense(256, activation='relu'))\n",
    "    model.add(Dropout(0.5))\n",
    "    model.add(Dense(10, activation = \"softmax\"))\n",
    "    optimizer=RMSprop(learning_rate=0.001, rho=0.9, epsilon=1e-08)\n",
    "    model.compile(loss=\"categorical_crossentropy\", optimizer=optimizer, metrics=[\"accuracy\"])\n",
    "    return model\n",
    "\n",
    "\n",
    "\n",
    "\n",
    "\n"
   ],
   "id": "468ab08dec4b098b",
   "outputs": [],
   "execution_count": 123
  },
  {
   "metadata": {
    "ExecuteTime": {
     "end_time": "2025-07-29T09:22:23.357290Z",
     "start_time": "2025-07-29T09:22:23.226588Z"
    }
   },
   "cell_type": "code",
   "source": "model=create_model()",
   "id": "4da2aa43b38d3f31",
   "outputs": [
    {
     "name": "stderr",
     "output_type": "stream",
     "text": [
      "D:\\anaconda3\\Lib\\site-packages\\keras\\src\\layers\\convolutional\\base_conv.py:113: UserWarning: Do not pass an `input_shape`/`input_dim` argument to a layer. When using Sequential models, prefer using an `Input(shape)` object as the first layer in the model instead.\n",
      "  super().__init__(activity_regularizer=activity_regularizer, **kwargs)\n"
     ]
    }
   ],
   "execution_count": 124
  },
  {
   "metadata": {
    "ExecuteTime": {
     "end_time": "2025-07-29T09:22:23.412883Z",
     "start_time": "2025-07-29T09:22:23.405884Z"
    }
   },
   "cell_type": "code",
   "source": "learning_rate_reduction=ReduceLROnPlateau(monitor='val_accuracy', patience=3, verbose=1, factor=0.5, min_lr=0.00001)",
   "id": "900f16c9b73e398c",
   "outputs": [],
   "execution_count": 125
  },
  {
   "metadata": {
    "ExecuteTime": {
     "end_time": "2025-07-29T09:22:23.464287Z",
     "start_time": "2025-07-29T09:22:23.456272Z"
    }
   },
   "cell_type": "code",
   "source": [
    "epochs=30\n",
    "batch_size=86"
   ],
   "id": "51f220d9ee59b1b0",
   "outputs": [],
   "execution_count": 126
  },
  {
   "metadata": {
    "ExecuteTime": {
     "end_time": "2025-07-29T09:22:23.653990Z",
     "start_time": "2025-07-29T09:22:23.512893Z"
    }
   },
   "cell_type": "code",
   "source": [
    "datagen=ImageDataGenerator(featurewise_center=False,samplewise_center=False,featurewise_std_normalization=False,samplewise_std_normalization=False,zca_whitening=False,\n",
    "rotation_range=10,zoom_range=0.1,width_shift_range=0.1,height_shift_range=0.1,horizontal_flip=False,vertical_flip=False)\n",
    "datagen.fit(X_train)\n"
   ],
   "id": "76d276ddd4a95463",
   "outputs": [],
   "execution_count": 127
  },
  {
   "metadata": {
    "ExecuteTime": {
     "end_time": "2025-07-29T09:27:29.647532Z",
     "start_time": "2025-07-29T09:22:23.699581Z"
    }
   },
   "cell_type": "code",
   "source": "history=model.fit(datagen.flow(X_train,Y_train,batch_size=batch_size),epochs=epochs,validation_data=(X_val,Y_val),verbose=2,steps_per_epoch=X_train.shape[0]//batch_size,callbacks=[learning_rate_reduction])",
   "id": "7e53641f24c8aed4",
   "outputs": [
    {
     "name": "stdout",
     "output_type": "stream",
     "text": [
      "Epoch 1/30\n"
     ]
    },
    {
     "name": "stderr",
     "output_type": "stream",
     "text": [
      "D:\\anaconda3\\Lib\\site-packages\\keras\\src\\trainers\\data_adapters\\py_dataset_adapter.py:121: UserWarning: Your `PyDataset` class should call `super().__init__(**kwargs)` in its constructor. `**kwargs` can include `workers`, `use_multiprocessing`, `max_queue_size`. Do not pass these arguments to `fit()`, as they will be ignored.\n",
      "  self._warn_if_super_not_called()\n"
     ]
    },
    {
     "name": "stdout",
     "output_type": "stream",
     "text": [
      "439/439 - 18s - 40ms/step - accuracy: 0.8177 - loss: 0.5649 - val_accuracy: 0.9700 - val_loss: 0.1024 - learning_rate: 0.0010\n",
      "Epoch 2/30\n"
     ]
    },
    {
     "name": "stderr",
     "output_type": "stream",
     "text": [
      "D:\\anaconda3\\Lib\\site-packages\\keras\\src\\trainers\\epoch_iterator.py:116: UserWarning: Your input ran out of data; interrupting training. Make sure that your dataset or generator can generate at least `steps_per_epoch * epochs` batches. You may need to use the `.repeat()` function when building your dataset.\n",
      "  self._interrupted_warning()\n"
     ]
    },
    {
     "name": "stdout",
     "output_type": "stream",
     "text": [
      "439/439 - 1s - 2ms/step - accuracy: 0.9302 - loss: 0.2192 - val_accuracy: 0.9783 - val_loss: 0.0754 - learning_rate: 0.0010\n",
      "Epoch 3/30\n",
      "439/439 - 17s - 38ms/step - accuracy: 0.9482 - loss: 0.1723 - val_accuracy: 0.9836 - val_loss: 0.0589 - learning_rate: 0.0010\n",
      "Epoch 4/30\n",
      "439/439 - 1s - 2ms/step - accuracy: 0.9767 - loss: 0.1109 - val_accuracy: 0.9826 - val_loss: 0.0624 - learning_rate: 0.0010\n",
      "Epoch 5/30\n",
      "439/439 - 21s - 48ms/step - accuracy: 0.9649 - loss: 0.1172 - val_accuracy: 0.9890 - val_loss: 0.0359 - learning_rate: 0.0010\n",
      "Epoch 6/30\n",
      "439/439 - 1s - 3ms/step - accuracy: 0.9884 - loss: 0.0680 - val_accuracy: 0.9876 - val_loss: 0.0418 - learning_rate: 0.0010\n",
      "Epoch 7/30\n",
      "439/439 - 18s - 42ms/step - accuracy: 0.9721 - loss: 0.0952 - val_accuracy: 0.9898 - val_loss: 0.0392 - learning_rate: 0.0010\n",
      "Epoch 8/30\n",
      "439/439 - 1s - 3ms/step - accuracy: 0.9767 - loss: 0.1605 - val_accuracy: 0.9910 - val_loss: 0.0347 - learning_rate: 0.0010\n",
      "Epoch 9/30\n",
      "439/439 - 19s - 44ms/step - accuracy: 0.9756 - loss: 0.0833 - val_accuracy: 0.9907 - val_loss: 0.0304 - learning_rate: 0.0010\n",
      "Epoch 10/30\n",
      "439/439 - 1s - 3ms/step - accuracy: 0.9767 - loss: 0.1414 - val_accuracy: 0.9912 - val_loss: 0.0287 - learning_rate: 0.0010\n",
      "Epoch 11/30\n",
      "439/439 - 20s - 45ms/step - accuracy: 0.9770 - loss: 0.0773 - val_accuracy: 0.9917 - val_loss: 0.0331 - learning_rate: 0.0010\n",
      "Epoch 12/30\n",
      "439/439 - 1s - 3ms/step - accuracy: 0.9535 - loss: 0.1381 - val_accuracy: 0.9919 - val_loss: 0.0314 - learning_rate: 0.0010\n",
      "Epoch 13/30\n",
      "439/439 - 19s - 44ms/step - accuracy: 0.9806 - loss: 0.0702 - val_accuracy: 0.9914 - val_loss: 0.0314 - learning_rate: 0.0010\n",
      "Epoch 14/30\n",
      "439/439 - 1s - 3ms/step - accuracy: 0.9535 - loss: 0.0689 - val_accuracy: 0.9900 - val_loss: 0.0340 - learning_rate: 0.0010\n",
      "Epoch 15/30\n",
      "439/439 - 19s - 43ms/step - accuracy: 0.9822 - loss: 0.0638 - val_accuracy: 0.9929 - val_loss: 0.0319 - learning_rate: 0.0010\n",
      "Epoch 16/30\n",
      "439/439 - 1s - 2ms/step - accuracy: 0.9767 - loss: 0.0712 - val_accuracy: 0.9929 - val_loss: 0.0278 - learning_rate: 0.0010\n",
      "Epoch 17/30\n",
      "439/439 - 20s - 45ms/step - accuracy: 0.9822 - loss: 0.0639 - val_accuracy: 0.9943 - val_loss: 0.0237 - learning_rate: 0.0010\n",
      "Epoch 18/30\n",
      "439/439 - 1s - 3ms/step - accuracy: 0.9651 - loss: 0.0791 - val_accuracy: 0.9902 - val_loss: 0.0401 - learning_rate: 0.0010\n",
      "Epoch 19/30\n",
      "439/439 - 19s - 44ms/step - accuracy: 0.9824 - loss: 0.0621 - val_accuracy: 0.9888 - val_loss: 0.0341 - learning_rate: 0.0010\n",
      "Epoch 20/30\n",
      "\n",
      "Epoch 20: ReduceLROnPlateau reducing learning rate to 0.0005000000237487257.\n",
      "439/439 - 1s - 3ms/step - accuracy: 1.0000 - loss: 0.0149 - val_accuracy: 0.9907 - val_loss: 0.0296 - learning_rate: 0.0010\n",
      "Epoch 21/30\n",
      "439/439 - 21s - 48ms/step - accuracy: 0.9869 - loss: 0.0451 - val_accuracy: 0.9945 - val_loss: 0.0224 - learning_rate: 5.0000e-04\n",
      "Epoch 22/30\n",
      "439/439 - 1s - 3ms/step - accuracy: 0.9884 - loss: 0.0165 - val_accuracy: 0.9938 - val_loss: 0.0239 - learning_rate: 5.0000e-04\n",
      "Epoch 23/30\n",
      "439/439 - 20s - 45ms/step - accuracy: 0.9869 - loss: 0.0454 - val_accuracy: 0.9945 - val_loss: 0.0241 - learning_rate: 5.0000e-04\n",
      "Epoch 24/30\n",
      "\n",
      "Epoch 24: ReduceLROnPlateau reducing learning rate to 0.0002500000118743628.\n",
      "439/439 - 1s - 3ms/step - accuracy: 0.9884 - loss: 0.0219 - val_accuracy: 0.9940 - val_loss: 0.0228 - learning_rate: 5.0000e-04\n",
      "Epoch 25/30\n",
      "439/439 - 20s - 45ms/step - accuracy: 0.9892 - loss: 0.0375 - val_accuracy: 0.9940 - val_loss: 0.0235 - learning_rate: 2.5000e-04\n",
      "Epoch 26/30\n",
      "439/439 - 1s - 3ms/step - accuracy: 1.0000 - loss: 0.0042 - val_accuracy: 0.9943 - val_loss: 0.0233 - learning_rate: 2.5000e-04\n",
      "Epoch 27/30\n",
      "\n",
      "Epoch 27: ReduceLROnPlateau reducing learning rate to 0.0001250000059371814.\n",
      "439/439 - 20s - 46ms/step - accuracy: 0.9894 - loss: 0.0367 - val_accuracy: 0.9936 - val_loss: 0.0226 - learning_rate: 2.5000e-04\n",
      "Epoch 28/30\n",
      "439/439 - 1s - 2ms/step - accuracy: 0.9767 - loss: 0.1398 - val_accuracy: 0.9933 - val_loss: 0.0230 - learning_rate: 1.2500e-04\n",
      "Epoch 29/30\n",
      "439/439 - 18s - 40ms/step - accuracy: 0.9902 - loss: 0.0347 - val_accuracy: 0.9943 - val_loss: 0.0192 - learning_rate: 1.2500e-04\n",
      "Epoch 30/30\n",
      "\n",
      "Epoch 30: ReduceLROnPlateau reducing learning rate to 6.25000029685907e-05.\n",
      "439/439 - 1s - 2ms/step - accuracy: 1.0000 - loss: 0.0016 - val_accuracy: 0.9943 - val_loss: 0.0193 - learning_rate: 1.2500e-04\n"
     ]
    }
   ],
   "execution_count": 128
  },
  {
   "metadata": {
    "ExecuteTime": {
     "end_time": "2025-07-29T09:35:40.934768Z",
     "start_time": "2025-07-29T09:35:40.729523Z"
    }
   },
   "cell_type": "code",
   "source": [
    "fig,ax=plt.subplots(2,1)\n",
    "ax[0].plot(history.history['loss'],color='blue',label='Training loss')\n",
    "ax[0].plot(history.history['val_loss'],color='red',label='Validation loss')\n",
    "legend = ax[0].legend(loc='upper right')\n",
    "ax[1].plot(history.history['accuracy'],color='blue',label='Training Accuracy')\n",
    "ax[1].plot(history.history['val_accuracy'],color='red',label='Validation Accuracy')\n",
    "legend = ax[1].legend(loc='upper right')\n",
    "plt.show()"
   ],
   "id": "681cf741ad6614fa",
   "outputs": [
    {
     "data": {
      "text/plain": [
       "<Figure size 640x480 with 2 Axes>"
      ],
      "image/png": "[encoded data removed]"
     },
     "metadata": {},
     "output_type": "display_data"
    }
   ],
   "execution_count": 133
  },
  {
   "metadata": {
    "ExecuteTime": {
     "end_time": "2025-07-29T09:47:46.265940Z",
     "start_time": "2025-07-29T09:47:46.259249Z"
    }
   },
   "cell_type": "code",
   "source": [
    "def plot_confusion_matrix(cm,classes,normalize=False,title=False,cmap=plt.cm.Blues):\n",
    "    plt.imshow(cm, interpolation='nearest', cmap=cmap)\n",
    "    plt.title(title)\n",
    "    plt.colorbar()\n",
    "    tick_marks = np.arange(len(classes))\n",
    "    plt.xticks(tick_marks, classes, rotation=45)\n",
    "    plt.yticks(tick_marks, classes)\n",
    "    plt.imshow(cm, interpolation='nearest', cmap=cmap)\n",
    "    plt.title(title)\n",
    "    plt.colorbar()\n",
    "    tick_marks = np.arange(len(classes))\n",
    "    plt.xticks(tick_marks, classes, rotation=45)\n",
    "    plt.yticks(tick_marks, classes)\n",
    "\n",
    "    if normalize:\n",
    "        cm = cm.astype('float') / cm.sum(axis=1)[:, np.newaxis]\n",
    "\n",
    "    thresh = cm.max() / 2.\n",
    "    for i, j in itertools.product(range(cm.shape[0]), range(cm.shape[1])):\n",
    "        plt.text(j, i, cm[i, j],\n",
    "                 horizontalalignment=\"center\",\n",
    "                 color=\"white\" if cm[i, j] > thresh else \"black\")\n",
    "\n",
    "    plt.tight_layout()\n",
    "    plt.ylabel('True label')\n",
    "    plt.xlabel('Predicted label')\n"
   ],
   "id": "5bde3a1fa9edd20c",
   "outputs": [],
   "execution_count": 137
  },
  {
   "metadata": {
    "ExecuteTime": {
     "end_time": "2025-07-29T09:52:57.995849Z",
     "start_time": "2025-07-29T09:52:56.657493Z"
    }
   },
   "cell_type": "code",
   "source": [
    "Y_Pred=model.predict(X_val)\n",
    "Y_pred_classes=np.argmax(Y_Pred,axis=1)\n",
    "Y_true=np.argmax(Y_val,axis=1)\n",
    "confusion_mtx=confusion_matrix(Y_true,Y_pred_classes)\n",
    "plot_confusion_matrix(confusion_mtx,classes=range(10))"
   ],
   "id": "20b38317cf99cdbe",
   "outputs": [
    {
     "name": "stdout",
     "output_type": "stream",
     "text": [
      "\u001B[1m132/132\u001B[0m \u001B[32m━━━━━━━━━━━━━━━━━━━━\u001B[0m\u001B[37m\u001B[0m \u001B[1m1s\u001B[0m 6ms/step\n"
     ]
    },
    {
     "data": {
      "text/plain": [
       "<Figure size 640x480 with 3 Axes>"
      ],
      "image/png": "[encoded data removed]"
     },
     "metadata": {},
     "output_type": "display_data"
    }
   ],
   "execution_count": 139
  },
  {
   "metadata": {
    "ExecuteTime": {
     "end_time": "2025-07-29T09:55:12.428901Z",
     "start_time": "2025-07-29T09:55:07.663851Z"
    }
   },
   "cell_type": "code",
   "source": [
    "results=model.predict(test)\n",
    "results=np.argmax(results,axis=1)\n",
    "results=pd.Series(results,name=\"Label\")\n",
    "\n"
   ],
   "id": "c1c157d8b1fe8b6e",
   "outputs": [
    {
     "name": "stdout",
     "output_type": "stream",
     "text": [
      "\u001B[1m875/875\u001B[0m \u001B[32m━━━━━━━━━━━━━━━━━━━━\u001B[0m\u001B[37m\u001B[0m \u001B[1m4s\u001B[0m 5ms/step\n"
     ]
    }
   ],
   "execution_count": 140
  },
  {
   "metadata": {
    "ExecuteTime": {
     "end_time": "2025-07-29T09:56:01.563015Z",
     "start_time": "2025-07-29T09:56:01.556658Z"
    }
   },
   "cell_type": "code",
   "source": "submission = pd.concat([pd.Series(range(1,28001),name = \"ImageId\"),results],axis = 1)",
   "id": "5ec8e82833f3d321",
   "outputs": [],
   "execution_count": 141
  },
  {
   "metadata": {
    "ExecuteTime": {
     "end_time": "2025-07-29T09:56:44.529269Z",
     "start_time": "2025-07-29T09:56:44.488931Z"
    }
   },
   "cell_type": "code",
   "source": "submission.to_csv(\"submission.csv\",index=False)",
   "id": "49f88942a63aa9f8",
   "outputs": [],
   "execution_count": 142
  }
 ],
 "metadata": {
  "kernelspec": {
   "display_name": "Python 3",
   "language": "python",
   "name": "python3"
  },
  "language_info": {
   "codemirror_mode": {
    "name": "ipython",
    "version": 2
   },
   "file_extension": ".py",
   "mimetype": "text/x-python",
   "name": "python",
   "nbconvert_exporter": "python",
   "pygments_lexer": "ipython2",
   "version": "2.7.6"
  }
 },
 "nbformat": 4,
 "nbformat_minor": 5
}
