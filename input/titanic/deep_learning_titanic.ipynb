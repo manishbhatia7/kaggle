{
 "cells": [
  {
   "metadata": {},
   "cell_type": "markdown",
   "source": "# Importing Libraries",
   "id": "cdd151d4705ff90f"
  },
  {
   "cell_type": "code",
   "id": "initial_id",
   "metadata": {
    "collapsed": true,
    "ExecuteTime": {
     "end_time": "2025-08-06T08:48:02.246578Z",
     "start_time": "2025-08-06T08:48:02.231633Z"
    }
   },
   "source": [
    "import pandas as pd\n",
    "import numpy as np\n",
    "import seaborn as sns\n",
    "import matplotlib.pyplot as plt\n",
    "import warnings\n",
    "\n",
    "from sklearn.metrics import accuracy_score, confusion_matrix\n",
    "\n",
    "warnings.filterwarnings('ignore')\n",
    "from sklearn.model_selection import train_test_split, GridSearchCV\n",
    "from sklearn.preprocessing import StandardScaler\n",
    "from sklearn.impute import SimpleImputer\n",
    "from sklearn.tree import DecisionTreeClassifier\n",
    "pd.set_option(\"display.max.rows\",None)\n",
    "pd.set_option(\"display.max.columns\",None)\n",
    "from sklearn.preprocessing import LabelEncoder\n",
    "from sklearn.preprocessing import OneHotEncoder\n",
    "from sklearn.metrics import precision_score,f1_score,recall_score\n",
    "from sklearn.model_selection import RandomizedSearchCV\n",
    "import keras\n",
    "from keras.models import Sequential\n",
    "from keras.layers import Dense, Dropout,Activation\n",
    "from scikeras.wrappers import KerasClassifier\n",
    "from keras.regularizers import l1_l2\n"
   ],
   "outputs": [],
   "execution_count": 217
  },
  {
   "metadata": {
    "ExecuteTime": {
     "end_time": "2025-08-06T08:48:02.282577Z",
     "start_time": "2025-08-06T08:48:02.257813Z"
    }
   },
   "cell_type": "code",
   "source": [
    "train_df=pd.read_csv('/kaggle/input/titanic/train.csv')\n",
    "test_df=pd.read_csv('/kaggle/input/titanic/test.csv')"
   ],
   "id": "561d1aabdf7639ed",
   "outputs": [],
   "execution_count": 218
  },
  {
   "metadata": {
    "ExecuteTime": {
     "end_time": "2025-08-06T08:48:02.309968Z",
     "start_time": "2025-08-06T08:48:02.298556Z"
    }
   },
   "cell_type": "code",
   "source": "train_df.head(1)",
   "id": "f014738989f0226f",
   "outputs": [
    {
     "data": {
      "text/plain": [
       "   PassengerId  Survived  Pclass                     Name   Sex   Age  SibSp  \\\n",
       "0            1         0       3  Braund, Mr. Owen Harris  male  22.0      1   \n",
       "\n",
       "   Parch     Ticket  Fare Cabin Embarked  \n",
       "0      0  A/5 21171  7.25   NaN        S  "
      ],
      "text/html": [
       "<div>\n",
       "<style scoped>\n",
       "    .dataframe tbody tr th:only-of-type {\n",
       "        vertical-align: middle;\n",
       "    }\n",
       "\n",
       "    .dataframe tbody tr th {\n",
       "        vertical-align: top;\n",
       "    }\n",
       "\n",
       "    .dataframe thead th {\n",
       "        text-align: right;\n",
       "    }\n",
       "</style>\n",
       "<table border=\"1\" class=\"dataframe\">\n",
       "  <thead>\n",
       "    <tr style=\"text-align: right;\">\n",
       "      <th></th>\n",
       "      <th>PassengerId</th>\n",
       "      <th>Survived</th>\n",
       "      <th>Pclass</th>\n",
       "      <th>Name</th>\n",
       "      <th>Sex</th>\n",
       "      <th>Age</th>\n",
       "      <th>SibSp</th>\n",
       "      <th>Parch</th>\n",
       "      <th>Ticket</th>\n",
       "      <th>Fare</th>\n",
       "      <th>Cabin</th>\n",
       "      <th>Embarked</th>\n",
       "    </tr>\n",
       "  </thead>\n",
       "  <tbody>\n",
       "    <tr>\n",
       "      <th>0</th>\n",
       "      <td>1</td>\n",
       "      <td>0</td>\n",
       "      <td>3</td>\n",
       "      <td>Braund, Mr. Owen Harris</td>\n",
       "      <td>male</td>\n",
       "      <td>22.0</td>\n",
       "      <td>1</td>\n",
       "      <td>0</td>\n",
       "      <td>A/5 21171</td>\n",
       "      <td>7.25</td>\n",
       "      <td>NaN</td>\n",
       "      <td>S</td>\n",
       "    </tr>\n",
       "  </tbody>\n",
       "</table>\n",
       "</div>"
      ]
     },
     "execution_count": 219,
     "metadata": {},
     "output_type": "execute_result"
    }
   ],
   "execution_count": 219
  },
  {
   "metadata": {
    "ExecuteTime": {
     "end_time": "2025-08-06T08:48:02.344163Z",
     "start_time": "2025-08-06T08:48:02.330112Z"
    }
   },
   "cell_type": "code",
   "source": "test_df.head(1)",
   "id": "96b421d281e747ff",
   "outputs": [
    {
     "data": {
      "text/plain": [
       "   PassengerId  Pclass              Name   Sex   Age  SibSp  Parch  Ticket  \\\n",
       "0          892       3  Kelly, Mr. James  male  34.5      0      0  330911   \n",
       "\n",
       "     Fare Cabin Embarked  \n",
       "0  7.8292   NaN        Q  "
      ],
      "text/html": [
       "<div>\n",
       "<style scoped>\n",
       "    .dataframe tbody tr th:only-of-type {\n",
       "        vertical-align: middle;\n",
       "    }\n",
       "\n",
       "    .dataframe tbody tr th {\n",
       "        vertical-align: top;\n",
       "    }\n",
       "\n",
       "    .dataframe thead th {\n",
       "        text-align: right;\n",
       "    }\n",
       "</style>\n",
       "<table border=\"1\" class=\"dataframe\">\n",
       "  <thead>\n",
       "    <tr style=\"text-align: right;\">\n",
       "      <th></th>\n",
       "      <th>PassengerId</th>\n",
       "      <th>Pclass</th>\n",
       "      <th>Name</th>\n",
       "      <th>Sex</th>\n",
       "      <th>Age</th>\n",
       "      <th>SibSp</th>\n",
       "      <th>Parch</th>\n",
       "      <th>Ticket</th>\n",
       "      <th>Fare</th>\n",
       "      <th>Cabin</th>\n",
       "      <th>Embarked</th>\n",
       "    </tr>\n",
       "  </thead>\n",
       "  <tbody>\n",
       "    <tr>\n",
       "      <th>0</th>\n",
       "      <td>892</td>\n",
       "      <td>3</td>\n",
       "      <td>Kelly, Mr. James</td>\n",
       "      <td>male</td>\n",
       "      <td>34.5</td>\n",
       "      <td>0</td>\n",
       "      <td>0</td>\n",
       "      <td>330911</td>\n",
       "      <td>7.8292</td>\n",
       "      <td>NaN</td>\n",
       "      <td>Q</td>\n",
       "    </tr>\n",
       "  </tbody>\n",
       "</table>\n",
       "</div>"
      ]
     },
     "execution_count": 220,
     "metadata": {},
     "output_type": "execute_result"
    }
   ],
   "execution_count": 220
  },
  {
   "metadata": {
    "ExecuteTime": {
     "end_time": "2025-08-06T08:48:02.638270Z",
     "start_time": "2025-08-06T08:48:02.630589Z"
    }
   },
   "cell_type": "code",
   "source": [
    "print(train_df.shape)\n",
    "print(test_df.shape)"
   ],
   "id": "2402dd27489ef340",
   "outputs": [
    {
     "name": "stdout",
     "output_type": "stream",
     "text": [
      "(891, 12)\n",
      "(418, 11)\n"
     ]
    }
   ],
   "execution_count": 221
  },
  {
   "metadata": {
    "ExecuteTime": {
     "end_time": "2025-08-06T08:48:02.844947Z",
     "start_time": "2025-08-06T08:48:02.820743Z"
    }
   },
   "cell_type": "code",
   "source": "train_df.info()",
   "id": "9ce0f9a94d07b93b",
   "outputs": [
    {
     "name": "stdout",
     "output_type": "stream",
     "text": [
      "<class 'pandas.core.frame.DataFrame'>\n",
      "RangeIndex: 891 entries, 0 to 890\n",
      "Data columns (total 12 columns):\n",
      " #   Column       Non-Null Count  Dtype  \n",
      "---  ------       --------------  -----  \n",
      " 0   PassengerId  891 non-null    int64  \n",
      " 1   Survived     891 non-null    int64  \n",
      " 2   Pclass       891 non-null    int64  \n",
      " 3   Name         891 non-null    object \n",
      " 4   Sex          891 non-null    object \n",
      " 5   Age          714 non-null    float64\n",
      " 6   SibSp        891 non-null    int64  \n",
      " 7   Parch        891 non-null    int64  \n",
      " 8   Ticket       891 non-null    object \n",
      " 9   Fare         891 non-null    float64\n",
      " 10  Cabin        204 non-null    object \n",
      " 11  Embarked     889 non-null    object \n",
      "dtypes: float64(2), int64(5), object(5)\n",
      "memory usage: 83.7+ KB\n"
     ]
    }
   ],
   "execution_count": 222
  },
  {
   "metadata": {
    "ExecuteTime": {
     "end_time": "2025-08-06T08:48:02.907513Z",
     "start_time": "2025-08-06T08:48:02.894366Z"
    }
   },
   "cell_type": "code",
   "source": "test_df.info()",
   "id": "d8446b2ca36e0b3f",
   "outputs": [
    {
     "name": "stdout",
     "output_type": "stream",
     "text": [
      "<class 'pandas.core.frame.DataFrame'>\n",
      "RangeIndex: 418 entries, 0 to 417\n",
      "Data columns (total 11 columns):\n",
      " #   Column       Non-Null Count  Dtype  \n",
      "---  ------       --------------  -----  \n",
      " 0   PassengerId  418 non-null    int64  \n",
      " 1   Pclass       418 non-null    int64  \n",
      " 2   Name         418 non-null    object \n",
      " 3   Sex          418 non-null    object \n",
      " 4   Age          332 non-null    float64\n",
      " 5   SibSp        418 non-null    int64  \n",
      " 6   Parch        418 non-null    int64  \n",
      " 7   Ticket       418 non-null    object \n",
      " 8   Fare         417 non-null    float64\n",
      " 9   Cabin        91 non-null     object \n",
      " 10  Embarked     418 non-null    object \n",
      "dtypes: float64(2), int64(4), object(5)\n",
      "memory usage: 36.1+ KB\n"
     ]
    }
   ],
   "execution_count": 223
  },
  {
   "metadata": {
    "ExecuteTime": {
     "end_time": "2025-08-06T08:48:02.987959Z",
     "start_time": "2025-08-06T08:48:02.972654Z"
    }
   },
   "cell_type": "code",
   "source": [
    "#Checking duplicates\n",
    "print(\"Duplicates in Training Data\")\n",
    "print((train_df.duplicated().sum()),round(train_df.duplicated().sum()/len(train_df)*100,2))\n",
    "print(\"Duplicates in Test Data\")\n",
    "print((test_df.duplicated().sum()),round(test_df.duplicated().sum()/len(train_df)*100,2))"
   ],
   "id": "21124bc7ab7c8420",
   "outputs": [
    {
     "name": "stdout",
     "output_type": "stream",
     "text": [
      "Duplicates in Training Data\n",
      "0 0.0\n",
      "Duplicates in Test Data\n",
      "0 0.0\n"
     ]
    }
   ],
   "execution_count": 224
  },
  {
   "metadata": {
    "ExecuteTime": {
     "end_time": "2025-08-06T08:48:03.032846Z",
     "start_time": "2025-08-06T08:48:03.020527Z"
    }
   },
   "cell_type": "code",
   "source": [
    "#Checking Dtypes\n",
    "print(\"Checking Dtypes in Training Data\")\n",
    "print(\"\\n\")\n",
    "print(train_df.dtypes)\n",
    "print(\"\\n\")\n",
    "print(\"-\"*40)\n",
    "print(\"Checking Dtypes in Test Data\")\n",
    "print(test_df.dtypes)"
   ],
   "id": "2c2bb09a1067b14a",
   "outputs": [
    {
     "name": "stdout",
     "output_type": "stream",
     "text": [
      "Checking Dtypes in Training Data\n",
      "\n",
      "\n",
      "PassengerId      int64\n",
      "Survived         int64\n",
      "Pclass           int64\n",
      "Name            object\n",
      "Sex             object\n",
      "Age            float64\n",
      "SibSp            int64\n",
      "Parch            int64\n",
      "Ticket          object\n",
      "Fare           float64\n",
      "Cabin           object\n",
      "Embarked        object\n",
      "dtype: object\n",
      "\n",
      "\n",
      "----------------------------------------\n",
      "Checking Dtypes in Test Data\n",
      "PassengerId      int64\n",
      "Pclass           int64\n",
      "Name            object\n",
      "Sex             object\n",
      "Age            float64\n",
      "SibSp            int64\n",
      "Parch            int64\n",
      "Ticket          object\n",
      "Fare           float64\n",
      "Cabin           object\n",
      "Embarked        object\n",
      "dtype: object\n"
     ]
    }
   ],
   "execution_count": 225
  },
  {
   "metadata": {
    "ExecuteTime": {
     "end_time": "2025-08-06T08:48:03.159790Z",
     "start_time": "2025-08-06T08:48:03.156652Z"
    }
   },
   "cell_type": "code",
   "source": "",
   "id": "ac4ff5f70e562670",
   "outputs": [],
   "execution_count": null
  },
  {
   "metadata": {
    "ExecuteTime": {
     "end_time": "2025-08-06T08:48:03.274844Z",
     "start_time": "2025-08-06T08:48:03.242134Z"
    }
   },
   "cell_type": "code",
   "source": "train_df.describe().T",
   "id": "9585e484877c5a19",
   "outputs": [
    {
     "data": {
      "text/plain": [
       "             count        mean         std   min       25%       50%    75%  \\\n",
       "PassengerId  891.0  446.000000  257.353842  1.00  223.5000  446.0000  668.5   \n",
       "Survived     891.0    0.383838    0.486592  0.00    0.0000    0.0000    1.0   \n",
       "Pclass       891.0    2.308642    0.836071  1.00    2.0000    3.0000    3.0   \n",
       "Age          714.0   29.699118   14.526497  0.42   20.1250   28.0000   38.0   \n",
       "SibSp        891.0    0.523008    1.102743  0.00    0.0000    0.0000    1.0   \n",
       "Parch        891.0    0.381594    0.806057  0.00    0.0000    0.0000    0.0   \n",
       "Fare         891.0   32.204208   49.693429  0.00    7.9104   14.4542   31.0   \n",
       "\n",
       "                  max  \n",
       "PassengerId  891.0000  \n",
       "Survived       1.0000  \n",
       "Pclass         3.0000  \n",
       "Age           80.0000  \n",
       "SibSp          8.0000  \n",
       "Parch          6.0000  \n",
       "Fare         512.3292  "
      ],
      "text/html": [
       "<div>\n",
       "<style scoped>\n",
       "    .dataframe tbody tr th:only-of-type {\n",
       "        vertical-align: middle;\n",
       "    }\n",
       "\n",
       "    .dataframe tbody tr th {\n",
       "        vertical-align: top;\n",
       "    }\n",
       "\n",
       "    .dataframe thead th {\n",
       "        text-align: right;\n",
       "    }\n",
       "</style>\n",
       "<table border=\"1\" class=\"dataframe\">\n",
       "  <thead>\n",
       "    <tr style=\"text-align: right;\">\n",
       "      <th></th>\n",
       "      <th>count</th>\n",
       "      <th>mean</th>\n",
       "      <th>std</th>\n",
       "      <th>min</th>\n",
       "      <th>25%</th>\n",
       "      <th>50%</th>\n",
       "      <th>75%</th>\n",
       "      <th>max</th>\n",
       "    </tr>\n",
       "  </thead>\n",
       "  <tbody>\n",
       "    <tr>\n",
       "      <th>PassengerId</th>\n",
       "      <td>891.0</td>\n",
       "      <td>446.000000</td>\n",
       "      <td>257.353842</td>\n",
       "      <td>1.00</td>\n",
       "      <td>223.5000</td>\n",
       "      <td>446.0000</td>\n",
       "      <td>668.5</td>\n",
       "      <td>891.0000</td>\n",
       "    </tr>\n",
       "    <tr>\n",
       "      <th>Survived</th>\n",
       "      <td>891.0</td>\n",
       "      <td>0.383838</td>\n",
       "      <td>0.486592</td>\n",
       "      <td>0.00</td>\n",
       "      <td>0.0000</td>\n",
       "      <td>0.0000</td>\n",
       "      <td>1.0</td>\n",
       "      <td>1.0000</td>\n",
       "    </tr>\n",
       "    <tr>\n",
       "      <th>Pclass</th>\n",
       "      <td>891.0</td>\n",
       "      <td>2.308642</td>\n",
       "      <td>0.836071</td>\n",
       "      <td>1.00</td>\n",
       "      <td>2.0000</td>\n",
       "      <td>3.0000</td>\n",
       "      <td>3.0</td>\n",
       "      <td>3.0000</td>\n",
       "    </tr>\n",
       "    <tr>\n",
       "      <th>Age</th>\n",
       "      <td>714.0</td>\n",
       "      <td>29.699118</td>\n",
       "      <td>14.526497</td>\n",
       "      <td>0.42</td>\n",
       "      <td>20.1250</td>\n",
       "      <td>28.0000</td>\n",
       "      <td>38.0</td>\n",
       "      <td>80.0000</td>\n",
       "    </tr>\n",
       "    <tr>\n",
       "      <th>SibSp</th>\n",
       "      <td>891.0</td>\n",
       "      <td>0.523008</td>\n",
       "      <td>1.102743</td>\n",
       "      <td>0.00</td>\n",
       "      <td>0.0000</td>\n",
       "      <td>0.0000</td>\n",
       "      <td>1.0</td>\n",
       "      <td>8.0000</td>\n",
       "    </tr>\n",
       "    <tr>\n",
       "      <th>Parch</th>\n",
       "      <td>891.0</td>\n",
       "      <td>0.381594</td>\n",
       "      <td>0.806057</td>\n",
       "      <td>0.00</td>\n",
       "      <td>0.0000</td>\n",
       "      <td>0.0000</td>\n",
       "      <td>0.0</td>\n",
       "      <td>6.0000</td>\n",
       "    </tr>\n",
       "    <tr>\n",
       "      <th>Fare</th>\n",
       "      <td>891.0</td>\n",
       "      <td>32.204208</td>\n",
       "      <td>49.693429</td>\n",
       "      <td>0.00</td>\n",
       "      <td>7.9104</td>\n",
       "      <td>14.4542</td>\n",
       "      <td>31.0</td>\n",
       "      <td>512.3292</td>\n",
       "    </tr>\n",
       "  </tbody>\n",
       "</table>\n",
       "</div>"
      ]
     },
     "execution_count": 226,
     "metadata": {},
     "output_type": "execute_result"
    }
   ],
   "execution_count": 226
  },
  {
   "metadata": {
    "ExecuteTime": {
     "end_time": "2025-08-06T08:48:03.494328Z",
     "start_time": "2025-08-06T08:48:03.462795Z"
    }
   },
   "cell_type": "code",
   "source": "test_df.describe().T",
   "id": "1f6e84f8e5e6d772",
   "outputs": [
    {
     "data": {
      "text/plain": [
       "             count         mean         std     min       25%        50%  \\\n",
       "PassengerId  418.0  1100.500000  120.810458  892.00  996.2500  1100.5000   \n",
       "Pclass       418.0     2.265550    0.841838    1.00    1.0000     3.0000   \n",
       "Age          332.0    30.272590   14.181209    0.17   21.0000    27.0000   \n",
       "SibSp        418.0     0.447368    0.896760    0.00    0.0000     0.0000   \n",
       "Parch        418.0     0.392344    0.981429    0.00    0.0000     0.0000   \n",
       "Fare         417.0    35.627188   55.907576    0.00    7.8958    14.4542   \n",
       "\n",
       "                 75%        max  \n",
       "PassengerId  1204.75  1309.0000  \n",
       "Pclass          3.00     3.0000  \n",
       "Age            39.00    76.0000  \n",
       "SibSp           1.00     8.0000  \n",
       "Parch           0.00     9.0000  \n",
       "Fare           31.50   512.3292  "
      ],
      "text/html": [
       "<div>\n",
       "<style scoped>\n",
       "    .dataframe tbody tr th:only-of-type {\n",
       "        vertical-align: middle;\n",
       "    }\n",
       "\n",
       "    .dataframe tbody tr th {\n",
       "        vertical-align: top;\n",
       "    }\n",
       "\n",
       "    .dataframe thead th {\n",
       "        text-align: right;\n",
       "    }\n",
       "</style>\n",
       "<table border=\"1\" class=\"dataframe\">\n",
       "  <thead>\n",
       "    <tr style=\"text-align: right;\">\n",
       "      <th></th>\n",
       "      <th>count</th>\n",
       "      <th>mean</th>\n",
       "      <th>std</th>\n",
       "      <th>min</th>\n",
       "      <th>25%</th>\n",
       "      <th>50%</th>\n",
       "      <th>75%</th>\n",
       "      <th>max</th>\n",
       "    </tr>\n",
       "  </thead>\n",
       "  <tbody>\n",
       "    <tr>\n",
       "      <th>PassengerId</th>\n",
       "      <td>418.0</td>\n",
       "      <td>1100.500000</td>\n",
       "      <td>120.810458</td>\n",
       "      <td>892.00</td>\n",
       "      <td>996.2500</td>\n",
       "      <td>1100.5000</td>\n",
       "      <td>1204.75</td>\n",
       "      <td>1309.0000</td>\n",
       "    </tr>\n",
       "    <tr>\n",
       "      <th>Pclass</th>\n",
       "      <td>418.0</td>\n",
       "      <td>2.265550</td>\n",
       "      <td>0.841838</td>\n",
       "      <td>1.00</td>\n",
       "      <td>1.0000</td>\n",
       "      <td>3.0000</td>\n",
       "      <td>3.00</td>\n",
       "      <td>3.0000</td>\n",
       "    </tr>\n",
       "    <tr>\n",
       "      <th>Age</th>\n",
       "      <td>332.0</td>\n",
       "      <td>30.272590</td>\n",
       "      <td>14.181209</td>\n",
       "      <td>0.17</td>\n",
       "      <td>21.0000</td>\n",
       "      <td>27.0000</td>\n",
       "      <td>39.00</td>\n",
       "      <td>76.0000</td>\n",
       "    </tr>\n",
       "    <tr>\n",
       "      <th>SibSp</th>\n",
       "      <td>418.0</td>\n",
       "      <td>0.447368</td>\n",
       "      <td>0.896760</td>\n",
       "      <td>0.00</td>\n",
       "      <td>0.0000</td>\n",
       "      <td>0.0000</td>\n",
       "      <td>1.00</td>\n",
       "      <td>8.0000</td>\n",
       "    </tr>\n",
       "    <tr>\n",
       "      <th>Parch</th>\n",
       "      <td>418.0</td>\n",
       "      <td>0.392344</td>\n",
       "      <td>0.981429</td>\n",
       "      <td>0.00</td>\n",
       "      <td>0.0000</td>\n",
       "      <td>0.0000</td>\n",
       "      <td>0.00</td>\n",
       "      <td>9.0000</td>\n",
       "    </tr>\n",
       "    <tr>\n",
       "      <th>Fare</th>\n",
       "      <td>417.0</td>\n",
       "      <td>35.627188</td>\n",
       "      <td>55.907576</td>\n",
       "      <td>0.00</td>\n",
       "      <td>7.8958</td>\n",
       "      <td>14.4542</td>\n",
       "      <td>31.50</td>\n",
       "      <td>512.3292</td>\n",
       "    </tr>\n",
       "  </tbody>\n",
       "</table>\n",
       "</div>"
      ]
     },
     "execution_count": 227,
     "metadata": {},
     "output_type": "execute_result"
    }
   ],
   "execution_count": 227
  },
  {
   "metadata": {},
   "cell_type": "markdown",
   "source": "# EDA",
   "id": "140dfeacc2a37099"
  },
  {
   "metadata": {
    "ExecuteTime": {
     "end_time": "2025-08-06T08:48:04.117222Z",
     "start_time": "2025-08-06T08:48:03.922375Z"
    }
   },
   "cell_type": "code",
   "source": [
    "plt.figure(figsize = (12,6))\n",
    "plt.pie(train_df[\"Survived\"].value_counts(),labels = train_df[\"Survived\"].value_counts().keys(),autopct=\"%1.1f%%\",textprops={\"fontsize\":20,\"fontweight\":\"black\"},colors=sns.color_palette(\"Set2\"))\n",
    "plt.title(\"Survival Distribution\")\n",
    "plt.show()"
   ],
   "id": "3ca1f4e62bee662b",
   "outputs": [
    {
     "data": {
      "text/plain": [
       "<Figure size 1200x600 with 1 Axes>"
      ],
      "image/png": "[encoded data removed]"
     },
     "metadata": {},
     "output_type": "display_data"
    }
   ],
   "execution_count": 228
  },
  {
   "metadata": {},
   "cell_type": "markdown",
   "source": "Only 38% of people survived",
   "id": "acb7cb275f2a7b88"
  },
  {
   "metadata": {
    "ExecuteTime": {
     "end_time": "2025-08-06T08:48:04.632613Z",
     "start_time": "2025-08-06T08:48:04.255967Z"
    }
   },
   "cell_type": "code",
   "source": [
    "sns.histplot(x=\"Age\",data=train_df,kde=True,hue=\"Survived\",palette=\"Set2\",bins=20)\n",
    "plt.title(\"Survival Distribution w.rt Age\")\n",
    "plt.show()"
   ],
   "id": "b16cd464407aa9da",
   "outputs": [
    {
     "data": {
      "text/plain": [
       "<Figure size 640x480 with 1 Axes>"
      ],
      "image/png": "[encoded data removed]"
     },
     "metadata": {},
     "output_type": "display_data"
    }
   ],
   "execution_count": 229
  },
  {
   "metadata": {},
   "cell_type": "markdown",
   "source": [
    "* Distribution is Normal\n",
    "* Most of the people survived within 10 years of age\n",
    "* Minimum age is 0 amd Max age is 80\n"
   ],
   "id": "862c8d898cbb6129"
  },
  {
   "metadata": {
    "ExecuteTime": {
     "end_time": "2025-08-06T08:48:04.810097Z",
     "start_time": "2025-08-06T08:48:04.654949Z"
    }
   },
   "cell_type": "code",
   "source": [
    "sns.barplot(x='Sex',y='Survived',data=train_df,palette=\"Set2\")\n",
    "plt.show()\n",
    "print(\"The percentage of values \")\n",
    "print(\"Survival Ratio of Males:\",train_df[\"Survived\"][train_df[\"Sex\"]==\"male\"].value_counts(normalize=True)[1]*100)\n",
    "print(\"Survival Ratio of Females\",train_df[\"Survived\"][train_df[\"Sex\"]==\"female\"].value_counts(normalize=True)[1]*100)"
   ],
   "id": "7aa6bb49c0906a47",
   "outputs": [
    {
     "data": {
      "text/plain": [
       "<Figure size 640x480 with 1 Axes>"
      ],
      "image/png": "[encoded data removed]"
     },
     "metadata": {},
     "output_type": "display_data"
    },
    {
     "name": "stdout",
     "output_type": "stream",
     "text": [
      "The percentage of values \n",
      "Survival Ratio of Males: 18.890814558058924\n",
      "Survival Ratio of Females 74.20382165605095\n"
     ]
    }
   ],
   "execution_count": 230
  },
  {
   "metadata": {
    "ExecuteTime": {
     "end_time": "2025-08-06T08:48:05.052518Z",
     "start_time": "2025-08-06T08:48:04.843043Z"
    }
   },
   "cell_type": "code",
   "source": [
    "sns.barplot(x='Pclass',y='Survived',data=train_df,palette=\"Set2\")\n",
    "plt.show()\n",
    "print(\"Survival Rate of Class1\",round(train_df[\"Survived\"][train_df[\"Pclass\"]==1].value_counts(normalize=True)[1]*100,2))\n",
    "print(\"Survival Rate of Class2\",round(train_df[\"Survived\"][train_df[\"Pclass\"]==2].value_counts(normalize=True)[1]*100,2))\n",
    "print(\"Survival Rate of Class3\",round(train_df[\"Survived\"][train_df[\"Pclass\"]==3].value_counts(normalize=True)[1]*100,2))"
   ],
   "id": "383d518700e367e4",
   "outputs": [
    {
     "data": {
      "text/plain": [
       "<Figure size 640x480 with 1 Axes>"
      ],
      "image/png": "[encoded data removed]"
     },
     "metadata": {},
     "output_type": "display_data"
    },
    {
     "name": "stdout",
     "output_type": "stream",
     "text": [
      "Survival Rate of Class1 62.96\n",
      "Survival Rate of Class2 47.28\n",
      "Survival Rate of Class3 24.24\n"
     ]
    }
   ],
   "execution_count": 231
  },
  {
   "metadata": {
    "ExecuteTime": {
     "end_time": "2025-08-06T08:48:05.406967Z",
     "start_time": "2025-08-06T08:48:05.101422Z"
    }
   },
   "cell_type": "code",
   "source": [
    "sns.barplot(x='SibSp',y='Survived',data=train_df,palette=\"Set2\")\n",
    "plt.show()\n",
    "print(\"Survival Rate of 0 Siblings\",round(train_df[\"Survived\"][train_df[\"SibSp\"]==0].value_counts(normalize=True)[1]*100,2))\n",
    "print(\"Survival Rate of 1 Siblings\",round(train_df[\"Survived\"][train_df[\"SibSp\"]==1].value_counts(normalize=True)[1]*100,2))\n",
    "print(\"Survival Rate of 2 Siblings\",round(train_df[\"Survived\"][train_df[\"SibSp\"]==2].value_counts(normalize=True)[1]*100,2))\n",
    "print(\"Survival Rate of 3 Siblings\",round(train_df[\"Survived\"][train_df[\"SibSp\"]==3].value_counts(normalize=True)[1]*100,2))\n",
    "print(\"Survival Rate of 4 Siblings\",round(train_df[\"Survived\"][train_df[\"SibSp\"]==4].value_counts(normalize=True)[1]*100,2))\n",
    "\n"
   ],
   "id": "29b5c911a8f6ec30",
   "outputs": [
    {
     "data": {
      "text/plain": [
       "<Figure size 640x480 with 1 Axes>"
      ],
      "image/png": "[encoded data removed]"
     },
     "metadata": {},
     "output_type": "display_data"
    },
    {
     "name": "stdout",
     "output_type": "stream",
     "text": [
      "Survival Rate of 0 Siblings 34.54\n",
      "Survival Rate of 1 Siblings 53.59\n",
      "Survival Rate of 2 Siblings 46.43\n",
      "Survival Rate of 3 Siblings 25.0\n",
      "Survival Rate of 4 Siblings 16.67\n"
     ]
    }
   ],
   "execution_count": 232
  },
  {
   "metadata": {},
   "cell_type": "markdown",
   "source": [
    "* The survival rate of a couple or a couple with a single parent/child has highest survival rate.\n",
    "* The survival rate of a single identity comes next.\n",
    "* The survival rate with more more family members is low."
   ],
   "id": "65b8dec7ecd0e34a"
  },
  {
   "metadata": {
    "ExecuteTime": {
     "end_time": "2025-08-06T08:48:05.462070Z",
     "start_time": "2025-08-06T08:48:05.453123Z"
    }
   },
   "cell_type": "code",
   "source": "train_df[\"SibSp\"].value_counts()",
   "id": "8a693ac4c557df08",
   "outputs": [
    {
     "data": {
      "text/plain": [
       "SibSp\n",
       "0    608\n",
       "1    209\n",
       "2     28\n",
       "4     18\n",
       "3     16\n",
       "8      7\n",
       "5      5\n",
       "Name: count, dtype: int64"
      ]
     },
     "execution_count": 233,
     "metadata": {},
     "output_type": "execute_result"
    }
   ],
   "execution_count": 233
  },
  {
   "metadata": {
    "ExecuteTime": {
     "end_time": "2025-08-06T08:48:05.782414Z",
     "start_time": "2025-08-06T08:48:05.535536Z"
    }
   },
   "cell_type": "code",
   "source": [
    "sns.barplot(x=\"Embarked\",y=\"Survived\",data=train_df,palette=\"Set2\")\n",
    "plt.show()\n",
    "print(\"Survival Rate of passengers embarked from Cherbourg\",round(train_df[\"Survived\"][train_df[\"Embarked\"]==\"C\"].value_counts(normalize=True)[1]*100,2))\n",
    "print(\"Survival Rate of passengers embarked from Queensland\",round(train_df[\"Survived\"][train_df[\"Embarked\"]==\"Q\"].value_counts(normalize=True)[1]*100,2))\n",
    "print(\"Survival Rate of passengers embarked from SouthHampton\",round(train_df[\"Survived\"][train_df[\"Embarked\"]==\"S\"].value_counts(normalize=True)[1]*100,2))"
   ],
   "id": "677dbb5b79a2087f",
   "outputs": [
    {
     "data": {
      "text/plain": [
       "<Figure size 640x480 with 1 Axes>"
      ],
      "image/png": "[encoded data removed]"
     },
     "metadata": {},
     "output_type": "display_data"
    },
    {
     "name": "stdout",
     "output_type": "stream",
     "text": [
      "Survival Rate of passengers embarked from Cherbourg 55.36\n",
      "Survival Rate of passengers embarked from Queensland 38.96\n",
      "Survival Rate of passengers embarked from SouthHampton 33.7\n"
     ]
    }
   ],
   "execution_count": 234
  },
  {
   "metadata": {},
   "cell_type": "markdown",
   "source": "Survival Rate from Cherbourg was highest while from SouthHampton was lowest",
   "id": "a650f9529c64abb9"
  },
  {
   "metadata": {},
   "cell_type": "markdown",
   "source": "Lets plot Pclass with Passengers Embarked",
   "id": "9310509b3120fc19"
  },
  {
   "metadata": {
    "ExecuteTime": {
     "end_time": "2025-08-06T08:48:06.404082Z",
     "start_time": "2025-08-06T08:48:05.873745Z"
    }
   },
   "cell_type": "code",
   "source": [
    "sns.barplot(x='Embarked',y='Pclass',hue=\"Survived\",data=train_df,palette=\"Set2\")\n",
    "plt.show()"
   ],
   "id": "f69e9b5fbf86385a",
   "outputs": [
    {
     "data": {
      "text/plain": [
       "<Figure size 640x480 with 1 Axes>"
      ],
      "image/png": "[encoded data removed]"
     },
     "metadata": {},
     "output_type": "display_data"
    }
   ],
   "execution_count": 235
  },
  {
   "metadata": {},
   "cell_type": "markdown",
   "source": "Plotting Age after converting into categories",
   "id": "9586bb39f28c07ae"
  },
  {
   "metadata": {
    "ExecuteTime": {
     "end_time": "2025-08-06T08:48:06.482442Z",
     "start_time": "2025-08-06T08:48:06.472169Z"
    }
   },
   "cell_type": "code",
   "source": [
    "train_df[\"Age\"] = train_df[\"Age\"].fillna(-0.5)\n",
    "test_df[\"Age\"] = test_df[\"Age\"].fillna(-0.5)\n",
    "bins = [0, 12, 17, 60, np.inf]\n",
    "labels = ['child', 'teenager', 'adult', 'elderly']\n",
    "age_groups = pd.cut(train_df.Age, bins, labels = labels)\n",
    "train_df['AgeGroup'] = age_groups\n",
    "test_df['AgeGroup'] = age_groups"
   ],
   "id": "91f41327373ce4c8",
   "outputs": [],
   "execution_count": 236
  },
  {
   "metadata": {
    "ExecuteTime": {
     "end_time": "2025-08-06T08:48:06.774442Z",
     "start_time": "2025-08-06T08:48:06.519285Z"
    }
   },
   "cell_type": "code",
   "source": [
    "sns.barplot(x='AgeGroup',y='Survived',data=train_df,palette=\"Set2\")\n",
    "plt.show()"
   ],
   "id": "c9bdd5a092c15e6a",
   "outputs": [
    {
     "data": {
      "text/plain": [
       "<Figure size 640x480 with 1 Axes>"
      ],
      "image/png": "[encoded data removed]"
     },
     "metadata": {},
     "output_type": "display_data"
    }
   ],
   "execution_count": 237
  },
  {
   "metadata": {},
   "cell_type": "markdown",
   "source": "# Feature Engineering\n",
   "id": "365cb6e9a52d3739"
  },
  {
   "metadata": {},
   "cell_type": "markdown",
   "source": "### Extracting Titles from Names",
   "id": "19c123b03f0fd6ee"
  },
  {
   "metadata": {
    "ExecuteTime": {
     "end_time": "2025-08-06T08:48:06.826012Z",
     "start_time": "2025-08-06T08:48:06.798948Z"
    }
   },
   "cell_type": "code",
   "source": "train_df.head()",
   "id": "4d47d1322ff25bf",
   "outputs": [
    {
     "data": {
      "text/plain": [
       "   PassengerId  Survived  Pclass  \\\n",
       "0            1         0       3   \n",
       "1            2         1       1   \n",
       "2            3         1       3   \n",
       "3            4         1       1   \n",
       "4            5         0       3   \n",
       "\n",
       "                                                Name     Sex   Age  SibSp  \\\n",
       "0                            Braund, Mr. Owen Harris    male  22.0      1   \n",
       "1  Cumings, Mrs. John Bradley (Florence Briggs Th...  female  38.0      1   \n",
       "2                             Heikkinen, Miss. Laina  female  26.0      0   \n",
       "3       Futrelle, Mrs. Jacques Heath (Lily May Peel)  female  35.0      1   \n",
       "4                           Allen, Mr. William Henry    male  35.0      0   \n",
       "\n",
       "   Parch            Ticket     Fare Cabin Embarked AgeGroup  \n",
       "0      0         A/5 21171   7.2500   NaN        S    adult  \n",
       "1      0          PC 17599  71.2833   C85        C    adult  \n",
       "2      0  STON/O2. 3101282   7.9250   NaN        S    adult  \n",
       "3      0            113803  53.1000  C123        S    adult  \n",
       "4      0            373450   8.0500   NaN        S    adult  "
      ],
      "text/html": [
       "<div>\n",
       "<style scoped>\n",
       "    .dataframe tbody tr th:only-of-type {\n",
       "        vertical-align: middle;\n",
       "    }\n",
       "\n",
       "    .dataframe tbody tr th {\n",
       "        vertical-align: top;\n",
       "    }\n",
       "\n",
       "    .dataframe thead th {\n",
       "        text-align: right;\n",
       "    }\n",
       "</style>\n",
       "<table border=\"1\" class=\"dataframe\">\n",
       "  <thead>\n",
       "    <tr style=\"text-align: right;\">\n",
       "      <th></th>\n",
       "      <th>PassengerId</th>\n",
       "      <th>Survived</th>\n",
       "      <th>Pclass</th>\n",
       "      <th>Name</th>\n",
       "      <th>Sex</th>\n",
       "      <th>Age</th>\n",
       "      <th>SibSp</th>\n",
       "      <th>Parch</th>\n",
       "      <th>Ticket</th>\n",
       "      <th>Fare</th>\n",
       "      <th>Cabin</th>\n",
       "      <th>Embarked</th>\n",
       "      <th>AgeGroup</th>\n",
       "    </tr>\n",
       "  </thead>\n",
       "  <tbody>\n",
       "    <tr>\n",
       "      <th>0</th>\n",
       "      <td>1</td>\n",
       "      <td>0</td>\n",
       "      <td>3</td>\n",
       "      <td>Braund, Mr. Owen Harris</td>\n",
       "      <td>male</td>\n",
       "      <td>22.0</td>\n",
       "      <td>1</td>\n",
       "      <td>0</td>\n",
       "      <td>A/5 21171</td>\n",
       "      <td>7.2500</td>\n",
       "      <td>NaN</td>\n",
       "      <td>S</td>\n",
       "      <td>adult</td>\n",
       "    </tr>\n",
       "    <tr>\n",
       "      <th>1</th>\n",
       "      <td>2</td>\n",
       "      <td>1</td>\n",
       "      <td>1</td>\n",
       "      <td>Cumings, Mrs. John Bradley (Florence Briggs Th...</td>\n",
       "      <td>female</td>\n",
       "      <td>38.0</td>\n",
       "      <td>1</td>\n",
       "      <td>0</td>\n",
       "      <td>PC 17599</td>\n",
       "      <td>71.2833</td>\n",
       "      <td>C85</td>\n",
       "      <td>C</td>\n",
       "      <td>adult</td>\n",
       "    </tr>\n",
       "    <tr>\n",
       "      <th>2</th>\n",
       "      <td>3</td>\n",
       "      <td>1</td>\n",
       "      <td>3</td>\n",
       "      <td>Heikkinen, Miss. Laina</td>\n",
       "      <td>female</td>\n",
       "      <td>26.0</td>\n",
       "      <td>0</td>\n",
       "      <td>0</td>\n",
       "      <td>STON/O2. 3101282</td>\n",
       "      <td>7.9250</td>\n",
       "      <td>NaN</td>\n",
       "      <td>S</td>\n",
       "      <td>adult</td>\n",
       "    </tr>\n",
       "    <tr>\n",
       "      <th>3</th>\n",
       "      <td>4</td>\n",
       "      <td>1</td>\n",
       "      <td>1</td>\n",
       "      <td>Futrelle, Mrs. Jacques Heath (Lily May Peel)</td>\n",
       "      <td>female</td>\n",
       "      <td>35.0</td>\n",
       "      <td>1</td>\n",
       "      <td>0</td>\n",
       "      <td>113803</td>\n",
       "      <td>53.1000</td>\n",
       "      <td>C123</td>\n",
       "      <td>S</td>\n",
       "      <td>adult</td>\n",
       "    </tr>\n",
       "    <tr>\n",
       "      <th>4</th>\n",
       "      <td>5</td>\n",
       "      <td>0</td>\n",
       "      <td>3</td>\n",
       "      <td>Allen, Mr. William Henry</td>\n",
       "      <td>male</td>\n",
       "      <td>35.0</td>\n",
       "      <td>0</td>\n",
       "      <td>0</td>\n",
       "      <td>373450</td>\n",
       "      <td>8.0500</td>\n",
       "      <td>NaN</td>\n",
       "      <td>S</td>\n",
       "      <td>adult</td>\n",
       "    </tr>\n",
       "  </tbody>\n",
       "</table>\n",
       "</div>"
      ]
     },
     "execution_count": 238,
     "metadata": {},
     "output_type": "execute_result"
    }
   ],
   "execution_count": 238
  },
  {
   "metadata": {
    "ExecuteTime": {
     "end_time": "2025-08-06T08:48:06.932584Z",
     "start_time": "2025-08-06T08:48:06.925750Z"
    }
   },
   "cell_type": "code",
   "source": [
    "def extract_title(df):\n",
    "    df['Title'] = df['Name'].str.split(\", \", expand=True)[1].str.split(\".\", expand=True)[0]\n",
    "    df['Title']=df['Title'].replace(['Lady','Mme','the Countess','Dona'],'Mrs')\n",
    "    df['Title']=df['Title'].replace(['Col','Major','Capt'],'Military Officer')\n",
    "    df['Title']=df['Title'].replace(['Mlle','Ms'],'Miss')\n",
    "    df['Title']=df['Title'].replace(['Dr','Rev','Jonkheer','Sir','Don'],'Noble')\n",
    "\n",
    "\n",
    "\n"
   ],
   "id": "b12ad035283029c2",
   "outputs": [],
   "execution_count": 239
  },
  {
   "metadata": {
    "ExecuteTime": {
     "end_time": "2025-08-06T08:48:07.716842Z",
     "start_time": "2025-08-06T08:48:07.695222Z"
    }
   },
   "cell_type": "code",
   "source": [
    "extract_title(train_df)\n",
    "extract_title(test_df)"
   ],
   "id": "c0c10cb0bc09fa8e",
   "outputs": [],
   "execution_count": 240
  },
  {
   "metadata": {
    "ExecuteTime": {
     "end_time": "2025-08-06T08:48:07.828747Z",
     "start_time": "2025-08-06T08:48:07.814917Z"
    }
   },
   "cell_type": "code",
   "source": "train_df['Title'].value_counts()",
   "id": "142c50842185bd64",
   "outputs": [
    {
     "data": {
      "text/plain": [
       "Title\n",
       "Mr                  517\n",
       "Miss                185\n",
       "Mrs                 128\n",
       "Master               40\n",
       "Noble                16\n",
       "Military Officer      5\n",
       "Name: count, dtype: int64"
      ]
     },
     "execution_count": 241,
     "metadata": {},
     "output_type": "execute_result"
    }
   ],
   "execution_count": 241
  },
  {
   "metadata": {
    "ExecuteTime": {
     "end_time": "2025-08-06T08:48:08.712967Z",
     "start_time": "2025-08-06T08:48:08.267240Z"
    }
   },
   "cell_type": "code",
   "source": [
    "sns.barplot(x='Title',y='Survived',data=train_df,palette=\"Set2\")\n",
    "plt.show()"
   ],
   "id": "4dc10ad5c6486c7d",
   "outputs": [
    {
     "data": {
      "text/plain": [
       "<Figure size 640x480 with 1 Axes>"
      ],
      "image/png": "[encoded data removed]"
     },
     "metadata": {},
     "output_type": "display_data"
    }
   ],
   "execution_count": 242
  },
  {
   "metadata": {
    "ExecuteTime": {
     "end_time": "2025-08-06T08:48:09.057048Z",
     "start_time": "2025-08-06T08:48:09.027082Z"
    }
   },
   "cell_type": "code",
   "source": [
    "print(\"Survival Rates of Titles\")\n",
    "print(\"Mr\")\n",
    "print(round(train_df[\"Survived\"][train_df[\"Title\"]==\"Mr\"].value_counts(normalize=True)[1]*100,2))\n",
    "print(\"Mrs\")\n",
    "print(round(train_df[\"Survived\"][train_df[\"Title\"]==\"Mrs\"].value_counts(normalize=True)[1]*100,2))\n",
    "print(\"Miss\")\n",
    "print(round(train_df[\"Survived\"][train_df[\"Title\"]==\"Miss\"].value_counts(normalize=True)[1]*100,2))\n",
    "print(\"Master\")\n",
    "print(round(train_df[\"Survived\"][train_df[\"Title\"]==\"Master\"].value_counts(normalize=True)[1]*100,2))\n",
    "print(\"Noble\")\n",
    "print(round(train_df[\"Survived\"][train_df[\"Title\"]==\"Noble\"].value_counts(normalize=True)[1]*100,2))\n",
    "print(\"Military Officer\")\n",
    "print(round(train_df[\"Survived\"][train_df[\"Title\"]==\"Military Officer\"].value_counts(normalize=True)[1]*100,2))"
   ],
   "id": "381557c47da6aa26",
   "outputs": [
    {
     "name": "stdout",
     "output_type": "stream",
     "text": [
      "Survival Rates of Titles\n",
      "Mr\n",
      "15.67\n",
      "Mrs\n",
      "79.69\n",
      "Miss\n",
      "70.27\n",
      "Master\n",
      "57.5\n",
      "Noble\n",
      "25.0\n",
      "Military Officer\n",
      "40.0\n"
     ]
    }
   ],
   "execution_count": 243
  },
  {
   "metadata": {
    "ExecuteTime": {
     "end_time": "2025-08-06T08:48:09.233827Z",
     "start_time": "2025-08-06T08:48:09.228980Z"
    }
   },
   "cell_type": "code",
   "source": [
    "def manipulate_family_members(df):\n",
    "    df['FamilySize'] = df['SibSp'] + df['Parch'] + 1\n",
    "    df['IsAlone'] = 1\n",
    "    df['IsAlone'].loc[df['FamilySize']>1]=0\n"
   ],
   "id": "7d3db7f80f7deed8",
   "outputs": [],
   "execution_count": 244
  },
  {
   "metadata": {
    "ExecuteTime": {
     "end_time": "2025-08-06T08:48:09.486296Z",
     "start_time": "2025-08-06T08:48:09.476623Z"
    }
   },
   "cell_type": "code",
   "source": [
    "manipulate_family_members(train_df)\n",
    "manipulate_family_members(test_df)"
   ],
   "id": "3ed6c6c7fcabdfc4",
   "outputs": [],
   "execution_count": 245
  },
  {
   "metadata": {
    "ExecuteTime": {
     "end_time": "2025-08-06T08:48:09.523322Z",
     "start_time": "2025-08-06T08:48:09.507254Z"
    }
   },
   "cell_type": "code",
   "source": "train_df.head()",
   "id": "6eb245a5921eec1a",
   "outputs": [
    {
     "data": {
      "text/plain": [
       "   PassengerId  Survived  Pclass  \\\n",
       "0            1         0       3   \n",
       "1            2         1       1   \n",
       "2            3         1       3   \n",
       "3            4         1       1   \n",
       "4            5         0       3   \n",
       "\n",
       "                                                Name     Sex   Age  SibSp  \\\n",
       "0                            Braund, Mr. Owen Harris    male  22.0      1   \n",
       "1  Cumings, Mrs. John Bradley (Florence Briggs Th...  female  38.0      1   \n",
       "2                             Heikkinen, Miss. Laina  female  26.0      0   \n",
       "3       Futrelle, Mrs. Jacques Heath (Lily May Peel)  female  35.0      1   \n",
       "4                           Allen, Mr. William Henry    male  35.0      0   \n",
       "\n",
       "   Parch            Ticket     Fare Cabin Embarked AgeGroup Title  FamilySize  \\\n",
       "0      0         A/5 21171   7.2500   NaN        S    adult    Mr           2   \n",
       "1      0          PC 17599  71.2833   C85        C    adult   Mrs           2   \n",
       "2      0  STON/O2. 3101282   7.9250   NaN        S    adult  Miss           1   \n",
       "3      0            113803  53.1000  C123        S    adult   Mrs           2   \n",
       "4      0            373450   8.0500   NaN        S    adult    Mr           1   \n",
       "\n",
       "   IsAlone  \n",
       "0        0  \n",
       "1        0  \n",
       "2        1  \n",
       "3        0  \n",
       "4        1  "
      ],
      "text/html": [
       "<div>\n",
       "<style scoped>\n",
       "    .dataframe tbody tr th:only-of-type {\n",
       "        vertical-align: middle;\n",
       "    }\n",
       "\n",
       "    .dataframe tbody tr th {\n",
       "        vertical-align: top;\n",
       "    }\n",
       "\n",
       "    .dataframe thead th {\n",
       "        text-align: right;\n",
       "    }\n",
       "</style>\n",
       "<table border=\"1\" class=\"dataframe\">\n",
       "  <thead>\n",
       "    <tr style=\"text-align: right;\">\n",
       "      <th></th>\n",
       "      <th>PassengerId</th>\n",
       "      <th>Survived</th>\n",
       "      <th>Pclass</th>\n",
       "      <th>Name</th>\n",
       "      <th>Sex</th>\n",
       "      <th>Age</th>\n",
       "      <th>SibSp</th>\n",
       "      <th>Parch</th>\n",
       "      <th>Ticket</th>\n",
       "      <th>Fare</th>\n",
       "      <th>Cabin</th>\n",
       "      <th>Embarked</th>\n",
       "      <th>AgeGroup</th>\n",
       "      <th>Title</th>\n",
       "      <th>FamilySize</th>\n",
       "      <th>IsAlone</th>\n",
       "    </tr>\n",
       "  </thead>\n",
       "  <tbody>\n",
       "    <tr>\n",
       "      <th>0</th>\n",
       "      <td>1</td>\n",
       "      <td>0</td>\n",
       "      <td>3</td>\n",
       "      <td>Braund, Mr. Owen Harris</td>\n",
       "      <td>male</td>\n",
       "      <td>22.0</td>\n",
       "      <td>1</td>\n",
       "      <td>0</td>\n",
       "      <td>A/5 21171</td>\n",
       "      <td>7.2500</td>\n",
       "      <td>NaN</td>\n",
       "      <td>S</td>\n",
       "      <td>adult</td>\n",
       "      <td>Mr</td>\n",
       "      <td>2</td>\n",
       "      <td>0</td>\n",
       "    </tr>\n",
       "    <tr>\n",
       "      <th>1</th>\n",
       "      <td>2</td>\n",
       "      <td>1</td>\n",
       "      <td>1</td>\n",
       "      <td>Cumings, Mrs. John Bradley (Florence Briggs Th...</td>\n",
       "      <td>female</td>\n",
       "      <td>38.0</td>\n",
       "      <td>1</td>\n",
       "      <td>0</td>\n",
       "      <td>PC 17599</td>\n",
       "      <td>71.2833</td>\n",
       "      <td>C85</td>\n",
       "      <td>C</td>\n",
       "      <td>adult</td>\n",
       "      <td>Mrs</td>\n",
       "      <td>2</td>\n",
       "      <td>0</td>\n",
       "    </tr>\n",
       "    <tr>\n",
       "      <th>2</th>\n",
       "      <td>3</td>\n",
       "      <td>1</td>\n",
       "      <td>3</td>\n",
       "      <td>Heikkinen, Miss. Laina</td>\n",
       "      <td>female</td>\n",
       "      <td>26.0</td>\n",
       "      <td>0</td>\n",
       "      <td>0</td>\n",
       "      <td>STON/O2. 3101282</td>\n",
       "      <td>7.9250</td>\n",
       "      <td>NaN</td>\n",
       "      <td>S</td>\n",
       "      <td>adult</td>\n",
       "      <td>Miss</td>\n",
       "      <td>1</td>\n",
       "      <td>1</td>\n",
       "    </tr>\n",
       "    <tr>\n",
       "      <th>3</th>\n",
       "      <td>4</td>\n",
       "      <td>1</td>\n",
       "      <td>1</td>\n",
       "      <td>Futrelle, Mrs. Jacques Heath (Lily May Peel)</td>\n",
       "      <td>female</td>\n",
       "      <td>35.0</td>\n",
       "      <td>1</td>\n",
       "      <td>0</td>\n",
       "      <td>113803</td>\n",
       "      <td>53.1000</td>\n",
       "      <td>C123</td>\n",
       "      <td>S</td>\n",
       "      <td>adult</td>\n",
       "      <td>Mrs</td>\n",
       "      <td>2</td>\n",
       "      <td>0</td>\n",
       "    </tr>\n",
       "    <tr>\n",
       "      <th>4</th>\n",
       "      <td>5</td>\n",
       "      <td>0</td>\n",
       "      <td>3</td>\n",
       "      <td>Allen, Mr. William Henry</td>\n",
       "      <td>male</td>\n",
       "      <td>35.0</td>\n",
       "      <td>0</td>\n",
       "      <td>0</td>\n",
       "      <td>373450</td>\n",
       "      <td>8.0500</td>\n",
       "      <td>NaN</td>\n",
       "      <td>S</td>\n",
       "      <td>adult</td>\n",
       "      <td>Mr</td>\n",
       "      <td>1</td>\n",
       "      <td>1</td>\n",
       "    </tr>\n",
       "  </tbody>\n",
       "</table>\n",
       "</div>"
      ]
     },
     "execution_count": 246,
     "metadata": {},
     "output_type": "execute_result"
    }
   ],
   "execution_count": 246
  },
  {
   "metadata": {
    "ExecuteTime": {
     "end_time": "2025-08-06T08:48:09.640296Z",
     "start_time": "2025-08-06T08:48:09.633976Z"
    }
   },
   "cell_type": "code",
   "source": [
    "def extract_deck(df):\n",
    "    df['Deck'] = df['Cabin'].apply(lambda s: s[0] if pd.notnull(s) else 'M')\n",
    "    df['Deck']=df['Deck'].replace(['A','B','C'],'ABC')\n",
    "    df['Deck']=df['Deck'].replace(['D','E'],'DE')\n",
    "    df['Deck']=df['Deck'].replace(['F','G'],'FG')"
   ],
   "id": "e587d940588164fb",
   "outputs": [],
   "execution_count": 247
  },
  {
   "metadata": {
    "ExecuteTime": {
     "end_time": "2025-08-06T08:48:09.834194Z",
     "start_time": "2025-08-06T08:48:09.821619Z"
    }
   },
   "cell_type": "code",
   "source": [
    "extract_deck(train_df)\n",
    "extract_deck(test_df)"
   ],
   "id": "b24e631a976a94f",
   "outputs": [],
   "execution_count": 248
  },
  {
   "metadata": {
    "ExecuteTime": {
     "end_time": "2025-08-06T08:48:09.981292Z",
     "start_time": "2025-08-06T08:48:09.959796Z"
    }
   },
   "cell_type": "code",
   "source": "train_df.head()",
   "id": "b55ff1b20988734",
   "outputs": [
    {
     "data": {
      "text/plain": [
       "   PassengerId  Survived  Pclass  \\\n",
       "0            1         0       3   \n",
       "1            2         1       1   \n",
       "2            3         1       3   \n",
       "3            4         1       1   \n",
       "4            5         0       3   \n",
       "\n",
       "                                                Name     Sex   Age  SibSp  \\\n",
       "0                            Braund, Mr. Owen Harris    male  22.0      1   \n",
       "1  Cumings, Mrs. John Bradley (Florence Briggs Th...  female  38.0      1   \n",
       "2                             Heikkinen, Miss. Laina  female  26.0      0   \n",
       "3       Futrelle, Mrs. Jacques Heath (Lily May Peel)  female  35.0      1   \n",
       "4                           Allen, Mr. William Henry    male  35.0      0   \n",
       "\n",
       "   Parch            Ticket     Fare Cabin Embarked AgeGroup Title  FamilySize  \\\n",
       "0      0         A/5 21171   7.2500   NaN        S    adult    Mr           2   \n",
       "1      0          PC 17599  71.2833   C85        C    adult   Mrs           2   \n",
       "2      0  STON/O2. 3101282   7.9250   NaN        S    adult  Miss           1   \n",
       "3      0            113803  53.1000  C123        S    adult   Mrs           2   \n",
       "4      0            373450   8.0500   NaN        S    adult    Mr           1   \n",
       "\n",
       "   IsAlone Deck  \n",
       "0        0    M  \n",
       "1        0  ABC  \n",
       "2        1    M  \n",
       "3        0  ABC  \n",
       "4        1    M  "
      ],
      "text/html": [
       "<div>\n",
       "<style scoped>\n",
       "    .dataframe tbody tr th:only-of-type {\n",
       "        vertical-align: middle;\n",
       "    }\n",
       "\n",
       "    .dataframe tbody tr th {\n",
       "        vertical-align: top;\n",
       "    }\n",
       "\n",
       "    .dataframe thead th {\n",
       "        text-align: right;\n",
       "    }\n",
       "</style>\n",
       "<table border=\"1\" class=\"dataframe\">\n",
       "  <thead>\n",
       "    <tr style=\"text-align: right;\">\n",
       "      <th></th>\n",
       "      <th>PassengerId</th>\n",
       "      <th>Survived</th>\n",
       "      <th>Pclass</th>\n",
       "      <th>Name</th>\n",
       "      <th>Sex</th>\n",
       "      <th>Age</th>\n",
       "      <th>SibSp</th>\n",
       "      <th>Parch</th>\n",
       "      <th>Ticket</th>\n",
       "      <th>Fare</th>\n",
       "      <th>Cabin</th>\n",
       "      <th>Embarked</th>\n",
       "      <th>AgeGroup</th>\n",
       "      <th>Title</th>\n",
       "      <th>FamilySize</th>\n",
       "      <th>IsAlone</th>\n",
       "      <th>Deck</th>\n",
       "    </tr>\n",
       "  </thead>\n",
       "  <tbody>\n",
       "    <tr>\n",
       "      <th>0</th>\n",
       "      <td>1</td>\n",
       "      <td>0</td>\n",
       "      <td>3</td>\n",
       "      <td>Braund, Mr. Owen Harris</td>\n",
       "      <td>male</td>\n",
       "      <td>22.0</td>\n",
       "      <td>1</td>\n",
       "      <td>0</td>\n",
       "      <td>A/5 21171</td>\n",
       "      <td>7.2500</td>\n",
       "      <td>NaN</td>\n",
       "      <td>S</td>\n",
       "      <td>adult</td>\n",
       "      <td>Mr</td>\n",
       "      <td>2</td>\n",
       "      <td>0</td>\n",
       "      <td>M</td>\n",
       "    </tr>\n",
       "    <tr>\n",
       "      <th>1</th>\n",
       "      <td>2</td>\n",
       "      <td>1</td>\n",
       "      <td>1</td>\n",
       "      <td>Cumings, Mrs. John Bradley (Florence Briggs Th...</td>\n",
       "      <td>female</td>\n",
       "      <td>38.0</td>\n",
       "      <td>1</td>\n",
       "      <td>0</td>\n",
       "      <td>PC 17599</td>\n",
       "      <td>71.2833</td>\n",
       "      <td>C85</td>\n",
       "      <td>C</td>\n",
       "      <td>adult</td>\n",
       "      <td>Mrs</td>\n",
       "      <td>2</td>\n",
       "      <td>0</td>\n",
       "      <td>ABC</td>\n",
       "    </tr>\n",
       "    <tr>\n",
       "      <th>2</th>\n",
       "      <td>3</td>\n",
       "      <td>1</td>\n",
       "      <td>3</td>\n",
       "      <td>Heikkinen, Miss. Laina</td>\n",
       "      <td>female</td>\n",
       "      <td>26.0</td>\n",
       "      <td>0</td>\n",
       "      <td>0</td>\n",
       "      <td>STON/O2. 3101282</td>\n",
       "      <td>7.9250</td>\n",
       "      <td>NaN</td>\n",
       "      <td>S</td>\n",
       "      <td>adult</td>\n",
       "      <td>Miss</td>\n",
       "      <td>1</td>\n",
       "      <td>1</td>\n",
       "      <td>M</td>\n",
       "    </tr>\n",
       "    <tr>\n",
       "      <th>3</th>\n",
       "      <td>4</td>\n",
       "      <td>1</td>\n",
       "      <td>1</td>\n",
       "      <td>Futrelle, Mrs. Jacques Heath (Lily May Peel)</td>\n",
       "      <td>female</td>\n",
       "      <td>35.0</td>\n",
       "      <td>1</td>\n",
       "      <td>0</td>\n",
       "      <td>113803</td>\n",
       "      <td>53.1000</td>\n",
       "      <td>C123</td>\n",
       "      <td>S</td>\n",
       "      <td>adult</td>\n",
       "      <td>Mrs</td>\n",
       "      <td>2</td>\n",
       "      <td>0</td>\n",
       "      <td>ABC</td>\n",
       "    </tr>\n",
       "    <tr>\n",
       "      <th>4</th>\n",
       "      <td>5</td>\n",
       "      <td>0</td>\n",
       "      <td>3</td>\n",
       "      <td>Allen, Mr. William Henry</td>\n",
       "      <td>male</td>\n",
       "      <td>35.0</td>\n",
       "      <td>0</td>\n",
       "      <td>0</td>\n",
       "      <td>373450</td>\n",
       "      <td>8.0500</td>\n",
       "      <td>NaN</td>\n",
       "      <td>S</td>\n",
       "      <td>adult</td>\n",
       "      <td>Mr</td>\n",
       "      <td>1</td>\n",
       "      <td>1</td>\n",
       "      <td>M</td>\n",
       "    </tr>\n",
       "  </tbody>\n",
       "</table>\n",
       "</div>"
      ]
     },
     "execution_count": 249,
     "metadata": {},
     "output_type": "execute_result"
    }
   ],
   "execution_count": 249
  },
  {
   "metadata": {
    "ExecuteTime": {
     "end_time": "2025-08-06T08:48:10.203240Z",
     "start_time": "2025-08-06T08:48:10.179827Z"
    }
   },
   "cell_type": "code",
   "source": "test_df.head()",
   "id": "5bc489071a517d40",
   "outputs": [
    {
     "data": {
      "text/plain": [
       "   PassengerId  Pclass                                          Name     Sex  \\\n",
       "0          892       3                              Kelly, Mr. James    male   \n",
       "1          893       3              Wilkes, Mrs. James (Ellen Needs)  female   \n",
       "2          894       2                     Myles, Mr. Thomas Francis    male   \n",
       "3          895       3                              Wirz, Mr. Albert    male   \n",
       "4          896       3  Hirvonen, Mrs. Alexander (Helga E Lindqvist)  female   \n",
       "\n",
       "    Age  SibSp  Parch   Ticket     Fare Cabin Embarked AgeGroup Title  \\\n",
       "0  34.5      0      0   330911   7.8292   NaN        Q    adult    Mr   \n",
       "1  47.0      1      0   363272   7.0000   NaN        S    adult   Mrs   \n",
       "2  62.0      0      0   240276   9.6875   NaN        Q    adult    Mr   \n",
       "3  27.0      0      0   315154   8.6625   NaN        S    adult    Mr   \n",
       "4  22.0      1      1  3101298  12.2875   NaN        S    adult   Mrs   \n",
       "\n",
       "   FamilySize  IsAlone Deck  \n",
       "0           1        1    M  \n",
       "1           2        0    M  \n",
       "2           1        1    M  \n",
       "3           1        1    M  \n",
       "4           3        0    M  "
      ],
      "text/html": [
       "<div>\n",
       "<style scoped>\n",
       "    .dataframe tbody tr th:only-of-type {\n",
       "        vertical-align: middle;\n",
       "    }\n",
       "\n",
       "    .dataframe tbody tr th {\n",
       "        vertical-align: top;\n",
       "    }\n",
       "\n",
       "    .dataframe thead th {\n",
       "        text-align: right;\n",
       "    }\n",
       "</style>\n",
       "<table border=\"1\" class=\"dataframe\">\n",
       "  <thead>\n",
       "    <tr style=\"text-align: right;\">\n",
       "      <th></th>\n",
       "      <th>PassengerId</th>\n",
       "      <th>Pclass</th>\n",
       "      <th>Name</th>\n",
       "      <th>Sex</th>\n",
       "      <th>Age</th>\n",
       "      <th>SibSp</th>\n",
       "      <th>Parch</th>\n",
       "      <th>Ticket</th>\n",
       "      <th>Fare</th>\n",
       "      <th>Cabin</th>\n",
       "      <th>Embarked</th>\n",
       "      <th>AgeGroup</th>\n",
       "      <th>Title</th>\n",
       "      <th>FamilySize</th>\n",
       "      <th>IsAlone</th>\n",
       "      <th>Deck</th>\n",
       "    </tr>\n",
       "  </thead>\n",
       "  <tbody>\n",
       "    <tr>\n",
       "      <th>0</th>\n",
       "      <td>892</td>\n",
       "      <td>3</td>\n",
       "      <td>Kelly, Mr. James</td>\n",
       "      <td>male</td>\n",
       "      <td>34.5</td>\n",
       "      <td>0</td>\n",
       "      <td>0</td>\n",
       "      <td>330911</td>\n",
       "      <td>7.8292</td>\n",
       "      <td>NaN</td>\n",
       "      <td>Q</td>\n",
       "      <td>adult</td>\n",
       "      <td>Mr</td>\n",
       "      <td>1</td>\n",
       "      <td>1</td>\n",
       "      <td>M</td>\n",
       "    </tr>\n",
       "    <tr>\n",
       "      <th>1</th>\n",
       "      <td>893</td>\n",
       "      <td>3</td>\n",
       "      <td>Wilkes, Mrs. James (Ellen Needs)</td>\n",
       "      <td>female</td>\n",
       "      <td>47.0</td>\n",
       "      <td>1</td>\n",
       "      <td>0</td>\n",
       "      <td>363272</td>\n",
       "      <td>7.0000</td>\n",
       "      <td>NaN</td>\n",
       "      <td>S</td>\n",
       "      <td>adult</td>\n",
       "      <td>Mrs</td>\n",
       "      <td>2</td>\n",
       "      <td>0</td>\n",
       "      <td>M</td>\n",
       "    </tr>\n",
       "    <tr>\n",
       "      <th>2</th>\n",
       "      <td>894</td>\n",
       "      <td>2</td>\n",
       "      <td>Myles, Mr. Thomas Francis</td>\n",
       "      <td>male</td>\n",
       "      <td>62.0</td>\n",
       "      <td>0</td>\n",
       "      <td>0</td>\n",
       "      <td>240276</td>\n",
       "      <td>9.6875</td>\n",
       "      <td>NaN</td>\n",
       "      <td>Q</td>\n",
       "      <td>adult</td>\n",
       "      <td>Mr</td>\n",
       "      <td>1</td>\n",
       "      <td>1</td>\n",
       "      <td>M</td>\n",
       "    </tr>\n",
       "    <tr>\n",
       "      <th>3</th>\n",
       "      <td>895</td>\n",
       "      <td>3</td>\n",
       "      <td>Wirz, Mr. Albert</td>\n",
       "      <td>male</td>\n",
       "      <td>27.0</td>\n",
       "      <td>0</td>\n",
       "      <td>0</td>\n",
       "      <td>315154</td>\n",
       "      <td>8.6625</td>\n",
       "      <td>NaN</td>\n",
       "      <td>S</td>\n",
       "      <td>adult</td>\n",
       "      <td>Mr</td>\n",
       "      <td>1</td>\n",
       "      <td>1</td>\n",
       "      <td>M</td>\n",
       "    </tr>\n",
       "    <tr>\n",
       "      <th>4</th>\n",
       "      <td>896</td>\n",
       "      <td>3</td>\n",
       "      <td>Hirvonen, Mrs. Alexander (Helga E Lindqvist)</td>\n",
       "      <td>female</td>\n",
       "      <td>22.0</td>\n",
       "      <td>1</td>\n",
       "      <td>1</td>\n",
       "      <td>3101298</td>\n",
       "      <td>12.2875</td>\n",
       "      <td>NaN</td>\n",
       "      <td>S</td>\n",
       "      <td>adult</td>\n",
       "      <td>Mrs</td>\n",
       "      <td>3</td>\n",
       "      <td>0</td>\n",
       "      <td>M</td>\n",
       "    </tr>\n",
       "  </tbody>\n",
       "</table>\n",
       "</div>"
      ]
     },
     "execution_count": 250,
     "metadata": {},
     "output_type": "execute_result"
    }
   ],
   "execution_count": 250
  },
  {
   "metadata": {
    "ExecuteTime": {
     "end_time": "2025-08-06T08:48:10.990101Z",
     "start_time": "2025-08-06T08:48:10.980961Z"
    }
   },
   "cell_type": "code",
   "source": "test_df.isna().sum()",
   "id": "fb20ebfedcf0410b",
   "outputs": [
    {
     "data": {
      "text/plain": [
       "PassengerId      0\n",
       "Pclass           0\n",
       "Name             0\n",
       "Sex              0\n",
       "Age              0\n",
       "SibSp            0\n",
       "Parch            0\n",
       "Ticket           0\n",
       "Fare             1\n",
       "Cabin          327\n",
       "Embarked         0\n",
       "AgeGroup        83\n",
       "Title            0\n",
       "FamilySize       0\n",
       "IsAlone          0\n",
       "Deck             0\n",
       "dtype: int64"
      ]
     },
     "execution_count": 251,
     "metadata": {},
     "output_type": "execute_result"
    }
   ],
   "execution_count": 251
  },
  {
   "metadata": {},
   "cell_type": "markdown",
   "source": "# Data Preprocessing",
   "id": "3f0a5fd8d490785a"
  },
  {
   "metadata": {
    "ExecuteTime": {
     "end_time": "2025-08-06T08:48:11.618991Z",
     "start_time": "2025-08-06T08:48:11.591277Z"
    }
   },
   "cell_type": "code",
   "source": [
    "#Identifying Missing Values\n",
    "df1=(train_df.isnull().sum()[train_df.isnull().sum()>0]).to_frame().rename(columns={'0':'No of Missing Values'})\n",
    "df1['% of Missing Values']=round((100*train_df.isnull().sum()[train_df.isnull().sum()>0]/len(train_df)),2)\n",
    "df1.sort_values(by='% of Missing Values', ascending=False, inplace=True)\n",
    "df1"
   ],
   "id": "9a267fcf72c10717",
   "outputs": [
    {
     "data": {
      "text/plain": [
       "            0  % of Missing Values\n",
       "Cabin     687                77.10\n",
       "AgeGroup  177                19.87\n",
       "Embarked    2                 0.22"
      ],
      "text/html": [
       "<div>\n",
       "<style scoped>\n",
       "    .dataframe tbody tr th:only-of-type {\n",
       "        vertical-align: middle;\n",
       "    }\n",
       "\n",
       "    .dataframe tbody tr th {\n",
       "        vertical-align: top;\n",
       "    }\n",
       "\n",
       "    .dataframe thead th {\n",
       "        text-align: right;\n",
       "    }\n",
       "</style>\n",
       "<table border=\"1\" class=\"dataframe\">\n",
       "  <thead>\n",
       "    <tr style=\"text-align: right;\">\n",
       "      <th></th>\n",
       "      <th>0</th>\n",
       "      <th>% of Missing Values</th>\n",
       "    </tr>\n",
       "  </thead>\n",
       "  <tbody>\n",
       "    <tr>\n",
       "      <th>Cabin</th>\n",
       "      <td>687</td>\n",
       "      <td>77.10</td>\n",
       "    </tr>\n",
       "    <tr>\n",
       "      <th>AgeGroup</th>\n",
       "      <td>177</td>\n",
       "      <td>19.87</td>\n",
       "    </tr>\n",
       "    <tr>\n",
       "      <th>Embarked</th>\n",
       "      <td>2</td>\n",
       "      <td>0.22</td>\n",
       "    </tr>\n",
       "  </tbody>\n",
       "</table>\n",
       "</div>"
      ]
     },
     "execution_count": 252,
     "metadata": {},
     "output_type": "execute_result"
    }
   ],
   "execution_count": 252
  },
  {
   "metadata": {
    "ExecuteTime": {
     "end_time": "2025-08-06T08:48:11.871450Z",
     "start_time": "2025-08-06T08:48:11.864455Z"
    }
   },
   "cell_type": "code",
   "source": [
    "#Copying passenger id of test csv as we need it in future\n",
    "pass_df=test_df[[\"PassengerId\"]]"
   ],
   "id": "2339ace639f6dbc2",
   "outputs": [],
   "execution_count": 253
  },
  {
   "metadata": {
    "ExecuteTime": {
     "end_time": "2025-08-06T08:48:12.004660Z",
     "start_time": "2025-08-06T08:48:11.992902Z"
    }
   },
   "cell_type": "code",
   "source": [
    "#Dropping Unncessary cols\n",
    "def drop_columns(df):\n",
    "    cols_to_drop=['PassengerId','Name','Ticket','Cabin']\n",
    "    for col in cols_to_drop:\n",
    "        df.drop(columns=[col],inplace=True)\n"
   ],
   "id": "62fd4d2c2f38c7a3",
   "outputs": [],
   "execution_count": 254
  },
  {
   "metadata": {
    "ExecuteTime": {
     "end_time": "2025-08-06T08:48:12.065346Z",
     "start_time": "2025-08-06T08:48:12.052965Z"
    }
   },
   "cell_type": "code",
   "source": [
    "drop_columns(train_df)\n",
    "drop_columns(test_df)"
   ],
   "id": "8c005ce6ae70df10",
   "outputs": [],
   "execution_count": 255
  },
  {
   "metadata": {
    "ExecuteTime": {
     "end_time": "2025-08-06T08:48:12.143861Z",
     "start_time": "2025-08-06T08:48:12.123407Z"
    }
   },
   "cell_type": "code",
   "source": "train_df.head()",
   "id": "a21f6c72836db5e8",
   "outputs": [
    {
     "data": {
      "text/plain": [
       "   Survived  Pclass     Sex   Age  SibSp  Parch     Fare Embarked AgeGroup  \\\n",
       "0         0       3    male  22.0      1      0   7.2500        S    adult   \n",
       "1         1       1  female  38.0      1      0  71.2833        C    adult   \n",
       "2         1       3  female  26.0      0      0   7.9250        S    adult   \n",
       "3         1       1  female  35.0      1      0  53.1000        S    adult   \n",
       "4         0       3    male  35.0      0      0   8.0500        S    adult   \n",
       "\n",
       "  Title  FamilySize  IsAlone Deck  \n",
       "0    Mr           2        0    M  \n",
       "1   Mrs           2        0  ABC  \n",
       "2  Miss           1        1    M  \n",
       "3   Mrs           2        0  ABC  \n",
       "4    Mr           1        1    M  "
      ],
      "text/html": [
       "<div>\n",
       "<style scoped>\n",
       "    .dataframe tbody tr th:only-of-type {\n",
       "        vertical-align: middle;\n",
       "    }\n",
       "\n",
       "    .dataframe tbody tr th {\n",
       "        vertical-align: top;\n",
       "    }\n",
       "\n",
       "    .dataframe thead th {\n",
       "        text-align: right;\n",
       "    }\n",
       "</style>\n",
       "<table border=\"1\" class=\"dataframe\">\n",
       "  <thead>\n",
       "    <tr style=\"text-align: right;\">\n",
       "      <th></th>\n",
       "      <th>Survived</th>\n",
       "      <th>Pclass</th>\n",
       "      <th>Sex</th>\n",
       "      <th>Age</th>\n",
       "      <th>SibSp</th>\n",
       "      <th>Parch</th>\n",
       "      <th>Fare</th>\n",
       "      <th>Embarked</th>\n",
       "      <th>AgeGroup</th>\n",
       "      <th>Title</th>\n",
       "      <th>FamilySize</th>\n",
       "      <th>IsAlone</th>\n",
       "      <th>Deck</th>\n",
       "    </tr>\n",
       "  </thead>\n",
       "  <tbody>\n",
       "    <tr>\n",
       "      <th>0</th>\n",
       "      <td>0</td>\n",
       "      <td>3</td>\n",
       "      <td>male</td>\n",
       "      <td>22.0</td>\n",
       "      <td>1</td>\n",
       "      <td>0</td>\n",
       "      <td>7.2500</td>\n",
       "      <td>S</td>\n",
       "      <td>adult</td>\n",
       "      <td>Mr</td>\n",
       "      <td>2</td>\n",
       "      <td>0</td>\n",
       "      <td>M</td>\n",
       "    </tr>\n",
       "    <tr>\n",
       "      <th>1</th>\n",
       "      <td>1</td>\n",
       "      <td>1</td>\n",
       "      <td>female</td>\n",
       "      <td>38.0</td>\n",
       "      <td>1</td>\n",
       "      <td>0</td>\n",
       "      <td>71.2833</td>\n",
       "      <td>C</td>\n",
       "      <td>adult</td>\n",
       "      <td>Mrs</td>\n",
       "      <td>2</td>\n",
       "      <td>0</td>\n",
       "      <td>ABC</td>\n",
       "    </tr>\n",
       "    <tr>\n",
       "      <th>2</th>\n",
       "      <td>1</td>\n",
       "      <td>3</td>\n",
       "      <td>female</td>\n",
       "      <td>26.0</td>\n",
       "      <td>0</td>\n",
       "      <td>0</td>\n",
       "      <td>7.9250</td>\n",
       "      <td>S</td>\n",
       "      <td>adult</td>\n",
       "      <td>Miss</td>\n",
       "      <td>1</td>\n",
       "      <td>1</td>\n",
       "      <td>M</td>\n",
       "    </tr>\n",
       "    <tr>\n",
       "      <th>3</th>\n",
       "      <td>1</td>\n",
       "      <td>1</td>\n",
       "      <td>female</td>\n",
       "      <td>35.0</td>\n",
       "      <td>1</td>\n",
       "      <td>0</td>\n",
       "      <td>53.1000</td>\n",
       "      <td>S</td>\n",
       "      <td>adult</td>\n",
       "      <td>Mrs</td>\n",
       "      <td>2</td>\n",
       "      <td>0</td>\n",
       "      <td>ABC</td>\n",
       "    </tr>\n",
       "    <tr>\n",
       "      <th>4</th>\n",
       "      <td>0</td>\n",
       "      <td>3</td>\n",
       "      <td>male</td>\n",
       "      <td>35.0</td>\n",
       "      <td>0</td>\n",
       "      <td>0</td>\n",
       "      <td>8.0500</td>\n",
       "      <td>S</td>\n",
       "      <td>adult</td>\n",
       "      <td>Mr</td>\n",
       "      <td>1</td>\n",
       "      <td>1</td>\n",
       "      <td>M</td>\n",
       "    </tr>\n",
       "  </tbody>\n",
       "</table>\n",
       "</div>"
      ]
     },
     "execution_count": 256,
     "metadata": {},
     "output_type": "execute_result"
    }
   ],
   "execution_count": 256
  },
  {
   "metadata": {
    "ExecuteTime": {
     "end_time": "2025-08-06T08:48:12.367308Z",
     "start_time": "2025-08-06T08:48:12.352018Z"
    }
   },
   "cell_type": "code",
   "source": "train_df.info()",
   "id": "992cbc01742c0322",
   "outputs": [
    {
     "name": "stdout",
     "output_type": "stream",
     "text": [
      "<class 'pandas.core.frame.DataFrame'>\n",
      "RangeIndex: 891 entries, 0 to 890\n",
      "Data columns (total 13 columns):\n",
      " #   Column      Non-Null Count  Dtype   \n",
      "---  ------      --------------  -----   \n",
      " 0   Survived    891 non-null    int64   \n",
      " 1   Pclass      891 non-null    int64   \n",
      " 2   Sex         891 non-null    object  \n",
      " 3   Age         891 non-null    float64 \n",
      " 4   SibSp       891 non-null    int64   \n",
      " 5   Parch       891 non-null    int64   \n",
      " 6   Fare        891 non-null    float64 \n",
      " 7   Embarked    889 non-null    object  \n",
      " 8   AgeGroup    714 non-null    category\n",
      " 9   Title       891 non-null    object  \n",
      " 10  FamilySize  891 non-null    int64   \n",
      " 11  IsAlone     891 non-null    int64   \n",
      " 12  Deck        891 non-null    object  \n",
      "dtypes: category(1), float64(2), int64(6), object(4)\n",
      "memory usage: 84.7+ KB\n"
     ]
    }
   ],
   "execution_count": 257
  },
  {
   "metadata": {
    "ExecuteTime": {
     "end_time": "2025-08-06T08:48:12.703015Z",
     "start_time": "2025-08-06T08:48:12.687782Z"
    }
   },
   "cell_type": "code",
   "source": "test_df.info()",
   "id": "6b2cc0c6e6997cc8",
   "outputs": [
    {
     "name": "stdout",
     "output_type": "stream",
     "text": [
      "<class 'pandas.core.frame.DataFrame'>\n",
      "RangeIndex: 418 entries, 0 to 417\n",
      "Data columns (total 12 columns):\n",
      " #   Column      Non-Null Count  Dtype   \n",
      "---  ------      --------------  -----   \n",
      " 0   Pclass      418 non-null    int64   \n",
      " 1   Sex         418 non-null    object  \n",
      " 2   Age         418 non-null    float64 \n",
      " 3   SibSp       418 non-null    int64   \n",
      " 4   Parch       418 non-null    int64   \n",
      " 5   Fare        417 non-null    float64 \n",
      " 6   Embarked    418 non-null    object  \n",
      " 7   AgeGroup    335 non-null    category\n",
      " 8   Title       418 non-null    object  \n",
      " 9   FamilySize  418 non-null    int64   \n",
      " 10  IsAlone     418 non-null    int64   \n",
      " 11  Deck        418 non-null    object  \n",
      "dtypes: category(1), float64(2), int64(5), object(4)\n",
      "memory usage: 36.7+ KB\n"
     ]
    }
   ],
   "execution_count": 258
  },
  {
   "metadata": {
    "ExecuteTime": {
     "end_time": "2025-08-06T08:48:12.789108Z",
     "start_time": "2025-08-06T08:48:12.779162Z"
    }
   },
   "cell_type": "code",
   "source": [
    "#Imputing Missing Values\n",
    "cat_cols=train_df.select_dtypes(include=['object','category']).columns.tolist()\n",
    "num_cols=train_df.select_dtypes(include=['int64','float64']).columns.tolist()"
   ],
   "id": "4cf662ce535f4c71",
   "outputs": [],
   "execution_count": 259
  },
  {
   "metadata": {
    "ExecuteTime": {
     "end_time": "2025-08-06T08:48:12.861601Z",
     "start_time": "2025-08-06T08:48:12.852878Z"
    }
   },
   "cell_type": "code",
   "source": "print(cat_cols)",
   "id": "260acf6055a75ba5",
   "outputs": [
    {
     "name": "stdout",
     "output_type": "stream",
     "text": [
      "['Sex', 'Embarked', 'AgeGroup', 'Title', 'Deck']\n"
     ]
    }
   ],
   "execution_count": 260
  },
  {
   "metadata": {
    "ExecuteTime": {
     "end_time": "2025-08-06T08:48:12.995207Z",
     "start_time": "2025-08-06T08:48:12.982319Z"
    }
   },
   "cell_type": "code",
   "source": "print(num_cols)",
   "id": "87da81694535573",
   "outputs": [
    {
     "name": "stdout",
     "output_type": "stream",
     "text": [
      "['Survived', 'Pclass', 'Age', 'SibSp', 'Parch', 'Fare', 'FamilySize', 'IsAlone']\n"
     ]
    }
   ],
   "execution_count": 261
  },
  {
   "metadata": {
    "ExecuteTime": {
     "end_time": "2025-08-06T08:48:13.125649Z",
     "start_time": "2025-08-06T08:48:13.107233Z"
    }
   },
   "cell_type": "code",
   "source": "num_cols.remove('Survived')",
   "id": "9a76b20d40ee87e4",
   "outputs": [],
   "execution_count": 262
  },
  {
   "metadata": {},
   "cell_type": "markdown",
   "source": "### Imputing Missing Values",
   "id": "6aa0cb252d818c7a"
  },
  {
   "metadata": {
    "ExecuteTime": {
     "end_time": "2025-08-06T08:48:13.190584Z",
     "start_time": "2025-08-06T08:48:13.181505Z"
    }
   },
   "cell_type": "code",
   "source": [
    "imputer1=SimpleImputer(strategy='most_frequent')\n",
    "imputer2=SimpleImputer(strategy='median')\n",
    "def fill_missing(df):\n",
    "    df[cat_cols] = imputer1.fit_transform(df[cat_cols])\n",
    "    df[num_cols] = imputer2.fit_transform(df[num_cols])\n"
   ],
   "id": "2de9c41ab46ae438",
   "outputs": [],
   "execution_count": 263
  },
  {
   "metadata": {
    "ExecuteTime": {
     "end_time": "2025-08-06T08:48:13.289481Z",
     "start_time": "2025-08-06T08:48:13.251572Z"
    }
   },
   "cell_type": "code",
   "source": [
    "fill_missing(train_df)\n",
    "fill_missing(test_df)"
   ],
   "id": "8996ff56555c9b03",
   "outputs": [],
   "execution_count": 264
  },
  {
   "metadata": {
    "ExecuteTime": {
     "end_time": "2025-08-06T08:48:13.332595Z",
     "start_time": "2025-08-06T08:48:13.323771Z"
    }
   },
   "cell_type": "code",
   "source": "train_df.isnull().sum()[train_df.isnull().sum().sum()]",
   "id": "c976a1279de1cfc5",
   "outputs": [
    {
     "data": {
      "text/plain": [
       "0"
      ]
     },
     "execution_count": 265,
     "metadata": {},
     "output_type": "execute_result"
    }
   ],
   "execution_count": 265
  },
  {
   "metadata": {
    "ExecuteTime": {
     "end_time": "2025-08-06T08:48:13.407998Z",
     "start_time": "2025-08-06T08:48:13.398972Z"
    }
   },
   "cell_type": "code",
   "source": "test_df.isnull().sum()[test_df.isnull().sum().sum()]",
   "id": "881f9e9d48624f90",
   "outputs": [
    {
     "data": {
      "text/plain": [
       "0"
      ]
     },
     "execution_count": 266,
     "metadata": {},
     "output_type": "execute_result"
    }
   ],
   "execution_count": 266
  },
  {
   "metadata": {},
   "cell_type": "markdown",
   "source": "### Checking high Cardinality Values",
   "id": "887db4ab7620d4c7"
  },
  {
   "metadata": {
    "ExecuteTime": {
     "end_time": "2025-08-06T08:48:13.444330Z",
     "start_time": "2025-08-06T08:48:13.435589Z"
    }
   },
   "cell_type": "code",
   "source": [
    "print(\"Cardinality of features in numerical data is: \")\n",
    "print(train_df.select_dtypes(include=[\"object\"]).nunique())\n",
    "print(\"\\n\",\"-\"*50)\n",
    "print(\"\\nCardinality of features in categorical data is: \")\n",
    "print(test_df.select_dtypes(include=[\"object\"]).nunique())"
   ],
   "id": "3d1ef2aa28b9eaf3",
   "outputs": [
    {
     "name": "stdout",
     "output_type": "stream",
     "text": [
      "Cardinality of features in numerical data is: \n",
      "Sex         2\n",
      "Embarked    3\n",
      "AgeGroup    4\n",
      "Title       6\n",
      "Deck        5\n",
      "dtype: int64\n",
      "\n",
      " --------------------------------------------------\n",
      "\n",
      "Cardinality of features in categorical data is: \n",
      "Sex         2\n",
      "Embarked    3\n",
      "AgeGroup    4\n",
      "Title       6\n",
      "Deck        4\n",
      "dtype: int64\n"
     ]
    }
   ],
   "execution_count": 267
  },
  {
   "metadata": {
    "ExecuteTime": {
     "end_time": "2025-08-06T08:48:13.556164Z",
     "start_time": "2025-08-06T08:48:13.546681Z"
    }
   },
   "cell_type": "code",
   "source": "train_df.info()",
   "id": "ccaca5d3d794d420",
   "outputs": [
    {
     "name": "stdout",
     "output_type": "stream",
     "text": [
      "<class 'pandas.core.frame.DataFrame'>\n",
      "RangeIndex: 891 entries, 0 to 890\n",
      "Data columns (total 13 columns):\n",
      " #   Column      Non-Null Count  Dtype  \n",
      "---  ------      --------------  -----  \n",
      " 0   Survived    891 non-null    int64  \n",
      " 1   Pclass      891 non-null    float64\n",
      " 2   Sex         891 non-null    object \n",
      " 3   Age         891 non-null    float64\n",
      " 4   SibSp       891 non-null    float64\n",
      " 5   Parch       891 non-null    float64\n",
      " 6   Fare        891 non-null    float64\n",
      " 7   Embarked    891 non-null    object \n",
      " 8   AgeGroup    891 non-null    object \n",
      " 9   Title       891 non-null    object \n",
      " 10  FamilySize  891 non-null    float64\n",
      " 11  IsAlone     891 non-null    float64\n",
      " 12  Deck        891 non-null    object \n",
      "dtypes: float64(7), int64(1), object(5)\n",
      "memory usage: 90.6+ KB\n"
     ]
    }
   ],
   "execution_count": 268
  },
  {
   "metadata": {},
   "cell_type": "markdown",
   "source": "### Encoding of variables to be used in Machine Learning Modelling",
   "id": "a5fa411505b69923"
  },
  {
   "metadata": {
    "ExecuteTime": {
     "end_time": "2025-08-06T08:48:13.654022Z",
     "start_time": "2025-08-06T08:48:13.635559Z"
    }
   },
   "cell_type": "code",
   "source": [
    "#Changing of Variables to correct datatype\n",
    "def change_variable(df):\n",
    "    df['IsAlone']=df['IsAlone'].astype('bool')\n",
    "    df['FamilySize']=df['FamilySize'].astype('int')\n",
    "    df['Parch']=df['Parch'].astype('int')\n",
    "    df['SibSp']=df['SibSp'].astype('int')\n",
    "    df['Pclass']=df['Pclass'].astype('int')\n"
   ],
   "id": "7b1a68d4c9cbcd01",
   "outputs": [],
   "execution_count": 269
  },
  {
   "metadata": {
    "ExecuteTime": {
     "end_time": "2025-08-06T08:48:13.723501Z",
     "start_time": "2025-08-06T08:48:13.716196Z"
    }
   },
   "cell_type": "code",
   "source": [
    "change_variable(train_df)\n",
    "change_variable(test_df)"
   ],
   "id": "737f1a0ab3ebf77b",
   "outputs": [],
   "execution_count": 270
  },
  {
   "metadata": {
    "ExecuteTime": {
     "end_time": "2025-08-06T08:48:13.849696Z",
     "start_time": "2025-08-06T08:48:13.840560Z"
    }
   },
   "cell_type": "code",
   "source": [
    "ordinal_cat_cols=['Deck']\n",
    "nominal_cat_cols=['Sex','Embarked','AgeGroup','Title','IsAlone']"
   ],
   "id": "9ef5c8223d66a317",
   "outputs": [],
   "execution_count": 271
  },
  {
   "metadata": {
    "ExecuteTime": {
     "end_time": "2025-08-06T08:48:13.903655Z",
     "start_time": "2025-08-06T08:48:13.880131Z"
    }
   },
   "cell_type": "code",
   "source": [
    "#Encoding Ordinal Columns\n",
    "enc=LabelEncoder()\n",
    "train_df[ordinal_cat_cols]=train_df[ordinal_cat_cols].apply(enc.fit_transform)\n",
    "test_df[ordinal_cat_cols]=test_df[ordinal_cat_cols].apply(enc.fit_transform)\n"
   ],
   "id": "31a02a7cf2cd5b36",
   "outputs": [],
   "execution_count": 272
  },
  {
   "metadata": {
    "ExecuteTime": {
     "end_time": "2025-08-06T08:48:14.004467Z",
     "start_time": "2025-08-06T08:48:13.978446Z"
    }
   },
   "cell_type": "code",
   "source": [
    "#Encoding Nominal Cols\n",
    "train_df=pd.get_dummies(train_df,columns=nominal_cat_cols,dtype=int)\n",
    "test_df=pd.get_dummies(test_df,columns=nominal_cat_cols,dtype=int)"
   ],
   "id": "eb0ee7b2b8d1ab30",
   "outputs": [],
   "execution_count": 273
  },
  {
   "metadata": {},
   "cell_type": "markdown",
   "source": "### Now our training and test datasets are fit to be modelled by our machine learning algorithms",
   "id": "7b8b5d2bc11a3092"
  },
  {
   "metadata": {
    "ExecuteTime": {
     "end_time": "2025-08-06T08:48:14.052985Z",
     "start_time": "2025-08-06T08:48:14.042368Z"
    }
   },
   "cell_type": "code",
   "source": [
    "#Splitting Training and Test Dataset\n",
    "X=train_df.drop(columns=[\"Survived\"],axis=1)\n",
    "y=train_df[\"Survived\"]"
   ],
   "id": "8f4678523fb5da75",
   "outputs": [],
   "execution_count": 274
  },
  {
   "metadata": {
    "ExecuteTime": {
     "end_time": "2025-08-06T08:48:14.110249Z",
     "start_time": "2025-08-06T08:48:14.093005Z"
    }
   },
   "cell_type": "code",
   "source": [
    "#Feature Scaling for Non Tree Algorithms\n",
    "scaler=StandardScaler()\n",
    "X_scaled=scaler.fit_transform(X)\n",
    "test_df_scaled=scaler.fit_transform(test_df)\n"
   ],
   "id": "5db1a49e89c44d19",
   "outputs": [],
   "execution_count": 275
  },
  {
   "metadata": {
    "ExecuteTime": {
     "end_time": "2025-08-06T08:48:14.157210Z",
     "start_time": "2025-08-06T08:48:14.150230Z"
    }
   },
   "cell_type": "code",
   "source": "print(X_scaled)",
   "id": "87f462734f114449",
   "outputs": [
    {
     "name": "stdout",
     "output_type": "stream",
     "text": [
      "[[ 0.82737724 -0.09592825  0.43279337 ... -0.13522468  1.2316449\n",
      "  -1.2316449 ]\n",
      " [-1.56610693  0.80694372  0.43279337 ... -0.13522468  1.2316449\n",
      "  -1.2316449 ]\n",
      " [ 0.82737724  0.12978974 -0.4745452  ... -0.13522468 -0.81192233\n",
      "   0.81192233]\n",
      " ...\n",
      " [ 0.82737724 -1.36559194  0.43279337 ... -0.13522468  1.2316449\n",
      "  -1.2316449 ]\n",
      " [-1.56610693  0.12978974 -0.4745452  ... -0.13522468 -0.81192233\n",
      "   0.81192233]\n",
      " [ 0.82737724  0.46836673 -0.4745452  ... -0.13522468 -0.81192233\n",
      "   0.81192233]]\n"
     ]
    }
   ],
   "execution_count": 276
  },
  {
   "metadata": {
    "ExecuteTime": {
     "end_time": "2025-08-06T08:48:14.294451Z",
     "start_time": "2025-08-06T08:48:14.280567Z"
    }
   },
   "cell_type": "code",
   "source": [
    "#Splitting Data for algorithms which require scaling\n",
    "x_train,x_test,y_train,y_test=train_test_split(X_scaled,y,test_size=0.2,random_state=42)"
   ],
   "id": "e5d3853b8d3733bb",
   "outputs": [],
   "execution_count": 277
  },
  {
   "metadata": {
    "ExecuteTime": {
     "end_time": "2025-08-06T08:48:14.376231Z",
     "start_time": "2025-08-06T08:48:14.368379Z"
    }
   },
   "cell_type": "code",
   "source": "print(x_train.shape,x_test.shape,y_train.shape,y_test.shape)",
   "id": "d0b7c95eb23846ba",
   "outputs": [
    {
     "name": "stdout",
     "output_type": "stream",
     "text": [
      "(712, 24) (179, 24) (712,) (179,)\n"
     ]
    }
   ],
   "execution_count": 278
  },
  {
   "metadata": {
    "ExecuteTime": {
     "end_time": "2025-08-06T08:48:14.551394Z",
     "start_time": "2025-08-06T08:48:14.534838Z"
    }
   },
   "cell_type": "code",
   "source": "x_train1,x_test1,y_train1,y_test1=train_test_split(X,y,test_size=0.2,random_state=42)",
   "id": "368cff6955ed15e5",
   "outputs": [],
   "execution_count": 279
  },
  {
   "metadata": {
    "ExecuteTime": {
     "end_time": "2025-08-06T08:48:14.597374Z",
     "start_time": "2025-08-06T08:48:14.592020Z"
    }
   },
   "cell_type": "code",
   "source": "print(x_train1.shape,x_test1.shape,y_train1.shape,y_test1.shape)",
   "id": "2e66b5c65f2f8fcb",
   "outputs": [
    {
     "name": "stdout",
     "output_type": "stream",
     "text": [
      "(712, 24) (179, 24) (712,) (179,)\n"
     ]
    }
   ],
   "execution_count": 280
  },
  {
   "metadata": {
    "ExecuteTime": {
     "end_time": "2025-08-06T08:48:14.681882Z",
     "start_time": "2025-08-06T08:48:14.668468Z"
    }
   },
   "cell_type": "code",
   "source": [
    "params = {\n",
    "'batch_size':[50,100],\n",
    "'epochs':[100,200]\n",
    "}"
   ],
   "id": "f66a7eed608ea570",
   "outputs": [],
   "execution_count": 281
  },
  {
   "metadata": {
    "ExecuteTime": {
     "end_time": "2025-08-06T08:48:14.716605Z",
     "start_time": "2025-08-06T08:48:14.704500Z"
    }
   },
   "cell_type": "code",
   "source": [
    "def build_model():\n",
    "    model=Sequential()\n",
    "    model.add(Dense(units=64,input_dim=24,activation='relu',kernel_initializer='uniform',kernel_regularizer=l1_l2(l1=0.0001,l2=0.00001)))\n",
    "    model.add(Dropout(0.2))\n",
    "    model.add(Dense(units=32,activation='relu',kernel_initializer='uniform',kernel_regularizer=l1_l2(l1=0.0001,l2=0.00001)))\n",
    "    model.add(Dropout(0.2))\n",
    "    model.add(Dense(units=8,activation='relu',kernel_initializer='uniform',kernel_regularizer=l1_l2(l1=0.0001,l2=0.00001)))\n",
    "    model.add(Dropout(0.2))\n",
    "    model.add(Dense(units=1,activation='sigmoid'))\n",
    "    model.compile(loss='binary_crossentropy', optimizer='adam', metrics=['accuracy'])\n",
    "    return model\n",
    "\n",
    "\n"
   ],
   "id": "a59b657b29c302ee",
   "outputs": [],
   "execution_count": 282
  },
  {
   "metadata": {},
   "cell_type": "markdown",
   "source": "### Hyperparameter Tuning",
   "id": "840c9c14725b7552"
  },
  {
   "metadata": {
    "ExecuteTime": {
     "end_time": "2025-08-06T08:48:14.759584Z",
     "start_time": "2025-08-06T08:48:14.752762Z"
    }
   },
   "cell_type": "code",
   "source": [
    "'''\n",
    "hyperparameter_model=KerasClassifier(build_fn=build_model)\n",
    "cv1=RandomizedSearchCV(estimator=hyperparameter_model,param_distributions=params,cv=2,verbose=1,n_jobs=1,random_state=42,n_iter=2)\n",
    "cv1.fit(x_train,y_train)\n",
    "print(cv1.best_params_)\n",
    "print(cv1.best_score_)\n",
    "'''"
   ],
   "id": "114b6db74c08651c",
   "outputs": [
    {
     "data": {
      "text/plain": [
       "'\\nhyperparameter_model=KerasClassifier(build_fn=build_model)\\ncv1=RandomizedSearchCV(estimator=hyperparameter_model,param_distributions=params,cv=2,verbose=1,n_jobs=1,random_state=42,n_iter=2)\\ncv1.fit(x_train,y_train)\\nprint(cv1.best_params_)\\nprint(cv1.best_score_)\\n'"
      ]
     },
     "execution_count": 283,
     "metadata": {},
     "output_type": "execute_result"
    }
   ],
   "execution_count": 283
  },
  {
   "metadata": {},
   "cell_type": "markdown",
   "source": "\n",
   "id": "37dc66a94dcd0e5d"
  },
  {
   "metadata": {
    "ExecuteTime": {
     "end_time": "2025-08-06T08:48:41.968540Z",
     "start_time": "2025-08-06T08:48:14.867086Z"
    }
   },
   "cell_type": "code",
   "source": [
    "model=build_model()\n",
    "model.fit(x_train,y_train,epochs=200,batch_size=100,validation_data=(x_test,y_test))"
   ],
   "id": "ba13055ed422bf9",
   "outputs": [
    {
     "name": "stdout",
     "output_type": "stream",
     "text": [
      "Epoch 1/200\n",
      "\u001B[1m8/8\u001B[0m \u001B[32m━━━━━━━━━━━━━━━━━━━━\u001B[0m\u001B[37m\u001B[0m \u001B[1m2s\u001B[0m 51ms/step - accuracy: 0.5567 - loss: 0.7015 - val_accuracy: 0.5866 - val_loss: 0.6979\n",
      "Epoch 2/200\n",
      "\u001B[1m8/8\u001B[0m \u001B[32m━━━━━━━━━━━━━━━━━━━━\u001B[0m\u001B[37m\u001B[0m \u001B[1m0s\u001B[0m 13ms/step - accuracy: 0.6573 - loss: 0.6951 - val_accuracy: 0.6425 - val_loss: 0.6907\n",
      "Epoch 3/200\n",
      "\u001B[1m8/8\u001B[0m \u001B[32m━━━━━━━━━━━━━━━━━━━━\u001B[0m\u001B[37m\u001B[0m \u001B[1m0s\u001B[0m 14ms/step - accuracy: 0.6957 - loss: 0.6862 - val_accuracy: 0.7430 - val_loss: 0.6768\n",
      "Epoch 4/200\n",
      "\u001B[1m8/8\u001B[0m \u001B[32m━━━━━━━━━━━━━━━━━━━━\u001B[0m\u001B[37m\u001B[0m \u001B[1m0s\u001B[0m 14ms/step - accuracy: 0.7863 - loss: 0.6682 - val_accuracy: 0.8045 - val_loss: 0.6499\n",
      "Epoch 5/200\n",
      "\u001B[1m8/8\u001B[0m \u001B[32m━━━━━━━━━━━━━━━━━━━━\u001B[0m\u001B[37m\u001B[0m \u001B[1m0s\u001B[0m 14ms/step - accuracy: 0.8209 - loss: 0.6365 - val_accuracy: 0.8101 - val_loss: 0.6032\n",
      "Epoch 6/200\n",
      "\u001B[1m8/8\u001B[0m \u001B[32m━━━━━━━━━━━━━━━━━━━━\u001B[0m\u001B[37m\u001B[0m \u001B[1m0s\u001B[0m 13ms/step - accuracy: 0.8354 - loss: 0.5785 - val_accuracy: 0.8045 - val_loss: 0.5417\n",
      "Epoch 7/200\n",
      "\u001B[1m8/8\u001B[0m \u001B[32m━━━━━━━━━━━━━━━━━━━━\u001B[0m\u001B[37m\u001B[0m \u001B[1m0s\u001B[0m 10ms/step - accuracy: 0.8274 - loss: 0.5165 - val_accuracy: 0.7989 - val_loss: 0.4901\n",
      "Epoch 8/200\n",
      "\u001B[1m8/8\u001B[0m \u001B[32m━━━━━━━━━━━━━━━━━━━━\u001B[0m\u001B[37m\u001B[0m \u001B[1m0s\u001B[0m 14ms/step - accuracy: 0.8276 - loss: 0.4999 - val_accuracy: 0.8045 - val_loss: 0.4683\n",
      "Epoch 9/200\n",
      "\u001B[1m8/8\u001B[0m \u001B[32m━━━━━━━━━━━━━━━━━━━━\u001B[0m\u001B[37m\u001B[0m \u001B[1m0s\u001B[0m 23ms/step - accuracy: 0.8235 - loss: 0.4810 - val_accuracy: 0.8045 - val_loss: 0.4591\n",
      "Epoch 10/200\n",
      "\u001B[1m8/8\u001B[0m \u001B[32m━━━━━━━━━━━━━━━━━━━━\u001B[0m\u001B[37m\u001B[0m \u001B[1m0s\u001B[0m 16ms/step - accuracy: 0.8161 - loss: 0.4933 - val_accuracy: 0.8156 - val_loss: 0.4521\n",
      "Epoch 11/200\n",
      "\u001B[1m8/8\u001B[0m \u001B[32m━━━━━━━━━━━━━━━━━━━━\u001B[0m\u001B[37m\u001B[0m \u001B[1m0s\u001B[0m 14ms/step - accuracy: 0.8426 - loss: 0.4624 - val_accuracy: 0.8101 - val_loss: 0.4506\n",
      "Epoch 12/200\n",
      "\u001B[1m8/8\u001B[0m \u001B[32m━━━━━━━━━━━━━━━━━━━━\u001B[0m\u001B[37m\u001B[0m \u001B[1m0s\u001B[0m 15ms/step - accuracy: 0.8414 - loss: 0.4412 - val_accuracy: 0.8101 - val_loss: 0.4546\n",
      "Epoch 13/200\n",
      "\u001B[1m8/8\u001B[0m \u001B[32m━━━━━━━━━━━━━━━━━━━━\u001B[0m\u001B[37m\u001B[0m \u001B[1m0s\u001B[0m 19ms/step - accuracy: 0.8452 - loss: 0.4292 - val_accuracy: 0.8045 - val_loss: 0.4554\n",
      "Epoch 14/200\n",
      "\u001B[1m8/8\u001B[0m \u001B[32m━━━━━━━━━━━━━━━━━━━━\u001B[0m\u001B[37m\u001B[0m \u001B[1m0s\u001B[0m 15ms/step - accuracy: 0.8366 - loss: 0.4365 - val_accuracy: 0.8045 - val_loss: 0.4496\n",
      "Epoch 15/200\n",
      "\u001B[1m8/8\u001B[0m \u001B[32m━━━━━━━━━━━━━━━━━━━━\u001B[0m\u001B[37m\u001B[0m \u001B[1m0s\u001B[0m 11ms/step - accuracy: 0.8476 - loss: 0.4441 - val_accuracy: 0.8156 - val_loss: 0.4472\n",
      "Epoch 16/200\n",
      "\u001B[1m8/8\u001B[0m \u001B[32m━━━━━━━━━━━━━━━━━━━━\u001B[0m\u001B[37m\u001B[0m \u001B[1m0s\u001B[0m 13ms/step - accuracy: 0.8452 - loss: 0.4245 - val_accuracy: 0.8212 - val_loss: 0.4451\n",
      "Epoch 17/200\n",
      "\u001B[1m8/8\u001B[0m \u001B[32m━━━━━━━━━━━━━━━━━━━━\u001B[0m\u001B[37m\u001B[0m \u001B[1m0s\u001B[0m 15ms/step - accuracy: 0.8498 - loss: 0.4298 - val_accuracy: 0.8156 - val_loss: 0.4452\n",
      "Epoch 18/200\n",
      "\u001B[1m8/8\u001B[0m \u001B[32m━━━━━━━━━━━━━━━━━━━━\u001B[0m\u001B[37m\u001B[0m \u001B[1m0s\u001B[0m 14ms/step - accuracy: 0.8316 - loss: 0.4493 - val_accuracy: 0.8156 - val_loss: 0.4470\n",
      "Epoch 19/200\n",
      "\u001B[1m8/8\u001B[0m \u001B[32m━━━━━━━━━━━━━━━━━━━━\u001B[0m\u001B[37m\u001B[0m \u001B[1m0s\u001B[0m 12ms/step - accuracy: 0.8507 - loss: 0.4322 - val_accuracy: 0.8045 - val_loss: 0.4460\n",
      "Epoch 20/200\n",
      "\u001B[1m8/8\u001B[0m \u001B[32m━━━━━━━━━━━━━━━━━━━━\u001B[0m\u001B[37m\u001B[0m \u001B[1m0s\u001B[0m 13ms/step - accuracy: 0.8494 - loss: 0.4119 - val_accuracy: 0.8045 - val_loss: 0.4462\n",
      "Epoch 21/200\n",
      "\u001B[1m8/8\u001B[0m \u001B[32m━━━━━━━━━━━━━━━━━━━━\u001B[0m\u001B[37m\u001B[0m \u001B[1m0s\u001B[0m 13ms/step - accuracy: 0.8303 - loss: 0.4492 - val_accuracy: 0.8156 - val_loss: 0.4454\n",
      "Epoch 22/200\n",
      "\u001B[1m8/8\u001B[0m \u001B[32m━━━━━━━━━━━━━━━━━━━━\u001B[0m\u001B[37m\u001B[0m \u001B[1m0s\u001B[0m 11ms/step - accuracy: 0.8615 - loss: 0.3974 - val_accuracy: 0.8101 - val_loss: 0.4454\n",
      "Epoch 23/200\n",
      "\u001B[1m8/8\u001B[0m \u001B[32m━━━━━━━━━━━━━━━━━━━━\u001B[0m\u001B[37m\u001B[0m \u001B[1m0s\u001B[0m 12ms/step - accuracy: 0.8440 - loss: 0.4163 - val_accuracy: 0.8045 - val_loss: 0.4442\n",
      "Epoch 24/200\n",
      "\u001B[1m8/8\u001B[0m \u001B[32m━━━━━━━━━━━━━━━━━━━━\u001B[0m\u001B[37m\u001B[0m \u001B[1m0s\u001B[0m 14ms/step - accuracy: 0.8399 - loss: 0.4318 - val_accuracy: 0.8156 - val_loss: 0.4419\n",
      "Epoch 25/200\n",
      "\u001B[1m8/8\u001B[0m \u001B[32m━━━━━━━━━━━━━━━━━━━━\u001B[0m\u001B[37m\u001B[0m \u001B[1m0s\u001B[0m 13ms/step - accuracy: 0.8600 - loss: 0.4104 - val_accuracy: 0.8268 - val_loss: 0.4388\n",
      "Epoch 26/200\n",
      "\u001B[1m8/8\u001B[0m \u001B[32m━━━━━━━━━━━━━━━━━━━━\u001B[0m\u001B[37m\u001B[0m \u001B[1m0s\u001B[0m 11ms/step - accuracy: 0.8379 - loss: 0.4348 - val_accuracy: 0.8268 - val_loss: 0.4423\n",
      "Epoch 27/200\n",
      "\u001B[1m8/8\u001B[0m \u001B[32m━━━━━━━━━━━━━━━━━━━━\u001B[0m\u001B[37m\u001B[0m \u001B[1m0s\u001B[0m 13ms/step - accuracy: 0.8319 - loss: 0.4548 - val_accuracy: 0.8156 - val_loss: 0.4418\n",
      "Epoch 28/200\n",
      "\u001B[1m8/8\u001B[0m \u001B[32m━━━━━━━━━━━━━━━━━━━━\u001B[0m\u001B[37m\u001B[0m \u001B[1m0s\u001B[0m 12ms/step - accuracy: 0.8286 - loss: 0.4250 - val_accuracy: 0.8156 - val_loss: 0.4386\n",
      "Epoch 29/200\n",
      "\u001B[1m8/8\u001B[0m \u001B[32m━━━━━━━━━━━━━━━━━━━━\u001B[0m\u001B[37m\u001B[0m \u001B[1m0s\u001B[0m 12ms/step - accuracy: 0.8398 - loss: 0.4248 - val_accuracy: 0.8101 - val_loss: 0.4395\n",
      "Epoch 30/200\n",
      "\u001B[1m8/8\u001B[0m \u001B[32m━━━━━━━━━━━━━━━━━━━━\u001B[0m\u001B[37m\u001B[0m \u001B[1m0s\u001B[0m 17ms/step - accuracy: 0.8457 - loss: 0.4233 - val_accuracy: 0.8101 - val_loss: 0.4399\n",
      "Epoch 31/200\n",
      "\u001B[1m8/8\u001B[0m \u001B[32m━━━━━━━━━━━━━━━━━━━━\u001B[0m\u001B[37m\u001B[0m \u001B[1m0s\u001B[0m 14ms/step - accuracy: 0.8490 - loss: 0.3984 - val_accuracy: 0.8045 - val_loss: 0.4467\n",
      "Epoch 32/200\n",
      "\u001B[1m8/8\u001B[0m \u001B[32m━━━━━━━━━━━━━━━━━━━━\u001B[0m\u001B[37m\u001B[0m \u001B[1m0s\u001B[0m 15ms/step - accuracy: 0.8500 - loss: 0.4053 - val_accuracy: 0.8101 - val_loss: 0.4470\n",
      "Epoch 33/200\n",
      "\u001B[1m8/8\u001B[0m \u001B[32m━━━━━━━━━━━━━━━━━━━━\u001B[0m\u001B[37m\u001B[0m \u001B[1m0s\u001B[0m 16ms/step - accuracy: 0.8525 - loss: 0.4169 - val_accuracy: 0.8045 - val_loss: 0.4383\n",
      "Epoch 34/200\n",
      "\u001B[1m8/8\u001B[0m \u001B[32m━━━━━━━━━━━━━━━━━━━━\u001B[0m\u001B[37m\u001B[0m \u001B[1m0s\u001B[0m 16ms/step - accuracy: 0.8626 - loss: 0.3823 - val_accuracy: 0.8101 - val_loss: 0.4371\n",
      "Epoch 35/200\n",
      "\u001B[1m8/8\u001B[0m \u001B[32m━━━━━━━━━━━━━━━━━━━━\u001B[0m\u001B[37m\u001B[0m \u001B[1m0s\u001B[0m 14ms/step - accuracy: 0.8389 - loss: 0.4279 - val_accuracy: 0.8268 - val_loss: 0.4374\n",
      "Epoch 36/200\n",
      "\u001B[1m8/8\u001B[0m \u001B[32m━━━━━━━━━━━━━━━━━━━━\u001B[0m\u001B[37m\u001B[0m \u001B[1m0s\u001B[0m 14ms/step - accuracy: 0.8435 - loss: 0.4202 - val_accuracy: 0.8156 - val_loss: 0.4334\n",
      "Epoch 37/200\n",
      "\u001B[1m8/8\u001B[0m \u001B[32m━━━━━━━━━━━━━━━━━━━━\u001B[0m\u001B[37m\u001B[0m \u001B[1m0s\u001B[0m 15ms/step - accuracy: 0.8403 - loss: 0.4264 - val_accuracy: 0.8045 - val_loss: 0.4387\n",
      "Epoch 38/200\n",
      "\u001B[1m8/8\u001B[0m \u001B[32m━━━━━━━━━━━━━━━━━━━━\u001B[0m\u001B[37m\u001B[0m \u001B[1m0s\u001B[0m 11ms/step - accuracy: 0.8476 - loss: 0.4262 - val_accuracy: 0.8045 - val_loss: 0.4412\n",
      "Epoch 39/200\n",
      "\u001B[1m8/8\u001B[0m \u001B[32m━━━━━━━━━━━━━━━━━━━━\u001B[0m\u001B[37m\u001B[0m \u001B[1m0s\u001B[0m 10ms/step - accuracy: 0.8557 - loss: 0.3917 - val_accuracy: 0.8045 - val_loss: 0.4399\n",
      "Epoch 40/200\n",
      "\u001B[1m8/8\u001B[0m \u001B[32m━━━━━━━━━━━━━━━━━━━━\u001B[0m\u001B[37m\u001B[0m \u001B[1m0s\u001B[0m 10ms/step - accuracy: 0.8470 - loss: 0.4041 - val_accuracy: 0.8045 - val_loss: 0.4390\n",
      "Epoch 41/200\n",
      "\u001B[1m8/8\u001B[0m \u001B[32m━━━━━━━━━━━━━━━━━━━━\u001B[0m\u001B[37m\u001B[0m \u001B[1m0s\u001B[0m 13ms/step - accuracy: 0.8368 - loss: 0.4450 - val_accuracy: 0.8101 - val_loss: 0.4314\n",
      "Epoch 42/200\n",
      "\u001B[1m8/8\u001B[0m \u001B[32m━━━━━━━━━━━━━━━━━━━━\u001B[0m\u001B[37m\u001B[0m \u001B[1m0s\u001B[0m 11ms/step - accuracy: 0.8586 - loss: 0.4092 - val_accuracy: 0.8268 - val_loss: 0.4296\n",
      "Epoch 43/200\n",
      "\u001B[1m8/8\u001B[0m \u001B[32m━━━━━━━━━━━━━━━━━━━━\u001B[0m\u001B[37m\u001B[0m \u001B[1m0s\u001B[0m 10ms/step - accuracy: 0.8721 - loss: 0.3878 - val_accuracy: 0.8268 - val_loss: 0.4313\n",
      "Epoch 44/200\n",
      "\u001B[1m8/8\u001B[0m \u001B[32m━━━━━━━━━━━━━━━━━━━━\u001B[0m\u001B[37m\u001B[0m \u001B[1m0s\u001B[0m 12ms/step - accuracy: 0.8459 - loss: 0.4285 - val_accuracy: 0.8324 - val_loss: 0.4242\n",
      "Epoch 45/200\n",
      "\u001B[1m8/8\u001B[0m \u001B[32m━━━━━━━━━━━━━━━━━━━━\u001B[0m\u001B[37m\u001B[0m \u001B[1m0s\u001B[0m 9ms/step - accuracy: 0.8412 - loss: 0.3982 - val_accuracy: 0.8324 - val_loss: 0.4211\n",
      "Epoch 46/200\n",
      "\u001B[1m8/8\u001B[0m \u001B[32m━━━━━━━━━━━━━━━━━━━━\u001B[0m\u001B[37m\u001B[0m \u001B[1m0s\u001B[0m 12ms/step - accuracy: 0.8439 - loss: 0.4231 - val_accuracy: 0.8212 - val_loss: 0.4260\n",
      "Epoch 47/200\n",
      "\u001B[1m8/8\u001B[0m \u001B[32m━━━━━━━━━━━━━━━━━━━━\u001B[0m\u001B[37m\u001B[0m \u001B[1m0s\u001B[0m 12ms/step - accuracy: 0.8629 - loss: 0.4042 - val_accuracy: 0.8212 - val_loss: 0.4329\n",
      "Epoch 48/200\n",
      "\u001B[1m8/8\u001B[0m \u001B[32m━━━━━━━━━━━━━━━━━━━━\u001B[0m\u001B[37m\u001B[0m \u001B[1m0s\u001B[0m 11ms/step - accuracy: 0.8621 - loss: 0.3781 - val_accuracy: 0.8212 - val_loss: 0.4389\n",
      "Epoch 49/200\n",
      "\u001B[1m8/8\u001B[0m \u001B[32m━━━━━━━━━━━━━━━━━━━━\u001B[0m\u001B[37m\u001B[0m \u001B[1m0s\u001B[0m 13ms/step - accuracy: 0.8533 - loss: 0.4089 - val_accuracy: 0.8268 - val_loss: 0.4343\n",
      "Epoch 50/200\n",
      "\u001B[1m8/8\u001B[0m \u001B[32m━━━━━━━━━━━━━━━━━━━━\u001B[0m\u001B[37m\u001B[0m \u001B[1m0s\u001B[0m 12ms/step - accuracy: 0.8542 - loss: 0.4042 - val_accuracy: 0.8268 - val_loss: 0.4337\n",
      "Epoch 51/200\n",
      "\u001B[1m8/8\u001B[0m \u001B[32m━━━━━━━━━━━━━━━━━━━━\u001B[0m\u001B[37m\u001B[0m \u001B[1m0s\u001B[0m 12ms/step - accuracy: 0.8569 - loss: 0.3989 - val_accuracy: 0.8268 - val_loss: 0.4321\n",
      "Epoch 52/200\n",
      "\u001B[1m8/8\u001B[0m \u001B[32m━━━━━━━━━━━━━━━━━━━━\u001B[0m\u001B[37m\u001B[0m \u001B[1m0s\u001B[0m 10ms/step - accuracy: 0.8447 - loss: 0.4075 - val_accuracy: 0.8212 - val_loss: 0.4357\n",
      "Epoch 53/200\n",
      "\u001B[1m8/8\u001B[0m \u001B[32m━━━━━━━━━━━━━━━━━━━━\u001B[0m\u001B[37m\u001B[0m \u001B[1m0s\u001B[0m 12ms/step - accuracy: 0.8429 - loss: 0.4211 - val_accuracy: 0.8212 - val_loss: 0.4367\n",
      "Epoch 54/200\n",
      "\u001B[1m8/8\u001B[0m \u001B[32m━━━━━━━━━━━━━━━━━━━━\u001B[0m\u001B[37m\u001B[0m \u001B[1m0s\u001B[0m 9ms/step - accuracy: 0.8530 - loss: 0.3934 - val_accuracy: 0.8212 - val_loss: 0.4357\n",
      "Epoch 55/200\n",
      "\u001B[1m8/8\u001B[0m \u001B[32m━━━━━━━━━━━━━━━━━━━━\u001B[0m\u001B[37m\u001B[0m \u001B[1m0s\u001B[0m 18ms/step - accuracy: 0.8464 - loss: 0.4154 - val_accuracy: 0.8268 - val_loss: 0.4334\n",
      "Epoch 56/200\n",
      "\u001B[1m8/8\u001B[0m \u001B[32m━━━━━━━━━━━━━━━━━━━━\u001B[0m\u001B[37m\u001B[0m \u001B[1m0s\u001B[0m 16ms/step - accuracy: 0.8329 - loss: 0.4339 - val_accuracy: 0.8268 - val_loss: 0.4336\n",
      "Epoch 57/200\n",
      "\u001B[1m8/8\u001B[0m \u001B[32m━━━━━━━━━━━━━━━━━━━━\u001B[0m\u001B[37m\u001B[0m \u001B[1m0s\u001B[0m 14ms/step - accuracy: 0.8425 - loss: 0.4173 - val_accuracy: 0.8212 - val_loss: 0.4342\n",
      "Epoch 58/200\n",
      "\u001B[1m8/8\u001B[0m \u001B[32m━━━━━━━━━━━━━━━━━━━━\u001B[0m\u001B[37m\u001B[0m \u001B[1m0s\u001B[0m 14ms/step - accuracy: 0.8554 - loss: 0.4137 - val_accuracy: 0.8268 - val_loss: 0.4389\n",
      "Epoch 59/200\n",
      "\u001B[1m8/8\u001B[0m \u001B[32m━━━━━━━━━━━━━━━━━━━━\u001B[0m\u001B[37m\u001B[0m \u001B[1m0s\u001B[0m 22ms/step - accuracy: 0.8601 - loss: 0.4091 - val_accuracy: 0.8268 - val_loss: 0.4526\n",
      "Epoch 60/200\n",
      "\u001B[1m8/8\u001B[0m \u001B[32m━━━━━━━━━━━━━━━━━━━━\u001B[0m\u001B[37m\u001B[0m \u001B[1m0s\u001B[0m 15ms/step - accuracy: 0.8373 - loss: 0.4466 - val_accuracy: 0.8156 - val_loss: 0.4552\n",
      "Epoch 61/200\n",
      "\u001B[1m8/8\u001B[0m \u001B[32m━━━━━━━━━━━━━━━━━━━━\u001B[0m\u001B[37m\u001B[0m \u001B[1m0s\u001B[0m 17ms/step - accuracy: 0.8548 - loss: 0.4120 - val_accuracy: 0.8101 - val_loss: 0.4510\n",
      "Epoch 62/200\n",
      "\u001B[1m8/8\u001B[0m \u001B[32m━━━━━━━━━━━━━━━━━━━━\u001B[0m\u001B[37m\u001B[0m \u001B[1m0s\u001B[0m 16ms/step - accuracy: 0.8592 - loss: 0.3967 - val_accuracy: 0.8101 - val_loss: 0.4452\n",
      "Epoch 63/200\n",
      "\u001B[1m8/8\u001B[0m \u001B[32m━━━━━━━━━━━━━━━━━━━━\u001B[0m\u001B[37m\u001B[0m \u001B[1m0s\u001B[0m 11ms/step - accuracy: 0.8392 - loss: 0.4362 - val_accuracy: 0.8101 - val_loss: 0.4445\n",
      "Epoch 64/200\n",
      "\u001B[1m8/8\u001B[0m \u001B[32m━━━━━━━━━━━━━━━━━━━━\u001B[0m\u001B[37m\u001B[0m \u001B[1m0s\u001B[0m 11ms/step - accuracy: 0.8541 - loss: 0.3800 - val_accuracy: 0.8324 - val_loss: 0.4497\n",
      "Epoch 65/200\n",
      "\u001B[1m8/8\u001B[0m \u001B[32m━━━━━━━━━━━━━━━━━━━━\u001B[0m\u001B[37m\u001B[0m \u001B[1m0s\u001B[0m 11ms/step - accuracy: 0.8568 - loss: 0.4061 - val_accuracy: 0.8324 - val_loss: 0.4495\n",
      "Epoch 66/200\n",
      "\u001B[1m8/8\u001B[0m \u001B[32m━━━━━━━━━━━━━━━━━━━━\u001B[0m\u001B[37m\u001B[0m \u001B[1m0s\u001B[0m 13ms/step - accuracy: 0.8659 - loss: 0.3698 - val_accuracy: 0.8268 - val_loss: 0.4462\n",
      "Epoch 67/200\n",
      "\u001B[1m8/8\u001B[0m \u001B[32m━━━━━━━━━━━━━━━━━━━━\u001B[0m\u001B[37m\u001B[0m \u001B[1m0s\u001B[0m 11ms/step - accuracy: 0.8388 - loss: 0.4297 - val_accuracy: 0.8268 - val_loss: 0.4406\n",
      "Epoch 68/200\n",
      "\u001B[1m8/8\u001B[0m \u001B[32m━━━━━━━━━━━━━━━━━━━━\u001B[0m\u001B[37m\u001B[0m \u001B[1m0s\u001B[0m 12ms/step - accuracy: 0.8600 - loss: 0.3886 - val_accuracy: 0.8101 - val_loss: 0.4321\n",
      "Epoch 69/200\n",
      "\u001B[1m8/8\u001B[0m \u001B[32m━━━━━━━━━━━━━━━━━━━━\u001B[0m\u001B[37m\u001B[0m \u001B[1m0s\u001B[0m 12ms/step - accuracy: 0.8453 - loss: 0.4250 - val_accuracy: 0.8212 - val_loss: 0.4331\n",
      "Epoch 70/200\n",
      "\u001B[1m8/8\u001B[0m \u001B[32m━━━━━━━━━━━━━━━━━━━━\u001B[0m\u001B[37m\u001B[0m \u001B[1m0s\u001B[0m 13ms/step - accuracy: 0.8579 - loss: 0.3983 - val_accuracy: 0.8268 - val_loss: 0.4373\n",
      "Epoch 71/200\n",
      "\u001B[1m8/8\u001B[0m \u001B[32m━━━━━━━━━━━━━━━━━━━━\u001B[0m\u001B[37m\u001B[0m \u001B[1m0s\u001B[0m 11ms/step - accuracy: 0.8747 - loss: 0.3848 - val_accuracy: 0.8268 - val_loss: 0.4413\n",
      "Epoch 72/200\n",
      "\u001B[1m8/8\u001B[0m \u001B[32m━━━━━━━━━━━━━━━━━━━━\u001B[0m\u001B[37m\u001B[0m \u001B[1m0s\u001B[0m 12ms/step - accuracy: 0.8563 - loss: 0.4047 - val_accuracy: 0.8268 - val_loss: 0.4410\n",
      "Epoch 73/200\n",
      "\u001B[1m8/8\u001B[0m \u001B[32m━━━━━━━━━━━━━━━━━━━━\u001B[0m\u001B[37m\u001B[0m \u001B[1m0s\u001B[0m 10ms/step - accuracy: 0.8606 - loss: 0.3980 - val_accuracy: 0.8268 - val_loss: 0.4431\n",
      "Epoch 74/200\n",
      "\u001B[1m8/8\u001B[0m \u001B[32m━━━━━━━━━━━━━━━━━━━━\u001B[0m\u001B[37m\u001B[0m \u001B[1m0s\u001B[0m 11ms/step - accuracy: 0.8605 - loss: 0.3896 - val_accuracy: 0.8324 - val_loss: 0.4467\n",
      "Epoch 75/200\n",
      "\u001B[1m8/8\u001B[0m \u001B[32m━━━━━━━━━━━━━━━━━━━━\u001B[0m\u001B[37m\u001B[0m \u001B[1m0s\u001B[0m 13ms/step - accuracy: 0.8546 - loss: 0.4025 - val_accuracy: 0.8268 - val_loss: 0.4395\n",
      "Epoch 76/200\n",
      "\u001B[1m8/8\u001B[0m \u001B[32m━━━━━━━━━━━━━━━━━━━━\u001B[0m\u001B[37m\u001B[0m \u001B[1m0s\u001B[0m 11ms/step - accuracy: 0.8650 - loss: 0.3864 - val_accuracy: 0.8268 - val_loss: 0.4342\n",
      "Epoch 77/200\n",
      "\u001B[1m8/8\u001B[0m \u001B[32m━━━━━━━━━━━━━━━━━━━━\u001B[0m\u001B[37m\u001B[0m \u001B[1m0s\u001B[0m 11ms/step - accuracy: 0.8684 - loss: 0.3685 - val_accuracy: 0.8268 - val_loss: 0.4353\n",
      "Epoch 78/200\n",
      "\u001B[1m8/8\u001B[0m \u001B[32m━━━━━━━━━━━━━━━━━━━━\u001B[0m\u001B[37m\u001B[0m \u001B[1m0s\u001B[0m 11ms/step - accuracy: 0.8685 - loss: 0.4051 - val_accuracy: 0.8324 - val_loss: 0.4379\n",
      "Epoch 79/200\n",
      "\u001B[1m8/8\u001B[0m \u001B[32m━━━━━━━━━━━━━━━━━━━━\u001B[0m\u001B[37m\u001B[0m \u001B[1m0s\u001B[0m 10ms/step - accuracy: 0.8394 - loss: 0.4228 - val_accuracy: 0.8268 - val_loss: 0.4402\n",
      "Epoch 80/200\n",
      "\u001B[1m8/8\u001B[0m \u001B[32m━━━━━━━━━━━━━━━━━━━━\u001B[0m\u001B[37m\u001B[0m \u001B[1m0s\u001B[0m 11ms/step - accuracy: 0.8519 - loss: 0.4115 - val_accuracy: 0.8156 - val_loss: 0.4465\n",
      "Epoch 81/200\n",
      "\u001B[1m8/8\u001B[0m \u001B[32m━━━━━━━━━━━━━━━━━━━━\u001B[0m\u001B[37m\u001B[0m \u001B[1m0s\u001B[0m 11ms/step - accuracy: 0.8649 - loss: 0.3838 - val_accuracy: 0.8045 - val_loss: 0.4512\n",
      "Epoch 82/200\n",
      "\u001B[1m8/8\u001B[0m \u001B[32m━━━━━━━━━━━━━━━━━━━━\u001B[0m\u001B[37m\u001B[0m \u001B[1m0s\u001B[0m 10ms/step - accuracy: 0.8440 - loss: 0.4225 - val_accuracy: 0.8156 - val_loss: 0.4469\n",
      "Epoch 83/200\n",
      "\u001B[1m8/8\u001B[0m \u001B[32m━━━━━━━━━━━━━━━━━━━━\u001B[0m\u001B[37m\u001B[0m \u001B[1m0s\u001B[0m 16ms/step - accuracy: 0.8609 - loss: 0.3971 - val_accuracy: 0.8212 - val_loss: 0.4391\n",
      "Epoch 84/200\n",
      "\u001B[1m8/8\u001B[0m \u001B[32m━━━━━━━━━━━━━━━━━━━━\u001B[0m\u001B[37m\u001B[0m \u001B[1m0s\u001B[0m 16ms/step - accuracy: 0.8507 - loss: 0.4241 - val_accuracy: 0.8212 - val_loss: 0.4382\n",
      "Epoch 85/200\n",
      "\u001B[1m8/8\u001B[0m \u001B[32m━━━━━━━━━━━━━━━━━━━━\u001B[0m\u001B[37m\u001B[0m \u001B[1m0s\u001B[0m 11ms/step - accuracy: 0.8505 - loss: 0.3797 - val_accuracy: 0.8268 - val_loss: 0.4409\n",
      "Epoch 86/200\n",
      "\u001B[1m8/8\u001B[0m \u001B[32m━━━━━━━━━━━━━━━━━━━━\u001B[0m\u001B[37m\u001B[0m \u001B[1m0s\u001B[0m 13ms/step - accuracy: 0.8481 - loss: 0.4239 - val_accuracy: 0.8268 - val_loss: 0.4384\n",
      "Epoch 87/200\n",
      "\u001B[1m8/8\u001B[0m \u001B[32m━━━━━━━━━━━━━━━━━━━━\u001B[0m\u001B[37m\u001B[0m \u001B[1m0s\u001B[0m 15ms/step - accuracy: 0.8656 - loss: 0.3920 - val_accuracy: 0.8212 - val_loss: 0.4389\n",
      "Epoch 88/200\n",
      "\u001B[1m8/8\u001B[0m \u001B[32m━━━━━━━━━━━━━━━━━━━━\u001B[0m\u001B[37m\u001B[0m \u001B[1m0s\u001B[0m 22ms/step - accuracy: 0.8649 - loss: 0.3803 - val_accuracy: 0.8268 - val_loss: 0.4372\n",
      "Epoch 89/200\n",
      "\u001B[1m8/8\u001B[0m \u001B[32m━━━━━━━━━━━━━━━━━━━━\u001B[0m\u001B[37m\u001B[0m \u001B[1m0s\u001B[0m 16ms/step - accuracy: 0.8604 - loss: 0.3816 - val_accuracy: 0.8212 - val_loss: 0.4397\n",
      "Epoch 90/200\n",
      "\u001B[1m8/8\u001B[0m \u001B[32m━━━━━━━━━━━━━━━━━━━━\u001B[0m\u001B[37m\u001B[0m \u001B[1m0s\u001B[0m 13ms/step - accuracy: 0.8535 - loss: 0.4034 - val_accuracy: 0.8212 - val_loss: 0.4427\n",
      "Epoch 91/200\n",
      "\u001B[1m8/8\u001B[0m \u001B[32m━━━━━━━━━━━━━━━━━━━━\u001B[0m\u001B[37m\u001B[0m \u001B[1m0s\u001B[0m 11ms/step - accuracy: 0.8541 - loss: 0.3966 - val_accuracy: 0.8212 - val_loss: 0.4414\n",
      "Epoch 92/200\n",
      "\u001B[1m8/8\u001B[0m \u001B[32m━━━━━━━━━━━━━━━━━━━━\u001B[0m\u001B[37m\u001B[0m \u001B[1m0s\u001B[0m 11ms/step - accuracy: 0.8689 - loss: 0.3626 - val_accuracy: 0.8212 - val_loss: 0.4439\n",
      "Epoch 93/200\n",
      "\u001B[1m8/8\u001B[0m \u001B[32m━━━━━━━━━━━━━━━━━━━━\u001B[0m\u001B[37m\u001B[0m \u001B[1m0s\u001B[0m 13ms/step - accuracy: 0.8595 - loss: 0.3848 - val_accuracy: 0.8212 - val_loss: 0.4407\n",
      "Epoch 94/200\n",
      "\u001B[1m8/8\u001B[0m \u001B[32m━━━━━━━━━━━━━━━━━━━━\u001B[0m\u001B[37m\u001B[0m \u001B[1m0s\u001B[0m 11ms/step - accuracy: 0.8593 - loss: 0.4162 - val_accuracy: 0.8268 - val_loss: 0.4324\n",
      "Epoch 95/200\n",
      "\u001B[1m8/8\u001B[0m \u001B[32m━━━━━━━━━━━━━━━━━━━━\u001B[0m\u001B[37m\u001B[0m \u001B[1m0s\u001B[0m 13ms/step - accuracy: 0.8579 - loss: 0.3941 - val_accuracy: 0.8268 - val_loss: 0.4328\n",
      "Epoch 96/200\n",
      "\u001B[1m8/8\u001B[0m \u001B[32m━━━━━━━━━━━━━━━━━━━━\u001B[0m\u001B[37m\u001B[0m \u001B[1m0s\u001B[0m 10ms/step - accuracy: 0.8625 - loss: 0.3723 - val_accuracy: 0.8268 - val_loss: 0.4352\n",
      "Epoch 97/200\n",
      "\u001B[1m8/8\u001B[0m \u001B[32m━━━━━━━━━━━━━━━━━━━━\u001B[0m\u001B[37m\u001B[0m \u001B[1m0s\u001B[0m 11ms/step - accuracy: 0.8574 - loss: 0.4110 - val_accuracy: 0.8268 - val_loss: 0.4276\n",
      "Epoch 98/200\n",
      "\u001B[1m8/8\u001B[0m \u001B[32m━━━━━━━━━━━━━━━━━━━━\u001B[0m\u001B[37m\u001B[0m \u001B[1m0s\u001B[0m 10ms/step - accuracy: 0.8563 - loss: 0.3735 - val_accuracy: 0.8268 - val_loss: 0.4282\n",
      "Epoch 99/200\n",
      "\u001B[1m8/8\u001B[0m \u001B[32m━━━━━━━━━━━━━━━━━━━━\u001B[0m\u001B[37m\u001B[0m \u001B[1m0s\u001B[0m 13ms/step - accuracy: 0.8562 - loss: 0.4025 - val_accuracy: 0.8268 - val_loss: 0.4332\n",
      "Epoch 100/200\n",
      "\u001B[1m8/8\u001B[0m \u001B[32m━━━━━━━━━━━━━━━━━━━━\u001B[0m\u001B[37m\u001B[0m \u001B[1m0s\u001B[0m 12ms/step - accuracy: 0.8631 - loss: 0.4088 - val_accuracy: 0.8212 - val_loss: 0.4426\n",
      "Epoch 101/200\n",
      "\u001B[1m8/8\u001B[0m \u001B[32m━━━━━━━━━━━━━━━━━━━━\u001B[0m\u001B[37m\u001B[0m \u001B[1m0s\u001B[0m 11ms/step - accuracy: 0.8711 - loss: 0.3743 - val_accuracy: 0.8156 - val_loss: 0.4420\n",
      "Epoch 102/200\n",
      "\u001B[1m8/8\u001B[0m \u001B[32m━━━━━━━━━━━━━━━━━━━━\u001B[0m\u001B[37m\u001B[0m \u001B[1m0s\u001B[0m 9ms/step - accuracy: 0.8513 - loss: 0.4095 - val_accuracy: 0.8212 - val_loss: 0.4467\n",
      "Epoch 103/200\n",
      "\u001B[1m8/8\u001B[0m \u001B[32m━━━━━━━━━━━━━━━━━━━━\u001B[0m\u001B[37m\u001B[0m \u001B[1m0s\u001B[0m 11ms/step - accuracy: 0.8458 - loss: 0.3983 - val_accuracy: 0.8156 - val_loss: 0.4476\n",
      "Epoch 104/200\n",
      "\u001B[1m8/8\u001B[0m \u001B[32m━━━━━━━━━━━━━━━━━━━━\u001B[0m\u001B[37m\u001B[0m \u001B[1m0s\u001B[0m 11ms/step - accuracy: 0.8585 - loss: 0.3915 - val_accuracy: 0.8212 - val_loss: 0.4395\n",
      "Epoch 105/200\n",
      "\u001B[1m8/8\u001B[0m \u001B[32m━━━━━━━━━━━━━━━━━━━━\u001B[0m\u001B[37m\u001B[0m \u001B[1m0s\u001B[0m 15ms/step - accuracy: 0.8559 - loss: 0.4031 - val_accuracy: 0.8212 - val_loss: 0.4358\n",
      "Epoch 106/200\n",
      "\u001B[1m8/8\u001B[0m \u001B[32m━━━━━━━━━━━━━━━━━━━━\u001B[0m\u001B[37m\u001B[0m \u001B[1m0s\u001B[0m 13ms/step - accuracy: 0.8591 - loss: 0.3928 - val_accuracy: 0.8268 - val_loss: 0.4374\n",
      "Epoch 107/200\n",
      "\u001B[1m8/8\u001B[0m \u001B[32m━━━━━━━━━━━━━━━━━━━━\u001B[0m\u001B[37m\u001B[0m \u001B[1m0s\u001B[0m 13ms/step - accuracy: 0.8467 - loss: 0.4291 - val_accuracy: 0.8268 - val_loss: 0.4407\n",
      "Epoch 108/200\n",
      "\u001B[1m8/8\u001B[0m \u001B[32m━━━━━━━━━━━━━━━━━━━━\u001B[0m\u001B[37m\u001B[0m \u001B[1m0s\u001B[0m 14ms/step - accuracy: 0.8659 - loss: 0.3956 - val_accuracy: 0.8212 - val_loss: 0.4462\n",
      "Epoch 109/200\n",
      "\u001B[1m8/8\u001B[0m \u001B[32m━━━━━━━━━━━━━━━━━━━━\u001B[0m\u001B[37m\u001B[0m \u001B[1m0s\u001B[0m 13ms/step - accuracy: 0.8656 - loss: 0.4058 - val_accuracy: 0.8268 - val_loss: 0.4523\n",
      "Epoch 110/200\n",
      "\u001B[1m8/8\u001B[0m \u001B[32m━━━━━━━━━━━━━━━━━━━━\u001B[0m\u001B[37m\u001B[0m \u001B[1m0s\u001B[0m 19ms/step - accuracy: 0.8510 - loss: 0.3917 - val_accuracy: 0.8212 - val_loss: 0.4494\n",
      "Epoch 111/200\n",
      "\u001B[1m8/8\u001B[0m \u001B[32m━━━━━━━━━━━━━━━━━━━━\u001B[0m\u001B[37m\u001B[0m \u001B[1m0s\u001B[0m 17ms/step - accuracy: 0.8619 - loss: 0.3917 - val_accuracy: 0.8212 - val_loss: 0.4528\n",
      "Epoch 112/200\n",
      "\u001B[1m8/8\u001B[0m \u001B[32m━━━━━━━━━━━━━━━━━━━━\u001B[0m\u001B[37m\u001B[0m \u001B[1m0s\u001B[0m 13ms/step - accuracy: 0.8606 - loss: 0.3700 - val_accuracy: 0.8212 - val_loss: 0.4534\n",
      "Epoch 113/200\n",
      "\u001B[1m8/8\u001B[0m \u001B[32m━━━━━━━━━━━━━━━━━━━━\u001B[0m\u001B[37m\u001B[0m \u001B[1m0s\u001B[0m 12ms/step - accuracy: 0.8700 - loss: 0.3722 - val_accuracy: 0.8212 - val_loss: 0.4444\n",
      "Epoch 114/200\n",
      "\u001B[1m8/8\u001B[0m \u001B[32m━━━━━━━━━━━━━━━━━━━━\u001B[0m\u001B[37m\u001B[0m \u001B[1m0s\u001B[0m 11ms/step - accuracy: 0.8486 - loss: 0.3872 - val_accuracy: 0.8212 - val_loss: 0.4439\n",
      "Epoch 115/200\n",
      "\u001B[1m8/8\u001B[0m \u001B[32m━━━━━━━━━━━━━━━━━━━━\u001B[0m\u001B[37m\u001B[0m \u001B[1m0s\u001B[0m 9ms/step - accuracy: 0.8574 - loss: 0.3985 - val_accuracy: 0.8212 - val_loss: 0.4433\n",
      "Epoch 116/200\n",
      "\u001B[1m8/8\u001B[0m \u001B[32m━━━━━━━━━━━━━━━━━━━━\u001B[0m\u001B[37m\u001B[0m \u001B[1m0s\u001B[0m 11ms/step - accuracy: 0.8501 - loss: 0.3791 - val_accuracy: 0.8156 - val_loss: 0.4466\n",
      "Epoch 117/200\n",
      "\u001B[1m8/8\u001B[0m \u001B[32m━━━━━━━━━━━━━━━━━━━━\u001B[0m\u001B[37m\u001B[0m \u001B[1m0s\u001B[0m 14ms/step - accuracy: 0.8390 - loss: 0.4131 - val_accuracy: 0.8156 - val_loss: 0.4489\n",
      "Epoch 118/200\n",
      "\u001B[1m8/8\u001B[0m \u001B[32m━━━━━━━━━━━━━━━━━━━━\u001B[0m\u001B[37m\u001B[0m \u001B[1m0s\u001B[0m 11ms/step - accuracy: 0.8654 - loss: 0.3900 - val_accuracy: 0.8156 - val_loss: 0.4477\n",
      "Epoch 119/200\n",
      "\u001B[1m8/8\u001B[0m \u001B[32m━━━━━━━━━━━━━━━━━━━━\u001B[0m\u001B[37m\u001B[0m \u001B[1m0s\u001B[0m 11ms/step - accuracy: 0.8619 - loss: 0.3750 - val_accuracy: 0.8156 - val_loss: 0.4418\n",
      "Epoch 120/200\n",
      "\u001B[1m8/8\u001B[0m \u001B[32m━━━━━━━━━━━━━━━━━━━━\u001B[0m\u001B[37m\u001B[0m \u001B[1m0s\u001B[0m 13ms/step - accuracy: 0.8591 - loss: 0.3928 - val_accuracy: 0.8268 - val_loss: 0.4335\n",
      "Epoch 121/200\n",
      "\u001B[1m8/8\u001B[0m \u001B[32m━━━━━━━━━━━━━━━━━━━━\u001B[0m\u001B[37m\u001B[0m \u001B[1m0s\u001B[0m 11ms/step - accuracy: 0.8630 - loss: 0.3826 - val_accuracy: 0.8156 - val_loss: 0.4364\n",
      "Epoch 122/200\n",
      "\u001B[1m8/8\u001B[0m \u001B[32m━━━━━━━━━━━━━━━━━━━━\u001B[0m\u001B[37m\u001B[0m \u001B[1m0s\u001B[0m 12ms/step - accuracy: 0.8612 - loss: 0.3744 - val_accuracy: 0.8324 - val_loss: 0.4401\n",
      "Epoch 123/200\n",
      "\u001B[1m8/8\u001B[0m \u001B[32m━━━━━━━━━━━━━━━━━━━━\u001B[0m\u001B[37m\u001B[0m \u001B[1m0s\u001B[0m 11ms/step - accuracy: 0.8744 - loss: 0.3599 - val_accuracy: 0.8268 - val_loss: 0.4461\n",
      "Epoch 124/200\n",
      "\u001B[1m8/8\u001B[0m \u001B[32m━━━━━━━━━━━━━━━━━━━━\u001B[0m\u001B[37m\u001B[0m \u001B[1m0s\u001B[0m 11ms/step - accuracy: 0.8586 - loss: 0.3731 - val_accuracy: 0.8212 - val_loss: 0.4487\n",
      "Epoch 125/200\n",
      "\u001B[1m8/8\u001B[0m \u001B[32m━━━━━━━━━━━━━━━━━━━━\u001B[0m\u001B[37m\u001B[0m \u001B[1m0s\u001B[0m 11ms/step - accuracy: 0.8671 - loss: 0.3777 - val_accuracy: 0.8156 - val_loss: 0.4525\n",
      "Epoch 126/200\n",
      "\u001B[1m8/8\u001B[0m \u001B[32m━━━━━━━━━━━━━━━━━━━━\u001B[0m\u001B[37m\u001B[0m \u001B[1m0s\u001B[0m 12ms/step - accuracy: 0.8563 - loss: 0.3861 - val_accuracy: 0.8156 - val_loss: 0.4561\n",
      "Epoch 127/200\n",
      "\u001B[1m8/8\u001B[0m \u001B[32m━━━━━━━━━━━━━━━━━━━━\u001B[0m\u001B[37m\u001B[0m \u001B[1m0s\u001B[0m 11ms/step - accuracy: 0.8679 - loss: 0.3753 - val_accuracy: 0.8156 - val_loss: 0.4599\n",
      "Epoch 128/200\n",
      "\u001B[1m8/8\u001B[0m \u001B[32m━━━━━━━━━━━━━━━━━━━━\u001B[0m\u001B[37m\u001B[0m \u001B[1m0s\u001B[0m 15ms/step - accuracy: 0.8461 - loss: 0.4147 - val_accuracy: 0.8268 - val_loss: 0.4603\n",
      "Epoch 129/200\n",
      "\u001B[1m8/8\u001B[0m \u001B[32m━━━━━━━━━━━━━━━━━━━━\u001B[0m\u001B[37m\u001B[0m \u001B[1m0s\u001B[0m 16ms/step - accuracy: 0.8455 - loss: 0.4059 - val_accuracy: 0.8212 - val_loss: 0.4580\n",
      "Epoch 130/200\n",
      "\u001B[1m8/8\u001B[0m \u001B[32m━━━━━━━━━━━━━━━━━━━━\u001B[0m\u001B[37m\u001B[0m \u001B[1m0s\u001B[0m 16ms/step - accuracy: 0.8747 - loss: 0.3726 - val_accuracy: 0.8212 - val_loss: 0.4536\n",
      "Epoch 131/200\n",
      "\u001B[1m8/8\u001B[0m \u001B[32m━━━━━━━━━━━━━━━━━━━━\u001B[0m\u001B[37m\u001B[0m \u001B[1m0s\u001B[0m 13ms/step - accuracy: 0.8610 - loss: 0.3763 - val_accuracy: 0.8212 - val_loss: 0.4523\n",
      "Epoch 132/200\n",
      "\u001B[1m8/8\u001B[0m \u001B[32m━━━━━━━━━━━━━━━━━━━━\u001B[0m\u001B[37m\u001B[0m \u001B[1m0s\u001B[0m 14ms/step - accuracy: 0.8802 - loss: 0.3591 - val_accuracy: 0.8212 - val_loss: 0.4533\n",
      "Epoch 133/200\n",
      "\u001B[1m8/8\u001B[0m \u001B[32m━━━━━━━━━━━━━━━━━━━━\u001B[0m\u001B[37m\u001B[0m \u001B[1m0s\u001B[0m 20ms/step - accuracy: 0.8657 - loss: 0.3773 - val_accuracy: 0.8268 - val_loss: 0.4486\n",
      "Epoch 134/200\n",
      "\u001B[1m8/8\u001B[0m \u001B[32m━━━━━━━━━━━━━━━━━━━━\u001B[0m\u001B[37m\u001B[0m \u001B[1m0s\u001B[0m 13ms/step - accuracy: 0.8509 - loss: 0.3963 - val_accuracy: 0.8212 - val_loss: 0.4545\n",
      "Epoch 135/200\n",
      "\u001B[1m8/8\u001B[0m \u001B[32m━━━━━━━━━━━━━━━━━━━━\u001B[0m\u001B[37m\u001B[0m \u001B[1m0s\u001B[0m 13ms/step - accuracy: 0.8586 - loss: 0.3927 - val_accuracy: 0.8212 - val_loss: 0.4578\n",
      "Epoch 136/200\n",
      "\u001B[1m8/8\u001B[0m \u001B[32m━━━━━━━━━━━━━━━━━━━━\u001B[0m\u001B[37m\u001B[0m \u001B[1m0s\u001B[0m 11ms/step - accuracy: 0.8740 - loss: 0.3641 - val_accuracy: 0.8212 - val_loss: 0.4477\n",
      "Epoch 137/200\n",
      "\u001B[1m8/8\u001B[0m \u001B[32m━━━━━━━━━━━━━━━━━━━━\u001B[0m\u001B[37m\u001B[0m \u001B[1m0s\u001B[0m 11ms/step - accuracy: 0.8485 - loss: 0.4058 - val_accuracy: 0.8156 - val_loss: 0.4452\n",
      "Epoch 138/200\n",
      "\u001B[1m8/8\u001B[0m \u001B[32m━━━━━━━━━━━━━━━━━━━━\u001B[0m\u001B[37m\u001B[0m \u001B[1m0s\u001B[0m 10ms/step - accuracy: 0.8625 - loss: 0.3848 - val_accuracy: 0.8156 - val_loss: 0.4491\n",
      "Epoch 139/200\n",
      "\u001B[1m8/8\u001B[0m \u001B[32m━━━━━━━━━━━━━━━━━━━━\u001B[0m\u001B[37m\u001B[0m \u001B[1m0s\u001B[0m 9ms/step - accuracy: 0.8667 - loss: 0.3966 - val_accuracy: 0.8212 - val_loss: 0.4434\n",
      "Epoch 140/200\n",
      "\u001B[1m8/8\u001B[0m \u001B[32m━━━━━━━━━━━━━━━━━━━━\u001B[0m\u001B[37m\u001B[0m \u001B[1m0s\u001B[0m 13ms/step - accuracy: 0.8728 - loss: 0.3562 - val_accuracy: 0.8212 - val_loss: 0.4442\n",
      "Epoch 141/200\n",
      "\u001B[1m8/8\u001B[0m \u001B[32m━━━━━━━━━━━━━━━━━━━━\u001B[0m\u001B[37m\u001B[0m \u001B[1m0s\u001B[0m 13ms/step - accuracy: 0.8658 - loss: 0.3653 - val_accuracy: 0.8212 - val_loss: 0.4454\n",
      "Epoch 142/200\n",
      "\u001B[1m8/8\u001B[0m \u001B[32m━━━━━━━━━━━━━━━━━━━━\u001B[0m\u001B[37m\u001B[0m \u001B[1m0s\u001B[0m 12ms/step - accuracy: 0.8530 - loss: 0.3841 - val_accuracy: 0.8212 - val_loss: 0.4410\n",
      "Epoch 143/200\n",
      "\u001B[1m8/8\u001B[0m \u001B[32m━━━━━━━━━━━━━━━━━━━━\u001B[0m\u001B[37m\u001B[0m \u001B[1m0s\u001B[0m 11ms/step - accuracy: 0.8690 - loss: 0.3619 - val_accuracy: 0.8212 - val_loss: 0.4416\n",
      "Epoch 144/200\n",
      "\u001B[1m8/8\u001B[0m \u001B[32m━━━━━━━━━━━━━━━━━━━━\u001B[0m\u001B[37m\u001B[0m \u001B[1m0s\u001B[0m 16ms/step - accuracy: 0.8585 - loss: 0.3738 - val_accuracy: 0.8212 - val_loss: 0.4456\n",
      "Epoch 145/200\n",
      "\u001B[1m8/8\u001B[0m \u001B[32m━━━━━━━━━━━━━━━━━━━━\u001B[0m\u001B[37m\u001B[0m \u001B[1m0s\u001B[0m 11ms/step - accuracy: 0.8837 - loss: 0.3420 - val_accuracy: 0.8268 - val_loss: 0.4478\n",
      "Epoch 146/200\n",
      "\u001B[1m8/8\u001B[0m \u001B[32m━━━━━━━━━━━━━━━━━━━━\u001B[0m\u001B[37m\u001B[0m \u001B[1m0s\u001B[0m 11ms/step - accuracy: 0.8666 - loss: 0.3732 - val_accuracy: 0.8212 - val_loss: 0.4504\n",
      "Epoch 147/200\n",
      "\u001B[1m8/8\u001B[0m \u001B[32m━━━━━━━━━━━━━━━━━━━━\u001B[0m\u001B[37m\u001B[0m \u001B[1m0s\u001B[0m 10ms/step - accuracy: 0.8835 - loss: 0.3540 - val_accuracy: 0.8156 - val_loss: 0.4663\n",
      "Epoch 148/200\n",
      "\u001B[1m8/8\u001B[0m \u001B[32m━━━━━━━━━━━━━━━━━━━━\u001B[0m\u001B[37m\u001B[0m \u001B[1m0s\u001B[0m 9ms/step - accuracy: 0.8654 - loss: 0.3754 - val_accuracy: 0.8156 - val_loss: 0.4671\n",
      "Epoch 149/200\n",
      "\u001B[1m8/8\u001B[0m \u001B[32m━━━━━━━━━━━━━━━━━━━━\u001B[0m\u001B[37m\u001B[0m \u001B[1m0s\u001B[0m 12ms/step - accuracy: 0.8430 - loss: 0.3835 - val_accuracy: 0.8101 - val_loss: 0.4590\n",
      "Epoch 150/200\n",
      "\u001B[1m8/8\u001B[0m \u001B[32m━━━━━━━━━━━━━━━━━━━━\u001B[0m\u001B[37m\u001B[0m \u001B[1m0s\u001B[0m 13ms/step - accuracy: 0.8830 - loss: 0.3582 - val_accuracy: 0.8156 - val_loss: 0.4495\n",
      "Epoch 151/200\n",
      "\u001B[1m8/8\u001B[0m \u001B[32m━━━━━━━━━━━━━━━━━━━━\u001B[0m\u001B[37m\u001B[0m \u001B[1m0s\u001B[0m 16ms/step - accuracy: 0.8623 - loss: 0.3803 - val_accuracy: 0.8212 - val_loss: 0.4434\n",
      "Epoch 152/200\n",
      "\u001B[1m8/8\u001B[0m \u001B[32m━━━━━━━━━━━━━━━━━━━━\u001B[0m\u001B[37m\u001B[0m \u001B[1m0s\u001B[0m 11ms/step - accuracy: 0.8703 - loss: 0.3672 - val_accuracy: 0.8212 - val_loss: 0.4369\n",
      "Epoch 153/200\n",
      "\u001B[1m8/8\u001B[0m \u001B[32m━━━━━━━━━━━━━━━━━━━━\u001B[0m\u001B[37m\u001B[0m \u001B[1m0s\u001B[0m 12ms/step - accuracy: 0.8637 - loss: 0.3793 - val_accuracy: 0.8212 - val_loss: 0.4500\n",
      "Epoch 154/200\n",
      "\u001B[1m8/8\u001B[0m \u001B[32m━━━━━━━━━━━━━━━━━━━━\u001B[0m\u001B[37m\u001B[0m \u001B[1m0s\u001B[0m 13ms/step - accuracy: 0.8646 - loss: 0.4001 - val_accuracy: 0.8212 - val_loss: 0.4572\n",
      "Epoch 155/200\n",
      "\u001B[1m8/8\u001B[0m \u001B[32m━━━━━━━━━━━━━━━━━━━━\u001B[0m\u001B[37m\u001B[0m \u001B[1m0s\u001B[0m 15ms/step - accuracy: 0.8668 - loss: 0.3832 - val_accuracy: 0.8156 - val_loss: 0.4565\n",
      "Epoch 156/200\n",
      "\u001B[1m8/8\u001B[0m \u001B[32m━━━━━━━━━━━━━━━━━━━━\u001B[0m\u001B[37m\u001B[0m \u001B[1m0s\u001B[0m 18ms/step - accuracy: 0.8638 - loss: 0.3698 - val_accuracy: 0.8212 - val_loss: 0.4587\n",
      "Epoch 157/200\n",
      "\u001B[1m8/8\u001B[0m \u001B[32m━━━━━━━━━━━━━━━━━━━━\u001B[0m\u001B[37m\u001B[0m \u001B[1m0s\u001B[0m 16ms/step - accuracy: 0.8738 - loss: 0.3625 - val_accuracy: 0.8212 - val_loss: 0.4597\n",
      "Epoch 158/200\n",
      "\u001B[1m8/8\u001B[0m \u001B[32m━━━━━━━━━━━━━━━━━━━━\u001B[0m\u001B[37m\u001B[0m \u001B[1m0s\u001B[0m 13ms/step - accuracy: 0.8711 - loss: 0.3736 - val_accuracy: 0.8212 - val_loss: 0.4631\n",
      "Epoch 159/200\n",
      "\u001B[1m8/8\u001B[0m \u001B[32m━━━━━━━━━━━━━━━━━━━━\u001B[0m\u001B[37m\u001B[0m \u001B[1m0s\u001B[0m 12ms/step - accuracy: 0.8583 - loss: 0.3794 - val_accuracy: 0.8212 - val_loss: 0.4645\n",
      "Epoch 160/200\n",
      "\u001B[1m8/8\u001B[0m \u001B[32m━━━━━━━━━━━━━━━━━━━━\u001B[0m\u001B[37m\u001B[0m \u001B[1m0s\u001B[0m 11ms/step - accuracy: 0.8763 - loss: 0.3572 - val_accuracy: 0.8156 - val_loss: 0.4799\n",
      "Epoch 161/200\n",
      "\u001B[1m8/8\u001B[0m \u001B[32m━━━━━━━━━━━━━━━━━━━━\u001B[0m\u001B[37m\u001B[0m \u001B[1m0s\u001B[0m 11ms/step - accuracy: 0.8650 - loss: 0.3786 - val_accuracy: 0.8156 - val_loss: 0.4687\n",
      "Epoch 162/200\n",
      "\u001B[1m8/8\u001B[0m \u001B[32m━━━━━━━━━━━━━━━━━━━━\u001B[0m\u001B[37m\u001B[0m \u001B[1m0s\u001B[0m 11ms/step - accuracy: 0.8769 - loss: 0.3736 - val_accuracy: 0.8156 - val_loss: 0.4621\n",
      "Epoch 163/200\n",
      "\u001B[1m8/8\u001B[0m \u001B[32m━━━━━━━━━━━━━━━━━━━━\u001B[0m\u001B[37m\u001B[0m \u001B[1m0s\u001B[0m 13ms/step - accuracy: 0.8550 - loss: 0.3888 - val_accuracy: 0.8268 - val_loss: 0.4643\n",
      "Epoch 164/200\n",
      "\u001B[1m8/8\u001B[0m \u001B[32m━━━━━━━━━━━━━━━━━━━━\u001B[0m\u001B[37m\u001B[0m \u001B[1m0s\u001B[0m 12ms/step - accuracy: 0.8724 - loss: 0.3576 - val_accuracy: 0.8212 - val_loss: 0.4618\n",
      "Epoch 165/200\n",
      "\u001B[1m8/8\u001B[0m \u001B[32m━━━━━━━━━━━━━━━━━━━━\u001B[0m\u001B[37m\u001B[0m \u001B[1m0s\u001B[0m 12ms/step - accuracy: 0.8583 - loss: 0.4034 - val_accuracy: 0.8212 - val_loss: 0.4580\n",
      "Epoch 166/200\n",
      "\u001B[1m8/8\u001B[0m \u001B[32m━━━━━━━━━━━━━━━━━━━━\u001B[0m\u001B[37m\u001B[0m \u001B[1m0s\u001B[0m 13ms/step - accuracy: 0.8639 - loss: 0.3840 - val_accuracy: 0.8156 - val_loss: 0.4581\n",
      "Epoch 167/200\n",
      "\u001B[1m8/8\u001B[0m \u001B[32m━━━━━━━━━━━━━━━━━━━━\u001B[0m\u001B[37m\u001B[0m \u001B[1m0s\u001B[0m 11ms/step - accuracy: 0.8505 - loss: 0.3758 - val_accuracy: 0.8156 - val_loss: 0.4642\n",
      "Epoch 168/200\n",
      "\u001B[1m8/8\u001B[0m \u001B[32m━━━━━━━━━━━━━━━━━━━━\u001B[0m\u001B[37m\u001B[0m \u001B[1m0s\u001B[0m 11ms/step - accuracy: 0.8571 - loss: 0.4088 - val_accuracy: 0.8156 - val_loss: 0.4718\n",
      "Epoch 169/200\n",
      "\u001B[1m8/8\u001B[0m \u001B[32m━━━━━━━━━━━━━━━━━━━━\u001B[0m\u001B[37m\u001B[0m \u001B[1m0s\u001B[0m 14ms/step - accuracy: 0.8590 - loss: 0.3708 - val_accuracy: 0.8212 - val_loss: 0.4698\n",
      "Epoch 170/200\n",
      "\u001B[1m8/8\u001B[0m \u001B[32m━━━━━━━━━━━━━━━━━━━━\u001B[0m\u001B[37m\u001B[0m \u001B[1m0s\u001B[0m 11ms/step - accuracy: 0.8596 - loss: 0.3761 - val_accuracy: 0.8212 - val_loss: 0.4631\n",
      "Epoch 171/200\n",
      "\u001B[1m8/8\u001B[0m \u001B[32m━━━━━━━━━━━━━━━━━━━━\u001B[0m\u001B[37m\u001B[0m \u001B[1m0s\u001B[0m 14ms/step - accuracy: 0.8688 - loss: 0.3753 - val_accuracy: 0.8268 - val_loss: 0.4614\n",
      "Epoch 172/200\n",
      "\u001B[1m8/8\u001B[0m \u001B[32m━━━━━━━━━━━━━━━━━━━━\u001B[0m\u001B[37m\u001B[0m \u001B[1m0s\u001B[0m 11ms/step - accuracy: 0.8648 - loss: 0.3820 - val_accuracy: 0.8268 - val_loss: 0.4587\n",
      "Epoch 173/200\n",
      "\u001B[1m8/8\u001B[0m \u001B[32m━━━━━━━━━━━━━━━━━━━━\u001B[0m\u001B[37m\u001B[0m \u001B[1m0s\u001B[0m 12ms/step - accuracy: 0.8562 - loss: 0.3768 - val_accuracy: 0.8156 - val_loss: 0.4563\n",
      "Epoch 174/200\n",
      "\u001B[1m8/8\u001B[0m \u001B[32m━━━━━━━━━━━━━━━━━━━━\u001B[0m\u001B[37m\u001B[0m \u001B[1m0s\u001B[0m 11ms/step - accuracy: 0.8630 - loss: 0.3578 - val_accuracy: 0.8212 - val_loss: 0.4607\n",
      "Epoch 175/200\n",
      "\u001B[1m8/8\u001B[0m \u001B[32m━━━━━━━━━━━━━━━━━━━━\u001B[0m\u001B[37m\u001B[0m \u001B[1m0s\u001B[0m 14ms/step - accuracy: 0.8609 - loss: 0.3694 - val_accuracy: 0.8156 - val_loss: 0.4655\n",
      "Epoch 176/200\n",
      "\u001B[1m8/8\u001B[0m \u001B[32m━━━━━━━━━━━━━━━━━━━━\u001B[0m\u001B[37m\u001B[0m \u001B[1m0s\u001B[0m 16ms/step - accuracy: 0.8719 - loss: 0.3719 - val_accuracy: 0.8212 - val_loss: 0.4655\n",
      "Epoch 177/200\n",
      "\u001B[1m8/8\u001B[0m \u001B[32m━━━━━━━━━━━━━━━━━━━━\u001B[0m\u001B[37m\u001B[0m \u001B[1m0s\u001B[0m 16ms/step - accuracy: 0.8571 - loss: 0.3697 - val_accuracy: 0.8212 - val_loss: 0.4618\n",
      "Epoch 178/200\n",
      "\u001B[1m8/8\u001B[0m \u001B[32m━━━━━━━━━━━━━━━━━━━━\u001B[0m\u001B[37m\u001B[0m \u001B[1m0s\u001B[0m 15ms/step - accuracy: 0.8578 - loss: 0.3831 - val_accuracy: 0.8101 - val_loss: 0.4532\n",
      "Epoch 179/200\n",
      "\u001B[1m8/8\u001B[0m \u001B[32m━━━━━━━━━━━━━━━━━━━━\u001B[0m\u001B[37m\u001B[0m \u001B[1m0s\u001B[0m 14ms/step - accuracy: 0.8405 - loss: 0.4058 - val_accuracy: 0.8212 - val_loss: 0.4504\n",
      "Epoch 180/200\n",
      "\u001B[1m8/8\u001B[0m \u001B[32m━━━━━━━━━━━━━━━━━━━━\u001B[0m\u001B[37m\u001B[0m \u001B[1m0s\u001B[0m 20ms/step - accuracy: 0.8638 - loss: 0.3807 - val_accuracy: 0.8212 - val_loss: 0.4519\n",
      "Epoch 181/200\n",
      "\u001B[1m8/8\u001B[0m \u001B[32m━━━━━━━━━━━━━━━━━━━━\u001B[0m\u001B[37m\u001B[0m \u001B[1m0s\u001B[0m 17ms/step - accuracy: 0.8634 - loss: 0.3939 - val_accuracy: 0.8212 - val_loss: 0.4528\n",
      "Epoch 182/200\n",
      "\u001B[1m8/8\u001B[0m \u001B[32m━━━━━━━━━━━━━━━━━━━━\u001B[0m\u001B[37m\u001B[0m \u001B[1m0s\u001B[0m 12ms/step - accuracy: 0.8854 - loss: 0.3643 - val_accuracy: 0.8212 - val_loss: 0.4610\n",
      "Epoch 183/200\n",
      "\u001B[1m8/8\u001B[0m \u001B[32m━━━━━━━━━━━━━━━━━━━━\u001B[0m\u001B[37m\u001B[0m \u001B[1m0s\u001B[0m 10ms/step - accuracy: 0.8715 - loss: 0.3689 - val_accuracy: 0.8268 - val_loss: 0.4683\n",
      "Epoch 184/200\n",
      "\u001B[1m8/8\u001B[0m \u001B[32m━━━━━━━━━━━━━━━━━━━━\u001B[0m\u001B[37m\u001B[0m \u001B[1m0s\u001B[0m 11ms/step - accuracy: 0.8667 - loss: 0.3826 - val_accuracy: 0.8268 - val_loss: 0.4776\n",
      "Epoch 185/200\n",
      "\u001B[1m8/8\u001B[0m \u001B[32m━━━━━━━━━━━━━━━━━━━━\u001B[0m\u001B[37m\u001B[0m \u001B[1m0s\u001B[0m 11ms/step - accuracy: 0.8683 - loss: 0.3786 - val_accuracy: 0.8268 - val_loss: 0.4778\n",
      "Epoch 186/200\n",
      "\u001B[1m8/8\u001B[0m \u001B[32m━━━━━━━━━━━━━━━━━━━━\u001B[0m\u001B[37m\u001B[0m \u001B[1m0s\u001B[0m 14ms/step - accuracy: 0.8714 - loss: 0.3648 - val_accuracy: 0.8268 - val_loss: 0.4741\n",
      "Epoch 187/200\n",
      "\u001B[1m8/8\u001B[0m \u001B[32m━━━━━━━━━━━━━━━━━━━━\u001B[0m\u001B[37m\u001B[0m \u001B[1m0s\u001B[0m 11ms/step - accuracy: 0.8556 - loss: 0.3854 - val_accuracy: 0.8212 - val_loss: 0.4664\n",
      "Epoch 188/200\n",
      "\u001B[1m8/8\u001B[0m \u001B[32m━━━━━━━━━━━━━━━━━━━━\u001B[0m\u001B[37m\u001B[0m \u001B[1m0s\u001B[0m 11ms/step - accuracy: 0.8754 - loss: 0.3619 - val_accuracy: 0.8212 - val_loss: 0.4635\n",
      "Epoch 189/200\n",
      "\u001B[1m8/8\u001B[0m \u001B[32m━━━━━━━━━━━━━━━━━━━━\u001B[0m\u001B[37m\u001B[0m \u001B[1m0s\u001B[0m 11ms/step - accuracy: 0.8527 - loss: 0.3746 - val_accuracy: 0.8212 - val_loss: 0.4603\n",
      "Epoch 190/200\n",
      "\u001B[1m8/8\u001B[0m \u001B[32m━━━━━━━━━━━━━━━━━━━━\u001B[0m\u001B[37m\u001B[0m \u001B[1m0s\u001B[0m 11ms/step - accuracy: 0.8648 - loss: 0.3587 - val_accuracy: 0.8212 - val_loss: 0.4623\n",
      "Epoch 191/200\n",
      "\u001B[1m8/8\u001B[0m \u001B[32m━━━━━━━━━━━━━━━━━━━━\u001B[0m\u001B[37m\u001B[0m \u001B[1m0s\u001B[0m 11ms/step - accuracy: 0.8805 - loss: 0.3516 - val_accuracy: 0.8212 - val_loss: 0.4614\n",
      "Epoch 192/200\n",
      "\u001B[1m8/8\u001B[0m \u001B[32m━━━━━━━━━━━━━━━━━━━━\u001B[0m\u001B[37m\u001B[0m \u001B[1m0s\u001B[0m 13ms/step - accuracy: 0.8451 - loss: 0.3962 - val_accuracy: 0.8156 - val_loss: 0.4669\n",
      "Epoch 193/200\n",
      "\u001B[1m8/8\u001B[0m \u001B[32m━━━━━━━━━━━━━━━━━━━━\u001B[0m\u001B[37m\u001B[0m \u001B[1m0s\u001B[0m 12ms/step - accuracy: 0.8484 - loss: 0.4014 - val_accuracy: 0.8212 - val_loss: 0.4668\n",
      "Epoch 194/200\n",
      "\u001B[1m8/8\u001B[0m \u001B[32m━━━━━━━━━━━━━━━━━━━━\u001B[0m\u001B[37m\u001B[0m \u001B[1m0s\u001B[0m 10ms/step - accuracy: 0.8624 - loss: 0.3898 - val_accuracy: 0.8212 - val_loss: 0.4650\n",
      "Epoch 195/200\n",
      "\u001B[1m8/8\u001B[0m \u001B[32m━━━━━━━━━━━━━━━━━━━━\u001B[0m\u001B[37m\u001B[0m \u001B[1m0s\u001B[0m 11ms/step - accuracy: 0.8657 - loss: 0.3655 - val_accuracy: 0.8212 - val_loss: 0.4706\n",
      "Epoch 196/200\n",
      "\u001B[1m8/8\u001B[0m \u001B[32m━━━━━━━━━━━━━━━━━━━━\u001B[0m\u001B[37m\u001B[0m \u001B[1m0s\u001B[0m 11ms/step - accuracy: 0.8787 - loss: 0.3640 - val_accuracy: 0.8212 - val_loss: 0.4727\n",
      "Epoch 197/200\n",
      "\u001B[1m8/8\u001B[0m \u001B[32m━━━━━━━━━━━━━━━━━━━━\u001B[0m\u001B[37m\u001B[0m \u001B[1m0s\u001B[0m 19ms/step - accuracy: 0.8533 - loss: 0.3887 - val_accuracy: 0.8268 - val_loss: 0.4653\n",
      "Epoch 198/200\n",
      "\u001B[1m8/8\u001B[0m \u001B[32m━━━━━━━━━━━━━━━━━━━━\u001B[0m\u001B[37m\u001B[0m \u001B[1m0s\u001B[0m 16ms/step - accuracy: 0.8734 - loss: 0.3338 - val_accuracy: 0.8212 - val_loss: 0.4662\n",
      "Epoch 199/200\n",
      "\u001B[1m8/8\u001B[0m \u001B[32m━━━━━━━━━━━━━━━━━━━━\u001B[0m\u001B[37m\u001B[0m \u001B[1m0s\u001B[0m 16ms/step - accuracy: 0.8669 - loss: 0.3813 - val_accuracy: 0.8156 - val_loss: 0.4771\n",
      "Epoch 200/200\n",
      "\u001B[1m8/8\u001B[0m \u001B[32m━━━━━━━━━━━━━━━━━━━━\u001B[0m\u001B[37m\u001B[0m \u001B[1m0s\u001B[0m 16ms/step - accuracy: 0.8674 - loss: 0.3688 - val_accuracy: 0.8156 - val_loss: 0.4747\n"
     ]
    },
    {
     "data": {
      "text/plain": [
       "<keras.src.callbacks.history.History at 0x1f30bc45f10>"
      ]
     },
     "execution_count": 284,
     "metadata": {},
     "output_type": "execute_result"
    }
   ],
   "execution_count": 284
  },
  {
   "metadata": {
    "ExecuteTime": {
     "end_time": "2025-08-06T08:49:58.738070Z",
     "start_time": "2025-08-06T08:49:58.361878Z"
    }
   },
   "cell_type": "code",
   "source": "final_pred=model.predict(test_df)",
   "id": "cd557903d5419485",
   "outputs": [
    {
     "name": "stdout",
     "output_type": "stream",
     "text": [
      "\u001B[1m14/14\u001B[0m \u001B[32m━━━━━━━━━━━━━━━━━━━━\u001B[0m\u001B[37m\u001B[0m \u001B[1m0s\u001B[0m 13ms/step\n"
     ]
    }
   ],
   "execution_count": 285
  },
  {
   "metadata": {
    "ExecuteTime": {
     "end_time": "2025-08-06T08:49:58.945626Z",
     "start_time": "2025-08-06T08:49:58.923888Z"
    }
   },
   "cell_type": "code",
   "source": "print(final_pred)",
   "id": "dce59c5128b86715",
   "outputs": [
    {
     "name": "stdout",
     "output_type": "stream",
     "text": [
      "[[2.08281392e-07]\n",
      " [8.25449931e-10]\n",
      " [1.98607949e-12]\n",
      " [6.58405042e-06]\n",
      " [1.54301422e-04]\n",
      " [2.08624522e-03]\n",
      " [2.08830829e-06]\n",
      " [5.63277339e-04]\n",
      " [5.46323077e-04]\n",
      " [1.35605887e-03]\n",
      " [1.04427926e-01]\n",
      " [1.28280533e-07]\n",
      " [1.00000000e+00]\n",
      " [5.22047301e-11]\n",
      " [9.94779885e-01]\n",
      " [2.04744041e-02]\n",
      " [6.53832160e-07]\n",
      " [7.58930328e-05]\n",
      " [6.08060782e-06]\n",
      " [3.40321704e-09]\n",
      " [4.66229758e-05]\n",
      " [2.85613094e-03]\n",
      " [9.94884610e-01]\n",
      " [9.99998808e-01]\n",
      " [1.00000000e+00]\n",
      " [8.77136364e-10]\n",
      " [9.99999702e-01]\n",
      " [3.94698691e-05]\n",
      " [6.39853170e-06]\n",
      " [5.52673787e-02]\n",
      " [1.59969673e-08]\n",
      " [4.87355795e-03]\n",
      " [6.66338838e-06]\n",
      " [5.32216057e-02]\n",
      " [9.99967933e-01]\n",
      " [2.25873970e-04]\n",
      " [1.28222212e-01]\n",
      " [1.35585913e-04]\n",
      " [1.94745062e-05]\n",
      " [9.92752731e-01]\n",
      " [8.73454340e-08]\n",
      " [7.67069459e-01]\n",
      " [1.05508269e-08]\n",
      " [1.18798234e-05]\n",
      " [2.44783685e-01]\n",
      " [1.29546388e-05]\n",
      " [1.19355661e-06]\n",
      " [8.57085213e-02]\n",
      " [9.98058259e-01]\n",
      " [7.03879266e-07]\n",
      " [9.99991000e-01]\n",
      " [4.03984741e-05]\n",
      " [2.73950049e-03]\n",
      " [1.00000000e+00]\n",
      " [6.71052486e-02]\n",
      " [1.66932821e-01]\n",
      " [1.53531118e-07]\n",
      " [1.64380253e-05]\n",
      " [7.54999444e-02]\n",
      " [1.00000000e+00]\n",
      " [4.18390642e-04]\n",
      " [2.78490779e-06]\n",
      " [2.60517554e-04]\n",
      " [8.37389161e-05]\n",
      " [1.00000000e+00]\n",
      " [7.23758459e-01]\n",
      " [4.41781071e-04]\n",
      " [4.80610970e-06]\n",
      " [4.99707472e-04]\n",
      " [1.00000000e+00]\n",
      " [3.10000214e-05]\n",
      " [8.54804093e-05]\n",
      " [3.18588445e-06]\n",
      " [7.97907531e-04]\n",
      " [1.00000000e+00]\n",
      " [1.00000000e+00]\n",
      " [8.38740319e-02]\n",
      " [7.45836193e-09]\n",
      " [6.54615906e-06]\n",
      " [3.10000214e-05]\n",
      " [7.56161362e-02]\n",
      " [1.00000000e+00]\n",
      " [3.42645770e-08]\n",
      " [8.39391649e-02]\n",
      " [8.32478255e-02]\n",
      " [6.80795237e-02]\n",
      " [9.78186927e-06]\n",
      " [4.36481205e-04]\n",
      " [1.35255113e-01]\n",
      " [6.12833977e-01]\n",
      " [2.79605447e-04]\n",
      " [8.38249773e-02]\n",
      " [9.99945521e-01]\n",
      " [8.38740319e-02]\n",
      " [1.47602963e-03]\n",
      " [1.25310589e-05]\n",
      " [1.93868000e-05]\n",
      " [2.22426274e-06]\n",
      " [1.70385334e-04]\n",
      " [3.88959791e-07]\n",
      " [9.87163782e-01]\n",
      " [2.41364862e-04]\n",
      " [8.57085213e-02]\n",
      " [8.08650748e-06]\n",
      " [9.83434380e-04]\n",
      " [9.85795268e-05]\n",
      " [7.40082396e-05]\n",
      " [8.57085213e-02]\n",
      " [8.30937177e-02]\n",
      " [1.12858624e-03]\n",
      " [9.37102840e-08]\n",
      " [1.46194056e-01]\n",
      " [1.79286624e-04]\n",
      " [3.05273221e-04]\n",
      " [1.00000000e+00]\n",
      " [9.78481025e-04]\n",
      " [9.34739560e-02]\n",
      " [2.75751561e-01]\n",
      " [9.99999821e-01]\n",
      " [2.83546047e-04]\n",
      " [1.29091918e-01]\n",
      " [6.48958832e-02]\n",
      " [9.99994159e-01]\n",
      " [2.89759714e-06]\n",
      " [8.57085213e-02]\n",
      " [2.59394501e-03]\n",
      " [4.61223826e-05]\n",
      " [3.18438798e-01]\n",
      " [3.01681631e-08]\n",
      " [2.06203167e-05]\n",
      " [6.06514050e-07]\n",
      " [3.04620080e-08]\n",
      " [1.99739914e-02]\n",
      " [6.27698228e-02]\n",
      " [4.39252146e-09]\n",
      " [1.96071687e-05]\n",
      " [6.94737946e-06]\n",
      " [3.25499968e-05]\n",
      " [5.47384152e-05]\n",
      " [7.95798042e-06]\n",
      " [9.78824556e-01]\n",
      " [1.00000000e+00]\n",
      " [1.00000000e+00]\n",
      " [2.16070926e-04]\n",
      " [8.23201333e-07]\n",
      " [7.43905275e-06]\n",
      " [9.99094546e-01]\n",
      " [5.58322427e-05]\n",
      " [4.22113180e-01]\n",
      " [5.35878207e-05]\n",
      " [1.00000000e+00]\n",
      " [9.12528560e-02]\n",
      " [1.06411512e-11]\n",
      " [2.91722273e-07]\n",
      " [8.28491822e-02]\n",
      " [1.81309588e-05]\n",
      " [1.00000000e+00]\n",
      " [4.49424406e-05]\n",
      " [1.43636316e-06]\n",
      " [3.17828417e-05]\n",
      " [1.35283157e-01]\n",
      " [5.45223802e-02]\n",
      " [5.57465282e-05]\n",
      " [9.32156146e-02]\n",
      " [5.41608252e-08]\n",
      " [2.26689270e-04]\n",
      " [1.87487545e-04]\n",
      " [9.30160508e-02]\n",
      " [9.89043891e-01]\n",
      " [9.41962862e-05]\n",
      " [8.49889889e-02]\n",
      " [6.28906264e-06]\n",
      " [1.11697489e-04]\n",
      " [9.13951844e-02]\n",
      " [7.11564041e-07]\n",
      " [9.99369383e-01]\n",
      " [9.99190748e-01]\n",
      " [2.17853922e-05]\n",
      " [2.16579559e-04]\n",
      " [9.95371878e-01]\n",
      " [5.84379086e-06]\n",
      " [9.99999940e-01]\n",
      " [9.99997973e-01]\n",
      " [1.07634030e-01]\n",
      " [1.00000000e+00]\n",
      " [1.51566852e-07]\n",
      " [1.69822981e-03]\n",
      " [3.08678689e-04]\n",
      " [7.85807490e-01]\n",
      " [7.28695326e-08]\n",
      " [1.38922696e-05]\n",
      " [3.83868277e-01]\n",
      " [8.75291880e-03]\n",
      " [6.91592096e-12]\n",
      " [9.90432143e-01]\n",
      " [3.69194083e-07]\n",
      " [1.00000000e+00]\n",
      " [4.05533356e-04]\n",
      " [6.55687254e-05]\n",
      " [1.32305309e-01]\n",
      " [1.55352101e-01]\n",
      " [4.61893938e-02]\n",
      " [1.00000000e+00]\n",
      " [9.84456837e-01]\n",
      " [2.77830295e-05]\n",
      " [5.37484109e-01]\n",
      " [2.33935566e-07]\n",
      " [4.26815241e-05]\n",
      " [2.84940848e-04]\n",
      " [1.28576639e-05]\n",
      " [1.87491551e-05]\n",
      " [8.18109736e-02]\n",
      " [9.99999940e-01]\n",
      " [3.42448181e-10]\n",
      " [2.85402066e-08]\n",
      " [1.37388546e-04]\n",
      " [1.35038331e-01]\n",
      " [1.00000000e+00]\n",
      " [1.00000000e+00]\n",
      " [8.38740319e-02]\n",
      " [1.13154865e-05]\n",
      " [7.62057462e-05]\n",
      " [2.61277746e-04]\n",
      " [7.13184927e-05]\n",
      " [1.75567347e-08]\n",
      " [6.16665445e-02]\n",
      " [2.98275372e-05]\n",
      " [1.35255113e-01]\n",
      " [8.58051479e-08]\n",
      " [4.25146851e-07]\n",
      " [9.99999166e-01]\n",
      " [5.92910588e-01]\n",
      " [3.89263951e-05]\n",
      " [1.07682846e-01]\n",
      " [9.99998152e-01]\n",
      " [1.11969428e-04]\n",
      " [2.22125929e-02]\n",
      " [1.32935544e-04]\n",
      " [8.54074431e-04]\n",
      " [1.00000000e+00]\n",
      " [7.65463959e-09]\n",
      " [3.67136579e-07]\n",
      " [1.00000000e+00]\n",
      " [8.39313194e-02]\n",
      " [3.11254859e-02]\n",
      " [2.37387002e-01]\n",
      " [2.56136083e-03]\n",
      " [1.40086900e-06]\n",
      " [2.73964717e-04]\n",
      " [1.33326322e-01]\n",
      " [5.81086159e-01]\n",
      " [1.14055700e-04]\n",
      " [1.00000000e+00]\n",
      " [2.87666135e-05]\n",
      " [7.15311558e-07]\n",
      " [8.36237594e-02]\n",
      " [8.57085213e-02]\n",
      " [3.58575835e-06]\n",
      " [9.80780344e-04]\n",
      " [7.09326996e-05]\n",
      " [6.85529074e-07]\n",
      " [8.20302594e-05]\n",
      " [7.22847326e-05]\n",
      " [1.03075795e-01]\n",
      " [6.56780776e-06]\n",
      " [8.39391649e-02]\n",
      " [1.64191741e-02]\n",
      " [8.36237594e-02]\n",
      " [1.28222212e-01]\n",
      " [5.11181657e-04]\n",
      " [9.99996126e-01]\n",
      " [8.57085213e-02]\n",
      " [1.00000000e+00]\n",
      " [1.40584737e-01]\n",
      " [9.13903341e-02]\n",
      " [1.25366569e-01]\n",
      " [7.66279481e-06]\n",
      " [1.16942010e-06]\n",
      " [2.93587073e-05]\n",
      " [1.00727630e-04]\n",
      " [6.53657044e-05]\n",
      " [6.44888431e-02]\n",
      " [1.46263257e-01]\n",
      " [4.14939895e-02]\n",
      " [4.86630619e-01]\n",
      " [8.29002431e-08]\n",
      " [8.28443393e-02]\n",
      " [1.00000000e+00]\n",
      " [1.40719831e-01]\n",
      " [8.38740319e-02]\n",
      " [9.61992085e-01]\n",
      " [1.74171555e-06]\n",
      " [9.13951844e-02]\n",
      " [9.99976814e-01]\n",
      " [1.51075042e-07]\n",
      " [8.34181355e-06]\n",
      " [9.80111539e-01]\n",
      " [6.35466203e-02]\n",
      " [9.81163323e-01]\n",
      " [2.18270884e-06]\n",
      " [5.63674519e-07]\n",
      " [1.79888919e-01]\n",
      " [8.46934611e-08]\n",
      " [2.41891667e-05]\n",
      " [1.35255113e-01]\n",
      " [1.51943944e-10]\n",
      " [1.00000000e+00]\n",
      " [8.81923661e-02]\n",
      " [9.99999821e-01]\n",
      " [1.27652591e-08]\n",
      " [3.30631534e-04]\n",
      " [4.90808088e-05]\n",
      " [8.36457238e-02]\n",
      " [9.62077777e-08]\n",
      " [1.00000000e+00]\n",
      " [6.55679498e-04]\n",
      " [1.00000000e+00]\n",
      " [3.65275278e-04]\n",
      " [5.30719672e-06]\n",
      " [3.37955505e-02]\n",
      " [8.08650748e-06]\n",
      " [1.84844976e-05]\n",
      " [4.63368160e-05]\n",
      " [4.08198575e-05]\n",
      " [1.00000000e+00]\n",
      " [2.45723550e-05]\n",
      " [9.98463154e-01]\n",
      " [9.99999702e-01]\n",
      " [1.06335836e-04]\n",
      " [3.24624008e-04]\n",
      " [5.32936383e-07]\n",
      " [1.41531955e-05]\n",
      " [9.13903341e-02]\n",
      " [1.44852092e-03]\n",
      " [5.36633661e-06]\n",
      " [2.63724622e-04]\n",
      " [2.47606567e-06]\n",
      " [1.50104000e-08]\n",
      " [1.24363638e-02]\n",
      " [1.02814458e-01]\n",
      " [6.41447667e-04]\n",
      " [5.35030892e-07]\n",
      " [3.91234615e-04]\n",
      " [1.00000000e+00]\n",
      " [5.22981919e-02]\n",
      " [9.57401993e-04]\n",
      " [3.25499968e-05]\n",
      " [7.63625465e-08]\n",
      " [9.75076473e-05]\n",
      " [3.50252885e-05]\n",
      " [9.99532878e-01]\n",
      " [2.77830295e-05]\n",
      " [9.99999940e-01]\n",
      " [8.60572010e-02]\n",
      " [6.53734282e-02]\n",
      " [3.79259895e-08]\n",
      " [6.85982968e-07]\n",
      " [8.39234516e-02]\n",
      " [8.57085213e-02]\n",
      " [1.35317805e-05]\n",
      " [9.97889161e-01]\n",
      " [9.63449955e-01]\n",
      " [4.55182562e-05]\n",
      " [6.58405042e-06]\n",
      " [9.99998927e-01]\n",
      " [3.70044843e-03]\n",
      " [6.80720955e-02]\n",
      " [9.97521281e-01]\n",
      " [9.92121518e-01]\n",
      " [1.31066427e-05]\n",
      " [1.49645202e-04]\n",
      " [1.00000000e+00]\n",
      " [1.24497912e-10]\n",
      " [1.24897133e-08]\n",
      " [9.99995887e-01]\n",
      " [1.00000000e+00]\n",
      " [6.73910545e-05]\n",
      " [1.95735905e-04]\n",
      " [1.76912329e-06]\n",
      " [1.00152962e-01]\n",
      " [8.57085213e-02]\n",
      " [9.63041839e-06]\n",
      " [1.45810291e-01]\n",
      " [1.42844371e-03]\n",
      " [7.01177195e-02]\n",
      " [9.99998808e-01]\n",
      " [2.17332872e-05]\n",
      " [4.00480656e-11]\n",
      " [7.26533399e-05]\n",
      " [1.43652990e-01]\n",
      " [1.00000000e+00]\n",
      " [8.42805832e-07]\n",
      " [1.53657449e-02]\n",
      " [1.74759096e-09]\n",
      " [2.80136956e-05]\n",
      " [9.99999583e-01]\n",
      " [1.74288034e-05]\n",
      " [9.99999821e-01]\n",
      " [4.58728791e-05]\n",
      " [9.54895654e-07]\n",
      " [1.00000000e+00]\n",
      " [9.42446832e-07]\n",
      " [9.99999762e-01]\n",
      " [9.99965429e-01]\n",
      " [1.11367956e-06]\n",
      " [1.16869446e-03]\n",
      " [5.01275572e-05]\n",
      " [1.00000000e+00]\n",
      " [1.35304153e-01]\n",
      " [2.07476094e-01]\n",
      " [1.35255113e-01]\n",
      " [1.00000000e+00]\n",
      " [4.77272579e-06]\n",
      " [8.38740319e-02]\n",
      " [1.00000000e+00]\n",
      " [2.73034679e-08]\n",
      " [8.38740319e-02]\n",
      " [6.44954816e-02]]\n"
     ]
    }
   ],
   "execution_count": 286
  },
  {
   "metadata": {
    "ExecuteTime": {
     "end_time": "2025-08-06T08:49:59.060935Z",
     "start_time": "2025-08-06T08:49:59.054256Z"
    }
   },
   "cell_type": "code",
   "source": "competition_predictions=(final_pred > 0.5).astype(int)",
   "id": "f23795671004e95e",
   "outputs": [],
   "execution_count": 287
  },
  {
   "metadata": {
    "ExecuteTime": {
     "end_time": "2025-08-06T08:49:59.109547Z",
     "start_time": "2025-08-06T08:49:59.100414Z"
    }
   },
   "cell_type": "code",
   "source": "pass_df['Survived']=competition_predictions",
   "id": "3ebe9305a243c3e1",
   "outputs": [],
   "execution_count": 288
  },
  {
   "metadata": {
    "ExecuteTime": {
     "end_time": "2025-08-06T08:49:59.164657Z",
     "start_time": "2025-08-06T08:49:59.151891Z"
    }
   },
   "cell_type": "code",
   "source": "pass_df.head()",
   "id": "2df01aa1e8eb84f5",
   "outputs": [
    {
     "data": {
      "text/plain": [
       "   PassengerId  Survived\n",
       "0          892         0\n",
       "1          893         0\n",
       "2          894         0\n",
       "3          895         0\n",
       "4          896         0"
      ],
      "text/html": [
       "<div>\n",
       "<style scoped>\n",
       "    .dataframe tbody tr th:only-of-type {\n",
       "        vertical-align: middle;\n",
       "    }\n",
       "\n",
       "    .dataframe tbody tr th {\n",
       "        vertical-align: top;\n",
       "    }\n",
       "\n",
       "    .dataframe thead th {\n",
       "        text-align: right;\n",
       "    }\n",
       "</style>\n",
       "<table border=\"1\" class=\"dataframe\">\n",
       "  <thead>\n",
       "    <tr style=\"text-align: right;\">\n",
       "      <th></th>\n",
       "      <th>PassengerId</th>\n",
       "      <th>Survived</th>\n",
       "    </tr>\n",
       "  </thead>\n",
       "  <tbody>\n",
       "    <tr>\n",
       "      <th>0</th>\n",
       "      <td>892</td>\n",
       "      <td>0</td>\n",
       "    </tr>\n",
       "    <tr>\n",
       "      <th>1</th>\n",
       "      <td>893</td>\n",
       "      <td>0</td>\n",
       "    </tr>\n",
       "    <tr>\n",
       "      <th>2</th>\n",
       "      <td>894</td>\n",
       "      <td>0</td>\n",
       "    </tr>\n",
       "    <tr>\n",
       "      <th>3</th>\n",
       "      <td>895</td>\n",
       "      <td>0</td>\n",
       "    </tr>\n",
       "    <tr>\n",
       "      <th>4</th>\n",
       "      <td>896</td>\n",
       "      <td>0</td>\n",
       "    </tr>\n",
       "  </tbody>\n",
       "</table>\n",
       "</div>"
      ]
     },
     "execution_count": 289,
     "metadata": {},
     "output_type": "execute_result"
    }
   ],
   "execution_count": 289
  },
  {
   "metadata": {
    "ExecuteTime": {
     "end_time": "2025-08-06T08:49:59.302688Z",
     "start_time": "2025-08-06T08:49:59.293329Z"
    }
   },
   "cell_type": "code",
   "source": "pass_df.to_csv(\"Titanic_Predictions.csv\",index=False)",
   "id": "db4c24aff1f8b4a8",
   "outputs": [],
   "execution_count": 290
  }
 ],
 "metadata": {
  "kernelspec": {
   "display_name": "Python 3",
   "language": "python",
   "name": "python3"
  },
  "language_info": {
   "codemirror_mode": {
    "name": "ipython",
    "version": 2
   },
   "file_extension": ".py",
   "mimetype": "text/x-python",
   "name": "python",
   "nbconvert_exporter": "python",
   "pygments_lexer": "ipython2",
   "version": "2.7.6"
  }
 },
 "nbformat": 4,
 "nbformat_minor": 5
}
