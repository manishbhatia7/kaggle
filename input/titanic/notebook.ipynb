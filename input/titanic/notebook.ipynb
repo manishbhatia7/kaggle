{
 "cells": [
  {
   "metadata": {},
   "cell_type": "markdown",
   "source": "# Importing Libraries",
   "id": "cdd151d4705ff90f"
  },
  {
   "cell_type": "code",
   "id": "initial_id",
   "metadata": {
    "collapsed": true,
    "ExecuteTime": {
     "end_time": "2025-06-26T08:03:29.003894Z",
     "start_time": "2025-06-26T08:03:28.994635Z"
    }
   },
   "source": [
    "import pandas as pd\n",
    "import numpy as np\n",
    "import seaborn as sns\n",
    "import matplotlib.pyplot as plt\n",
    "import warnings\n",
    "warnings.filterwarnings('ignore')\n",
    "from sklearn.model_selection import train_test_split\n",
    "from sklearn.preprocessing import StandardScaler\n",
    "from sklearn.impute import SimpleImputer\n",
    "from sklearn.ensemble import RandomForestClassifier\n",
    "from sklearn.tree import DecisionTreeClassifier\n",
    "pd.set_option(\"display.max.rows\",None)\n",
    "pd.set_option(\"display.max.columns\",None)\n",
    "from sklearn.preprocessing import LabelEncoder\n",
    "from sklearn.preprocessing import OneHotEncoder\n",
    "from sklearn.neighbors import KNeighborsClassifier\n",
    "from sklearn.naive_bayes import GaussianNB\n",
    "from xgboost import XGBClassifier\n",
    "from lightgbm import LGBMClassifier\n",
    "from catboost import CatBoostClassifier"
   ],
   "outputs": [],
   "execution_count": 53
  },
  {
   "metadata": {
    "ExecuteTime": {
     "end_time": "2025-06-26T08:03:29.039654Z",
     "start_time": "2025-06-26T08:03:29.026996Z"
    }
   },
   "cell_type": "code",
   "source": [
    "train_df=pd.read_csv('/kaggle/input/titanic/train.csv')\n",
    "test_df=pd.read_csv('/kaggle/input/titanic/test.csv')"
   ],
   "id": "561d1aabdf7639ed",
   "outputs": [],
   "execution_count": 54
  },
  {
   "metadata": {
    "ExecuteTime": {
     "end_time": "2025-06-26T08:03:29.082333Z",
     "start_time": "2025-06-26T08:03:29.070705Z"
    }
   },
   "cell_type": "code",
   "source": "train_df.head(1)",
   "id": "f014738989f0226f",
   "outputs": [
    {
     "data": {
      "text/plain": [
       "   PassengerId  Survived  Pclass                     Name   Sex   Age  SibSp  \\\n",
       "0            1         0       3  Braund, Mr. Owen Harris  male  22.0      1   \n",
       "\n",
       "   Parch     Ticket  Fare Cabin Embarked  \n",
       "0      0  A/5 21171  7.25   NaN        S  "
      ],
      "text/html": [
       "<div>\n",
       "<style scoped>\n",
       "    .dataframe tbody tr th:only-of-type {\n",
       "        vertical-align: middle;\n",
       "    }\n",
       "\n",
       "    .dataframe tbody tr th {\n",
       "        vertical-align: top;\n",
       "    }\n",
       "\n",
       "    .dataframe thead th {\n",
       "        text-align: right;\n",
       "    }\n",
       "</style>\n",
       "<table border=\"1\" class=\"dataframe\">\n",
       "  <thead>\n",
       "    <tr style=\"text-align: right;\">\n",
       "      <th></th>\n",
       "      <th>PassengerId</th>\n",
       "      <th>Survived</th>\n",
       "      <th>Pclass</th>\n",
       "      <th>Name</th>\n",
       "      <th>Sex</th>\n",
       "      <th>Age</th>\n",
       "      <th>SibSp</th>\n",
       "      <th>Parch</th>\n",
       "      <th>Ticket</th>\n",
       "      <th>Fare</th>\n",
       "      <th>Cabin</th>\n",
       "      <th>Embarked</th>\n",
       "    </tr>\n",
       "  </thead>\n",
       "  <tbody>\n",
       "    <tr>\n",
       "      <th>0</th>\n",
       "      <td>1</td>\n",
       "      <td>0</td>\n",
       "      <td>3</td>\n",
       "      <td>Braund, Mr. Owen Harris</td>\n",
       "      <td>male</td>\n",
       "      <td>22.0</td>\n",
       "      <td>1</td>\n",
       "      <td>0</td>\n",
       "      <td>A/5 21171</td>\n",
       "      <td>7.25</td>\n",
       "      <td>NaN</td>\n",
       "      <td>S</td>\n",
       "    </tr>\n",
       "  </tbody>\n",
       "</table>\n",
       "</div>"
      ]
     },
     "execution_count": 55,
     "metadata": {},
     "output_type": "execute_result"
    }
   ],
   "execution_count": 55
  },
  {
   "metadata": {
    "ExecuteTime": {
     "end_time": "2025-06-26T08:03:29.169871Z",
     "start_time": "2025-06-26T08:03:29.155421Z"
    }
   },
   "cell_type": "code",
   "source": "test_df.head(1)",
   "id": "96b421d281e747ff",
   "outputs": [
    {
     "data": {
      "text/plain": [
       "   PassengerId  Pclass              Name   Sex   Age  SibSp  Parch  Ticket  \\\n",
       "0          892       3  Kelly, Mr. James  male  34.5      0      0  330911   \n",
       "\n",
       "     Fare Cabin Embarked  \n",
       "0  7.8292   NaN        Q  "
      ],
      "text/html": [
       "<div>\n",
       "<style scoped>\n",
       "    .dataframe tbody tr th:only-of-type {\n",
       "        vertical-align: middle;\n",
       "    }\n",
       "\n",
       "    .dataframe tbody tr th {\n",
       "        vertical-align: top;\n",
       "    }\n",
       "\n",
       "    .dataframe thead th {\n",
       "        text-align: right;\n",
       "    }\n",
       "</style>\n",
       "<table border=\"1\" class=\"dataframe\">\n",
       "  <thead>\n",
       "    <tr style=\"text-align: right;\">\n",
       "      <th></th>\n",
       "      <th>PassengerId</th>\n",
       "      <th>Pclass</th>\n",
       "      <th>Name</th>\n",
       "      <th>Sex</th>\n",
       "      <th>Age</th>\n",
       "      <th>SibSp</th>\n",
       "      <th>Parch</th>\n",
       "      <th>Ticket</th>\n",
       "      <th>Fare</th>\n",
       "      <th>Cabin</th>\n",
       "      <th>Embarked</th>\n",
       "    </tr>\n",
       "  </thead>\n",
       "  <tbody>\n",
       "    <tr>\n",
       "      <th>0</th>\n",
       "      <td>892</td>\n",
       "      <td>3</td>\n",
       "      <td>Kelly, Mr. James</td>\n",
       "      <td>male</td>\n",
       "      <td>34.5</td>\n",
       "      <td>0</td>\n",
       "      <td>0</td>\n",
       "      <td>330911</td>\n",
       "      <td>7.8292</td>\n",
       "      <td>NaN</td>\n",
       "      <td>Q</td>\n",
       "    </tr>\n",
       "  </tbody>\n",
       "</table>\n",
       "</div>"
      ]
     },
     "execution_count": 56,
     "metadata": {},
     "output_type": "execute_result"
    }
   ],
   "execution_count": 56
  },
  {
   "metadata": {
    "ExecuteTime": {
     "end_time": "2025-06-26T08:03:29.298527Z",
     "start_time": "2025-06-26T08:03:29.291177Z"
    }
   },
   "cell_type": "code",
   "source": [
    "print(train_df.shape)\n",
    "print(test_df.shape)"
   ],
   "id": "2402dd27489ef340",
   "outputs": [
    {
     "name": "stdout",
     "output_type": "stream",
     "text": [
      "(891, 12)\n",
      "(418, 11)\n"
     ]
    }
   ],
   "execution_count": 57
  },
  {
   "metadata": {
    "ExecuteTime": {
     "end_time": "2025-06-26T08:03:29.455631Z",
     "start_time": "2025-06-26T08:03:29.445481Z"
    }
   },
   "cell_type": "code",
   "source": "train_df.info()",
   "id": "9ce0f9a94d07b93b",
   "outputs": [
    {
     "name": "stdout",
     "output_type": "stream",
     "text": [
      "<class 'pandas.core.frame.DataFrame'>\n",
      "RangeIndex: 891 entries, 0 to 890\n",
      "Data columns (total 12 columns):\n",
      " #   Column       Non-Null Count  Dtype  \n",
      "---  ------       --------------  -----  \n",
      " 0   PassengerId  891 non-null    int64  \n",
      " 1   Survived     891 non-null    int64  \n",
      " 2   Pclass       891 non-null    int64  \n",
      " 3   Name         891 non-null    object \n",
      " 4   Sex          891 non-null    object \n",
      " 5   Age          714 non-null    float64\n",
      " 6   SibSp        891 non-null    int64  \n",
      " 7   Parch        891 non-null    int64  \n",
      " 8   Ticket       891 non-null    object \n",
      " 9   Fare         891 non-null    float64\n",
      " 10  Cabin        204 non-null    object \n",
      " 11  Embarked     889 non-null    object \n",
      "dtypes: float64(2), int64(5), object(5)\n",
      "memory usage: 83.7+ KB\n"
     ]
    }
   ],
   "execution_count": 58
  },
  {
   "metadata": {
    "ExecuteTime": {
     "end_time": "2025-06-26T08:03:29.580347Z",
     "start_time": "2025-06-26T08:03:29.571782Z"
    }
   },
   "cell_type": "code",
   "source": "test_df.info()",
   "id": "d8446b2ca36e0b3f",
   "outputs": [
    {
     "name": "stdout",
     "output_type": "stream",
     "text": [
      "<class 'pandas.core.frame.DataFrame'>\n",
      "RangeIndex: 418 entries, 0 to 417\n",
      "Data columns (total 11 columns):\n",
      " #   Column       Non-Null Count  Dtype  \n",
      "---  ------       --------------  -----  \n",
      " 0   PassengerId  418 non-null    int64  \n",
      " 1   Pclass       418 non-null    int64  \n",
      " 2   Name         418 non-null    object \n",
      " 3   Sex          418 non-null    object \n",
      " 4   Age          332 non-null    float64\n",
      " 5   SibSp        418 non-null    int64  \n",
      " 6   Parch        418 non-null    int64  \n",
      " 7   Ticket       418 non-null    object \n",
      " 8   Fare         417 non-null    float64\n",
      " 9   Cabin        91 non-null     object \n",
      " 10  Embarked     418 non-null    object \n",
      "dtypes: float64(2), int64(4), object(5)\n",
      "memory usage: 36.1+ KB\n"
     ]
    }
   ],
   "execution_count": 59
  },
  {
   "metadata": {
    "ExecuteTime": {
     "end_time": "2025-06-26T08:03:29.736506Z",
     "start_time": "2025-06-26T08:03:29.724208Z"
    }
   },
   "cell_type": "code",
   "source": [
    "#Checking duplicates\n",
    "print(\"Duplicates in Training Data\")\n",
    "print((train_df.duplicated().sum()),round(train_df.duplicated().sum()/len(train_df)*100,2))\n",
    "print(\"Duplicates in Test Data\")\n",
    "print((test_df.duplicated().sum()),round(test_df.duplicated().sum()/len(train_df)*100,2))"
   ],
   "id": "21124bc7ab7c8420",
   "outputs": [
    {
     "name": "stdout",
     "output_type": "stream",
     "text": [
      "Duplicates in Training Data\n",
      "0 0.0\n",
      "Duplicates in Test Data\n",
      "0 0.0\n"
     ]
    }
   ],
   "execution_count": 60
  },
  {
   "metadata": {
    "ExecuteTime": {
     "end_time": "2025-06-26T08:03:29.812245Z",
     "start_time": "2025-06-26T08:03:29.804691Z"
    }
   },
   "cell_type": "code",
   "source": [
    "#Checking Dtypes\n",
    "print(\"Checking Dtypes in Training Data\")\n",
    "print(\"\\n\")\n",
    "print(train_df.dtypes)\n",
    "print(\"\\n\")\n",
    "print(\"-\"*40)\n",
    "print(\"Checking Dtypes in Test Data\")\n",
    "print(test_df.dtypes)"
   ],
   "id": "2c2bb09a1067b14a",
   "outputs": [
    {
     "name": "stdout",
     "output_type": "stream",
     "text": [
      "Checking Dtypes in Training Data\n",
      "\n",
      "\n",
      "PassengerId      int64\n",
      "Survived         int64\n",
      "Pclass           int64\n",
      "Name            object\n",
      "Sex             object\n",
      "Age            float64\n",
      "SibSp            int64\n",
      "Parch            int64\n",
      "Ticket          object\n",
      "Fare           float64\n",
      "Cabin           object\n",
      "Embarked        object\n",
      "dtype: object\n",
      "\n",
      "\n",
      "----------------------------------------\n",
      "Checking Dtypes in Test Data\n",
      "PassengerId      int64\n",
      "Pclass           int64\n",
      "Name            object\n",
      "Sex             object\n",
      "Age            float64\n",
      "SibSp            int64\n",
      "Parch            int64\n",
      "Ticket          object\n",
      "Fare           float64\n",
      "Cabin           object\n",
      "Embarked        object\n",
      "dtype: object\n"
     ]
    }
   ],
   "execution_count": 61
  },
  {
   "metadata": {
    "ExecuteTime": {
     "end_time": "2025-06-26T08:03:29.858878Z",
     "start_time": "2025-06-26T08:03:29.853738Z"
    }
   },
   "cell_type": "code",
   "source": "",
   "id": "ac4ff5f70e562670",
   "outputs": [],
   "execution_count": null
  },
  {
   "metadata": {
    "ExecuteTime": {
     "end_time": "2025-06-26T08:03:29.987117Z",
     "start_time": "2025-06-26T08:03:29.961510Z"
    }
   },
   "cell_type": "code",
   "source": "train_df.describe().T",
   "id": "9585e484877c5a19",
   "outputs": [
    {
     "data": {
      "text/plain": [
       "             count        mean         std   min       25%       50%    75%  \\\n",
       "PassengerId  891.0  446.000000  257.353842  1.00  223.5000  446.0000  668.5   \n",
       "Survived     891.0    0.383838    0.486592  0.00    0.0000    0.0000    1.0   \n",
       "Pclass       891.0    2.308642    0.836071  1.00    2.0000    3.0000    3.0   \n",
       "Age          714.0   29.699118   14.526497  0.42   20.1250   28.0000   38.0   \n",
       "SibSp        891.0    0.523008    1.102743  0.00    0.0000    0.0000    1.0   \n",
       "Parch        891.0    0.381594    0.806057  0.00    0.0000    0.0000    0.0   \n",
       "Fare         891.0   32.204208   49.693429  0.00    7.9104   14.4542   31.0   \n",
       "\n",
       "                  max  \n",
       "PassengerId  891.0000  \n",
       "Survived       1.0000  \n",
       "Pclass         3.0000  \n",
       "Age           80.0000  \n",
       "SibSp          8.0000  \n",
       "Parch          6.0000  \n",
       "Fare         512.3292  "
      ],
      "text/html": [
       "<div>\n",
       "<style scoped>\n",
       "    .dataframe tbody tr th:only-of-type {\n",
       "        vertical-align: middle;\n",
       "    }\n",
       "\n",
       "    .dataframe tbody tr th {\n",
       "        vertical-align: top;\n",
       "    }\n",
       "\n",
       "    .dataframe thead th {\n",
       "        text-align: right;\n",
       "    }\n",
       "</style>\n",
       "<table border=\"1\" class=\"dataframe\">\n",
       "  <thead>\n",
       "    <tr style=\"text-align: right;\">\n",
       "      <th></th>\n",
       "      <th>count</th>\n",
       "      <th>mean</th>\n",
       "      <th>std</th>\n",
       "      <th>min</th>\n",
       "      <th>25%</th>\n",
       "      <th>50%</th>\n",
       "      <th>75%</th>\n",
       "      <th>max</th>\n",
       "    </tr>\n",
       "  </thead>\n",
       "  <tbody>\n",
       "    <tr>\n",
       "      <th>PassengerId</th>\n",
       "      <td>891.0</td>\n",
       "      <td>446.000000</td>\n",
       "      <td>257.353842</td>\n",
       "      <td>1.00</td>\n",
       "      <td>223.5000</td>\n",
       "      <td>446.0000</td>\n",
       "      <td>668.5</td>\n",
       "      <td>891.0000</td>\n",
       "    </tr>\n",
       "    <tr>\n",
       "      <th>Survived</th>\n",
       "      <td>891.0</td>\n",
       "      <td>0.383838</td>\n",
       "      <td>0.486592</td>\n",
       "      <td>0.00</td>\n",
       "      <td>0.0000</td>\n",
       "      <td>0.0000</td>\n",
       "      <td>1.0</td>\n",
       "      <td>1.0000</td>\n",
       "    </tr>\n",
       "    <tr>\n",
       "      <th>Pclass</th>\n",
       "      <td>891.0</td>\n",
       "      <td>2.308642</td>\n",
       "      <td>0.836071</td>\n",
       "      <td>1.00</td>\n",
       "      <td>2.0000</td>\n",
       "      <td>3.0000</td>\n",
       "      <td>3.0</td>\n",
       "      <td>3.0000</td>\n",
       "    </tr>\n",
       "    <tr>\n",
       "      <th>Age</th>\n",
       "      <td>714.0</td>\n",
       "      <td>29.699118</td>\n",
       "      <td>14.526497</td>\n",
       "      <td>0.42</td>\n",
       "      <td>20.1250</td>\n",
       "      <td>28.0000</td>\n",
       "      <td>38.0</td>\n",
       "      <td>80.0000</td>\n",
       "    </tr>\n",
       "    <tr>\n",
       "      <th>SibSp</th>\n",
       "      <td>891.0</td>\n",
       "      <td>0.523008</td>\n",
       "      <td>1.102743</td>\n",
       "      <td>0.00</td>\n",
       "      <td>0.0000</td>\n",
       "      <td>0.0000</td>\n",
       "      <td>1.0</td>\n",
       "      <td>8.0000</td>\n",
       "    </tr>\n",
       "    <tr>\n",
       "      <th>Parch</th>\n",
       "      <td>891.0</td>\n",
       "      <td>0.381594</td>\n",
       "      <td>0.806057</td>\n",
       "      <td>0.00</td>\n",
       "      <td>0.0000</td>\n",
       "      <td>0.0000</td>\n",
       "      <td>0.0</td>\n",
       "      <td>6.0000</td>\n",
       "    </tr>\n",
       "    <tr>\n",
       "      <th>Fare</th>\n",
       "      <td>891.0</td>\n",
       "      <td>32.204208</td>\n",
       "      <td>49.693429</td>\n",
       "      <td>0.00</td>\n",
       "      <td>7.9104</td>\n",
       "      <td>14.4542</td>\n",
       "      <td>31.0</td>\n",
       "      <td>512.3292</td>\n",
       "    </tr>\n",
       "  </tbody>\n",
       "</table>\n",
       "</div>"
      ]
     },
     "execution_count": 62,
     "metadata": {},
     "output_type": "execute_result"
    }
   ],
   "execution_count": 62
  },
  {
   "metadata": {
    "ExecuteTime": {
     "end_time": "2025-06-26T08:03:30.064558Z",
     "start_time": "2025-06-26T08:03:30.047431Z"
    }
   },
   "cell_type": "code",
   "source": "test_df.describe().T",
   "id": "1f6e84f8e5e6d772",
   "outputs": [
    {
     "data": {
      "text/plain": [
       "             count         mean         std     min       25%        50%  \\\n",
       "PassengerId  418.0  1100.500000  120.810458  892.00  996.2500  1100.5000   \n",
       "Pclass       418.0     2.265550    0.841838    1.00    1.0000     3.0000   \n",
       "Age          332.0    30.272590   14.181209    0.17   21.0000    27.0000   \n",
       "SibSp        418.0     0.447368    0.896760    0.00    0.0000     0.0000   \n",
       "Parch        418.0     0.392344    0.981429    0.00    0.0000     0.0000   \n",
       "Fare         417.0    35.627188   55.907576    0.00    7.8958    14.4542   \n",
       "\n",
       "                 75%        max  \n",
       "PassengerId  1204.75  1309.0000  \n",
       "Pclass          3.00     3.0000  \n",
       "Age            39.00    76.0000  \n",
       "SibSp           1.00     8.0000  \n",
       "Parch           0.00     9.0000  \n",
       "Fare           31.50   512.3292  "
      ],
      "text/html": [
       "<div>\n",
       "<style scoped>\n",
       "    .dataframe tbody tr th:only-of-type {\n",
       "        vertical-align: middle;\n",
       "    }\n",
       "\n",
       "    .dataframe tbody tr th {\n",
       "        vertical-align: top;\n",
       "    }\n",
       "\n",
       "    .dataframe thead th {\n",
       "        text-align: right;\n",
       "    }\n",
       "</style>\n",
       "<table border=\"1\" class=\"dataframe\">\n",
       "  <thead>\n",
       "    <tr style=\"text-align: right;\">\n",
       "      <th></th>\n",
       "      <th>count</th>\n",
       "      <th>mean</th>\n",
       "      <th>std</th>\n",
       "      <th>min</th>\n",
       "      <th>25%</th>\n",
       "      <th>50%</th>\n",
       "      <th>75%</th>\n",
       "      <th>max</th>\n",
       "    </tr>\n",
       "  </thead>\n",
       "  <tbody>\n",
       "    <tr>\n",
       "      <th>PassengerId</th>\n",
       "      <td>418.0</td>\n",
       "      <td>1100.500000</td>\n",
       "      <td>120.810458</td>\n",
       "      <td>892.00</td>\n",
       "      <td>996.2500</td>\n",
       "      <td>1100.5000</td>\n",
       "      <td>1204.75</td>\n",
       "      <td>1309.0000</td>\n",
       "    </tr>\n",
       "    <tr>\n",
       "      <th>Pclass</th>\n",
       "      <td>418.0</td>\n",
       "      <td>2.265550</td>\n",
       "      <td>0.841838</td>\n",
       "      <td>1.00</td>\n",
       "      <td>1.0000</td>\n",
       "      <td>3.0000</td>\n",
       "      <td>3.00</td>\n",
       "      <td>3.0000</td>\n",
       "    </tr>\n",
       "    <tr>\n",
       "      <th>Age</th>\n",
       "      <td>332.0</td>\n",
       "      <td>30.272590</td>\n",
       "      <td>14.181209</td>\n",
       "      <td>0.17</td>\n",
       "      <td>21.0000</td>\n",
       "      <td>27.0000</td>\n",
       "      <td>39.00</td>\n",
       "      <td>76.0000</td>\n",
       "    </tr>\n",
       "    <tr>\n",
       "      <th>SibSp</th>\n",
       "      <td>418.0</td>\n",
       "      <td>0.447368</td>\n",
       "      <td>0.896760</td>\n",
       "      <td>0.00</td>\n",
       "      <td>0.0000</td>\n",
       "      <td>0.0000</td>\n",
       "      <td>1.00</td>\n",
       "      <td>8.0000</td>\n",
       "    </tr>\n",
       "    <tr>\n",
       "      <th>Parch</th>\n",
       "      <td>418.0</td>\n",
       "      <td>0.392344</td>\n",
       "      <td>0.981429</td>\n",
       "      <td>0.00</td>\n",
       "      <td>0.0000</td>\n",
       "      <td>0.0000</td>\n",
       "      <td>0.00</td>\n",
       "      <td>9.0000</td>\n",
       "    </tr>\n",
       "    <tr>\n",
       "      <th>Fare</th>\n",
       "      <td>417.0</td>\n",
       "      <td>35.627188</td>\n",
       "      <td>55.907576</td>\n",
       "      <td>0.00</td>\n",
       "      <td>7.8958</td>\n",
       "      <td>14.4542</td>\n",
       "      <td>31.50</td>\n",
       "      <td>512.3292</td>\n",
       "    </tr>\n",
       "  </tbody>\n",
       "</table>\n",
       "</div>"
      ]
     },
     "execution_count": 63,
     "metadata": {},
     "output_type": "execute_result"
    }
   ],
   "execution_count": 63
  },
  {
   "metadata": {},
   "cell_type": "markdown",
   "source": "# EDA",
   "id": "140dfeacc2a37099"
  },
  {
   "metadata": {
    "ExecuteTime": {
     "end_time": "2025-06-26T08:03:30.234540Z",
     "start_time": "2025-06-26T08:03:30.173013Z"
    }
   },
   "cell_type": "code",
   "source": [
    "plt.figure(figsize = (12,6))\n",
    "plt.pie(train_df[\"Survived\"].value_counts(),labels = train_df[\"Survived\"].value_counts().keys(),autopct=\"%1.1f%%\",textprops={\"fontsize\":20,\"fontweight\":\"black\"},colors=sns.color_palette(\"Set2\"))\n",
    "plt.title(\"Survival Distribution\")\n",
    "plt.show()"
   ],
   "id": "3ca1f4e62bee662b",
   "outputs": [
    {
     "data": {
      "text/plain": [
       "<Figure size 1200x600 with 1 Axes>"
      ],
      "image/png": "[encoded data removed]"
     },
     "metadata": {},
     "output_type": "display_data"
    }
   ],
   "execution_count": 64
  },
  {
   "metadata": {},
   "cell_type": "markdown",
   "source": "Only 38% of people survived",
   "id": "acb7cb275f2a7b88"
  },
  {
   "metadata": {
    "ExecuteTime": {
     "end_time": "2025-06-26T08:03:30.657720Z",
     "start_time": "2025-06-26T08:03:30.296562Z"
    }
   },
   "cell_type": "code",
   "source": [
    "sns.histplot(x=\"Age\",data=train_df,kde=True,hue=\"Survived\",palette=\"Set2\",bins=20)\n",
    "plt.title(\"Survival Distribution w.rt Age\")\n",
    "plt.show()"
   ],
   "id": "b16cd464407aa9da",
   "outputs": [
    {
     "data": {
      "text/plain": [
       "<Figure size 640x480 with 1 Axes>"
      ],
      "image/png": "[encoded data removed]"
     },
     "metadata": {},
     "output_type": "display_data"
    }
   ],
   "execution_count": 65
  },
  {
   "metadata": {},
   "cell_type": "markdown",
   "source": [
    "* Distribution is Normal\n",
    "* Most of the people survived within 10 years of age\n",
    "* Minimum age is 0 amd Max age is 80\n"
   ],
   "id": "862c8d898cbb6129"
  },
  {
   "metadata": {
    "ExecuteTime": {
     "end_time": "2025-06-26T08:03:30.987046Z",
     "start_time": "2025-06-26T08:03:30.741020Z"
    }
   },
   "cell_type": "code",
   "source": [
    "sns.barplot(x='Sex',y='Survived',data=train_df,palette=\"Set2\")\n",
    "plt.show()\n",
    "print(\"The percentage of values \")\n",
    "print(\"Survival Ratio of Males:\",train_df[\"Survived\"][train_df[\"Sex\"]==\"male\"].value_counts(normalize=True)[1]*100)\n",
    "print(\"Survival Ratio of Females\",train_df[\"Survived\"][train_df[\"Sex\"]==\"female\"].value_counts(normalize=True)[1]*100)"
   ],
   "id": "7aa6bb49c0906a47",
   "outputs": [
    {
     "data": {
      "text/plain": [
       "<Figure size 640x480 with 1 Axes>"
      ],
      "image/png": "[encoded data removed]"
     },
     "metadata": {},
     "output_type": "display_data"
    },
    {
     "name": "stdout",
     "output_type": "stream",
     "text": [
      "The percentage of values \n",
      "Survival Ratio of Males: 18.890814558058924\n",
      "Survival Ratio of Females 74.20382165605095\n"
     ]
    }
   ],
   "execution_count": 66
  },
  {
   "metadata": {
    "ExecuteTime": {
     "end_time": "2025-06-26T08:03:31.313383Z",
     "start_time": "2025-06-26T08:03:31.019665Z"
    }
   },
   "cell_type": "code",
   "source": [
    "sns.barplot(x='Pclass',y='Survived',data=train_df,palette=\"Set2\")\n",
    "plt.show()\n",
    "print(\"Survival Rate of Class1\",round(train_df[\"Survived\"][train_df[\"Pclass\"]==1].value_counts(normalize=True)[1]*100,2))\n",
    "print(\"Survival Rate of Class2\",round(train_df[\"Survived\"][train_df[\"Pclass\"]==2].value_counts(normalize=True)[1]*100,2))\n",
    "print(\"Survival Rate of Class3\",round(train_df[\"Survived\"][train_df[\"Pclass\"]==3].value_counts(normalize=True)[1]*100,2))"
   ],
   "id": "383d518700e367e4",
   "outputs": [
    {
     "data": {
      "text/plain": [
       "<Figure size 640x480 with 1 Axes>"
      ],
      "image/png": "[encoded data removed]"
     },
     "metadata": {},
     "output_type": "display_data"
    },
    {
     "name": "stdout",
     "output_type": "stream",
     "text": [
      "Survival Rate of Class1 62.96\n",
      "Survival Rate of Class2 47.28\n",
      "Survival Rate of Class3 24.24\n"
     ]
    }
   ],
   "execution_count": 67
  },
  {
   "metadata": {
    "ExecuteTime": {
     "end_time": "2025-06-26T08:03:31.561501Z",
     "start_time": "2025-06-26T08:03:31.333770Z"
    }
   },
   "cell_type": "code",
   "source": [
    "sns.barplot(x='SibSp',y='Survived',data=train_df,palette=\"Set2\")\n",
    "plt.show()\n",
    "print(\"Survival Rate of 0 Siblings\",round(train_df[\"Survived\"][train_df[\"SibSp\"]==0].value_counts(normalize=True)[1]*100,2))\n",
    "print(\"Survival Rate of 1 Siblings\",round(train_df[\"Survived\"][train_df[\"SibSp\"]==1].value_counts(normalize=True)[1]*100,2))\n",
    "print(\"Survival Rate of 2 Siblings\",round(train_df[\"Survived\"][train_df[\"SibSp\"]==2].value_counts(normalize=True)[1]*100,2))\n",
    "print(\"Survival Rate of 3 Siblings\",round(train_df[\"Survived\"][train_df[\"SibSp\"]==3].value_counts(normalize=True)[1]*100,2))\n",
    "print(\"Survival Rate of 4 Siblings\",round(train_df[\"Survived\"][train_df[\"SibSp\"]==4].value_counts(normalize=True)[1]*100,2))\n",
    "\n"
   ],
   "id": "29b5c911a8f6ec30",
   "outputs": [
    {
     "data": {
      "text/plain": [
       "<Figure size 640x480 with 1 Axes>"
      ],
      "image/png": "[encoded data removed]"
     },
     "metadata": {},
     "output_type": "display_data"
    },
    {
     "name": "stdout",
     "output_type": "stream",
     "text": [
      "Survival Rate of 0 Siblings 34.54\n",
      "Survival Rate of 1 Siblings 53.59\n",
      "Survival Rate of 2 Siblings 46.43\n",
      "Survival Rate of 3 Siblings 25.0\n",
      "Survival Rate of 4 Siblings 16.67\n"
     ]
    }
   ],
   "execution_count": 68
  },
  {
   "metadata": {},
   "cell_type": "markdown",
   "source": [
    "* The survival rate of a couple or a couple with a single parent/child has highest survival rate.\n",
    "* The survival rate of a single identity comes next.\n",
    "* The survival rate with more more family members is low."
   ],
   "id": "65b8dec7ecd0e34a"
  },
  {
   "metadata": {
    "ExecuteTime": {
     "end_time": "2025-06-26T08:03:31.594200Z",
     "start_time": "2025-06-26T08:03:31.587052Z"
    }
   },
   "cell_type": "code",
   "source": "train_df[\"SibSp\"].value_counts()",
   "id": "8a693ac4c557df08",
   "outputs": [
    {
     "data": {
      "text/plain": [
       "SibSp\n",
       "0    608\n",
       "1    209\n",
       "2     28\n",
       "4     18\n",
       "3     16\n",
       "8      7\n",
       "5      5\n",
       "Name: count, dtype: int64"
      ]
     },
     "execution_count": 69,
     "metadata": {},
     "output_type": "execute_result"
    }
   ],
   "execution_count": 69
  },
  {
   "metadata": {
    "ExecuteTime": {
     "end_time": "2025-06-26T08:03:31.842796Z",
     "start_time": "2025-06-26T08:03:31.680686Z"
    }
   },
   "cell_type": "code",
   "source": [
    "sns.barplot(x=\"Embarked\",y=\"Survived\",data=train_df,palette=\"Set2\")\n",
    "plt.show()\n",
    "print(\"Survival Rate of passengers embarked from Cherbourg\",round(train_df[\"Survived\"][train_df[\"Embarked\"]==\"C\"].value_counts(normalize=True)[1]*100,2))\n",
    "print(\"Survival Rate of passengers embarked from Queensland\",round(train_df[\"Survived\"][train_df[\"Embarked\"]==\"Q\"].value_counts(normalize=True)[1]*100,2))\n",
    "print(\"Survival Rate of passengers embarked from SouthHampton\",round(train_df[\"Survived\"][train_df[\"Embarked\"]==\"S\"].value_counts(normalize=True)[1]*100,2))"
   ],
   "id": "677dbb5b79a2087f",
   "outputs": [
    {
     "data": {
      "text/plain": [
       "<Figure size 640x480 with 1 Axes>"
      ],
      "image/png": "[encoded data removed]"
     },
     "metadata": {},
     "output_type": "display_data"
    },
    {
     "name": "stdout",
     "output_type": "stream",
     "text": [
      "Survival Rate of passengers embarked from Cherbourg 55.36\n",
      "Survival Rate of passengers embarked from Queensland 38.96\n",
      "Survival Rate of passengers embarked from SouthHampton 33.7\n"
     ]
    }
   ],
   "execution_count": 70
  },
  {
   "metadata": {},
   "cell_type": "markdown",
   "source": "Survival Rate from Cherbourg was highest while from SouthHampton was lowest",
   "id": "a650f9529c64abb9"
  },
  {
   "metadata": {},
   "cell_type": "markdown",
   "source": "Lets plot Pclass with Passengers Embarked",
   "id": "9310509b3120fc19"
  },
  {
   "metadata": {
    "ExecuteTime": {
     "end_time": "2025-06-26T08:03:32.160020Z",
     "start_time": "2025-06-26T08:03:31.894490Z"
    }
   },
   "cell_type": "code",
   "source": [
    "sns.barplot(x='Embarked',y='Pclass',hue=\"Survived\",data=train_df,palette=\"Set2\")\n",
    "plt.show()"
   ],
   "id": "f69e9b5fbf86385a",
   "outputs": [
    {
     "data": {
      "text/plain": [
       "<Figure size 640x480 with 1 Axes>"
      ],
      "image/png": "[encoded data removed]"
     },
     "metadata": {},
     "output_type": "display_data"
    }
   ],
   "execution_count": 71
  },
  {
   "metadata": {},
   "cell_type": "markdown",
   "source": "Plotting Age after converting into categories",
   "id": "9586bb39f28c07ae"
  },
  {
   "metadata": {
    "ExecuteTime": {
     "end_time": "2025-06-26T08:03:32.232218Z",
     "start_time": "2025-06-26T08:03:32.221192Z"
    }
   },
   "cell_type": "code",
   "source": [
    "train_df[\"Age\"] = train_df[\"Age\"].fillna(-0.5)\n",
    "test_df[\"Age\"] = test_df[\"Age\"].fillna(-0.5)\n",
    "bins = [0, 12, 17, 60, np.inf]\n",
    "labels = ['child', 'teenager', 'adult', 'elderly']\n",
    "age_groups = pd.cut(train_df.Age, bins, labels = labels)\n",
    "train_df['AgeGroup'] = age_groups\n",
    "test_df['AgeGroup'] = age_groups"
   ],
   "id": "91f41327373ce4c8",
   "outputs": [],
   "execution_count": 72
  },
  {
   "metadata": {
    "ExecuteTime": {
     "end_time": "2025-06-26T08:03:32.460923Z",
     "start_time": "2025-06-26T08:03:32.265139Z"
    }
   },
   "cell_type": "code",
   "source": [
    "sns.barplot(x='AgeGroup',y='Survived',data=train_df,palette=\"Set2\")\n",
    "plt.show()"
   ],
   "id": "c9bdd5a092c15e6a",
   "outputs": [
    {
     "data": {
      "text/plain": [
       "<Figure size 640x480 with 1 Axes>"
      ],
      "image/png": "[encoded data removed]"
     },
     "metadata": {},
     "output_type": "display_data"
    }
   ],
   "execution_count": 73
  },
  {
   "metadata": {},
   "cell_type": "markdown",
   "source": "# Feature Engineering\n",
   "id": "365cb6e9a52d3739"
  },
  {
   "metadata": {},
   "cell_type": "markdown",
   "source": "### Extracting Titles from Names",
   "id": "19c123b03f0fd6ee"
  },
  {
   "metadata": {
    "ExecuteTime": {
     "end_time": "2025-06-26T08:03:56.530011Z",
     "start_time": "2025-06-26T08:03:56.510674Z"
    }
   },
   "cell_type": "code",
   "source": "train_df.head()",
   "id": "4d47d1322ff25bf",
   "outputs": [
    {
     "data": {
      "text/plain": [
       "   PassengerId  Survived  Pclass  \\\n",
       "0            1         0       3   \n",
       "1            2         1       1   \n",
       "2            3         1       3   \n",
       "3            4         1       1   \n",
       "4            5         0       3   \n",
       "\n",
       "                                                Name     Sex   Age  SibSp  \\\n",
       "0                            Braund, Mr. Owen Harris    male  22.0      1   \n",
       "1  Cumings, Mrs. John Bradley (Florence Briggs Th...  female  38.0      1   \n",
       "2                             Heikkinen, Miss. Laina  female  26.0      0   \n",
       "3       Futrelle, Mrs. Jacques Heath (Lily May Peel)  female  35.0      1   \n",
       "4                           Allen, Mr. William Henry    male  35.0      0   \n",
       "\n",
       "   Parch            Ticket     Fare Cabin Embarked AgeGroup  \n",
       "0      0         A/5 21171   7.2500   NaN        S    adult  \n",
       "1      0          PC 17599  71.2833   C85        C    adult  \n",
       "2      0  STON/O2. 3101282   7.9250   NaN        S    adult  \n",
       "3      0            113803  53.1000  C123        S    adult  \n",
       "4      0            373450   8.0500   NaN        S    adult  "
      ],
      "text/html": [
       "<div>\n",
       "<style scoped>\n",
       "    .dataframe tbody tr th:only-of-type {\n",
       "        vertical-align: middle;\n",
       "    }\n",
       "\n",
       "    .dataframe tbody tr th {\n",
       "        vertical-align: top;\n",
       "    }\n",
       "\n",
       "    .dataframe thead th {\n",
       "        text-align: right;\n",
       "    }\n",
       "</style>\n",
       "<table border=\"1\" class=\"dataframe\">\n",
       "  <thead>\n",
       "    <tr style=\"text-align: right;\">\n",
       "      <th></th>\n",
       "      <th>PassengerId</th>\n",
       "      <th>Survived</th>\n",
       "      <th>Pclass</th>\n",
       "      <th>Name</th>\n",
       "      <th>Sex</th>\n",
       "      <th>Age</th>\n",
       "      <th>SibSp</th>\n",
       "      <th>Parch</th>\n",
       "      <th>Ticket</th>\n",
       "      <th>Fare</th>\n",
       "      <th>Cabin</th>\n",
       "      <th>Embarked</th>\n",
       "      <th>AgeGroup</th>\n",
       "    </tr>\n",
       "  </thead>\n",
       "  <tbody>\n",
       "    <tr>\n",
       "      <th>0</th>\n",
       "      <td>1</td>\n",
       "      <td>0</td>\n",
       "      <td>3</td>\n",
       "      <td>Braund, Mr. Owen Harris</td>\n",
       "      <td>male</td>\n",
       "      <td>22.0</td>\n",
       "      <td>1</td>\n",
       "      <td>0</td>\n",
       "      <td>A/5 21171</td>\n",
       "      <td>7.2500</td>\n",
       "      <td>NaN</td>\n",
       "      <td>S</td>\n",
       "      <td>adult</td>\n",
       "    </tr>\n",
       "    <tr>\n",
       "      <th>1</th>\n",
       "      <td>2</td>\n",
       "      <td>1</td>\n",
       "      <td>1</td>\n",
       "      <td>Cumings, Mrs. John Bradley (Florence Briggs Th...</td>\n",
       "      <td>female</td>\n",
       "      <td>38.0</td>\n",
       "      <td>1</td>\n",
       "      <td>0</td>\n",
       "      <td>PC 17599</td>\n",
       "      <td>71.2833</td>\n",
       "      <td>C85</td>\n",
       "      <td>C</td>\n",
       "      <td>adult</td>\n",
       "    </tr>\n",
       "    <tr>\n",
       "      <th>2</th>\n",
       "      <td>3</td>\n",
       "      <td>1</td>\n",
       "      <td>3</td>\n",
       "      <td>Heikkinen, Miss. Laina</td>\n",
       "      <td>female</td>\n",
       "      <td>26.0</td>\n",
       "      <td>0</td>\n",
       "      <td>0</td>\n",
       "      <td>STON/O2. 3101282</td>\n",
       "      <td>7.9250</td>\n",
       "      <td>NaN</td>\n",
       "      <td>S</td>\n",
       "      <td>adult</td>\n",
       "    </tr>\n",
       "    <tr>\n",
       "      <th>3</th>\n",
       "      <td>4</td>\n",
       "      <td>1</td>\n",
       "      <td>1</td>\n",
       "      <td>Futrelle, Mrs. Jacques Heath (Lily May Peel)</td>\n",
       "      <td>female</td>\n",
       "      <td>35.0</td>\n",
       "      <td>1</td>\n",
       "      <td>0</td>\n",
       "      <td>113803</td>\n",
       "      <td>53.1000</td>\n",
       "      <td>C123</td>\n",
       "      <td>S</td>\n",
       "      <td>adult</td>\n",
       "    </tr>\n",
       "    <tr>\n",
       "      <th>4</th>\n",
       "      <td>5</td>\n",
       "      <td>0</td>\n",
       "      <td>3</td>\n",
       "      <td>Allen, Mr. William Henry</td>\n",
       "      <td>male</td>\n",
       "      <td>35.0</td>\n",
       "      <td>0</td>\n",
       "      <td>0</td>\n",
       "      <td>373450</td>\n",
       "      <td>8.0500</td>\n",
       "      <td>NaN</td>\n",
       "      <td>S</td>\n",
       "      <td>adult</td>\n",
       "    </tr>\n",
       "  </tbody>\n",
       "</table>\n",
       "</div>"
      ]
     },
     "execution_count": 75,
     "metadata": {},
     "output_type": "execute_result"
    }
   ],
   "execution_count": 75
  },
  {
   "metadata": {
    "ExecuteTime": {
     "end_time": "2025-06-26T08:33:53.111974Z",
     "start_time": "2025-06-26T08:33:53.106348Z"
    }
   },
   "cell_type": "code",
   "source": [
    "def extract_title(df):\n",
    "    df['Title'] = df['Name'].str.split(\", \", expand=True)[1].str.split(\".\", expand=True)[0]\n",
    "    df['Title']=df['Title'].replace(['Lady','Mme','the Countess','Dona'],'Mrs')\n",
    "    df['Title']=df['Title'].replace(['Col','Major','Capt'],'Military Officer')\n",
    "    df['Title']=df['Title'].replace(['Mlle','Ms'],'Miss')\n",
    "    df['Title']=df['Title'].replace(['Dr','Rev','Jonkheer','Sir','Don'],'Noble')\n",
    "\n",
    "\n",
    "\n"
   ],
   "id": "b12ad035283029c2",
   "outputs": [],
   "execution_count": 82
  },
  {
   "metadata": {
    "ExecuteTime": {
     "end_time": "2025-06-26T08:33:55.054228Z",
     "start_time": "2025-06-26T08:33:55.040467Z"
    }
   },
   "cell_type": "code",
   "source": [
    "extract_title(train_df)\n",
    "extract_title(test_df)"
   ],
   "id": "c0c10cb0bc09fa8e",
   "outputs": [],
   "execution_count": 83
  },
  {
   "metadata": {
    "ExecuteTime": {
     "end_time": "2025-06-26T08:33:56.884164Z",
     "start_time": "2025-06-26T08:33:56.875195Z"
    }
   },
   "cell_type": "code",
   "source": "train_df['Title'].value_counts()",
   "id": "142c50842185bd64",
   "outputs": [
    {
     "data": {
      "text/plain": [
       "Title\n",
       "Mr                  517\n",
       "Miss                185\n",
       "Mrs                 128\n",
       "Master               40\n",
       "Noble                16\n",
       "Military Officer      5\n",
       "Name: count, dtype: int64"
      ]
     },
     "execution_count": 84,
     "metadata": {},
     "output_type": "execute_result"
    }
   ],
   "execution_count": 84
  },
  {
   "metadata": {
    "ExecuteTime": {
     "end_time": "2025-06-26T08:37:05.849327Z",
     "start_time": "2025-06-26T08:37:05.622059Z"
    }
   },
   "cell_type": "code",
   "source": [
    "sns.barplot(x='Title',y='Survived',data=train_df,palette=\"Set2\")\n",
    "plt.show()"
   ],
   "id": "4dc10ad5c6486c7d",
   "outputs": [
    {
     "data": {
      "text/plain": [
       "<Figure size 640x480 with 1 Axes>"
      ],
      "image/png": "[encoded data removed]"
     },
     "metadata": {},
     "output_type": "display_data"
    }
   ],
   "execution_count": 86
  },
  {
   "metadata": {},
   "cell_type": "code",
   "outputs": [],
   "execution_count": null,
   "source": "",
   "id": "381557c47da6aa26"
  }
 ],
 "metadata": {
  "kernelspec": {
   "display_name": "Python 3",
   "language": "python",
   "name": "python3"
  },
  "language_info": {
   "codemirror_mode": {
    "name": "ipython",
    "version": 2
   },
   "file_extension": ".py",
   "mimetype": "text/x-python",
   "name": "python",
   "nbconvert_exporter": "python",
   "pygments_lexer": "ipython2",
   "version": "2.7.6"
  }
 },
 "nbformat": 4,
 "nbformat_minor": 5
}
