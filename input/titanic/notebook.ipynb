{
 "cells": [
  {
   "metadata": {},
   "cell_type": "markdown",
   "source": "# Importing Libraries",
   "id": "cdd151d4705ff90f"
  },
  {
   "cell_type": "code",
   "id": "initial_id",
   "metadata": {
    "collapsed": true,
    "ExecuteTime": {
     "end_time": "2025-06-28T11:45:13.678878Z",
     "start_time": "2025-06-28T11:45:13.668763Z"
    }
   },
   "source": [
    "import pandas as pd\n",
    "import numpy as np\n",
    "import seaborn as sns\n",
    "import matplotlib.pyplot as plt\n",
    "import warnings\n",
    "\n",
    "from sklearn.metrics import accuracy_score, confusion_matrix\n",
    "\n",
    "warnings.filterwarnings('ignore')\n",
    "from sklearn.model_selection import train_test_split\n",
    "from sklearn.preprocessing import StandardScaler\n",
    "from sklearn.impute import SimpleImputer\n",
    "from sklearn.ensemble import RandomForestClassifier\n",
    "from sklearn.tree import DecisionTreeClassifier\n",
    "pd.set_option(\"display.max.rows\",None)\n",
    "pd.set_option(\"display.max.columns\",None)\n",
    "from sklearn.preprocessing import LabelEncoder\n",
    "from sklearn.preprocessing import OneHotEncoder\n",
    "from sklearn.neighbors import KNeighborsClassifier\n",
    "from sklearn.naive_bayes import GaussianNB\n",
    "from xgboost import XGBClassifier\n",
    "from lightgbm import LGBMClassifier\n",
    "from catboost import CatBoostClassifier\n",
    "from sklearn.metrics import precision_score,f1_score,recall_score\n",
    "from sklearn.linear_model import LogisticRegression\n",
    "from sklearn.svm import SVC\n",
    "from sklearn.naive_bayes import GaussianNB"
   ],
   "outputs": [],
   "execution_count": 452
  },
  {
   "metadata": {
    "ExecuteTime": {
     "end_time": "2025-06-28T11:45:13.737539Z",
     "start_time": "2025-06-28T11:45:13.724163Z"
    }
   },
   "cell_type": "code",
   "source": [
    "train_df=pd.read_csv('/kaggle/input/titanic/train.csv')\n",
    "test_df=pd.read_csv('/kaggle/input/titanic/test.csv')"
   ],
   "id": "561d1aabdf7639ed",
   "outputs": [],
   "execution_count": 453
  },
  {
   "metadata": {
    "ExecuteTime": {
     "end_time": "2025-06-28T11:45:13.793352Z",
     "start_time": "2025-06-28T11:45:13.778501Z"
    }
   },
   "cell_type": "code",
   "source": "train_df.head(1)",
   "id": "f014738989f0226f",
   "outputs": [
    {
     "data": {
      "text/plain": [
       "   PassengerId  Survived  Pclass                     Name   Sex   Age  SibSp  \\\n",
       "0            1         0       3  Braund, Mr. Owen Harris  male  22.0      1   \n",
       "\n",
       "   Parch     Ticket  Fare Cabin Embarked  \n",
       "0      0  A/5 21171  7.25   NaN        S  "
      ],
      "text/html": [
       "<div>\n",
       "<style scoped>\n",
       "    .dataframe tbody tr th:only-of-type {\n",
       "        vertical-align: middle;\n",
       "    }\n",
       "\n",
       "    .dataframe tbody tr th {\n",
       "        vertical-align: top;\n",
       "    }\n",
       "\n",
       "    .dataframe thead th {\n",
       "        text-align: right;\n",
       "    }\n",
       "</style>\n",
       "<table border=\"1\" class=\"dataframe\">\n",
       "  <thead>\n",
       "    <tr style=\"text-align: right;\">\n",
       "      <th></th>\n",
       "      <th>PassengerId</th>\n",
       "      <th>Survived</th>\n",
       "      <th>Pclass</th>\n",
       "      <th>Name</th>\n",
       "      <th>Sex</th>\n",
       "      <th>Age</th>\n",
       "      <th>SibSp</th>\n",
       "      <th>Parch</th>\n",
       "      <th>Ticket</th>\n",
       "      <th>Fare</th>\n",
       "      <th>Cabin</th>\n",
       "      <th>Embarked</th>\n",
       "    </tr>\n",
       "  </thead>\n",
       "  <tbody>\n",
       "    <tr>\n",
       "      <th>0</th>\n",
       "      <td>1</td>\n",
       "      <td>0</td>\n",
       "      <td>3</td>\n",
       "      <td>Braund, Mr. Owen Harris</td>\n",
       "      <td>male</td>\n",
       "      <td>22.0</td>\n",
       "      <td>1</td>\n",
       "      <td>0</td>\n",
       "      <td>A/5 21171</td>\n",
       "      <td>7.25</td>\n",
       "      <td>NaN</td>\n",
       "      <td>S</td>\n",
       "    </tr>\n",
       "  </tbody>\n",
       "</table>\n",
       "</div>"
      ]
     },
     "execution_count": 454,
     "metadata": {},
     "output_type": "execute_result"
    }
   ],
   "execution_count": 454
  },
  {
   "metadata": {
    "ExecuteTime": {
     "end_time": "2025-06-28T11:45:13.866952Z",
     "start_time": "2025-06-28T11:45:13.851801Z"
    }
   },
   "cell_type": "code",
   "source": "test_df.head(1)",
   "id": "96b421d281e747ff",
   "outputs": [
    {
     "data": {
      "text/plain": [
       "   PassengerId  Pclass              Name   Sex   Age  SibSp  Parch  Ticket  \\\n",
       "0          892       3  Kelly, Mr. James  male  34.5      0      0  330911   \n",
       "\n",
       "     Fare Cabin Embarked  \n",
       "0  7.8292   NaN        Q  "
      ],
      "text/html": [
       "<div>\n",
       "<style scoped>\n",
       "    .dataframe tbody tr th:only-of-type {\n",
       "        vertical-align: middle;\n",
       "    }\n",
       "\n",
       "    .dataframe tbody tr th {\n",
       "        vertical-align: top;\n",
       "    }\n",
       "\n",
       "    .dataframe thead th {\n",
       "        text-align: right;\n",
       "    }\n",
       "</style>\n",
       "<table border=\"1\" class=\"dataframe\">\n",
       "  <thead>\n",
       "    <tr style=\"text-align: right;\">\n",
       "      <th></th>\n",
       "      <th>PassengerId</th>\n",
       "      <th>Pclass</th>\n",
       "      <th>Name</th>\n",
       "      <th>Sex</th>\n",
       "      <th>Age</th>\n",
       "      <th>SibSp</th>\n",
       "      <th>Parch</th>\n",
       "      <th>Ticket</th>\n",
       "      <th>Fare</th>\n",
       "      <th>Cabin</th>\n",
       "      <th>Embarked</th>\n",
       "    </tr>\n",
       "  </thead>\n",
       "  <tbody>\n",
       "    <tr>\n",
       "      <th>0</th>\n",
       "      <td>892</td>\n",
       "      <td>3</td>\n",
       "      <td>Kelly, Mr. James</td>\n",
       "      <td>male</td>\n",
       "      <td>34.5</td>\n",
       "      <td>0</td>\n",
       "      <td>0</td>\n",
       "      <td>330911</td>\n",
       "      <td>7.8292</td>\n",
       "      <td>NaN</td>\n",
       "      <td>Q</td>\n",
       "    </tr>\n",
       "  </tbody>\n",
       "</table>\n",
       "</div>"
      ]
     },
     "execution_count": 455,
     "metadata": {},
     "output_type": "execute_result"
    }
   ],
   "execution_count": 455
  },
  {
   "metadata": {
    "ExecuteTime": {
     "end_time": "2025-06-28T11:45:14.135178Z",
     "start_time": "2025-06-28T11:45:14.127904Z"
    }
   },
   "cell_type": "code",
   "source": [
    "print(train_df.shape)\n",
    "print(test_df.shape)"
   ],
   "id": "2402dd27489ef340",
   "outputs": [
    {
     "name": "stdout",
     "output_type": "stream",
     "text": [
      "(891, 12)\n",
      "(418, 11)\n"
     ]
    }
   ],
   "execution_count": 456
  },
  {
   "metadata": {
    "ExecuteTime": {
     "end_time": "2025-06-28T11:45:14.559851Z",
     "start_time": "2025-06-28T11:45:14.550017Z"
    }
   },
   "cell_type": "code",
   "source": "train_df.info()",
   "id": "9ce0f9a94d07b93b",
   "outputs": [
    {
     "name": "stdout",
     "output_type": "stream",
     "text": [
      "<class 'pandas.core.frame.DataFrame'>\n",
      "RangeIndex: 891 entries, 0 to 890\n",
      "Data columns (total 12 columns):\n",
      " #   Column       Non-Null Count  Dtype  \n",
      "---  ------       --------------  -----  \n",
      " 0   PassengerId  891 non-null    int64  \n",
      " 1   Survived     891 non-null    int64  \n",
      " 2   Pclass       891 non-null    int64  \n",
      " 3   Name         891 non-null    object \n",
      " 4   Sex          891 non-null    object \n",
      " 5   Age          714 non-null    float64\n",
      " 6   SibSp        891 non-null    int64  \n",
      " 7   Parch        891 non-null    int64  \n",
      " 8   Ticket       891 non-null    object \n",
      " 9   Fare         891 non-null    float64\n",
      " 10  Cabin        204 non-null    object \n",
      " 11  Embarked     889 non-null    object \n",
      "dtypes: float64(2), int64(5), object(5)\n",
      "memory usage: 83.7+ KB\n"
     ]
    }
   ],
   "execution_count": 457
  },
  {
   "metadata": {
    "ExecuteTime": {
     "end_time": "2025-06-28T11:45:14.731200Z",
     "start_time": "2025-06-28T11:45:14.720564Z"
    }
   },
   "cell_type": "code",
   "source": "test_df.info()",
   "id": "d8446b2ca36e0b3f",
   "outputs": [
    {
     "name": "stdout",
     "output_type": "stream",
     "text": [
      "<class 'pandas.core.frame.DataFrame'>\n",
      "RangeIndex: 418 entries, 0 to 417\n",
      "Data columns (total 11 columns):\n",
      " #   Column       Non-Null Count  Dtype  \n",
      "---  ------       --------------  -----  \n",
      " 0   PassengerId  418 non-null    int64  \n",
      " 1   Pclass       418 non-null    int64  \n",
      " 2   Name         418 non-null    object \n",
      " 3   Sex          418 non-null    object \n",
      " 4   Age          332 non-null    float64\n",
      " 5   SibSp        418 non-null    int64  \n",
      " 6   Parch        418 non-null    int64  \n",
      " 7   Ticket       418 non-null    object \n",
      " 8   Fare         417 non-null    float64\n",
      " 9   Cabin        91 non-null     object \n",
      " 10  Embarked     418 non-null    object \n",
      "dtypes: float64(2), int64(4), object(5)\n",
      "memory usage: 36.1+ KB\n"
     ]
    }
   ],
   "execution_count": 458
  },
  {
   "metadata": {
    "ExecuteTime": {
     "end_time": "2025-06-28T11:45:14.858860Z",
     "start_time": "2025-06-28T11:45:14.846662Z"
    }
   },
   "cell_type": "code",
   "source": [
    "#Checking duplicates\n",
    "print(\"Duplicates in Training Data\")\n",
    "print((train_df.duplicated().sum()),round(train_df.duplicated().sum()/len(train_df)*100,2))\n",
    "print(\"Duplicates in Test Data\")\n",
    "print((test_df.duplicated().sum()),round(test_df.duplicated().sum()/len(train_df)*100,2))"
   ],
   "id": "21124bc7ab7c8420",
   "outputs": [
    {
     "name": "stdout",
     "output_type": "stream",
     "text": [
      "Duplicates in Training Data\n",
      "0 0.0\n",
      "Duplicates in Test Data\n",
      "0 0.0\n"
     ]
    }
   ],
   "execution_count": 459
  },
  {
   "metadata": {
    "ExecuteTime": {
     "end_time": "2025-06-28T11:45:14.957331Z",
     "start_time": "2025-06-28T11:45:14.950890Z"
    }
   },
   "cell_type": "code",
   "source": [
    "#Checking Dtypes\n",
    "print(\"Checking Dtypes in Training Data\")\n",
    "print(\"\\n\")\n",
    "print(train_df.dtypes)\n",
    "print(\"\\n\")\n",
    "print(\"-\"*40)\n",
    "print(\"Checking Dtypes in Test Data\")\n",
    "print(test_df.dtypes)"
   ],
   "id": "2c2bb09a1067b14a",
   "outputs": [
    {
     "name": "stdout",
     "output_type": "stream",
     "text": [
      "Checking Dtypes in Training Data\n",
      "\n",
      "\n",
      "PassengerId      int64\n",
      "Survived         int64\n",
      "Pclass           int64\n",
      "Name            object\n",
      "Sex             object\n",
      "Age            float64\n",
      "SibSp            int64\n",
      "Parch            int64\n",
      "Ticket          object\n",
      "Fare           float64\n",
      "Cabin           object\n",
      "Embarked        object\n",
      "dtype: object\n",
      "\n",
      "\n",
      "----------------------------------------\n",
      "Checking Dtypes in Test Data\n",
      "PassengerId      int64\n",
      "Pclass           int64\n",
      "Name            object\n",
      "Sex             object\n",
      "Age            float64\n",
      "SibSp            int64\n",
      "Parch            int64\n",
      "Ticket          object\n",
      "Fare           float64\n",
      "Cabin           object\n",
      "Embarked        object\n",
      "dtype: object\n"
     ]
    }
   ],
   "execution_count": 460
  },
  {
   "metadata": {
    "ExecuteTime": {
     "end_time": "2025-06-28T11:45:15.085477Z",
     "start_time": "2025-06-28T11:45:15.081251Z"
    }
   },
   "cell_type": "code",
   "source": "",
   "id": "ac4ff5f70e562670",
   "outputs": [],
   "execution_count": null
  },
  {
   "metadata": {
    "ExecuteTime": {
     "end_time": "2025-06-28T11:45:15.208656Z",
     "start_time": "2025-06-28T11:45:15.178120Z"
    }
   },
   "cell_type": "code",
   "source": "train_df.describe().T",
   "id": "9585e484877c5a19",
   "outputs": [
    {
     "data": {
      "text/plain": [
       "             count        mean         std   min       25%       50%    75%  \\\n",
       "PassengerId  891.0  446.000000  257.353842  1.00  223.5000  446.0000  668.5   \n",
       "Survived     891.0    0.383838    0.486592  0.00    0.0000    0.0000    1.0   \n",
       "Pclass       891.0    2.308642    0.836071  1.00    2.0000    3.0000    3.0   \n",
       "Age          714.0   29.699118   14.526497  0.42   20.1250   28.0000   38.0   \n",
       "SibSp        891.0    0.523008    1.102743  0.00    0.0000    0.0000    1.0   \n",
       "Parch        891.0    0.381594    0.806057  0.00    0.0000    0.0000    0.0   \n",
       "Fare         891.0   32.204208   49.693429  0.00    7.9104   14.4542   31.0   \n",
       "\n",
       "                  max  \n",
       "PassengerId  891.0000  \n",
       "Survived       1.0000  \n",
       "Pclass         3.0000  \n",
       "Age           80.0000  \n",
       "SibSp          8.0000  \n",
       "Parch          6.0000  \n",
       "Fare         512.3292  "
      ],
      "text/html": [
       "<div>\n",
       "<style scoped>\n",
       "    .dataframe tbody tr th:only-of-type {\n",
       "        vertical-align: middle;\n",
       "    }\n",
       "\n",
       "    .dataframe tbody tr th {\n",
       "        vertical-align: top;\n",
       "    }\n",
       "\n",
       "    .dataframe thead th {\n",
       "        text-align: right;\n",
       "    }\n",
       "</style>\n",
       "<table border=\"1\" class=\"dataframe\">\n",
       "  <thead>\n",
       "    <tr style=\"text-align: right;\">\n",
       "      <th></th>\n",
       "      <th>count</th>\n",
       "      <th>mean</th>\n",
       "      <th>std</th>\n",
       "      <th>min</th>\n",
       "      <th>25%</th>\n",
       "      <th>50%</th>\n",
       "      <th>75%</th>\n",
       "      <th>max</th>\n",
       "    </tr>\n",
       "  </thead>\n",
       "  <tbody>\n",
       "    <tr>\n",
       "      <th>PassengerId</th>\n",
       "      <td>891.0</td>\n",
       "      <td>446.000000</td>\n",
       "      <td>257.353842</td>\n",
       "      <td>1.00</td>\n",
       "      <td>223.5000</td>\n",
       "      <td>446.0000</td>\n",
       "      <td>668.5</td>\n",
       "      <td>891.0000</td>\n",
       "    </tr>\n",
       "    <tr>\n",
       "      <th>Survived</th>\n",
       "      <td>891.0</td>\n",
       "      <td>0.383838</td>\n",
       "      <td>0.486592</td>\n",
       "      <td>0.00</td>\n",
       "      <td>0.0000</td>\n",
       "      <td>0.0000</td>\n",
       "      <td>1.0</td>\n",
       "      <td>1.0000</td>\n",
       "    </tr>\n",
       "    <tr>\n",
       "      <th>Pclass</th>\n",
       "      <td>891.0</td>\n",
       "      <td>2.308642</td>\n",
       "      <td>0.836071</td>\n",
       "      <td>1.00</td>\n",
       "      <td>2.0000</td>\n",
       "      <td>3.0000</td>\n",
       "      <td>3.0</td>\n",
       "      <td>3.0000</td>\n",
       "    </tr>\n",
       "    <tr>\n",
       "      <th>Age</th>\n",
       "      <td>714.0</td>\n",
       "      <td>29.699118</td>\n",
       "      <td>14.526497</td>\n",
       "      <td>0.42</td>\n",
       "      <td>20.1250</td>\n",
       "      <td>28.0000</td>\n",
       "      <td>38.0</td>\n",
       "      <td>80.0000</td>\n",
       "    </tr>\n",
       "    <tr>\n",
       "      <th>SibSp</th>\n",
       "      <td>891.0</td>\n",
       "      <td>0.523008</td>\n",
       "      <td>1.102743</td>\n",
       "      <td>0.00</td>\n",
       "      <td>0.0000</td>\n",
       "      <td>0.0000</td>\n",
       "      <td>1.0</td>\n",
       "      <td>8.0000</td>\n",
       "    </tr>\n",
       "    <tr>\n",
       "      <th>Parch</th>\n",
       "      <td>891.0</td>\n",
       "      <td>0.381594</td>\n",
       "      <td>0.806057</td>\n",
       "      <td>0.00</td>\n",
       "      <td>0.0000</td>\n",
       "      <td>0.0000</td>\n",
       "      <td>0.0</td>\n",
       "      <td>6.0000</td>\n",
       "    </tr>\n",
       "    <tr>\n",
       "      <th>Fare</th>\n",
       "      <td>891.0</td>\n",
       "      <td>32.204208</td>\n",
       "      <td>49.693429</td>\n",
       "      <td>0.00</td>\n",
       "      <td>7.9104</td>\n",
       "      <td>14.4542</td>\n",
       "      <td>31.0</td>\n",
       "      <td>512.3292</td>\n",
       "    </tr>\n",
       "  </tbody>\n",
       "</table>\n",
       "</div>"
      ]
     },
     "execution_count": 461,
     "metadata": {},
     "output_type": "execute_result"
    }
   ],
   "execution_count": 461
  },
  {
   "metadata": {
    "ExecuteTime": {
     "end_time": "2025-06-28T11:45:15.361119Z",
     "start_time": "2025-06-28T11:45:15.327504Z"
    }
   },
   "cell_type": "code",
   "source": "test_df.describe().T",
   "id": "1f6e84f8e5e6d772",
   "outputs": [
    {
     "data": {
      "text/plain": [
       "             count         mean         std     min       25%        50%  \\\n",
       "PassengerId  418.0  1100.500000  120.810458  892.00  996.2500  1100.5000   \n",
       "Pclass       418.0     2.265550    0.841838    1.00    1.0000     3.0000   \n",
       "Age          332.0    30.272590   14.181209    0.17   21.0000    27.0000   \n",
       "SibSp        418.0     0.447368    0.896760    0.00    0.0000     0.0000   \n",
       "Parch        418.0     0.392344    0.981429    0.00    0.0000     0.0000   \n",
       "Fare         417.0    35.627188   55.907576    0.00    7.8958    14.4542   \n",
       "\n",
       "                 75%        max  \n",
       "PassengerId  1204.75  1309.0000  \n",
       "Pclass          3.00     3.0000  \n",
       "Age            39.00    76.0000  \n",
       "SibSp           1.00     8.0000  \n",
       "Parch           0.00     9.0000  \n",
       "Fare           31.50   512.3292  "
      ],
      "text/html": [
       "<div>\n",
       "<style scoped>\n",
       "    .dataframe tbody tr th:only-of-type {\n",
       "        vertical-align: middle;\n",
       "    }\n",
       "\n",
       "    .dataframe tbody tr th {\n",
       "        vertical-align: top;\n",
       "    }\n",
       "\n",
       "    .dataframe thead th {\n",
       "        text-align: right;\n",
       "    }\n",
       "</style>\n",
       "<table border=\"1\" class=\"dataframe\">\n",
       "  <thead>\n",
       "    <tr style=\"text-align: right;\">\n",
       "      <th></th>\n",
       "      <th>count</th>\n",
       "      <th>mean</th>\n",
       "      <th>std</th>\n",
       "      <th>min</th>\n",
       "      <th>25%</th>\n",
       "      <th>50%</th>\n",
       "      <th>75%</th>\n",
       "      <th>max</th>\n",
       "    </tr>\n",
       "  </thead>\n",
       "  <tbody>\n",
       "    <tr>\n",
       "      <th>PassengerId</th>\n",
       "      <td>418.0</td>\n",
       "      <td>1100.500000</td>\n",
       "      <td>120.810458</td>\n",
       "      <td>892.00</td>\n",
       "      <td>996.2500</td>\n",
       "      <td>1100.5000</td>\n",
       "      <td>1204.75</td>\n",
       "      <td>1309.0000</td>\n",
       "    </tr>\n",
       "    <tr>\n",
       "      <th>Pclass</th>\n",
       "      <td>418.0</td>\n",
       "      <td>2.265550</td>\n",
       "      <td>0.841838</td>\n",
       "      <td>1.00</td>\n",
       "      <td>1.0000</td>\n",
       "      <td>3.0000</td>\n",
       "      <td>3.00</td>\n",
       "      <td>3.0000</td>\n",
       "    </tr>\n",
       "    <tr>\n",
       "      <th>Age</th>\n",
       "      <td>332.0</td>\n",
       "      <td>30.272590</td>\n",
       "      <td>14.181209</td>\n",
       "      <td>0.17</td>\n",
       "      <td>21.0000</td>\n",
       "      <td>27.0000</td>\n",
       "      <td>39.00</td>\n",
       "      <td>76.0000</td>\n",
       "    </tr>\n",
       "    <tr>\n",
       "      <th>SibSp</th>\n",
       "      <td>418.0</td>\n",
       "      <td>0.447368</td>\n",
       "      <td>0.896760</td>\n",
       "      <td>0.00</td>\n",
       "      <td>0.0000</td>\n",
       "      <td>0.0000</td>\n",
       "      <td>1.00</td>\n",
       "      <td>8.0000</td>\n",
       "    </tr>\n",
       "    <tr>\n",
       "      <th>Parch</th>\n",
       "      <td>418.0</td>\n",
       "      <td>0.392344</td>\n",
       "      <td>0.981429</td>\n",
       "      <td>0.00</td>\n",
       "      <td>0.0000</td>\n",
       "      <td>0.0000</td>\n",
       "      <td>0.00</td>\n",
       "      <td>9.0000</td>\n",
       "    </tr>\n",
       "    <tr>\n",
       "      <th>Fare</th>\n",
       "      <td>417.0</td>\n",
       "      <td>35.627188</td>\n",
       "      <td>55.907576</td>\n",
       "      <td>0.00</td>\n",
       "      <td>7.8958</td>\n",
       "      <td>14.4542</td>\n",
       "      <td>31.50</td>\n",
       "      <td>512.3292</td>\n",
       "    </tr>\n",
       "  </tbody>\n",
       "</table>\n",
       "</div>"
      ]
     },
     "execution_count": 462,
     "metadata": {},
     "output_type": "execute_result"
    }
   ],
   "execution_count": 462
  },
  {
   "metadata": {},
   "cell_type": "markdown",
   "source": "# EDA",
   "id": "140dfeacc2a37099"
  },
  {
   "metadata": {
    "ExecuteTime": {
     "end_time": "2025-06-28T11:45:15.696346Z",
     "start_time": "2025-06-28T11:45:15.599719Z"
    }
   },
   "cell_type": "code",
   "source": [
    "plt.figure(figsize = (12,6))\n",
    "plt.pie(train_df[\"Survived\"].value_counts(),labels = train_df[\"Survived\"].value_counts().keys(),autopct=\"%1.1f%%\",textprops={\"fontsize\":20,\"fontweight\":\"black\"},colors=sns.color_palette(\"Set2\"))\n",
    "plt.title(\"Survival Distribution\")\n",
    "plt.show()"
   ],
   "id": "3ca1f4e62bee662b",
   "outputs": [
    {
     "data": {
      "text/plain": [
       "<Figure size 1200x600 with 1 Axes>"
      ],
      "image/png": "[encoded data removed]"
     },
     "metadata": {},
     "output_type": "display_data"
    }
   ],
   "execution_count": 463
  },
  {
   "metadata": {},
   "cell_type": "markdown",
   "source": "Only 38% of people survived",
   "id": "acb7cb275f2a7b88"
  },
  {
   "metadata": {
    "ExecuteTime": {
     "end_time": "2025-06-28T11:45:16.338813Z",
     "start_time": "2025-06-28T11:45:15.997061Z"
    }
   },
   "cell_type": "code",
   "source": [
    "sns.histplot(x=\"Age\",data=train_df,kde=True,hue=\"Survived\",palette=\"Set2\",bins=20)\n",
    "plt.title(\"Survival Distribution w.rt Age\")\n",
    "plt.show()"
   ],
   "id": "b16cd464407aa9da",
   "outputs": [
    {
     "data": {
      "text/plain": [
       "<Figure size 640x480 with 1 Axes>"
      ],
      "image/png": "[encoded data removed]"
     },
     "metadata": {},
     "output_type": "display_data"
    }
   ],
   "execution_count": 464
  },
  {
   "metadata": {},
   "cell_type": "markdown",
   "source": [
    "* Distribution is Normal\n",
    "* Most of the people survived within 10 years of age\n",
    "* Minimum age is 0 amd Max age is 80\n"
   ],
   "id": "862c8d898cbb6129"
  },
  {
   "metadata": {
    "ExecuteTime": {
     "end_time": "2025-06-28T11:45:16.625657Z",
     "start_time": "2025-06-28T11:45:16.410720Z"
    }
   },
   "cell_type": "code",
   "source": [
    "sns.barplot(x='Sex',y='Survived',data=train_df,palette=\"Set2\")\n",
    "plt.show()\n",
    "print(\"The percentage of values \")\n",
    "print(\"Survival Ratio of Males:\",train_df[\"Survived\"][train_df[\"Sex\"]==\"male\"].value_counts(normalize=True)[1]*100)\n",
    "print(\"Survival Ratio of Females\",train_df[\"Survived\"][train_df[\"Sex\"]==\"female\"].value_counts(normalize=True)[1]*100)"
   ],
   "id": "7aa6bb49c0906a47",
   "outputs": [
    {
     "data": {
      "text/plain": [
       "<Figure size 640x480 with 1 Axes>"
      ],
      "image/png": "[encoded data removed]"
     },
     "metadata": {},
     "output_type": "display_data"
    },
    {
     "name": "stdout",
     "output_type": "stream",
     "text": [
      "The percentage of values \n",
      "Survival Ratio of Males: 18.890814558058924\n",
      "Survival Ratio of Females 74.20382165605095\n"
     ]
    }
   ],
   "execution_count": 465
  },
  {
   "metadata": {
    "ExecuteTime": {
     "end_time": "2025-06-28T11:45:16.871662Z",
     "start_time": "2025-06-28T11:45:16.670485Z"
    }
   },
   "cell_type": "code",
   "source": [
    "sns.barplot(x='Pclass',y='Survived',data=train_df,palette=\"Set2\")\n",
    "plt.show()\n",
    "print(\"Survival Rate of Class1\",round(train_df[\"Survived\"][train_df[\"Pclass\"]==1].value_counts(normalize=True)[1]*100,2))\n",
    "print(\"Survival Rate of Class2\",round(train_df[\"Survived\"][train_df[\"Pclass\"]==2].value_counts(normalize=True)[1]*100,2))\n",
    "print(\"Survival Rate of Class3\",round(train_df[\"Survived\"][train_df[\"Pclass\"]==3].value_counts(normalize=True)[1]*100,2))"
   ],
   "id": "383d518700e367e4",
   "outputs": [
    {
     "data": {
      "text/plain": [
       "<Figure size 640x480 with 1 Axes>"
      ],
      "image/png": "[encoded data removed]"
     },
     "metadata": {},
     "output_type": "display_data"
    },
    {
     "name": "stdout",
     "output_type": "stream",
     "text": [
      "Survival Rate of Class1 62.96\n",
      "Survival Rate of Class2 47.28\n",
      "Survival Rate of Class3 24.24\n"
     ]
    }
   ],
   "execution_count": 466
  },
  {
   "metadata": {
    "ExecuteTime": {
     "end_time": "2025-06-28T11:45:17.250317Z",
     "start_time": "2025-06-28T11:45:16.916464Z"
    }
   },
   "cell_type": "code",
   "source": [
    "sns.barplot(x='SibSp',y='Survived',data=train_df,palette=\"Set2\")\n",
    "plt.show()\n",
    "print(\"Survival Rate of 0 Siblings\",round(train_df[\"Survived\"][train_df[\"SibSp\"]==0].value_counts(normalize=True)[1]*100,2))\n",
    "print(\"Survival Rate of 1 Siblings\",round(train_df[\"Survived\"][train_df[\"SibSp\"]==1].value_counts(normalize=True)[1]*100,2))\n",
    "print(\"Survival Rate of 2 Siblings\",round(train_df[\"Survived\"][train_df[\"SibSp\"]==2].value_counts(normalize=True)[1]*100,2))\n",
    "print(\"Survival Rate of 3 Siblings\",round(train_df[\"Survived\"][train_df[\"SibSp\"]==3].value_counts(normalize=True)[1]*100,2))\n",
    "print(\"Survival Rate of 4 Siblings\",round(train_df[\"Survived\"][train_df[\"SibSp\"]==4].value_counts(normalize=True)[1]*100,2))\n",
    "\n"
   ],
   "id": "29b5c911a8f6ec30",
   "outputs": [
    {
     "data": {
      "text/plain": [
       "<Figure size 640x480 with 1 Axes>"
      ],
      "image/png": "[encoded data removed]"
     },
     "metadata": {},
     "output_type": "display_data"
    },
    {
     "name": "stdout",
     "output_type": "stream",
     "text": [
      "Survival Rate of 0 Siblings 34.54\n",
      "Survival Rate of 1 Siblings 53.59\n",
      "Survival Rate of 2 Siblings 46.43\n",
      "Survival Rate of 3 Siblings 25.0\n",
      "Survival Rate of 4 Siblings 16.67\n"
     ]
    }
   ],
   "execution_count": 467
  },
  {
   "metadata": {},
   "cell_type": "markdown",
   "source": [
    "* The survival rate of a couple or a couple with a single parent/child has highest survival rate.\n",
    "* The survival rate of a single identity comes next.\n",
    "* The survival rate with more more family members is low."
   ],
   "id": "65b8dec7ecd0e34a"
  },
  {
   "metadata": {
    "ExecuteTime": {
     "end_time": "2025-06-28T11:45:17.358654Z",
     "start_time": "2025-06-28T11:45:17.347355Z"
    }
   },
   "cell_type": "code",
   "source": "train_df[\"SibSp\"].value_counts()",
   "id": "8a693ac4c557df08",
   "outputs": [
    {
     "data": {
      "text/plain": [
       "SibSp\n",
       "0    608\n",
       "1    209\n",
       "2     28\n",
       "4     18\n",
       "3     16\n",
       "8      7\n",
       "5      5\n",
       "Name: count, dtype: int64"
      ]
     },
     "execution_count": 468,
     "metadata": {},
     "output_type": "execute_result"
    }
   ],
   "execution_count": 468
  },
  {
   "metadata": {
    "ExecuteTime": {
     "end_time": "2025-06-28T11:45:17.688552Z",
     "start_time": "2025-06-28T11:45:17.470486Z"
    }
   },
   "cell_type": "code",
   "source": [
    "sns.barplot(x=\"Embarked\",y=\"Survived\",data=train_df,palette=\"Set2\")\n",
    "plt.show()\n",
    "print(\"Survival Rate of passengers embarked from Cherbourg\",round(train_df[\"Survived\"][train_df[\"Embarked\"]==\"C\"].value_counts(normalize=True)[1]*100,2))\n",
    "print(\"Survival Rate of passengers embarked from Queensland\",round(train_df[\"Survived\"][train_df[\"Embarked\"]==\"Q\"].value_counts(normalize=True)[1]*100,2))\n",
    "print(\"Survival Rate of passengers embarked from SouthHampton\",round(train_df[\"Survived\"][train_df[\"Embarked\"]==\"S\"].value_counts(normalize=True)[1]*100,2))"
   ],
   "id": "677dbb5b79a2087f",
   "outputs": [
    {
     "data": {
      "text/plain": [
       "<Figure size 640x480 with 1 Axes>"
      ],
      "image/png": "[encoded data removed]"
     },
     "metadata": {},
     "output_type": "display_data"
    },
    {
     "name": "stdout",
     "output_type": "stream",
     "text": [
      "Survival Rate of passengers embarked from Cherbourg 55.36\n",
      "Survival Rate of passengers embarked from Queensland 38.96\n",
      "Survival Rate of passengers embarked from SouthHampton 33.7\n"
     ]
    }
   ],
   "execution_count": 469
  },
  {
   "metadata": {},
   "cell_type": "markdown",
   "source": "Survival Rate from Cherbourg was highest while from SouthHampton was lowest",
   "id": "a650f9529c64abb9"
  },
  {
   "metadata": {},
   "cell_type": "markdown",
   "source": "Lets plot Pclass with Passengers Embarked",
   "id": "9310509b3120fc19"
  },
  {
   "metadata": {
    "ExecuteTime": {
     "end_time": "2025-06-28T11:45:18.090308Z",
     "start_time": "2025-06-28T11:45:17.763525Z"
    }
   },
   "cell_type": "code",
   "source": [
    "sns.barplot(x='Embarked',y='Pclass',hue=\"Survived\",data=train_df,palette=\"Set2\")\n",
    "plt.show()"
   ],
   "id": "f69e9b5fbf86385a",
   "outputs": [
    {
     "data": {
      "text/plain": [
       "<Figure size 640x480 with 1 Axes>"
      ],
      "image/png": "[encoded data removed]"
     },
     "metadata": {},
     "output_type": "display_data"
    }
   ],
   "execution_count": 470
  },
  {
   "metadata": {},
   "cell_type": "markdown",
   "source": "Plotting Age after converting into categories",
   "id": "9586bb39f28c07ae"
  },
  {
   "metadata": {
    "ExecuteTime": {
     "end_time": "2025-06-28T11:45:18.186875Z",
     "start_time": "2025-06-28T11:45:18.172367Z"
    }
   },
   "cell_type": "code",
   "source": [
    "train_df[\"Age\"] = train_df[\"Age\"].fillna(-0.5)\n",
    "test_df[\"Age\"] = test_df[\"Age\"].fillna(-0.5)\n",
    "bins = [0, 12, 17, 60, np.inf]\n",
    "labels = ['child', 'teenager', 'adult', 'elderly']\n",
    "age_groups = pd.cut(train_df.Age, bins, labels = labels)\n",
    "train_df['AgeGroup'] = age_groups\n",
    "test_df['AgeGroup'] = age_groups"
   ],
   "id": "91f41327373ce4c8",
   "outputs": [],
   "execution_count": 471
  },
  {
   "metadata": {
    "ExecuteTime": {
     "end_time": "2025-06-28T11:45:18.500568Z",
     "start_time": "2025-06-28T11:45:18.236580Z"
    }
   },
   "cell_type": "code",
   "source": [
    "sns.barplot(x='AgeGroup',y='Survived',data=train_df,palette=\"Set2\")\n",
    "plt.show()"
   ],
   "id": "c9bdd5a092c15e6a",
   "outputs": [
    {
     "data": {
      "text/plain": [
       "<Figure size 640x480 with 1 Axes>"
      ],
      "image/png": "[encoded data removed]"
     },
     "metadata": {},
     "output_type": "display_data"
    }
   ],
   "execution_count": 472
  },
  {
   "metadata": {},
   "cell_type": "markdown",
   "source": "# Feature Engineering\n",
   "id": "365cb6e9a52d3739"
  },
  {
   "metadata": {},
   "cell_type": "markdown",
   "source": "### Extracting Titles from Names",
   "id": "19c123b03f0fd6ee"
  },
  {
   "metadata": {
    "ExecuteTime": {
     "end_time": "2025-06-28T11:45:18.584089Z",
     "start_time": "2025-06-28T11:45:18.565193Z"
    }
   },
   "cell_type": "code",
   "source": "train_df.head()",
   "id": "4d47d1322ff25bf",
   "outputs": [
    {
     "data": {
      "text/plain": [
       "   PassengerId  Survived  Pclass  \\\n",
       "0            1         0       3   \n",
       "1            2         1       1   \n",
       "2            3         1       3   \n",
       "3            4         1       1   \n",
       "4            5         0       3   \n",
       "\n",
       "                                                Name     Sex   Age  SibSp  \\\n",
       "0                            Braund, Mr. Owen Harris    male  22.0      1   \n",
       "1  Cumings, Mrs. John Bradley (Florence Briggs Th...  female  38.0      1   \n",
       "2                             Heikkinen, Miss. Laina  female  26.0      0   \n",
       "3       Futrelle, Mrs. Jacques Heath (Lily May Peel)  female  35.0      1   \n",
       "4                           Allen, Mr. William Henry    male  35.0      0   \n",
       "\n",
       "   Parch            Ticket     Fare Cabin Embarked AgeGroup  \n",
       "0      0         A/5 21171   7.2500   NaN        S    adult  \n",
       "1      0          PC 17599  71.2833   C85        C    adult  \n",
       "2      0  STON/O2. 3101282   7.9250   NaN        S    adult  \n",
       "3      0            113803  53.1000  C123        S    adult  \n",
       "4      0            373450   8.0500   NaN        S    adult  "
      ],
      "text/html": [
       "<div>\n",
       "<style scoped>\n",
       "    .dataframe tbody tr th:only-of-type {\n",
       "        vertical-align: middle;\n",
       "    }\n",
       "\n",
       "    .dataframe tbody tr th {\n",
       "        vertical-align: top;\n",
       "    }\n",
       "\n",
       "    .dataframe thead th {\n",
       "        text-align: right;\n",
       "    }\n",
       "</style>\n",
       "<table border=\"1\" class=\"dataframe\">\n",
       "  <thead>\n",
       "    <tr style=\"text-align: right;\">\n",
       "      <th></th>\n",
       "      <th>PassengerId</th>\n",
       "      <th>Survived</th>\n",
       "      <th>Pclass</th>\n",
       "      <th>Name</th>\n",
       "      <th>Sex</th>\n",
       "      <th>Age</th>\n",
       "      <th>SibSp</th>\n",
       "      <th>Parch</th>\n",
       "      <th>Ticket</th>\n",
       "      <th>Fare</th>\n",
       "      <th>Cabin</th>\n",
       "      <th>Embarked</th>\n",
       "      <th>AgeGroup</th>\n",
       "    </tr>\n",
       "  </thead>\n",
       "  <tbody>\n",
       "    <tr>\n",
       "      <th>0</th>\n",
       "      <td>1</td>\n",
       "      <td>0</td>\n",
       "      <td>3</td>\n",
       "      <td>Braund, Mr. Owen Harris</td>\n",
       "      <td>male</td>\n",
       "      <td>22.0</td>\n",
       "      <td>1</td>\n",
       "      <td>0</td>\n",
       "      <td>A/5 21171</td>\n",
       "      <td>7.2500</td>\n",
       "      <td>NaN</td>\n",
       "      <td>S</td>\n",
       "      <td>adult</td>\n",
       "    </tr>\n",
       "    <tr>\n",
       "      <th>1</th>\n",
       "      <td>2</td>\n",
       "      <td>1</td>\n",
       "      <td>1</td>\n",
       "      <td>Cumings, Mrs. John Bradley (Florence Briggs Th...</td>\n",
       "      <td>female</td>\n",
       "      <td>38.0</td>\n",
       "      <td>1</td>\n",
       "      <td>0</td>\n",
       "      <td>PC 17599</td>\n",
       "      <td>71.2833</td>\n",
       "      <td>C85</td>\n",
       "      <td>C</td>\n",
       "      <td>adult</td>\n",
       "    </tr>\n",
       "    <tr>\n",
       "      <th>2</th>\n",
       "      <td>3</td>\n",
       "      <td>1</td>\n",
       "      <td>3</td>\n",
       "      <td>Heikkinen, Miss. Laina</td>\n",
       "      <td>female</td>\n",
       "      <td>26.0</td>\n",
       "      <td>0</td>\n",
       "      <td>0</td>\n",
       "      <td>STON/O2. 3101282</td>\n",
       "      <td>7.9250</td>\n",
       "      <td>NaN</td>\n",
       "      <td>S</td>\n",
       "      <td>adult</td>\n",
       "    </tr>\n",
       "    <tr>\n",
       "      <th>3</th>\n",
       "      <td>4</td>\n",
       "      <td>1</td>\n",
       "      <td>1</td>\n",
       "      <td>Futrelle, Mrs. Jacques Heath (Lily May Peel)</td>\n",
       "      <td>female</td>\n",
       "      <td>35.0</td>\n",
       "      <td>1</td>\n",
       "      <td>0</td>\n",
       "      <td>113803</td>\n",
       "      <td>53.1000</td>\n",
       "      <td>C123</td>\n",
       "      <td>S</td>\n",
       "      <td>adult</td>\n",
       "    </tr>\n",
       "    <tr>\n",
       "      <th>4</th>\n",
       "      <td>5</td>\n",
       "      <td>0</td>\n",
       "      <td>3</td>\n",
       "      <td>Allen, Mr. William Henry</td>\n",
       "      <td>male</td>\n",
       "      <td>35.0</td>\n",
       "      <td>0</td>\n",
       "      <td>0</td>\n",
       "      <td>373450</td>\n",
       "      <td>8.0500</td>\n",
       "      <td>NaN</td>\n",
       "      <td>S</td>\n",
       "      <td>adult</td>\n",
       "    </tr>\n",
       "  </tbody>\n",
       "</table>\n",
       "</div>"
      ]
     },
     "execution_count": 473,
     "metadata": {},
     "output_type": "execute_result"
    }
   ],
   "execution_count": 473
  },
  {
   "metadata": {
    "ExecuteTime": {
     "end_time": "2025-06-28T11:45:18.696507Z",
     "start_time": "2025-06-28T11:45:18.691340Z"
    }
   },
   "cell_type": "code",
   "source": [
    "def extract_title(df):\n",
    "    df['Title'] = df['Name'].str.split(\", \", expand=True)[1].str.split(\".\", expand=True)[0]\n",
    "    df['Title']=df['Title'].replace(['Lady','Mme','the Countess','Dona'],'Mrs')\n",
    "    df['Title']=df['Title'].replace(['Col','Major','Capt'],'Military Officer')\n",
    "    df['Title']=df['Title'].replace(['Mlle','Ms'],'Miss')\n",
    "    df['Title']=df['Title'].replace(['Dr','Rev','Jonkheer','Sir','Don'],'Noble')\n",
    "\n",
    "\n",
    "\n"
   ],
   "id": "b12ad035283029c2",
   "outputs": [],
   "execution_count": 474
  },
  {
   "metadata": {
    "ExecuteTime": {
     "end_time": "2025-06-28T11:45:18.793521Z",
     "start_time": "2025-06-28T11:45:18.777943Z"
    }
   },
   "cell_type": "code",
   "source": [
    "extract_title(train_df)\n",
    "extract_title(test_df)"
   ],
   "id": "c0c10cb0bc09fa8e",
   "outputs": [],
   "execution_count": 475
  },
  {
   "metadata": {
    "ExecuteTime": {
     "end_time": "2025-06-28T11:45:18.915443Z",
     "start_time": "2025-06-28T11:45:18.907723Z"
    }
   },
   "cell_type": "code",
   "source": "train_df['Title'].value_counts()",
   "id": "142c50842185bd64",
   "outputs": [
    {
     "data": {
      "text/plain": [
       "Title\n",
       "Mr                  517\n",
       "Miss                185\n",
       "Mrs                 128\n",
       "Master               40\n",
       "Noble                16\n",
       "Military Officer      5\n",
       "Name: count, dtype: int64"
      ]
     },
     "execution_count": 476,
     "metadata": {},
     "output_type": "execute_result"
    }
   ],
   "execution_count": 476
  },
  {
   "metadata": {
    "ExecuteTime": {
     "end_time": "2025-06-28T11:45:19.385443Z",
     "start_time": "2025-06-28T11:45:19.047938Z"
    }
   },
   "cell_type": "code",
   "source": [
    "sns.barplot(x='Title',y='Survived',data=train_df,palette=\"Set2\")\n",
    "plt.show()"
   ],
   "id": "4dc10ad5c6486c7d",
   "outputs": [
    {
     "data": {
      "text/plain": [
       "<Figure size 640x480 with 1 Axes>"
      ],
      "image/png": "[encoded data removed]"
     },
     "metadata": {},
     "output_type": "display_data"
    }
   ],
   "execution_count": 477
  },
  {
   "metadata": {
    "ExecuteTime": {
     "end_time": "2025-06-28T11:45:19.481646Z",
     "start_time": "2025-06-28T11:45:19.462751Z"
    }
   },
   "cell_type": "code",
   "source": [
    "print(\"Survival Rates of Titles\")\n",
    "print(\"Mr\")\n",
    "print(round(train_df[\"Survived\"][train_df[\"Title\"]==\"Mr\"].value_counts(normalize=True)[1]*100,2))\n",
    "print(\"Mrs\")\n",
    "print(round(train_df[\"Survived\"][train_df[\"Title\"]==\"Mrs\"].value_counts(normalize=True)[1]*100,2))\n",
    "print(\"Miss\")\n",
    "print(round(train_df[\"Survived\"][train_df[\"Title\"]==\"Miss\"].value_counts(normalize=True)[1]*100,2))\n",
    "print(\"Master\")\n",
    "print(round(train_df[\"Survived\"][train_df[\"Title\"]==\"Master\"].value_counts(normalize=True)[1]*100,2))\n",
    "print(\"Noble\")\n",
    "print(round(train_df[\"Survived\"][train_df[\"Title\"]==\"Noble\"].value_counts(normalize=True)[1]*100,2))\n",
    "print(\"Military Officer\")\n",
    "print(round(train_df[\"Survived\"][train_df[\"Title\"]==\"Military Officer\"].value_counts(normalize=True)[1]*100,2))"
   ],
   "id": "381557c47da6aa26",
   "outputs": [
    {
     "name": "stdout",
     "output_type": "stream",
     "text": [
      "Survival Rates of Titles\n",
      "Mr\n",
      "15.67\n",
      "Mrs\n",
      "79.69\n",
      "Miss\n",
      "70.27\n",
      "Master\n",
      "57.5\n",
      "Noble\n",
      "25.0\n",
      "Military Officer\n",
      "40.0\n"
     ]
    }
   ],
   "execution_count": 478
  },
  {
   "metadata": {
    "ExecuteTime": {
     "end_time": "2025-06-28T11:45:19.607868Z",
     "start_time": "2025-06-28T11:45:19.601455Z"
    }
   },
   "cell_type": "code",
   "source": [
    "def manipulate_family_members(df):\n",
    "    df['FamilySize'] = df['SibSp'] + df['Parch'] + 1\n",
    "    df['IsAlone'] = 1\n",
    "    df['IsAlone'].loc[df['FamilySize']>1]=0\n"
   ],
   "id": "7d3db7f80f7deed8",
   "outputs": [],
   "execution_count": 479
  },
  {
   "metadata": {
    "ExecuteTime": {
     "end_time": "2025-06-28T11:45:19.681019Z",
     "start_time": "2025-06-28T11:45:19.670714Z"
    }
   },
   "cell_type": "code",
   "source": [
    "manipulate_family_members(train_df)\n",
    "manipulate_family_members(test_df)"
   ],
   "id": "3ed6c6c7fcabdfc4",
   "outputs": [],
   "execution_count": 480
  },
  {
   "metadata": {
    "ExecuteTime": {
     "end_time": "2025-06-28T11:45:19.765993Z",
     "start_time": "2025-06-28T11:45:19.747990Z"
    }
   },
   "cell_type": "code",
   "source": "train_df.head()",
   "id": "6eb245a5921eec1a",
   "outputs": [
    {
     "data": {
      "text/plain": [
       "   PassengerId  Survived  Pclass  \\\n",
       "0            1         0       3   \n",
       "1            2         1       1   \n",
       "2            3         1       3   \n",
       "3            4         1       1   \n",
       "4            5         0       3   \n",
       "\n",
       "                                                Name     Sex   Age  SibSp  \\\n",
       "0                            Braund, Mr. Owen Harris    male  22.0      1   \n",
       "1  Cumings, Mrs. John Bradley (Florence Briggs Th...  female  38.0      1   \n",
       "2                             Heikkinen, Miss. Laina  female  26.0      0   \n",
       "3       Futrelle, Mrs. Jacques Heath (Lily May Peel)  female  35.0      1   \n",
       "4                           Allen, Mr. William Henry    male  35.0      0   \n",
       "\n",
       "   Parch            Ticket     Fare Cabin Embarked AgeGroup Title  FamilySize  \\\n",
       "0      0         A/5 21171   7.2500   NaN        S    adult    Mr           2   \n",
       "1      0          PC 17599  71.2833   C85        C    adult   Mrs           2   \n",
       "2      0  STON/O2. 3101282   7.9250   NaN        S    adult  Miss           1   \n",
       "3      0            113803  53.1000  C123        S    adult   Mrs           2   \n",
       "4      0            373450   8.0500   NaN        S    adult    Mr           1   \n",
       "\n",
       "   IsAlone  \n",
       "0        0  \n",
       "1        0  \n",
       "2        1  \n",
       "3        0  \n",
       "4        1  "
      ],
      "text/html": [
       "<div>\n",
       "<style scoped>\n",
       "    .dataframe tbody tr th:only-of-type {\n",
       "        vertical-align: middle;\n",
       "    }\n",
       "\n",
       "    .dataframe tbody tr th {\n",
       "        vertical-align: top;\n",
       "    }\n",
       "\n",
       "    .dataframe thead th {\n",
       "        text-align: right;\n",
       "    }\n",
       "</style>\n",
       "<table border=\"1\" class=\"dataframe\">\n",
       "  <thead>\n",
       "    <tr style=\"text-align: right;\">\n",
       "      <th></th>\n",
       "      <th>PassengerId</th>\n",
       "      <th>Survived</th>\n",
       "      <th>Pclass</th>\n",
       "      <th>Name</th>\n",
       "      <th>Sex</th>\n",
       "      <th>Age</th>\n",
       "      <th>SibSp</th>\n",
       "      <th>Parch</th>\n",
       "      <th>Ticket</th>\n",
       "      <th>Fare</th>\n",
       "      <th>Cabin</th>\n",
       "      <th>Embarked</th>\n",
       "      <th>AgeGroup</th>\n",
       "      <th>Title</th>\n",
       "      <th>FamilySize</th>\n",
       "      <th>IsAlone</th>\n",
       "    </tr>\n",
       "  </thead>\n",
       "  <tbody>\n",
       "    <tr>\n",
       "      <th>0</th>\n",
       "      <td>1</td>\n",
       "      <td>0</td>\n",
       "      <td>3</td>\n",
       "      <td>Braund, Mr. Owen Harris</td>\n",
       "      <td>male</td>\n",
       "      <td>22.0</td>\n",
       "      <td>1</td>\n",
       "      <td>0</td>\n",
       "      <td>A/5 21171</td>\n",
       "      <td>7.2500</td>\n",
       "      <td>NaN</td>\n",
       "      <td>S</td>\n",
       "      <td>adult</td>\n",
       "      <td>Mr</td>\n",
       "      <td>2</td>\n",
       "      <td>0</td>\n",
       "    </tr>\n",
       "    <tr>\n",
       "      <th>1</th>\n",
       "      <td>2</td>\n",
       "      <td>1</td>\n",
       "      <td>1</td>\n",
       "      <td>Cumings, Mrs. John Bradley (Florence Briggs Th...</td>\n",
       "      <td>female</td>\n",
       "      <td>38.0</td>\n",
       "      <td>1</td>\n",
       "      <td>0</td>\n",
       "      <td>PC 17599</td>\n",
       "      <td>71.2833</td>\n",
       "      <td>C85</td>\n",
       "      <td>C</td>\n",
       "      <td>adult</td>\n",
       "      <td>Mrs</td>\n",
       "      <td>2</td>\n",
       "      <td>0</td>\n",
       "    </tr>\n",
       "    <tr>\n",
       "      <th>2</th>\n",
       "      <td>3</td>\n",
       "      <td>1</td>\n",
       "      <td>3</td>\n",
       "      <td>Heikkinen, Miss. Laina</td>\n",
       "      <td>female</td>\n",
       "      <td>26.0</td>\n",
       "      <td>0</td>\n",
       "      <td>0</td>\n",
       "      <td>STON/O2. 3101282</td>\n",
       "      <td>7.9250</td>\n",
       "      <td>NaN</td>\n",
       "      <td>S</td>\n",
       "      <td>adult</td>\n",
       "      <td>Miss</td>\n",
       "      <td>1</td>\n",
       "      <td>1</td>\n",
       "    </tr>\n",
       "    <tr>\n",
       "      <th>3</th>\n",
       "      <td>4</td>\n",
       "      <td>1</td>\n",
       "      <td>1</td>\n",
       "      <td>Futrelle, Mrs. Jacques Heath (Lily May Peel)</td>\n",
       "      <td>female</td>\n",
       "      <td>35.0</td>\n",
       "      <td>1</td>\n",
       "      <td>0</td>\n",
       "      <td>113803</td>\n",
       "      <td>53.1000</td>\n",
       "      <td>C123</td>\n",
       "      <td>S</td>\n",
       "      <td>adult</td>\n",
       "      <td>Mrs</td>\n",
       "      <td>2</td>\n",
       "      <td>0</td>\n",
       "    </tr>\n",
       "    <tr>\n",
       "      <th>4</th>\n",
       "      <td>5</td>\n",
       "      <td>0</td>\n",
       "      <td>3</td>\n",
       "      <td>Allen, Mr. William Henry</td>\n",
       "      <td>male</td>\n",
       "      <td>35.0</td>\n",
       "      <td>0</td>\n",
       "      <td>0</td>\n",
       "      <td>373450</td>\n",
       "      <td>8.0500</td>\n",
       "      <td>NaN</td>\n",
       "      <td>S</td>\n",
       "      <td>adult</td>\n",
       "      <td>Mr</td>\n",
       "      <td>1</td>\n",
       "      <td>1</td>\n",
       "    </tr>\n",
       "  </tbody>\n",
       "</table>\n",
       "</div>"
      ]
     },
     "execution_count": 481,
     "metadata": {},
     "output_type": "execute_result"
    }
   ],
   "execution_count": 481
  },
  {
   "metadata": {
    "ExecuteTime": {
     "end_time": "2025-06-28T11:45:19.882331Z",
     "start_time": "2025-06-28T11:45:19.876158Z"
    }
   },
   "cell_type": "code",
   "source": [
    "def extract_deck(df):\n",
    "    df['Deck'] = df['Cabin'].apply(lambda s: s[0] if pd.notnull(s) else 'M')\n",
    "    df['Deck']=df['Deck'].replace(['A','B','C'],'ABC')\n",
    "    df['Deck']=df['Deck'].replace(['D','E'],'DE')\n",
    "    df['Deck']=df['Deck'].replace(['F','G'],'FG')"
   ],
   "id": "e587d940588164fb",
   "outputs": [],
   "execution_count": 482
  },
  {
   "metadata": {
    "ExecuteTime": {
     "end_time": "2025-06-28T11:45:20.050294Z",
     "start_time": "2025-06-28T11:45:20.033918Z"
    }
   },
   "cell_type": "code",
   "source": [
    "extract_deck(train_df)\n",
    "extract_deck(test_df)"
   ],
   "id": "b24e631a976a94f",
   "outputs": [],
   "execution_count": 483
  },
  {
   "metadata": {
    "ExecuteTime": {
     "end_time": "2025-06-28T11:45:20.184761Z",
     "start_time": "2025-06-28T11:45:20.158215Z"
    }
   },
   "cell_type": "code",
   "source": "train_df.head()",
   "id": "b55ff1b20988734",
   "outputs": [
    {
     "data": {
      "text/plain": [
       "   PassengerId  Survived  Pclass  \\\n",
       "0            1         0       3   \n",
       "1            2         1       1   \n",
       "2            3         1       3   \n",
       "3            4         1       1   \n",
       "4            5         0       3   \n",
       "\n",
       "                                                Name     Sex   Age  SibSp  \\\n",
       "0                            Braund, Mr. Owen Harris    male  22.0      1   \n",
       "1  Cumings, Mrs. John Bradley (Florence Briggs Th...  female  38.0      1   \n",
       "2                             Heikkinen, Miss. Laina  female  26.0      0   \n",
       "3       Futrelle, Mrs. Jacques Heath (Lily May Peel)  female  35.0      1   \n",
       "4                           Allen, Mr. William Henry    male  35.0      0   \n",
       "\n",
       "   Parch            Ticket     Fare Cabin Embarked AgeGroup Title  FamilySize  \\\n",
       "0      0         A/5 21171   7.2500   NaN        S    adult    Mr           2   \n",
       "1      0          PC 17599  71.2833   C85        C    adult   Mrs           2   \n",
       "2      0  STON/O2. 3101282   7.9250   NaN        S    adult  Miss           1   \n",
       "3      0            113803  53.1000  C123        S    adult   Mrs           2   \n",
       "4      0            373450   8.0500   NaN        S    adult    Mr           1   \n",
       "\n",
       "   IsAlone Deck  \n",
       "0        0    M  \n",
       "1        0  ABC  \n",
       "2        1    M  \n",
       "3        0  ABC  \n",
       "4        1    M  "
      ],
      "text/html": [
       "<div>\n",
       "<style scoped>\n",
       "    .dataframe tbody tr th:only-of-type {\n",
       "        vertical-align: middle;\n",
       "    }\n",
       "\n",
       "    .dataframe tbody tr th {\n",
       "        vertical-align: top;\n",
       "    }\n",
       "\n",
       "    .dataframe thead th {\n",
       "        text-align: right;\n",
       "    }\n",
       "</style>\n",
       "<table border=\"1\" class=\"dataframe\">\n",
       "  <thead>\n",
       "    <tr style=\"text-align: right;\">\n",
       "      <th></th>\n",
       "      <th>PassengerId</th>\n",
       "      <th>Survived</th>\n",
       "      <th>Pclass</th>\n",
       "      <th>Name</th>\n",
       "      <th>Sex</th>\n",
       "      <th>Age</th>\n",
       "      <th>SibSp</th>\n",
       "      <th>Parch</th>\n",
       "      <th>Ticket</th>\n",
       "      <th>Fare</th>\n",
       "      <th>Cabin</th>\n",
       "      <th>Embarked</th>\n",
       "      <th>AgeGroup</th>\n",
       "      <th>Title</th>\n",
       "      <th>FamilySize</th>\n",
       "      <th>IsAlone</th>\n",
       "      <th>Deck</th>\n",
       "    </tr>\n",
       "  </thead>\n",
       "  <tbody>\n",
       "    <tr>\n",
       "      <th>0</th>\n",
       "      <td>1</td>\n",
       "      <td>0</td>\n",
       "      <td>3</td>\n",
       "      <td>Braund, Mr. Owen Harris</td>\n",
       "      <td>male</td>\n",
       "      <td>22.0</td>\n",
       "      <td>1</td>\n",
       "      <td>0</td>\n",
       "      <td>A/5 21171</td>\n",
       "      <td>7.2500</td>\n",
       "      <td>NaN</td>\n",
       "      <td>S</td>\n",
       "      <td>adult</td>\n",
       "      <td>Mr</td>\n",
       "      <td>2</td>\n",
       "      <td>0</td>\n",
       "      <td>M</td>\n",
       "    </tr>\n",
       "    <tr>\n",
       "      <th>1</th>\n",
       "      <td>2</td>\n",
       "      <td>1</td>\n",
       "      <td>1</td>\n",
       "      <td>Cumings, Mrs. John Bradley (Florence Briggs Th...</td>\n",
       "      <td>female</td>\n",
       "      <td>38.0</td>\n",
       "      <td>1</td>\n",
       "      <td>0</td>\n",
       "      <td>PC 17599</td>\n",
       "      <td>71.2833</td>\n",
       "      <td>C85</td>\n",
       "      <td>C</td>\n",
       "      <td>adult</td>\n",
       "      <td>Mrs</td>\n",
       "      <td>2</td>\n",
       "      <td>0</td>\n",
       "      <td>ABC</td>\n",
       "    </tr>\n",
       "    <tr>\n",
       "      <th>2</th>\n",
       "      <td>3</td>\n",
       "      <td>1</td>\n",
       "      <td>3</td>\n",
       "      <td>Heikkinen, Miss. Laina</td>\n",
       "      <td>female</td>\n",
       "      <td>26.0</td>\n",
       "      <td>0</td>\n",
       "      <td>0</td>\n",
       "      <td>STON/O2. 3101282</td>\n",
       "      <td>7.9250</td>\n",
       "      <td>NaN</td>\n",
       "      <td>S</td>\n",
       "      <td>adult</td>\n",
       "      <td>Miss</td>\n",
       "      <td>1</td>\n",
       "      <td>1</td>\n",
       "      <td>M</td>\n",
       "    </tr>\n",
       "    <tr>\n",
       "      <th>3</th>\n",
       "      <td>4</td>\n",
       "      <td>1</td>\n",
       "      <td>1</td>\n",
       "      <td>Futrelle, Mrs. Jacques Heath (Lily May Peel)</td>\n",
       "      <td>female</td>\n",
       "      <td>35.0</td>\n",
       "      <td>1</td>\n",
       "      <td>0</td>\n",
       "      <td>113803</td>\n",
       "      <td>53.1000</td>\n",
       "      <td>C123</td>\n",
       "      <td>S</td>\n",
       "      <td>adult</td>\n",
       "      <td>Mrs</td>\n",
       "      <td>2</td>\n",
       "      <td>0</td>\n",
       "      <td>ABC</td>\n",
       "    </tr>\n",
       "    <tr>\n",
       "      <th>4</th>\n",
       "      <td>5</td>\n",
       "      <td>0</td>\n",
       "      <td>3</td>\n",
       "      <td>Allen, Mr. William Henry</td>\n",
       "      <td>male</td>\n",
       "      <td>35.0</td>\n",
       "      <td>0</td>\n",
       "      <td>0</td>\n",
       "      <td>373450</td>\n",
       "      <td>8.0500</td>\n",
       "      <td>NaN</td>\n",
       "      <td>S</td>\n",
       "      <td>adult</td>\n",
       "      <td>Mr</td>\n",
       "      <td>1</td>\n",
       "      <td>1</td>\n",
       "      <td>M</td>\n",
       "    </tr>\n",
       "  </tbody>\n",
       "</table>\n",
       "</div>"
      ]
     },
     "execution_count": 484,
     "metadata": {},
     "output_type": "execute_result"
    }
   ],
   "execution_count": 484
  },
  {
   "metadata": {
    "ExecuteTime": {
     "end_time": "2025-06-28T11:45:20.406202Z",
     "start_time": "2025-06-28T11:45:20.373748Z"
    }
   },
   "cell_type": "code",
   "source": "test_df.head()",
   "id": "5bc489071a517d40",
   "outputs": [
    {
     "data": {
      "text/plain": [
       "   PassengerId  Pclass                                          Name     Sex  \\\n",
       "0          892       3                              Kelly, Mr. James    male   \n",
       "1          893       3              Wilkes, Mrs. James (Ellen Needs)  female   \n",
       "2          894       2                     Myles, Mr. Thomas Francis    male   \n",
       "3          895       3                              Wirz, Mr. Albert    male   \n",
       "4          896       3  Hirvonen, Mrs. Alexander (Helga E Lindqvist)  female   \n",
       "\n",
       "    Age  SibSp  Parch   Ticket     Fare Cabin Embarked AgeGroup Title  \\\n",
       "0  34.5      0      0   330911   7.8292   NaN        Q    adult    Mr   \n",
       "1  47.0      1      0   363272   7.0000   NaN        S    adult   Mrs   \n",
       "2  62.0      0      0   240276   9.6875   NaN        Q    adult    Mr   \n",
       "3  27.0      0      0   315154   8.6625   NaN        S    adult    Mr   \n",
       "4  22.0      1      1  3101298  12.2875   NaN        S    adult   Mrs   \n",
       "\n",
       "   FamilySize  IsAlone Deck  \n",
       "0           1        1    M  \n",
       "1           2        0    M  \n",
       "2           1        1    M  \n",
       "3           1        1    M  \n",
       "4           3        0    M  "
      ],
      "text/html": [
       "<div>\n",
       "<style scoped>\n",
       "    .dataframe tbody tr th:only-of-type {\n",
       "        vertical-align: middle;\n",
       "    }\n",
       "\n",
       "    .dataframe tbody tr th {\n",
       "        vertical-align: top;\n",
       "    }\n",
       "\n",
       "    .dataframe thead th {\n",
       "        text-align: right;\n",
       "    }\n",
       "</style>\n",
       "<table border=\"1\" class=\"dataframe\">\n",
       "  <thead>\n",
       "    <tr style=\"text-align: right;\">\n",
       "      <th></th>\n",
       "      <th>PassengerId</th>\n",
       "      <th>Pclass</th>\n",
       "      <th>Name</th>\n",
       "      <th>Sex</th>\n",
       "      <th>Age</th>\n",
       "      <th>SibSp</th>\n",
       "      <th>Parch</th>\n",
       "      <th>Ticket</th>\n",
       "      <th>Fare</th>\n",
       "      <th>Cabin</th>\n",
       "      <th>Embarked</th>\n",
       "      <th>AgeGroup</th>\n",
       "      <th>Title</th>\n",
       "      <th>FamilySize</th>\n",
       "      <th>IsAlone</th>\n",
       "      <th>Deck</th>\n",
       "    </tr>\n",
       "  </thead>\n",
       "  <tbody>\n",
       "    <tr>\n",
       "      <th>0</th>\n",
       "      <td>892</td>\n",
       "      <td>3</td>\n",
       "      <td>Kelly, Mr. James</td>\n",
       "      <td>male</td>\n",
       "      <td>34.5</td>\n",
       "      <td>0</td>\n",
       "      <td>0</td>\n",
       "      <td>330911</td>\n",
       "      <td>7.8292</td>\n",
       "      <td>NaN</td>\n",
       "      <td>Q</td>\n",
       "      <td>adult</td>\n",
       "      <td>Mr</td>\n",
       "      <td>1</td>\n",
       "      <td>1</td>\n",
       "      <td>M</td>\n",
       "    </tr>\n",
       "    <tr>\n",
       "      <th>1</th>\n",
       "      <td>893</td>\n",
       "      <td>3</td>\n",
       "      <td>Wilkes, Mrs. James (Ellen Needs)</td>\n",
       "      <td>female</td>\n",
       "      <td>47.0</td>\n",
       "      <td>1</td>\n",
       "      <td>0</td>\n",
       "      <td>363272</td>\n",
       "      <td>7.0000</td>\n",
       "      <td>NaN</td>\n",
       "      <td>S</td>\n",
       "      <td>adult</td>\n",
       "      <td>Mrs</td>\n",
       "      <td>2</td>\n",
       "      <td>0</td>\n",
       "      <td>M</td>\n",
       "    </tr>\n",
       "    <tr>\n",
       "      <th>2</th>\n",
       "      <td>894</td>\n",
       "      <td>2</td>\n",
       "      <td>Myles, Mr. Thomas Francis</td>\n",
       "      <td>male</td>\n",
       "      <td>62.0</td>\n",
       "      <td>0</td>\n",
       "      <td>0</td>\n",
       "      <td>240276</td>\n",
       "      <td>9.6875</td>\n",
       "      <td>NaN</td>\n",
       "      <td>Q</td>\n",
       "      <td>adult</td>\n",
       "      <td>Mr</td>\n",
       "      <td>1</td>\n",
       "      <td>1</td>\n",
       "      <td>M</td>\n",
       "    </tr>\n",
       "    <tr>\n",
       "      <th>3</th>\n",
       "      <td>895</td>\n",
       "      <td>3</td>\n",
       "      <td>Wirz, Mr. Albert</td>\n",
       "      <td>male</td>\n",
       "      <td>27.0</td>\n",
       "      <td>0</td>\n",
       "      <td>0</td>\n",
       "      <td>315154</td>\n",
       "      <td>8.6625</td>\n",
       "      <td>NaN</td>\n",
       "      <td>S</td>\n",
       "      <td>adult</td>\n",
       "      <td>Mr</td>\n",
       "      <td>1</td>\n",
       "      <td>1</td>\n",
       "      <td>M</td>\n",
       "    </tr>\n",
       "    <tr>\n",
       "      <th>4</th>\n",
       "      <td>896</td>\n",
       "      <td>3</td>\n",
       "      <td>Hirvonen, Mrs. Alexander (Helga E Lindqvist)</td>\n",
       "      <td>female</td>\n",
       "      <td>22.0</td>\n",
       "      <td>1</td>\n",
       "      <td>1</td>\n",
       "      <td>3101298</td>\n",
       "      <td>12.2875</td>\n",
       "      <td>NaN</td>\n",
       "      <td>S</td>\n",
       "      <td>adult</td>\n",
       "      <td>Mrs</td>\n",
       "      <td>3</td>\n",
       "      <td>0</td>\n",
       "      <td>M</td>\n",
       "    </tr>\n",
       "  </tbody>\n",
       "</table>\n",
       "</div>"
      ]
     },
     "execution_count": 485,
     "metadata": {},
     "output_type": "execute_result"
    }
   ],
   "execution_count": 485
  },
  {
   "metadata": {
    "ExecuteTime": {
     "end_time": "2025-06-28T11:45:20.686174Z",
     "start_time": "2025-06-28T11:45:20.674562Z"
    }
   },
   "cell_type": "code",
   "source": "test_df.isna().sum()",
   "id": "fb20ebfedcf0410b",
   "outputs": [
    {
     "data": {
      "text/plain": [
       "PassengerId      0\n",
       "Pclass           0\n",
       "Name             0\n",
       "Sex              0\n",
       "Age              0\n",
       "SibSp            0\n",
       "Parch            0\n",
       "Ticket           0\n",
       "Fare             1\n",
       "Cabin          327\n",
       "Embarked         0\n",
       "AgeGroup        83\n",
       "Title            0\n",
       "FamilySize       0\n",
       "IsAlone          0\n",
       "Deck             0\n",
       "dtype: int64"
      ]
     },
     "execution_count": 486,
     "metadata": {},
     "output_type": "execute_result"
    }
   ],
   "execution_count": 486
  },
  {
   "metadata": {},
   "cell_type": "markdown",
   "source": "# Data Preprocessing",
   "id": "3f0a5fd8d490785a"
  },
  {
   "metadata": {
    "ExecuteTime": {
     "end_time": "2025-06-28T11:45:21.088256Z",
     "start_time": "2025-06-28T11:45:21.067509Z"
    }
   },
   "cell_type": "code",
   "source": [
    "#Identifying Missing Values\n",
    "df1=(train_df.isnull().sum()[train_df.isnull().sum()>0]).to_frame().rename(columns={'0':'No of Missing Values'})\n",
    "df1['% of Missing Values']=round((100*train_df.isnull().sum()[train_df.isnull().sum()>0]/len(train_df)),2)\n",
    "df1.sort_values(by='% of Missing Values', ascending=False, inplace=True)\n",
    "df1"
   ],
   "id": "9a267fcf72c10717",
   "outputs": [
    {
     "data": {
      "text/plain": [
       "            0  % of Missing Values\n",
       "Cabin     687                77.10\n",
       "AgeGroup  177                19.87\n",
       "Embarked    2                 0.22"
      ],
      "text/html": [
       "<div>\n",
       "<style scoped>\n",
       "    .dataframe tbody tr th:only-of-type {\n",
       "        vertical-align: middle;\n",
       "    }\n",
       "\n",
       "    .dataframe tbody tr th {\n",
       "        vertical-align: top;\n",
       "    }\n",
       "\n",
       "    .dataframe thead th {\n",
       "        text-align: right;\n",
       "    }\n",
       "</style>\n",
       "<table border=\"1\" class=\"dataframe\">\n",
       "  <thead>\n",
       "    <tr style=\"text-align: right;\">\n",
       "      <th></th>\n",
       "      <th>0</th>\n",
       "      <th>% of Missing Values</th>\n",
       "    </tr>\n",
       "  </thead>\n",
       "  <tbody>\n",
       "    <tr>\n",
       "      <th>Cabin</th>\n",
       "      <td>687</td>\n",
       "      <td>77.10</td>\n",
       "    </tr>\n",
       "    <tr>\n",
       "      <th>AgeGroup</th>\n",
       "      <td>177</td>\n",
       "      <td>19.87</td>\n",
       "    </tr>\n",
       "    <tr>\n",
       "      <th>Embarked</th>\n",
       "      <td>2</td>\n",
       "      <td>0.22</td>\n",
       "    </tr>\n",
       "  </tbody>\n",
       "</table>\n",
       "</div>"
      ]
     },
     "execution_count": 487,
     "metadata": {},
     "output_type": "execute_result"
    }
   ],
   "execution_count": 487
  },
  {
   "metadata": {
    "ExecuteTime": {
     "end_time": "2025-06-28T11:45:21.432755Z",
     "start_time": "2025-06-28T11:45:21.425273Z"
    }
   },
   "cell_type": "code",
   "source": [
    "#Copying passenger id of test csv as we need it in future\n",
    "pass_df=test_df[[\"PassengerId\"]]"
   ],
   "id": "2339ace639f6dbc2",
   "outputs": [],
   "execution_count": 488
  },
  {
   "metadata": {
    "ExecuteTime": {
     "end_time": "2025-06-28T11:45:21.824044Z",
     "start_time": "2025-06-28T11:45:21.817793Z"
    }
   },
   "cell_type": "code",
   "source": [
    "#Dropping Unncessary cols\n",
    "def drop_columns(df):\n",
    "    cols_to_drop=['PassengerId','Name','Ticket','Cabin']\n",
    "    for col in cols_to_drop:\n",
    "        df.drop(columns=[col],inplace=True)\n"
   ],
   "id": "62fd4d2c2f38c7a3",
   "outputs": [],
   "execution_count": 489
  },
  {
   "metadata": {
    "ExecuteTime": {
     "end_time": "2025-06-28T11:45:21.989838Z",
     "start_time": "2025-06-28T11:45:21.977269Z"
    }
   },
   "cell_type": "code",
   "source": [
    "drop_columns(train_df)\n",
    "drop_columns(test_df)"
   ],
   "id": "8c005ce6ae70df10",
   "outputs": [],
   "execution_count": 490
  },
  {
   "metadata": {
    "ExecuteTime": {
     "end_time": "2025-06-28T11:45:22.108545Z",
     "start_time": "2025-06-28T11:45:22.082395Z"
    }
   },
   "cell_type": "code",
   "source": "train_df.head()",
   "id": "a21f6c72836db5e8",
   "outputs": [
    {
     "data": {
      "text/plain": [
       "   Survived  Pclass     Sex   Age  SibSp  Parch     Fare Embarked AgeGroup  \\\n",
       "0         0       3    male  22.0      1      0   7.2500        S    adult   \n",
       "1         1       1  female  38.0      1      0  71.2833        C    adult   \n",
       "2         1       3  female  26.0      0      0   7.9250        S    adult   \n",
       "3         1       1  female  35.0      1      0  53.1000        S    adult   \n",
       "4         0       3    male  35.0      0      0   8.0500        S    adult   \n",
       "\n",
       "  Title  FamilySize  IsAlone Deck  \n",
       "0    Mr           2        0    M  \n",
       "1   Mrs           2        0  ABC  \n",
       "2  Miss           1        1    M  \n",
       "3   Mrs           2        0  ABC  \n",
       "4    Mr           1        1    M  "
      ],
      "text/html": [
       "<div>\n",
       "<style scoped>\n",
       "    .dataframe tbody tr th:only-of-type {\n",
       "        vertical-align: middle;\n",
       "    }\n",
       "\n",
       "    .dataframe tbody tr th {\n",
       "        vertical-align: top;\n",
       "    }\n",
       "\n",
       "    .dataframe thead th {\n",
       "        text-align: right;\n",
       "    }\n",
       "</style>\n",
       "<table border=\"1\" class=\"dataframe\">\n",
       "  <thead>\n",
       "    <tr style=\"text-align: right;\">\n",
       "      <th></th>\n",
       "      <th>Survived</th>\n",
       "      <th>Pclass</th>\n",
       "      <th>Sex</th>\n",
       "      <th>Age</th>\n",
       "      <th>SibSp</th>\n",
       "      <th>Parch</th>\n",
       "      <th>Fare</th>\n",
       "      <th>Embarked</th>\n",
       "      <th>AgeGroup</th>\n",
       "      <th>Title</th>\n",
       "      <th>FamilySize</th>\n",
       "      <th>IsAlone</th>\n",
       "      <th>Deck</th>\n",
       "    </tr>\n",
       "  </thead>\n",
       "  <tbody>\n",
       "    <tr>\n",
       "      <th>0</th>\n",
       "      <td>0</td>\n",
       "      <td>3</td>\n",
       "      <td>male</td>\n",
       "      <td>22.0</td>\n",
       "      <td>1</td>\n",
       "      <td>0</td>\n",
       "      <td>7.2500</td>\n",
       "      <td>S</td>\n",
       "      <td>adult</td>\n",
       "      <td>Mr</td>\n",
       "      <td>2</td>\n",
       "      <td>0</td>\n",
       "      <td>M</td>\n",
       "    </tr>\n",
       "    <tr>\n",
       "      <th>1</th>\n",
       "      <td>1</td>\n",
       "      <td>1</td>\n",
       "      <td>female</td>\n",
       "      <td>38.0</td>\n",
       "      <td>1</td>\n",
       "      <td>0</td>\n",
       "      <td>71.2833</td>\n",
       "      <td>C</td>\n",
       "      <td>adult</td>\n",
       "      <td>Mrs</td>\n",
       "      <td>2</td>\n",
       "      <td>0</td>\n",
       "      <td>ABC</td>\n",
       "    </tr>\n",
       "    <tr>\n",
       "      <th>2</th>\n",
       "      <td>1</td>\n",
       "      <td>3</td>\n",
       "      <td>female</td>\n",
       "      <td>26.0</td>\n",
       "      <td>0</td>\n",
       "      <td>0</td>\n",
       "      <td>7.9250</td>\n",
       "      <td>S</td>\n",
       "      <td>adult</td>\n",
       "      <td>Miss</td>\n",
       "      <td>1</td>\n",
       "      <td>1</td>\n",
       "      <td>M</td>\n",
       "    </tr>\n",
       "    <tr>\n",
       "      <th>3</th>\n",
       "      <td>1</td>\n",
       "      <td>1</td>\n",
       "      <td>female</td>\n",
       "      <td>35.0</td>\n",
       "      <td>1</td>\n",
       "      <td>0</td>\n",
       "      <td>53.1000</td>\n",
       "      <td>S</td>\n",
       "      <td>adult</td>\n",
       "      <td>Mrs</td>\n",
       "      <td>2</td>\n",
       "      <td>0</td>\n",
       "      <td>ABC</td>\n",
       "    </tr>\n",
       "    <tr>\n",
       "      <th>4</th>\n",
       "      <td>0</td>\n",
       "      <td>3</td>\n",
       "      <td>male</td>\n",
       "      <td>35.0</td>\n",
       "      <td>0</td>\n",
       "      <td>0</td>\n",
       "      <td>8.0500</td>\n",
       "      <td>S</td>\n",
       "      <td>adult</td>\n",
       "      <td>Mr</td>\n",
       "      <td>1</td>\n",
       "      <td>1</td>\n",
       "      <td>M</td>\n",
       "    </tr>\n",
       "  </tbody>\n",
       "</table>\n",
       "</div>"
      ]
     },
     "execution_count": 491,
     "metadata": {},
     "output_type": "execute_result"
    }
   ],
   "execution_count": 491
  },
  {
   "metadata": {
    "ExecuteTime": {
     "end_time": "2025-06-28T11:45:22.392783Z",
     "start_time": "2025-06-28T11:45:22.369030Z"
    }
   },
   "cell_type": "code",
   "source": "train_df.info()",
   "id": "992cbc01742c0322",
   "outputs": [
    {
     "name": "stdout",
     "output_type": "stream",
     "text": [
      "<class 'pandas.core.frame.DataFrame'>\n",
      "RangeIndex: 891 entries, 0 to 890\n",
      "Data columns (total 13 columns):\n",
      " #   Column      Non-Null Count  Dtype   \n",
      "---  ------      --------------  -----   \n",
      " 0   Survived    891 non-null    int64   \n",
      " 1   Pclass      891 non-null    int64   \n",
      " 2   Sex         891 non-null    object  \n",
      " 3   Age         891 non-null    float64 \n",
      " 4   SibSp       891 non-null    int64   \n",
      " 5   Parch       891 non-null    int64   \n",
      " 6   Fare        891 non-null    float64 \n",
      " 7   Embarked    889 non-null    object  \n",
      " 8   AgeGroup    714 non-null    category\n",
      " 9   Title       891 non-null    object  \n",
      " 10  FamilySize  891 non-null    int64   \n",
      " 11  IsAlone     891 non-null    int64   \n",
      " 12  Deck        891 non-null    object  \n",
      "dtypes: category(1), float64(2), int64(6), object(4)\n",
      "memory usage: 84.7+ KB\n"
     ]
    }
   ],
   "execution_count": 492
  },
  {
   "metadata": {
    "ExecuteTime": {
     "end_time": "2025-06-28T11:45:22.661090Z",
     "start_time": "2025-06-28T11:45:22.647997Z"
    }
   },
   "cell_type": "code",
   "source": "test_df.info()",
   "id": "6b2cc0c6e6997cc8",
   "outputs": [
    {
     "name": "stdout",
     "output_type": "stream",
     "text": [
      "<class 'pandas.core.frame.DataFrame'>\n",
      "RangeIndex: 418 entries, 0 to 417\n",
      "Data columns (total 12 columns):\n",
      " #   Column      Non-Null Count  Dtype   \n",
      "---  ------      --------------  -----   \n",
      " 0   Pclass      418 non-null    int64   \n",
      " 1   Sex         418 non-null    object  \n",
      " 2   Age         418 non-null    float64 \n",
      " 3   SibSp       418 non-null    int64   \n",
      " 4   Parch       418 non-null    int64   \n",
      " 5   Fare        417 non-null    float64 \n",
      " 6   Embarked    418 non-null    object  \n",
      " 7   AgeGroup    335 non-null    category\n",
      " 8   Title       418 non-null    object  \n",
      " 9   FamilySize  418 non-null    int64   \n",
      " 10  IsAlone     418 non-null    int64   \n",
      " 11  Deck        418 non-null    object  \n",
      "dtypes: category(1), float64(2), int64(5), object(4)\n",
      "memory usage: 36.7+ KB\n"
     ]
    }
   ],
   "execution_count": 493
  },
  {
   "metadata": {
    "ExecuteTime": {
     "end_time": "2025-06-28T11:45:22.829181Z",
     "start_time": "2025-06-28T11:45:22.820371Z"
    }
   },
   "cell_type": "code",
   "source": [
    "#Imputing Missing Values\n",
    "cat_cols=train_df.select_dtypes(include=['object','category']).columns.tolist()\n",
    "num_cols=train_df.select_dtypes(include=['int64','float64']).columns.tolist()"
   ],
   "id": "4cf662ce535f4c71",
   "outputs": [],
   "execution_count": 494
  },
  {
   "metadata": {
    "ExecuteTime": {
     "end_time": "2025-06-28T11:45:22.914257Z",
     "start_time": "2025-06-28T11:45:22.905183Z"
    }
   },
   "cell_type": "code",
   "source": "print(cat_cols)",
   "id": "260acf6055a75ba5",
   "outputs": [
    {
     "name": "stdout",
     "output_type": "stream",
     "text": [
      "['Sex', 'Embarked', 'AgeGroup', 'Title', 'Deck']\n"
     ]
    }
   ],
   "execution_count": 495
  },
  {
   "metadata": {
    "ExecuteTime": {
     "end_time": "2025-06-28T11:45:23.037641Z",
     "start_time": "2025-06-28T11:45:23.033373Z"
    }
   },
   "cell_type": "code",
   "source": "print(num_cols)",
   "id": "87da81694535573",
   "outputs": [
    {
     "name": "stdout",
     "output_type": "stream",
     "text": [
      "['Survived', 'Pclass', 'Age', 'SibSp', 'Parch', 'Fare', 'FamilySize', 'IsAlone']\n"
     ]
    }
   ],
   "execution_count": 496
  },
  {
   "metadata": {
    "ExecuteTime": {
     "end_time": "2025-06-28T11:45:23.162550Z",
     "start_time": "2025-06-28T11:45:23.154009Z"
    }
   },
   "cell_type": "code",
   "source": "num_cols.remove('Survived')",
   "id": "9a76b20d40ee87e4",
   "outputs": [],
   "execution_count": 497
  },
  {
   "metadata": {},
   "cell_type": "markdown",
   "source": "### Imputing Missing Values",
   "id": "6aa0cb252d818c7a"
  },
  {
   "metadata": {
    "ExecuteTime": {
     "end_time": "2025-06-28T11:45:23.234230Z",
     "start_time": "2025-06-28T11:45:23.227897Z"
    }
   },
   "cell_type": "code",
   "source": [
    "imputer1=SimpleImputer(strategy='most_frequent')\n",
    "imputer2=SimpleImputer(strategy='median')\n",
    "def fill_missing(df):\n",
    "    df[cat_cols] = imputer1.fit_transform(df[cat_cols])\n",
    "    df[num_cols] = imputer2.fit_transform(df[num_cols])\n"
   ],
   "id": "2de9c41ab46ae438",
   "outputs": [],
   "execution_count": 498
  },
  {
   "metadata": {
    "ExecuteTime": {
     "end_time": "2025-06-28T11:45:23.345915Z",
     "start_time": "2025-06-28T11:45:23.298478Z"
    }
   },
   "cell_type": "code",
   "source": [
    "fill_missing(train_df)\n",
    "fill_missing(test_df)"
   ],
   "id": "8996ff56555c9b03",
   "outputs": [],
   "execution_count": 499
  },
  {
   "metadata": {
    "ExecuteTime": {
     "end_time": "2025-06-28T11:45:23.412562Z",
     "start_time": "2025-06-28T11:45:23.400432Z"
    }
   },
   "cell_type": "code",
   "source": "train_df.isnull().sum()[train_df.isnull().sum().sum()]",
   "id": "c976a1279de1cfc5",
   "outputs": [
    {
     "data": {
      "text/plain": [
       "0"
      ]
     },
     "execution_count": 500,
     "metadata": {},
     "output_type": "execute_result"
    }
   ],
   "execution_count": 500
  },
  {
   "metadata": {
    "ExecuteTime": {
     "end_time": "2025-06-28T11:45:23.493133Z",
     "start_time": "2025-06-28T11:45:23.482084Z"
    }
   },
   "cell_type": "code",
   "source": "test_df.isnull().sum()[test_df.isnull().sum().sum()]",
   "id": "881f9e9d48624f90",
   "outputs": [
    {
     "data": {
      "text/plain": [
       "0"
      ]
     },
     "execution_count": 501,
     "metadata": {},
     "output_type": "execute_result"
    }
   ],
   "execution_count": 501
  },
  {
   "metadata": {},
   "cell_type": "markdown",
   "source": "### Checking high Cardinality Values",
   "id": "887db4ab7620d4c7"
  },
  {
   "metadata": {
    "ExecuteTime": {
     "end_time": "2025-06-28T11:45:23.604451Z",
     "start_time": "2025-06-28T11:45:23.586791Z"
    }
   },
   "cell_type": "code",
   "source": [
    "print(\"Cardinality of features in numerical data is: \")\n",
    "print(train_df.select_dtypes(include=[\"object\"]).nunique())\n",
    "print(\"\\n\",\"-\"*50)\n",
    "print(\"\\nCardinality of features in categorical data is: \")\n",
    "print(test_df.select_dtypes(include=[\"object\"]).nunique())"
   ],
   "id": "3d1ef2aa28b9eaf3",
   "outputs": [
    {
     "name": "stdout",
     "output_type": "stream",
     "text": [
      "Cardinality of features in numerical data is: \n",
      "Sex         2\n",
      "Embarked    3\n",
      "AgeGroup    4\n",
      "Title       6\n",
      "Deck        5\n",
      "dtype: int64\n",
      "\n",
      " --------------------------------------------------\n",
      "\n",
      "Cardinality of features in categorical data is: \n",
      "Sex         2\n",
      "Embarked    3\n",
      "AgeGroup    4\n",
      "Title       6\n",
      "Deck        4\n",
      "dtype: int64\n"
     ]
    }
   ],
   "execution_count": 502
  },
  {
   "metadata": {
    "ExecuteTime": {
     "end_time": "2025-06-28T11:45:23.734788Z",
     "start_time": "2025-06-28T11:45:23.718076Z"
    }
   },
   "cell_type": "code",
   "source": "train_df.info()",
   "id": "ccaca5d3d794d420",
   "outputs": [
    {
     "name": "stdout",
     "output_type": "stream",
     "text": [
      "<class 'pandas.core.frame.DataFrame'>\n",
      "RangeIndex: 891 entries, 0 to 890\n",
      "Data columns (total 13 columns):\n",
      " #   Column      Non-Null Count  Dtype  \n",
      "---  ------      --------------  -----  \n",
      " 0   Survived    891 non-null    int64  \n",
      " 1   Pclass      891 non-null    float64\n",
      " 2   Sex         891 non-null    object \n",
      " 3   Age         891 non-null    float64\n",
      " 4   SibSp       891 non-null    float64\n",
      " 5   Parch       891 non-null    float64\n",
      " 6   Fare        891 non-null    float64\n",
      " 7   Embarked    891 non-null    object \n",
      " 8   AgeGroup    891 non-null    object \n",
      " 9   Title       891 non-null    object \n",
      " 10  FamilySize  891 non-null    float64\n",
      " 11  IsAlone     891 non-null    float64\n",
      " 12  Deck        891 non-null    object \n",
      "dtypes: float64(7), int64(1), object(5)\n",
      "memory usage: 90.6+ KB\n"
     ]
    }
   ],
   "execution_count": 503
  },
  {
   "metadata": {},
   "cell_type": "markdown",
   "source": "### Encoding of variables to be used in Machine Learning Modelling",
   "id": "a5fa411505b69923"
  },
  {
   "metadata": {
    "ExecuteTime": {
     "end_time": "2025-06-28T11:45:23.848951Z",
     "start_time": "2025-06-28T11:45:23.841973Z"
    }
   },
   "cell_type": "code",
   "source": [
    "#Changing of Variables to correct datatype\n",
    "def change_variable(df):\n",
    "    df['IsAlone']=df['IsAlone'].astype('bool')\n",
    "    df['FamilySize']=df['FamilySize'].astype('int')\n",
    "    df['Parch']=df['Parch'].astype('int')\n",
    "    df['SibSp']=df['SibSp'].astype('int')\n",
    "    df['Pclass']=df['Pclass'].astype('int')\n"
   ],
   "id": "7b1a68d4c9cbcd01",
   "outputs": [],
   "execution_count": 504
  },
  {
   "metadata": {
    "ExecuteTime": {
     "end_time": "2025-06-28T11:45:23.939945Z",
     "start_time": "2025-06-28T11:45:23.929820Z"
    }
   },
   "cell_type": "code",
   "source": [
    "change_variable(train_df)\n",
    "change_variable(test_df)"
   ],
   "id": "737f1a0ab3ebf77b",
   "outputs": [],
   "execution_count": 505
  },
  {
   "metadata": {
    "ExecuteTime": {
     "end_time": "2025-06-28T11:45:24.025041Z",
     "start_time": "2025-06-28T11:45:24.018838Z"
    }
   },
   "cell_type": "code",
   "source": [
    "ordinal_cat_cols=['Deck']\n",
    "nominal_cat_cols=['Sex','Embarked','AgeGroup','Title','IsAlone']"
   ],
   "id": "9ef5c8223d66a317",
   "outputs": [],
   "execution_count": 506
  },
  {
   "metadata": {
    "ExecuteTime": {
     "end_time": "2025-06-28T11:45:24.121125Z",
     "start_time": "2025-06-28T11:45:24.109768Z"
    }
   },
   "cell_type": "code",
   "source": [
    "#Encoding Ordinal Columns\n",
    "enc=LabelEncoder()\n",
    "train_df[ordinal_cat_cols]=train_df[ordinal_cat_cols].apply(enc.fit_transform)\n",
    "test_df[ordinal_cat_cols]=test_df[ordinal_cat_cols].apply(enc.fit_transform)\n"
   ],
   "id": "31a02a7cf2cd5b36",
   "outputs": [],
   "execution_count": 507
  },
  {
   "metadata": {
    "ExecuteTime": {
     "end_time": "2025-06-28T11:45:24.249212Z",
     "start_time": "2025-06-28T11:45:24.226571Z"
    }
   },
   "cell_type": "code",
   "source": [
    "#Encoding Nominal Cols\n",
    "train_df=pd.get_dummies(train_df,columns=nominal_cat_cols,dtype=int)\n",
    "test_df=pd.get_dummies(test_df,columns=nominal_cat_cols,dtype=int)"
   ],
   "id": "eb0ee7b2b8d1ab30",
   "outputs": [],
   "execution_count": 508
  },
  {
   "metadata": {},
   "cell_type": "markdown",
   "source": "### Now our training and test datasets are fit to be modelled by our machine learning algorithms",
   "id": "7b8b5d2bc11a3092"
  },
  {
   "metadata": {
    "ExecuteTime": {
     "end_time": "2025-06-28T11:45:24.329035Z",
     "start_time": "2025-06-28T11:45:24.320796Z"
    }
   },
   "cell_type": "code",
   "source": [
    "#Splitting Training and Test Dataset\n",
    "X=train_df.drop(columns=[\"Survived\"],axis=1)\n",
    "y=train_df[\"Survived\"]"
   ],
   "id": "8f4678523fb5da75",
   "outputs": [],
   "execution_count": 509
  },
  {
   "metadata": {
    "ExecuteTime": {
     "end_time": "2025-06-28T11:45:24.418803Z",
     "start_time": "2025-06-28T11:45:24.401769Z"
    }
   },
   "cell_type": "code",
   "source": [
    "#Feature Scaling for Non Tree Algorithms\n",
    "scaler=StandardScaler()\n",
    "X_scaled=scaler.fit_transform(X)\n",
    "test_df_scaled=scaler.fit_transform(test_df)\n"
   ],
   "id": "5db1a49e89c44d19",
   "outputs": [],
   "execution_count": 510
  },
  {
   "metadata": {
    "ExecuteTime": {
     "end_time": "2025-06-28T11:45:24.505567Z",
     "start_time": "2025-06-28T11:45:24.495195Z"
    }
   },
   "cell_type": "code",
   "source": "print(X_scaled)",
   "id": "87f462734f114449",
   "outputs": [
    {
     "name": "stdout",
     "output_type": "stream",
     "text": [
      "[[ 0.82737724 -0.09592825  0.43279337 ... -0.13522468  1.2316449\n",
      "  -1.2316449 ]\n",
      " [-1.56610693  0.80694372  0.43279337 ... -0.13522468  1.2316449\n",
      "  -1.2316449 ]\n",
      " [ 0.82737724  0.12978974 -0.4745452  ... -0.13522468 -0.81192233\n",
      "   0.81192233]\n",
      " ...\n",
      " [ 0.82737724 -1.36559194  0.43279337 ... -0.13522468  1.2316449\n",
      "  -1.2316449 ]\n",
      " [-1.56610693  0.12978974 -0.4745452  ... -0.13522468 -0.81192233\n",
      "   0.81192233]\n",
      " [ 0.82737724  0.46836673 -0.4745452  ... -0.13522468 -0.81192233\n",
      "   0.81192233]]\n"
     ]
    }
   ],
   "execution_count": 511
  },
  {
   "metadata": {
    "ExecuteTime": {
     "end_time": "2025-06-28T11:45:24.619515Z",
     "start_time": "2025-06-28T11:45:24.611746Z"
    }
   },
   "cell_type": "code",
   "source": [
    "#Splitting Data for algorithms which require scaling\n",
    "x_train,x_test,y_train,y_test=train_test_split(X_scaled,y,test_size=0.2,random_state=42)"
   ],
   "id": "e5d3853b8d3733bb",
   "outputs": [],
   "execution_count": 512
  },
  {
   "metadata": {
    "ExecuteTime": {
     "end_time": "2025-06-28T11:45:24.716327Z",
     "start_time": "2025-06-28T11:45:24.704693Z"
    }
   },
   "cell_type": "code",
   "source": "print(x_train.shape,x_test.shape,y_train.shape,y_test.shape)",
   "id": "d0b7c95eb23846ba",
   "outputs": [
    {
     "name": "stdout",
     "output_type": "stream",
     "text": [
      "(712, 24) (179, 24) (712,) (179,)\n"
     ]
    }
   ],
   "execution_count": 513
  },
  {
   "metadata": {
    "ExecuteTime": {
     "end_time": "2025-06-28T11:45:24.818815Z",
     "start_time": "2025-06-28T11:45:24.808448Z"
    }
   },
   "cell_type": "code",
   "source": "x_train1,x_test1,y_train1,y_test1=train_test_split(X,y,test_size=0.2,random_state=42)",
   "id": "368cff6955ed15e5",
   "outputs": [],
   "execution_count": 514
  },
  {
   "metadata": {
    "ExecuteTime": {
     "end_time": "2025-06-28T11:45:24.849617Z",
     "start_time": "2025-06-28T11:45:24.844338Z"
    }
   },
   "cell_type": "code",
   "source": "print(x_train1.shape,x_test1.shape,y_train1.shape,y_test1.shape)",
   "id": "2e66b5c65f2f8fcb",
   "outputs": [
    {
     "name": "stdout",
     "output_type": "stream",
     "text": [
      "(712, 24) (179, 24) (712,) (179,)\n"
     ]
    }
   ],
   "execution_count": 515
  },
  {
   "metadata": {},
   "cell_type": "markdown",
   "source": [
    "### Building the Models for alogrithms which require scaled data\n",
    "* Logistic Regression\n",
    "* K Nearest Neighbours\n",
    "* Support Vector Machines\n",
    "* Naive Bayes"
   ],
   "id": "fb677d1cae6b8641"
  },
  {
   "metadata": {
    "ExecuteTime": {
     "end_time": "2025-06-28T11:45:24.970129Z",
     "start_time": "2025-06-28T11:45:24.959549Z"
    }
   },
   "cell_type": "code",
   "source": [
    "train_score=[]\n",
    "test_score=[]\n",
    "def model_prediction_scaled(model):\n",
    "    model.fit(x_train,y_train)\n",
    "    x_train_pred=model.predict(x_train)\n",
    "    x_test_pred=model.predict(x_test)\n",
    "    train_accuracy=accuracy_score(y_train,x_train_pred)\n",
    "    test_accuracy=accuracy_score(y_test,x_test_pred)\n",
    "    train_score.append(train_accuracy)\n",
    "    test_score.append(test_accuracy)\n",
    "    print(f\"Accuracy score of {model} training is \",train_accuracy)\n",
    "    print(f\"Accuracy score of {model} testing is \",test_accuracy)\n",
    "    print(\"\\n\",\"-\"*50)\n",
    "    print(f\"Precision score of {model} test data is \",precision_score(y_test,x_test_pred))\n",
    "    print(f\"Recall score of {model} test data is \",recall_score(y_test,x_test_pred))\n",
    "    print(f\"f1 score of {model} test data is \",f1_score(y_test,x_test_pred))\n",
    "    print(f\"Confusion Matrix of {model} is\")\n",
    "    cm=confusion_matrix(y_test,x_test_pred)\n",
    "    plt.figure(figsize=(12,10))\n",
    "    sns.heatmap(cm,annot=True,fmt='g',cmap='summer')\n",
    "    plt.show()\n",
    "\n",
    "\n",
    "\n",
    "\n"
   ],
   "id": "de43c878240cc0ab",
   "outputs": [],
   "execution_count": 516
  },
  {
   "metadata": {
    "ExecuteTime": {
     "end_time": "2025-06-28T11:45:25.354364Z",
     "start_time": "2025-06-28T11:45:25.055358Z"
    }
   },
   "cell_type": "code",
   "source": [
    "logreg=LogisticRegression()\n",
    "model_prediction_scaled(logreg)"
   ],
   "id": "b7b7ee82abdfefbc",
   "outputs": [
    {
     "name": "stdout",
     "output_type": "stream",
     "text": [
      "Accuracy score of LogisticRegression() training is  0.8356741573033708\n",
      "Accuracy score of LogisticRegression() testing is  0.8212290502793296\n",
      "\n",
      " --------------------------------------------------\n",
      "Precision score of LogisticRegression() test data is  0.7837837837837838\n",
      "Recall score of LogisticRegression() test data is  0.7837837837837838\n",
      "f1 score of LogisticRegression() test data is  0.7837837837837838\n",
      "Confusion Matrix of LogisticRegression() is\n"
     ]
    },
    {
     "data": {
      "text/plain": [
       "<Figure size 1200x1000 with 2 Axes>"
      ],
      "image/png": "[encoded data removed]"
     },
     "metadata": {},
     "output_type": "display_data"
    }
   ],
   "execution_count": 517
  },
  {
   "metadata": {},
   "cell_type": "markdown",
   "source": "#### No Overfitting or underfitting for logistic regression",
   "id": "e3eb20c867bc8a8d"
  },
  {
   "metadata": {
    "ExecuteTime": {
     "end_time": "2025-06-28T11:45:25.677555Z",
     "start_time": "2025-06-28T11:45:25.415742Z"
    }
   },
   "cell_type": "code",
   "source": [
    "knn=KNeighborsClassifier()\n",
    "model_prediction_scaled(knn)"
   ],
   "id": "436f290e10894234",
   "outputs": [
    {
     "name": "stdout",
     "output_type": "stream",
     "text": [
      "Accuracy score of KNeighborsClassifier() training is  0.8693820224719101\n",
      "Accuracy score of KNeighborsClassifier() testing is  0.7988826815642458\n",
      "\n",
      " --------------------------------------------------\n",
      "Precision score of KNeighborsClassifier() test data is  0.7794117647058824\n",
      "Recall score of KNeighborsClassifier() test data is  0.7162162162162162\n",
      "f1 score of KNeighborsClassifier() test data is  0.7464788732394366\n",
      "Confusion Matrix of KNeighborsClassifier() is\n"
     ]
    },
    {
     "data": {
      "text/plain": [
       "<Figure size 1200x1000 with 2 Axes>"
      ],
      "image/png": "[encoded data removed]"
     },
     "metadata": {},
     "output_type": "display_data"
    }
   ],
   "execution_count": 518
  },
  {
   "metadata": {},
   "cell_type": "markdown",
   "source": "#### Training score increased but simultaneously testing score decreased.",
   "id": "8917b1189f0e5f36"
  },
  {
   "metadata": {
    "ExecuteTime": {
     "end_time": "2025-06-28T11:45:26.070454Z",
     "start_time": "2025-06-28T11:45:25.731264Z"
    }
   },
   "cell_type": "code",
   "source": [
    "svc=SVC()\n",
    "model_prediction_scaled(svc)"
   ],
   "id": "a0857096fb45038f",
   "outputs": [
    {
     "name": "stdout",
     "output_type": "stream",
     "text": [
      "Accuracy score of SVC() training is  0.8497191011235955\n",
      "Accuracy score of SVC() testing is  0.7988826815642458\n",
      "\n",
      " --------------------------------------------------\n",
      "Precision score of SVC() test data is  0.7878787878787878\n",
      "Recall score of SVC() test data is  0.7027027027027027\n",
      "f1 score of SVC() test data is  0.7428571428571429\n",
      "Confusion Matrix of SVC() is\n"
     ]
    },
    {
     "data": {
      "text/plain": [
       "<Figure size 1200x1000 with 2 Axes>"
      ],
      "image/png": "[encoded data removed]"
     },
     "metadata": {},
     "output_type": "display_data"
    }
   ],
   "execution_count": 519
  },
  {
   "metadata": {
    "ExecuteTime": {
     "end_time": "2025-06-28T11:45:26.432771Z",
     "start_time": "2025-06-28T11:45:26.152892Z"
    }
   },
   "cell_type": "code",
   "source": [
    "gaussian_nb=GaussianNB()\n",
    "model_prediction_scaled(gaussian_nb)"
   ],
   "id": "7a96f0fd42480d7f",
   "outputs": [
    {
     "name": "stdout",
     "output_type": "stream",
     "text": [
      "Accuracy score of GaussianNB() training is  0.8117977528089888\n",
      "Accuracy score of GaussianNB() testing is  0.7821229050279329\n",
      "\n",
      " --------------------------------------------------\n",
      "Precision score of GaussianNB() test data is  0.7215189873417721\n",
      "Recall score of GaussianNB() test data is  0.7702702702702703\n",
      "f1 score of GaussianNB() test data is  0.7450980392156863\n",
      "Confusion Matrix of GaussianNB() is\n"
     ]
    },
    {
     "data": {
      "text/plain": [
       "<Figure size 1200x1000 with 2 Axes>"
      ],
      "image/png": "[encoded data removed]"
     },
     "metadata": {},
     "output_type": "display_data"
    }
   ],
   "execution_count": 520
  },
  {
   "metadata": {},
   "cell_type": "markdown",
   "source": "#### This performed well on training and testing data",
   "id": "4c59df48bc427856"
  },
  {
   "metadata": {},
   "cell_type": "code",
   "outputs": [],
   "execution_count": null,
   "source": [
    "train_score1=[]\n",
    "test_score1=[]\n",
    "def model_prediction(model):\n",
    "    model.fit(x_train1,y_train1)\n",
    "    x_train_pred=model.predict(x_train1)\n",
    "    x_test_pred=model.predict(x_test1)\n",
    "    train_accuracy=accuracy_score(y_train1,x_train_pred)\n",
    "    test_accuracy=accuracy_score(y_test1,x_test_pred)\n",
    "    train_score1.append(train_accuracy)\n",
    "    test_score1.append(test_accuracy)\n",
    "    print(f\"Accuracy score of {model} training is \",train_accuracy)\n",
    "    print(f\"Accuracy score of {model} testing is \",test_accuracy)\n",
    "    print(\"\\n\",\"-\"*50)\n",
    "    print(f\"Precision score of {model} test data is \",precision_score(y_test,x_test_pred))\n",
    "    print(f\"Recall score of {model} test data is \",recall_score(y_test,x_test_pred))\n",
    "    print(f\"f1 score of {model} test data is \",f1_score(y_test,x_test_pred))\n",
    "    print(f\"Confusion Matrix of {model} is\")\n",
    "    cm=confusion_matrix(y_test,x_test_pred)\n",
    "    plt.figure(figsize=(12,10))\n",
    "    sns.heatmap(cm,annot=True,fmt='g',cmap='summer')\n",
    "    plt.show()"
   ],
   "id": "40163ce87af85dde"
  }
 ],
 "metadata": {
  "kernelspec": {
   "display_name": "Python 3",
   "language": "python",
   "name": "python3"
  },
  "language_info": {
   "codemirror_mode": {
    "name": "ipython",
    "version": 2
   },
   "file_extension": ".py",
   "mimetype": "text/x-python",
   "name": "python",
   "nbconvert_exporter": "python",
   "pygments_lexer": "ipython2",
   "version": "2.7.6"
  }
 },
 "nbformat": 4,
 "nbformat_minor": 5
}
