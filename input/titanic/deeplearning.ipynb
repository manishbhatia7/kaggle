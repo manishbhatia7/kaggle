{
 "cells": [
  {
   "metadata": {},
   "cell_type": "markdown",
   "source": "# Importing Libraries",
   "id": "cdd151d4705ff90f"
  },
  {
   "cell_type": "code",
   "id": "initial_id",
   "metadata": {
    "collapsed": true,
    "ExecuteTime": {
     "end_time": "2025-07-11T10:50:04.994323Z",
     "start_time": "2025-07-11T10:50:04.984126Z"
    }
   },
   "source": [
    "import pandas as pd\n",
    "import numpy as np\n",
    "import seaborn as sns\n",
    "import matplotlib.pyplot as plt\n",
    "import warnings\n",
    "\n",
    "from sklearn.metrics import accuracy_score, confusion_matrix\n",
    "\n",
    "warnings.filterwarnings('ignore')\n",
    "from sklearn.model_selection import train_test_split, GridSearchCV\n",
    "from sklearn.preprocessing import StandardScaler\n",
    "from sklearn.impute import SimpleImputer\n",
    "from sklearn.ensemble import RandomForestClassifier, StackingClassifier\n",
    "from sklearn.tree import DecisionTreeClassifier\n",
    "pd.set_option(\"display.max.rows\",None)\n",
    "pd.set_option(\"display.max.columns\",None)\n",
    "from sklearn.preprocessing import LabelEncoder\n",
    "from sklearn.preprocessing import OneHotEncoder\n"
   ],
   "outputs": [],
   "execution_count": 714
  },
  {
   "metadata": {
    "ExecuteTime": {
     "end_time": "2025-07-11T10:50:05.079532Z",
     "start_time": "2025-07-11T10:50:05.057644Z"
    }
   },
   "cell_type": "code",
   "source": [
    "train_df=pd.read_csv('/kaggle/input/titanic/train.csv')\n",
    "test_df=pd.read_csv('/kaggle/input/titanic/test.csv')"
   ],
   "id": "561d1aabdf7639ed",
   "outputs": [],
   "execution_count": 715
  },
  {
   "metadata": {
    "ExecuteTime": {
     "end_time": "2025-07-11T10:50:05.118283Z",
     "start_time": "2025-07-11T10:50:05.101475Z"
    }
   },
   "cell_type": "code",
   "source": "train_df.head(1)",
   "id": "f014738989f0226f",
   "outputs": [
    {
     "data": {
      "text/plain": [
       "   PassengerId  Survived  Pclass                     Name   Sex   Age  SibSp  \\\n",
       "0            1         0       3  Braund, Mr. Owen Harris  male  22.0      1   \n",
       "\n",
       "   Parch     Ticket  Fare Cabin Embarked  \n",
       "0      0  A/5 21171  7.25   NaN        S  "
      ],
      "text/html": [
       "<div>\n",
       "<style scoped>\n",
       "    .dataframe tbody tr th:only-of-type {\n",
       "        vertical-align: middle;\n",
       "    }\n",
       "\n",
       "    .dataframe tbody tr th {\n",
       "        vertical-align: top;\n",
       "    }\n",
       "\n",
       "    .dataframe thead th {\n",
       "        text-align: right;\n",
       "    }\n",
       "</style>\n",
       "<table border=\"1\" class=\"dataframe\">\n",
       "  <thead>\n",
       "    <tr style=\"text-align: right;\">\n",
       "      <th></th>\n",
       "      <th>PassengerId</th>\n",
       "      <th>Survived</th>\n",
       "      <th>Pclass</th>\n",
       "      <th>Name</th>\n",
       "      <th>Sex</th>\n",
       "      <th>Age</th>\n",
       "      <th>SibSp</th>\n",
       "      <th>Parch</th>\n",
       "      <th>Ticket</th>\n",
       "      <th>Fare</th>\n",
       "      <th>Cabin</th>\n",
       "      <th>Embarked</th>\n",
       "    </tr>\n",
       "  </thead>\n",
       "  <tbody>\n",
       "    <tr>\n",
       "      <th>0</th>\n",
       "      <td>1</td>\n",
       "      <td>0</td>\n",
       "      <td>3</td>\n",
       "      <td>Braund, Mr. Owen Harris</td>\n",
       "      <td>male</td>\n",
       "      <td>22.0</td>\n",
       "      <td>1</td>\n",
       "      <td>0</td>\n",
       "      <td>A/5 21171</td>\n",
       "      <td>7.25</td>\n",
       "      <td>NaN</td>\n",
       "      <td>S</td>\n",
       "    </tr>\n",
       "  </tbody>\n",
       "</table>\n",
       "</div>"
      ]
     },
     "execution_count": 716,
     "metadata": {},
     "output_type": "execute_result"
    }
   ],
   "execution_count": 716
  },
  {
   "metadata": {
    "ExecuteTime": {
     "end_time": "2025-07-11T10:50:05.305662Z",
     "start_time": "2025-07-11T10:50:05.252571Z"
    }
   },
   "cell_type": "code",
   "source": "test_df.head(1)",
   "id": "96b421d281e747ff",
   "outputs": [
    {
     "data": {
      "text/plain": [
       "   PassengerId  Pclass              Name   Sex   Age  SibSp  Parch  Ticket  \\\n",
       "0          892       3  Kelly, Mr. James  male  34.5      0      0  330911   \n",
       "\n",
       "     Fare Cabin Embarked  \n",
       "0  7.8292   NaN        Q  "
      ],
      "text/html": [
       "<div>\n",
       "<style scoped>\n",
       "    .dataframe tbody tr th:only-of-type {\n",
       "        vertical-align: middle;\n",
       "    }\n",
       "\n",
       "    .dataframe tbody tr th {\n",
       "        vertical-align: top;\n",
       "    }\n",
       "\n",
       "    .dataframe thead th {\n",
       "        text-align: right;\n",
       "    }\n",
       "</style>\n",
       "<table border=\"1\" class=\"dataframe\">\n",
       "  <thead>\n",
       "    <tr style=\"text-align: right;\">\n",
       "      <th></th>\n",
       "      <th>PassengerId</th>\n",
       "      <th>Pclass</th>\n",
       "      <th>Name</th>\n",
       "      <th>Sex</th>\n",
       "      <th>Age</th>\n",
       "      <th>SibSp</th>\n",
       "      <th>Parch</th>\n",
       "      <th>Ticket</th>\n",
       "      <th>Fare</th>\n",
       "      <th>Cabin</th>\n",
       "      <th>Embarked</th>\n",
       "    </tr>\n",
       "  </thead>\n",
       "  <tbody>\n",
       "    <tr>\n",
       "      <th>0</th>\n",
       "      <td>892</td>\n",
       "      <td>3</td>\n",
       "      <td>Kelly, Mr. James</td>\n",
       "      <td>male</td>\n",
       "      <td>34.5</td>\n",
       "      <td>0</td>\n",
       "      <td>0</td>\n",
       "      <td>330911</td>\n",
       "      <td>7.8292</td>\n",
       "      <td>NaN</td>\n",
       "      <td>Q</td>\n",
       "    </tr>\n",
       "  </tbody>\n",
       "</table>\n",
       "</div>"
      ]
     },
     "execution_count": 717,
     "metadata": {},
     "output_type": "execute_result"
    }
   ],
   "execution_count": 717
  },
  {
   "metadata": {
    "ExecuteTime": {
     "end_time": "2025-07-11T10:50:05.571815Z",
     "start_time": "2025-07-11T10:50:05.561204Z"
    }
   },
   "cell_type": "code",
   "source": [
    "print(train_df.shape)\n",
    "print(test_df.shape)"
   ],
   "id": "2402dd27489ef340",
   "outputs": [
    {
     "name": "stdout",
     "output_type": "stream",
     "text": [
      "(891, 12)\n",
      "(418, 11)\n"
     ]
    }
   ],
   "execution_count": 718
  },
  {
   "metadata": {
    "ExecuteTime": {
     "end_time": "2025-07-11T10:50:05.948111Z",
     "start_time": "2025-07-11T10:50:05.932241Z"
    }
   },
   "cell_type": "code",
   "source": "train_df.info()",
   "id": "9ce0f9a94d07b93b",
   "outputs": [
    {
     "name": "stdout",
     "output_type": "stream",
     "text": [
      "<class 'pandas.core.frame.DataFrame'>\n",
      "RangeIndex: 891 entries, 0 to 890\n",
      "Data columns (total 12 columns):\n",
      " #   Column       Non-Null Count  Dtype  \n",
      "---  ------       --------------  -----  \n",
      " 0   PassengerId  891 non-null    int64  \n",
      " 1   Survived     891 non-null    int64  \n",
      " 2   Pclass       891 non-null    int64  \n",
      " 3   Name         891 non-null    object \n",
      " 4   Sex          891 non-null    object \n",
      " 5   Age          714 non-null    float64\n",
      " 6   SibSp        891 non-null    int64  \n",
      " 7   Parch        891 non-null    int64  \n",
      " 8   Ticket       891 non-null    object \n",
      " 9   Fare         891 non-null    float64\n",
      " 10  Cabin        204 non-null    object \n",
      " 11  Embarked     889 non-null    object \n",
      "dtypes: float64(2), int64(5), object(5)\n",
      "memory usage: 83.7+ KB\n"
     ]
    }
   ],
   "execution_count": 719
  },
  {
   "metadata": {
    "ExecuteTime": {
     "end_time": "2025-07-11T10:50:06.277307Z",
     "start_time": "2025-07-11T10:50:06.260524Z"
    }
   },
   "cell_type": "code",
   "source": "test_df.info()",
   "id": "d8446b2ca36e0b3f",
   "outputs": [
    {
     "name": "stdout",
     "output_type": "stream",
     "text": [
      "<class 'pandas.core.frame.DataFrame'>\n",
      "RangeIndex: 418 entries, 0 to 417\n",
      "Data columns (total 11 columns):\n",
      " #   Column       Non-Null Count  Dtype  \n",
      "---  ------       --------------  -----  \n",
      " 0   PassengerId  418 non-null    int64  \n",
      " 1   Pclass       418 non-null    int64  \n",
      " 2   Name         418 non-null    object \n",
      " 3   Sex          418 non-null    object \n",
      " 4   Age          332 non-null    float64\n",
      " 5   SibSp        418 non-null    int64  \n",
      " 6   Parch        418 non-null    int64  \n",
      " 7   Ticket       418 non-null    object \n",
      " 8   Fare         417 non-null    float64\n",
      " 9   Cabin        91 non-null     object \n",
      " 10  Embarked     418 non-null    object \n",
      "dtypes: float64(2), int64(4), object(5)\n",
      "memory usage: 36.1+ KB\n"
     ]
    }
   ],
   "execution_count": 720
  },
  {
   "metadata": {
    "ExecuteTime": {
     "end_time": "2025-07-11T10:50:06.429509Z",
     "start_time": "2025-07-11T10:50:06.405671Z"
    }
   },
   "cell_type": "code",
   "source": [
    "#Checking duplicates\n",
    "print(\"Duplicates in Training Data\")\n",
    "print((train_df.duplicated().sum()),round(train_df.duplicated().sum()/len(train_df)*100,2))\n",
    "print(\"Duplicates in Test Data\")\n",
    "print((test_df.duplicated().sum()),round(test_df.duplicated().sum()/len(train_df)*100,2))"
   ],
   "id": "21124bc7ab7c8420",
   "outputs": [
    {
     "name": "stdout",
     "output_type": "stream",
     "text": [
      "Duplicates in Training Data\n",
      "0 0.0\n",
      "Duplicates in Test Data\n",
      "0 0.0\n"
     ]
    }
   ],
   "execution_count": 721
  },
  {
   "metadata": {
    "ExecuteTime": {
     "end_time": "2025-07-11T10:50:06.554909Z",
     "start_time": "2025-07-11T10:50:06.541926Z"
    }
   },
   "cell_type": "code",
   "source": [
    "#Checking Dtypes\n",
    "print(\"Checking Dtypes in Training Data\")\n",
    "print(\"\\n\")\n",
    "print(train_df.dtypes)\n",
    "print(\"\\n\")\n",
    "print(\"-\"*40)\n",
    "print(\"Checking Dtypes in Test Data\")\n",
    "print(test_df.dtypes)"
   ],
   "id": "2c2bb09a1067b14a",
   "outputs": [
    {
     "name": "stdout",
     "output_type": "stream",
     "text": [
      "Checking Dtypes in Training Data\n",
      "\n",
      "\n",
      "PassengerId      int64\n",
      "Survived         int64\n",
      "Pclass           int64\n",
      "Name            object\n",
      "Sex             object\n",
      "Age            float64\n",
      "SibSp            int64\n",
      "Parch            int64\n",
      "Ticket          object\n",
      "Fare           float64\n",
      "Cabin           object\n",
      "Embarked        object\n",
      "dtype: object\n",
      "\n",
      "\n",
      "----------------------------------------\n",
      "Checking Dtypes in Test Data\n",
      "PassengerId      int64\n",
      "Pclass           int64\n",
      "Name            object\n",
      "Sex             object\n",
      "Age            float64\n",
      "SibSp            int64\n",
      "Parch            int64\n",
      "Ticket          object\n",
      "Fare           float64\n",
      "Cabin           object\n",
      "Embarked        object\n",
      "dtype: object\n"
     ]
    }
   ],
   "execution_count": 722
  },
  {
   "metadata": {
    "ExecuteTime": {
     "end_time": "2025-07-11T10:50:06.695488Z",
     "start_time": "2025-07-11T10:50:06.690602Z"
    }
   },
   "cell_type": "code",
   "source": "",
   "id": "ac4ff5f70e562670",
   "outputs": [],
   "execution_count": null
  },
  {
   "metadata": {
    "ExecuteTime": {
     "end_time": "2025-07-11T10:50:06.900567Z",
     "start_time": "2025-07-11T10:50:06.840967Z"
    }
   },
   "cell_type": "code",
   "source": "train_df.describe().T",
   "id": "9585e484877c5a19",
   "outputs": [
    {
     "data": {
      "text/plain": [
       "             count        mean         std   min       25%       50%    75%  \\\n",
       "PassengerId  891.0  446.000000  257.353842  1.00  223.5000  446.0000  668.5   \n",
       "Survived     891.0    0.383838    0.486592  0.00    0.0000    0.0000    1.0   \n",
       "Pclass       891.0    2.308642    0.836071  1.00    2.0000    3.0000    3.0   \n",
       "Age          714.0   29.699118   14.526497  0.42   20.1250   28.0000   38.0   \n",
       "SibSp        891.0    0.523008    1.102743  0.00    0.0000    0.0000    1.0   \n",
       "Parch        891.0    0.381594    0.806057  0.00    0.0000    0.0000    0.0   \n",
       "Fare         891.0   32.204208   49.693429  0.00    7.9104   14.4542   31.0   \n",
       "\n",
       "                  max  \n",
       "PassengerId  891.0000  \n",
       "Survived       1.0000  \n",
       "Pclass         3.0000  \n",
       "Age           80.0000  \n",
       "SibSp          8.0000  \n",
       "Parch          6.0000  \n",
       "Fare         512.3292  "
      ],
      "text/html": [
       "<div>\n",
       "<style scoped>\n",
       "    .dataframe tbody tr th:only-of-type {\n",
       "        vertical-align: middle;\n",
       "    }\n",
       "\n",
       "    .dataframe tbody tr th {\n",
       "        vertical-align: top;\n",
       "    }\n",
       "\n",
       "    .dataframe thead th {\n",
       "        text-align: right;\n",
       "    }\n",
       "</style>\n",
       "<table border=\"1\" class=\"dataframe\">\n",
       "  <thead>\n",
       "    <tr style=\"text-align: right;\">\n",
       "      <th></th>\n",
       "      <th>count</th>\n",
       "      <th>mean</th>\n",
       "      <th>std</th>\n",
       "      <th>min</th>\n",
       "      <th>25%</th>\n",
       "      <th>50%</th>\n",
       "      <th>75%</th>\n",
       "      <th>max</th>\n",
       "    </tr>\n",
       "  </thead>\n",
       "  <tbody>\n",
       "    <tr>\n",
       "      <th>PassengerId</th>\n",
       "      <td>891.0</td>\n",
       "      <td>446.000000</td>\n",
       "      <td>257.353842</td>\n",
       "      <td>1.00</td>\n",
       "      <td>223.5000</td>\n",
       "      <td>446.0000</td>\n",
       "      <td>668.5</td>\n",
       "      <td>891.0000</td>\n",
       "    </tr>\n",
       "    <tr>\n",
       "      <th>Survived</th>\n",
       "      <td>891.0</td>\n",
       "      <td>0.383838</td>\n",
       "      <td>0.486592</td>\n",
       "      <td>0.00</td>\n",
       "      <td>0.0000</td>\n",
       "      <td>0.0000</td>\n",
       "      <td>1.0</td>\n",
       "      <td>1.0000</td>\n",
       "    </tr>\n",
       "    <tr>\n",
       "      <th>Pclass</th>\n",
       "      <td>891.0</td>\n",
       "      <td>2.308642</td>\n",
       "      <td>0.836071</td>\n",
       "      <td>1.00</td>\n",
       "      <td>2.0000</td>\n",
       "      <td>3.0000</td>\n",
       "      <td>3.0</td>\n",
       "      <td>3.0000</td>\n",
       "    </tr>\n",
       "    <tr>\n",
       "      <th>Age</th>\n",
       "      <td>714.0</td>\n",
       "      <td>29.699118</td>\n",
       "      <td>14.526497</td>\n",
       "      <td>0.42</td>\n",
       "      <td>20.1250</td>\n",
       "      <td>28.0000</td>\n",
       "      <td>38.0</td>\n",
       "      <td>80.0000</td>\n",
       "    </tr>\n",
       "    <tr>\n",
       "      <th>SibSp</th>\n",
       "      <td>891.0</td>\n",
       "      <td>0.523008</td>\n",
       "      <td>1.102743</td>\n",
       "      <td>0.00</td>\n",
       "      <td>0.0000</td>\n",
       "      <td>0.0000</td>\n",
       "      <td>1.0</td>\n",
       "      <td>8.0000</td>\n",
       "    </tr>\n",
       "    <tr>\n",
       "      <th>Parch</th>\n",
       "      <td>891.0</td>\n",
       "      <td>0.381594</td>\n",
       "      <td>0.806057</td>\n",
       "      <td>0.00</td>\n",
       "      <td>0.0000</td>\n",
       "      <td>0.0000</td>\n",
       "      <td>0.0</td>\n",
       "      <td>6.0000</td>\n",
       "    </tr>\n",
       "    <tr>\n",
       "      <th>Fare</th>\n",
       "      <td>891.0</td>\n",
       "      <td>32.204208</td>\n",
       "      <td>49.693429</td>\n",
       "      <td>0.00</td>\n",
       "      <td>7.9104</td>\n",
       "      <td>14.4542</td>\n",
       "      <td>31.0</td>\n",
       "      <td>512.3292</td>\n",
       "    </tr>\n",
       "  </tbody>\n",
       "</table>\n",
       "</div>"
      ]
     },
     "execution_count": 723,
     "metadata": {},
     "output_type": "execute_result"
    }
   ],
   "execution_count": 723
  },
  {
   "metadata": {
    "ExecuteTime": {
     "end_time": "2025-07-11T10:50:07.076088Z",
     "start_time": "2025-07-11T10:50:07.040043Z"
    }
   },
   "cell_type": "code",
   "source": "test_df.describe().T",
   "id": "1f6e84f8e5e6d772",
   "outputs": [
    {
     "data": {
      "text/plain": [
       "             count         mean         std     min       25%        50%  \\\n",
       "PassengerId  418.0  1100.500000  120.810458  892.00  996.2500  1100.5000   \n",
       "Pclass       418.0     2.265550    0.841838    1.00    1.0000     3.0000   \n",
       "Age          332.0    30.272590   14.181209    0.17   21.0000    27.0000   \n",
       "SibSp        418.0     0.447368    0.896760    0.00    0.0000     0.0000   \n",
       "Parch        418.0     0.392344    0.981429    0.00    0.0000     0.0000   \n",
       "Fare         417.0    35.627188   55.907576    0.00    7.8958    14.4542   \n",
       "\n",
       "                 75%        max  \n",
       "PassengerId  1204.75  1309.0000  \n",
       "Pclass          3.00     3.0000  \n",
       "Age            39.00    76.0000  \n",
       "SibSp           1.00     8.0000  \n",
       "Parch           0.00     9.0000  \n",
       "Fare           31.50   512.3292  "
      ],
      "text/html": [
       "<div>\n",
       "<style scoped>\n",
       "    .dataframe tbody tr th:only-of-type {\n",
       "        vertical-align: middle;\n",
       "    }\n",
       "\n",
       "    .dataframe tbody tr th {\n",
       "        vertical-align: top;\n",
       "    }\n",
       "\n",
       "    .dataframe thead th {\n",
       "        text-align: right;\n",
       "    }\n",
       "</style>\n",
       "<table border=\"1\" class=\"dataframe\">\n",
       "  <thead>\n",
       "    <tr style=\"text-align: right;\">\n",
       "      <th></th>\n",
       "      <th>count</th>\n",
       "      <th>mean</th>\n",
       "      <th>std</th>\n",
       "      <th>min</th>\n",
       "      <th>25%</th>\n",
       "      <th>50%</th>\n",
       "      <th>75%</th>\n",
       "      <th>max</th>\n",
       "    </tr>\n",
       "  </thead>\n",
       "  <tbody>\n",
       "    <tr>\n",
       "      <th>PassengerId</th>\n",
       "      <td>418.0</td>\n",
       "      <td>1100.500000</td>\n",
       "      <td>120.810458</td>\n",
       "      <td>892.00</td>\n",
       "      <td>996.2500</td>\n",
       "      <td>1100.5000</td>\n",
       "      <td>1204.75</td>\n",
       "      <td>1309.0000</td>\n",
       "    </tr>\n",
       "    <tr>\n",
       "      <th>Pclass</th>\n",
       "      <td>418.0</td>\n",
       "      <td>2.265550</td>\n",
       "      <td>0.841838</td>\n",
       "      <td>1.00</td>\n",
       "      <td>1.0000</td>\n",
       "      <td>3.0000</td>\n",
       "      <td>3.00</td>\n",
       "      <td>3.0000</td>\n",
       "    </tr>\n",
       "    <tr>\n",
       "      <th>Age</th>\n",
       "      <td>332.0</td>\n",
       "      <td>30.272590</td>\n",
       "      <td>14.181209</td>\n",
       "      <td>0.17</td>\n",
       "      <td>21.0000</td>\n",
       "      <td>27.0000</td>\n",
       "      <td>39.00</td>\n",
       "      <td>76.0000</td>\n",
       "    </tr>\n",
       "    <tr>\n",
       "      <th>SibSp</th>\n",
       "      <td>418.0</td>\n",
       "      <td>0.447368</td>\n",
       "      <td>0.896760</td>\n",
       "      <td>0.00</td>\n",
       "      <td>0.0000</td>\n",
       "      <td>0.0000</td>\n",
       "      <td>1.00</td>\n",
       "      <td>8.0000</td>\n",
       "    </tr>\n",
       "    <tr>\n",
       "      <th>Parch</th>\n",
       "      <td>418.0</td>\n",
       "      <td>0.392344</td>\n",
       "      <td>0.981429</td>\n",
       "      <td>0.00</td>\n",
       "      <td>0.0000</td>\n",
       "      <td>0.0000</td>\n",
       "      <td>0.00</td>\n",
       "      <td>9.0000</td>\n",
       "    </tr>\n",
       "    <tr>\n",
       "      <th>Fare</th>\n",
       "      <td>417.0</td>\n",
       "      <td>35.627188</td>\n",
       "      <td>55.907576</td>\n",
       "      <td>0.00</td>\n",
       "      <td>7.8958</td>\n",
       "      <td>14.4542</td>\n",
       "      <td>31.50</td>\n",
       "      <td>512.3292</td>\n",
       "    </tr>\n",
       "  </tbody>\n",
       "</table>\n",
       "</div>"
      ]
     },
     "execution_count": 724,
     "metadata": {},
     "output_type": "execute_result"
    }
   ],
   "execution_count": 724
  },
  {
   "metadata": {},
   "cell_type": "markdown",
   "source": "# EDA",
   "id": "140dfeacc2a37099"
  },
  {
   "metadata": {
    "ExecuteTime": {
     "end_time": "2025-07-11T10:50:07.389174Z",
     "start_time": "2025-07-11T10:50:07.279314Z"
    }
   },
   "cell_type": "code",
   "source": [
    "plt.figure(figsize = (12,6))\n",
    "plt.pie(train_df[\"Survived\"].value_counts(),labels = train_df[\"Survived\"].value_counts().keys(),autopct=\"%1.1f%%\",textprops={\"fontsize\":20,\"fontweight\":\"black\"},colors=sns.color_palette(\"Set2\"))\n",
    "plt.title(\"Survival Distribution\")\n",
    "plt.show()"
   ],
   "id": "3ca1f4e62bee662b",
   "outputs": [
    {
     "data": {
      "text/plain": [
       "<Figure size 1200x600 with 1 Axes>"
      ],
      "image/png": "[encoded data removed]"
     },
     "metadata": {},
     "output_type": "display_data"
    }
   ],
   "execution_count": 725
  },
  {
   "metadata": {},
   "cell_type": "markdown",
   "source": "Only 38% of people survived",
   "id": "acb7cb275f2a7b88"
  },
  {
   "metadata": {
    "ExecuteTime": {
     "end_time": "2025-07-11T10:50:08.141371Z",
     "start_time": "2025-07-11T10:50:07.661599Z"
    }
   },
   "cell_type": "code",
   "source": [
    "sns.histplot(x=\"Age\",data=train_df,kde=True,hue=\"Survived\",palette=\"Set2\",bins=20)\n",
    "plt.title(\"Survival Distribution w.rt Age\")\n",
    "plt.show()"
   ],
   "id": "b16cd464407aa9da",
   "outputs": [
    {
     "data": {
      "text/plain": [
       "<Figure size 640x480 with 1 Axes>"
      ],
      "image/png": "[encoded data removed]"
     },
     "metadata": {},
     "output_type": "display_data"
    }
   ],
   "execution_count": 726
  },
  {
   "metadata": {},
   "cell_type": "markdown",
   "source": [
    "* Distribution is Normal\n",
    "* Most of the people survived within 10 years of age\n",
    "* Minimum age is 0 amd Max age is 80\n"
   ],
   "id": "862c8d898cbb6129"
  },
  {
   "metadata": {
    "ExecuteTime": {
     "end_time": "2025-07-11T10:50:08.540794Z",
     "start_time": "2025-07-11T10:50:08.220099Z"
    }
   },
   "cell_type": "code",
   "source": [
    "sns.barplot(x='Sex',y='Survived',data=train_df,palette=\"Set2\")\n",
    "plt.show()\n",
    "print(\"The percentage of values \")\n",
    "print(\"Survival Ratio of Males:\",train_df[\"Survived\"][train_df[\"Sex\"]==\"male\"].value_counts(normalize=True)[1]*100)\n",
    "print(\"Survival Ratio of Females\",train_df[\"Survived\"][train_df[\"Sex\"]==\"female\"].value_counts(normalize=True)[1]*100)"
   ],
   "id": "7aa6bb49c0906a47",
   "outputs": [
    {
     "data": {
      "text/plain": [
       "<Figure size 640x480 with 1 Axes>"
      ],
      "image/png": "[encoded data removed]"
     },
     "metadata": {},
     "output_type": "display_data"
    },
    {
     "name": "stdout",
     "output_type": "stream",
     "text": [
      "The percentage of values \n",
      "Survival Ratio of Males: 18.890814558058924\n",
      "Survival Ratio of Females 74.20382165605095\n"
     ]
    }
   ],
   "execution_count": 727
  },
  {
   "metadata": {
    "ExecuteTime": {
     "end_time": "2025-07-11T10:50:08.933046Z",
     "start_time": "2025-07-11T10:50:08.633477Z"
    }
   },
   "cell_type": "code",
   "source": [
    "sns.barplot(x='Pclass',y='Survived',data=train_df,palette=\"Set2\")\n",
    "plt.show()\n",
    "print(\"Survival Rate of Class1\",round(train_df[\"Survived\"][train_df[\"Pclass\"]==1].value_counts(normalize=True)[1]*100,2))\n",
    "print(\"Survival Rate of Class2\",round(train_df[\"Survived\"][train_df[\"Pclass\"]==2].value_counts(normalize=True)[1]*100,2))\n",
    "print(\"Survival Rate of Class3\",round(train_df[\"Survived\"][train_df[\"Pclass\"]==3].value_counts(normalize=True)[1]*100,2))"
   ],
   "id": "383d518700e367e4",
   "outputs": [
    {
     "data": {
      "text/plain": [
       "<Figure size 640x480 with 1 Axes>"
      ],
      "image/png": "[encoded data removed]"
     },
     "metadata": {},
     "output_type": "display_data"
    },
    {
     "name": "stdout",
     "output_type": "stream",
     "text": [
      "Survival Rate of Class1 62.96\n",
      "Survival Rate of Class2 47.28\n",
      "Survival Rate of Class3 24.24\n"
     ]
    }
   ],
   "execution_count": 728
  },
  {
   "metadata": {
    "ExecuteTime": {
     "end_time": "2025-07-11T10:50:09.526874Z",
     "start_time": "2025-07-11T10:50:09.019705Z"
    }
   },
   "cell_type": "code",
   "source": [
    "sns.barplot(x='SibSp',y='Survived',data=train_df,palette=\"Set2\")\n",
    "plt.show()\n",
    "print(\"Survival Rate of 0 Siblings\",round(train_df[\"Survived\"][train_df[\"SibSp\"]==0].value_counts(normalize=True)[1]*100,2))\n",
    "print(\"Survival Rate of 1 Siblings\",round(train_df[\"Survived\"][train_df[\"SibSp\"]==1].value_counts(normalize=True)[1]*100,2))\n",
    "print(\"Survival Rate of 2 Siblings\",round(train_df[\"Survived\"][train_df[\"SibSp\"]==2].value_counts(normalize=True)[1]*100,2))\n",
    "print(\"Survival Rate of 3 Siblings\",round(train_df[\"Survived\"][train_df[\"SibSp\"]==3].value_counts(normalize=True)[1]*100,2))\n",
    "print(\"Survival Rate of 4 Siblings\",round(train_df[\"Survived\"][train_df[\"SibSp\"]==4].value_counts(normalize=True)[1]*100,2))\n",
    "\n"
   ],
   "id": "29b5c911a8f6ec30",
   "outputs": [
    {
     "data": {
      "text/plain": [
       "<Figure size 640x480 with 1 Axes>"
      ],
      "image/png": "[encoded data removed]"
     },
     "metadata": {},
     "output_type": "display_data"
    },
    {
     "name": "stdout",
     "output_type": "stream",
     "text": [
      "Survival Rate of 0 Siblings 34.54\n",
      "Survival Rate of 1 Siblings 53.59\n",
      "Survival Rate of 2 Siblings 46.43\n",
      "Survival Rate of 3 Siblings 25.0\n",
      "Survival Rate of 4 Siblings 16.67\n"
     ]
    }
   ],
   "execution_count": 729
  },
  {
   "metadata": {},
   "cell_type": "markdown",
   "source": [
    "* The survival rate of a couple or a couple with a single parent/child has highest survival rate.\n",
    "* The survival rate of a single identity comes next.\n",
    "* The survival rate with more more family members is low."
   ],
   "id": "65b8dec7ecd0e34a"
  },
  {
   "metadata": {
    "ExecuteTime": {
     "end_time": "2025-07-11T10:50:09.636042Z",
     "start_time": "2025-07-11T10:50:09.625299Z"
    }
   },
   "cell_type": "code",
   "source": "train_df[\"SibSp\"].value_counts()",
   "id": "8a693ac4c557df08",
   "outputs": [
    {
     "data": {
      "text/plain": [
       "SibSp\n",
       "0    608\n",
       "1    209\n",
       "2     28\n",
       "4     18\n",
       "3     16\n",
       "8      7\n",
       "5      5\n",
       "Name: count, dtype: int64"
      ]
     },
     "execution_count": 730,
     "metadata": {},
     "output_type": "execute_result"
    }
   ],
   "execution_count": 730
  },
  {
   "metadata": {
    "ExecuteTime": {
     "end_time": "2025-07-11T10:50:10.111960Z",
     "start_time": "2025-07-11T10:50:09.814402Z"
    }
   },
   "cell_type": "code",
   "source": [
    "sns.barplot(x=\"Embarked\",y=\"Survived\",data=train_df,palette=\"Set2\")\n",
    "plt.show()\n",
    "print(\"Survival Rate of passengers embarked from Cherbourg\",round(train_df[\"Survived\"][train_df[\"Embarked\"]==\"C\"].value_counts(normalize=True)[1]*100,2))\n",
    "print(\"Survival Rate of passengers embarked from Queensland\",round(train_df[\"Survived\"][train_df[\"Embarked\"]==\"Q\"].value_counts(normalize=True)[1]*100,2))\n",
    "print(\"Survival Rate of passengers embarked from SouthHampton\",round(train_df[\"Survived\"][train_df[\"Embarked\"]==\"S\"].value_counts(normalize=True)[1]*100,2))"
   ],
   "id": "677dbb5b79a2087f",
   "outputs": [
    {
     "data": {
      "text/plain": [
       "<Figure size 640x480 with 1 Axes>"
      ],
      "image/png": "[encoded data removed]"
     },
     "metadata": {},
     "output_type": "display_data"
    },
    {
     "name": "stdout",
     "output_type": "stream",
     "text": [
      "Survival Rate of passengers embarked from Cherbourg 55.36\n",
      "Survival Rate of passengers embarked from Queensland 38.96\n",
      "Survival Rate of passengers embarked from SouthHampton 33.7\n"
     ]
    }
   ],
   "execution_count": 731
  },
  {
   "metadata": {},
   "cell_type": "markdown",
   "source": "Survival Rate from Cherbourg was highest while from SouthHampton was lowest",
   "id": "a650f9529c64abb9"
  },
  {
   "metadata": {},
   "cell_type": "markdown",
   "source": "Lets plot Pclass with Passengers Embarked",
   "id": "9310509b3120fc19"
  },
  {
   "metadata": {
    "ExecuteTime": {
     "end_time": "2025-07-11T10:50:10.640569Z",
     "start_time": "2025-07-11T10:50:10.204549Z"
    }
   },
   "cell_type": "code",
   "source": [
    "sns.barplot(x='Embarked',y='Pclass',hue=\"Survived\",data=train_df,palette=\"Set2\")\n",
    "plt.show()"
   ],
   "id": "f69e9b5fbf86385a",
   "outputs": [
    {
     "data": {
      "text/plain": [
       "<Figure size 640x480 with 1 Axes>"
      ],
      "image/png": "[encoded data removed]"
     },
     "metadata": {},
     "output_type": "display_data"
    }
   ],
   "execution_count": 732
  },
  {
   "metadata": {},
   "cell_type": "markdown",
   "source": "Plotting Age after converting into categories",
   "id": "9586bb39f28c07ae"
  },
  {
   "metadata": {
    "ExecuteTime": {
     "end_time": "2025-07-11T10:50:11.550943Z",
     "start_time": "2025-07-11T10:50:11.535778Z"
    }
   },
   "cell_type": "code",
   "source": [
    "train_df[\"Age\"] = train_df[\"Age\"].fillna(-0.5)\n",
    "test_df[\"Age\"] = test_df[\"Age\"].fillna(-0.5)\n",
    "bins = [0, 12, 17, 60, np.inf]\n",
    "labels = ['child', 'teenager', 'adult', 'elderly']\n",
    "age_groups = pd.cut(train_df.Age, bins, labels = labels)\n",
    "train_df['AgeGroup'] = age_groups\n",
    "test_df['AgeGroup'] = age_groups"
   ],
   "id": "91f41327373ce4c8",
   "outputs": [],
   "execution_count": 733
  },
  {
   "metadata": {
    "ExecuteTime": {
     "end_time": "2025-07-11T10:50:12.095283Z",
     "start_time": "2025-07-11T10:50:11.686397Z"
    }
   },
   "cell_type": "code",
   "source": [
    "sns.barplot(x='AgeGroup',y='Survived',data=train_df,palette=\"Set2\")\n",
    "plt.show()"
   ],
   "id": "c9bdd5a092c15e6a",
   "outputs": [
    {
     "data": {
      "text/plain": [
       "<Figure size 640x480 with 1 Axes>"
      ],
      "image/png": "[encoded data removed]"
     },
     "metadata": {},
     "output_type": "display_data"
    }
   ],
   "execution_count": 734
  },
  {
   "metadata": {},
   "cell_type": "markdown",
   "source": "# Feature Engineering\n",
   "id": "365cb6e9a52d3739"
  },
  {
   "metadata": {},
   "cell_type": "markdown",
   "source": "### Extracting Titles from Names",
   "id": "19c123b03f0fd6ee"
  },
  {
   "metadata": {
    "ExecuteTime": {
     "end_time": "2025-07-11T10:50:12.187038Z",
     "start_time": "2025-07-11T10:50:12.162854Z"
    }
   },
   "cell_type": "code",
   "source": "train_df.head()",
   "id": "4d47d1322ff25bf",
   "outputs": [
    {
     "data": {
      "text/plain": [
       "   PassengerId  Survived  Pclass  \\\n",
       "0            1         0       3   \n",
       "1            2         1       1   \n",
       "2            3         1       3   \n",
       "3            4         1       1   \n",
       "4            5         0       3   \n",
       "\n",
       "                                                Name     Sex   Age  SibSp  \\\n",
       "0                            Braund, Mr. Owen Harris    male  22.0      1   \n",
       "1  Cumings, Mrs. John Bradley (Florence Briggs Th...  female  38.0      1   \n",
       "2                             Heikkinen, Miss. Laina  female  26.0      0   \n",
       "3       Futrelle, Mrs. Jacques Heath (Lily May Peel)  female  35.0      1   \n",
       "4                           Allen, Mr. William Henry    male  35.0      0   \n",
       "\n",
       "   Parch            Ticket     Fare Cabin Embarked AgeGroup  \n",
       "0      0         A/5 21171   7.2500   NaN        S    adult  \n",
       "1      0          PC 17599  71.2833   C85        C    adult  \n",
       "2      0  STON/O2. 3101282   7.9250   NaN        S    adult  \n",
       "3      0            113803  53.1000  C123        S    adult  \n",
       "4      0            373450   8.0500   NaN        S    adult  "
      ],
      "text/html": [
       "<div>\n",
       "<style scoped>\n",
       "    .dataframe tbody tr th:only-of-type {\n",
       "        vertical-align: middle;\n",
       "    }\n",
       "\n",
       "    .dataframe tbody tr th {\n",
       "        vertical-align: top;\n",
       "    }\n",
       "\n",
       "    .dataframe thead th {\n",
       "        text-align: right;\n",
       "    }\n",
       "</style>\n",
       "<table border=\"1\" class=\"dataframe\">\n",
       "  <thead>\n",
       "    <tr style=\"text-align: right;\">\n",
       "      <th></th>\n",
       "      <th>PassengerId</th>\n",
       "      <th>Survived</th>\n",
       "      <th>Pclass</th>\n",
       "      <th>Name</th>\n",
       "      <th>Sex</th>\n",
       "      <th>Age</th>\n",
       "      <th>SibSp</th>\n",
       "      <th>Parch</th>\n",
       "      <th>Ticket</th>\n",
       "      <th>Fare</th>\n",
       "      <th>Cabin</th>\n",
       "      <th>Embarked</th>\n",
       "      <th>AgeGroup</th>\n",
       "    </tr>\n",
       "  </thead>\n",
       "  <tbody>\n",
       "    <tr>\n",
       "      <th>0</th>\n",
       "      <td>1</td>\n",
       "      <td>0</td>\n",
       "      <td>3</td>\n",
       "      <td>Braund, Mr. Owen Harris</td>\n",
       "      <td>male</td>\n",
       "      <td>22.0</td>\n",
       "      <td>1</td>\n",
       "      <td>0</td>\n",
       "      <td>A/5 21171</td>\n",
       "      <td>7.2500</td>\n",
       "      <td>NaN</td>\n",
       "      <td>S</td>\n",
       "      <td>adult</td>\n",
       "    </tr>\n",
       "    <tr>\n",
       "      <th>1</th>\n",
       "      <td>2</td>\n",
       "      <td>1</td>\n",
       "      <td>1</td>\n",
       "      <td>Cumings, Mrs. John Bradley (Florence Briggs Th...</td>\n",
       "      <td>female</td>\n",
       "      <td>38.0</td>\n",
       "      <td>1</td>\n",
       "      <td>0</td>\n",
       "      <td>PC 17599</td>\n",
       "      <td>71.2833</td>\n",
       "      <td>C85</td>\n",
       "      <td>C</td>\n",
       "      <td>adult</td>\n",
       "    </tr>\n",
       "    <tr>\n",
       "      <th>2</th>\n",
       "      <td>3</td>\n",
       "      <td>1</td>\n",
       "      <td>3</td>\n",
       "      <td>Heikkinen, Miss. Laina</td>\n",
       "      <td>female</td>\n",
       "      <td>26.0</td>\n",
       "      <td>0</td>\n",
       "      <td>0</td>\n",
       "      <td>STON/O2. 3101282</td>\n",
       "      <td>7.9250</td>\n",
       "      <td>NaN</td>\n",
       "      <td>S</td>\n",
       "      <td>adult</td>\n",
       "    </tr>\n",
       "    <tr>\n",
       "      <th>3</th>\n",
       "      <td>4</td>\n",
       "      <td>1</td>\n",
       "      <td>1</td>\n",
       "      <td>Futrelle, Mrs. Jacques Heath (Lily May Peel)</td>\n",
       "      <td>female</td>\n",
       "      <td>35.0</td>\n",
       "      <td>1</td>\n",
       "      <td>0</td>\n",
       "      <td>113803</td>\n",
       "      <td>53.1000</td>\n",
       "      <td>C123</td>\n",
       "      <td>S</td>\n",
       "      <td>adult</td>\n",
       "    </tr>\n",
       "    <tr>\n",
       "      <th>4</th>\n",
       "      <td>5</td>\n",
       "      <td>0</td>\n",
       "      <td>3</td>\n",
       "      <td>Allen, Mr. William Henry</td>\n",
       "      <td>male</td>\n",
       "      <td>35.0</td>\n",
       "      <td>0</td>\n",
       "      <td>0</td>\n",
       "      <td>373450</td>\n",
       "      <td>8.0500</td>\n",
       "      <td>NaN</td>\n",
       "      <td>S</td>\n",
       "      <td>adult</td>\n",
       "    </tr>\n",
       "  </tbody>\n",
       "</table>\n",
       "</div>"
      ]
     },
     "execution_count": 735,
     "metadata": {},
     "output_type": "execute_result"
    }
   ],
   "execution_count": 735
  },
  {
   "metadata": {
    "ExecuteTime": {
     "end_time": "2025-07-11T10:50:12.418318Z",
     "start_time": "2025-07-11T10:50:12.405601Z"
    }
   },
   "cell_type": "code",
   "source": [
    "def extract_title(df):\n",
    "    df['Title'] = df['Name'].str.split(\", \", expand=True)[1].str.split(\".\", expand=True)[0]\n",
    "    df['Title']=df['Title'].replace(['Lady','Mme','the Countess','Dona'],'Mrs')\n",
    "    df['Title']=df['Title'].replace(['Col','Major','Capt'],'Military Officer')\n",
    "    df['Title']=df['Title'].replace(['Mlle','Ms'],'Miss')\n",
    "    df['Title']=df['Title'].replace(['Dr','Rev','Jonkheer','Sir','Don'],'Noble')\n",
    "\n",
    "\n",
    "\n"
   ],
   "id": "b12ad035283029c2",
   "outputs": [],
   "execution_count": 736
  },
  {
   "metadata": {
    "ExecuteTime": {
     "end_time": "2025-07-11T10:50:12.641257Z",
     "start_time": "2025-07-11T10:50:12.611219Z"
    }
   },
   "cell_type": "code",
   "source": [
    "extract_title(train_df)\n",
    "extract_title(test_df)"
   ],
   "id": "c0c10cb0bc09fa8e",
   "outputs": [],
   "execution_count": 737
  },
  {
   "metadata": {
    "ExecuteTime": {
     "end_time": "2025-07-11T10:50:12.801139Z",
     "start_time": "2025-07-11T10:50:12.784818Z"
    }
   },
   "cell_type": "code",
   "source": "train_df['Title'].value_counts()",
   "id": "142c50842185bd64",
   "outputs": [
    {
     "data": {
      "text/plain": [
       "Title\n",
       "Mr                  517\n",
       "Miss                185\n",
       "Mrs                 128\n",
       "Master               40\n",
       "Noble                16\n",
       "Military Officer      5\n",
       "Name: count, dtype: int64"
      ]
     },
     "execution_count": 738,
     "metadata": {},
     "output_type": "execute_result"
    }
   ],
   "execution_count": 738
  },
  {
   "metadata": {
    "ExecuteTime": {
     "end_time": "2025-07-11T10:50:13.643825Z",
     "start_time": "2025-07-11T10:50:13.030609Z"
    }
   },
   "cell_type": "code",
   "source": [
    "sns.barplot(x='Title',y='Survived',data=train_df,palette=\"Set2\")\n",
    "plt.show()"
   ],
   "id": "4dc10ad5c6486c7d",
   "outputs": [
    {
     "data": {
      "text/plain": [
       "<Figure size 640x480 with 1 Axes>"
      ],
      "image/png": "[encoded data removed]"
     },
     "metadata": {},
     "output_type": "display_data"
    }
   ],
   "execution_count": 739
  },
  {
   "metadata": {
    "ExecuteTime": {
     "end_time": "2025-07-11T10:50:13.941909Z",
     "start_time": "2025-07-11T10:50:13.917569Z"
    }
   },
   "cell_type": "code",
   "source": [
    "print(\"Survival Rates of Titles\")\n",
    "print(\"Mr\")\n",
    "print(round(train_df[\"Survived\"][train_df[\"Title\"]==\"Mr\"].value_counts(normalize=True)[1]*100,2))\n",
    "print(\"Mrs\")\n",
    "print(round(train_df[\"Survived\"][train_df[\"Title\"]==\"Mrs\"].value_counts(normalize=True)[1]*100,2))\n",
    "print(\"Miss\")\n",
    "print(round(train_df[\"Survived\"][train_df[\"Title\"]==\"Miss\"].value_counts(normalize=True)[1]*100,2))\n",
    "print(\"Master\")\n",
    "print(round(train_df[\"Survived\"][train_df[\"Title\"]==\"Master\"].value_counts(normalize=True)[1]*100,2))\n",
    "print(\"Noble\")\n",
    "print(round(train_df[\"Survived\"][train_df[\"Title\"]==\"Noble\"].value_counts(normalize=True)[1]*100,2))\n",
    "print(\"Military Officer\")\n",
    "print(round(train_df[\"Survived\"][train_df[\"Title\"]==\"Military Officer\"].value_counts(normalize=True)[1]*100,2))"
   ],
   "id": "381557c47da6aa26",
   "outputs": [
    {
     "name": "stdout",
     "output_type": "stream",
     "text": [
      "Survival Rates of Titles\n",
      "Mr\n",
      "15.67\n",
      "Mrs\n",
      "79.69\n",
      "Miss\n",
      "70.27\n",
      "Master\n",
      "57.5\n",
      "Noble\n",
      "25.0\n",
      "Military Officer\n",
      "40.0\n"
     ]
    }
   ],
   "execution_count": 740
  },
  {
   "metadata": {
    "ExecuteTime": {
     "end_time": "2025-07-11T10:50:14.449118Z",
     "start_time": "2025-07-11T10:50:14.441312Z"
    }
   },
   "cell_type": "code",
   "source": [
    "def manipulate_family_members(df):\n",
    "    df['FamilySize'] = df['SibSp'] + df['Parch'] + 1\n",
    "    df['IsAlone'] = 1\n",
    "    df['IsAlone'].loc[df['FamilySize']>1]=0\n"
   ],
   "id": "7d3db7f80f7deed8",
   "outputs": [],
   "execution_count": 741
  },
  {
   "metadata": {
    "ExecuteTime": {
     "end_time": "2025-07-11T10:50:14.535676Z",
     "start_time": "2025-07-11T10:50:14.523946Z"
    }
   },
   "cell_type": "code",
   "source": [
    "manipulate_family_members(train_df)\n",
    "manipulate_family_members(test_df)"
   ],
   "id": "3ed6c6c7fcabdfc4",
   "outputs": [],
   "execution_count": 742
  },
  {
   "metadata": {
    "ExecuteTime": {
     "end_time": "2025-07-11T10:50:14.668625Z",
     "start_time": "2025-07-11T10:50:14.646198Z"
    }
   },
   "cell_type": "code",
   "source": "train_df.head()",
   "id": "6eb245a5921eec1a",
   "outputs": [
    {
     "data": {
      "text/plain": [
       "   PassengerId  Survived  Pclass  \\\n",
       "0            1         0       3   \n",
       "1            2         1       1   \n",
       "2            3         1       3   \n",
       "3            4         1       1   \n",
       "4            5         0       3   \n",
       "\n",
       "                                                Name     Sex   Age  SibSp  \\\n",
       "0                            Braund, Mr. Owen Harris    male  22.0      1   \n",
       "1  Cumings, Mrs. John Bradley (Florence Briggs Th...  female  38.0      1   \n",
       "2                             Heikkinen, Miss. Laina  female  26.0      0   \n",
       "3       Futrelle, Mrs. Jacques Heath (Lily May Peel)  female  35.0      1   \n",
       "4                           Allen, Mr. William Henry    male  35.0      0   \n",
       "\n",
       "   Parch            Ticket     Fare Cabin Embarked AgeGroup Title  FamilySize  \\\n",
       "0      0         A/5 21171   7.2500   NaN        S    adult    Mr           2   \n",
       "1      0          PC 17599  71.2833   C85        C    adult   Mrs           2   \n",
       "2      0  STON/O2. 3101282   7.9250   NaN        S    adult  Miss           1   \n",
       "3      0            113803  53.1000  C123        S    adult   Mrs           2   \n",
       "4      0            373450   8.0500   NaN        S    adult    Mr           1   \n",
       "\n",
       "   IsAlone  \n",
       "0        0  \n",
       "1        0  \n",
       "2        1  \n",
       "3        0  \n",
       "4        1  "
      ],
      "text/html": [
       "<div>\n",
       "<style scoped>\n",
       "    .dataframe tbody tr th:only-of-type {\n",
       "        vertical-align: middle;\n",
       "    }\n",
       "\n",
       "    .dataframe tbody tr th {\n",
       "        vertical-align: top;\n",
       "    }\n",
       "\n",
       "    .dataframe thead th {\n",
       "        text-align: right;\n",
       "    }\n",
       "</style>\n",
       "<table border=\"1\" class=\"dataframe\">\n",
       "  <thead>\n",
       "    <tr style=\"text-align: right;\">\n",
       "      <th></th>\n",
       "      <th>PassengerId</th>\n",
       "      <th>Survived</th>\n",
       "      <th>Pclass</th>\n",
       "      <th>Name</th>\n",
       "      <th>Sex</th>\n",
       "      <th>Age</th>\n",
       "      <th>SibSp</th>\n",
       "      <th>Parch</th>\n",
       "      <th>Ticket</th>\n",
       "      <th>Fare</th>\n",
       "      <th>Cabin</th>\n",
       "      <th>Embarked</th>\n",
       "      <th>AgeGroup</th>\n",
       "      <th>Title</th>\n",
       "      <th>FamilySize</th>\n",
       "      <th>IsAlone</th>\n",
       "    </tr>\n",
       "  </thead>\n",
       "  <tbody>\n",
       "    <tr>\n",
       "      <th>0</th>\n",
       "      <td>1</td>\n",
       "      <td>0</td>\n",
       "      <td>3</td>\n",
       "      <td>Braund, Mr. Owen Harris</td>\n",
       "      <td>male</td>\n",
       "      <td>22.0</td>\n",
       "      <td>1</td>\n",
       "      <td>0</td>\n",
       "      <td>A/5 21171</td>\n",
       "      <td>7.2500</td>\n",
       "      <td>NaN</td>\n",
       "      <td>S</td>\n",
       "      <td>adult</td>\n",
       "      <td>Mr</td>\n",
       "      <td>2</td>\n",
       "      <td>0</td>\n",
       "    </tr>\n",
       "    <tr>\n",
       "      <th>1</th>\n",
       "      <td>2</td>\n",
       "      <td>1</td>\n",
       "      <td>1</td>\n",
       "      <td>Cumings, Mrs. John Bradley (Florence Briggs Th...</td>\n",
       "      <td>female</td>\n",
       "      <td>38.0</td>\n",
       "      <td>1</td>\n",
       "      <td>0</td>\n",
       "      <td>PC 17599</td>\n",
       "      <td>71.2833</td>\n",
       "      <td>C85</td>\n",
       "      <td>C</td>\n",
       "      <td>adult</td>\n",
       "      <td>Mrs</td>\n",
       "      <td>2</td>\n",
       "      <td>0</td>\n",
       "    </tr>\n",
       "    <tr>\n",
       "      <th>2</th>\n",
       "      <td>3</td>\n",
       "      <td>1</td>\n",
       "      <td>3</td>\n",
       "      <td>Heikkinen, Miss. Laina</td>\n",
       "      <td>female</td>\n",
       "      <td>26.0</td>\n",
       "      <td>0</td>\n",
       "      <td>0</td>\n",
       "      <td>STON/O2. 3101282</td>\n",
       "      <td>7.9250</td>\n",
       "      <td>NaN</td>\n",
       "      <td>S</td>\n",
       "      <td>adult</td>\n",
       "      <td>Miss</td>\n",
       "      <td>1</td>\n",
       "      <td>1</td>\n",
       "    </tr>\n",
       "    <tr>\n",
       "      <th>3</th>\n",
       "      <td>4</td>\n",
       "      <td>1</td>\n",
       "      <td>1</td>\n",
       "      <td>Futrelle, Mrs. Jacques Heath (Lily May Peel)</td>\n",
       "      <td>female</td>\n",
       "      <td>35.0</td>\n",
       "      <td>1</td>\n",
       "      <td>0</td>\n",
       "      <td>113803</td>\n",
       "      <td>53.1000</td>\n",
       "      <td>C123</td>\n",
       "      <td>S</td>\n",
       "      <td>adult</td>\n",
       "      <td>Mrs</td>\n",
       "      <td>2</td>\n",
       "      <td>0</td>\n",
       "    </tr>\n",
       "    <tr>\n",
       "      <th>4</th>\n",
       "      <td>5</td>\n",
       "      <td>0</td>\n",
       "      <td>3</td>\n",
       "      <td>Allen, Mr. William Henry</td>\n",
       "      <td>male</td>\n",
       "      <td>35.0</td>\n",
       "      <td>0</td>\n",
       "      <td>0</td>\n",
       "      <td>373450</td>\n",
       "      <td>8.0500</td>\n",
       "      <td>NaN</td>\n",
       "      <td>S</td>\n",
       "      <td>adult</td>\n",
       "      <td>Mr</td>\n",
       "      <td>1</td>\n",
       "      <td>1</td>\n",
       "    </tr>\n",
       "  </tbody>\n",
       "</table>\n",
       "</div>"
      ]
     },
     "execution_count": 743,
     "metadata": {},
     "output_type": "execute_result"
    }
   ],
   "execution_count": 743
  },
  {
   "metadata": {
    "ExecuteTime": {
     "end_time": "2025-07-11T10:50:14.802377Z",
     "start_time": "2025-07-11T10:50:14.790415Z"
    }
   },
   "cell_type": "code",
   "source": [
    "def extract_deck(df):\n",
    "    df['Deck'] = df['Cabin'].apply(lambda s: s[0] if pd.notnull(s) else 'M')\n",
    "    df['Deck']=df['Deck'].replace(['A','B','C'],'ABC')\n",
    "    df['Deck']=df['Deck'].replace(['D','E'],'DE')\n",
    "    df['Deck']=df['Deck'].replace(['F','G'],'FG')"
   ],
   "id": "e587d940588164fb",
   "outputs": [],
   "execution_count": 744
  },
  {
   "metadata": {
    "ExecuteTime": {
     "end_time": "2025-07-11T10:50:14.929909Z",
     "start_time": "2025-07-11T10:50:14.917245Z"
    }
   },
   "cell_type": "code",
   "source": [
    "extract_deck(train_df)\n",
    "extract_deck(test_df)"
   ],
   "id": "b24e631a976a94f",
   "outputs": [],
   "execution_count": 745
  },
  {
   "metadata": {
    "ExecuteTime": {
     "end_time": "2025-07-11T10:50:15.042350Z",
     "start_time": "2025-07-11T10:50:15.022074Z"
    }
   },
   "cell_type": "code",
   "source": "train_df.head()",
   "id": "b55ff1b20988734",
   "outputs": [
    {
     "data": {
      "text/plain": [
       "   PassengerId  Survived  Pclass  \\\n",
       "0            1         0       3   \n",
       "1            2         1       1   \n",
       "2            3         1       3   \n",
       "3            4         1       1   \n",
       "4            5         0       3   \n",
       "\n",
       "                                                Name     Sex   Age  SibSp  \\\n",
       "0                            Braund, Mr. Owen Harris    male  22.0      1   \n",
       "1  Cumings, Mrs. John Bradley (Florence Briggs Th...  female  38.0      1   \n",
       "2                             Heikkinen, Miss. Laina  female  26.0      0   \n",
       "3       Futrelle, Mrs. Jacques Heath (Lily May Peel)  female  35.0      1   \n",
       "4                           Allen, Mr. William Henry    male  35.0      0   \n",
       "\n",
       "   Parch            Ticket     Fare Cabin Embarked AgeGroup Title  FamilySize  \\\n",
       "0      0         A/5 21171   7.2500   NaN        S    adult    Mr           2   \n",
       "1      0          PC 17599  71.2833   C85        C    adult   Mrs           2   \n",
       "2      0  STON/O2. 3101282   7.9250   NaN        S    adult  Miss           1   \n",
       "3      0            113803  53.1000  C123        S    adult   Mrs           2   \n",
       "4      0            373450   8.0500   NaN        S    adult    Mr           1   \n",
       "\n",
       "   IsAlone Deck  \n",
       "0        0    M  \n",
       "1        0  ABC  \n",
       "2        1    M  \n",
       "3        0  ABC  \n",
       "4        1    M  "
      ],
      "text/html": [
       "<div>\n",
       "<style scoped>\n",
       "    .dataframe tbody tr th:only-of-type {\n",
       "        vertical-align: middle;\n",
       "    }\n",
       "\n",
       "    .dataframe tbody tr th {\n",
       "        vertical-align: top;\n",
       "    }\n",
       "\n",
       "    .dataframe thead th {\n",
       "        text-align: right;\n",
       "    }\n",
       "</style>\n",
       "<table border=\"1\" class=\"dataframe\">\n",
       "  <thead>\n",
       "    <tr style=\"text-align: right;\">\n",
       "      <th></th>\n",
       "      <th>PassengerId</th>\n",
       "      <th>Survived</th>\n",
       "      <th>Pclass</th>\n",
       "      <th>Name</th>\n",
       "      <th>Sex</th>\n",
       "      <th>Age</th>\n",
       "      <th>SibSp</th>\n",
       "      <th>Parch</th>\n",
       "      <th>Ticket</th>\n",
       "      <th>Fare</th>\n",
       "      <th>Cabin</th>\n",
       "      <th>Embarked</th>\n",
       "      <th>AgeGroup</th>\n",
       "      <th>Title</th>\n",
       "      <th>FamilySize</th>\n",
       "      <th>IsAlone</th>\n",
       "      <th>Deck</th>\n",
       "    </tr>\n",
       "  </thead>\n",
       "  <tbody>\n",
       "    <tr>\n",
       "      <th>0</th>\n",
       "      <td>1</td>\n",
       "      <td>0</td>\n",
       "      <td>3</td>\n",
       "      <td>Braund, Mr. Owen Harris</td>\n",
       "      <td>male</td>\n",
       "      <td>22.0</td>\n",
       "      <td>1</td>\n",
       "      <td>0</td>\n",
       "      <td>A/5 21171</td>\n",
       "      <td>7.2500</td>\n",
       "      <td>NaN</td>\n",
       "      <td>S</td>\n",
       "      <td>adult</td>\n",
       "      <td>Mr</td>\n",
       "      <td>2</td>\n",
       "      <td>0</td>\n",
       "      <td>M</td>\n",
       "    </tr>\n",
       "    <tr>\n",
       "      <th>1</th>\n",
       "      <td>2</td>\n",
       "      <td>1</td>\n",
       "      <td>1</td>\n",
       "      <td>Cumings, Mrs. John Bradley (Florence Briggs Th...</td>\n",
       "      <td>female</td>\n",
       "      <td>38.0</td>\n",
       "      <td>1</td>\n",
       "      <td>0</td>\n",
       "      <td>PC 17599</td>\n",
       "      <td>71.2833</td>\n",
       "      <td>C85</td>\n",
       "      <td>C</td>\n",
       "      <td>adult</td>\n",
       "      <td>Mrs</td>\n",
       "      <td>2</td>\n",
       "      <td>0</td>\n",
       "      <td>ABC</td>\n",
       "    </tr>\n",
       "    <tr>\n",
       "      <th>2</th>\n",
       "      <td>3</td>\n",
       "      <td>1</td>\n",
       "      <td>3</td>\n",
       "      <td>Heikkinen, Miss. Laina</td>\n",
       "      <td>female</td>\n",
       "      <td>26.0</td>\n",
       "      <td>0</td>\n",
       "      <td>0</td>\n",
       "      <td>STON/O2. 3101282</td>\n",
       "      <td>7.9250</td>\n",
       "      <td>NaN</td>\n",
       "      <td>S</td>\n",
       "      <td>adult</td>\n",
       "      <td>Miss</td>\n",
       "      <td>1</td>\n",
       "      <td>1</td>\n",
       "      <td>M</td>\n",
       "    </tr>\n",
       "    <tr>\n",
       "      <th>3</th>\n",
       "      <td>4</td>\n",
       "      <td>1</td>\n",
       "      <td>1</td>\n",
       "      <td>Futrelle, Mrs. Jacques Heath (Lily May Peel)</td>\n",
       "      <td>female</td>\n",
       "      <td>35.0</td>\n",
       "      <td>1</td>\n",
       "      <td>0</td>\n",
       "      <td>113803</td>\n",
       "      <td>53.1000</td>\n",
       "      <td>C123</td>\n",
       "      <td>S</td>\n",
       "      <td>adult</td>\n",
       "      <td>Mrs</td>\n",
       "      <td>2</td>\n",
       "      <td>0</td>\n",
       "      <td>ABC</td>\n",
       "    </tr>\n",
       "    <tr>\n",
       "      <th>4</th>\n",
       "      <td>5</td>\n",
       "      <td>0</td>\n",
       "      <td>3</td>\n",
       "      <td>Allen, Mr. William Henry</td>\n",
       "      <td>male</td>\n",
       "      <td>35.0</td>\n",
       "      <td>0</td>\n",
       "      <td>0</td>\n",
       "      <td>373450</td>\n",
       "      <td>8.0500</td>\n",
       "      <td>NaN</td>\n",
       "      <td>S</td>\n",
       "      <td>adult</td>\n",
       "      <td>Mr</td>\n",
       "      <td>1</td>\n",
       "      <td>1</td>\n",
       "      <td>M</td>\n",
       "    </tr>\n",
       "  </tbody>\n",
       "</table>\n",
       "</div>"
      ]
     },
     "execution_count": 746,
     "metadata": {},
     "output_type": "execute_result"
    }
   ],
   "execution_count": 746
  },
  {
   "metadata": {
    "ExecuteTime": {
     "end_time": "2025-07-11T10:50:15.201050Z",
     "start_time": "2025-07-11T10:50:15.180825Z"
    }
   },
   "cell_type": "code",
   "source": "test_df.head()",
   "id": "5bc489071a517d40",
   "outputs": [
    {
     "data": {
      "text/plain": [
       "   PassengerId  Pclass                                          Name     Sex  \\\n",
       "0          892       3                              Kelly, Mr. James    male   \n",
       "1          893       3              Wilkes, Mrs. James (Ellen Needs)  female   \n",
       "2          894       2                     Myles, Mr. Thomas Francis    male   \n",
       "3          895       3                              Wirz, Mr. Albert    male   \n",
       "4          896       3  Hirvonen, Mrs. Alexander (Helga E Lindqvist)  female   \n",
       "\n",
       "    Age  SibSp  Parch   Ticket     Fare Cabin Embarked AgeGroup Title  \\\n",
       "0  34.5      0      0   330911   7.8292   NaN        Q    adult    Mr   \n",
       "1  47.0      1      0   363272   7.0000   NaN        S    adult   Mrs   \n",
       "2  62.0      0      0   240276   9.6875   NaN        Q    adult    Mr   \n",
       "3  27.0      0      0   315154   8.6625   NaN        S    adult    Mr   \n",
       "4  22.0      1      1  3101298  12.2875   NaN        S    adult   Mrs   \n",
       "\n",
       "   FamilySize  IsAlone Deck  \n",
       "0           1        1    M  \n",
       "1           2        0    M  \n",
       "2           1        1    M  \n",
       "3           1        1    M  \n",
       "4           3        0    M  "
      ],
      "text/html": [
       "<div>\n",
       "<style scoped>\n",
       "    .dataframe tbody tr th:only-of-type {\n",
       "        vertical-align: middle;\n",
       "    }\n",
       "\n",
       "    .dataframe tbody tr th {\n",
       "        vertical-align: top;\n",
       "    }\n",
       "\n",
       "    .dataframe thead th {\n",
       "        text-align: right;\n",
       "    }\n",
       "</style>\n",
       "<table border=\"1\" class=\"dataframe\">\n",
       "  <thead>\n",
       "    <tr style=\"text-align: right;\">\n",
       "      <th></th>\n",
       "      <th>PassengerId</th>\n",
       "      <th>Pclass</th>\n",
       "      <th>Name</th>\n",
       "      <th>Sex</th>\n",
       "      <th>Age</th>\n",
       "      <th>SibSp</th>\n",
       "      <th>Parch</th>\n",
       "      <th>Ticket</th>\n",
       "      <th>Fare</th>\n",
       "      <th>Cabin</th>\n",
       "      <th>Embarked</th>\n",
       "      <th>AgeGroup</th>\n",
       "      <th>Title</th>\n",
       "      <th>FamilySize</th>\n",
       "      <th>IsAlone</th>\n",
       "      <th>Deck</th>\n",
       "    </tr>\n",
       "  </thead>\n",
       "  <tbody>\n",
       "    <tr>\n",
       "      <th>0</th>\n",
       "      <td>892</td>\n",
       "      <td>3</td>\n",
       "      <td>Kelly, Mr. James</td>\n",
       "      <td>male</td>\n",
       "      <td>34.5</td>\n",
       "      <td>0</td>\n",
       "      <td>0</td>\n",
       "      <td>330911</td>\n",
       "      <td>7.8292</td>\n",
       "      <td>NaN</td>\n",
       "      <td>Q</td>\n",
       "      <td>adult</td>\n",
       "      <td>Mr</td>\n",
       "      <td>1</td>\n",
       "      <td>1</td>\n",
       "      <td>M</td>\n",
       "    </tr>\n",
       "    <tr>\n",
       "      <th>1</th>\n",
       "      <td>893</td>\n",
       "      <td>3</td>\n",
       "      <td>Wilkes, Mrs. James (Ellen Needs)</td>\n",
       "      <td>female</td>\n",
       "      <td>47.0</td>\n",
       "      <td>1</td>\n",
       "      <td>0</td>\n",
       "      <td>363272</td>\n",
       "      <td>7.0000</td>\n",
       "      <td>NaN</td>\n",
       "      <td>S</td>\n",
       "      <td>adult</td>\n",
       "      <td>Mrs</td>\n",
       "      <td>2</td>\n",
       "      <td>0</td>\n",
       "      <td>M</td>\n",
       "    </tr>\n",
       "    <tr>\n",
       "      <th>2</th>\n",
       "      <td>894</td>\n",
       "      <td>2</td>\n",
       "      <td>Myles, Mr. Thomas Francis</td>\n",
       "      <td>male</td>\n",
       "      <td>62.0</td>\n",
       "      <td>0</td>\n",
       "      <td>0</td>\n",
       "      <td>240276</td>\n",
       "      <td>9.6875</td>\n",
       "      <td>NaN</td>\n",
       "      <td>Q</td>\n",
       "      <td>adult</td>\n",
       "      <td>Mr</td>\n",
       "      <td>1</td>\n",
       "      <td>1</td>\n",
       "      <td>M</td>\n",
       "    </tr>\n",
       "    <tr>\n",
       "      <th>3</th>\n",
       "      <td>895</td>\n",
       "      <td>3</td>\n",
       "      <td>Wirz, Mr. Albert</td>\n",
       "      <td>male</td>\n",
       "      <td>27.0</td>\n",
       "      <td>0</td>\n",
       "      <td>0</td>\n",
       "      <td>315154</td>\n",
       "      <td>8.6625</td>\n",
       "      <td>NaN</td>\n",
       "      <td>S</td>\n",
       "      <td>adult</td>\n",
       "      <td>Mr</td>\n",
       "      <td>1</td>\n",
       "      <td>1</td>\n",
       "      <td>M</td>\n",
       "    </tr>\n",
       "    <tr>\n",
       "      <th>4</th>\n",
       "      <td>896</td>\n",
       "      <td>3</td>\n",
       "      <td>Hirvonen, Mrs. Alexander (Helga E Lindqvist)</td>\n",
       "      <td>female</td>\n",
       "      <td>22.0</td>\n",
       "      <td>1</td>\n",
       "      <td>1</td>\n",
       "      <td>3101298</td>\n",
       "      <td>12.2875</td>\n",
       "      <td>NaN</td>\n",
       "      <td>S</td>\n",
       "      <td>adult</td>\n",
       "      <td>Mrs</td>\n",
       "      <td>3</td>\n",
       "      <td>0</td>\n",
       "      <td>M</td>\n",
       "    </tr>\n",
       "  </tbody>\n",
       "</table>\n",
       "</div>"
      ]
     },
     "execution_count": 747,
     "metadata": {},
     "output_type": "execute_result"
    }
   ],
   "execution_count": 747
  },
  {
   "metadata": {
    "ExecuteTime": {
     "end_time": "2025-07-11T10:50:15.500844Z",
     "start_time": "2025-07-11T10:50:15.464699Z"
    }
   },
   "cell_type": "code",
   "source": "test_df.isna().sum()",
   "id": "fb20ebfedcf0410b",
   "outputs": [
    {
     "data": {
      "text/plain": [
       "PassengerId      0\n",
       "Pclass           0\n",
       "Name             0\n",
       "Sex              0\n",
       "Age              0\n",
       "SibSp            0\n",
       "Parch            0\n",
       "Ticket           0\n",
       "Fare             1\n",
       "Cabin          327\n",
       "Embarked         0\n",
       "AgeGroup        83\n",
       "Title            0\n",
       "FamilySize       0\n",
       "IsAlone          0\n",
       "Deck             0\n",
       "dtype: int64"
      ]
     },
     "execution_count": 748,
     "metadata": {},
     "output_type": "execute_result"
    }
   ],
   "execution_count": 748
  },
  {
   "metadata": {},
   "cell_type": "markdown",
   "source": "# Data Preprocessing",
   "id": "3f0a5fd8d490785a"
  },
  {
   "metadata": {
    "ExecuteTime": {
     "end_time": "2025-07-11T10:50:15.869236Z",
     "start_time": "2025-07-11T10:50:15.843206Z"
    }
   },
   "cell_type": "code",
   "source": [
    "#Identifying Missing Values\n",
    "df1=(train_df.isnull().sum()[train_df.isnull().sum()>0]).to_frame().rename(columns={'0':'No of Missing Values'})\n",
    "df1['% of Missing Values']=round((100*train_df.isnull().sum()[train_df.isnull().sum()>0]/len(train_df)),2)\n",
    "df1.sort_values(by='% of Missing Values', ascending=False, inplace=True)\n",
    "df1"
   ],
   "id": "9a267fcf72c10717",
   "outputs": [
    {
     "data": {
      "text/plain": [
       "            0  % of Missing Values\n",
       "Cabin     687                77.10\n",
       "AgeGroup  177                19.87\n",
       "Embarked    2                 0.22"
      ],
      "text/html": [
       "<div>\n",
       "<style scoped>\n",
       "    .dataframe tbody tr th:only-of-type {\n",
       "        vertical-align: middle;\n",
       "    }\n",
       "\n",
       "    .dataframe tbody tr th {\n",
       "        vertical-align: top;\n",
       "    }\n",
       "\n",
       "    .dataframe thead th {\n",
       "        text-align: right;\n",
       "    }\n",
       "</style>\n",
       "<table border=\"1\" class=\"dataframe\">\n",
       "  <thead>\n",
       "    <tr style=\"text-align: right;\">\n",
       "      <th></th>\n",
       "      <th>0</th>\n",
       "      <th>% of Missing Values</th>\n",
       "    </tr>\n",
       "  </thead>\n",
       "  <tbody>\n",
       "    <tr>\n",
       "      <th>Cabin</th>\n",
       "      <td>687</td>\n",
       "      <td>77.10</td>\n",
       "    </tr>\n",
       "    <tr>\n",
       "      <th>AgeGroup</th>\n",
       "      <td>177</td>\n",
       "      <td>19.87</td>\n",
       "    </tr>\n",
       "    <tr>\n",
       "      <th>Embarked</th>\n",
       "      <td>2</td>\n",
       "      <td>0.22</td>\n",
       "    </tr>\n",
       "  </tbody>\n",
       "</table>\n",
       "</div>"
      ]
     },
     "execution_count": 749,
     "metadata": {},
     "output_type": "execute_result"
    }
   ],
   "execution_count": 749
  },
  {
   "metadata": {
    "ExecuteTime": {
     "end_time": "2025-07-11T10:50:16.437743Z",
     "start_time": "2025-07-11T10:50:16.414736Z"
    }
   },
   "cell_type": "code",
   "source": [
    "#Copying passenger id of test csv as we need it in future\n",
    "pass_df=test_df[[\"PassengerId\"]]"
   ],
   "id": "2339ace639f6dbc2",
   "outputs": [],
   "execution_count": 750
  },
  {
   "metadata": {
    "ExecuteTime": {
     "end_time": "2025-07-11T10:50:17.821584Z",
     "start_time": "2025-07-11T10:50:17.807923Z"
    }
   },
   "cell_type": "code",
   "source": [
    "#Dropping Unncessary cols\n",
    "def drop_columns(df):\n",
    "    cols_to_drop=['PassengerId','Name','Ticket','Cabin']\n",
    "    for col in cols_to_drop:\n",
    "        df.drop(columns=[col],inplace=True)\n"
   ],
   "id": "62fd4d2c2f38c7a3",
   "outputs": [],
   "execution_count": 751
  },
  {
   "metadata": {
    "ExecuteTime": {
     "end_time": "2025-07-11T10:50:18.093063Z",
     "start_time": "2025-07-11T10:50:18.065207Z"
    }
   },
   "cell_type": "code",
   "source": [
    "drop_columns(train_df)\n",
    "drop_columns(test_df)"
   ],
   "id": "8c005ce6ae70df10",
   "outputs": [],
   "execution_count": 752
  },
  {
   "metadata": {
    "ExecuteTime": {
     "end_time": "2025-07-11T10:50:18.292733Z",
     "start_time": "2025-07-11T10:50:18.248412Z"
    }
   },
   "cell_type": "code",
   "source": "train_df.head()",
   "id": "a21f6c72836db5e8",
   "outputs": [
    {
     "data": {
      "text/plain": [
       "   Survived  Pclass     Sex   Age  SibSp  Parch     Fare Embarked AgeGroup  \\\n",
       "0         0       3    male  22.0      1      0   7.2500        S    adult   \n",
       "1         1       1  female  38.0      1      0  71.2833        C    adult   \n",
       "2         1       3  female  26.0      0      0   7.9250        S    adult   \n",
       "3         1       1  female  35.0      1      0  53.1000        S    adult   \n",
       "4         0       3    male  35.0      0      0   8.0500        S    adult   \n",
       "\n",
       "  Title  FamilySize  IsAlone Deck  \n",
       "0    Mr           2        0    M  \n",
       "1   Mrs           2        0  ABC  \n",
       "2  Miss           1        1    M  \n",
       "3   Mrs           2        0  ABC  \n",
       "4    Mr           1        1    M  "
      ],
      "text/html": [
       "<div>\n",
       "<style scoped>\n",
       "    .dataframe tbody tr th:only-of-type {\n",
       "        vertical-align: middle;\n",
       "    }\n",
       "\n",
       "    .dataframe tbody tr th {\n",
       "        vertical-align: top;\n",
       "    }\n",
       "\n",
       "    .dataframe thead th {\n",
       "        text-align: right;\n",
       "    }\n",
       "</style>\n",
       "<table border=\"1\" class=\"dataframe\">\n",
       "  <thead>\n",
       "    <tr style=\"text-align: right;\">\n",
       "      <th></th>\n",
       "      <th>Survived</th>\n",
       "      <th>Pclass</th>\n",
       "      <th>Sex</th>\n",
       "      <th>Age</th>\n",
       "      <th>SibSp</th>\n",
       "      <th>Parch</th>\n",
       "      <th>Fare</th>\n",
       "      <th>Embarked</th>\n",
       "      <th>AgeGroup</th>\n",
       "      <th>Title</th>\n",
       "      <th>FamilySize</th>\n",
       "      <th>IsAlone</th>\n",
       "      <th>Deck</th>\n",
       "    </tr>\n",
       "  </thead>\n",
       "  <tbody>\n",
       "    <tr>\n",
       "      <th>0</th>\n",
       "      <td>0</td>\n",
       "      <td>3</td>\n",
       "      <td>male</td>\n",
       "      <td>22.0</td>\n",
       "      <td>1</td>\n",
       "      <td>0</td>\n",
       "      <td>7.2500</td>\n",
       "      <td>S</td>\n",
       "      <td>adult</td>\n",
       "      <td>Mr</td>\n",
       "      <td>2</td>\n",
       "      <td>0</td>\n",
       "      <td>M</td>\n",
       "    </tr>\n",
       "    <tr>\n",
       "      <th>1</th>\n",
       "      <td>1</td>\n",
       "      <td>1</td>\n",
       "      <td>female</td>\n",
       "      <td>38.0</td>\n",
       "      <td>1</td>\n",
       "      <td>0</td>\n",
       "      <td>71.2833</td>\n",
       "      <td>C</td>\n",
       "      <td>adult</td>\n",
       "      <td>Mrs</td>\n",
       "      <td>2</td>\n",
       "      <td>0</td>\n",
       "      <td>ABC</td>\n",
       "    </tr>\n",
       "    <tr>\n",
       "      <th>2</th>\n",
       "      <td>1</td>\n",
       "      <td>3</td>\n",
       "      <td>female</td>\n",
       "      <td>26.0</td>\n",
       "      <td>0</td>\n",
       "      <td>0</td>\n",
       "      <td>7.9250</td>\n",
       "      <td>S</td>\n",
       "      <td>adult</td>\n",
       "      <td>Miss</td>\n",
       "      <td>1</td>\n",
       "      <td>1</td>\n",
       "      <td>M</td>\n",
       "    </tr>\n",
       "    <tr>\n",
       "      <th>3</th>\n",
       "      <td>1</td>\n",
       "      <td>1</td>\n",
       "      <td>female</td>\n",
       "      <td>35.0</td>\n",
       "      <td>1</td>\n",
       "      <td>0</td>\n",
       "      <td>53.1000</td>\n",
       "      <td>S</td>\n",
       "      <td>adult</td>\n",
       "      <td>Mrs</td>\n",
       "      <td>2</td>\n",
       "      <td>0</td>\n",
       "      <td>ABC</td>\n",
       "    </tr>\n",
       "    <tr>\n",
       "      <th>4</th>\n",
       "      <td>0</td>\n",
       "      <td>3</td>\n",
       "      <td>male</td>\n",
       "      <td>35.0</td>\n",
       "      <td>0</td>\n",
       "      <td>0</td>\n",
       "      <td>8.0500</td>\n",
       "      <td>S</td>\n",
       "      <td>adult</td>\n",
       "      <td>Mr</td>\n",
       "      <td>1</td>\n",
       "      <td>1</td>\n",
       "      <td>M</td>\n",
       "    </tr>\n",
       "  </tbody>\n",
       "</table>\n",
       "</div>"
      ]
     },
     "execution_count": 753,
     "metadata": {},
     "output_type": "execute_result"
    }
   ],
   "execution_count": 753
  },
  {
   "metadata": {
    "ExecuteTime": {
     "end_time": "2025-07-11T10:50:18.654560Z",
     "start_time": "2025-07-11T10:50:18.617159Z"
    }
   },
   "cell_type": "code",
   "source": "train_df.info()",
   "id": "992cbc01742c0322",
   "outputs": [
    {
     "name": "stdout",
     "output_type": "stream",
     "text": [
      "<class 'pandas.core.frame.DataFrame'>\n",
      "RangeIndex: 891 entries, 0 to 890\n",
      "Data columns (total 13 columns):\n",
      " #   Column      Non-Null Count  Dtype   \n",
      "---  ------      --------------  -----   \n",
      " 0   Survived    891 non-null    int64   \n",
      " 1   Pclass      891 non-null    int64   \n",
      " 2   Sex         891 non-null    object  \n",
      " 3   Age         891 non-null    float64 \n",
      " 4   SibSp       891 non-null    int64   \n",
      " 5   Parch       891 non-null    int64   \n",
      " 6   Fare        891 non-null    float64 \n",
      " 7   Embarked    889 non-null    object  \n",
      " 8   AgeGroup    714 non-null    category\n",
      " 9   Title       891 non-null    object  \n",
      " 10  FamilySize  891 non-null    int64   \n",
      " 11  IsAlone     891 non-null    int64   \n",
      " 12  Deck        891 non-null    object  \n",
      "dtypes: category(1), float64(2), int64(6), object(4)\n",
      "memory usage: 84.7+ KB\n"
     ]
    }
   ],
   "execution_count": 754
  },
  {
   "metadata": {
    "ExecuteTime": {
     "end_time": "2025-07-11T10:50:18.979385Z",
     "start_time": "2025-07-11T10:50:18.939509Z"
    }
   },
   "cell_type": "code",
   "source": "test_df.info()",
   "id": "6b2cc0c6e6997cc8",
   "outputs": [
    {
     "name": "stdout",
     "output_type": "stream",
     "text": [
      "<class 'pandas.core.frame.DataFrame'>\n",
      "RangeIndex: 418 entries, 0 to 417\n",
      "Data columns (total 12 columns):\n",
      " #   Column      Non-Null Count  Dtype   \n",
      "---  ------      --------------  -----   \n",
      " 0   Pclass      418 non-null    int64   \n",
      " 1   Sex         418 non-null    object  \n",
      " 2   Age         418 non-null    float64 \n",
      " 3   SibSp       418 non-null    int64   \n",
      " 4   Parch       418 non-null    int64   \n",
      " 5   Fare        417 non-null    float64 \n",
      " 6   Embarked    418 non-null    object  \n",
      " 7   AgeGroup    335 non-null    category\n",
      " 8   Title       418 non-null    object  \n",
      " 9   FamilySize  418 non-null    int64   \n",
      " 10  IsAlone     418 non-null    int64   \n",
      " 11  Deck        418 non-null    object  \n",
      "dtypes: category(1), float64(2), int64(5), object(4)\n",
      "memory usage: 36.7+ KB\n"
     ]
    }
   ],
   "execution_count": 755
  },
  {
   "metadata": {
    "ExecuteTime": {
     "end_time": "2025-07-11T10:50:19.403033Z",
     "start_time": "2025-07-11T10:50:19.383546Z"
    }
   },
   "cell_type": "code",
   "source": [
    "#Imputing Missing Values\n",
    "cat_cols=train_df.select_dtypes(include=['object','category']).columns.tolist()\n",
    "num_cols=train_df.select_dtypes(include=['int64','float64']).columns.tolist()"
   ],
   "id": "4cf662ce535f4c71",
   "outputs": [],
   "execution_count": 756
  },
  {
   "metadata": {
    "ExecuteTime": {
     "end_time": "2025-07-11T10:50:19.579985Z",
     "start_time": "2025-07-11T10:50:19.563845Z"
    }
   },
   "cell_type": "code",
   "source": "print(cat_cols)",
   "id": "260acf6055a75ba5",
   "outputs": [
    {
     "name": "stdout",
     "output_type": "stream",
     "text": [
      "['Sex', 'Embarked', 'AgeGroup', 'Title', 'Deck']\n"
     ]
    }
   ],
   "execution_count": 757
  },
  {
   "metadata": {
    "ExecuteTime": {
     "end_time": "2025-07-11T10:50:19.818870Z",
     "start_time": "2025-07-11T10:50:19.796270Z"
    }
   },
   "cell_type": "code",
   "source": "print(num_cols)",
   "id": "87da81694535573",
   "outputs": [
    {
     "name": "stdout",
     "output_type": "stream",
     "text": [
      "['Survived', 'Pclass', 'Age', 'SibSp', 'Parch', 'Fare', 'FamilySize', 'IsAlone']\n"
     ]
    }
   ],
   "execution_count": 758
  },
  {
   "metadata": {
    "ExecuteTime": {
     "end_time": "2025-07-11T10:50:20.043925Z",
     "start_time": "2025-07-11T10:50:20.028394Z"
    }
   },
   "cell_type": "code",
   "source": "num_cols.remove('Survived')",
   "id": "9a76b20d40ee87e4",
   "outputs": [],
   "execution_count": 759
  },
  {
   "metadata": {},
   "cell_type": "markdown",
   "source": "### Imputing Missing Values",
   "id": "6aa0cb252d818c7a"
  },
  {
   "metadata": {
    "ExecuteTime": {
     "end_time": "2025-07-11T10:50:20.196924Z",
     "start_time": "2025-07-11T10:50:20.183870Z"
    }
   },
   "cell_type": "code",
   "source": [
    "imputer1=SimpleImputer(strategy='most_frequent')\n",
    "imputer2=SimpleImputer(strategy='median')\n",
    "def fill_missing(df):\n",
    "    df[cat_cols] = imputer1.fit_transform(df[cat_cols])\n",
    "    df[num_cols] = imputer2.fit_transform(df[num_cols])\n"
   ],
   "id": "2de9c41ab46ae438",
   "outputs": [],
   "execution_count": 760
  },
  {
   "metadata": {
    "ExecuteTime": {
     "end_time": "2025-07-11T10:50:20.438610Z",
     "start_time": "2025-07-11T10:50:20.363219Z"
    }
   },
   "cell_type": "code",
   "source": [
    "fill_missing(train_df)\n",
    "fill_missing(test_df)"
   ],
   "id": "8996ff56555c9b03",
   "outputs": [],
   "execution_count": 761
  },
  {
   "metadata": {
    "ExecuteTime": {
     "end_time": "2025-07-11T10:50:20.583436Z",
     "start_time": "2025-07-11T10:50:20.561393Z"
    }
   },
   "cell_type": "code",
   "source": "train_df.isnull().sum()[train_df.isnull().sum().sum()]",
   "id": "c976a1279de1cfc5",
   "outputs": [
    {
     "data": {
      "text/plain": [
       "0"
      ]
     },
     "execution_count": 762,
     "metadata": {},
     "output_type": "execute_result"
    }
   ],
   "execution_count": 762
  },
  {
   "metadata": {
    "ExecuteTime": {
     "end_time": "2025-07-11T10:50:20.805391Z",
     "start_time": "2025-07-11T10:50:20.773698Z"
    }
   },
   "cell_type": "code",
   "source": "test_df.isnull().sum()[test_df.isnull().sum().sum()]",
   "id": "881f9e9d48624f90",
   "outputs": [
    {
     "data": {
      "text/plain": [
       "0"
      ]
     },
     "execution_count": 763,
     "metadata": {},
     "output_type": "execute_result"
    }
   ],
   "execution_count": 763
  },
  {
   "metadata": {},
   "cell_type": "markdown",
   "source": "### Checking high Cardinality Values",
   "id": "887db4ab7620d4c7"
  },
  {
   "metadata": {
    "ExecuteTime": {
     "end_time": "2025-07-11T10:50:21.033368Z",
     "start_time": "2025-07-11T10:50:21.000652Z"
    }
   },
   "cell_type": "code",
   "source": [
    "print(\"Cardinality of features in numerical data is: \")\n",
    "print(train_df.select_dtypes(include=[\"object\"]).nunique())\n",
    "print(\"\\n\",\"-\"*50)\n",
    "print(\"\\nCardinality of features in categorical data is: \")\n",
    "print(test_df.select_dtypes(include=[\"object\"]).nunique())"
   ],
   "id": "3d1ef2aa28b9eaf3",
   "outputs": [
    {
     "name": "stdout",
     "output_type": "stream",
     "text": [
      "Cardinality of features in numerical data is: \n",
      "Sex         2\n",
      "Embarked    3\n",
      "AgeGroup    4\n",
      "Title       6\n",
      "Deck        5\n",
      "dtype: int64\n",
      "\n",
      " --------------------------------------------------\n",
      "\n",
      "Cardinality of features in categorical data is: \n",
      "Sex         2\n",
      "Embarked    3\n",
      "AgeGroup    4\n",
      "Title       6\n",
      "Deck        4\n",
      "dtype: int64\n"
     ]
    }
   ],
   "execution_count": 764
  },
  {
   "metadata": {
    "ExecuteTime": {
     "end_time": "2025-07-11T10:50:21.239693Z",
     "start_time": "2025-07-11T10:50:21.164381Z"
    }
   },
   "cell_type": "code",
   "source": "train_df.info()",
   "id": "ccaca5d3d794d420",
   "outputs": [
    {
     "name": "stdout",
     "output_type": "stream",
     "text": [
      "<class 'pandas.core.frame.DataFrame'>\n",
      "RangeIndex: 891 entries, 0 to 890\n",
      "Data columns (total 13 columns):\n",
      " #   Column      Non-Null Count  Dtype  \n",
      "---  ------      --------------  -----  \n",
      " 0   Survived    891 non-null    int64  \n",
      " 1   Pclass      891 non-null    float64\n",
      " 2   Sex         891 non-null    object \n",
      " 3   Age         891 non-null    float64\n",
      " 4   SibSp       891 non-null    float64\n",
      " 5   Parch       891 non-null    float64\n",
      " 6   Fare        891 non-null    float64\n",
      " 7   Embarked    891 non-null    object \n",
      " 8   AgeGroup    891 non-null    object \n",
      " 9   Title       891 non-null    object \n",
      " 10  FamilySize  891 non-null    float64\n",
      " 11  IsAlone     891 non-null    float64\n",
      " 12  Deck        891 non-null    object \n",
      "dtypes: float64(7), int64(1), object(5)\n",
      "memory usage: 90.6+ KB\n"
     ]
    }
   ],
   "execution_count": 765
  },
  {
   "metadata": {},
   "cell_type": "markdown",
   "source": "### Encoding of variables to be used in Machine Learning Modelling",
   "id": "a5fa411505b69923"
  },
  {
   "metadata": {
    "ExecuteTime": {
     "end_time": "2025-07-11T10:50:21.557699Z",
     "start_time": "2025-07-11T10:50:21.542117Z"
    }
   },
   "cell_type": "code",
   "source": [
    "#Changing of Variables to correct datatype\n",
    "def change_variable(df):\n",
    "    df['IsAlone']=df['IsAlone'].astype('bool')\n",
    "    df['FamilySize']=df['FamilySize'].astype('int')\n",
    "    df['Parch']=df['Parch'].astype('int')\n",
    "    df['SibSp']=df['SibSp'].astype('int')\n",
    "    df['Pclass']=df['Pclass'].astype('int')\n"
   ],
   "id": "7b1a68d4c9cbcd01",
   "outputs": [],
   "execution_count": 766
  },
  {
   "metadata": {
    "ExecuteTime": {
     "end_time": "2025-07-11T10:50:22.125480Z",
     "start_time": "2025-07-11T10:50:22.023884Z"
    }
   },
   "cell_type": "code",
   "source": [
    "change_variable(train_df)\n",
    "change_variable(test_df)"
   ],
   "id": "737f1a0ab3ebf77b",
   "outputs": [],
   "execution_count": 767
  },
  {
   "metadata": {
    "ExecuteTime": {
     "end_time": "2025-07-11T10:50:23.056961Z",
     "start_time": "2025-07-11T10:50:23.040771Z"
    }
   },
   "cell_type": "code",
   "source": [
    "ordinal_cat_cols=['Deck']\n",
    "nominal_cat_cols=['Sex','Embarked','AgeGroup','Title','IsAlone']"
   ],
   "id": "9ef5c8223d66a317",
   "outputs": [],
   "execution_count": 768
  },
  {
   "metadata": {
    "ExecuteTime": {
     "end_time": "2025-07-11T10:50:23.231996Z",
     "start_time": "2025-07-11T10:50:23.203879Z"
    }
   },
   "cell_type": "code",
   "source": [
    "#Encoding Ordinal Columns\n",
    "enc=LabelEncoder()\n",
    "train_df[ordinal_cat_cols]=train_df[ordinal_cat_cols].apply(enc.fit_transform)\n",
    "test_df[ordinal_cat_cols]=test_df[ordinal_cat_cols].apply(enc.fit_transform)\n"
   ],
   "id": "31a02a7cf2cd5b36",
   "outputs": [],
   "execution_count": 769
  },
  {
   "metadata": {
    "ExecuteTime": {
     "end_time": "2025-07-11T10:50:23.460119Z",
     "start_time": "2025-07-11T10:50:23.397617Z"
    }
   },
   "cell_type": "code",
   "source": [
    "#Encoding Nominal Cols\n",
    "train_df=pd.get_dummies(train_df,columns=nominal_cat_cols,dtype=int)\n",
    "test_df=pd.get_dummies(test_df,columns=nominal_cat_cols,dtype=int)"
   ],
   "id": "eb0ee7b2b8d1ab30",
   "outputs": [],
   "execution_count": 770
  },
  {
   "metadata": {},
   "cell_type": "markdown",
   "source": "### Now our training and test datasets are fit to be modelled by our machine learning algorithms",
   "id": "7b8b5d2bc11a3092"
  },
  {
   "metadata": {
    "ExecuteTime": {
     "end_time": "2025-07-11T10:50:23.726013Z",
     "start_time": "2025-07-11T10:50:23.703898Z"
    }
   },
   "cell_type": "code",
   "source": [
    "#Splitting Training and Test Dataset\n",
    "X=train_df.drop(columns=[\"Survived\"],axis=1)\n",
    "y=train_df[\"Survived\"]"
   ],
   "id": "8f4678523fb5da75",
   "outputs": [],
   "execution_count": 771
  },
  {
   "metadata": {
    "ExecuteTime": {
     "end_time": "2025-07-11T10:50:24.046760Z",
     "start_time": "2025-07-11T10:50:24.022477Z"
    }
   },
   "cell_type": "code",
   "source": "X_train,X_test,y_train,y_test=train_test_split(X,y,test_size=0.2,random_state=42)",
   "id": "5db1a49e89c44d19",
   "outputs": [],
   "execution_count": 772
  },
  {
   "metadata": {
    "ExecuteTime": {
     "end_time": "2025-07-11T10:50:24.207165Z",
     "start_time": "2025-07-11T10:50:24.189268Z"
    }
   },
   "cell_type": "code",
   "source": "print(X_train.shape,X_test.shape,y_train.shape,y_test.shape)",
   "id": "f25a7b356220b313",
   "outputs": [
    {
     "name": "stdout",
     "output_type": "stream",
     "text": [
      "(712, 24) (179, 24) (712,) (179,)\n"
     ]
    }
   ],
   "execution_count": 773
  },
  {
   "metadata": {
    "ExecuteTime": {
     "end_time": "2025-07-11T10:50:24.416845Z",
     "start_time": "2025-07-11T10:50:24.399703Z"
    }
   },
   "cell_type": "code",
   "source": [
    "from tensorflow import keras\n",
    "from tensorflow.keras import layers\n",
    "from tensorflow.keras.layers import Dropout,Dense\n",
    "from tensorflow.keras.optimizers import Adam\n",
    "from tensorflow.keras import regularizers"
   ],
   "id": "4dddb9a6a37d5ae0",
   "outputs": [],
   "execution_count": 774
  },
  {
   "metadata": {
    "ExecuteTime": {
     "end_time": "2025-07-11T10:50:24.835591Z",
     "start_time": "2025-07-11T10:50:24.818563Z"
    }
   },
   "cell_type": "code",
   "source": [
    "def build_model():\n",
    "    model=keras.Sequential([\n",
    "        layers.Dense(128,activation='relu'),\n",
    "        layers.Dropout(0.5),\n",
    "        layers.Dense(64,activation='relu'),\n",
    "        layers.Dropout(0.5),\n",
    "        layers.Dense(32),\n",
    "        Dropout(0.5),\n",
    "        Dense(1,activation='sigmoid')])\n",
    "    regularizers.l1_l2(l1=0.0001,l2=0.0001)\n",
    "    model.compile(optimizer=Adam(learning_rate=0.001),loss='binary_crossentropy',metrics=['accuracy'])\n",
    "    history_dropout=model.fit(X_train,y_train,batch_size=256,epochs=100,verbose=1,validation_data=(X_test,y_test))\n",
    "    return model\n",
    "\n"
   ],
   "id": "d196746ef32442b6",
   "outputs": [],
   "execution_count": 775
  },
  {
   "metadata": {
    "ExecuteTime": {
     "end_time": "2025-07-11T10:50:25.006969Z",
     "start_time": "2025-07-11T10:50:24.992739Z"
    }
   },
   "cell_type": "code",
   "source": "",
   "id": "6bf424eee3a85828",
   "outputs": [],
   "execution_count": null
  },
  {
   "metadata": {
    "ExecuteTime": {
     "end_time": "2025-07-11T10:50:52.265321Z",
     "start_time": "2025-07-11T10:50:25.338425Z"
    }
   },
   "cell_type": "code",
   "source": "build_model()",
   "id": "ea9c59012865904b",
   "outputs": [
    {
     "name": "stdout",
     "output_type": "stream",
     "text": [
      "Epoch 1/100\n",
      "\u001B[1m3/3\u001B[0m \u001B[32m━━━━━━━━━━━━━━━━━━━━\u001B[0m\u001B[37m\u001B[0m \u001B[1m7s\u001B[0m 408ms/step - accuracy: 0.5398 - loss: 4.0200 - val_accuracy: 0.5866 - val_loss: 0.8036\n",
      "Epoch 2/100\n",
      "\u001B[1m3/3\u001B[0m \u001B[32m━━━━━━━━━━━━━━━━━━━━\u001B[0m\u001B[37m\u001B[0m \u001B[1m0s\u001B[0m 120ms/step - accuracy: 0.4908 - loss: 3.7460 - val_accuracy: 0.6983 - val_loss: 0.5898\n",
      "Epoch 3/100\n",
      "\u001B[1m3/3\u001B[0m \u001B[32m━━━━━━━━━━━━━━━━━━━━\u001B[0m\u001B[37m\u001B[0m \u001B[1m0s\u001B[0m 102ms/step - accuracy: 0.5260 - loss: 2.7748 - val_accuracy: 0.7039 - val_loss: 0.6153\n",
      "Epoch 4/100\n",
      "\u001B[1m3/3\u001B[0m \u001B[32m━━━━━━━━━━━━━━━━━━━━\u001B[0m\u001B[37m\u001B[0m \u001B[1m0s\u001B[0m 127ms/step - accuracy: 0.5306 - loss: 2.5299 - val_accuracy: 0.6927 - val_loss: 0.5911\n",
      "Epoch 5/100\n",
      "\u001B[1m3/3\u001B[0m \u001B[32m━━━━━━━━━━━━━━━━━━━━\u001B[0m\u001B[37m\u001B[0m \u001B[1m0s\u001B[0m 114ms/step - accuracy: 0.5722 - loss: 2.1890 - val_accuracy: 0.6760 - val_loss: 0.5923\n",
      "Epoch 6/100\n",
      "\u001B[1m3/3\u001B[0m \u001B[32m━━━━━━━━━━━━━━━━━━━━\u001B[0m\u001B[37m\u001B[0m \u001B[1m0s\u001B[0m 127ms/step - accuracy: 0.5409 - loss: 2.4734 - val_accuracy: 0.6816 - val_loss: 0.5928\n",
      "Epoch 7/100\n",
      "\u001B[1m3/3\u001B[0m \u001B[32m━━━━━━━━━━━━━━━━━━━━\u001B[0m\u001B[37m\u001B[0m \u001B[1m0s\u001B[0m 124ms/step - accuracy: 0.5292 - loss: 2.0079 - val_accuracy: 0.6816 - val_loss: 0.5854\n",
      "Epoch 8/100\n",
      "\u001B[1m3/3\u001B[0m \u001B[32m━━━━━━━━━━━━━━━━━━━━\u001B[0m\u001B[37m\u001B[0m \u001B[1m0s\u001B[0m 127ms/step - accuracy: 0.5591 - loss: 1.8479 - val_accuracy: 0.6816 - val_loss: 0.5804\n",
      "Epoch 9/100\n",
      "\u001B[1m3/3\u001B[0m \u001B[32m━━━━━━━━━━━━━━━━━━━━\u001B[0m\u001B[37m\u001B[0m \u001B[1m1s\u001B[0m 231ms/step - accuracy: 0.5524 - loss: 1.9895 - val_accuracy: 0.6760 - val_loss: 0.5794\n",
      "Epoch 10/100\n",
      "\u001B[1m3/3\u001B[0m \u001B[32m━━━━━━━━━━━━━━━━━━━━\u001B[0m\u001B[37m\u001B[0m \u001B[1m0s\u001B[0m 112ms/step - accuracy: 0.5735 - loss: 1.5936 - val_accuracy: 0.6816 - val_loss: 0.5834\n",
      "Epoch 11/100\n",
      "\u001B[1m3/3\u001B[0m \u001B[32m━━━━━━━━━━━━━━━━━━━━\u001B[0m\u001B[37m\u001B[0m \u001B[1m0s\u001B[0m 124ms/step - accuracy: 0.5874 - loss: 1.5386 - val_accuracy: 0.6592 - val_loss: 0.5915\n",
      "Epoch 12/100\n",
      "\u001B[1m3/3\u001B[0m \u001B[32m━━━━━━━━━━━━━━━━━━━━\u001B[0m\u001B[37m\u001B[0m \u001B[1m0s\u001B[0m 124ms/step - accuracy: 0.6029 - loss: 1.4484 - val_accuracy: 0.6425 - val_loss: 0.6022\n",
      "Epoch 13/100\n",
      "\u001B[1m3/3\u001B[0m \u001B[32m━━━━━━━━━━━━━━━━━━━━\u001B[0m\u001B[37m\u001B[0m \u001B[1m0s\u001B[0m 114ms/step - accuracy: 0.5918 - loss: 1.3391 - val_accuracy: 0.6145 - val_loss: 0.6150\n",
      "Epoch 14/100\n",
      "\u001B[1m3/3\u001B[0m \u001B[32m━━━━━━━━━━━━━━━━━━━━\u001B[0m\u001B[37m\u001B[0m \u001B[1m0s\u001B[0m 117ms/step - accuracy: 0.5537 - loss: 1.3021 - val_accuracy: 0.6089 - val_loss: 0.6259\n",
      "Epoch 15/100\n",
      "\u001B[1m3/3\u001B[0m \u001B[32m━━━━━━━━━━━━━━━━━━━━\u001B[0m\u001B[37m\u001B[0m \u001B[1m0s\u001B[0m 135ms/step - accuracy: 0.5832 - loss: 1.1561 - val_accuracy: 0.5978 - val_loss: 0.6353\n",
      "Epoch 16/100\n",
      "\u001B[1m3/3\u001B[0m \u001B[32m━━━━━━━━━━━━━━━━━━━━\u001B[0m\u001B[37m\u001B[0m \u001B[1m0s\u001B[0m 99ms/step - accuracy: 0.5538 - loss: 1.0760 - val_accuracy: 0.6089 - val_loss: 0.6420\n",
      "Epoch 17/100\n",
      "\u001B[1m3/3\u001B[0m \u001B[32m━━━━━━━━━━━━━━━━━━━━\u001B[0m\u001B[37m\u001B[0m \u001B[1m0s\u001B[0m 95ms/step - accuracy: 0.5834 - loss: 1.3332 - val_accuracy: 0.6145 - val_loss: 0.6481\n",
      "Epoch 18/100\n",
      "\u001B[1m3/3\u001B[0m \u001B[32m━━━━━━━━━━━━━━━━━━━━\u001B[0m\u001B[37m\u001B[0m \u001B[1m0s\u001B[0m 103ms/step - accuracy: 0.5570 - loss: 1.1386 - val_accuracy: 0.6089 - val_loss: 0.6527\n",
      "Epoch 19/100\n",
      "\u001B[1m3/3\u001B[0m \u001B[32m━━━━━━━━━━━━━━━━━━━━\u001B[0m\u001B[37m\u001B[0m \u001B[1m0s\u001B[0m 94ms/step - accuracy: 0.6012 - loss: 1.1236 - val_accuracy: 0.6034 - val_loss: 0.6576\n",
      "Epoch 20/100\n",
      "\u001B[1m3/3\u001B[0m \u001B[32m━━━━━━━━━━━━━━━━━━━━\u001B[0m\u001B[37m\u001B[0m \u001B[1m0s\u001B[0m 91ms/step - accuracy: 0.5904 - loss: 1.0204 - val_accuracy: 0.6034 - val_loss: 0.6618\n",
      "Epoch 21/100\n",
      "\u001B[1m3/3\u001B[0m \u001B[32m━━━━━━━━━━━━━━━━━━━━\u001B[0m\u001B[37m\u001B[0m \u001B[1m0s\u001B[0m 103ms/step - accuracy: 0.5947 - loss: 0.9931 - val_accuracy: 0.5922 - val_loss: 0.6644\n",
      "Epoch 22/100\n",
      "\u001B[1m3/3\u001B[0m \u001B[32m━━━━━━━━━━━━━━━━━━━━\u001B[0m\u001B[37m\u001B[0m \u001B[1m0s\u001B[0m 103ms/step - accuracy: 0.5969 - loss: 0.9199 - val_accuracy: 0.5866 - val_loss: 0.6668\n",
      "Epoch 23/100\n",
      "\u001B[1m3/3\u001B[0m \u001B[32m━━━━━━━━━━━━━━━━━━━━\u001B[0m\u001B[37m\u001B[0m \u001B[1m0s\u001B[0m 102ms/step - accuracy: 0.5908 - loss: 0.9722 - val_accuracy: 0.5810 - val_loss: 0.6681\n",
      "Epoch 24/100\n",
      "\u001B[1m3/3\u001B[0m \u001B[32m━━━━━━━━━━━━━━━━━━━━\u001B[0m\u001B[37m\u001B[0m \u001B[1m0s\u001B[0m 94ms/step - accuracy: 0.5721 - loss: 0.9628 - val_accuracy: 0.5810 - val_loss: 0.6682\n",
      "Epoch 25/100\n",
      "\u001B[1m3/3\u001B[0m \u001B[32m━━━━━━━━━━━━━━━━━━━━\u001B[0m\u001B[37m\u001B[0m \u001B[1m0s\u001B[0m 102ms/step - accuracy: 0.5780 - loss: 0.9043 - val_accuracy: 0.5866 - val_loss: 0.6683\n",
      "Epoch 26/100\n",
      "\u001B[1m3/3\u001B[0m \u001B[32m━━━━━━━━━━━━━━━━━━━━\u001B[0m\u001B[37m\u001B[0m \u001B[1m0s\u001B[0m 103ms/step - accuracy: 0.5895 - loss: 0.8914 - val_accuracy: 0.5866 - val_loss: 0.6677\n",
      "Epoch 27/100\n",
      "\u001B[1m3/3\u001B[0m \u001B[32m━━━━━━━━━━━━━━━━━━━━\u001B[0m\u001B[37m\u001B[0m \u001B[1m0s\u001B[0m 95ms/step - accuracy: 0.5660 - loss: 0.9093 - val_accuracy: 0.5866 - val_loss: 0.6673\n",
      "Epoch 28/100\n",
      "\u001B[1m3/3\u001B[0m \u001B[32m━━━━━━━━━━━━━━━━━━━━\u001B[0m\u001B[37m\u001B[0m \u001B[1m0s\u001B[0m 102ms/step - accuracy: 0.5988 - loss: 0.9355 - val_accuracy: 0.5866 - val_loss: 0.6679\n",
      "Epoch 29/100\n",
      "\u001B[1m3/3\u001B[0m \u001B[32m━━━━━━━━━━━━━━━━━━━━\u001B[0m\u001B[37m\u001B[0m \u001B[1m0s\u001B[0m 108ms/step - accuracy: 0.5978 - loss: 0.8677 - val_accuracy: 0.5810 - val_loss: 0.6685\n",
      "Epoch 30/100\n",
      "\u001B[1m3/3\u001B[0m \u001B[32m━━━━━━━━━━━━━━━━━━━━\u001B[0m\u001B[37m\u001B[0m \u001B[1m0s\u001B[0m 86ms/step - accuracy: 0.6121 - loss: 0.8438 - val_accuracy: 0.5810 - val_loss: 0.6692\n",
      "Epoch 31/100\n",
      "\u001B[1m3/3\u001B[0m \u001B[32m━━━━━━━━━━━━━━━━━━━━\u001B[0m\u001B[37m\u001B[0m \u001B[1m0s\u001B[0m 104ms/step - accuracy: 0.6116 - loss: 0.8007 - val_accuracy: 0.5866 - val_loss: 0.6696\n",
      "Epoch 32/100\n",
      "\u001B[1m3/3\u001B[0m \u001B[32m━━━━━━━━━━━━━━━━━━━━\u001B[0m\u001B[37m\u001B[0m \u001B[1m0s\u001B[0m 84ms/step - accuracy: 0.5986 - loss: 0.8785 - val_accuracy: 0.5866 - val_loss: 0.6697\n",
      "Epoch 33/100\n",
      "\u001B[1m3/3\u001B[0m \u001B[32m━━━━━━━━━━━━━━━━━━━━\u001B[0m\u001B[37m\u001B[0m \u001B[1m0s\u001B[0m 87ms/step - accuracy: 0.6096 - loss: 0.8163 - val_accuracy: 0.5866 - val_loss: 0.6697\n",
      "Epoch 34/100\n",
      "\u001B[1m3/3\u001B[0m \u001B[32m━━━━━━━━━━━━━━━━━━━━\u001B[0m\u001B[37m\u001B[0m \u001B[1m0s\u001B[0m 48ms/step - accuracy: 0.6207 - loss: 0.7874 - val_accuracy: 0.5866 - val_loss: 0.6697\n",
      "Epoch 35/100\n",
      "\u001B[1m3/3\u001B[0m \u001B[32m━━━━━━━━━━━━━━━━━━━━\u001B[0m\u001B[37m\u001B[0m \u001B[1m0s\u001B[0m 46ms/step - accuracy: 0.6425 - loss: 0.8550 - val_accuracy: 0.5866 - val_loss: 0.6697\n",
      "Epoch 36/100\n",
      "\u001B[1m3/3\u001B[0m \u001B[32m━━━━━━━━━━━━━━━━━━━━\u001B[0m\u001B[37m\u001B[0m \u001B[1m0s\u001B[0m 40ms/step - accuracy: 0.6395 - loss: 0.8065 - val_accuracy: 0.5866 - val_loss: 0.6698\n",
      "Epoch 37/100\n",
      "\u001B[1m3/3\u001B[0m \u001B[32m━━━━━━━━━━━━━━━━━━━━\u001B[0m\u001B[37m\u001B[0m \u001B[1m0s\u001B[0m 45ms/step - accuracy: 0.6310 - loss: 0.7492 - val_accuracy: 0.5866 - val_loss: 0.6699\n",
      "Epoch 38/100\n",
      "\u001B[1m3/3\u001B[0m \u001B[32m━━━━━━━━━━━━━━━━━━━━\u001B[0m\u001B[37m\u001B[0m \u001B[1m0s\u001B[0m 56ms/step - accuracy: 0.6257 - loss: 0.7867 - val_accuracy: 0.5866 - val_loss: 0.6702\n",
      "Epoch 39/100\n",
      "\u001B[1m3/3\u001B[0m \u001B[32m━━━━━━━━━━━━━━━━━━━━\u001B[0m\u001B[37m\u001B[0m \u001B[1m0s\u001B[0m 63ms/step - accuracy: 0.6739 - loss: 0.6620 - val_accuracy: 0.5866 - val_loss: 0.6706\n",
      "Epoch 40/100\n",
      "\u001B[1m3/3\u001B[0m \u001B[32m━━━━━━━━━━━━━━━━━━━━\u001B[0m\u001B[37m\u001B[0m \u001B[1m0s\u001B[0m 46ms/step - accuracy: 0.6329 - loss: 0.7281 - val_accuracy: 0.5866 - val_loss: 0.6709\n",
      "Epoch 41/100\n",
      "\u001B[1m3/3\u001B[0m \u001B[32m━━━━━━━━━━━━━━━━━━━━\u001B[0m\u001B[37m\u001B[0m \u001B[1m0s\u001B[0m 48ms/step - accuracy: 0.6517 - loss: 0.6861 - val_accuracy: 0.5866 - val_loss: 0.6712\n",
      "Epoch 42/100\n",
      "\u001B[1m3/3\u001B[0m \u001B[32m━━━━━━━━━━━━━━━━━━━━\u001B[0m\u001B[37m\u001B[0m \u001B[1m0s\u001B[0m 40ms/step - accuracy: 0.6121 - loss: 0.7200 - val_accuracy: 0.5866 - val_loss: 0.6714\n",
      "Epoch 43/100\n",
      "\u001B[1m3/3\u001B[0m \u001B[32m━━━━━━━━━━━━━━━━━━━━\u001B[0m\u001B[37m\u001B[0m \u001B[1m0s\u001B[0m 50ms/step - accuracy: 0.6192 - loss: 0.6869 - val_accuracy: 0.5866 - val_loss: 0.6714\n",
      "Epoch 44/100\n",
      "\u001B[1m3/3\u001B[0m \u001B[32m━━━━━━━━━━━━━━━━━━━━\u001B[0m\u001B[37m\u001B[0m \u001B[1m0s\u001B[0m 48ms/step - accuracy: 0.6037 - loss: 0.7222 - val_accuracy: 0.5866 - val_loss: 0.6712\n",
      "Epoch 45/100\n",
      "\u001B[1m3/3\u001B[0m \u001B[32m━━━━━━━━━━━━━━━━━━━━\u001B[0m\u001B[37m\u001B[0m \u001B[1m0s\u001B[0m 49ms/step - accuracy: 0.6017 - loss: 0.7192 - val_accuracy: 0.5866 - val_loss: 0.6710\n",
      "Epoch 46/100\n",
      "\u001B[1m3/3\u001B[0m \u001B[32m━━━━━━━━━━━━━━━━━━━━\u001B[0m\u001B[37m\u001B[0m \u001B[1m0s\u001B[0m 39ms/step - accuracy: 0.6328 - loss: 0.7727 - val_accuracy: 0.5866 - val_loss: 0.6709\n",
      "Epoch 47/100\n",
      "\u001B[1m3/3\u001B[0m \u001B[32m━━━━━━━━━━━━━━━━━━━━\u001B[0m\u001B[37m\u001B[0m \u001B[1m0s\u001B[0m 45ms/step - accuracy: 0.6139 - loss: 0.7396 - val_accuracy: 0.5866 - val_loss: 0.6707\n",
      "Epoch 48/100\n",
      "\u001B[1m3/3\u001B[0m \u001B[32m━━━━━━━━━━━━━━━━━━━━\u001B[0m\u001B[37m\u001B[0m \u001B[1m0s\u001B[0m 48ms/step - accuracy: 0.6174 - loss: 0.7212 - val_accuracy: 0.5866 - val_loss: 0.6704\n",
      "Epoch 49/100\n",
      "\u001B[1m3/3\u001B[0m \u001B[32m━━━━━━━━━━━━━━━━━━━━\u001B[0m\u001B[37m\u001B[0m \u001B[1m0s\u001B[0m 48ms/step - accuracy: 0.6303 - loss: 0.6905 - val_accuracy: 0.5866 - val_loss: 0.6702\n",
      "Epoch 50/100\n",
      "\u001B[1m3/3\u001B[0m \u001B[32m━━━━━━━━━━━━━━━━━━━━\u001B[0m\u001B[37m\u001B[0m \u001B[1m0s\u001B[0m 39ms/step - accuracy: 0.6148 - loss: 0.7922 - val_accuracy: 0.5866 - val_loss: 0.6701\n",
      "Epoch 51/100\n",
      "\u001B[1m3/3\u001B[0m \u001B[32m━━━━━━━━━━━━━━━━━━━━\u001B[0m\u001B[37m\u001B[0m \u001B[1m0s\u001B[0m 48ms/step - accuracy: 0.6438 - loss: 0.6799 - val_accuracy: 0.5866 - val_loss: 0.6698\n",
      "Epoch 52/100\n",
      "\u001B[1m3/3\u001B[0m \u001B[32m━━━━━━━━━━━━━━━━━━━━\u001B[0m\u001B[37m\u001B[0m \u001B[1m0s\u001B[0m 43ms/step - accuracy: 0.6494 - loss: 0.6659 - val_accuracy: 0.5866 - val_loss: 0.6695\n",
      "Epoch 53/100\n",
      "\u001B[1m3/3\u001B[0m \u001B[32m━━━━━━━━━━━━━━━━━━━━\u001B[0m\u001B[37m\u001B[0m \u001B[1m0s\u001B[0m 40ms/step - accuracy: 0.6287 - loss: 0.7106 - val_accuracy: 0.5866 - val_loss: 0.6691\n",
      "Epoch 54/100\n",
      "\u001B[1m3/3\u001B[0m \u001B[32m━━━━━━━━━━━━━━━━━━━━\u001B[0m\u001B[37m\u001B[0m \u001B[1m0s\u001B[0m 40ms/step - accuracy: 0.6141 - loss: 0.7253 - val_accuracy: 0.5866 - val_loss: 0.6688\n",
      "Epoch 55/100\n",
      "\u001B[1m3/3\u001B[0m \u001B[32m━━━━━━━━━━━━━━━━━━━━\u001B[0m\u001B[37m\u001B[0m \u001B[1m0s\u001B[0m 48ms/step - accuracy: 0.6131 - loss: 0.6970 - val_accuracy: 0.5866 - val_loss: 0.6686\n",
      "Epoch 56/100\n",
      "\u001B[1m3/3\u001B[0m \u001B[32m━━━━━━━━━━━━━━━━━━━━\u001B[0m\u001B[37m\u001B[0m \u001B[1m0s\u001B[0m 37ms/step - accuracy: 0.6298 - loss: 0.6818 - val_accuracy: 0.5866 - val_loss: 0.6684\n",
      "Epoch 57/100\n",
      "\u001B[1m3/3\u001B[0m \u001B[32m━━━━━━━━━━━━━━━━━━━━\u001B[0m\u001B[37m\u001B[0m \u001B[1m0s\u001B[0m 50ms/step - accuracy: 0.6089 - loss: 0.6782 - val_accuracy: 0.5866 - val_loss: 0.6681\n",
      "Epoch 58/100\n",
      "\u001B[1m3/3\u001B[0m \u001B[32m━━━━━━━━━━━━━━━━━━━━\u001B[0m\u001B[37m\u001B[0m \u001B[1m0s\u001B[0m 48ms/step - accuracy: 0.6238 - loss: 0.6581 - val_accuracy: 0.5866 - val_loss: 0.6677\n",
      "Epoch 59/100\n",
      "\u001B[1m3/3\u001B[0m \u001B[32m━━━━━━━━━━━━━━━━━━━━\u001B[0m\u001B[37m\u001B[0m \u001B[1m0s\u001B[0m 48ms/step - accuracy: 0.6395 - loss: 0.7188 - val_accuracy: 0.5866 - val_loss: 0.6674\n",
      "Epoch 60/100\n",
      "\u001B[1m3/3\u001B[0m \u001B[32m━━━━━━━━━━━━━━━━━━━━\u001B[0m\u001B[37m\u001B[0m \u001B[1m0s\u001B[0m 46ms/step - accuracy: 0.6121 - loss: 0.6659 - val_accuracy: 0.5866 - val_loss: 0.6672\n",
      "Epoch 61/100\n",
      "\u001B[1m3/3\u001B[0m \u001B[32m━━━━━━━━━━━━━━━━━━━━\u001B[0m\u001B[37m\u001B[0m \u001B[1m0s\u001B[0m 46ms/step - accuracy: 0.6436 - loss: 0.6412 - val_accuracy: 0.5866 - val_loss: 0.6669\n",
      "Epoch 62/100\n",
      "\u001B[1m3/3\u001B[0m \u001B[32m━━━━━━━━━━━━━━━━━━━━\u001B[0m\u001B[37m\u001B[0m \u001B[1m0s\u001B[0m 45ms/step - accuracy: 0.6115 - loss: 0.6693 - val_accuracy: 0.5866 - val_loss: 0.6664\n",
      "Epoch 63/100\n",
      "\u001B[1m3/3\u001B[0m \u001B[32m━━━━━━━━━━━━━━━━━━━━\u001B[0m\u001B[37m\u001B[0m \u001B[1m0s\u001B[0m 47ms/step - accuracy: 0.6281 - loss: 0.7051 - val_accuracy: 0.5866 - val_loss: 0.6659\n",
      "Epoch 64/100\n",
      "\u001B[1m3/3\u001B[0m \u001B[32m━━━━━━━━━━━━━━━━━━━━\u001B[0m\u001B[37m\u001B[0m \u001B[1m0s\u001B[0m 48ms/step - accuracy: 0.6132 - loss: 0.7155 - val_accuracy: 0.5866 - val_loss: 0.6656\n",
      "Epoch 65/100\n",
      "\u001B[1m3/3\u001B[0m \u001B[32m━━━━━━━━━━━━━━━━━━━━\u001B[0m\u001B[37m\u001B[0m \u001B[1m0s\u001B[0m 53ms/step - accuracy: 0.6143 - loss: 0.6953 - val_accuracy: 0.5866 - val_loss: 0.6653\n",
      "Epoch 66/100\n",
      "\u001B[1m3/3\u001B[0m \u001B[32m━━━━━━━━━━━━━━━━━━━━\u001B[0m\u001B[37m\u001B[0m \u001B[1m0s\u001B[0m 40ms/step - accuracy: 0.6516 - loss: 0.6327 - val_accuracy: 0.5866 - val_loss: 0.6649\n",
      "Epoch 67/100\n",
      "\u001B[1m3/3\u001B[0m \u001B[32m━━━━━━━━━━━━━━━━━━━━\u001B[0m\u001B[37m\u001B[0m \u001B[1m0s\u001B[0m 39ms/step - accuracy: 0.6059 - loss: 0.6763 - val_accuracy: 0.5866 - val_loss: 0.6643\n",
      "Epoch 68/100\n",
      "\u001B[1m3/3\u001B[0m \u001B[32m━━━━━━━━━━━━━━━━━━━━\u001B[0m\u001B[37m\u001B[0m \u001B[1m0s\u001B[0m 40ms/step - accuracy: 0.6338 - loss: 0.6605 - val_accuracy: 0.5866 - val_loss: 0.6638\n",
      "Epoch 69/100\n",
      "\u001B[1m3/3\u001B[0m \u001B[32m━━━━━━━━━━━━━━━━━━━━\u001B[0m\u001B[37m\u001B[0m \u001B[1m0s\u001B[0m 49ms/step - accuracy: 0.6299 - loss: 0.6607 - val_accuracy: 0.5866 - val_loss: 0.6631\n",
      "Epoch 70/100\n",
      "\u001B[1m3/3\u001B[0m \u001B[32m━━━━━━━━━━━━━━━━━━━━\u001B[0m\u001B[37m\u001B[0m \u001B[1m0s\u001B[0m 43ms/step - accuracy: 0.6214 - loss: 0.6626 - val_accuracy: 0.5866 - val_loss: 0.6623\n",
      "Epoch 71/100\n",
      "\u001B[1m3/3\u001B[0m \u001B[32m━━━━━━━━━━━━━━━━━━━━\u001B[0m\u001B[37m\u001B[0m \u001B[1m0s\u001B[0m 39ms/step - accuracy: 0.6308 - loss: 0.6654 - val_accuracy: 0.5866 - val_loss: 0.6616\n",
      "Epoch 72/100\n",
      "\u001B[1m3/3\u001B[0m \u001B[32m━━━━━━━━━━━━━━━━━━━━\u001B[0m\u001B[37m\u001B[0m \u001B[1m0s\u001B[0m 48ms/step - accuracy: 0.6351 - loss: 0.6842 - val_accuracy: 0.5866 - val_loss: 0.6609\n",
      "Epoch 73/100\n",
      "\u001B[1m3/3\u001B[0m \u001B[32m━━━━━━━━━━━━━━━━━━━━\u001B[0m\u001B[37m\u001B[0m \u001B[1m0s\u001B[0m 42ms/step - accuracy: 0.6254 - loss: 0.6726 - val_accuracy: 0.5866 - val_loss: 0.6602\n",
      "Epoch 74/100\n",
      "\u001B[1m3/3\u001B[0m \u001B[32m━━━━━━━━━━━━━━━━━━━━\u001B[0m\u001B[37m\u001B[0m \u001B[1m0s\u001B[0m 52ms/step - accuracy: 0.6241 - loss: 0.6555 - val_accuracy: 0.5866 - val_loss: 0.6592\n",
      "Epoch 75/100\n",
      "\u001B[1m3/3\u001B[0m \u001B[32m━━━━━━━━━━━━━━━━━━━━\u001B[0m\u001B[37m\u001B[0m \u001B[1m0s\u001B[0m 50ms/step - accuracy: 0.6082 - loss: 0.6948 - val_accuracy: 0.5866 - val_loss: 0.6586\n",
      "Epoch 76/100\n",
      "\u001B[1m3/3\u001B[0m \u001B[32m━━━━━━━━━━━━━━━━━━━━\u001B[0m\u001B[37m\u001B[0m \u001B[1m0s\u001B[0m 40ms/step - accuracy: 0.6520 - loss: 0.6498 - val_accuracy: 0.5866 - val_loss: 0.6583\n",
      "Epoch 77/100\n",
      "\u001B[1m3/3\u001B[0m \u001B[32m━━━━━━━━━━━━━━━━━━━━\u001B[0m\u001B[37m\u001B[0m \u001B[1m0s\u001B[0m 48ms/step - accuracy: 0.6130 - loss: 0.6719 - val_accuracy: 0.5866 - val_loss: 0.6580\n",
      "Epoch 78/100\n",
      "\u001B[1m3/3\u001B[0m \u001B[32m━━━━━━━━━━━━━━━━━━━━\u001B[0m\u001B[37m\u001B[0m \u001B[1m0s\u001B[0m 47ms/step - accuracy: 0.6339 - loss: 0.6716 - val_accuracy: 0.5866 - val_loss: 0.6578\n",
      "Epoch 79/100\n",
      "\u001B[1m3/3\u001B[0m \u001B[32m━━━━━━━━━━━━━━━━━━━━\u001B[0m\u001B[37m\u001B[0m \u001B[1m0s\u001B[0m 49ms/step - accuracy: 0.6033 - loss: 0.6804 - val_accuracy: 0.5866 - val_loss: 0.6575\n",
      "Epoch 80/100\n",
      "\u001B[1m3/3\u001B[0m \u001B[32m━━━━━━━━━━━━━━━━━━━━\u001B[0m\u001B[37m\u001B[0m \u001B[1m0s\u001B[0m 55ms/step - accuracy: 0.6496 - loss: 0.6404 - val_accuracy: 0.5866 - val_loss: 0.6571\n",
      "Epoch 81/100\n",
      "\u001B[1m3/3\u001B[0m \u001B[32m━━━━━━━━━━━━━━━━━━━━\u001B[0m\u001B[37m\u001B[0m \u001B[1m0s\u001B[0m 56ms/step - accuracy: 0.6305 - loss: 0.6617 - val_accuracy: 0.5866 - val_loss: 0.6568\n",
      "Epoch 82/100\n",
      "\u001B[1m3/3\u001B[0m \u001B[32m━━━━━━━━━━━━━━━━━━━━\u001B[0m\u001B[37m\u001B[0m \u001B[1m0s\u001B[0m 55ms/step - accuracy: 0.6390 - loss: 0.6574 - val_accuracy: 0.5866 - val_loss: 0.6561\n",
      "Epoch 83/100\n",
      "\u001B[1m3/3\u001B[0m \u001B[32m━━━━━━━━━━━━━━━━━━━━\u001B[0m\u001B[37m\u001B[0m \u001B[1m0s\u001B[0m 55ms/step - accuracy: 0.6367 - loss: 0.6588 - val_accuracy: 0.5866 - val_loss: 0.6555\n",
      "Epoch 84/100\n",
      "\u001B[1m3/3\u001B[0m \u001B[32m━━━━━━━━━━━━━━━━━━━━\u001B[0m\u001B[37m\u001B[0m \u001B[1m0s\u001B[0m 39ms/step - accuracy: 0.6302 - loss: 0.6429 - val_accuracy: 0.5866 - val_loss: 0.6548\n",
      "Epoch 85/100\n",
      "\u001B[1m3/3\u001B[0m \u001B[32m━━━━━━━━━━━━━━━━━━━━\u001B[0m\u001B[37m\u001B[0m \u001B[1m0s\u001B[0m 55ms/step - accuracy: 0.6361 - loss: 0.6763 - val_accuracy: 0.5866 - val_loss: 0.6543\n",
      "Epoch 86/100\n",
      "\u001B[1m3/3\u001B[0m \u001B[32m━━━━━━━━━━━━━━━━━━━━\u001B[0m\u001B[37m\u001B[0m \u001B[1m0s\u001B[0m 42ms/step - accuracy: 0.6247 - loss: 0.6642 - val_accuracy: 0.5866 - val_loss: 0.6541\n",
      "Epoch 87/100\n",
      "\u001B[1m3/3\u001B[0m \u001B[32m━━━━━━━━━━━━━━━━━━━━\u001B[0m\u001B[37m\u001B[0m \u001B[1m0s\u001B[0m 46ms/step - accuracy: 0.6180 - loss: 0.6545 - val_accuracy: 0.5866 - val_loss: 0.6541\n",
      "Epoch 88/100\n",
      "\u001B[1m3/3\u001B[0m \u001B[32m━━━━━━━━━━━━━━━━━━━━\u001B[0m\u001B[37m\u001B[0m \u001B[1m0s\u001B[0m 47ms/step - accuracy: 0.6119 - loss: 0.7028 - val_accuracy: 0.5866 - val_loss: 0.6544\n",
      "Epoch 89/100\n",
      "\u001B[1m3/3\u001B[0m \u001B[32m━━━━━━━━━━━━━━━━━━━━\u001B[0m\u001B[37m\u001B[0m \u001B[1m0s\u001B[0m 50ms/step - accuracy: 0.6091 - loss: 0.6750 - val_accuracy: 0.5866 - val_loss: 0.6545\n",
      "Epoch 90/100\n",
      "\u001B[1m3/3\u001B[0m \u001B[32m━━━━━━━━━━━━━━━━━━━━\u001B[0m\u001B[37m\u001B[0m \u001B[1m0s\u001B[0m 46ms/step - accuracy: 0.6204 - loss: 0.6735 - val_accuracy: 0.5866 - val_loss: 0.6546\n",
      "Epoch 91/100\n",
      "\u001B[1m3/3\u001B[0m \u001B[32m━━━━━━━━━━━━━━━━━━━━\u001B[0m\u001B[37m\u001B[0m \u001B[1m0s\u001B[0m 48ms/step - accuracy: 0.6372 - loss: 0.6311 - val_accuracy: 0.5866 - val_loss: 0.6542\n",
      "Epoch 92/100\n",
      "\u001B[1m3/3\u001B[0m \u001B[32m━━━━━━━━━━━━━━━━━━━━\u001B[0m\u001B[37m\u001B[0m \u001B[1m0s\u001B[0m 43ms/step - accuracy: 0.6151 - loss: 0.6547 - val_accuracy: 0.5866 - val_loss: 0.6533\n",
      "Epoch 93/100\n",
      "\u001B[1m3/3\u001B[0m \u001B[32m━━━━━━━━━━━━━━━━━━━━\u001B[0m\u001B[37m\u001B[0m \u001B[1m0s\u001B[0m 31ms/step - accuracy: 0.6398 - loss: 0.6335 - val_accuracy: 0.5866 - val_loss: 0.6523\n",
      "Epoch 94/100\n",
      "\u001B[1m3/3\u001B[0m \u001B[32m━━━━━━━━━━━━━━━━━━━━\u001B[0m\u001B[37m\u001B[0m \u001B[1m0s\u001B[0m 39ms/step - accuracy: 0.6416 - loss: 0.6604 - val_accuracy: 0.5866 - val_loss: 0.6518\n",
      "Epoch 95/100\n",
      "\u001B[1m3/3\u001B[0m \u001B[32m━━━━━━━━━━━━━━━━━━━━\u001B[0m\u001B[37m\u001B[0m \u001B[1m0s\u001B[0m 47ms/step - accuracy: 0.6425 - loss: 0.6325 - val_accuracy: 0.5866 - val_loss: 0.6511\n",
      "Epoch 96/100\n",
      "\u001B[1m3/3\u001B[0m \u001B[32m━━━━━━━━━━━━━━━━━━━━\u001B[0m\u001B[37m\u001B[0m \u001B[1m0s\u001B[0m 47ms/step - accuracy: 0.6483 - loss: 0.6354 - val_accuracy: 0.5866 - val_loss: 0.6503\n",
      "Epoch 97/100\n",
      "\u001B[1m3/3\u001B[0m \u001B[32m━━━━━━━━━━━━━━━━━━━━\u001B[0m\u001B[37m\u001B[0m \u001B[1m0s\u001B[0m 39ms/step - accuracy: 0.6276 - loss: 0.6372 - val_accuracy: 0.5866 - val_loss: 0.6491\n",
      "Epoch 98/100\n",
      "\u001B[1m3/3\u001B[0m \u001B[32m━━━━━━━━━━━━━━━━━━━━\u001B[0m\u001B[37m\u001B[0m \u001B[1m0s\u001B[0m 47ms/step - accuracy: 0.6319 - loss: 0.6390 - val_accuracy: 0.5866 - val_loss: 0.6482\n",
      "Epoch 99/100\n",
      "\u001B[1m3/3\u001B[0m \u001B[32m━━━━━━━━━━━━━━━━━━━━\u001B[0m\u001B[37m\u001B[0m \u001B[1m0s\u001B[0m 43ms/step - accuracy: 0.6449 - loss: 0.6431 - val_accuracy: 0.5866 - val_loss: 0.6476\n",
      "Epoch 100/100\n",
      "\u001B[1m3/3\u001B[0m \u001B[32m━━━━━━━━━━━━━━━━━━━━\u001B[0m\u001B[37m\u001B[0m \u001B[1m0s\u001B[0m 47ms/step - accuracy: 0.6229 - loss: 0.6442 - val_accuracy: 0.5866 - val_loss: 0.6467\n"
     ]
    },
    {
     "data": {
      "text/plain": [
       "<Sequential name=sequential_14, built=True>"
      ]
     },
     "execution_count": 776,
     "metadata": {},
     "output_type": "execute_result"
    }
   ],
   "execution_count": 776
  }
 ],
 "metadata": {
  "kernelspec": {
   "display_name": "Python 3",
   "language": "python",
   "name": "python3"
  },
  "language_info": {
   "codemirror_mode": {
    "name": "ipython",
    "version": 2
   },
   "file_extension": ".py",
   "mimetype": "text/x-python",
   "name": "python",
   "nbconvert_exporter": "python",
   "pygments_lexer": "ipython2",
   "version": "2.7.6"
  }
 },
 "nbformat": 4,
 "nbformat_minor": 5
}
