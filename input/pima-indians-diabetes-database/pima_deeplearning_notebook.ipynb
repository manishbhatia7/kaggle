{
 "cells": [
  {
   "cell_type": "code",
   "execution_count": 1,
   "id": "1a30ba49",
   "metadata": {
    "ExecuteTime": {
     "end_time": "2025-07-18T10:23:06.900554Z",
     "start_time": "2025-07-18T10:23:06.891088Z"
    },
    "execution": {
     "iopub.execute_input": "2025-07-18T10:33:35.876614Z",
     "iopub.status.busy": "2025-07-18T10:33:35.876235Z",
     "iopub.status.idle": "2025-07-18T10:33:37.813594Z",
     "shell.execute_reply": "2025-07-18T10:33:37.812760Z"
    },
    "papermill": {
     "duration": 1.943995,
     "end_time": "2025-07-18T10:33:37.815181",
     "exception": false,
     "start_time": "2025-07-18T10:33:35.871186",
     "status": "completed"
    },
    "tags": []
   },
   "outputs": [],
   "source": [
    "import pandas as pd"
   ]
  },
  {
   "cell_type": "code",
   "execution_count": 2,
   "id": "d75f52c9",
   "metadata": {
    "ExecuteTime": {
     "end_time": "2025-07-18T10:23:06.927985Z",
     "start_time": "2025-07-18T10:23:06.917565Z"
    },
    "execution": {
     "iopub.execute_input": "2025-07-18T10:33:37.823135Z",
     "iopub.status.busy": "2025-07-18T10:33:37.822701Z",
     "iopub.status.idle": "2025-07-18T10:33:37.850693Z",
     "shell.execute_reply": "2025-07-18T10:33:37.849710Z"
    },
    "papermill": {
     "duration": 0.033625,
     "end_time": "2025-07-18T10:33:37.852314",
     "exception": false,
     "start_time": "2025-07-18T10:33:37.818689",
     "status": "completed"
    },
    "tags": []
   },
   "outputs": [],
   "source": [
    "data=pd.read_csv('/kaggle/input/pima-indians-diabetes-database/diabetes.csv')"
   ]
  },
  {
   "cell_type": "code",
   "execution_count": 3,
   "id": "a10c788a",
   "metadata": {
    "ExecuteTime": {
     "end_time": "2025-07-18T10:23:06.951407Z",
     "start_time": "2025-07-18T10:23:06.945466Z"
    },
    "execution": {
     "iopub.execute_input": "2025-07-18T10:33:37.860101Z",
     "iopub.status.busy": "2025-07-18T10:33:37.859789Z",
     "iopub.status.idle": "2025-07-18T10:33:37.868274Z",
     "shell.execute_reply": "2025-07-18T10:33:37.864580Z"
    },
    "papermill": {
     "duration": 0.015084,
     "end_time": "2025-07-18T10:33:37.870722",
     "exception": false,
     "start_time": "2025-07-18T10:33:37.855638",
     "status": "completed"
    },
    "tags": []
   },
   "outputs": [
    {
     "name": "stdout",
     "output_type": "stream",
     "text": [
      "(768, 9)\n"
     ]
    }
   ],
   "source": [
    "print(data.shape)"
   ]
  },
  {
   "cell_type": "code",
   "execution_count": 4,
   "id": "5e63cac4",
   "metadata": {
    "ExecuteTime": {
     "end_time": "2025-07-18T10:23:06.996218Z",
     "start_time": "2025-07-18T10:23:06.989724Z"
    },
    "execution": {
     "iopub.execute_input": "2025-07-18T10:33:37.884419Z",
     "iopub.status.busy": "2025-07-18T10:33:37.883473Z",
     "iopub.status.idle": "2025-07-18T10:33:37.888994Z",
     "shell.execute_reply": "2025-07-18T10:33:37.887864Z"
    },
    "papermill": {
     "duration": 0.014806,
     "end_time": "2025-07-18T10:33:37.891109",
     "exception": false,
     "start_time": "2025-07-18T10:33:37.876303",
     "status": "completed"
    },
    "tags": []
   },
   "outputs": [],
   "source": [
    "import numpy as np\n",
    "seed=7\n",
    "np.random.seed(seed)"
   ]
  },
  {
   "cell_type": "code",
   "execution_count": 5,
   "id": "bb9704a0",
   "metadata": {
    "ExecuteTime": {
     "end_time": "2025-07-18T10:23:07.055665Z",
     "start_time": "2025-07-18T10:23:07.049243Z"
    },
    "execution": {
     "iopub.execute_input": "2025-07-18T10:33:37.903450Z",
     "iopub.status.busy": "2025-07-18T10:33:37.902961Z",
     "iopub.status.idle": "2025-07-18T10:33:56.955916Z",
     "shell.execute_reply": "2025-07-18T10:33:56.954910Z"
    },
    "papermill": {
     "duration": 19.062757,
     "end_time": "2025-07-18T10:33:56.957802",
     "exception": false,
     "start_time": "2025-07-18T10:33:37.895045",
     "status": "completed"
    },
    "tags": []
   },
   "outputs": [
    {
     "name": "stderr",
     "output_type": "stream",
     "text": [
      "2025-07-18 10:33:40.021609: E external/local_xla/xla/stream_executor/cuda/cuda_fft.cc:477] Unable to register cuFFT factory: Attempting to register factory for plugin cuFFT when one has already been registered\n",
      "WARNING: All log messages before absl::InitializeLog() is called are written to STDERR\n",
      "E0000 00:00:1752834820.292253      13 cuda_dnn.cc:8310] Unable to register cuDNN factory: Attempting to register factory for plugin cuDNN when one has already been registered\n",
      "E0000 00:00:1752834820.366962      13 cuda_blas.cc:1418] Unable to register cuBLAS factory: Attempting to register factory for plugin cuBLAS when one has already been registered\n"
     ]
    }
   ],
   "source": [
    "from keras.models import Sequential\n",
    "from keras import layers, Input\n",
    "from keras.layers import Dropout,Dense\n",
    "from keras import Input"
   ]
  },
  {
   "cell_type": "code",
   "execution_count": 6,
   "id": "99f315f5",
   "metadata": {
    "ExecuteTime": {
     "end_time": "2025-07-18T10:23:07.087206Z",
     "start_time": "2025-07-18T10:23:07.077546Z"
    },
    "execution": {
     "iopub.execute_input": "2025-07-18T10:33:56.965804Z",
     "iopub.status.busy": "2025-07-18T10:33:56.965174Z",
     "iopub.status.idle": "2025-07-18T10:33:56.992456Z",
     "shell.execute_reply": "2025-07-18T10:33:56.991570Z"
    },
    "papermill": {
     "duration": 0.032937,
     "end_time": "2025-07-18T10:33:56.994038",
     "exception": false,
     "start_time": "2025-07-18T10:33:56.961101",
     "status": "completed"
    },
    "tags": []
   },
   "outputs": [
    {
     "data": {
      "text/html": [
       "<div>\n",
       "<style scoped>\n",
       "    .dataframe tbody tr th:only-of-type {\n",
       "        vertical-align: middle;\n",
       "    }\n",
       "\n",
       "    .dataframe tbody tr th {\n",
       "        vertical-align: top;\n",
       "    }\n",
       "\n",
       "    .dataframe thead th {\n",
       "        text-align: right;\n",
       "    }\n",
       "</style>\n",
       "<table border=\"1\" class=\"dataframe\">\n",
       "  <thead>\n",
       "    <tr style=\"text-align: right;\">\n",
       "      <th></th>\n",
       "      <th>Pregnancies</th>\n",
       "      <th>Glucose</th>\n",
       "      <th>BloodPressure</th>\n",
       "      <th>SkinThickness</th>\n",
       "      <th>Insulin</th>\n",
       "      <th>BMI</th>\n",
       "      <th>DiabetesPedigreeFunction</th>\n",
       "      <th>Age</th>\n",
       "      <th>Outcome</th>\n",
       "    </tr>\n",
       "  </thead>\n",
       "  <tbody>\n",
       "    <tr>\n",
       "      <th>0</th>\n",
       "      <td>6</td>\n",
       "      <td>148</td>\n",
       "      <td>72</td>\n",
       "      <td>35</td>\n",
       "      <td>0</td>\n",
       "      <td>33.6</td>\n",
       "      <td>0.627</td>\n",
       "      <td>50</td>\n",
       "      <td>1</td>\n",
       "    </tr>\n",
       "  </tbody>\n",
       "</table>\n",
       "</div>"
      ],
      "text/plain": [
       "   Pregnancies  Glucose  BloodPressure  SkinThickness  Insulin   BMI  \\\n",
       "0            6      148             72             35        0  33.6   \n",
       "\n",
       "   DiabetesPedigreeFunction  Age  Outcome  \n",
       "0                     0.627   50        1  "
      ]
     },
     "execution_count": 6,
     "metadata": {},
     "output_type": "execute_result"
    }
   ],
   "source": [
    "data.head(1)"
   ]
  },
  {
   "cell_type": "code",
   "execution_count": null,
   "id": "fbc0c789",
   "metadata": {
    "ExecuteTime": {
     "end_time": "2025-07-18T10:23:07.165452Z",
     "start_time": "2025-07-18T10:23:07.162174Z"
    },
    "papermill": {
     "duration": 0.002933,
     "end_time": "2025-07-18T10:33:57.000471",
     "exception": false,
     "start_time": "2025-07-18T10:33:56.997538",
     "status": "completed"
    },
    "tags": []
   },
   "outputs": [],
   "source": []
  },
  {
   "cell_type": "code",
   "execution_count": 7,
   "id": "df384480",
   "metadata": {
    "ExecuteTime": {
     "end_time": "2025-07-18T10:23:07.408878Z",
     "start_time": "2025-07-18T10:23:07.403736Z"
    },
    "execution": {
     "iopub.execute_input": "2025-07-18T10:33:57.008146Z",
     "iopub.status.busy": "2025-07-18T10:33:57.007814Z",
     "iopub.status.idle": "2025-07-18T10:33:57.016747Z",
     "shell.execute_reply": "2025-07-18T10:33:57.015796Z"
    },
    "papermill": {
     "duration": 0.014465,
     "end_time": "2025-07-18T10:33:57.018131",
     "exception": false,
     "start_time": "2025-07-18T10:33:57.003666",
     "status": "completed"
    },
    "tags": []
   },
   "outputs": [],
   "source": [
    "X=data.iloc[:,:-1].values\n",
    "y=data.iloc[:,-1].values"
   ]
  },
  {
   "cell_type": "code",
   "execution_count": 8,
   "id": "e10fd99b",
   "metadata": {
    "ExecuteTime": {
     "end_time": "2025-07-18T10:23:07.504896Z",
     "start_time": "2025-07-18T10:23:07.462984Z"
    },
    "execution": {
     "iopub.execute_input": "2025-07-18T10:33:57.026902Z",
     "iopub.status.busy": "2025-07-18T10:33:57.026550Z",
     "iopub.status.idle": "2025-07-18T10:33:57.145362Z",
     "shell.execute_reply": "2025-07-18T10:33:57.144478Z"
    },
    "papermill": {
     "duration": 0.125317,
     "end_time": "2025-07-18T10:33:57.147047",
     "exception": false,
     "start_time": "2025-07-18T10:33:57.021730",
     "status": "completed"
    },
    "tags": []
   },
   "outputs": [
    {
     "name": "stderr",
     "output_type": "stream",
     "text": [
      "2025-07-18 10:33:57.037274: E external/local_xla/xla/stream_executor/cuda/cuda_driver.cc:152] failed call to cuInit: INTERNAL: CUDA error: Failed call to cuInit: UNKNOWN ERROR (303)\n"
     ]
    }
   ],
   "source": [
    "model=Sequential()\n",
    "model.add(Input(shape=(8,))),\n",
    "model.add(Dense(8,kernel_initializer='uniform',activation='relu')),\n",
    "model.add(Dropout(0.1)),\n",
    "model.add(Dense(4,kernel_initializer='uniform',activation='relu')),\n",
    "model.add(Dropout(0.1)),\n",
    "model.add(Dense(1,kernel_initializer='uniform',activation='sigmoid'))\n"
   ]
  },
  {
   "cell_type": "code",
   "execution_count": 9,
   "id": "58ce603a",
   "metadata": {
    "ExecuteTime": {
     "end_time": "2025-07-18T10:23:07.531975Z",
     "start_time": "2025-07-18T10:23:07.522397Z"
    },
    "execution": {
     "iopub.execute_input": "2025-07-18T10:33:57.155568Z",
     "iopub.status.busy": "2025-07-18T10:33:57.155092Z",
     "iopub.status.idle": "2025-07-18T10:33:57.170643Z",
     "shell.execute_reply": "2025-07-18T10:33:57.169654Z"
    },
    "papermill": {
     "duration": 0.021826,
     "end_time": "2025-07-18T10:33:57.172335",
     "exception": false,
     "start_time": "2025-07-18T10:33:57.150509",
     "status": "completed"
    },
    "tags": []
   },
   "outputs": [],
   "source": [
    "model.compile(loss='binary_crossentropy',optimizer= 'adam' ,metrics=['accuracy'])"
   ]
  },
  {
   "cell_type": "code",
   "execution_count": 10,
   "id": "f1697db1",
   "metadata": {
    "ExecuteTime": {
     "end_time": "2025-07-18T10:23:07.583306Z",
     "start_time": "2025-07-18T10:23:07.561943Z"
    },
    "execution": {
     "iopub.execute_input": "2025-07-18T10:33:57.181286Z",
     "iopub.status.busy": "2025-07-18T10:33:57.180737Z",
     "iopub.status.idle": "2025-07-18T10:33:57.200097Z",
     "shell.execute_reply": "2025-07-18T10:33:57.198862Z"
    },
    "papermill": {
     "duration": 0.025208,
     "end_time": "2025-07-18T10:33:57.201881",
     "exception": false,
     "start_time": "2025-07-18T10:33:57.176673",
     "status": "completed"
    },
    "tags": []
   },
   "outputs": [
    {
     "data": {
      "text/html": [
       "<pre style=\"white-space:pre;overflow-x:auto;line-height:normal;font-family:Menlo,'DejaVu Sans Mono',consolas,'Courier New',monospace\"><span style=\"font-weight: bold\">Model: \"sequential\"</span>\n",
       "</pre>\n"
      ],
      "text/plain": [
       "\u001b[1mModel: \"sequential\"\u001b[0m\n"
      ]
     },
     "metadata": {},
     "output_type": "display_data"
    },
    {
     "data": {
      "text/html": [
       "<pre style=\"white-space:pre;overflow-x:auto;line-height:normal;font-family:Menlo,'DejaVu Sans Mono',consolas,'Courier New',monospace\">┏━━━━━━━━━━━━━━━━━━━━━━━━━━━━━━━━━┳━━━━━━━━━━━━━━━━━━━━━━━━┳━━━━━━━━━━━━━━━┓\n",
       "┃<span style=\"font-weight: bold\"> Layer (type)                    </span>┃<span style=\"font-weight: bold\"> Output Shape           </span>┃<span style=\"font-weight: bold\">       Param # </span>┃\n",
       "┡━━━━━━━━━━━━━━━━━━━━━━━━━━━━━━━━━╇━━━━━━━━━━━━━━━━━━━━━━━━╇━━━━━━━━━━━━━━━┩\n",
       "│ dense (<span style=\"color: #0087ff; text-decoration-color: #0087ff\">Dense</span>)                   │ (<span style=\"color: #00d7ff; text-decoration-color: #00d7ff\">None</span>, <span style=\"color: #00af00; text-decoration-color: #00af00\">8</span>)              │            <span style=\"color: #00af00; text-decoration-color: #00af00\">72</span> │\n",
       "├─────────────────────────────────┼────────────────────────┼───────────────┤\n",
       "│ dropout (<span style=\"color: #0087ff; text-decoration-color: #0087ff\">Dropout</span>)               │ (<span style=\"color: #00d7ff; text-decoration-color: #00d7ff\">None</span>, <span style=\"color: #00af00; text-decoration-color: #00af00\">8</span>)              │             <span style=\"color: #00af00; text-decoration-color: #00af00\">0</span> │\n",
       "├─────────────────────────────────┼────────────────────────┼───────────────┤\n",
       "│ dense_1 (<span style=\"color: #0087ff; text-decoration-color: #0087ff\">Dense</span>)                 │ (<span style=\"color: #00d7ff; text-decoration-color: #00d7ff\">None</span>, <span style=\"color: #00af00; text-decoration-color: #00af00\">4</span>)              │            <span style=\"color: #00af00; text-decoration-color: #00af00\">36</span> │\n",
       "├─────────────────────────────────┼────────────────────────┼───────────────┤\n",
       "│ dropout_1 (<span style=\"color: #0087ff; text-decoration-color: #0087ff\">Dropout</span>)             │ (<span style=\"color: #00d7ff; text-decoration-color: #00d7ff\">None</span>, <span style=\"color: #00af00; text-decoration-color: #00af00\">4</span>)              │             <span style=\"color: #00af00; text-decoration-color: #00af00\">0</span> │\n",
       "├─────────────────────────────────┼────────────────────────┼───────────────┤\n",
       "│ dense_2 (<span style=\"color: #0087ff; text-decoration-color: #0087ff\">Dense</span>)                 │ (<span style=\"color: #00d7ff; text-decoration-color: #00d7ff\">None</span>, <span style=\"color: #00af00; text-decoration-color: #00af00\">1</span>)              │             <span style=\"color: #00af00; text-decoration-color: #00af00\">5</span> │\n",
       "└─────────────────────────────────┴────────────────────────┴───────────────┘\n",
       "</pre>\n"
      ],
      "text/plain": [
       "┏━━━━━━━━━━━━━━━━━━━━━━━━━━━━━━━━━┳━━━━━━━━━━━━━━━━━━━━━━━━┳━━━━━━━━━━━━━━━┓\n",
       "┃\u001b[1m \u001b[0m\u001b[1mLayer (type)                   \u001b[0m\u001b[1m \u001b[0m┃\u001b[1m \u001b[0m\u001b[1mOutput Shape          \u001b[0m\u001b[1m \u001b[0m┃\u001b[1m \u001b[0m\u001b[1m      Param #\u001b[0m\u001b[1m \u001b[0m┃\n",
       "┡━━━━━━━━━━━━━━━━━━━━━━━━━━━━━━━━━╇━━━━━━━━━━━━━━━━━━━━━━━━╇━━━━━━━━━━━━━━━┩\n",
       "│ dense (\u001b[38;5;33mDense\u001b[0m)                   │ (\u001b[38;5;45mNone\u001b[0m, \u001b[38;5;34m8\u001b[0m)              │            \u001b[38;5;34m72\u001b[0m │\n",
       "├─────────────────────────────────┼────────────────────────┼───────────────┤\n",
       "│ dropout (\u001b[38;5;33mDropout\u001b[0m)               │ (\u001b[38;5;45mNone\u001b[0m, \u001b[38;5;34m8\u001b[0m)              │             \u001b[38;5;34m0\u001b[0m │\n",
       "├─────────────────────────────────┼────────────────────────┼───────────────┤\n",
       "│ dense_1 (\u001b[38;5;33mDense\u001b[0m)                 │ (\u001b[38;5;45mNone\u001b[0m, \u001b[38;5;34m4\u001b[0m)              │            \u001b[38;5;34m36\u001b[0m │\n",
       "├─────────────────────────────────┼────────────────────────┼───────────────┤\n",
       "│ dropout_1 (\u001b[38;5;33mDropout\u001b[0m)             │ (\u001b[38;5;45mNone\u001b[0m, \u001b[38;5;34m4\u001b[0m)              │             \u001b[38;5;34m0\u001b[0m │\n",
       "├─────────────────────────────────┼────────────────────────┼───────────────┤\n",
       "│ dense_2 (\u001b[38;5;33mDense\u001b[0m)                 │ (\u001b[38;5;45mNone\u001b[0m, \u001b[38;5;34m1\u001b[0m)              │             \u001b[38;5;34m5\u001b[0m │\n",
       "└─────────────────────────────────┴────────────────────────┴───────────────┘\n"
      ]
     },
     "metadata": {},
     "output_type": "display_data"
    },
    {
     "data": {
      "text/html": [
       "<pre style=\"white-space:pre;overflow-x:auto;line-height:normal;font-family:Menlo,'DejaVu Sans Mono',consolas,'Courier New',monospace\"><span style=\"font-weight: bold\"> Total params: </span><span style=\"color: #00af00; text-decoration-color: #00af00\">113</span> (452.00 B)\n",
       "</pre>\n"
      ],
      "text/plain": [
       "\u001b[1m Total params: \u001b[0m\u001b[38;5;34m113\u001b[0m (452.00 B)\n"
      ]
     },
     "metadata": {},
     "output_type": "display_data"
    },
    {
     "data": {
      "text/html": [
       "<pre style=\"white-space:pre;overflow-x:auto;line-height:normal;font-family:Menlo,'DejaVu Sans Mono',consolas,'Courier New',monospace\"><span style=\"font-weight: bold\"> Trainable params: </span><span style=\"color: #00af00; text-decoration-color: #00af00\">113</span> (452.00 B)\n",
       "</pre>\n"
      ],
      "text/plain": [
       "\u001b[1m Trainable params: \u001b[0m\u001b[38;5;34m113\u001b[0m (452.00 B)\n"
      ]
     },
     "metadata": {},
     "output_type": "display_data"
    },
    {
     "data": {
      "text/html": [
       "<pre style=\"white-space:pre;overflow-x:auto;line-height:normal;font-family:Menlo,'DejaVu Sans Mono',consolas,'Courier New',monospace\"><span style=\"font-weight: bold\"> Non-trainable params: </span><span style=\"color: #00af00; text-decoration-color: #00af00\">0</span> (0.00 B)\n",
       "</pre>\n"
      ],
      "text/plain": [
       "\u001b[1m Non-trainable params: \u001b[0m\u001b[38;5;34m0\u001b[0m (0.00 B)\n"
      ]
     },
     "metadata": {},
     "output_type": "display_data"
    }
   ],
   "source": [
    "model.summary()"
   ]
  },
  {
   "cell_type": "code",
   "execution_count": 11,
   "id": "5f5376de",
   "metadata": {
    "ExecuteTime": {
     "end_time": "2025-07-18T10:23:10.348532Z",
     "start_time": "2025-07-18T10:23:07.666196Z"
    },
    "execution": {
     "iopub.execute_input": "2025-07-18T10:33:57.213468Z",
     "iopub.status.busy": "2025-07-18T10:33:57.213080Z",
     "iopub.status.idle": "2025-07-18T10:34:01.723299Z",
     "shell.execute_reply": "2025-07-18T10:34:01.722422Z"
    },
    "papermill": {
     "duration": 4.517804,
     "end_time": "2025-07-18T10:34:01.725113",
     "exception": false,
     "start_time": "2025-07-18T10:33:57.207309",
     "status": "completed"
    },
    "tags": []
   },
   "outputs": [
    {
     "name": "stdout",
     "output_type": "stream",
     "text": [
      "Epoch 1/10\n",
      "\u001b[1m77/77\u001b[0m \u001b[32m━━━━━━━━━━━━━━━━━━━━\u001b[0m\u001b[37m\u001b[0m \u001b[1m3s\u001b[0m 2ms/step - accuracy: 0.6194 - loss: 0.6895\n",
      "Epoch 2/10\n",
      "\u001b[1m77/77\u001b[0m \u001b[32m━━━━━━━━━━━━━━━━━━━━\u001b[0m\u001b[37m\u001b[0m \u001b[1m0s\u001b[0m 2ms/step - accuracy: 0.6789 - loss: 0.6610\n",
      "Epoch 3/10\n",
      "\u001b[1m77/77\u001b[0m \u001b[32m━━━━━━━━━━━━━━━━━━━━\u001b[0m\u001b[37m\u001b[0m \u001b[1m0s\u001b[0m 2ms/step - accuracy: 0.6346 - loss: 0.6641\n",
      "Epoch 4/10\n",
      "\u001b[1m77/77\u001b[0m \u001b[32m━━━━━━━━━━━━━━━━━━━━\u001b[0m\u001b[37m\u001b[0m \u001b[1m0s\u001b[0m 2ms/step - accuracy: 0.6243 - loss: 0.6732\n",
      "Epoch 5/10\n",
      "\u001b[1m77/77\u001b[0m \u001b[32m━━━━━━━━━━━━━━━━━━━━\u001b[0m\u001b[37m\u001b[0m \u001b[1m0s\u001b[0m 3ms/step - accuracy: 0.6699 - loss: 0.6456\n",
      "Epoch 6/10\n",
      "\u001b[1m77/77\u001b[0m \u001b[32m━━━━━━━━━━━━━━━━━━━━\u001b[0m\u001b[37m\u001b[0m \u001b[1m0s\u001b[0m 2ms/step - accuracy: 0.6539 - loss: 0.6427\n",
      "Epoch 7/10\n",
      "\u001b[1m77/77\u001b[0m \u001b[32m━━━━━━━━━━━━━━━━━━━━\u001b[0m\u001b[37m\u001b[0m \u001b[1m0s\u001b[0m 2ms/step - accuracy: 0.6657 - loss: 0.6481\n",
      "Epoch 8/10\n",
      "\u001b[1m77/77\u001b[0m \u001b[32m━━━━━━━━━━━━━━━━━━━━\u001b[0m\u001b[37m\u001b[0m \u001b[1m0s\u001b[0m 2ms/step - accuracy: 0.6723 - loss: 0.6242\n",
      "Epoch 9/10\n",
      "\u001b[1m77/77\u001b[0m \u001b[32m━━━━━━━━━━━━━━━━━━━━\u001b[0m\u001b[37m\u001b[0m \u001b[1m0s\u001b[0m 2ms/step - accuracy: 0.6548 - loss: 0.6388\n",
      "Epoch 10/10\n",
      "\u001b[1m77/77\u001b[0m \u001b[32m━━━━━━━━━━━━━━━━━━━━\u001b[0m\u001b[37m\u001b[0m \u001b[1m0s\u001b[0m 2ms/step - accuracy: 0.6702 - loss: 0.6194\n"
     ]
    }
   ],
   "source": [
    "history=model.fit(X,y,epochs=10,batch_size=10)"
   ]
  },
  {
   "cell_type": "code",
   "execution_count": 12,
   "id": "8882c79d",
   "metadata": {
    "ExecuteTime": {
     "end_time": "2025-07-18T10:23:10.562523Z",
     "start_time": "2025-07-18T10:23:10.366619Z"
    },
    "execution": {
     "iopub.execute_input": "2025-07-18T10:34:01.740348Z",
     "iopub.status.busy": "2025-07-18T10:34:01.740024Z",
     "iopub.status.idle": "2025-07-18T10:34:02.062022Z",
     "shell.execute_reply": "2025-07-18T10:34:02.061010Z"
    },
    "papermill": {
     "duration": 0.33154,
     "end_time": "2025-07-18T10:34:02.063686",
     "exception": false,
     "start_time": "2025-07-18T10:34:01.732146",
     "status": "completed"
    },
    "tags": []
   },
   "outputs": [
    {
     "name": "stdout",
     "output_type": "stream",
     "text": [
      "\u001b[1m24/24\u001b[0m \u001b[32m━━━━━━━━━━━━━━━━━━━━\u001b[0m\u001b[37m\u001b[0m \u001b[1m0s\u001b[0m 2ms/step - accuracy: 0.6798 - loss: 0.6230  \n",
      "compile_metrics: 69.53%\n"
     ]
    }
   ],
   "source": [
    "scores=model.evaluate(X,y)\n",
    "print(\"%s: %.2f%%\" % (model.metrics_names[1], scores[1]*100))"
   ]
  }
 ],
 "metadata": {
  "kaggle": {
   "accelerator": "none",
   "dataSources": [
    {
     "datasetId": 228,
     "sourceId": 482,
     "sourceType": "datasetVersion"
    }
   ],
   "dockerImageVersionId": 31089,
   "isGpuEnabled": false,
   "isInternetEnabled": true,
   "language": "python",
   "sourceType": "notebook"
  },
  "kernelspec": {
   "display_name": "Python 3",
   "language": "python",
   "name": "python3"
  },
  "language_info": {
   "codemirror_mode": {
    "name": "ipython",
    "version": 3
   },
   "file_extension": ".py",
   "mimetype": "text/x-python",
   "name": "python",
   "nbconvert_exporter": "python",
   "pygments_lexer": "ipython3",
   "version": "3.11.13"
  },
  "papermill": {
   "default_parameters": {},
   "duration": 34.206101,
   "end_time": "2025-07-18T10:34:05.074986",
   "environment_variables": {},
   "exception": null,
   "input_path": "__notebook__.ipynb",
   "output_path": "__notebook__.ipynb",
   "parameters": {},
   "start_time": "2025-07-18T10:33:30.868885",
   "version": "2.6.0"
  }
 },
 "nbformat": 4,
 "nbformat_minor": 5
}
