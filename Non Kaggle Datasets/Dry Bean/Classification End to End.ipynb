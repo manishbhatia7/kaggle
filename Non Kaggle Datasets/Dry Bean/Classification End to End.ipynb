{
 "cells": [
  {
   "cell_type": "code",
   "id": "initial_id",
   "metadata": {
    "collapsed": true,
    "ExecuteTime": {
     "end_time": "2025-07-10T06:09:57.207820Z",
     "start_time": "2025-07-10T06:09:57.199834Z"
    }
   },
   "source": [
    "import pandas as pd\n",
    "import warnings\n",
    "\n",
    "from sklearn.metrics import accuracy_score\n",
    "\n",
    "warnings.filterwarnings('ignore')"
   ],
   "outputs": [],
   "execution_count": 24
  },
  {
   "metadata": {
    "ExecuteTime": {
     "end_time": "2025-07-10T06:09:57.281340Z",
     "start_time": "2025-07-10T06:09:57.242079Z"
    }
   },
   "cell_type": "code",
   "source": [
    "data=pd.read_csv('Dry_Bean.csv')\n",
    "from scipy.stats import skew"
   ],
   "id": "d73c39a1841b660e",
   "outputs": [],
   "execution_count": 25
  },
  {
   "metadata": {
    "ExecuteTime": {
     "end_time": "2025-07-10T06:09:57.335955Z",
     "start_time": "2025-07-10T06:09:57.314555Z"
    }
   },
   "cell_type": "code",
   "source": "data.head(1)",
   "id": "8d4cc08a378629eb",
   "outputs": [
    {
     "data": {
      "text/plain": [
       "    Area  Perimeter  MajorAxisLength  MinorAxisLength  AspectRation  \\\n",
       "0  28395    610.291       208.178117       173.888747      1.197191   \n",
       "\n",
       "   Eccentricity  ConvexArea  EquivDiameter    Extent  Solidity  roundness  \\\n",
       "0      0.549812       28715     190.141097  0.763923  0.988856   0.958027   \n",
       "\n",
       "   Compactness  ShapeFactor1  ShapeFactor2  ShapeFactor3  ShapeFactor4  Class  \n",
       "0     0.913358      0.007332      0.003147      0.834222      0.998724  SEKER  "
      ],
      "text/html": [
       "<div>\n",
       "<style scoped>\n",
       "    .dataframe tbody tr th:only-of-type {\n",
       "        vertical-align: middle;\n",
       "    }\n",
       "\n",
       "    .dataframe tbody tr th {\n",
       "        vertical-align: top;\n",
       "    }\n",
       "\n",
       "    .dataframe thead th {\n",
       "        text-align: right;\n",
       "    }\n",
       "</style>\n",
       "<table border=\"1\" class=\"dataframe\">\n",
       "  <thead>\n",
       "    <tr style=\"text-align: right;\">\n",
       "      <th></th>\n",
       "      <th>Area</th>\n",
       "      <th>Perimeter</th>\n",
       "      <th>MajorAxisLength</th>\n",
       "      <th>MinorAxisLength</th>\n",
       "      <th>AspectRation</th>\n",
       "      <th>Eccentricity</th>\n",
       "      <th>ConvexArea</th>\n",
       "      <th>EquivDiameter</th>\n",
       "      <th>Extent</th>\n",
       "      <th>Solidity</th>\n",
       "      <th>roundness</th>\n",
       "      <th>Compactness</th>\n",
       "      <th>ShapeFactor1</th>\n",
       "      <th>ShapeFactor2</th>\n",
       "      <th>ShapeFactor3</th>\n",
       "      <th>ShapeFactor4</th>\n",
       "      <th>Class</th>\n",
       "    </tr>\n",
       "  </thead>\n",
       "  <tbody>\n",
       "    <tr>\n",
       "      <th>0</th>\n",
       "      <td>28395</td>\n",
       "      <td>610.291</td>\n",
       "      <td>208.178117</td>\n",
       "      <td>173.888747</td>\n",
       "      <td>1.197191</td>\n",
       "      <td>0.549812</td>\n",
       "      <td>28715</td>\n",
       "      <td>190.141097</td>\n",
       "      <td>0.763923</td>\n",
       "      <td>0.988856</td>\n",
       "      <td>0.958027</td>\n",
       "      <td>0.913358</td>\n",
       "      <td>0.007332</td>\n",
       "      <td>0.003147</td>\n",
       "      <td>0.834222</td>\n",
       "      <td>0.998724</td>\n",
       "      <td>SEKER</td>\n",
       "    </tr>\n",
       "  </tbody>\n",
       "</table>\n",
       "</div>"
      ]
     },
     "execution_count": 26,
     "metadata": {},
     "output_type": "execute_result"
    }
   ],
   "execution_count": 26
  },
  {
   "metadata": {
    "ExecuteTime": {
     "end_time": "2025-07-10T06:09:57.421031Z",
     "start_time": "2025-07-10T06:09:57.410650Z"
    }
   },
   "cell_type": "code",
   "source": "data['Class'].value_counts()",
   "id": "14545fc73c3828cd",
   "outputs": [
    {
     "data": {
      "text/plain": [
       "Class\n",
       "DERMASON    3546\n",
       "SIRA        2636\n",
       "SEKER       2027\n",
       "HOROZ       1928\n",
       "CALI        1630\n",
       "BARBUNYA    1322\n",
       "BOMBAY       522\n",
       "Name: count, dtype: int64"
      ]
     },
     "execution_count": 27,
     "metadata": {},
     "output_type": "execute_result"
    }
   ],
   "execution_count": 27
  },
  {
   "metadata": {
    "ExecuteTime": {
     "end_time": "2025-07-10T06:09:57.547182Z",
     "start_time": "2025-07-10T06:09:57.533030Z"
    }
   },
   "cell_type": "code",
   "source": "data.info()",
   "id": "c61e8cb4127da5d",
   "outputs": [
    {
     "name": "stdout",
     "output_type": "stream",
     "text": [
      "<class 'pandas.core.frame.DataFrame'>\n",
      "RangeIndex: 13611 entries, 0 to 13610\n",
      "Data columns (total 17 columns):\n",
      " #   Column           Non-Null Count  Dtype  \n",
      "---  ------           --------------  -----  \n",
      " 0   Area             13611 non-null  int64  \n",
      " 1   Perimeter        13611 non-null  float64\n",
      " 2   MajorAxisLength  13611 non-null  float64\n",
      " 3   MinorAxisLength  13611 non-null  float64\n",
      " 4   AspectRation     13611 non-null  float64\n",
      " 5   Eccentricity     13611 non-null  float64\n",
      " 6   ConvexArea       13611 non-null  int64  \n",
      " 7   EquivDiameter    13611 non-null  float64\n",
      " 8   Extent           13611 non-null  float64\n",
      " 9   Solidity         13611 non-null  float64\n",
      " 10  roundness        13611 non-null  float64\n",
      " 11  Compactness      13611 non-null  float64\n",
      " 12  ShapeFactor1     13611 non-null  float64\n",
      " 13  ShapeFactor2     13611 non-null  float64\n",
      " 14  ShapeFactor3     13611 non-null  float64\n",
      " 15  ShapeFactor4     13611 non-null  float64\n",
      " 16  Class            13611 non-null  object \n",
      "dtypes: float64(14), int64(2), object(1)\n",
      "memory usage: 1.8+ MB\n"
     ]
    }
   ],
   "execution_count": 28
  },
  {
   "metadata": {
    "ExecuteTime": {
     "end_time": "2025-07-10T06:09:57.962790Z",
     "start_time": "2025-07-10T06:09:57.909262Z"
    }
   },
   "cell_type": "code",
   "source": "data.describe().T",
   "id": "402e70d3ccc54647",
   "outputs": [
    {
     "data": {
      "text/plain": [
       "                   count          mean           std           min  \\\n",
       "Area             13611.0  53048.284549  29324.095717  20420.000000   \n",
       "Perimeter        13611.0    855.283459    214.289696    524.736000   \n",
       "MajorAxisLength  13611.0    320.141867     85.694186    183.601165   \n",
       "MinorAxisLength  13611.0    202.270714     44.970091    122.512653   \n",
       "AspectRation     13611.0      1.583242      0.246678      1.024868   \n",
       "Eccentricity     13611.0      0.750895      0.092002      0.218951   \n",
       "ConvexArea       13611.0  53768.200206  29774.915817  20684.000000   \n",
       "EquivDiameter    13611.0    253.064220     59.177120    161.243764   \n",
       "Extent           13611.0      0.749733      0.049086      0.555315   \n",
       "Solidity         13611.0      0.987143      0.004660      0.919246   \n",
       "roundness        13611.0      0.873282      0.059520      0.489618   \n",
       "Compactness      13611.0      0.799864      0.061713      0.640577   \n",
       "ShapeFactor1     13611.0      0.006564      0.001128      0.002778   \n",
       "ShapeFactor2     13611.0      0.001716      0.000596      0.000564   \n",
       "ShapeFactor3     13611.0      0.643590      0.098996      0.410339   \n",
       "ShapeFactor4     13611.0      0.995063      0.004366      0.947687   \n",
       "\n",
       "                          25%           50%           75%            max  \n",
       "Area             36328.000000  44652.000000  61332.000000  254616.000000  \n",
       "Perimeter          703.523500    794.941000    977.213000    1985.370000  \n",
       "MajorAxisLength    253.303633    296.883367    376.495012     738.860154  \n",
       "MinorAxisLength    175.848170    192.431733    217.031741     460.198497  \n",
       "AspectRation         1.432307      1.551124      1.707109       2.430306  \n",
       "Eccentricity         0.715928      0.764441      0.810466       0.911423  \n",
       "ConvexArea       36714.500000  45178.000000  62294.000000  263261.000000  \n",
       "EquivDiameter      215.068003    238.438026    279.446467     569.374358  \n",
       "Extent               0.718634      0.759859      0.786851       0.866195  \n",
       "Solidity             0.985670      0.988283      0.990013       0.994677  \n",
       "roundness            0.832096      0.883157      0.916869       0.990685  \n",
       "Compactness          0.762469      0.801277      0.834270       0.987303  \n",
       "ShapeFactor1         0.005900      0.006645      0.007271       0.010451  \n",
       "ShapeFactor2         0.001154      0.001694      0.002170       0.003665  \n",
       "ShapeFactor3         0.581359      0.642044      0.696006       0.974767  \n",
       "ShapeFactor4         0.993703      0.996386      0.997883       0.999733  "
      ],
      "text/html": [
       "<div>\n",
       "<style scoped>\n",
       "    .dataframe tbody tr th:only-of-type {\n",
       "        vertical-align: middle;\n",
       "    }\n",
       "\n",
       "    .dataframe tbody tr th {\n",
       "        vertical-align: top;\n",
       "    }\n",
       "\n",
       "    .dataframe thead th {\n",
       "        text-align: right;\n",
       "    }\n",
       "</style>\n",
       "<table border=\"1\" class=\"dataframe\">\n",
       "  <thead>\n",
       "    <tr style=\"text-align: right;\">\n",
       "      <th></th>\n",
       "      <th>count</th>\n",
       "      <th>mean</th>\n",
       "      <th>std</th>\n",
       "      <th>min</th>\n",
       "      <th>25%</th>\n",
       "      <th>50%</th>\n",
       "      <th>75%</th>\n",
       "      <th>max</th>\n",
       "    </tr>\n",
       "  </thead>\n",
       "  <tbody>\n",
       "    <tr>\n",
       "      <th>Area</th>\n",
       "      <td>13611.0</td>\n",
       "      <td>53048.284549</td>\n",
       "      <td>29324.095717</td>\n",
       "      <td>20420.000000</td>\n",
       "      <td>36328.000000</td>\n",
       "      <td>44652.000000</td>\n",
       "      <td>61332.000000</td>\n",
       "      <td>254616.000000</td>\n",
       "    </tr>\n",
       "    <tr>\n",
       "      <th>Perimeter</th>\n",
       "      <td>13611.0</td>\n",
       "      <td>855.283459</td>\n",
       "      <td>214.289696</td>\n",
       "      <td>524.736000</td>\n",
       "      <td>703.523500</td>\n",
       "      <td>794.941000</td>\n",
       "      <td>977.213000</td>\n",
       "      <td>1985.370000</td>\n",
       "    </tr>\n",
       "    <tr>\n",
       "      <th>MajorAxisLength</th>\n",
       "      <td>13611.0</td>\n",
       "      <td>320.141867</td>\n",
       "      <td>85.694186</td>\n",
       "      <td>183.601165</td>\n",
       "      <td>253.303633</td>\n",
       "      <td>296.883367</td>\n",
       "      <td>376.495012</td>\n",
       "      <td>738.860154</td>\n",
       "    </tr>\n",
       "    <tr>\n",
       "      <th>MinorAxisLength</th>\n",
       "      <td>13611.0</td>\n",
       "      <td>202.270714</td>\n",
       "      <td>44.970091</td>\n",
       "      <td>122.512653</td>\n",
       "      <td>175.848170</td>\n",
       "      <td>192.431733</td>\n",
       "      <td>217.031741</td>\n",
       "      <td>460.198497</td>\n",
       "    </tr>\n",
       "    <tr>\n",
       "      <th>AspectRation</th>\n",
       "      <td>13611.0</td>\n",
       "      <td>1.583242</td>\n",
       "      <td>0.246678</td>\n",
       "      <td>1.024868</td>\n",
       "      <td>1.432307</td>\n",
       "      <td>1.551124</td>\n",
       "      <td>1.707109</td>\n",
       "      <td>2.430306</td>\n",
       "    </tr>\n",
       "    <tr>\n",
       "      <th>Eccentricity</th>\n",
       "      <td>13611.0</td>\n",
       "      <td>0.750895</td>\n",
       "      <td>0.092002</td>\n",
       "      <td>0.218951</td>\n",
       "      <td>0.715928</td>\n",
       "      <td>0.764441</td>\n",
       "      <td>0.810466</td>\n",
       "      <td>0.911423</td>\n",
       "    </tr>\n",
       "    <tr>\n",
       "      <th>ConvexArea</th>\n",
       "      <td>13611.0</td>\n",
       "      <td>53768.200206</td>\n",
       "      <td>29774.915817</td>\n",
       "      <td>20684.000000</td>\n",
       "      <td>36714.500000</td>\n",
       "      <td>45178.000000</td>\n",
       "      <td>62294.000000</td>\n",
       "      <td>263261.000000</td>\n",
       "    </tr>\n",
       "    <tr>\n",
       "      <th>EquivDiameter</th>\n",
       "      <td>13611.0</td>\n",
       "      <td>253.064220</td>\n",
       "      <td>59.177120</td>\n",
       "      <td>161.243764</td>\n",
       "      <td>215.068003</td>\n",
       "      <td>238.438026</td>\n",
       "      <td>279.446467</td>\n",
       "      <td>569.374358</td>\n",
       "    </tr>\n",
       "    <tr>\n",
       "      <th>Extent</th>\n",
       "      <td>13611.0</td>\n",
       "      <td>0.749733</td>\n",
       "      <td>0.049086</td>\n",
       "      <td>0.555315</td>\n",
       "      <td>0.718634</td>\n",
       "      <td>0.759859</td>\n",
       "      <td>0.786851</td>\n",
       "      <td>0.866195</td>\n",
       "    </tr>\n",
       "    <tr>\n",
       "      <th>Solidity</th>\n",
       "      <td>13611.0</td>\n",
       "      <td>0.987143</td>\n",
       "      <td>0.004660</td>\n",
       "      <td>0.919246</td>\n",
       "      <td>0.985670</td>\n",
       "      <td>0.988283</td>\n",
       "      <td>0.990013</td>\n",
       "      <td>0.994677</td>\n",
       "    </tr>\n",
       "    <tr>\n",
       "      <th>roundness</th>\n",
       "      <td>13611.0</td>\n",
       "      <td>0.873282</td>\n",
       "      <td>0.059520</td>\n",
       "      <td>0.489618</td>\n",
       "      <td>0.832096</td>\n",
       "      <td>0.883157</td>\n",
       "      <td>0.916869</td>\n",
       "      <td>0.990685</td>\n",
       "    </tr>\n",
       "    <tr>\n",
       "      <th>Compactness</th>\n",
       "      <td>13611.0</td>\n",
       "      <td>0.799864</td>\n",
       "      <td>0.061713</td>\n",
       "      <td>0.640577</td>\n",
       "      <td>0.762469</td>\n",
       "      <td>0.801277</td>\n",
       "      <td>0.834270</td>\n",
       "      <td>0.987303</td>\n",
       "    </tr>\n",
       "    <tr>\n",
       "      <th>ShapeFactor1</th>\n",
       "      <td>13611.0</td>\n",
       "      <td>0.006564</td>\n",
       "      <td>0.001128</td>\n",
       "      <td>0.002778</td>\n",
       "      <td>0.005900</td>\n",
       "      <td>0.006645</td>\n",
       "      <td>0.007271</td>\n",
       "      <td>0.010451</td>\n",
       "    </tr>\n",
       "    <tr>\n",
       "      <th>ShapeFactor2</th>\n",
       "      <td>13611.0</td>\n",
       "      <td>0.001716</td>\n",
       "      <td>0.000596</td>\n",
       "      <td>0.000564</td>\n",
       "      <td>0.001154</td>\n",
       "      <td>0.001694</td>\n",
       "      <td>0.002170</td>\n",
       "      <td>0.003665</td>\n",
       "    </tr>\n",
       "    <tr>\n",
       "      <th>ShapeFactor3</th>\n",
       "      <td>13611.0</td>\n",
       "      <td>0.643590</td>\n",
       "      <td>0.098996</td>\n",
       "      <td>0.410339</td>\n",
       "      <td>0.581359</td>\n",
       "      <td>0.642044</td>\n",
       "      <td>0.696006</td>\n",
       "      <td>0.974767</td>\n",
       "    </tr>\n",
       "    <tr>\n",
       "      <th>ShapeFactor4</th>\n",
       "      <td>13611.0</td>\n",
       "      <td>0.995063</td>\n",
       "      <td>0.004366</td>\n",
       "      <td>0.947687</td>\n",
       "      <td>0.993703</td>\n",
       "      <td>0.996386</td>\n",
       "      <td>0.997883</td>\n",
       "      <td>0.999733</td>\n",
       "    </tr>\n",
       "  </tbody>\n",
       "</table>\n",
       "</div>"
      ]
     },
     "execution_count": 29,
     "metadata": {},
     "output_type": "execute_result"
    }
   ],
   "execution_count": 29
  },
  {
   "metadata": {
    "ExecuteTime": {
     "end_time": "2025-07-10T06:09:58.305463Z",
     "start_time": "2025-07-10T06:09:58.298354Z"
    }
   },
   "cell_type": "code",
   "source": [
    "X=data.drop(columns=['Class'])\n",
    "y=data['Class']"
   ],
   "id": "22e6e3b9b9fa3adf",
   "outputs": [],
   "execution_count": 30
  },
  {
   "metadata": {
    "ExecuteTime": {
     "end_time": "2025-07-10T06:09:58.417028Z",
     "start_time": "2025-07-10T06:09:58.411579Z"
    }
   },
   "cell_type": "code",
   "source": [
    "print(X.shape)\n",
    "print(y.shape)"
   ],
   "id": "e10e44fe29f8ed97",
   "outputs": [
    {
     "name": "stdout",
     "output_type": "stream",
     "text": [
      "(13611, 16)\n",
      "(13611,)\n"
     ]
    }
   ],
   "execution_count": 31
  },
  {
   "metadata": {
    "ExecuteTime": {
     "end_time": "2025-07-10T06:09:58.499869Z",
     "start_time": "2025-07-10T06:09:58.479264Z"
    }
   },
   "cell_type": "code",
   "source": [
    "skew=skew(X)\n",
    "skew"
   ],
   "id": "f1d8c2c3eaf1f719",
   "outputs": [
    {
     "data": {
      "text/plain": [
       "array([ 2.95260553,  1.62594431,  1.35766564,  2.23796387,  0.58250919,\n",
       "       -1.0627068 ,  2.9414969 ,  1.94874282, -0.89524975, -2.54981206,\n",
       "       -0.63567889,  0.03711137, -0.53408168,  0.30119272,  0.2424542 ,\n",
       "       -2.75917879])"
      ]
     },
     "execution_count": 32,
     "metadata": {},
     "output_type": "execute_result"
    }
   ],
   "execution_count": 32
  },
  {
   "metadata": {
    "ExecuteTime": {
     "end_time": "2025-07-10T06:09:58.582249Z",
     "start_time": "2025-07-10T06:09:58.577458Z"
    }
   },
   "cell_type": "code",
   "source": "",
   "id": "71f97bae522cc47e",
   "outputs": [],
   "execution_count": null
  },
  {
   "metadata": {
    "ExecuteTime": {
     "end_time": "2025-07-10T06:09:58.641917Z",
     "start_time": "2025-07-10T06:09:58.633680Z"
    }
   },
   "cell_type": "code",
   "source": [
    "from sklearn.preprocessing import StandardScaler\n",
    "from sklearn.model_selection import train_test_split, cross_val_score\n",
    "from sklearn.model_selection import KFold\n",
    "from sklearn.ensemble import RandomForestClassifier\n",
    "from xgboost import XGBClassifier\n",
    "from sklearn.tree import DecisionTreeClassifier\n",
    "from sklearn.linear_model import LogisticRegression\n",
    "from sklearn.pipeline import Pipeline"
   ],
   "id": "7fef20388eb3c4cd",
   "outputs": [],
   "execution_count": 33
  },
  {
   "metadata": {
    "ExecuteTime": {
     "end_time": "2025-07-10T06:09:58.708520Z",
     "start_time": "2025-07-10T06:09:58.701139Z"
    }
   },
   "cell_type": "code",
   "source": "import numpy as np",
   "id": "18336c94aa901ebe",
   "outputs": [],
   "execution_count": 34
  },
  {
   "metadata": {
    "ExecuteTime": {
     "end_time": "2025-07-10T06:09:58.783883Z",
     "start_time": "2025-07-10T06:09:58.773305Z"
    }
   },
   "cell_type": "code",
   "source": "X=np.log1p(X)",
   "id": "ffeebf950fc4173c",
   "outputs": [],
   "execution_count": 35
  },
  {
   "metadata": {
    "ExecuteTime": {
     "end_time": "2025-07-10T06:09:58.855507Z",
     "start_time": "2025-07-10T06:09:58.839626Z"
    }
   },
   "cell_type": "code",
   "source": "print(X)",
   "id": "5f12af0829375787",
   "outputs": [
    {
     "name": "stdout",
     "output_type": "stream",
     "text": [
      "            Area  Perimeter  MajorAxisLength  MinorAxisLength  AspectRation  \\\n",
      "0      10.254004   6.415573         5.343186         5.164150      0.787180   \n",
      "1      10.265871   6.459933         5.305912         5.213491      0.740678   \n",
      "2      10.288103   6.437928         5.365163         5.175761      0.792862   \n",
      "3      10.309253   6.472167         5.354499         5.212305      0.767159   \n",
      "4      10.313642   6.431547         5.312456         5.253735      0.723093   \n",
      "...          ...        ...              ...              ...           ...   \n",
      "13606  10.647756   6.634234         5.668921         5.230813      0.937163   \n",
      "13607  10.647851   6.631341         5.643949         5.256000      0.906822   \n",
      "13608  10.648753   6.633741         5.643820         5.258474      0.905263   \n",
      "13609  10.648943   6.639587         5.650321         5.253716      0.912012   \n",
      "13610  10.649227   6.650586         5.690842         5.210604      0.963114   \n",
      "\n",
      "       Eccentricity  ConvexArea  EquivDiameter    Extent  Solidity  roundness  \\\n",
      "0          0.438134   10.265210       5.253012  0.567540  0.687560   0.671937   \n",
      "1          0.344855   10.280999       5.258915  0.578840  0.685612   0.635006   \n",
      "2          0.446433   10.298599       5.269974  0.575553  0.687913   0.666726   \n",
      "3          0.404542   10.332832       5.280495  0.578119  0.681427   0.643924   \n",
      "4          0.287942   10.322790       5.282678  0.572728  0.688583   0.685557   \n",
      "...             ...         ...            ...       ...       ...        ...   \n",
      "13606      0.568152   10.657471       5.448958  0.539165  0.688301   0.650554   \n",
      "13607      0.551412   10.657142       5.449005  0.587755  0.688512   0.653374   \n",
      "13608      0.550468   10.658905       5.449455  0.548082  0.688084   0.651504   \n",
      "13609      0.554491   10.661205       5.449549  0.533793  0.687035   0.646007   \n",
      "13610      0.580366   10.659633       5.449691  0.581636  0.687958   0.635720   \n",
      "\n",
      "       Compactness  ShapeFactor1  ShapeFactor2  ShapeFactor3  ShapeFactor4  \n",
      "0         0.648860      0.007305      0.003142      0.606621      0.692509  \n",
      "1         0.669807      0.006954      0.003557      0.647025      0.692362  \n",
      "2         0.646461      0.007218      0.003043      0.602057      0.692680  \n",
      "3         0.656654      0.006992      0.003209      0.621541      0.690242  \n",
      "4         0.678295      0.006675      0.003658      0.663667      0.692730  \n",
      "...            ...           ...           ...           ...           ...  \n",
      "13606     0.588822      0.006835      0.001748      0.496516      0.692339  \n",
      "13607     0.600073      0.006666      0.001884      0.516469      0.692256  \n",
      "13608     0.600335      0.006659      0.001886      0.516937      0.691530  \n",
      "13609     0.597439      0.006701      0.001850      0.511767      0.690756  \n",
      "13610     0.579417      0.006976      0.001638      0.480090      0.692237  \n",
      "\n",
      "[13611 rows x 16 columns]\n"
     ]
    }
   ],
   "execution_count": 36
  },
  {
   "metadata": {
    "ExecuteTime": {
     "end_time": "2025-07-10T06:09:58.925167Z",
     "start_time": "2025-07-10T06:09:58.906428Z"
    }
   },
   "cell_type": "code",
   "source": "X_train,X_test,y_train,y_test=train_test_split(X,y,test_size=0.35,random_state=42)",
   "id": "499621abef079a65",
   "outputs": [],
   "execution_count": 37
  },
  {
   "metadata": {
    "ExecuteTime": {
     "end_time": "2025-07-10T06:09:58.974034Z",
     "start_time": "2025-07-10T06:09:58.967853Z"
    }
   },
   "cell_type": "code",
   "source": "print(X_train.shape,y_train.shape,X_test.shape,y_test.shape)",
   "id": "4b9dadab7ddfd435",
   "outputs": [
    {
     "name": "stdout",
     "output_type": "stream",
     "text": [
      "(8847, 16) (8847,) (4764, 16) (4764,)\n"
     ]
    }
   ],
   "execution_count": 38
  },
  {
   "metadata": {
    "ExecuteTime": {
     "end_time": "2025-07-10T06:09:59.079339Z",
     "start_time": "2025-07-10T06:09:59.067488Z"
    }
   },
   "cell_type": "code",
   "source": [
    "from sklearn.preprocessing import LabelEncoder\n",
    "from sklearn.svm import SVC\n",
    "le=LabelEncoder()\n",
    "y_train_final=le.fit_transform(y_train)\n",
    "y_test_final=le.transform(y_test)\n",
    "le_name_mapping = dict(zip(le.classes_, le.transform(le.classes_)))\n",
    "print(le_name_mapping)"
   ],
   "id": "35fff5d29415e989",
   "outputs": [
    {
     "name": "stdout",
     "output_type": "stream",
     "text": [
      "{'BARBUNYA': 0, 'BOMBAY': 1, 'CALI': 2, 'DERMASON': 3, 'HOROZ': 4, 'SEKER': 5, 'SIRA': 6}\n"
     ]
    }
   ],
   "execution_count": 39
  },
  {
   "metadata": {
    "ExecuteTime": {
     "end_time": "2025-07-10T06:09:59.122692Z",
     "start_time": "2025-07-10T06:09:59.115462Z"
    }
   },
   "cell_type": "code",
   "source": "print(y_train_final)",
   "id": "12af9a93cf153e75",
   "outputs": [
    {
     "name": "stdout",
     "output_type": "stream",
     "text": [
      "[3 3 4 ... 2 5 4]\n"
     ]
    }
   ],
   "execution_count": 40
  },
  {
   "metadata": {
    "ExecuteTime": {
     "end_time": "2025-07-10T06:09:59.174212Z",
     "start_time": "2025-07-10T06:09:59.169059Z"
    }
   },
   "cell_type": "code",
   "source": "print(y_test_final)",
   "id": "75940d3e7a599df7",
   "outputs": [
    {
     "name": "stdout",
     "output_type": "stream",
     "text": [
      "[5 0 5 ... 6 6 4]\n"
     ]
    }
   ],
   "execution_count": 41
  },
  {
   "metadata": {
    "ExecuteTime": {
     "end_time": "2025-07-10T06:10:51.780405Z",
     "start_time": "2025-07-10T06:09:59.222267Z"
    }
   },
   "cell_type": "code",
   "source": [
    "models=[]\n",
    "results=[]\n",
    "pipelines=[]\n",
    "names=[]\n",
    "pipelines.append(('Scaled_LR',Pipeline(steps=[('scaler', StandardScaler()),('LR', LogisticRegression())])))\n",
    "pipelines.append(('Scaled_Cart',Pipeline(steps=[('scaler', StandardScaler()),('Cart', DecisionTreeClassifier())])))\n",
    "pipelines.append(('Scaled_RF',Pipeline(steps=[('scaler', StandardScaler()),('RF', RandomForestClassifier())])))\n",
    "pipelines.append(('Scaled_XGB',Pipeline(steps=[('scaler', StandardScaler()),('XGB',XGBClassifier())])))\n",
    "pipelines.append(('Scaled_SVC',Pipeline(steps=[('scaler', StandardScaler()),('SVC',SVC())])))\n",
    "for name,model in pipelines:\n",
    "    kfold = KFold(n_splits=10, shuffle=True, random_state=42)\n",
    "    score=cross_val_score(model, X=X_train, y=y_train_final, cv=kfold)\n",
    "    results.append(score)\n",
    "    names.append(name)\n",
    "    msg=(\"%s,%s,(%f)\"% (name,score.mean(),score.std()))\n",
    "    print(msg)\n",
    "\n"
   ],
   "id": "70ad10e551b1bff0",
   "outputs": [
    {
     "name": "stdout",
     "output_type": "stream",
     "text": [
      "Scaled_LR,0.9227990387810927,(0.007130)\n",
      "Scaled_Cart,0.8913779175294628,(0.011075)\n",
      "Scaled_RF,0.9212169900554746,(0.009238)\n",
      "Scaled_XGB,0.9227981440294499,(0.008222)\n",
      "Scaled_SVC,0.9270943579517856,(0.005745)\n"
     ]
    }
   ],
   "execution_count": 42
  },
  {
   "metadata": {
    "ExecuteTime": {
     "end_time": "2025-07-10T06:24:55.298032Z",
     "start_time": "2025-07-10T06:24:52.038263Z"
    }
   },
   "cell_type": "code",
   "source": [
    "#Hyperparameter Tuning for LR and SVC\n",
    "parameters_LR={'penalty':['l1','l2','elasticnet'],'C':[0.01,0.02,0.03,0.05,1]}\n",
    "from sklearn.model_selection import GridSearchCV\n",
    "grid=GridSearchCV(LogisticRegression(),parameters_LR,cv=5)\n",
    "grid.fit(X_train,y_train_final)\n",
    "print(grid.best_params_)\n",
    "print(grid.best_score_)"
   ],
   "id": "cbb142ce84f8772e",
   "outputs": [
    {
     "name": "stdout",
     "output_type": "stream",
     "text": [
      "{'C': 1, 'penalty': 'l2'}\n",
      "0.8845934854190022\n"
     ]
    }
   ],
   "execution_count": 50
  },
  {
   "metadata": {
    "ExecuteTime": {
     "end_time": "2025-07-10T06:33:25.787289Z",
     "start_time": "2025-07-10T06:33:25.777125Z"
    }
   },
   "cell_type": "code",
   "source": "from sklearn.metrics import accuracy_score",
   "id": "947b6616eb641176",
   "outputs": [],
   "execution_count": 52
  },
  {
   "metadata": {
    "ExecuteTime": {
     "end_time": "2025-07-10T06:34:14.501512Z",
     "start_time": "2025-07-10T06:34:09.437541Z"
    }
   },
   "cell_type": "code",
   "source": [
    "sc=StandardScaler()\n",
    "from sklearn.ensemble import StackingClassifier\n",
    "X_scaled_train=sc.fit_transform(X_train)\n",
    "X_scaled_test=sc.transform(X_test)\n",
    "estimators=[('lr',LogisticRegression()),('svc',SVC())]\n",
    "st=StackingClassifier(estimators=estimators,final_estimator=LogisticRegression())\n",
    "st.fit(X_scaled_train,y_train_final)\n",
    "y_pred=st.predict(X_scaled_test)\n",
    "print(round(accuracy_score(y_test_final,y_pred)*100,2))\n"
   ],
   "id": "bc4ab121114acce",
   "outputs": [
    {
     "name": "stdout",
     "output_type": "stream",
     "text": [
      "92.84\n"
     ]
    }
   ],
   "execution_count": 54
  }
 ],
 "metadata": {
  "kernelspec": {
   "display_name": "Python 3",
   "language": "python",
   "name": "python3"
  },
  "language_info": {
   "codemirror_mode": {
    "name": "ipython",
    "version": 2
   },
   "file_extension": ".py",
   "mimetype": "text/x-python",
   "name": "python",
   "nbconvert_exporter": "python",
   "pygments_lexer": "ipython2",
   "version": "2.7.6"
  }
 },
 "nbformat": 4,
 "nbformat_minor": 5
}
