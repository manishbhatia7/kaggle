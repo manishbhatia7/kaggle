{
 "cells": [
  {
   "cell_type": "code",
   "id": "initial_id",
   "metadata": {
    "collapsed": true,
    "ExecuteTime": {
     "end_time": "2025-07-27T10:24:26.993135Z",
     "start_time": "2025-07-27T10:24:26.977347Z"
    }
   },
   "source": [
    "import keras\n",
    "import tensorflow\n",
    "import numpy as np\n",
    "from tensorflow import random\n",
    "from keras.models import Sequential\n",
    "from keras.src.legacy.preprocessing.image import ImageDataGenerator\n",
    "from keras.src.layers import Dense, Dropout, Activation, Flatten,Conv2D,MaxPooling2D\n",
    "import warnings\n",
    "warnings.filterwarnings('ignore')\n",
    "from keras.src.legacy.preprocessing.image import ImageDataGenerator\n"
   ],
   "outputs": [],
   "execution_count": 96
  },
  {
   "metadata": {
    "ExecuteTime": {
     "end_time": "2025-07-27T10:24:27.052373Z",
     "start_time": "2025-07-27T10:24:27.031144Z"
    }
   },
   "cell_type": "code",
   "source": [
    "seed = 1\n",
    "np.random.seed(seed)\n",
    "random.set_seed(seed)\n",
    "classifier = Sequential()"
   ],
   "id": "297a999db909287e",
   "outputs": [],
   "execution_count": 97
  },
  {
   "metadata": {
    "ExecuteTime": {
     "end_time": "2025-07-27T10:24:27.134259Z",
     "start_time": "2025-07-27T10:24:27.118916Z"
    }
   },
   "cell_type": "code",
   "source": "classifier=Sequential()",
   "id": "e17ef34198b75b77",
   "outputs": [],
   "execution_count": 98
  },
  {
   "metadata": {
    "ExecuteTime": {
     "end_time": "2025-07-27T10:24:27.361432Z",
     "start_time": "2025-07-27T10:24:27.202967Z"
    }
   },
   "cell_type": "code",
   "source": [
    "classifier.add(Conv2D(32,(3,3), input_shape=(64,64,3),activation='relu'))\n",
    "classifier.add(Conv2D(32,(3,3),activation='relu'))\n",
    "classifier.add(Conv2D(32,(3,3),activation='relu'))\n",
    "classifier.add(MaxPooling2D(pool_size=(2,2)))"
   ],
   "id": "e5e0f8109008a7ae",
   "outputs": [],
   "execution_count": 99
  },
  {
   "metadata": {
    "ExecuteTime": {
     "end_time": "2025-07-27T10:24:27.495347Z",
     "start_time": "2025-07-27T10:24:27.401916Z"
    }
   },
   "cell_type": "code",
   "source": [
    "classifier.add(Conv2D(32,(3,3), input_shape=(64,64,3),activation='relu'))\n",
    "classifier.add(MaxPooling2D(pool_size=(2,2)))"
   ],
   "id": "3139ff87a04e319e",
   "outputs": [],
   "execution_count": 100
  },
  {
   "metadata": {
    "ExecuteTime": {
     "end_time": "2025-07-27T10:24:27.715175Z",
     "start_time": "2025-07-27T10:24:27.663683Z"
    }
   },
   "cell_type": "code",
   "source": "classifier.add(Flatten())",
   "id": "d8b67777c7182e6d",
   "outputs": [],
   "execution_count": 101
  },
  {
   "metadata": {
    "ExecuteTime": {
     "end_time": "2025-07-27T10:24:27.940771Z",
     "start_time": "2025-07-27T10:24:27.809416Z"
    }
   },
   "cell_type": "code",
   "source": [
    "classifier.add(Dense(128, activation='relu'))\n",
    "classifier.add(Dense(128, activation='relu'))\n"
   ],
   "id": "f0e4bb93ff6e7c73",
   "outputs": [],
   "execution_count": 102
  },
  {
   "metadata": {
    "ExecuteTime": {
     "end_time": "2025-07-27T10:24:28.060440Z",
     "start_time": "2025-07-27T10:24:28.002905Z"
    }
   },
   "cell_type": "code",
   "source": "classifier.add(Dense(1, activation='sigmoid'))",
   "id": "6e8ea18f4056a751",
   "outputs": [],
   "execution_count": 103
  },
  {
   "metadata": {
    "ExecuteTime": {
     "end_time": "2025-07-27T10:24:28.224024Z",
     "start_time": "2025-07-27T10:24:28.168608Z"
    }
   },
   "cell_type": "code",
   "source": "classifier.compile(optimizer='adam', loss='binary_crossentropy',metrics=['accuracy'])",
   "id": "44c1dc8e884f16c9",
   "outputs": [],
   "execution_count": 104
  },
  {
   "metadata": {
    "ExecuteTime": {
     "end_time": "2025-07-27T10:24:28.479435Z",
     "start_time": "2025-07-27T10:24:28.461708Z"
    }
   },
   "cell_type": "code",
   "source": "train_datagen=ImageDataGenerator(rescale=1./255,shear_range=0.2,zoom_range=0.2,horizontal_flip=True)",
   "id": "f6ce9da8632a7c00",
   "outputs": [],
   "execution_count": 105
  },
  {
   "metadata": {
    "ExecuteTime": {
     "end_time": "2025-07-27T10:24:28.707953Z",
     "start_time": "2025-07-27T10:24:28.689019Z"
    }
   },
   "cell_type": "code",
   "source": "test_datagen=ImageDataGenerator(rescale=1./255)",
   "id": "39b6dcd9e5c82161",
   "outputs": [],
   "execution_count": 106
  },
  {
   "metadata": {
    "ExecuteTime": {
     "end_time": "2025-07-27T10:24:29.241436Z",
     "start_time": "2025-07-27T10:24:28.833561Z"
    }
   },
   "cell_type": "code",
   "source": "training_set=train_datagen.flow_from_directory('/kaggle/Non Kaggle Datasets/Cars and Flowers/training_set',target_size=(64,64),batch_size=32,class_mode='binary')\n",
   "id": "2e7dfdb8dd81e8af",
   "outputs": [
    {
     "name": "stdout",
     "output_type": "stream",
     "text": [
      "Found 2838 images belonging to 2 classes.\n"
     ]
    }
   ],
   "execution_count": 107
  },
  {
   "metadata": {
    "ExecuteTime": {
     "end_time": "2025-07-27T10:24:29.465855Z",
     "start_time": "2025-07-27T10:24:29.312267Z"
    }
   },
   "cell_type": "code",
   "source": "test_set=test_datagen.flow_from_directory('/kaggle/Non Kaggle Datasets/Cars and Flowers/test_set',target_size=(64,64),batch_size=32,class_mode='binary')",
   "id": "3979f09865cb90bc",
   "outputs": [
    {
     "name": "stdout",
     "output_type": "stream",
     "text": [
      "Found 709 images belonging to 2 classes.\n"
     ]
    }
   ],
   "execution_count": 108
  },
  {
   "metadata": {
    "ExecuteTime": {
     "end_time": "2025-07-27T10:31:08.535840Z",
     "start_time": "2025-07-27T10:24:29.605485Z"
    }
   },
   "cell_type": "code",
   "source": "classifier.fit(training_set,steps_per_epoch=10000,epochs=20,validation_data=test_set,validation_steps=2500,shuffle=False)",
   "id": "825da784f34ae6d5",
   "outputs": [
    {
     "name": "stdout",
     "output_type": "stream",
     "text": [
      "Epoch 1/20\n",
      "\u001B[1m10000/10000\u001B[0m \u001B[32m━━━━━━━━━━━━━━━━━━━━\u001B[0m\u001B[37m\u001B[0m \u001B[1m24s\u001B[0m 2ms/step - accuracy: 0.6727 - loss: 0.6036 - val_accuracy: 0.6714 - val_loss: 0.7128\n",
      "Epoch 2/20\n",
      "\u001B[1m10000/10000\u001B[0m \u001B[32m━━━━━━━━━━━━━━━━━━━━\u001B[0m\u001B[37m\u001B[0m \u001B[1m20s\u001B[0m 2ms/step - accuracy: 0.7785 - loss: 0.4762 - val_accuracy: 0.8025 - val_loss: 0.4270\n",
      "Epoch 3/20\n",
      "\u001B[1m10000/10000\u001B[0m \u001B[32m━━━━━━━━━━━━━━━━━━━━\u001B[0m\u001B[37m\u001B[0m \u001B[1m20s\u001B[0m 2ms/step - accuracy: 0.8065 - loss: 0.4431 - val_accuracy: 0.7842 - val_loss: 0.4853\n",
      "Epoch 4/20\n",
      "\u001B[1m10000/10000\u001B[0m \u001B[32m━━━━━━━━━━━━━━━━━━━━\u001B[0m\u001B[37m\u001B[0m \u001B[1m20s\u001B[0m 2ms/step - accuracy: 0.8171 - loss: 0.4089 - val_accuracy: 0.8181 - val_loss: 0.3842\n",
      "Epoch 5/20\n",
      "\u001B[1m10000/10000\u001B[0m \u001B[32m━━━━━━━━━━━━━━━━━━━━\u001B[0m\u001B[37m\u001B[0m \u001B[1m20s\u001B[0m 2ms/step - accuracy: 0.8322 - loss: 0.3797 - val_accuracy: 0.8322 - val_loss: 0.3553\n",
      "Epoch 6/20\n",
      "\u001B[1m10000/10000\u001B[0m \u001B[32m━━━━━━━━━━━━━━━━━━━━\u001B[0m\u001B[37m\u001B[0m \u001B[1m20s\u001B[0m 2ms/step - accuracy: 0.8284 - loss: 0.3793 - val_accuracy: 0.8025 - val_loss: 0.4092\n",
      "Epoch 7/20\n",
      "\u001B[1m10000/10000\u001B[0m \u001B[32m━━━━━━━━━━━━━━━━━━━━\u001B[0m\u001B[37m\u001B[0m \u001B[1m20s\u001B[0m 2ms/step - accuracy: 0.8311 - loss: 0.3775 - val_accuracy: 0.8223 - val_loss: 0.3583\n",
      "Epoch 8/20\n",
      "\u001B[1m10000/10000\u001B[0m \u001B[32m━━━━━━━━━━━━━━━━━━━━\u001B[0m\u001B[37m\u001B[0m \u001B[1m21s\u001B[0m 2ms/step - accuracy: 0.8357 - loss: 0.3635 - val_accuracy: 0.8322 - val_loss: 0.3660\n",
      "Epoch 9/20\n",
      "\u001B[1m10000/10000\u001B[0m \u001B[32m━━━━━━━━━━━━━━━━━━━━\u001B[0m\u001B[37m\u001B[0m \u001B[1m18s\u001B[0m 2ms/step - accuracy: 0.8496 - loss: 0.3455 - val_accuracy: 0.8434 - val_loss: 0.3453\n",
      "Epoch 10/20\n",
      "\u001B[1m10000/10000\u001B[0m \u001B[32m━━━━━━━━━━━━━━━━━━━━\u001B[0m\u001B[37m\u001B[0m \u001B[1m19s\u001B[0m 2ms/step - accuracy: 0.8475 - loss: 0.3372 - val_accuracy: 0.8322 - val_loss: 0.3576\n",
      "Epoch 11/20\n",
      "\u001B[1m10000/10000\u001B[0m \u001B[32m━━━━━━━━━━━━━━━━━━━━\u001B[0m\u001B[37m\u001B[0m \u001B[1m19s\u001B[0m 2ms/step - accuracy: 0.8545 - loss: 0.3229 - val_accuracy: 0.8039 - val_loss: 0.4339\n",
      "Epoch 12/20\n",
      "\u001B[1m10000/10000\u001B[0m \u001B[32m━━━━━━━━━━━━━━━━━━━━\u001B[0m\u001B[37m\u001B[0m \u001B[1m24s\u001B[0m 2ms/step - accuracy: 0.8597 - loss: 0.3307 - val_accuracy: 0.8364 - val_loss: 0.3637\n",
      "Epoch 13/20\n",
      "\u001B[1m10000/10000\u001B[0m \u001B[32m━━━━━━━━━━━━━━━━━━━━\u001B[0m\u001B[37m\u001B[0m \u001B[1m23s\u001B[0m 2ms/step - accuracy: 0.8623 - loss: 0.3030 - val_accuracy: 0.8378 - val_loss: 0.3427\n",
      "Epoch 14/20\n",
      "\u001B[1m10000/10000\u001B[0m \u001B[32m━━━━━━━━━━━━━━━━━━━━\u001B[0m\u001B[37m\u001B[0m \u001B[1m20s\u001B[0m 2ms/step - accuracy: 0.8840 - loss: 0.2838 - val_accuracy: 0.8420 - val_loss: 0.3493\n",
      "Epoch 15/20\n",
      "\u001B[1m10000/10000\u001B[0m \u001B[32m━━━━━━━━━━━━━━━━━━━━\u001B[0m\u001B[37m\u001B[0m \u001B[1m18s\u001B[0m 2ms/step - accuracy: 0.8900 - loss: 0.2602 - val_accuracy: 0.8293 - val_loss: 0.3660\n",
      "Epoch 16/20\n",
      "\u001B[1m10000/10000\u001B[0m \u001B[32m━━━━━━━━━━━━━━━━━━━━\u001B[0m\u001B[37m\u001B[0m \u001B[1m18s\u001B[0m 2ms/step - accuracy: 0.8912 - loss: 0.2618 - val_accuracy: 0.8477 - val_loss: 0.3577\n",
      "Epoch 17/20\n",
      "\u001B[1m10000/10000\u001B[0m \u001B[32m━━━━━━━━━━━━━━━━━━━━\u001B[0m\u001B[37m\u001B[0m \u001B[1m18s\u001B[0m 2ms/step - accuracy: 0.8851 - loss: 0.2670 - val_accuracy: 0.8646 - val_loss: 0.3206\n",
      "Epoch 18/20\n",
      "\u001B[1m10000/10000\u001B[0m \u001B[32m━━━━━━━━━━━━━━━━━━━━\u001B[0m\u001B[37m\u001B[0m \u001B[1m18s\u001B[0m 2ms/step - accuracy: 0.8874 - loss: 0.2718 - val_accuracy: 0.8364 - val_loss: 0.3535\n",
      "Epoch 19/20\n",
      "\u001B[1m10000/10000\u001B[0m \u001B[32m━━━━━━━━━━━━━━━━━━━━\u001B[0m\u001B[37m\u001B[0m \u001B[1m18s\u001B[0m 2ms/step - accuracy: 0.9080 - loss: 0.2257 - val_accuracy: 0.8350 - val_loss: 0.3712\n",
      "Epoch 20/20\n",
      "\u001B[1m10000/10000\u001B[0m \u001B[32m━━━━━━━━━━━━━━━━━━━━\u001B[0m\u001B[37m\u001B[0m \u001B[1m19s\u001B[0m 2ms/step - accuracy: 0.9141 - loss: 0.2147 - val_accuracy: 0.7983 - val_loss: 0.4172\n"
     ]
    },
    {
     "data": {
      "text/plain": [
       "<keras.src.callbacks.history.History at 0x1d156783e00>"
      ]
     },
     "execution_count": 109,
     "metadata": {},
     "output_type": "execute_result"
    }
   ],
   "execution_count": 109
  }
 ],
 "metadata": {
  "kernelspec": {
   "display_name": "Python 3",
   "language": "python",
   "name": "python3"
  },
  "language_info": {
   "codemirror_mode": {
    "name": "ipython",
    "version": 2
   },
   "file_extension": ".py",
   "mimetype": "text/x-python",
   "name": "python",
   "nbconvert_exporter": "python",
   "pygments_lexer": "ipython2",
   "version": "2.7.6"
  }
 },
 "nbformat": 4,
 "nbformat_minor": 5
}
