{
 "cells": [
  {
   "cell_type": "code",
   "id": "initial_id",
   "metadata": {
    "collapsed": true,
    "ExecuteTime": {
     "end_time": "2025-07-26T05:03:39.337414Z",
     "start_time": "2025-07-26T05:03:39.321649Z"
    }
   },
   "source": [
    "from keras.models import Sequential\n",
    "from keras.layers import Conv2D, MaxPool2D, Flatten, Dense\n",
    "import numpy as np\n",
    "from tensorflow import random\n",
    "from tensorflow.keras.preprocessing.image import ImageDataGenerator"
   ],
   "outputs": [],
   "execution_count": 23
  },
  {
   "metadata": {
    "ExecuteTime": {
     "end_time": "2025-07-26T04:56:51.322382Z",
     "start_time": "2025-07-26T04:56:51.309139Z"
    }
   },
   "cell_type": "code",
   "source": [
    "seed = 1\n",
    "np.random.seed(seed)\n",
    "random.set_seed(seed)\n",
    "classifier = Sequential()"
   ],
   "id": "297a999db909287e",
   "outputs": [],
   "execution_count": 12
  },
  {
   "metadata": {
    "ExecuteTime": {
     "end_time": "2025-07-26T04:57:33.891798Z",
     "start_time": "2025-07-26T04:57:33.864676Z"
    }
   },
   "cell_type": "code",
   "source": "classifier.add(Conv2D(32,3,3, input_shape=(64,64,3),activation='relu'))",
   "id": "e5e0f8109008a7ae",
   "outputs": [],
   "execution_count": 14
  },
  {
   "metadata": {
    "ExecuteTime": {
     "end_time": "2025-07-26T04:57:48.923201Z",
     "start_time": "2025-07-26T04:57:48.913914Z"
    }
   },
   "cell_type": "code",
   "source": "classifier.add(MaxPool2D(2,2))",
   "id": "a05864e7c23ccb85",
   "outputs": [],
   "execution_count": 15
  },
  {
   "metadata": {
    "ExecuteTime": {
     "end_time": "2025-07-26T04:58:28.163429Z",
     "start_time": "2025-07-26T04:58:28.142448Z"
    }
   },
   "cell_type": "code",
   "source": "classifier.add(Flatten())",
   "id": "d8b67777c7182e6d",
   "outputs": [],
   "execution_count": 17
  },
  {
   "metadata": {
    "ExecuteTime": {
     "end_time": "2025-07-26T04:59:19.344822Z",
     "start_time": "2025-07-26T04:59:19.305376Z"
    }
   },
   "cell_type": "code",
   "source": "classifier.add(Dense(128, activation='relu'))",
   "id": "f0e4bb93ff6e7c73",
   "outputs": [],
   "execution_count": 18
  },
  {
   "metadata": {
    "ExecuteTime": {
     "end_time": "2025-07-26T04:59:37.226213Z",
     "start_time": "2025-07-26T04:59:37.207340Z"
    }
   },
   "cell_type": "code",
   "source": "classifier.add(Dense(1, activation='sigmoid'))",
   "id": "6e8ea18f4056a751",
   "outputs": [],
   "execution_count": 19
  },
  {
   "metadata": {
    "ExecuteTime": {
     "end_time": "2025-07-26T05:00:13.583368Z",
     "start_time": "2025-07-26T05:00:13.560270Z"
    }
   },
   "cell_type": "code",
   "source": [
    "classifier.compile(optimizer='adam', loss='binary_crossentropy', \\\n",
    "metrics=['accuracy'])"
   ],
   "id": "44c1dc8e884f16c9",
   "outputs": [],
   "execution_count": 20
  },
  {
   "metadata": {},
   "cell_type": "code",
   "outputs": [],
   "execution_count": null,
   "source": "",
   "id": "f6ce9da8632a7c00"
  }
 ],
 "metadata": {
  "kernelspec": {
   "display_name": "Python 3",
   "language": "python",
   "name": "python3"
  },
  "language_info": {
   "codemirror_mode": {
    "name": "ipython",
    "version": 2
   },
   "file_extension": ".py",
   "mimetype": "text/x-python",
   "name": "python",
   "nbconvert_exporter": "python",
   "pygments_lexer": "ipython2",
   "version": "2.7.6"
  }
 },
 "nbformat": 4,
 "nbformat_minor": 5
}
