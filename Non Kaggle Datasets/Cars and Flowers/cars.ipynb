{
 "cells": [
  {
   "cell_type": "code",
   "id": "initial_id",
   "metadata": {
    "collapsed": true,
    "ExecuteTime": {
     "end_time": "2025-07-27T09:54:10.945988Z",
     "start_time": "2025-07-27T09:54:10.936092Z"
    }
   },
   "source": [
    "import keras\n",
    "import tensorflow\n",
    "import numpy as np\n",
    "from tensorflow import random\n",
    "from keras.models import Sequential\n",
    "from keras.src.legacy.preprocessing.image import ImageDataGenerator\n",
    "from keras.src.layers import Dense, Dropout, Activation, Flatten,Conv2D,MaxPooling2D\n",
    "import warnings\n",
    "warnings.filterwarnings('ignore')\n",
    "from keras.src.legacy.preprocessing.image import ImageDataGenerator\n"
   ],
   "outputs": [],
   "execution_count": 55
  },
  {
   "metadata": {
    "ExecuteTime": {
     "end_time": "2025-07-27T09:54:10.971556Z",
     "start_time": "2025-07-27T09:54:10.958878Z"
    }
   },
   "cell_type": "code",
   "source": [
    "seed = 1\n",
    "np.random.seed(seed)\n",
    "random.set_seed(seed)\n",
    "classifier = Sequential()"
   ],
   "id": "297a999db909287e",
   "outputs": [],
   "execution_count": 56
  },
  {
   "metadata": {
    "ExecuteTime": {
     "end_time": "2025-07-27T09:54:10.995082Z",
     "start_time": "2025-07-27T09:54:10.988766Z"
    }
   },
   "cell_type": "code",
   "source": "classifier=Sequential()",
   "id": "e17ef34198b75b77",
   "outputs": [],
   "execution_count": 57
  },
  {
   "metadata": {
    "ExecuteTime": {
     "end_time": "2025-07-27T09:54:11.034505Z",
     "start_time": "2025-07-27T09:54:11.012863Z"
    }
   },
   "cell_type": "code",
   "source": "classifier.add(Conv2D(32,3,3, input_shape=(64,64,3),activation='relu'))",
   "id": "e5e0f8109008a7ae",
   "outputs": [],
   "execution_count": 58
  },
  {
   "metadata": {
    "ExecuteTime": {
     "end_time": "2025-07-27T09:54:11.066959Z",
     "start_time": "2025-07-27T09:54:11.057056Z"
    }
   },
   "cell_type": "code",
   "source": "classifier.add(MaxPooling2D(2,2))",
   "id": "a05864e7c23ccb85",
   "outputs": [],
   "execution_count": 59
  },
  {
   "metadata": {
    "ExecuteTime": {
     "end_time": "2025-07-27T09:54:11.092955Z",
     "start_time": "2025-07-27T09:54:11.084231Z"
    }
   },
   "cell_type": "code",
   "source": "classifier.add(Flatten())",
   "id": "d8b67777c7182e6d",
   "outputs": [],
   "execution_count": 60
  },
  {
   "metadata": {
    "ExecuteTime": {
     "end_time": "2025-07-27T09:54:11.133580Z",
     "start_time": "2025-07-27T09:54:11.113028Z"
    }
   },
   "cell_type": "code",
   "source": "classifier.add(Dense(128, activation='relu'))",
   "id": "f0e4bb93ff6e7c73",
   "outputs": [],
   "execution_count": 61
  },
  {
   "metadata": {
    "ExecuteTime": {
     "end_time": "2025-07-27T09:54:11.165259Z",
     "start_time": "2025-07-27T09:54:11.146459Z"
    }
   },
   "cell_type": "code",
   "source": "classifier.add(Dense(1, activation='sigmoid'))",
   "id": "6e8ea18f4056a751",
   "outputs": [],
   "execution_count": 62
  },
  {
   "metadata": {
    "ExecuteTime": {
     "end_time": "2025-07-27T09:54:11.193875Z",
     "start_time": "2025-07-27T09:54:11.178291Z"
    }
   },
   "cell_type": "code",
   "source": "classifier.compile(optimizer='adam', loss='binary_crossentropy',metrics=['accuracy'])",
   "id": "44c1dc8e884f16c9",
   "outputs": [],
   "execution_count": 63
  },
  {
   "metadata": {
    "ExecuteTime": {
     "end_time": "2025-07-27T09:54:11.221542Z",
     "start_time": "2025-07-27T09:54:11.215063Z"
    }
   },
   "cell_type": "code",
   "source": "train_datagen=ImageDataGenerator(rescale=1./255,shear_range=0.2,zoom_range=0.2,horizontal_flip=True)",
   "id": "f6ce9da8632a7c00",
   "outputs": [],
   "execution_count": 64
  },
  {
   "metadata": {
    "ExecuteTime": {
     "end_time": "2025-07-27T09:54:11.244228Z",
     "start_time": "2025-07-27T09:54:11.238527Z"
    }
   },
   "cell_type": "code",
   "source": "test_datagen=ImageDataGenerator(rescale=1./255)",
   "id": "39b6dcd9e5c82161",
   "outputs": [],
   "execution_count": 65
  },
  {
   "metadata": {
    "ExecuteTime": {
     "end_time": "2025-07-27T09:54:11.351882Z",
     "start_time": "2025-07-27T09:54:11.263269Z"
    }
   },
   "cell_type": "code",
   "source": "training_set=train_datagen.flow_from_directory('/kaggle/Non Kaggle Datasets/Cars and Flowers/training_set',target_size=(64,64),batch_size=32,class_mode='binary')\n",
   "id": "2e7dfdb8dd81e8af",
   "outputs": [
    {
     "name": "stdout",
     "output_type": "stream",
     "text": [
      "Found 2838 images belonging to 2 classes.\n"
     ]
    }
   ],
   "execution_count": 66
  },
  {
   "metadata": {
    "ExecuteTime": {
     "end_time": "2025-07-27T09:54:11.430868Z",
     "start_time": "2025-07-27T09:54:11.389882Z"
    }
   },
   "cell_type": "code",
   "source": "test_set=test_datagen.flow_from_directory('/kaggle/Non Kaggle Datasets/Cars and Flowers/test_set',target_size=(64,64),batch_size=32,class_mode='binary')",
   "id": "3979f09865cb90bc",
   "outputs": [
    {
     "name": "stdout",
     "output_type": "stream",
     "text": [
      "Found 709 images belonging to 2 classes.\n"
     ]
    }
   ],
   "execution_count": 67
  },
  {
   "metadata": {
    "ExecuteTime": {
     "end_time": "2025-07-27T09:56:35.055060Z",
     "start_time": "2025-07-27T09:54:11.501898Z"
    }
   },
   "cell_type": "code",
   "source": "classifier.fit(training_set,steps_per_epoch=10000,epochs=20,validation_data=test_set,validation_steps=2500,shuffle=False)",
   "id": "825da784f34ae6d5",
   "outputs": [
    {
     "name": "stdout",
     "output_type": "stream",
     "text": [
      "Epoch 1/20\n",
      "\u001B[1m10000/10000\u001B[0m \u001B[32m━━━━━━━━━━━━━━━━━━━━\u001B[0m\u001B[37m\u001B[0m \u001B[1m6s\u001B[0m 526us/step - accuracy: 0.7162 - loss: 0.5572 - val_accuracy: 0.7292 - val_loss: 0.5255\n",
      "Epoch 2/20\n",
      "\u001B[1m10000/10000\u001B[0m \u001B[32m━━━━━━━━━━━━━━━━━━━━\u001B[0m\u001B[37m\u001B[0m \u001B[1m6s\u001B[0m 558us/step - accuracy: 0.7755 - loss: 0.4766 - val_accuracy: 0.7010 - val_loss: 0.5536\n",
      "Epoch 3/20\n",
      "\u001B[1m10000/10000\u001B[0m \u001B[32m━━━━━━━━━━━━━━━━━━━━\u001B[0m\u001B[37m\u001B[0m \u001B[1m6s\u001B[0m 589us/step - accuracy: 0.7965 - loss: 0.4435 - val_accuracy: 0.7447 - val_loss: 0.5587\n",
      "Epoch 4/20\n",
      "\u001B[1m10000/10000\u001B[0m \u001B[32m━━━━━━━━━━━━━━━━━━━━\u001B[0m\u001B[37m\u001B[0m \u001B[1m6s\u001B[0m 576us/step - accuracy: 0.8029 - loss: 0.4257 - val_accuracy: 0.8068 - val_loss: 0.4057\n",
      "Epoch 5/20\n",
      "\u001B[1m10000/10000\u001B[0m \u001B[32m━━━━━━━━━━━━━━━━━━━━\u001B[0m\u001B[37m\u001B[0m \u001B[1m6s\u001B[0m 604us/step - accuracy: 0.8217 - loss: 0.4034 - val_accuracy: 0.8082 - val_loss: 0.4114\n",
      "Epoch 6/20\n",
      "\u001B[1m10000/10000\u001B[0m \u001B[32m━━━━━━━━━━━━━━━━━━━━\u001B[0m\u001B[37m\u001B[0m \u001B[1m7s\u001B[0m 643us/step - accuracy: 0.8183 - loss: 0.3966 - val_accuracy: 0.7588 - val_loss: 0.4841\n",
      "Epoch 7/20\n",
      "\u001B[1m10000/10000\u001B[0m \u001B[32m━━━━━━━━━━━━━━━━━━━━\u001B[0m\u001B[37m\u001B[0m \u001B[1m7s\u001B[0m 691us/step - accuracy: 0.8243 - loss: 0.4001 - val_accuracy: 0.7997 - val_loss: 0.4196\n",
      "Epoch 8/20\n",
      "\u001B[1m10000/10000\u001B[0m \u001B[32m━━━━━━━━━━━━━━━━━━━━\u001B[0m\u001B[37m\u001B[0m \u001B[1m9s\u001B[0m 912us/step - accuracy: 0.8305 - loss: 0.3824 - val_accuracy: 0.8124 - val_loss: 0.3976\n",
      "Epoch 9/20\n",
      "\u001B[1m10000/10000\u001B[0m \u001B[32m━━━━━━━━━━━━━━━━━━━━\u001B[0m\u001B[37m\u001B[0m \u001B[1m9s\u001B[0m 922us/step - accuracy: 0.8334 - loss: 0.3729 - val_accuracy: 0.8152 - val_loss: 0.4174\n",
      "Epoch 10/20\n",
      "\u001B[1m10000/10000\u001B[0m \u001B[32m━━━━━━━━━━━━━━━━━━━━\u001B[0m\u001B[37m\u001B[0m \u001B[1m9s\u001B[0m 890us/step - accuracy: 0.8315 - loss: 0.3765 - val_accuracy: 0.8082 - val_loss: 0.4082\n",
      "Epoch 11/20\n",
      "\u001B[1m10000/10000\u001B[0m \u001B[32m━━━━━━━━━━━━━━━━━━━━\u001B[0m\u001B[37m\u001B[0m \u001B[1m8s\u001B[0m 779us/step - accuracy: 0.8386 - loss: 0.3579 - val_accuracy: 0.7927 - val_loss: 0.4626\n",
      "Epoch 12/20\n",
      "\u001B[1m10000/10000\u001B[0m \u001B[32m━━━━━━━━━━━━━━━━━━━━\u001B[0m\u001B[37m\u001B[0m \u001B[1m5s\u001B[0m 513us/step - accuracy: 0.8396 - loss: 0.3667 - val_accuracy: 0.8054 - val_loss: 0.4027\n",
      "Epoch 13/20\n",
      "\u001B[1m10000/10000\u001B[0m \u001B[32m━━━━━━━━━━━━━━━━━━━━\u001B[0m\u001B[37m\u001B[0m \u001B[1m6s\u001B[0m 573us/step - accuracy: 0.8467 - loss: 0.3530 - val_accuracy: 0.8152 - val_loss: 0.3967\n",
      "Epoch 14/20\n",
      "\u001B[1m10000/10000\u001B[0m \u001B[32m━━━━━━━━━━━━━━━━━━━━\u001B[0m\u001B[37m\u001B[0m \u001B[1m7s\u001B[0m 643us/step - accuracy: 0.8517 - loss: 0.3414 - val_accuracy: 0.8025 - val_loss: 0.4115\n",
      "Epoch 15/20\n",
      "\u001B[1m10000/10000\u001B[0m \u001B[32m━━━━━━━━━━━━━━━━━━━━\u001B[0m\u001B[37m\u001B[0m \u001B[1m6s\u001B[0m 617us/step - accuracy: 0.8480 - loss: 0.3371 - val_accuracy: 0.8039 - val_loss: 0.4191\n",
      "Epoch 16/20\n",
      "\u001B[1m10000/10000\u001B[0m \u001B[32m━━━━━━━━━━━━━━━━━━━━\u001B[0m\u001B[37m\u001B[0m \u001B[1m7s\u001B[0m 669us/step - accuracy: 0.8533 - loss: 0.3368 - val_accuracy: 0.8068 - val_loss: 0.3958\n",
      "Epoch 17/20\n",
      "\u001B[1m10000/10000\u001B[0m \u001B[32m━━━━━━━━━━━━━━━━━━━━\u001B[0m\u001B[37m\u001B[0m \u001B[1m10s\u001B[0m 940us/step - accuracy: 0.8545 - loss: 0.3311 - val_accuracy: 0.8124 - val_loss: 0.4121\n",
      "Epoch 18/20\n",
      "\u001B[1m10000/10000\u001B[0m \u001B[32m━━━━━━━━━━━━━━━━━━━━\u001B[0m\u001B[37m\u001B[0m \u001B[1m9s\u001B[0m 922us/step - accuracy: 0.8553 - loss: 0.3310 - val_accuracy: 0.8181 - val_loss: 0.3881\n",
      "Epoch 19/20\n",
      "\u001B[1m10000/10000\u001B[0m \u001B[32m━━━━━━━━━━━━━━━━━━━━\u001B[0m\u001B[37m\u001B[0m \u001B[1m9s\u001B[0m 886us/step - accuracy: 0.8573 - loss: 0.3232 - val_accuracy: 0.8195 - val_loss: 0.3843\n",
      "Epoch 20/20\n",
      "\u001B[1m10000/10000\u001B[0m \u001B[32m━━━━━━━━━━━━━━━━━━━━\u001B[0m\u001B[37m\u001B[0m \u001B[1m6s\u001B[0m 589us/step - accuracy: 0.8651 - loss: 0.3141 - val_accuracy: 0.8195 - val_loss: 0.3952\n"
     ]
    },
    {
     "data": {
      "text/plain": [
       "<keras.src.callbacks.history.History at 0x23bc5ea8b90>"
      ]
     },
     "execution_count": 68,
     "metadata": {},
     "output_type": "execute_result"
    }
   ],
   "execution_count": 68
  }
 ],
 "metadata": {
  "kernelspec": {
   "display_name": "Python 3",
   "language": "python",
   "name": "python3"
  },
  "language_info": {
   "codemirror_mode": {
    "name": "ipython",
    "version": 2
   },
   "file_extension": ".py",
   "mimetype": "text/x-python",
   "name": "python",
   "nbconvert_exporter": "python",
   "pygments_lexer": "ipython2",
   "version": "2.7.6"
  }
 },
 "nbformat": 4,
 "nbformat_minor": 5
}
