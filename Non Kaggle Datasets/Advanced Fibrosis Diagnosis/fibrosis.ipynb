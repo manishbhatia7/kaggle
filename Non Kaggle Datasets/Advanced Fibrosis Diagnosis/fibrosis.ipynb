{
 "cells": [
  {
   "cell_type": "code",
   "id": "initial_id",
   "metadata": {
    "collapsed": true,
    "ExecuteTime": {
     "end_time": "2025-07-22T05:37:25.379475Z",
     "start_time": "2025-07-22T05:37:25.371555Z"
    }
   },
   "source": [
    "import pandas as pd\n",
    "import numpy as np\n",
    "from keras import Sequential,layers,optimizers\n",
    "from keras.layers import Dense"
   ],
   "outputs": [],
   "execution_count": 29
  },
  {
   "metadata": {
    "ExecuteTime": {
     "end_time": "2025-07-22T05:37:25.402306Z",
     "start_time": "2025-07-22T05:37:25.390243Z"
    }
   },
   "cell_type": "code",
   "source": [
    "X=pd.read_csv('HCV_feats.csv')\n",
    "y=pd.read_csv('HCV_target.csv')"
   ],
   "id": "f9a6b445cdcd6b61",
   "outputs": [],
   "execution_count": 30
  },
  {
   "metadata": {
    "ExecuteTime": {
     "end_time": "2025-07-22T05:37:25.466229Z",
     "start_time": "2025-07-22T05:37:25.449053Z"
    }
   },
   "cell_type": "code",
   "source": "X.head()",
   "id": "a90476d901913392",
   "outputs": [
    {
     "data": {
      "text/plain": [
       "   Age   Gender  BMI  Fever  Nausea/Vomting  Headache   Diarrhea   \\\n",
       "0    56       1   35      2               1          1          1   \n",
       "1    46       1   29      1               2          2          1   \n",
       "2    57       1   33      2               2          2          2   \n",
       "3    49       2   33      1               2          1          2   \n",
       "4    59       1   32      1               1          2          1   \n",
       "\n",
       "   Fatigue & generalized bone ache   Jaundice   Epigastric pain   ...  ALT 24  \\\n",
       "0                                 2          2                 2  ...      81   \n",
       "1                                 2          2                 1  ...     113   \n",
       "2                                 1          1                 1  ...     116   \n",
       "3                                 1          2                 1  ...      88   \n",
       "4                                 2          2                 2  ...     120   \n",
       "\n",
       "   ALT 36  ALT 48  ALT after 24 w  RNA Base   RNA 4   RNA 12  RNA EOT  RNA EF  \\\n",
       "0       5       5               5    655330  634536   288194        5       5   \n",
       "1      57     123              44     40620  538635   637056   336804   31085   \n",
       "2       5       5               5    571148  661346        5   735945  558829   \n",
       "3      48      77              33   1041941  449939   585688   744463  582301   \n",
       "4      94      90              30    660410  738756  3731527   338946  242861   \n",
       "\n",
       "   Baseline histological Grading  \n",
       "0                             13  \n",
       "1                              4  \n",
       "2                              4  \n",
       "3                             10  \n",
       "4                             11  \n",
       "\n",
       "[5 rows x 28 columns]"
      ],
      "text/html": [
       "<div>\n",
       "<style scoped>\n",
       "    .dataframe tbody tr th:only-of-type {\n",
       "        vertical-align: middle;\n",
       "    }\n",
       "\n",
       "    .dataframe tbody tr th {\n",
       "        vertical-align: top;\n",
       "    }\n",
       "\n",
       "    .dataframe thead th {\n",
       "        text-align: right;\n",
       "    }\n",
       "</style>\n",
       "<table border=\"1\" class=\"dataframe\">\n",
       "  <thead>\n",
       "    <tr style=\"text-align: right;\">\n",
       "      <th></th>\n",
       "      <th>Age</th>\n",
       "      <th>Gender</th>\n",
       "      <th>BMI</th>\n",
       "      <th>Fever</th>\n",
       "      <th>Nausea/Vomting</th>\n",
       "      <th>Headache</th>\n",
       "      <th>Diarrhea</th>\n",
       "      <th>Fatigue &amp; generalized bone ache</th>\n",
       "      <th>Jaundice</th>\n",
       "      <th>Epigastric pain</th>\n",
       "      <th>...</th>\n",
       "      <th>ALT 24</th>\n",
       "      <th>ALT 36</th>\n",
       "      <th>ALT 48</th>\n",
       "      <th>ALT after 24 w</th>\n",
       "      <th>RNA Base</th>\n",
       "      <th>RNA 4</th>\n",
       "      <th>RNA 12</th>\n",
       "      <th>RNA EOT</th>\n",
       "      <th>RNA EF</th>\n",
       "      <th>Baseline histological Grading</th>\n",
       "    </tr>\n",
       "  </thead>\n",
       "  <tbody>\n",
       "    <tr>\n",
       "      <th>0</th>\n",
       "      <td>56</td>\n",
       "      <td>1</td>\n",
       "      <td>35</td>\n",
       "      <td>2</td>\n",
       "      <td>1</td>\n",
       "      <td>1</td>\n",
       "      <td>1</td>\n",
       "      <td>2</td>\n",
       "      <td>2</td>\n",
       "      <td>2</td>\n",
       "      <td>...</td>\n",
       "      <td>81</td>\n",
       "      <td>5</td>\n",
       "      <td>5</td>\n",
       "      <td>5</td>\n",
       "      <td>655330</td>\n",
       "      <td>634536</td>\n",
       "      <td>288194</td>\n",
       "      <td>5</td>\n",
       "      <td>5</td>\n",
       "      <td>13</td>\n",
       "    </tr>\n",
       "    <tr>\n",
       "      <th>1</th>\n",
       "      <td>46</td>\n",
       "      <td>1</td>\n",
       "      <td>29</td>\n",
       "      <td>1</td>\n",
       "      <td>2</td>\n",
       "      <td>2</td>\n",
       "      <td>1</td>\n",
       "      <td>2</td>\n",
       "      <td>2</td>\n",
       "      <td>1</td>\n",
       "      <td>...</td>\n",
       "      <td>113</td>\n",
       "      <td>57</td>\n",
       "      <td>123</td>\n",
       "      <td>44</td>\n",
       "      <td>40620</td>\n",
       "      <td>538635</td>\n",
       "      <td>637056</td>\n",
       "      <td>336804</td>\n",
       "      <td>31085</td>\n",
       "      <td>4</td>\n",
       "    </tr>\n",
       "    <tr>\n",
       "      <th>2</th>\n",
       "      <td>57</td>\n",
       "      <td>1</td>\n",
       "      <td>33</td>\n",
       "      <td>2</td>\n",
       "      <td>2</td>\n",
       "      <td>2</td>\n",
       "      <td>2</td>\n",
       "      <td>1</td>\n",
       "      <td>1</td>\n",
       "      <td>1</td>\n",
       "      <td>...</td>\n",
       "      <td>116</td>\n",
       "      <td>5</td>\n",
       "      <td>5</td>\n",
       "      <td>5</td>\n",
       "      <td>571148</td>\n",
       "      <td>661346</td>\n",
       "      <td>5</td>\n",
       "      <td>735945</td>\n",
       "      <td>558829</td>\n",
       "      <td>4</td>\n",
       "    </tr>\n",
       "    <tr>\n",
       "      <th>3</th>\n",
       "      <td>49</td>\n",
       "      <td>2</td>\n",
       "      <td>33</td>\n",
       "      <td>1</td>\n",
       "      <td>2</td>\n",
       "      <td>1</td>\n",
       "      <td>2</td>\n",
       "      <td>1</td>\n",
       "      <td>2</td>\n",
       "      <td>1</td>\n",
       "      <td>...</td>\n",
       "      <td>88</td>\n",
       "      <td>48</td>\n",
       "      <td>77</td>\n",
       "      <td>33</td>\n",
       "      <td>1041941</td>\n",
       "      <td>449939</td>\n",
       "      <td>585688</td>\n",
       "      <td>744463</td>\n",
       "      <td>582301</td>\n",
       "      <td>10</td>\n",
       "    </tr>\n",
       "    <tr>\n",
       "      <th>4</th>\n",
       "      <td>59</td>\n",
       "      <td>1</td>\n",
       "      <td>32</td>\n",
       "      <td>1</td>\n",
       "      <td>1</td>\n",
       "      <td>2</td>\n",
       "      <td>1</td>\n",
       "      <td>2</td>\n",
       "      <td>2</td>\n",
       "      <td>2</td>\n",
       "      <td>...</td>\n",
       "      <td>120</td>\n",
       "      <td>94</td>\n",
       "      <td>90</td>\n",
       "      <td>30</td>\n",
       "      <td>660410</td>\n",
       "      <td>738756</td>\n",
       "      <td>3731527</td>\n",
       "      <td>338946</td>\n",
       "      <td>242861</td>\n",
       "      <td>11</td>\n",
       "    </tr>\n",
       "  </tbody>\n",
       "</table>\n",
       "<p>5 rows × 28 columns</p>\n",
       "</div>"
      ]
     },
     "execution_count": 31,
     "metadata": {},
     "output_type": "execute_result"
    }
   ],
   "execution_count": 31
  },
  {
   "metadata": {
    "ExecuteTime": {
     "end_time": "2025-07-22T05:37:25.542840Z",
     "start_time": "2025-07-22T05:37:25.535784Z"
    }
   },
   "cell_type": "code",
   "source": [
    "print(X.shape,y.shape)\n",
    "print(np.unique(y))"
   ],
   "id": "1abc0067506027ee",
   "outputs": [
    {
     "name": "stdout",
     "output_type": "stream",
     "text": [
      "(1385, 28) (1385, 1)\n",
      "[0 1]\n"
     ]
    }
   ],
   "execution_count": 32
  },
  {
   "metadata": {
    "ExecuteTime": {
     "end_time": "2025-07-22T05:37:25.698630Z",
     "start_time": "2025-07-22T05:37:25.691047Z"
    }
   },
   "cell_type": "code",
   "source": [
    "from sklearn.model_selection import train_test_split\n",
    "from sklearn.preprocessing import StandardScaler\n",
    "import matplotlib.pyplot as plt\n",
    "%matplotlib inline\n",
    "from tensorflow import random"
   ],
   "id": "bb9c52a730283a02",
   "outputs": [],
   "execution_count": 33
  },
  {
   "metadata": {
    "ExecuteTime": {
     "end_time": "2025-07-22T05:37:25.813690Z",
     "start_time": "2025-07-22T05:37:25.790125Z"
    }
   },
   "cell_type": "code",
   "source": [
    "seed=1\n",
    "np.random.seed(seed)\n",
    "random.set_seed(seed)\n",
    "sc=StandardScaler()\n",
    "X=pd.DataFrame(sc.fit_transform(X),columns=X.columns)\n",
    "X_train,X_test,y_train,y_test=train_test_split(X,y,test_size=0.2,random_state=seed,shuffle=False)"
   ],
   "id": "260b4d71142810ba",
   "outputs": [],
   "execution_count": 34
  },
  {
   "metadata": {
    "ExecuteTime": {
     "end_time": "2025-07-22T05:37:25.859344Z",
     "start_time": "2025-07-22T05:37:25.853702Z"
    }
   },
   "cell_type": "code",
   "source": "print(X_train.shape,X_test.shape,y_train.shape,y_test.shape)",
   "id": "58581dab85789068",
   "outputs": [
    {
     "name": "stdout",
     "output_type": "stream",
     "text": [
      "(1108, 28) (277, 28) (1108, 1) (277, 1)\n"
     ]
    }
   ],
   "execution_count": 35
  },
  {
   "metadata": {
    "ExecuteTime": {
     "end_time": "2025-07-22T05:37:25.934766Z",
     "start_time": "2025-07-22T05:37:25.929010Z"
    }
   },
   "cell_type": "code",
   "source": [
    "def create_model():\n",
    "    model=Sequential()\n",
    "    model.add(Dense(units = 3, activation = 'tanh', input_dim=X_train.shape[1]))\n",
    "    model.add(Dense(units = 1, activation = 'sigmoid'))\n",
    "    model.compile(loss='binary_crossentropy', optimizer='sgd', metrics=['accuracy'])\n",
    "    return model\n"
   ],
   "id": "e88f076045072b65",
   "outputs": [],
   "execution_count": 36
  },
  {
   "metadata": {
    "ExecuteTime": {
     "end_time": "2025-07-22T05:37:26.002767Z",
     "start_time": "2025-07-22T05:37:25.993726Z"
    }
   },
   "cell_type": "code",
   "source": "",
   "id": "981da7997c9ca71f",
   "outputs": [],
   "execution_count": null
  },
  {
   "metadata": {
    "ExecuteTime": {
     "end_time": "2025-07-22T05:37:41.540564Z",
     "start_time": "2025-07-22T05:37:26.195927Z"
    }
   },
   "cell_type": "code",
   "source": [
    "clf=create_model()\n",
    "history=clf.fit(X_train,y_train,epochs=100,batch_size=20,validation_split=0.1,shuffle=False,verbose=2)\n",
    "plt.subplot(2,1,1)\n",
    "plt.plot(history.history['accuracy'])\n",
    "plt.plot(history.history['val_accuracy'])\n",
    "plt.title('Model Accuracy')\n",
    "plt.xlabel('Epoch')\n",
    "plt.ylabel('Accuracy')\n",
    "plt.legend(['Train', 'Validation'],loc='upper left')\n",
    "plt.show()\n",
    "plt.subplot(2,1,2)\n",
    "plt.plot(history.history['loss'])\n",
    "plt.plot(history.history['val_loss'])\n",
    "plt.title('Model Loss')\n",
    "plt.xlabel('Epoch')\n",
    "plt.ylabel('Loss')\n",
    "plt.legend(['Train', 'Validation'],loc='upper left')\n",
    "plt.show()\n"
   ],
   "id": "988ceea74a1bddb2",
   "outputs": [
    {
     "name": "stdout",
     "output_type": "stream",
     "text": [
      "Epoch 1/100\n"
     ]
    },
    {
     "name": "stderr",
     "output_type": "stream",
     "text": [
      "D:\\anaconda3\\Lib\\site-packages\\keras\\src\\layers\\core\\dense.py:93: UserWarning: Do not pass an `input_shape`/`input_dim` argument to a layer. When using Sequential models, prefer using an `Input(shape)` object as the first layer in the model instead.\n",
      "  super().__init__(activity_regularizer=activity_regularizer, **kwargs)\n"
     ]
    },
    {
     "name": "stdout",
     "output_type": "stream",
     "text": [
      "50/50 - 1s - 18ms/step - accuracy: 0.4664 - loss: 0.7722 - val_accuracy: 0.4775 - val_loss: 0.7646\n",
      "Epoch 2/100\n",
      "50/50 - 0s - 4ms/step - accuracy: 0.4724 - loss: 0.7599 - val_accuracy: 0.4775 - val_loss: 0.7573\n",
      "Epoch 3/100\n",
      "50/50 - 0s - 4ms/step - accuracy: 0.4714 - loss: 0.7498 - val_accuracy: 0.4955 - val_loss: 0.7513\n",
      "Epoch 4/100\n",
      "50/50 - 0s - 3ms/step - accuracy: 0.4714 - loss: 0.7414 - val_accuracy: 0.4865 - val_loss: 0.7463\n",
      "Epoch 5/100\n",
      "50/50 - 0s - 3ms/step - accuracy: 0.4784 - loss: 0.7343 - val_accuracy: 0.4775 - val_loss: 0.7422\n",
      "Epoch 6/100\n",
      "50/50 - 0s - 3ms/step - accuracy: 0.4865 - loss: 0.7282 - val_accuracy: 0.4865 - val_loss: 0.7387\n",
      "Epoch 7/100\n",
      "50/50 - 0s - 3ms/step - accuracy: 0.4885 - loss: 0.7231 - val_accuracy: 0.4595 - val_loss: 0.7358\n",
      "Epoch 8/100\n",
      "50/50 - 0s - 3ms/step - accuracy: 0.4915 - loss: 0.7187 - val_accuracy: 0.4595 - val_loss: 0.7334\n",
      "Epoch 9/100\n",
      "50/50 - 0s - 4ms/step - accuracy: 0.4935 - loss: 0.7149 - val_accuracy: 0.4595 - val_loss: 0.7313\n",
      "Epoch 10/100\n",
      "50/50 - 0s - 2ms/step - accuracy: 0.4985 - loss: 0.7116 - val_accuracy: 0.4505 - val_loss: 0.7295\n",
      "Epoch 11/100\n",
      "50/50 - 0s - 3ms/step - accuracy: 0.5035 - loss: 0.7087 - val_accuracy: 0.4505 - val_loss: 0.7280\n",
      "Epoch 12/100\n",
      "50/50 - 0s - 2ms/step - accuracy: 0.5025 - loss: 0.7062 - val_accuracy: 0.4595 - val_loss: 0.7267\n",
      "Epoch 13/100\n",
      "50/50 - 0s - 3ms/step - accuracy: 0.5095 - loss: 0.7039 - val_accuracy: 0.4324 - val_loss: 0.7257\n",
      "Epoch 14/100\n",
      "50/50 - 0s - 3ms/step - accuracy: 0.5155 - loss: 0.7019 - val_accuracy: 0.4054 - val_loss: 0.7247\n",
      "Epoch 15/100\n",
      "50/50 - 0s - 2ms/step - accuracy: 0.5216 - loss: 0.7002 - val_accuracy: 0.4144 - val_loss: 0.7239\n",
      "Epoch 16/100\n",
      "50/50 - 0s - 3ms/step - accuracy: 0.5276 - loss: 0.6986 - val_accuracy: 0.4144 - val_loss: 0.7233\n",
      "Epoch 17/100\n",
      "50/50 - 0s - 3ms/step - accuracy: 0.5296 - loss: 0.6972 - val_accuracy: 0.4144 - val_loss: 0.7227\n",
      "Epoch 18/100\n",
      "50/50 - 0s - 2ms/step - accuracy: 0.5316 - loss: 0.6960 - val_accuracy: 0.4144 - val_loss: 0.7222\n",
      "Epoch 19/100\n",
      "50/50 - 0s - 3ms/step - accuracy: 0.5366 - loss: 0.6948 - val_accuracy: 0.4144 - val_loss: 0.7218\n",
      "Epoch 20/100\n",
      "50/50 - 0s - 2ms/step - accuracy: 0.5416 - loss: 0.6938 - val_accuracy: 0.4054 - val_loss: 0.7215\n",
      "Epoch 21/100\n",
      "50/50 - 0s - 3ms/step - accuracy: 0.5426 - loss: 0.6929 - val_accuracy: 0.4054 - val_loss: 0.7212\n",
      "Epoch 22/100\n",
      "50/50 - 0s - 3ms/step - accuracy: 0.5476 - loss: 0.6920 - val_accuracy: 0.4054 - val_loss: 0.7209\n",
      "Epoch 23/100\n",
      "50/50 - 0s - 3ms/step - accuracy: 0.5507 - loss: 0.6913 - val_accuracy: 0.4054 - val_loss: 0.7207\n",
      "Epoch 24/100\n",
      "50/50 - 0s - 3ms/step - accuracy: 0.5517 - loss: 0.6905 - val_accuracy: 0.4054 - val_loss: 0.7206\n",
      "Epoch 25/100\n",
      "50/50 - 0s - 3ms/step - accuracy: 0.5537 - loss: 0.6899 - val_accuracy: 0.4054 - val_loss: 0.7204\n",
      "Epoch 26/100\n",
      "50/50 - 0s - 3ms/step - accuracy: 0.5547 - loss: 0.6893 - val_accuracy: 0.4054 - val_loss: 0.7203\n",
      "Epoch 27/100\n",
      "50/50 - 0s - 2ms/step - accuracy: 0.5517 - loss: 0.6887 - val_accuracy: 0.4054 - val_loss: 0.7202\n",
      "Epoch 28/100\n",
      "50/50 - 0s - 3ms/step - accuracy: 0.5587 - loss: 0.6882 - val_accuracy: 0.4144 - val_loss: 0.7202\n",
      "Epoch 29/100\n",
      "50/50 - 0s - 2ms/step - accuracy: 0.5577 - loss: 0.6877 - val_accuracy: 0.4234 - val_loss: 0.7201\n",
      "Epoch 30/100\n",
      "50/50 - 0s - 3ms/step - accuracy: 0.5537 - loss: 0.6873 - val_accuracy: 0.4414 - val_loss: 0.7201\n",
      "Epoch 31/100\n",
      "50/50 - 0s - 3ms/step - accuracy: 0.5547 - loss: 0.6868 - val_accuracy: 0.4414 - val_loss: 0.7201\n",
      "Epoch 32/100\n",
      "50/50 - 0s - 3ms/step - accuracy: 0.5547 - loss: 0.6864 - val_accuracy: 0.4324 - val_loss: 0.7201\n",
      "Epoch 33/100\n",
      "50/50 - 0s - 3ms/step - accuracy: 0.5527 - loss: 0.6861 - val_accuracy: 0.4414 - val_loss: 0.7201\n",
      "Epoch 34/100\n",
      "50/50 - 0s - 3ms/step - accuracy: 0.5547 - loss: 0.6857 - val_accuracy: 0.4414 - val_loss: 0.7202\n",
      "Epoch 35/100\n",
      "50/50 - 0s - 3ms/step - accuracy: 0.5537 - loss: 0.6854 - val_accuracy: 0.4324 - val_loss: 0.7202\n",
      "Epoch 36/100\n",
      "50/50 - 0s - 3ms/step - accuracy: 0.5517 - loss: 0.6850 - val_accuracy: 0.4414 - val_loss: 0.7202\n",
      "Epoch 37/100\n",
      "50/50 - 0s - 2ms/step - accuracy: 0.5496 - loss: 0.6847 - val_accuracy: 0.4414 - val_loss: 0.7203\n",
      "Epoch 38/100\n",
      "50/50 - 0s - 3ms/step - accuracy: 0.5496 - loss: 0.6844 - val_accuracy: 0.4414 - val_loss: 0.7204\n",
      "Epoch 39/100\n",
      "50/50 - 0s - 3ms/step - accuracy: 0.5517 - loss: 0.6841 - val_accuracy: 0.4414 - val_loss: 0.7204\n",
      "Epoch 40/100\n",
      "50/50 - 0s - 3ms/step - accuracy: 0.5537 - loss: 0.6839 - val_accuracy: 0.4414 - val_loss: 0.7205\n",
      "Epoch 41/100\n",
      "50/50 - 0s - 3ms/step - accuracy: 0.5567 - loss: 0.6836 - val_accuracy: 0.4414 - val_loss: 0.7206\n",
      "Epoch 42/100\n",
      "50/50 - 0s - 2ms/step - accuracy: 0.5567 - loss: 0.6833 - val_accuracy: 0.4414 - val_loss: 0.7207\n",
      "Epoch 43/100\n",
      "50/50 - 0s - 3ms/step - accuracy: 0.5587 - loss: 0.6831 - val_accuracy: 0.4414 - val_loss: 0.7208\n",
      "Epoch 44/100\n",
      "50/50 - 0s - 3ms/step - accuracy: 0.5597 - loss: 0.6829 - val_accuracy: 0.4414 - val_loss: 0.7209\n",
      "Epoch 45/100\n",
      "50/50 - 0s - 3ms/step - accuracy: 0.5637 - loss: 0.6826 - val_accuracy: 0.4414 - val_loss: 0.7210\n",
      "Epoch 46/100\n",
      "50/50 - 0s - 3ms/step - accuracy: 0.5637 - loss: 0.6824 - val_accuracy: 0.4414 - val_loss: 0.7211\n",
      "Epoch 47/100\n",
      "50/50 - 0s - 3ms/step - accuracy: 0.5637 - loss: 0.6822 - val_accuracy: 0.4414 - val_loss: 0.7212\n",
      "Epoch 48/100\n",
      "50/50 - 0s - 3ms/step - accuracy: 0.5627 - loss: 0.6820 - val_accuracy: 0.4414 - val_loss: 0.7213\n",
      "Epoch 49/100\n",
      "50/50 - 0s - 2ms/step - accuracy: 0.5637 - loss: 0.6817 - val_accuracy: 0.4414 - val_loss: 0.7214\n",
      "Epoch 50/100\n",
      "50/50 - 0s - 2ms/step - accuracy: 0.5657 - loss: 0.6815 - val_accuracy: 0.4505 - val_loss: 0.7215\n",
      "Epoch 51/100\n",
      "50/50 - 0s - 3ms/step - accuracy: 0.5687 - loss: 0.6813 - val_accuracy: 0.4414 - val_loss: 0.7216\n",
      "Epoch 52/100\n",
      "50/50 - 0s - 3ms/step - accuracy: 0.5727 - loss: 0.6811 - val_accuracy: 0.4414 - val_loss: 0.7217\n",
      "Epoch 53/100\n",
      "50/50 - 0s - 3ms/step - accuracy: 0.5737 - loss: 0.6809 - val_accuracy: 0.4414 - val_loss: 0.7218\n",
      "Epoch 54/100\n",
      "50/50 - 0s - 3ms/step - accuracy: 0.5767 - loss: 0.6808 - val_accuracy: 0.4414 - val_loss: 0.7220\n",
      "Epoch 55/100\n",
      "50/50 - 0s - 3ms/step - accuracy: 0.5757 - loss: 0.6806 - val_accuracy: 0.4414 - val_loss: 0.7221\n",
      "Epoch 56/100\n",
      "50/50 - 0s - 3ms/step - accuracy: 0.5727 - loss: 0.6804 - val_accuracy: 0.4414 - val_loss: 0.7222\n",
      "Epoch 57/100\n",
      "50/50 - 0s - 3ms/step - accuracy: 0.5727 - loss: 0.6802 - val_accuracy: 0.4414 - val_loss: 0.7223\n",
      "Epoch 58/100\n",
      "50/50 - 0s - 3ms/step - accuracy: 0.5717 - loss: 0.6800 - val_accuracy: 0.4414 - val_loss: 0.7225\n",
      "Epoch 59/100\n",
      "50/50 - 0s - 3ms/step - accuracy: 0.5727 - loss: 0.6798 - val_accuracy: 0.4414 - val_loss: 0.7226\n",
      "Epoch 60/100\n",
      "50/50 - 0s - 3ms/step - accuracy: 0.5747 - loss: 0.6797 - val_accuracy: 0.4414 - val_loss: 0.7227\n",
      "Epoch 61/100\n",
      "50/50 - 0s - 3ms/step - accuracy: 0.5757 - loss: 0.6795 - val_accuracy: 0.4414 - val_loss: 0.7229\n",
      "Epoch 62/100\n",
      "50/50 - 0s - 3ms/step - accuracy: 0.5767 - loss: 0.6793 - val_accuracy: 0.4505 - val_loss: 0.7230\n",
      "Epoch 63/100\n",
      "50/50 - 0s - 3ms/step - accuracy: 0.5787 - loss: 0.6792 - val_accuracy: 0.4505 - val_loss: 0.7232\n",
      "Epoch 64/100\n",
      "50/50 - 0s - 3ms/step - accuracy: 0.5807 - loss: 0.6790 - val_accuracy: 0.4505 - val_loss: 0.7233\n",
      "Epoch 65/100\n",
      "50/50 - 0s - 3ms/step - accuracy: 0.5817 - loss: 0.6788 - val_accuracy: 0.4505 - val_loss: 0.7234\n",
      "Epoch 66/100\n",
      "50/50 - 0s - 3ms/step - accuracy: 0.5827 - loss: 0.6787 - val_accuracy: 0.4505 - val_loss: 0.7236\n",
      "Epoch 67/100\n",
      "50/50 - 0s - 3ms/step - accuracy: 0.5817 - loss: 0.6785 - val_accuracy: 0.4505 - val_loss: 0.7237\n",
      "Epoch 68/100\n",
      "50/50 - 0s - 3ms/step - accuracy: 0.5807 - loss: 0.6783 - val_accuracy: 0.4505 - val_loss: 0.7239\n",
      "Epoch 69/100\n",
      "50/50 - 0s - 3ms/step - accuracy: 0.5787 - loss: 0.6782 - val_accuracy: 0.4505 - val_loss: 0.7240\n",
      "Epoch 70/100\n",
      "50/50 - 0s - 3ms/step - accuracy: 0.5787 - loss: 0.6780 - val_accuracy: 0.4505 - val_loss: 0.7241\n",
      "Epoch 71/100\n",
      "50/50 - 0s - 3ms/step - accuracy: 0.5767 - loss: 0.6778 - val_accuracy: 0.4414 - val_loss: 0.7243\n",
      "Epoch 72/100\n",
      "50/50 - 0s - 3ms/step - accuracy: 0.5747 - loss: 0.6777 - val_accuracy: 0.4414 - val_loss: 0.7244\n",
      "Epoch 73/100\n",
      "50/50 - 0s - 3ms/step - accuracy: 0.5747 - loss: 0.6775 - val_accuracy: 0.4414 - val_loss: 0.7246\n",
      "Epoch 74/100\n",
      "50/50 - 0s - 2ms/step - accuracy: 0.5747 - loss: 0.6774 - val_accuracy: 0.4505 - val_loss: 0.7247\n",
      "Epoch 75/100\n",
      "50/50 - 0s - 3ms/step - accuracy: 0.5727 - loss: 0.6772 - val_accuracy: 0.4505 - val_loss: 0.7249\n",
      "Epoch 76/100\n",
      "50/50 - 0s - 3ms/step - accuracy: 0.5747 - loss: 0.6771 - val_accuracy: 0.4505 - val_loss: 0.7250\n",
      "Epoch 77/100\n",
      "50/50 - 0s - 3ms/step - accuracy: 0.5757 - loss: 0.6769 - val_accuracy: 0.4595 - val_loss: 0.7252\n",
      "Epoch 78/100\n",
      "50/50 - 0s - 3ms/step - accuracy: 0.5757 - loss: 0.6768 - val_accuracy: 0.4595 - val_loss: 0.7253\n",
      "Epoch 79/100\n",
      "50/50 - 0s - 3ms/step - accuracy: 0.5757 - loss: 0.6766 - val_accuracy: 0.4595 - val_loss: 0.7255\n",
      "Epoch 80/100\n",
      "50/50 - 0s - 3ms/step - accuracy: 0.5747 - loss: 0.6765 - val_accuracy: 0.4595 - val_loss: 0.7256\n",
      "Epoch 81/100\n",
      "50/50 - 0s - 3ms/step - accuracy: 0.5727 - loss: 0.6763 - val_accuracy: 0.4595 - val_loss: 0.7258\n",
      "Epoch 82/100\n",
      "50/50 - 0s - 3ms/step - accuracy: 0.5737 - loss: 0.6762 - val_accuracy: 0.4595 - val_loss: 0.7259\n",
      "Epoch 83/100\n",
      "50/50 - 0s - 3ms/step - accuracy: 0.5737 - loss: 0.6760 - val_accuracy: 0.4595 - val_loss: 0.7261\n",
      "Epoch 84/100\n",
      "50/50 - 0s - 3ms/step - accuracy: 0.5747 - loss: 0.6759 - val_accuracy: 0.4595 - val_loss: 0.7262\n",
      "Epoch 85/100\n",
      "50/50 - 0s - 3ms/step - accuracy: 0.5757 - loss: 0.6757 - val_accuracy: 0.4595 - val_loss: 0.7264\n",
      "Epoch 86/100\n",
      "50/50 - 0s - 4ms/step - accuracy: 0.5747 - loss: 0.6756 - val_accuracy: 0.4595 - val_loss: 0.7265\n",
      "Epoch 87/100\n",
      "50/50 - 0s - 3ms/step - accuracy: 0.5767 - loss: 0.6754 - val_accuracy: 0.4595 - val_loss: 0.7267\n",
      "Epoch 88/100\n",
      "50/50 - 0s - 3ms/step - accuracy: 0.5777 - loss: 0.6753 - val_accuracy: 0.4595 - val_loss: 0.7268\n",
      "Epoch 89/100\n",
      "50/50 - 0s - 3ms/step - accuracy: 0.5777 - loss: 0.6752 - val_accuracy: 0.4595 - val_loss: 0.7270\n",
      "Epoch 90/100\n",
      "50/50 - 0s - 3ms/step - accuracy: 0.5777 - loss: 0.6750 - val_accuracy: 0.4595 - val_loss: 0.7271\n",
      "Epoch 91/100\n",
      "50/50 - 0s - 3ms/step - accuracy: 0.5797 - loss: 0.6749 - val_accuracy: 0.4595 - val_loss: 0.7273\n",
      "Epoch 92/100\n",
      "50/50 - 0s - 3ms/step - accuracy: 0.5827 - loss: 0.6747 - val_accuracy: 0.4595 - val_loss: 0.7274\n",
      "Epoch 93/100\n",
      "50/50 - 0s - 3ms/step - accuracy: 0.5838 - loss: 0.6746 - val_accuracy: 0.4595 - val_loss: 0.7276\n",
      "Epoch 94/100\n",
      "50/50 - 0s - 3ms/step - accuracy: 0.5817 - loss: 0.6745 - val_accuracy: 0.4595 - val_loss: 0.7277\n",
      "Epoch 95/100\n",
      "50/50 - 0s - 4ms/step - accuracy: 0.5858 - loss: 0.6743 - val_accuracy: 0.4595 - val_loss: 0.7279\n",
      "Epoch 96/100\n",
      "50/50 - 0s - 3ms/step - accuracy: 0.5858 - loss: 0.6742 - val_accuracy: 0.4595 - val_loss: 0.7281\n",
      "Epoch 97/100\n",
      "50/50 - 0s - 5ms/step - accuracy: 0.5868 - loss: 0.6741 - val_accuracy: 0.4505 - val_loss: 0.7282\n",
      "Epoch 98/100\n",
      "50/50 - 0s - 3ms/step - accuracy: 0.5858 - loss: 0.6739 - val_accuracy: 0.4505 - val_loss: 0.7284\n",
      "Epoch 99/100\n",
      "50/50 - 0s - 3ms/step - accuracy: 0.5858 - loss: 0.6738 - val_accuracy: 0.4505 - val_loss: 0.7285\n",
      "Epoch 100/100\n",
      "50/50 - 0s - 4ms/step - accuracy: 0.5868 - loss: 0.6737 - val_accuracy: 0.4505 - val_loss: 0.7287\n"
     ]
    },
    {
     "data": {
      "text/plain": [
       "<Figure size 640x480 with 1 Axes>"
      ],
      "image/png": "[encoded data removed]"
     },
     "metadata": {},
     "output_type": "display_data"
    },
    {
     "data": {
      "text/plain": [
       "<Figure size 640x480 with 1 Axes>"
      ],
      "image/png": "[encoded data removed]"
     },
     "metadata": {},
     "output_type": "display_data"
    }
   ],
   "execution_count": 37
  },
  {
   "metadata": {
    "ExecuteTime": {
     "end_time": "2025-07-22T05:37:42.162093Z",
     "start_time": "2025-07-22T05:37:42.151562Z"
    }
   },
   "cell_type": "code",
   "source": [
    "print(max(history.history['accuracy']*100))\n",
    "print(max(history.history['val_accuracy']*100))"
   ],
   "id": "ea4fa20e6af04572",
   "outputs": [
    {
     "name": "stdout",
     "output_type": "stream",
     "text": [
      "0.5867602825164795\n",
      "0.4954954981803894\n"
     ]
    }
   ],
   "execution_count": 38
  },
  {
   "metadata": {
    "ExecuteTime": {
     "end_time": "2025-07-22T05:37:42.349184Z",
     "start_time": "2025-07-22T05:37:42.220269Z"
    }
   },
   "cell_type": "code",
   "source": "clf.evaluate(X_test,y_test['AdvancedFibrosis'])",
   "id": "ad3e44bb58bc3b5b",
   "outputs": [
    {
     "name": "stdout",
     "output_type": "stream",
     "text": [
      "\u001B[1m9/9\u001B[0m \u001B[32m━━━━━━━━━━━━━━━━━━━━\u001B[0m\u001B[37m\u001B[0m \u001B[1m0s\u001B[0m 4ms/step - accuracy: 0.5672 - loss: 0.6720 \n"
     ]
    },
    {
     "data": {
      "text/plain": [
       "[0.6855624914169312, 0.5415162444114685]"
      ]
     },
     "execution_count": 39,
     "metadata": {},
     "output_type": "execute_result"
    }
   ],
   "execution_count": 39
  },
  {
   "metadata": {
    "ExecuteTime": {
     "end_time": "2025-07-22T05:37:42.390691Z",
     "start_time": "2025-07-22T05:37:42.383798Z"
    }
   },
   "cell_type": "code",
   "source": [
    "def create_model1():\n",
    "    model1=Sequential()\n",
    "    model1.add(Dense(units = 4, activation = 'tanh', input_dim=X_train.shape[1]))\n",
    "    model1.add(Dense(units = 3, activation = 'tanh'))\n",
    "    model1.add(Dense(units = 1, activation = 'sigmoid'))\n",
    "    model1.compile(loss='binary_crossentropy', optimizer='sgd', metrics=['accuracy'])\n",
    "    return model1"
   ],
   "id": "4a31d5507cc982f2",
   "outputs": [],
   "execution_count": 40
  },
  {
   "metadata": {
    "ExecuteTime": {
     "end_time": "2025-07-22T05:37:58.367706Z",
     "start_time": "2025-07-22T05:37:42.446419Z"
    }
   },
   "cell_type": "code",
   "source": [
    "clf1=create_model1()\n",
    "history1=clf1.fit(X_train,y_train,epochs=100,batch_size=20,validation_split=0.1,shuffle=False,verbose=2)\n",
    "plt.subplot(2,1,1)\n",
    "plt.plot(history1.history['accuracy'])\n",
    "plt.plot(history1.history['val_accuracy'])\n",
    "plt.title('Model Accuracy')\n",
    "plt.xlabel('Epoch')\n",
    "plt.ylabel('Accuracy')\n",
    "plt.legend(['Train', 'Validation'],loc='upper left')\n",
    "plt.show()\n",
    "plt.subplot(2,1,2)\n",
    "plt.plot(history1.history['loss'])\n",
    "plt.plot(history1.history['val_loss'])\n",
    "plt.title('Model Loss')\n",
    "plt.xlabel('Epoch')\n",
    "plt.ylabel('Loss')\n",
    "plt.legend(['Train', 'Validation'],loc='upper left')\n",
    "plt.show()"
   ],
   "id": "a1b0df8d52309ef3",
   "outputs": [
    {
     "name": "stdout",
     "output_type": "stream",
     "text": [
      "Epoch 1/100\n"
     ]
    },
    {
     "name": "stderr",
     "output_type": "stream",
     "text": [
      "D:\\anaconda3\\Lib\\site-packages\\keras\\src\\layers\\core\\dense.py:93: UserWarning: Do not pass an `input_shape`/`input_dim` argument to a layer. When using Sequential models, prefer using an `Input(shape)` object as the first layer in the model instead.\n",
      "  super().__init__(activity_regularizer=activity_regularizer, **kwargs)\n"
     ]
    },
    {
     "name": "stdout",
     "output_type": "stream",
     "text": [
      "50/50 - 1s - 16ms/step - accuracy: 0.5176 - loss: 0.7103 - val_accuracy: 0.5315 - val_loss: 0.7235\n",
      "Epoch 2/100\n",
      "50/50 - 0s - 3ms/step - accuracy: 0.5226 - loss: 0.7075 - val_accuracy: 0.5225 - val_loss: 0.7212\n",
      "Epoch 3/100\n",
      "50/50 - 0s - 3ms/step - accuracy: 0.5246 - loss: 0.7051 - val_accuracy: 0.5225 - val_loss: 0.7191\n",
      "Epoch 4/100\n",
      "50/50 - 0s - 3ms/step - accuracy: 0.5276 - loss: 0.7031 - val_accuracy: 0.5225 - val_loss: 0.7173\n",
      "Epoch 5/100\n",
      "50/50 - 0s - 3ms/step - accuracy: 0.5276 - loss: 0.7014 - val_accuracy: 0.5135 - val_loss: 0.7157\n",
      "Epoch 6/100\n",
      "50/50 - 0s - 4ms/step - accuracy: 0.5246 - loss: 0.6999 - val_accuracy: 0.5135 - val_loss: 0.7143\n",
      "Epoch 7/100\n",
      "50/50 - 0s - 4ms/step - accuracy: 0.5316 - loss: 0.6986 - val_accuracy: 0.5225 - val_loss: 0.7131\n",
      "Epoch 8/100\n",
      "50/50 - 0s - 3ms/step - accuracy: 0.5316 - loss: 0.6975 - val_accuracy: 0.5135 - val_loss: 0.7119\n",
      "Epoch 9/100\n",
      "50/50 - 0s - 4ms/step - accuracy: 0.5286 - loss: 0.6966 - val_accuracy: 0.5045 - val_loss: 0.7109\n",
      "Epoch 10/100\n",
      "50/50 - 0s - 3ms/step - accuracy: 0.5306 - loss: 0.6957 - val_accuracy: 0.5045 - val_loss: 0.7100\n",
      "Epoch 11/100\n",
      "50/50 - 0s - 3ms/step - accuracy: 0.5296 - loss: 0.6950 - val_accuracy: 0.4955 - val_loss: 0.7092\n",
      "Epoch 12/100\n",
      "50/50 - 0s - 3ms/step - accuracy: 0.5346 - loss: 0.6943 - val_accuracy: 0.4955 - val_loss: 0.7085\n",
      "Epoch 13/100\n",
      "50/50 - 0s - 2ms/step - accuracy: 0.5326 - loss: 0.6938 - val_accuracy: 0.4955 - val_loss: 0.7079\n",
      "Epoch 14/100\n",
      "50/50 - 0s - 3ms/step - accuracy: 0.5326 - loss: 0.6933 - val_accuracy: 0.5045 - val_loss: 0.7073\n",
      "Epoch 15/100\n",
      "50/50 - 0s - 3ms/step - accuracy: 0.5386 - loss: 0.6928 - val_accuracy: 0.5045 - val_loss: 0.7067\n",
      "Epoch 16/100\n",
      "50/50 - 0s - 3ms/step - accuracy: 0.5386 - loss: 0.6924 - val_accuracy: 0.4955 - val_loss: 0.7063\n",
      "Epoch 17/100\n",
      "50/50 - 0s - 3ms/step - accuracy: 0.5416 - loss: 0.6921 - val_accuracy: 0.4865 - val_loss: 0.7058\n",
      "Epoch 18/100\n",
      "50/50 - 0s - 3ms/step - accuracy: 0.5406 - loss: 0.6917 - val_accuracy: 0.5045 - val_loss: 0.7054\n",
      "Epoch 19/100\n",
      "50/50 - 0s - 3ms/step - accuracy: 0.5406 - loss: 0.6914 - val_accuracy: 0.5045 - val_loss: 0.7051\n",
      "Epoch 20/100\n",
      "50/50 - 0s - 3ms/step - accuracy: 0.5406 - loss: 0.6912 - val_accuracy: 0.5045 - val_loss: 0.7048\n",
      "Epoch 21/100\n",
      "50/50 - 0s - 3ms/step - accuracy: 0.5426 - loss: 0.6909 - val_accuracy: 0.5045 - val_loss: 0.7045\n",
      "Epoch 22/100\n",
      "50/50 - 0s - 3ms/step - accuracy: 0.5376 - loss: 0.6907 - val_accuracy: 0.4955 - val_loss: 0.7042\n",
      "Epoch 23/100\n",
      "50/50 - 0s - 3ms/step - accuracy: 0.5376 - loss: 0.6905 - val_accuracy: 0.4955 - val_loss: 0.7040\n",
      "Epoch 24/100\n",
      "50/50 - 0s - 3ms/step - accuracy: 0.5366 - loss: 0.6903 - val_accuracy: 0.4955 - val_loss: 0.7038\n",
      "Epoch 25/100\n",
      "50/50 - 0s - 3ms/step - accuracy: 0.5376 - loss: 0.6902 - val_accuracy: 0.4955 - val_loss: 0.7036\n",
      "Epoch 26/100\n",
      "50/50 - 0s - 2ms/step - accuracy: 0.5416 - loss: 0.6900 - val_accuracy: 0.4865 - val_loss: 0.7034\n",
      "Epoch 27/100\n",
      "50/50 - 0s - 3ms/step - accuracy: 0.5456 - loss: 0.6899 - val_accuracy: 0.4865 - val_loss: 0.7033\n",
      "Epoch 28/100\n",
      "50/50 - 0s - 3ms/step - accuracy: 0.5446 - loss: 0.6897 - val_accuracy: 0.4775 - val_loss: 0.7031\n",
      "Epoch 29/100\n",
      "50/50 - 0s - 3ms/step - accuracy: 0.5446 - loss: 0.6896 - val_accuracy: 0.4775 - val_loss: 0.7030\n",
      "Epoch 30/100\n",
      "50/50 - 0s - 3ms/step - accuracy: 0.5466 - loss: 0.6895 - val_accuracy: 0.4775 - val_loss: 0.7029\n",
      "Epoch 31/100\n",
      "50/50 - 0s - 3ms/step - accuracy: 0.5456 - loss: 0.6894 - val_accuracy: 0.4775 - val_loss: 0.7028\n",
      "Epoch 32/100\n",
      "50/50 - 0s - 3ms/step - accuracy: 0.5476 - loss: 0.6893 - val_accuracy: 0.4775 - val_loss: 0.7027\n",
      "Epoch 33/100\n",
      "50/50 - 0s - 3ms/step - accuracy: 0.5486 - loss: 0.6892 - val_accuracy: 0.4775 - val_loss: 0.7026\n",
      "Epoch 34/100\n",
      "50/50 - 0s - 2ms/step - accuracy: 0.5527 - loss: 0.6891 - val_accuracy: 0.4775 - val_loss: 0.7026\n",
      "Epoch 35/100\n",
      "50/50 - 0s - 3ms/step - accuracy: 0.5507 - loss: 0.6890 - val_accuracy: 0.4775 - val_loss: 0.7025\n",
      "Epoch 36/100\n",
      "50/50 - 0s - 3ms/step - accuracy: 0.5507 - loss: 0.6889 - val_accuracy: 0.4955 - val_loss: 0.7024\n",
      "Epoch 37/100\n",
      "50/50 - 0s - 3ms/step - accuracy: 0.5507 - loss: 0.6888 - val_accuracy: 0.4955 - val_loss: 0.7024\n",
      "Epoch 38/100\n",
      "50/50 - 0s - 3ms/step - accuracy: 0.5527 - loss: 0.6887 - val_accuracy: 0.4955 - val_loss: 0.7024\n",
      "Epoch 39/100\n",
      "50/50 - 0s - 3ms/step - accuracy: 0.5527 - loss: 0.6886 - val_accuracy: 0.4865 - val_loss: 0.7023\n",
      "Epoch 40/100\n",
      "50/50 - 0s - 3ms/step - accuracy: 0.5557 - loss: 0.6885 - val_accuracy: 0.4865 - val_loss: 0.7023\n",
      "Epoch 41/100\n",
      "50/50 - 0s - 3ms/step - accuracy: 0.5537 - loss: 0.6884 - val_accuracy: 0.4865 - val_loss: 0.7023\n",
      "Epoch 42/100\n",
      "50/50 - 0s - 2ms/step - accuracy: 0.5527 - loss: 0.6883 - val_accuracy: 0.4865 - val_loss: 0.7023\n",
      "Epoch 43/100\n",
      "50/50 - 0s - 3ms/step - accuracy: 0.5527 - loss: 0.6883 - val_accuracy: 0.4865 - val_loss: 0.7023\n",
      "Epoch 44/100\n",
      "50/50 - 0s - 3ms/step - accuracy: 0.5507 - loss: 0.6882 - val_accuracy: 0.4865 - val_loss: 0.7023\n",
      "Epoch 45/100\n",
      "50/50 - 0s - 3ms/step - accuracy: 0.5476 - loss: 0.6881 - val_accuracy: 0.4865 - val_loss: 0.7023\n",
      "Epoch 46/100\n",
      "50/50 - 0s - 3ms/step - accuracy: 0.5466 - loss: 0.6880 - val_accuracy: 0.4865 - val_loss: 0.7023\n",
      "Epoch 47/100\n",
      "50/50 - 0s - 3ms/step - accuracy: 0.5456 - loss: 0.6880 - val_accuracy: 0.4865 - val_loss: 0.7023\n",
      "Epoch 48/100\n",
      "50/50 - 0s - 3ms/step - accuracy: 0.5456 - loss: 0.6879 - val_accuracy: 0.4955 - val_loss: 0.7023\n",
      "Epoch 49/100\n",
      "50/50 - 0s - 3ms/step - accuracy: 0.5456 - loss: 0.6878 - val_accuracy: 0.4955 - val_loss: 0.7023\n",
      "Epoch 50/100\n",
      "50/50 - 0s - 3ms/step - accuracy: 0.5486 - loss: 0.6877 - val_accuracy: 0.4865 - val_loss: 0.7023\n",
      "Epoch 51/100\n",
      "50/50 - 0s - 3ms/step - accuracy: 0.5496 - loss: 0.6877 - val_accuracy: 0.4865 - val_loss: 0.7023\n",
      "Epoch 52/100\n",
      "50/50 - 0s - 3ms/step - accuracy: 0.5496 - loss: 0.6876 - val_accuracy: 0.4865 - val_loss: 0.7023\n",
      "Epoch 53/100\n",
      "50/50 - 0s - 3ms/step - accuracy: 0.5537 - loss: 0.6875 - val_accuracy: 0.4775 - val_loss: 0.7023\n",
      "Epoch 54/100\n",
      "50/50 - 0s - 3ms/step - accuracy: 0.5537 - loss: 0.6874 - val_accuracy: 0.4865 - val_loss: 0.7024\n",
      "Epoch 55/100\n",
      "50/50 - 0s - 3ms/step - accuracy: 0.5517 - loss: 0.6874 - val_accuracy: 0.4865 - val_loss: 0.7024\n",
      "Epoch 56/100\n",
      "50/50 - 0s - 3ms/step - accuracy: 0.5507 - loss: 0.6873 - val_accuracy: 0.4865 - val_loss: 0.7024\n",
      "Epoch 57/100\n",
      "50/50 - 0s - 3ms/step - accuracy: 0.5507 - loss: 0.6872 - val_accuracy: 0.4865 - val_loss: 0.7024\n",
      "Epoch 58/100\n",
      "50/50 - 0s - 4ms/step - accuracy: 0.5496 - loss: 0.6871 - val_accuracy: 0.4865 - val_loss: 0.7025\n",
      "Epoch 59/100\n",
      "50/50 - 0s - 4ms/step - accuracy: 0.5496 - loss: 0.6871 - val_accuracy: 0.4865 - val_loss: 0.7025\n",
      "Epoch 60/100\n",
      "50/50 - 0s - 5ms/step - accuracy: 0.5507 - loss: 0.6870 - val_accuracy: 0.4865 - val_loss: 0.7025\n",
      "Epoch 61/100\n",
      "50/50 - 0s - 3ms/step - accuracy: 0.5486 - loss: 0.6869 - val_accuracy: 0.4865 - val_loss: 0.7026\n",
      "Epoch 62/100\n",
      "50/50 - 0s - 3ms/step - accuracy: 0.5496 - loss: 0.6868 - val_accuracy: 0.4865 - val_loss: 0.7026\n",
      "Epoch 63/100\n",
      "50/50 - 0s - 3ms/step - accuracy: 0.5476 - loss: 0.6868 - val_accuracy: 0.4865 - val_loss: 0.7026\n",
      "Epoch 64/100\n",
      "50/50 - 0s - 3ms/step - accuracy: 0.5476 - loss: 0.6867 - val_accuracy: 0.4865 - val_loss: 0.7027\n",
      "Epoch 65/100\n",
      "50/50 - 0s - 3ms/step - accuracy: 0.5476 - loss: 0.6866 - val_accuracy: 0.4865 - val_loss: 0.7027\n",
      "Epoch 66/100\n",
      "50/50 - 0s - 4ms/step - accuracy: 0.5476 - loss: 0.6866 - val_accuracy: 0.4865 - val_loss: 0.7027\n",
      "Epoch 67/100\n",
      "50/50 - 0s - 3ms/step - accuracy: 0.5486 - loss: 0.6865 - val_accuracy: 0.4865 - val_loss: 0.7028\n",
      "Epoch 68/100\n",
      "50/50 - 0s - 3ms/step - accuracy: 0.5486 - loss: 0.6864 - val_accuracy: 0.4865 - val_loss: 0.7028\n",
      "Epoch 69/100\n",
      "50/50 - 0s - 3ms/step - accuracy: 0.5476 - loss: 0.6863 - val_accuracy: 0.4865 - val_loss: 0.7028\n",
      "Epoch 70/100\n",
      "50/50 - 0s - 4ms/step - accuracy: 0.5466 - loss: 0.6863 - val_accuracy: 0.4865 - val_loss: 0.7029\n",
      "Epoch 71/100\n",
      "50/50 - 0s - 4ms/step - accuracy: 0.5456 - loss: 0.6862 - val_accuracy: 0.4775 - val_loss: 0.7029\n",
      "Epoch 72/100\n",
      "50/50 - 0s - 4ms/step - accuracy: 0.5446 - loss: 0.6861 - val_accuracy: 0.4775 - val_loss: 0.7030\n",
      "Epoch 73/100\n",
      "50/50 - 0s - 3ms/step - accuracy: 0.5456 - loss: 0.6861 - val_accuracy: 0.4865 - val_loss: 0.7030\n",
      "Epoch 74/100\n",
      "50/50 - 0s - 3ms/step - accuracy: 0.5466 - loss: 0.6860 - val_accuracy: 0.4955 - val_loss: 0.7030\n",
      "Epoch 75/100\n",
      "50/50 - 0s - 3ms/step - accuracy: 0.5466 - loss: 0.6859 - val_accuracy: 0.4955 - val_loss: 0.7031\n",
      "Epoch 76/100\n",
      "50/50 - 0s - 3ms/step - accuracy: 0.5476 - loss: 0.6858 - val_accuracy: 0.4955 - val_loss: 0.7031\n",
      "Epoch 77/100\n",
      "50/50 - 0s - 3ms/step - accuracy: 0.5476 - loss: 0.6858 - val_accuracy: 0.4955 - val_loss: 0.7032\n",
      "Epoch 78/100\n",
      "50/50 - 0s - 3ms/step - accuracy: 0.5486 - loss: 0.6857 - val_accuracy: 0.4955 - val_loss: 0.7032\n",
      "Epoch 79/100\n",
      "50/50 - 0s - 3ms/step - accuracy: 0.5476 - loss: 0.6856 - val_accuracy: 0.4955 - val_loss: 0.7033\n",
      "Epoch 80/100\n",
      "50/50 - 0s - 3ms/step - accuracy: 0.5476 - loss: 0.6856 - val_accuracy: 0.4955 - val_loss: 0.7033\n",
      "Epoch 81/100\n",
      "50/50 - 0s - 3ms/step - accuracy: 0.5476 - loss: 0.6855 - val_accuracy: 0.4955 - val_loss: 0.7033\n",
      "Epoch 82/100\n",
      "50/50 - 0s - 3ms/step - accuracy: 0.5486 - loss: 0.6854 - val_accuracy: 0.4955 - val_loss: 0.7034\n",
      "Epoch 83/100\n",
      "50/50 - 0s - 3ms/step - accuracy: 0.5486 - loss: 0.6853 - val_accuracy: 0.4955 - val_loss: 0.7034\n",
      "Epoch 84/100\n",
      "50/50 - 0s - 3ms/step - accuracy: 0.5486 - loss: 0.6853 - val_accuracy: 0.4955 - val_loss: 0.7035\n",
      "Epoch 85/100\n",
      "50/50 - 0s - 3ms/step - accuracy: 0.5476 - loss: 0.6852 - val_accuracy: 0.4955 - val_loss: 0.7035\n",
      "Epoch 86/100\n",
      "50/50 - 0s - 3ms/step - accuracy: 0.5476 - loss: 0.6851 - val_accuracy: 0.4865 - val_loss: 0.7036\n",
      "Epoch 87/100\n",
      "50/50 - 0s - 3ms/step - accuracy: 0.5466 - loss: 0.6851 - val_accuracy: 0.4865 - val_loss: 0.7036\n",
      "Epoch 88/100\n",
      "50/50 - 0s - 3ms/step - accuracy: 0.5466 - loss: 0.6850 - val_accuracy: 0.4865 - val_loss: 0.7036\n",
      "Epoch 89/100\n",
      "50/50 - 0s - 3ms/step - accuracy: 0.5476 - loss: 0.6849 - val_accuracy: 0.4865 - val_loss: 0.7037\n",
      "Epoch 90/100\n",
      "50/50 - 0s - 3ms/step - accuracy: 0.5486 - loss: 0.6849 - val_accuracy: 0.4865 - val_loss: 0.7037\n",
      "Epoch 91/100\n",
      "50/50 - 0s - 3ms/step - accuracy: 0.5476 - loss: 0.6848 - val_accuracy: 0.4865 - val_loss: 0.7038\n",
      "Epoch 92/100\n",
      "50/50 - 0s - 3ms/step - accuracy: 0.5476 - loss: 0.6847 - val_accuracy: 0.4865 - val_loss: 0.7038\n",
      "Epoch 93/100\n",
      "50/50 - 0s - 3ms/step - accuracy: 0.5507 - loss: 0.6847 - val_accuracy: 0.4865 - val_loss: 0.7039\n",
      "Epoch 94/100\n",
      "50/50 - 0s - 3ms/step - accuracy: 0.5527 - loss: 0.6846 - val_accuracy: 0.4865 - val_loss: 0.7039\n",
      "Epoch 95/100\n",
      "50/50 - 0s - 3ms/step - accuracy: 0.5537 - loss: 0.6845 - val_accuracy: 0.4865 - val_loss: 0.7039\n",
      "Epoch 96/100\n",
      "50/50 - 0s - 3ms/step - accuracy: 0.5527 - loss: 0.6845 - val_accuracy: 0.4865 - val_loss: 0.7040\n",
      "Epoch 97/100\n",
      "50/50 - 0s - 3ms/step - accuracy: 0.5567 - loss: 0.6844 - val_accuracy: 0.4865 - val_loss: 0.7040\n",
      "Epoch 98/100\n",
      "50/50 - 0s - 3ms/step - accuracy: 0.5577 - loss: 0.6843 - val_accuracy: 0.4775 - val_loss: 0.7041\n",
      "Epoch 99/100\n",
      "50/50 - 0s - 3ms/step - accuracy: 0.5587 - loss: 0.6843 - val_accuracy: 0.4775 - val_loss: 0.7041\n",
      "Epoch 100/100\n",
      "50/50 - 0s - 3ms/step - accuracy: 0.5577 - loss: 0.6842 - val_accuracy: 0.4775 - val_loss: 0.7042\n"
     ]
    },
    {
     "data": {
      "text/plain": [
       "<Figure size 640x480 with 1 Axes>"
      ],
      "image/png": "[encoded data removed]"
     },
     "metadata": {},
     "output_type": "display_data"
    },
    {
     "data": {
      "text/plain": [
       "<Figure size 640x480 with 1 Axes>"
      ],
      "image/png": "[encoded data removed]"
     },
     "metadata": {},
     "output_type": "display_data"
    }
   ],
   "execution_count": 41
  },
  {
   "metadata": {
    "ExecuteTime": {
     "end_time": "2025-07-22T05:37:58.412797Z",
     "start_time": "2025-07-22T05:37:58.405729Z"
    }
   },
   "cell_type": "code",
   "source": [
    "print(max(history1.history['accuracy']*100))\n",
    "print(max(history1.history['val_accuracy']*100))"
   ],
   "id": "f221a43bf0c08abd",
   "outputs": [
    {
     "name": "stdout",
     "output_type": "stream",
     "text": [
      "0.55867600440979\n",
      "0.5315315127372742\n"
     ]
    }
   ],
   "execution_count": 42
  },
  {
   "metadata": {
    "ExecuteTime": {
     "end_time": "2025-07-22T05:37:58.571539Z",
     "start_time": "2025-07-22T05:37:58.462467Z"
    }
   },
   "cell_type": "code",
   "source": "clf1.evaluate(X_test,y_test['AdvancedFibrosis'])",
   "id": "74ba57a3662d41c1",
   "outputs": [
    {
     "name": "stdout",
     "output_type": "stream",
     "text": [
      "\u001B[1m9/9\u001B[0m \u001B[32m━━━━━━━━━━━━━━━━━━━━\u001B[0m\u001B[37m\u001B[0m \u001B[1m0s\u001B[0m 6ms/step - accuracy: 0.5552 - loss: 0.6847 \n"
     ]
    },
    {
     "data": {
      "text/plain": [
       "[0.690542459487915, 0.5415162444114685]"
      ]
     },
     "execution_count": 43,
     "metadata": {},
     "output_type": "execute_result"
    }
   ],
   "execution_count": 43
  }
 ],
 "metadata": {
  "kernelspec": {
   "display_name": "Python 3",
   "language": "python",
   "name": "python3"
  },
  "language_info": {
   "codemirror_mode": {
    "name": "ipython",
    "version": 2
   },
   "file_extension": ".py",
   "mimetype": "text/x-python",
   "name": "python",
   "nbconvert_exporter": "python",
   "pygments_lexer": "ipython2",
   "version": "2.7.6"
  }
 },
 "nbformat": 4,
 "nbformat_minor": 5
}
