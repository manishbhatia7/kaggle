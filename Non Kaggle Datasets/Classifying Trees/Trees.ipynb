{
 "cells": [
  {
   "cell_type": "code",
   "id": "initial_id",
   "metadata": {
    "collapsed": true,
    "ExecuteTime": {
     "end_time": "2025-07-21T10:13:02.401665Z",
     "start_time": "2025-07-21T10:13:02.338786Z"
    }
   },
   "source": [
    "import numpy as np\n",
    "import pandas as pd\n",
    "from win32inet import SetUrlCacheGroupAttribute\n",
    "\n",
    "X=pd.read_csv('tree_class_feats.csv')\n",
    "y=pd.read_csv('tree_class_target.csv')"
   ],
   "outputs": [],
   "execution_count": 10
  },
  {
   "metadata": {
    "ExecuteTime": {
     "end_time": "2025-07-21T10:13:02.428233Z",
     "start_time": "2025-07-21T10:13:02.420566Z"
    }
   },
   "cell_type": "code",
   "source": [
    "print(X.shape[0])\n",
    "print(y.shape[0])\n",
    "print(np.unique(y))"
   ],
   "id": "d97644abac28dc32",
   "outputs": [
    {
     "name": "stdout",
     "output_type": "stream",
     "text": [
      "10000\n",
      "10000\n",
      "[0 1]\n"
     ]
    }
   ],
   "execution_count": 11
  },
  {
   "metadata": {
    "ExecuteTime": {
     "end_time": "2025-07-21T10:13:02.476988Z",
     "start_time": "2025-07-21T10:13:02.469401Z"
    }
   },
   "cell_type": "code",
   "source": [
    "from keras.models import Sequential\n",
    "from tensorflow import random\n",
    "np.random.seed(42)\n",
    "random.set_seed(42)\n",
    "model=Sequential()"
   ],
   "id": "85a562236b7e049",
   "outputs": [],
   "execution_count": 12
  },
  {
   "metadata": {
    "ExecuteTime": {
     "end_time": "2025-07-21T10:13:02.524874Z",
     "start_time": "2025-07-21T10:13:02.502094Z"
    }
   },
   "cell_type": "code",
   "source": [
    "from keras.layers import Dense, Activation\n",
    "model.add(Dense(10, activation='tanh', input_dim=10))"
   ],
   "id": "64b7ef4a84ee3928",
   "outputs": [
    {
     "name": "stderr",
     "output_type": "stream",
     "text": [
      "D:\\anaconda3\\Lib\\site-packages\\keras\\src\\layers\\core\\dense.py:93: UserWarning: Do not pass an `input_shape`/`input_dim` argument to a layer. When using Sequential models, prefer using an `Input(shape)` object as the first layer in the model instead.\n",
      "  super().__init__(activity_regularizer=activity_regularizer, **kwargs)\n"
     ]
    }
   ],
   "execution_count": 13
  },
  {
   "metadata": {
    "ExecuteTime": {
     "end_time": "2025-07-21T10:13:02.568776Z",
     "start_time": "2025-07-21T10:13:02.549469Z"
    }
   },
   "cell_type": "code",
   "source": "model.add(Dense(5, activation='tanh'))",
   "id": "f3258006944f82eb",
   "outputs": [],
   "execution_count": 14
  },
  {
   "metadata": {
    "ExecuteTime": {
     "end_time": "2025-07-21T10:13:02.603936Z",
     "start_time": "2025-07-21T10:13:02.585922Z"
    }
   },
   "cell_type": "code",
   "source": "model.add(Dense(1, activation='sigmoid'))",
   "id": "3112ead01b2cfe84",
   "outputs": [],
   "execution_count": 15
  },
  {
   "metadata": {
    "ExecuteTime": {
     "end_time": "2025-07-21T10:13:02.650426Z",
     "start_time": "2025-07-21T10:13:02.625916Z"
    }
   },
   "cell_type": "code",
   "source": [
    "model.compile(optimizer='sgd', loss='binary_crossentropy', metrics=['accuracy'])\n",
    "model.summary()"
   ],
   "id": "66804afcedbe16bf",
   "outputs": [
    {
     "data": {
      "text/plain": [
       "\u001B[1mModel: \"sequential_1\"\u001B[0m\n"
      ],
      "text/html": [
       "<pre style=\"white-space:pre;overflow-x:auto;line-height:normal;font-family:Menlo,'DejaVu Sans Mono',consolas,'Courier New',monospace\"><span style=\"font-weight: bold\">Model: \"sequential_1\"</span>\n",
       "</pre>\n"
      ]
     },
     "metadata": {},
     "output_type": "display_data"
    },
    {
     "data": {
      "text/plain": [
       "┏━━━━━━━━━━━━━━━━━━━━━━━━━━━━━━━━━┳━━━━━━━━━━━━━━━━━━━━━━━━┳━━━━━━━━━━━━━━━┓\n",
       "┃\u001B[1m \u001B[0m\u001B[1mLayer (type)                   \u001B[0m\u001B[1m \u001B[0m┃\u001B[1m \u001B[0m\u001B[1mOutput Shape          \u001B[0m\u001B[1m \u001B[0m┃\u001B[1m \u001B[0m\u001B[1m      Param #\u001B[0m\u001B[1m \u001B[0m┃\n",
       "┡━━━━━━━━━━━━━━━━━━━━━━━━━━━━━━━━━╇━━━━━━━━━━━━━━━━━━━━━━━━╇━━━━━━━━━━━━━━━┩\n",
       "│ dense_4 (\u001B[38;5;33mDense\u001B[0m)                 │ (\u001B[38;5;45mNone\u001B[0m, \u001B[38;5;34m10\u001B[0m)             │           \u001B[38;5;34m110\u001B[0m │\n",
       "├─────────────────────────────────┼────────────────────────┼───────────────┤\n",
       "│ dense_5 (\u001B[38;5;33mDense\u001B[0m)                 │ (\u001B[38;5;45mNone\u001B[0m, \u001B[38;5;34m5\u001B[0m)              │            \u001B[38;5;34m55\u001B[0m │\n",
       "├─────────────────────────────────┼────────────────────────┼───────────────┤\n",
       "│ dense_6 (\u001B[38;5;33mDense\u001B[0m)                 │ (\u001B[38;5;45mNone\u001B[0m, \u001B[38;5;34m1\u001B[0m)              │             \u001B[38;5;34m6\u001B[0m │\n",
       "└─────────────────────────────────┴────────────────────────┴───────────────┘\n"
      ],
      "text/html": [
       "<pre style=\"white-space:pre;overflow-x:auto;line-height:normal;font-family:Menlo,'DejaVu Sans Mono',consolas,'Courier New',monospace\">┏━━━━━━━━━━━━━━━━━━━━━━━━━━━━━━━━━┳━━━━━━━━━━━━━━━━━━━━━━━━┳━━━━━━━━━━━━━━━┓\n",
       "┃<span style=\"font-weight: bold\"> Layer (type)                    </span>┃<span style=\"font-weight: bold\"> Output Shape           </span>┃<span style=\"font-weight: bold\">       Param # </span>┃\n",
       "┡━━━━━━━━━━━━━━━━━━━━━━━━━━━━━━━━━╇━━━━━━━━━━━━━━━━━━━━━━━━╇━━━━━━━━━━━━━━━┩\n",
       "│ dense_4 (<span style=\"color: #0087ff; text-decoration-color: #0087ff\">Dense</span>)                 │ (<span style=\"color: #00d7ff; text-decoration-color: #00d7ff\">None</span>, <span style=\"color: #00af00; text-decoration-color: #00af00\">10</span>)             │           <span style=\"color: #00af00; text-decoration-color: #00af00\">110</span> │\n",
       "├─────────────────────────────────┼────────────────────────┼───────────────┤\n",
       "│ dense_5 (<span style=\"color: #0087ff; text-decoration-color: #0087ff\">Dense</span>)                 │ (<span style=\"color: #00d7ff; text-decoration-color: #00d7ff\">None</span>, <span style=\"color: #00af00; text-decoration-color: #00af00\">5</span>)              │            <span style=\"color: #00af00; text-decoration-color: #00af00\">55</span> │\n",
       "├─────────────────────────────────┼────────────────────────┼───────────────┤\n",
       "│ dense_6 (<span style=\"color: #0087ff; text-decoration-color: #0087ff\">Dense</span>)                 │ (<span style=\"color: #00d7ff; text-decoration-color: #00d7ff\">None</span>, <span style=\"color: #00af00; text-decoration-color: #00af00\">1</span>)              │             <span style=\"color: #00af00; text-decoration-color: #00af00\">6</span> │\n",
       "└─────────────────────────────────┴────────────────────────┴───────────────┘\n",
       "</pre>\n"
      ]
     },
     "metadata": {},
     "output_type": "display_data"
    },
    {
     "data": {
      "text/plain": [
       "\u001B[1m Total params: \u001B[0m\u001B[38;5;34m171\u001B[0m (684.00 B)\n"
      ],
      "text/html": [
       "<pre style=\"white-space:pre;overflow-x:auto;line-height:normal;font-family:Menlo,'DejaVu Sans Mono',consolas,'Courier New',monospace\"><span style=\"font-weight: bold\"> Total params: </span><span style=\"color: #00af00; text-decoration-color: #00af00\">171</span> (684.00 B)\n",
       "</pre>\n"
      ]
     },
     "metadata": {},
     "output_type": "display_data"
    },
    {
     "data": {
      "text/plain": [
       "\u001B[1m Trainable params: \u001B[0m\u001B[38;5;34m171\u001B[0m (684.00 B)\n"
      ],
      "text/html": [
       "<pre style=\"white-space:pre;overflow-x:auto;line-height:normal;font-family:Menlo,'DejaVu Sans Mono',consolas,'Courier New',monospace\"><span style=\"font-weight: bold\"> Trainable params: </span><span style=\"color: #00af00; text-decoration-color: #00af00\">171</span> (684.00 B)\n",
       "</pre>\n"
      ]
     },
     "metadata": {},
     "output_type": "display_data"
    },
    {
     "data": {
      "text/plain": [
       "\u001B[1m Non-trainable params: \u001B[0m\u001B[38;5;34m0\u001B[0m (0.00 B)\n"
      ],
      "text/html": [
       "<pre style=\"white-space:pre;overflow-x:auto;line-height:normal;font-family:Menlo,'DejaVu Sans Mono',consolas,'Courier New',monospace\"><span style=\"font-weight: bold\"> Non-trainable params: </span><span style=\"color: #00af00; text-decoration-color: #00af00\">0</span> (0.00 B)\n",
       "</pre>\n"
      ]
     },
     "metadata": {},
     "output_type": "display_data"
    }
   ],
   "execution_count": 16
  },
  {
   "metadata": {
    "ExecuteTime": {
     "end_time": "2025-07-21T10:20:35.265750Z",
     "start_time": "2025-07-21T10:14:47.879283Z"
    }
   },
   "cell_type": "code",
   "source": "history=model.fit(X,y,epochs=100,batch_size=5,verbose=1,validation_split=0.2,shuffle=False)",
   "id": "e010534a05027c6e",
   "outputs": [
    {
     "name": "stdout",
     "output_type": "stream",
     "text": [
      "Epoch 1/100\n",
      "\u001B[1m1600/1600\u001B[0m \u001B[32m━━━━━━━━━━━━━━━━━━━━\u001B[0m\u001B[37m\u001B[0m \u001B[1m5s\u001B[0m 3ms/step - accuracy: 0.8188 - loss: 0.4173 - val_accuracy: 0.8750 - val_loss: 0.3104\n",
      "Epoch 2/100\n",
      "\u001B[1m1600/1600\u001B[0m \u001B[32m━━━━━━━━━━━━━━━━━━━━\u001B[0m\u001B[37m\u001B[0m \u001B[1m3s\u001B[0m 2ms/step - accuracy: 0.8589 - loss: 0.3269 - val_accuracy: 0.8860 - val_loss: 0.2825\n",
      "Epoch 3/100\n",
      "\u001B[1m1600/1600\u001B[0m \u001B[32m━━━━━━━━━━━━━━━━━━━━\u001B[0m\u001B[37m\u001B[0m \u001B[1m3s\u001B[0m 2ms/step - accuracy: 0.8747 - loss: 0.2993 - val_accuracy: 0.8935 - val_loss: 0.2624\n",
      "Epoch 4/100\n",
      "\u001B[1m1600/1600\u001B[0m \u001B[32m━━━━━━━━━━━━━━━━━━━━\u001B[0m\u001B[37m\u001B[0m \u001B[1m3s\u001B[0m 2ms/step - accuracy: 0.8855 - loss: 0.2751 - val_accuracy: 0.9070 - val_loss: 0.2438\n",
      "Epoch 5/100\n",
      "\u001B[1m1600/1600\u001B[0m \u001B[32m━━━━━━━━━━━━━━━━━━━━\u001B[0m\u001B[37m\u001B[0m \u001B[1m3s\u001B[0m 2ms/step - accuracy: 0.9004 - loss: 0.2534 - val_accuracy: 0.9115 - val_loss: 0.2274\n",
      "Epoch 6/100\n",
      "\u001B[1m1600/1600\u001B[0m \u001B[32m━━━━━━━━━━━━━━━━━━━━\u001B[0m\u001B[37m\u001B[0m \u001B[1m3s\u001B[0m 2ms/step - accuracy: 0.9071 - loss: 0.2355 - val_accuracy: 0.9125 - val_loss: 0.2161\n",
      "Epoch 7/100\n",
      "\u001B[1m1600/1600\u001B[0m \u001B[32m━━━━━━━━━━━━━━━━━━━━\u001B[0m\u001B[37m\u001B[0m \u001B[1m3s\u001B[0m 2ms/step - accuracy: 0.9143 - loss: 0.2233 - val_accuracy: 0.9165 - val_loss: 0.2088\n",
      "Epoch 8/100\n",
      "\u001B[1m1600/1600\u001B[0m \u001B[32m━━━━━━━━━━━━━━━━━━━━\u001B[0m\u001B[37m\u001B[0m \u001B[1m3s\u001B[0m 2ms/step - accuracy: 0.9169 - loss: 0.2155 - val_accuracy: 0.9150 - val_loss: 0.2032\n",
      "Epoch 9/100\n",
      "\u001B[1m1600/1600\u001B[0m \u001B[32m━━━━━━━━━━━━━━━━━━━━\u001B[0m\u001B[37m\u001B[0m \u001B[1m4s\u001B[0m 2ms/step - accuracy: 0.9195 - loss: 0.2099 - val_accuracy: 0.9200 - val_loss: 0.1982\n",
      "Epoch 10/100\n",
      "\u001B[1m1600/1600\u001B[0m \u001B[32m━━━━━━━━━━━━━━━━━━━━\u001B[0m\u001B[37m\u001B[0m \u001B[1m4s\u001B[0m 2ms/step - accuracy: 0.9207 - loss: 0.2055 - val_accuracy: 0.9205 - val_loss: 0.1939\n",
      "Epoch 11/100\n",
      "\u001B[1m1600/1600\u001B[0m \u001B[32m━━━━━━━━━━━━━━━━━━━━\u001B[0m\u001B[37m\u001B[0m \u001B[1m3s\u001B[0m 2ms/step - accuracy: 0.9224 - loss: 0.2017 - val_accuracy: 0.9200 - val_loss: 0.1903\n",
      "Epoch 12/100\n",
      "\u001B[1m1600/1600\u001B[0m \u001B[32m━━━━━━━━━━━━━━━━━━━━\u001B[0m\u001B[37m\u001B[0m \u001B[1m3s\u001B[0m 2ms/step - accuracy: 0.9231 - loss: 0.1986 - val_accuracy: 0.9220 - val_loss: 0.1871\n",
      "Epoch 13/100\n",
      "\u001B[1m1600/1600\u001B[0m \u001B[32m━━━━━━━━━━━━━━━━━━━━\u001B[0m\u001B[37m\u001B[0m \u001B[1m3s\u001B[0m 2ms/step - accuracy: 0.9261 - loss: 0.1962 - val_accuracy: 0.9215 - val_loss: 0.1844\n",
      "Epoch 14/100\n",
      "\u001B[1m1600/1600\u001B[0m \u001B[32m━━━━━━━━━━━━━━━━━━━━\u001B[0m\u001B[37m\u001B[0m \u001B[1m3s\u001B[0m 2ms/step - accuracy: 0.9246 - loss: 0.1942 - val_accuracy: 0.9240 - val_loss: 0.1822\n",
      "Epoch 15/100\n",
      "\u001B[1m1600/1600\u001B[0m \u001B[32m━━━━━━━━━━━━━━━━━━━━\u001B[0m\u001B[37m\u001B[0m \u001B[1m3s\u001B[0m 2ms/step - accuracy: 0.9270 - loss: 0.1925 - val_accuracy: 0.9225 - val_loss: 0.1802\n",
      "Epoch 16/100\n",
      "\u001B[1m1600/1600\u001B[0m \u001B[32m━━━━━━━━━━━━━━━━━━━━\u001B[0m\u001B[37m\u001B[0m \u001B[1m3s\u001B[0m 2ms/step - accuracy: 0.9270 - loss: 0.1910 - val_accuracy: 0.9225 - val_loss: 0.1782\n",
      "Epoch 17/100\n",
      "\u001B[1m1600/1600\u001B[0m \u001B[32m━━━━━━━━━━━━━━━━━━━━\u001B[0m\u001B[37m\u001B[0m \u001B[1m3s\u001B[0m 2ms/step - accuracy: 0.9277 - loss: 0.1897 - val_accuracy: 0.9215 - val_loss: 0.1763\n",
      "Epoch 18/100\n",
      "\u001B[1m1600/1600\u001B[0m \u001B[32m━━━━━━━━━━━━━━━━━━━━\u001B[0m\u001B[37m\u001B[0m \u001B[1m3s\u001B[0m 2ms/step - accuracy: 0.9278 - loss: 0.1886 - val_accuracy: 0.9230 - val_loss: 0.1742\n",
      "Epoch 19/100\n",
      "\u001B[1m1600/1600\u001B[0m \u001B[32m━━━━━━━━━━━━━━━━━━━━\u001B[0m\u001B[37m\u001B[0m \u001B[1m3s\u001B[0m 2ms/step - accuracy: 0.9288 - loss: 0.1876 - val_accuracy: 0.9250 - val_loss: 0.1720\n",
      "Epoch 20/100\n",
      "\u001B[1m1600/1600\u001B[0m \u001B[32m━━━━━━━━━━━━━━━━━━━━\u001B[0m\u001B[37m\u001B[0m \u001B[1m3s\u001B[0m 2ms/step - accuracy: 0.9285 - loss: 0.1865 - val_accuracy: 0.9270 - val_loss: 0.1692\n",
      "Epoch 21/100\n",
      "\u001B[1m1600/1600\u001B[0m \u001B[32m━━━━━━━━━━━━━━━━━━━━\u001B[0m\u001B[37m\u001B[0m \u001B[1m3s\u001B[0m 2ms/step - accuracy: 0.9285 - loss: 0.1850 - val_accuracy: 0.9295 - val_loss: 0.1661\n",
      "Epoch 22/100\n",
      "\u001B[1m1600/1600\u001B[0m \u001B[32m━━━━━━━━━━━━━━━━━━━━\u001B[0m\u001B[37m\u001B[0m \u001B[1m3s\u001B[0m 2ms/step - accuracy: 0.9293 - loss: 0.1829 - val_accuracy: 0.9315 - val_loss: 0.1636\n",
      "Epoch 23/100\n",
      "\u001B[1m1600/1600\u001B[0m \u001B[32m━━━━━━━━━━━━━━━━━━━━\u001B[0m\u001B[37m\u001B[0m \u001B[1m3s\u001B[0m 2ms/step - accuracy: 0.9306 - loss: 0.1807 - val_accuracy: 0.9325 - val_loss: 0.1618\n",
      "Epoch 24/100\n",
      "\u001B[1m1600/1600\u001B[0m \u001B[32m━━━━━━━━━━━━━━━━━━━━\u001B[0m\u001B[37m\u001B[0m \u001B[1m3s\u001B[0m 2ms/step - accuracy: 0.9311 - loss: 0.1792 - val_accuracy: 0.9360 - val_loss: 0.1607\n",
      "Epoch 25/100\n",
      "\u001B[1m1600/1600\u001B[0m \u001B[32m━━━━━━━━━━━━━━━━━━━━\u001B[0m\u001B[37m\u001B[0m \u001B[1m3s\u001B[0m 2ms/step - accuracy: 0.9309 - loss: 0.1782 - val_accuracy: 0.9365 - val_loss: 0.1600\n",
      "Epoch 26/100\n",
      "\u001B[1m1600/1600\u001B[0m \u001B[32m━━━━━━━━━━━━━━━━━━━━\u001B[0m\u001B[37m\u001B[0m \u001B[1m3s\u001B[0m 2ms/step - accuracy: 0.9309 - loss: 0.1773 - val_accuracy: 0.9375 - val_loss: 0.1595\n",
      "Epoch 27/100\n",
      "\u001B[1m1600/1600\u001B[0m \u001B[32m━━━━━━━━━━━━━━━━━━━━\u001B[0m\u001B[37m\u001B[0m \u001B[1m3s\u001B[0m 2ms/step - accuracy: 0.9307 - loss: 0.1767 - val_accuracy: 0.9385 - val_loss: 0.1591\n",
      "Epoch 28/100\n",
      "\u001B[1m1600/1600\u001B[0m \u001B[32m━━━━━━━━━━━━━━━━━━━━\u001B[0m\u001B[37m\u001B[0m \u001B[1m4s\u001B[0m 2ms/step - accuracy: 0.9309 - loss: 0.1760 - val_accuracy: 0.9390 - val_loss: 0.1588\n",
      "Epoch 29/100\n",
      "\u001B[1m1600/1600\u001B[0m \u001B[32m━━━━━━━━━━━━━━━━━━━━\u001B[0m\u001B[37m\u001B[0m \u001B[1m3s\u001B[0m 2ms/step - accuracy: 0.9308 - loss: 0.1755 - val_accuracy: 0.9390 - val_loss: 0.1586\n",
      "Epoch 30/100\n",
      "\u001B[1m1600/1600\u001B[0m \u001B[32m━━━━━━━━━━━━━━━━━━━━\u001B[0m\u001B[37m\u001B[0m \u001B[1m4s\u001B[0m 2ms/step - accuracy: 0.9312 - loss: 0.1749 - val_accuracy: 0.9400 - val_loss: 0.1584\n",
      "Epoch 31/100\n",
      "\u001B[1m1600/1600\u001B[0m \u001B[32m━━━━━━━━━━━━━━━━━━━━\u001B[0m\u001B[37m\u001B[0m \u001B[1m4s\u001B[0m 2ms/step - accuracy: 0.9320 - loss: 0.1743 - val_accuracy: 0.9405 - val_loss: 0.1582\n",
      "Epoch 32/100\n",
      "\u001B[1m1600/1600\u001B[0m \u001B[32m━━━━━━━━━━━━━━━━━━━━\u001B[0m\u001B[37m\u001B[0m \u001B[1m4s\u001B[0m 2ms/step - accuracy: 0.9313 - loss: 0.1737 - val_accuracy: 0.9400 - val_loss: 0.1581\n",
      "Epoch 33/100\n",
      "\u001B[1m1600/1600\u001B[0m \u001B[32m━━━━━━━━━━━━━━━━━━━━\u001B[0m\u001B[37m\u001B[0m \u001B[1m4s\u001B[0m 2ms/step - accuracy: 0.9320 - loss: 0.1731 - val_accuracy: 0.9390 - val_loss: 0.1580\n",
      "Epoch 34/100\n",
      "\u001B[1m1600/1600\u001B[0m \u001B[32m━━━━━━━━━━━━━━━━━━━━\u001B[0m\u001B[37m\u001B[0m \u001B[1m5s\u001B[0m 3ms/step - accuracy: 0.9325 - loss: 0.1725 - val_accuracy: 0.9390 - val_loss: 0.1580\n",
      "Epoch 35/100\n",
      "\u001B[1m1600/1600\u001B[0m \u001B[32m━━━━━━━━━━━━━━━━━━━━\u001B[0m\u001B[37m\u001B[0m \u001B[1m4s\u001B[0m 2ms/step - accuracy: 0.9328 - loss: 0.1720 - val_accuracy: 0.9395 - val_loss: 0.1580\n",
      "Epoch 36/100\n",
      "\u001B[1m1600/1600\u001B[0m \u001B[32m━━━━━━━━━━━━━━━━━━━━\u001B[0m\u001B[37m\u001B[0m \u001B[1m4s\u001B[0m 3ms/step - accuracy: 0.9334 - loss: 0.1715 - val_accuracy: 0.9400 - val_loss: 0.1580\n",
      "Epoch 37/100\n",
      "\u001B[1m1600/1600\u001B[0m \u001B[32m━━━━━━━━━━━━━━━━━━━━\u001B[0m\u001B[37m\u001B[0m \u001B[1m4s\u001B[0m 3ms/step - accuracy: 0.9341 - loss: 0.1710 - val_accuracy: 0.9400 - val_loss: 0.1579\n",
      "Epoch 38/100\n",
      "\u001B[1m1600/1600\u001B[0m \u001B[32m━━━━━━━━━━━━━━━━━━━━\u001B[0m\u001B[37m\u001B[0m \u001B[1m5s\u001B[0m 3ms/step - accuracy: 0.9344 - loss: 0.1705 - val_accuracy: 0.9415 - val_loss: 0.1578\n",
      "Epoch 39/100\n",
      "\u001B[1m1600/1600\u001B[0m \u001B[32m━━━━━━━━━━━━━━━━━━━━\u001B[0m\u001B[37m\u001B[0m \u001B[1m4s\u001B[0m 3ms/step - accuracy: 0.9350 - loss: 0.1701 - val_accuracy: 0.9410 - val_loss: 0.1577\n",
      "Epoch 40/100\n",
      "\u001B[1m1600/1600\u001B[0m \u001B[32m━━━━━━━━━━━━━━━━━━━━\u001B[0m\u001B[37m\u001B[0m \u001B[1m5s\u001B[0m 3ms/step - accuracy: 0.9356 - loss: 0.1696 - val_accuracy: 0.9415 - val_loss: 0.1575\n",
      "Epoch 41/100\n",
      "\u001B[1m1600/1600\u001B[0m \u001B[32m━━━━━━━━━━━━━━━━━━━━\u001B[0m\u001B[37m\u001B[0m \u001B[1m4s\u001B[0m 3ms/step - accuracy: 0.9357 - loss: 0.1693 - val_accuracy: 0.9430 - val_loss: 0.1571\n",
      "Epoch 42/100\n",
      "\u001B[1m1600/1600\u001B[0m \u001B[32m━━━━━━━━━━━━━━━━━━━━\u001B[0m\u001B[37m\u001B[0m \u001B[1m4s\u001B[0m 3ms/step - accuracy: 0.9358 - loss: 0.1689 - val_accuracy: 0.9425 - val_loss: 0.1566\n",
      "Epoch 43/100\n",
      "\u001B[1m1600/1600\u001B[0m \u001B[32m━━━━━━━━━━━━━━━━━━━━\u001B[0m\u001B[37m\u001B[0m \u001B[1m4s\u001B[0m 2ms/step - accuracy: 0.9359 - loss: 0.1688 - val_accuracy: 0.9415 - val_loss: 0.1564\n",
      "Epoch 44/100\n",
      "\u001B[1m1600/1600\u001B[0m \u001B[32m━━━━━━━━━━━━━━━━━━━━\u001B[0m\u001B[37m\u001B[0m \u001B[1m3s\u001B[0m 2ms/step - accuracy: 0.9349 - loss: 0.1688 - val_accuracy: 0.9435 - val_loss: 0.1564\n",
      "Epoch 45/100\n",
      "\u001B[1m1600/1600\u001B[0m \u001B[32m━━━━━━━━━━━━━━━━━━━━\u001B[0m\u001B[37m\u001B[0m \u001B[1m3s\u001B[0m 2ms/step - accuracy: 0.9356 - loss: 0.1686 - val_accuracy: 0.9450 - val_loss: 0.1564\n",
      "Epoch 46/100\n",
      "\u001B[1m1600/1600\u001B[0m \u001B[32m━━━━━━━━━━━━━━━━━━━━\u001B[0m\u001B[37m\u001B[0m \u001B[1m3s\u001B[0m 2ms/step - accuracy: 0.9358 - loss: 0.1682 - val_accuracy: 0.9455 - val_loss: 0.1564\n",
      "Epoch 47/100\n",
      "\u001B[1m1600/1600\u001B[0m \u001B[32m━━━━━━━━━━━━━━━━━━━━\u001B[0m\u001B[37m\u001B[0m \u001B[1m4s\u001B[0m 2ms/step - accuracy: 0.9366 - loss: 0.1677 - val_accuracy: 0.9460 - val_loss: 0.1563\n",
      "Epoch 48/100\n",
      "\u001B[1m1600/1600\u001B[0m \u001B[32m━━━━━━━━━━━━━━━━━━━━\u001B[0m\u001B[37m\u001B[0m \u001B[1m4s\u001B[0m 2ms/step - accuracy: 0.9368 - loss: 0.1673 - val_accuracy: 0.9465 - val_loss: 0.1563\n",
      "Epoch 49/100\n",
      "\u001B[1m1600/1600\u001B[0m \u001B[32m━━━━━━━━━━━━━━━━━━━━\u001B[0m\u001B[37m\u001B[0m \u001B[1m4s\u001B[0m 2ms/step - accuracy: 0.9373 - loss: 0.1669 - val_accuracy: 0.9465 - val_loss: 0.1563\n",
      "Epoch 50/100\n",
      "\u001B[1m1600/1600\u001B[0m \u001B[32m━━━━━━━━━━━━━━━━━━━━\u001B[0m\u001B[37m\u001B[0m \u001B[1m4s\u001B[0m 3ms/step - accuracy: 0.9379 - loss: 0.1666 - val_accuracy: 0.9465 - val_loss: 0.1563\n",
      "Epoch 51/100\n",
      "\u001B[1m1600/1600\u001B[0m \u001B[32m━━━━━━━━━━━━━━━━━━━━\u001B[0m\u001B[37m\u001B[0m \u001B[1m4s\u001B[0m 2ms/step - accuracy: 0.9370 - loss: 0.1662 - val_accuracy: 0.9460 - val_loss: 0.1563\n",
      "Epoch 52/100\n",
      "\u001B[1m1600/1600\u001B[0m \u001B[32m━━━━━━━━━━━━━━━━━━━━\u001B[0m\u001B[37m\u001B[0m \u001B[1m4s\u001B[0m 2ms/step - accuracy: 0.9369 - loss: 0.1659 - val_accuracy: 0.9450 - val_loss: 0.1563\n",
      "Epoch 53/100\n",
      "\u001B[1m1600/1600\u001B[0m \u001B[32m━━━━━━━━━━━━━━━━━━━━\u001B[0m\u001B[37m\u001B[0m \u001B[1m4s\u001B[0m 2ms/step - accuracy: 0.9371 - loss: 0.1656 - val_accuracy: 0.9445 - val_loss: 0.1563\n",
      "Epoch 54/100\n",
      "\u001B[1m1600/1600\u001B[0m \u001B[32m━━━━━━━━━━━━━━━━━━━━\u001B[0m\u001B[37m\u001B[0m \u001B[1m4s\u001B[0m 2ms/step - accuracy: 0.9371 - loss: 0.1654 - val_accuracy: 0.9455 - val_loss: 0.1562\n",
      "Epoch 55/100\n",
      "\u001B[1m1600/1600\u001B[0m \u001B[32m━━━━━━━━━━━━━━━━━━━━\u001B[0m\u001B[37m\u001B[0m \u001B[1m4s\u001B[0m 2ms/step - accuracy: 0.9371 - loss: 0.1651 - val_accuracy: 0.9455 - val_loss: 0.1562\n",
      "Epoch 56/100\n",
      "\u001B[1m1600/1600\u001B[0m \u001B[32m━━━━━━━━━━━━━━━━━━━━\u001B[0m\u001B[37m\u001B[0m \u001B[1m4s\u001B[0m 2ms/step - accuracy: 0.9374 - loss: 0.1649 - val_accuracy: 0.9455 - val_loss: 0.1562\n",
      "Epoch 57/100\n",
      "\u001B[1m1600/1600\u001B[0m \u001B[32m━━━━━━━━━━━━━━━━━━━━\u001B[0m\u001B[37m\u001B[0m \u001B[1m4s\u001B[0m 2ms/step - accuracy: 0.9375 - loss: 0.1646 - val_accuracy: 0.9460 - val_loss: 0.1562\n",
      "Epoch 58/100\n",
      "\u001B[1m1600/1600\u001B[0m \u001B[32m━━━━━━━━━━━━━━━━━━━━\u001B[0m\u001B[37m\u001B[0m \u001B[1m3s\u001B[0m 2ms/step - accuracy: 0.9370 - loss: 0.1644 - val_accuracy: 0.9460 - val_loss: 0.1562\n",
      "Epoch 59/100\n",
      "\u001B[1m1600/1600\u001B[0m \u001B[32m━━━━━━━━━━━━━━━━━━━━\u001B[0m\u001B[37m\u001B[0m \u001B[1m4s\u001B[0m 3ms/step - accuracy: 0.9368 - loss: 0.1642 - val_accuracy: 0.9465 - val_loss: 0.1563\n",
      "Epoch 60/100\n",
      "\u001B[1m1600/1600\u001B[0m \u001B[32m━━━━━━━━━━━━━━━━━━━━\u001B[0m\u001B[37m\u001B[0m \u001B[1m4s\u001B[0m 3ms/step - accuracy: 0.9368 - loss: 0.1640 - val_accuracy: 0.9455 - val_loss: 0.1563\n",
      "Epoch 61/100\n",
      "\u001B[1m1600/1600\u001B[0m \u001B[32m━━━━━━━━━━━━━━━━━━━━\u001B[0m\u001B[37m\u001B[0m \u001B[1m3s\u001B[0m 2ms/step - accuracy: 0.9372 - loss: 0.1639 - val_accuracy: 0.9455 - val_loss: 0.1563\n",
      "Epoch 62/100\n",
      "\u001B[1m1600/1600\u001B[0m \u001B[32m━━━━━━━━━━━━━━━━━━━━\u001B[0m\u001B[37m\u001B[0m \u001B[1m3s\u001B[0m 2ms/step - accuracy: 0.9374 - loss: 0.1637 - val_accuracy: 0.9455 - val_loss: 0.1563\n",
      "Epoch 63/100\n",
      "\u001B[1m1600/1600\u001B[0m \u001B[32m━━━━━━━━━━━━━━━━━━━━\u001B[0m\u001B[37m\u001B[0m \u001B[1m3s\u001B[0m 2ms/step - accuracy: 0.9371 - loss: 0.1635 - val_accuracy: 0.9455 - val_loss: 0.1563\n",
      "Epoch 64/100\n",
      "\u001B[1m1600/1600\u001B[0m \u001B[32m━━━━━━━━━━━━━━━━━━━━\u001B[0m\u001B[37m\u001B[0m \u001B[1m3s\u001B[0m 2ms/step - accuracy: 0.9373 - loss: 0.1634 - val_accuracy: 0.9455 - val_loss: 0.1563\n",
      "Epoch 65/100\n",
      "\u001B[1m1600/1600\u001B[0m \u001B[32m━━━━━━━━━━━━━━━━━━━━\u001B[0m\u001B[37m\u001B[0m \u001B[1m3s\u001B[0m 2ms/step - accuracy: 0.9376 - loss: 0.1632 - val_accuracy: 0.9455 - val_loss: 0.1563\n",
      "Epoch 66/100\n",
      "\u001B[1m1600/1600\u001B[0m \u001B[32m━━━━━━━━━━━━━━━━━━━━\u001B[0m\u001B[37m\u001B[0m \u001B[1m3s\u001B[0m 2ms/step - accuracy: 0.9379 - loss: 0.1631 - val_accuracy: 0.9450 - val_loss: 0.1564\n",
      "Epoch 67/100\n",
      "\u001B[1m1600/1600\u001B[0m \u001B[32m━━━━━━━━━━━━━━━━━━━━\u001B[0m\u001B[37m\u001B[0m \u001B[1m3s\u001B[0m 2ms/step - accuracy: 0.9381 - loss: 0.1630 - val_accuracy: 0.9445 - val_loss: 0.1564\n",
      "Epoch 68/100\n",
      "\u001B[1m1600/1600\u001B[0m \u001B[32m━━━━━━━━━━━━━━━━━━━━\u001B[0m\u001B[37m\u001B[0m \u001B[1m3s\u001B[0m 2ms/step - accuracy: 0.9387 - loss: 0.1628 - val_accuracy: 0.9445 - val_loss: 0.1564\n",
      "Epoch 69/100\n",
      "\u001B[1m1600/1600\u001B[0m \u001B[32m━━━━━━━━━━━━━━━━━━━━\u001B[0m\u001B[37m\u001B[0m \u001B[1m4s\u001B[0m 2ms/step - accuracy: 0.9383 - loss: 0.1627 - val_accuracy: 0.9445 - val_loss: 0.1564\n",
      "Epoch 70/100\n",
      "\u001B[1m1600/1600\u001B[0m \u001B[32m━━━━━━━━━━━━━━━━━━━━\u001B[0m\u001B[37m\u001B[0m \u001B[1m4s\u001B[0m 2ms/step - accuracy: 0.9383 - loss: 0.1626 - val_accuracy: 0.9440 - val_loss: 0.1565\n",
      "Epoch 71/100\n",
      "\u001B[1m1600/1600\u001B[0m \u001B[32m━━━━━━━━━━━━━━━━━━━━\u001B[0m\u001B[37m\u001B[0m \u001B[1m4s\u001B[0m 2ms/step - accuracy: 0.9383 - loss: 0.1625 - val_accuracy: 0.9440 - val_loss: 0.1565\n",
      "Epoch 72/100\n",
      "\u001B[1m1600/1600\u001B[0m \u001B[32m━━━━━━━━━━━━━━━━━━━━\u001B[0m\u001B[37m\u001B[0m \u001B[1m3s\u001B[0m 2ms/step - accuracy: 0.9380 - loss: 0.1624 - val_accuracy: 0.9445 - val_loss: 0.1565\n",
      "Epoch 73/100\n",
      "\u001B[1m1600/1600\u001B[0m \u001B[32m━━━━━━━━━━━━━━━━━━━━\u001B[0m\u001B[37m\u001B[0m \u001B[1m3s\u001B[0m 2ms/step - accuracy: 0.9376 - loss: 0.1623 - val_accuracy: 0.9440 - val_loss: 0.1566\n",
      "Epoch 74/100\n",
      "\u001B[1m1600/1600\u001B[0m \u001B[32m━━━━━━━━━━━━━━━━━━━━\u001B[0m\u001B[37m\u001B[0m \u001B[1m3s\u001B[0m 2ms/step - accuracy: 0.9371 - loss: 0.1622 - val_accuracy: 0.9440 - val_loss: 0.1566\n",
      "Epoch 75/100\n",
      "\u001B[1m1600/1600\u001B[0m \u001B[32m━━━━━━━━━━━━━━━━━━━━\u001B[0m\u001B[37m\u001B[0m \u001B[1m3s\u001B[0m 2ms/step - accuracy: 0.9371 - loss: 0.1621 - val_accuracy: 0.9440 - val_loss: 0.1566\n",
      "Epoch 76/100\n",
      "\u001B[1m1600/1600\u001B[0m \u001B[32m━━━━━━━━━━━━━━━━━━━━\u001B[0m\u001B[37m\u001B[0m \u001B[1m3s\u001B[0m 2ms/step - accuracy: 0.9374 - loss: 0.1621 - val_accuracy: 0.9435 - val_loss: 0.1567\n",
      "Epoch 77/100\n",
      "\u001B[1m1600/1600\u001B[0m \u001B[32m━━━━━━━━━━━━━━━━━━━━\u001B[0m\u001B[37m\u001B[0m \u001B[1m3s\u001B[0m 2ms/step - accuracy: 0.9373 - loss: 0.1620 - val_accuracy: 0.9425 - val_loss: 0.1567\n",
      "Epoch 78/100\n",
      "\u001B[1m1600/1600\u001B[0m \u001B[32m━━━━━━━━━━━━━━━━━━━━\u001B[0m\u001B[37m\u001B[0m \u001B[1m3s\u001B[0m 2ms/step - accuracy: 0.9374 - loss: 0.1619 - val_accuracy: 0.9425 - val_loss: 0.1568\n",
      "Epoch 79/100\n",
      "\u001B[1m1600/1600\u001B[0m \u001B[32m━━━━━━━━━━━━━━━━━━━━\u001B[0m\u001B[37m\u001B[0m \u001B[1m3s\u001B[0m 2ms/step - accuracy: 0.9378 - loss: 0.1618 - val_accuracy: 0.9425 - val_loss: 0.1568\n",
      "Epoch 80/100\n",
      "\u001B[1m1600/1600\u001B[0m \u001B[32m━━━━━━━━━━━━━━━━━━━━\u001B[0m\u001B[37m\u001B[0m \u001B[1m3s\u001B[0m 2ms/step - accuracy: 0.9381 - loss: 0.1617 - val_accuracy: 0.9430 - val_loss: 0.1569\n",
      "Epoch 81/100\n",
      "\u001B[1m1600/1600\u001B[0m \u001B[32m━━━━━━━━━━━━━━━━━━━━\u001B[0m\u001B[37m\u001B[0m \u001B[1m4s\u001B[0m 3ms/step - accuracy: 0.9381 - loss: 0.1617 - val_accuracy: 0.9430 - val_loss: 0.1569\n",
      "Epoch 82/100\n",
      "\u001B[1m1600/1600\u001B[0m \u001B[32m━━━━━━━━━━━━━━━━━━━━\u001B[0m\u001B[37m\u001B[0m \u001B[1m3s\u001B[0m 2ms/step - accuracy: 0.9383 - loss: 0.1616 - val_accuracy: 0.9435 - val_loss: 0.1570\n",
      "Epoch 83/100\n",
      "\u001B[1m1600/1600\u001B[0m \u001B[32m━━━━━━━━━━━━━━━━━━━━\u001B[0m\u001B[37m\u001B[0m \u001B[1m3s\u001B[0m 2ms/step - accuracy: 0.9383 - loss: 0.1615 - val_accuracy: 0.9430 - val_loss: 0.1570\n",
      "Epoch 84/100\n",
      "\u001B[1m1600/1600\u001B[0m \u001B[32m━━━━━━━━━━━━━━━━━━━━\u001B[0m\u001B[37m\u001B[0m \u001B[1m3s\u001B[0m 2ms/step - accuracy: 0.9382 - loss: 0.1614 - val_accuracy: 0.9430 - val_loss: 0.1571\n",
      "Epoch 85/100\n",
      "\u001B[1m1600/1600\u001B[0m \u001B[32m━━━━━━━━━━━━━━━━━━━━\u001B[0m\u001B[37m\u001B[0m \u001B[1m3s\u001B[0m 2ms/step - accuracy: 0.9382 - loss: 0.1614 - val_accuracy: 0.9435 - val_loss: 0.1571\n",
      "Epoch 86/100\n",
      "\u001B[1m1600/1600\u001B[0m \u001B[32m━━━━━━━━━━━━━━━━━━━━\u001B[0m\u001B[37m\u001B[0m \u001B[1m3s\u001B[0m 2ms/step - accuracy: 0.9382 - loss: 0.1613 - val_accuracy: 0.9440 - val_loss: 0.1572\n",
      "Epoch 87/100\n",
      "\u001B[1m1600/1600\u001B[0m \u001B[32m━━━━━━━━━━━━━━━━━━━━\u001B[0m\u001B[37m\u001B[0m \u001B[1m3s\u001B[0m 2ms/step - accuracy: 0.9382 - loss: 0.1612 - val_accuracy: 0.9440 - val_loss: 0.1573\n",
      "Epoch 88/100\n",
      "\u001B[1m1600/1600\u001B[0m \u001B[32m━━━━━━━━━━━━━━━━━━━━\u001B[0m\u001B[37m\u001B[0m \u001B[1m3s\u001B[0m 2ms/step - accuracy: 0.9382 - loss: 0.1612 - val_accuracy: 0.9435 - val_loss: 0.1573\n",
      "Epoch 89/100\n",
      "\u001B[1m1600/1600\u001B[0m \u001B[32m━━━━━━━━━━━━━━━━━━━━\u001B[0m\u001B[37m\u001B[0m \u001B[1m3s\u001B[0m 2ms/step - accuracy: 0.9382 - loss: 0.1611 - val_accuracy: 0.9430 - val_loss: 0.1574\n",
      "Epoch 90/100\n",
      "\u001B[1m1600/1600\u001B[0m \u001B[32m━━━━━━━━━━━━━━━━━━━━\u001B[0m\u001B[37m\u001B[0m \u001B[1m3s\u001B[0m 2ms/step - accuracy: 0.9387 - loss: 0.1611 - val_accuracy: 0.9425 - val_loss: 0.1575\n",
      "Epoch 91/100\n",
      "\u001B[1m1600/1600\u001B[0m \u001B[32m━━━━━━━━━━━━━━━━━━━━\u001B[0m\u001B[37m\u001B[0m \u001B[1m3s\u001B[0m 2ms/step - accuracy: 0.9389 - loss: 0.1610 - val_accuracy: 0.9425 - val_loss: 0.1576\n",
      "Epoch 92/100\n",
      "\u001B[1m1600/1600\u001B[0m \u001B[32m━━━━━━━━━━━━━━━━━━━━\u001B[0m\u001B[37m\u001B[0m \u001B[1m3s\u001B[0m 2ms/step - accuracy: 0.9394 - loss: 0.1609 - val_accuracy: 0.9425 - val_loss: 0.1576\n",
      "Epoch 93/100\n",
      "\u001B[1m1600/1600\u001B[0m \u001B[32m━━━━━━━━━━━━━━━━━━━━\u001B[0m\u001B[37m\u001B[0m \u001B[1m3s\u001B[0m 2ms/step - accuracy: 0.9395 - loss: 0.1609 - val_accuracy: 0.9425 - val_loss: 0.1577\n",
      "Epoch 94/100\n",
      "\u001B[1m1600/1600\u001B[0m \u001B[32m━━━━━━━━━━━━━━━━━━━━\u001B[0m\u001B[37m\u001B[0m \u001B[1m3s\u001B[0m 2ms/step - accuracy: 0.9396 - loss: 0.1608 - val_accuracy: 0.9430 - val_loss: 0.1578\n",
      "Epoch 95/100\n",
      "\u001B[1m1600/1600\u001B[0m \u001B[32m━━━━━━━━━━━━━━━━━━━━\u001B[0m\u001B[37m\u001B[0m \u001B[1m3s\u001B[0m 2ms/step - accuracy: 0.9394 - loss: 0.1608 - val_accuracy: 0.9430 - val_loss: 0.1579\n",
      "Epoch 96/100\n",
      "\u001B[1m1600/1600\u001B[0m \u001B[32m━━━━━━━━━━━━━━━━━━━━\u001B[0m\u001B[37m\u001B[0m \u001B[1m3s\u001B[0m 2ms/step - accuracy: 0.9390 - loss: 0.1607 - val_accuracy: 0.9430 - val_loss: 0.1579\n",
      "Epoch 97/100\n",
      "\u001B[1m1600/1600\u001B[0m \u001B[32m━━━━━━━━━━━━━━━━━━━━\u001B[0m\u001B[37m\u001B[0m \u001B[1m3s\u001B[0m 2ms/step - accuracy: 0.9390 - loss: 0.1607 - val_accuracy: 0.9430 - val_loss: 0.1580\n",
      "Epoch 98/100\n",
      "\u001B[1m1600/1600\u001B[0m \u001B[32m━━━━━━━━━━━━━━━━━━━━\u001B[0m\u001B[37m\u001B[0m \u001B[1m3s\u001B[0m 2ms/step - accuracy: 0.9385 - loss: 0.1606 - val_accuracy: 0.9430 - val_loss: 0.1581\n",
      "Epoch 99/100\n",
      "\u001B[1m1600/1600\u001B[0m \u001B[32m━━━━━━━━━━━━━━━━━━━━\u001B[0m\u001B[37m\u001B[0m \u001B[1m3s\u001B[0m 2ms/step - accuracy: 0.9385 - loss: 0.1606 - val_accuracy: 0.9435 - val_loss: 0.1582\n",
      "Epoch 100/100\n",
      "\u001B[1m1600/1600\u001B[0m \u001B[32m━━━━━━━━━━━━━━━━━━━━\u001B[0m\u001B[37m\u001B[0m \u001B[1m3s\u001B[0m 2ms/step - accuracy: 0.9390 - loss: 0.1605 - val_accuracy: 0.9440 - val_loss: 0.1582\n"
     ]
    }
   ],
   "execution_count": 17
  },
  {
   "metadata": {
    "ExecuteTime": {
     "end_time": "2025-07-21T10:41:45.913067Z",
     "start_time": "2025-07-21T10:41:44.744964Z"
    }
   },
   "cell_type": "code",
   "source": [
    "import matplotlib.pyplot as plt\n",
    "%matplotlib inline\n",
    "plt.subplot(211)\n",
    "plt.plot(history.history['accuracy'])\n",
    "plt.plot(history.history['val_accuracy'])\n",
    "plt.title('Model Accuracy')\n",
    "plt.xlabel('Epoch')\n",
    "plt.ylabel('Accuracy')\n",
    "plt.legend(['Train', 'Validation'],loc='upper left')\n",
    "plt.show()\n"
   ],
   "id": "5005be828bd1a8dd",
   "outputs": [
    {
     "data": {
      "text/plain": [
       "<Figure size 640x480 with 1 Axes>"
      ],
      "image/png": "[encoded data removed]"
     },
     "metadata": {},
     "output_type": "display_data"
    }
   ],
   "execution_count": 20
  },
  {
   "metadata": {
    "ExecuteTime": {
     "end_time": "2025-07-21T10:44:06.498602Z",
     "start_time": "2025-07-21T10:44:06.346595Z"
    }
   },
   "cell_type": "code",
   "source": [
    "y_predicted=model.predict(X.iloc[0:10,:])\n",
    "print(\"Predicted probability for each of the \"\\\n",
    "\"examples belonging to class 1: \"),print(y_predicted)\n",
    "print(\"Predicted class label for each of the examples: \"),\n",
    "print(np.round(y_predicted))"
   ],
   "id": "67209115f944a9b9",
   "outputs": [
    {
     "name": "stdout",
     "output_type": "stream",
     "text": [
      "\u001B[1m1/1\u001B[0m \u001B[32m━━━━━━━━━━━━━━━━━━━━\u001B[0m\u001B[37m\u001B[0m \u001B[1m0s\u001B[0m 96ms/step\n",
      "Predicted probability for each of the examples belonging to class 1: \n",
      "[[0.00282162]\n",
      " [0.14117081]\n",
      " [0.00308369]\n",
      " [0.78951246]\n",
      " [0.94039124]\n",
      " [0.0029227 ]\n",
      " [0.78218955]\n",
      " [0.00411382]\n",
      " [0.00165187]\n",
      " [0.9951181 ]]\n",
      "Predicted class label for each of the examples: \n",
      "[[0.]\n",
      " [0.]\n",
      " [0.]\n",
      " [1.]\n",
      " [1.]\n",
      " [0.]\n",
      " [1.]\n",
      " [0.]\n",
      " [0.]\n",
      " [1.]]\n"
     ]
    }
   ],
   "execution_count": 21
  }
 ],
 "metadata": {
  "kernelspec": {
   "display_name": "Python 3",
   "language": "python",
   "name": "python3"
  },
  "language_info": {
   "codemirror_mode": {
    "name": "ipython",
    "version": 2
   },
   "file_extension": ".py",
   "mimetype": "text/x-python",
   "name": "python",
   "nbconvert_exporter": "python",
   "pygments_lexer": "ipython2",
   "version": "2.7.6"
  }
 },
 "nbformat": 4,
 "nbformat_minor": 5
}
